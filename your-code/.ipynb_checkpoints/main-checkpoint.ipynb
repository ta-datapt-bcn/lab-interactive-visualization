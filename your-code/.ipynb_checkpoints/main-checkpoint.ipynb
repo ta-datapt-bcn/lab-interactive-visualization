{
 "cells": [
  {
   "cell_type": "markdown",
   "metadata": {
    "toc": true
   },
   "source": [
    "<h1>Table of Contents<span class=\"tocSkip\"></span></h1>\n",
    "<div class=\"toc\"><ul class=\"toc-item\"><li><span><a href=\"#Interactive-Visualization-Lab\" data-toc-modified-id=\"Interactive-Visualization-Lab-1\"><span class=\"toc-item-num\">1&nbsp;&nbsp;</span>Interactive Visualization Lab</a></span><ul class=\"toc-item\"><li><span><a href=\"#1.-Create-an-interactive-bar-chart-showing-total-quantity-and-revenue-by-country-(excluding-United-Kingdom)-for-the-month-of-April-2011.\" data-toc-modified-id=\"1.-Create-an-interactive-bar-chart-showing-total-quantity-and-revenue-by-country-(excluding-United-Kingdom)-for-the-month-of-April-2011.-1.1\"><span class=\"toc-item-num\">1.1&nbsp;&nbsp;</span>1. Create an interactive bar chart showing total quantity and revenue by country (excluding United Kingdom) for the month of April 2011.</a></span></li><li><span><a href=\"#2.-Create-an-interactive-line-chart-showing-quantity-and-revenue-sold-to-France-between-January-1st-and-May-31st-2011.\" data-toc-modified-id=\"2.-Create-an-interactive-line-chart-showing-quantity-and-revenue-sold-to-France-between-January-1st-and-May-31st-2011.-1.2\"><span class=\"toc-item-num\">1.2&nbsp;&nbsp;</span>2. Create an interactive line chart showing quantity and revenue sold to France between January 1st and May 31st 2011.</a></span></li><li><span><a href=\"#3.-Create-an-interactive-scatter-plot-showing-the-relationship-between-average-quantity-(x-axis)-and-average-unit-price-(y-axis)-for-the-product-PARTY-BUNTING-with-the-plot-points-color-coded-by-country-(categories).\" data-toc-modified-id=\"3.-Create-an-interactive-scatter-plot-showing-the-relationship-between-average-quantity-(x-axis)-and-average-unit-price-(y-axis)-for-the-product-PARTY-BUNTING-with-the-plot-points-color-coded-by-country-(categories).-1.3\"><span class=\"toc-item-num\">1.3&nbsp;&nbsp;</span>3. Create an interactive scatter plot showing the relationship between average quantity (x-axis) and average unit price (y-axis) for the product PARTY BUNTING with the plot points color-coded by country (categories).</a></span></li><li><span><a href=\"#4.-Create-a-set-of-interactive-histograms-showing-the-distributions-of-quantity-per-invoice-for-the-following-countries:-EIRE,-Germany,-France,-and-Netherlands.\" data-toc-modified-id=\"4.-Create-a-set-of-interactive-histograms-showing-the-distributions-of-quantity-per-invoice-for-the-following-countries:-EIRE,-Germany,-France,-and-Netherlands.-1.4\"><span class=\"toc-item-num\">1.4&nbsp;&nbsp;</span>4. Create a set of interactive histograms showing the distributions of quantity per invoice for the following countries: EIRE, Germany, France, and Netherlands.</a></span></li><li><span><a href=\"#5.-Create-an-interactive-side-by-side-bar-chart-showing-the-revenue-by-country-listed-below-(bars)-for-each-of-the-products-listed-below.\" data-toc-modified-id=\"5.-Create-an-interactive-side-by-side-bar-chart-showing-the-revenue-by-country-listed-below-(bars)-for-each-of-the-products-listed-below.-1.5\"><span class=\"toc-item-num\">1.5&nbsp;&nbsp;</span>5. Create an interactive side-by-side bar chart showing the revenue by country listed below (bars) for each of the products listed below.</a></span></li><li><span><a href=\"#6.-Create-an-interactive-line-chart-showing-quantity-sold-by-day-for-the-United-Kingdom.-Add-drop-down-boxes-for-Year-and-Month-that-allow-you-to-filter-the-date-range-that-appears-in-the-chart.\" data-toc-modified-id=\"6.-Create-an-interactive-line-chart-showing-quantity-sold-by-day-for-the-United-Kingdom.-Add-drop-down-boxes-for-Year-and-Month-that-allow-you-to-filter-the-date-range-that-appears-in-the-chart.-1.6\"><span class=\"toc-item-num\">1.6&nbsp;&nbsp;</span>6. Create an interactive line chart showing quantity sold by day for the United Kingdom. Add drop-down boxes for Year and Month that allow you to filter the date range that appears in the chart.</a></span></li><li><span><a href=\"#7.-Create-an-interactive-scatter-plot-that-plots-number-of-invoices-(x-axis)-vs.-number-of-customers-(y-axis)-and-the-plot-points-represent-individual-products.-Add-two-sliders-that-control-the-x-and-y-axis-ranges.\" data-toc-modified-id=\"7.-Create-an-interactive-scatter-plot-that-plots-number-of-invoices-(x-axis)-vs.-number-of-customers-(y-axis)-and-the-plot-points-represent-individual-products.-Add-two-sliders-that-control-the-x-and-y-axis-ranges.-1.7\"><span class=\"toc-item-num\">1.7&nbsp;&nbsp;</span>7. Create an interactive scatter plot that plots number of invoices (x-axis) vs. number of customers (y-axis) and the plot points represent individual products. Add two sliders that control the x and y axis ranges.</a></span></li><li><span><a href=\"#8.-Creat-an-interactive-bar-chart-that-shows-revenue-by-product-description.-Add-a-text-field-widget-that-filters-the-results-to-show-the-product-that-contain-the-text-entered-in-their-description.\" data-toc-modified-id=\"8.-Creat-an-interactive-bar-chart-that-shows-revenue-by-product-description.-Add-a-text-field-widget-that-filters-the-results-to-show-the-product-that-contain-the-text-entered-in-their-description.-1.8\"><span class=\"toc-item-num\">1.8&nbsp;&nbsp;</span>8. Creat an interactive bar chart that shows revenue by product description. Add a text field widget that filters the results to show the product that contain the text entered in their description.</a></span></li></ul></li></ul></div>"
   ]
  },
  {
   "cell_type": "markdown",
   "metadata": {},
   "source": [
    "# Interactive Visualization Lab\n",
    "\n",
    "Complete the following set of exercises to solidify your knowledge of interactive visualization using Plotly, Cufflinks, and IPyWidgets."
   ]
  },
  {
   "cell_type": "code",
   "execution_count": 5,
   "metadata": {
    "ExecuteTime": {
     "end_time": "2019-07-27T20:57:40.523866Z",
     "start_time": "2019-07-27T20:57:39.979646Z"
    }
   },
   "outputs": [
    {
     "data": {
      "text/html": [
       "        <script type=\"text/javascript\">\n",
       "        window.PlotlyConfig = {MathJaxConfig: 'local'};\n",
       "        if (window.MathJax) {MathJax.Hub.Config({SVG: {font: \"STIX-Web\"}});}\n",
       "        if (typeof require !== 'undefined') {\n",
       "        require.undef(\"plotly\");\n",
       "        requirejs.config({\n",
       "            paths: {\n",
       "                'plotly': ['https://cdn.plot.ly/plotly-latest.min']\n",
       "            }\n",
       "        });\n",
       "        require(['plotly'], function(Plotly) {\n",
       "            window._Plotly = Plotly;\n",
       "        });\n",
       "        }\n",
       "        </script>\n",
       "        "
      ]
     },
     "metadata": {},
     "output_type": "display_data"
    },
    {
     "data": {
      "text/html": [
       "        <script type=\"text/javascript\">\n",
       "        window.PlotlyConfig = {MathJaxConfig: 'local'};\n",
       "        if (window.MathJax) {MathJax.Hub.Config({SVG: {font: \"STIX-Web\"}});}\n",
       "        if (typeof require !== 'undefined') {\n",
       "        require.undef(\"plotly\");\n",
       "        requirejs.config({\n",
       "            paths: {\n",
       "                'plotly': ['https://cdn.plot.ly/plotly-latest.min']\n",
       "            }\n",
       "        });\n",
       "        require(['plotly'], function(Plotly) {\n",
       "            window._Plotly = Plotly;\n",
       "        });\n",
       "        }\n",
       "        </script>\n",
       "        "
      ]
     },
     "metadata": {},
     "output_type": "display_data"
    }
   ],
   "source": [
    "import pandas as pd\n",
    "import plotly.express as px\n",
    "import cufflinks as cf\n",
    "from ipywidgets import interact\n",
    "\n",
    "cf.go_offline()"
   ]
  },
  {
   "cell_type": "code",
   "execution_count": 3,
   "metadata": {
    "ExecuteTime": {
     "end_time": "2019-07-27T21:02:11.999453Z",
     "start_time": "2019-07-27T21:01:30.667125Z"
    }
   },
   "outputs": [],
   "source": [
    "data = pd.read_excel('../data/Online Retail.xlsx')"
   ]
  },
  {
   "cell_type": "code",
   "execution_count": 6,
   "metadata": {},
   "outputs": [
    {
     "data": {
      "text/html": [
       "<div>\n",
       "<style scoped>\n",
       "    .dataframe tbody tr th:only-of-type {\n",
       "        vertical-align: middle;\n",
       "    }\n",
       "\n",
       "    .dataframe tbody tr th {\n",
       "        vertical-align: top;\n",
       "    }\n",
       "\n",
       "    .dataframe thead th {\n",
       "        text-align: right;\n",
       "    }\n",
       "</style>\n",
       "<table border=\"1\" class=\"dataframe\">\n",
       "  <thead>\n",
       "    <tr style=\"text-align: right;\">\n",
       "      <th></th>\n",
       "      <th>InvoiceNo</th>\n",
       "      <th>InvoiceDate</th>\n",
       "      <th>StockCode</th>\n",
       "      <th>Description</th>\n",
       "      <th>Quantity</th>\n",
       "      <th>UnitPrice</th>\n",
       "      <th>Revenue</th>\n",
       "      <th>CustomerID</th>\n",
       "      <th>Country</th>\n",
       "    </tr>\n",
       "  </thead>\n",
       "  <tbody>\n",
       "    <tr>\n",
       "      <th>0</th>\n",
       "      <td>536365</td>\n",
       "      <td>2010-12-01 08:26:00</td>\n",
       "      <td>85123A</td>\n",
       "      <td>CREAM HANGING HEART T-LIGHT HOLDER</td>\n",
       "      <td>6</td>\n",
       "      <td>2.55</td>\n",
       "      <td>15.3</td>\n",
       "      <td>17850</td>\n",
       "      <td>United Kingdom</td>\n",
       "    </tr>\n",
       "    <tr>\n",
       "      <th>1</th>\n",
       "      <td>536373</td>\n",
       "      <td>2010-12-01 09:02:00</td>\n",
       "      <td>85123A</td>\n",
       "      <td>CREAM HANGING HEART T-LIGHT HOLDER</td>\n",
       "      <td>6</td>\n",
       "      <td>2.55</td>\n",
       "      <td>15.3</td>\n",
       "      <td>17850</td>\n",
       "      <td>United Kingdom</td>\n",
       "    </tr>\n",
       "    <tr>\n",
       "      <th>2</th>\n",
       "      <td>536375</td>\n",
       "      <td>2010-12-01 09:32:00</td>\n",
       "      <td>85123A</td>\n",
       "      <td>CREAM HANGING HEART T-LIGHT HOLDER</td>\n",
       "      <td>6</td>\n",
       "      <td>2.55</td>\n",
       "      <td>15.3</td>\n",
       "      <td>17850</td>\n",
       "      <td>United Kingdom</td>\n",
       "    </tr>\n",
       "    <tr>\n",
       "      <th>3</th>\n",
       "      <td>536390</td>\n",
       "      <td>2010-12-01 10:19:00</td>\n",
       "      <td>85123A</td>\n",
       "      <td>CREAM HANGING HEART T-LIGHT HOLDER</td>\n",
       "      <td>64</td>\n",
       "      <td>2.55</td>\n",
       "      <td>163.2</td>\n",
       "      <td>17511</td>\n",
       "      <td>United Kingdom</td>\n",
       "    </tr>\n",
       "    <tr>\n",
       "      <th>4</th>\n",
       "      <td>536394</td>\n",
       "      <td>2010-12-01 10:39:00</td>\n",
       "      <td>85123A</td>\n",
       "      <td>CREAM HANGING HEART T-LIGHT HOLDER</td>\n",
       "      <td>32</td>\n",
       "      <td>2.55</td>\n",
       "      <td>81.6</td>\n",
       "      <td>13408</td>\n",
       "      <td>United Kingdom</td>\n",
       "    </tr>\n",
       "  </tbody>\n",
       "</table>\n",
       "</div>"
      ],
      "text/plain": [
       "   InvoiceNo         InvoiceDate StockCode  \\\n",
       "0     536365 2010-12-01 08:26:00    85123A   \n",
       "1     536373 2010-12-01 09:02:00    85123A   \n",
       "2     536375 2010-12-01 09:32:00    85123A   \n",
       "3     536390 2010-12-01 10:19:00    85123A   \n",
       "4     536394 2010-12-01 10:39:00    85123A   \n",
       "\n",
       "                          Description  Quantity  UnitPrice  Revenue  \\\n",
       "0  CREAM HANGING HEART T-LIGHT HOLDER         6       2.55     15.3   \n",
       "1  CREAM HANGING HEART T-LIGHT HOLDER         6       2.55     15.3   \n",
       "2  CREAM HANGING HEART T-LIGHT HOLDER         6       2.55     15.3   \n",
       "3  CREAM HANGING HEART T-LIGHT HOLDER        64       2.55    163.2   \n",
       "4  CREAM HANGING HEART T-LIGHT HOLDER        32       2.55     81.6   \n",
       "\n",
       "   CustomerID         Country  \n",
       "0       17850  United Kingdom  \n",
       "1       17850  United Kingdom  \n",
       "2       17850  United Kingdom  \n",
       "3       17511  United Kingdom  \n",
       "4       13408  United Kingdom  "
      ]
     },
     "execution_count": 6,
     "metadata": {},
     "output_type": "execute_result"
    }
   ],
   "source": [
    "data.head()"
   ]
  },
  {
   "cell_type": "markdown",
   "metadata": {},
   "source": [
    "## 1. Create an interactive bar chart showing total quantity and revenue by country (excluding United Kingdom) for the month of April 2011."
   ]
  },
  {
   "cell_type": "code",
   "execution_count": 33,
   "metadata": {},
   "outputs": [
    {
     "data": {
      "text/html": [
       "<div>\n",
       "<style scoped>\n",
       "    .dataframe tbody tr th:only-of-type {\n",
       "        vertical-align: middle;\n",
       "    }\n",
       "\n",
       "    .dataframe tbody tr th {\n",
       "        vertical-align: top;\n",
       "    }\n",
       "\n",
       "    .dataframe thead th {\n",
       "        text-align: right;\n",
       "    }\n",
       "</style>\n",
       "<table border=\"1\" class=\"dataframe\">\n",
       "  <thead>\n",
       "    <tr style=\"text-align: right;\">\n",
       "      <th></th>\n",
       "      <th>InvoiceNo</th>\n",
       "      <th>InvoiceDate</th>\n",
       "      <th>StockCode</th>\n",
       "      <th>Description</th>\n",
       "      <th>Quantity</th>\n",
       "      <th>UnitPrice</th>\n",
       "      <th>Revenue</th>\n",
       "      <th>CustomerID</th>\n",
       "      <th>Country</th>\n",
       "    </tr>\n",
       "  </thead>\n",
       "  <tbody>\n",
       "    <tr>\n",
       "      <th>724</th>\n",
       "      <td>549667</td>\n",
       "      <td>2011-04-11 12:20:00</td>\n",
       "      <td>85123A</td>\n",
       "      <td>CREAM HANGING HEART T-LIGHT HOLDER</td>\n",
       "      <td>6</td>\n",
       "      <td>2.95</td>\n",
       "      <td>17.70</td>\n",
       "      <td>14911</td>\n",
       "      <td>EIRE</td>\n",
       "    </tr>\n",
       "    <tr>\n",
       "      <th>807</th>\n",
       "      <td>551163</td>\n",
       "      <td>2011-04-26 15:52:00</td>\n",
       "      <td>85123A</td>\n",
       "      <td>CREAM HANGING HEART T-LIGHT HOLDER</td>\n",
       "      <td>9</td>\n",
       "      <td>2.95</td>\n",
       "      <td>26.55</td>\n",
       "      <td>12573</td>\n",
       "      <td>France</td>\n",
       "    </tr>\n",
       "    <tr>\n",
       "      <th>3320</th>\n",
       "      <td>550899</td>\n",
       "      <td>2011-04-21 12:07:00</td>\n",
       "      <td>22752</td>\n",
       "      <td>SET 7 BABUSHKA NESTING BOXES</td>\n",
       "      <td>2</td>\n",
       "      <td>8.50</td>\n",
       "      <td>17.00</td>\n",
       "      <td>13505</td>\n",
       "      <td>Switzerland</td>\n",
       "    </tr>\n",
       "  </tbody>\n",
       "</table>\n",
       "</div>"
      ],
      "text/plain": [
       "      InvoiceNo         InvoiceDate StockCode  \\\n",
       "724      549667 2011-04-11 12:20:00    85123A   \n",
       "807      551163 2011-04-26 15:52:00    85123A   \n",
       "3320     550899 2011-04-21 12:07:00     22752   \n",
       "\n",
       "                             Description  Quantity  UnitPrice  Revenue  \\\n",
       "724   CREAM HANGING HEART T-LIGHT HOLDER         6       2.95    17.70   \n",
       "807   CREAM HANGING HEART T-LIGHT HOLDER         9       2.95    26.55   \n",
       "3320        SET 7 BABUSHKA NESTING BOXES         2       8.50    17.00   \n",
       "\n",
       "      CustomerID      Country  \n",
       "724        14911         EIRE  \n",
       "807        12573       France  \n",
       "3320       13505  Switzerland  "
      ]
     },
     "execution_count": 33,
     "metadata": {},
     "output_type": "execute_result"
    }
   ],
   "source": [
    "# Asignamos un nuevo df para facilitar la sintaxis\n",
    "\n",
    "df1 = data[(data['InvoiceDate'] >= '2011-04-01') & (data['InvoiceDate'] <= '2011-04-30') & (data['Country'] != 'United Kingdom')]\n",
    "df1.head(3)"
   ]
  },
  {
   "cell_type": "code",
   "execution_count": 62,
   "metadata": {},
   "outputs": [
    {
     "data": {
      "application/vnd.plotly.v1+json": {
       "config": {
        "linkText": "Export to plot.ly",
        "plotlyServerURL": "https://plot.ly",
        "showLink": true
       },
       "data": [
        {
         "marker": {
          "color": "rgba(255, 153, 51, 0.6)",
          "line": {
           "color": "rgba(255, 153, 51, 1.0)",
           "width": 1
          }
         },
         "name": "Quantity",
         "orientation": "v",
         "text": "",
         "type": "bar",
         "x": [
          "Australia",
          "Austria",
          "Belgium",
          "Brazil",
          "Channel Islands",
          "EIRE",
          "Finland",
          "France",
          "Germany",
          "Greece",
          "Iceland",
          "Italy",
          "Japan",
          "Netherlands",
          "Poland",
          "Portugal",
          "Singapore",
          "Spain",
          "Sweden",
          "Switzerland",
          "USA"
         ],
         "y": [
          224,
          308,
          1170,
          356,
          96,
          4129,
          810,
          2265,
          5702,
          260,
          483,
          653,
          8058,
          1762,
          432,
          951,
          1384,
          948,
          306,
          878,
          137
         ]
        },
        {
         "marker": {
          "color": "rgba(55, 128, 191, 0.6)",
          "line": {
           "color": "rgba(55, 128, 191, 1.0)",
           "width": 1
          }
         },
         "name": "Revenue",
         "orientation": "v",
         "text": "",
         "type": "bar",
         "x": [
          "Australia",
          "Austria",
          "Belgium",
          "Brazil",
          "Channel Islands",
          "EIRE",
          "Finland",
          "France",
          "Germany",
          "Greece",
          "Iceland",
          "Italy",
          "Japan",
          "Netherlands",
          "Poland",
          "Portugal",
          "Singapore",
          "Spain",
          "Sweden",
          "Switzerland",
          "USA"
         ],
         "y": [
          421.6,
          584.78,
          1788.4799999999989,
          1143.6000000000001,
          243.00000000000003,
          7270.4999999999945,
          1368.92,
          3899.309999999998,
          10994.789999999995,
          509.73999999999995,
          636.2499999999999,
          737.8300000000002,
          6548.500000000001,
          2886.5600000000004,
          705.8399999999999,
          1687.7499999999998,
          2118.74,
          1645.65,
          649.1,
          1756.9399999999998,
          383.94999999999993
         ]
        }
       ],
       "layout": {
        "legend": {
         "bgcolor": "#F5F6F9",
         "font": {
          "color": "#4D5663"
         }
        },
        "paper_bgcolor": "#F5F6F9",
        "plot_bgcolor": "#F5F6F9",
        "template": {
         "data": {
          "bar": [
           {
            "error_x": {
             "color": "#2a3f5f"
            },
            "error_y": {
             "color": "#2a3f5f"
            },
            "marker": {
             "line": {
              "color": "#E5ECF6",
              "width": 0.5
             }
            },
            "type": "bar"
           }
          ],
          "barpolar": [
           {
            "marker": {
             "line": {
              "color": "#E5ECF6",
              "width": 0.5
             }
            },
            "type": "barpolar"
           }
          ],
          "carpet": [
           {
            "aaxis": {
             "endlinecolor": "#2a3f5f",
             "gridcolor": "white",
             "linecolor": "white",
             "minorgridcolor": "white",
             "startlinecolor": "#2a3f5f"
            },
            "baxis": {
             "endlinecolor": "#2a3f5f",
             "gridcolor": "white",
             "linecolor": "white",
             "minorgridcolor": "white",
             "startlinecolor": "#2a3f5f"
            },
            "type": "carpet"
           }
          ],
          "choropleth": [
           {
            "colorbar": {
             "outlinewidth": 0,
             "ticks": ""
            },
            "type": "choropleth"
           }
          ],
          "contour": [
           {
            "colorbar": {
             "outlinewidth": 0,
             "ticks": ""
            },
            "colorscale": [
             [
              0,
              "#0d0887"
             ],
             [
              0.1111111111111111,
              "#46039f"
             ],
             [
              0.2222222222222222,
              "#7201a8"
             ],
             [
              0.3333333333333333,
              "#9c179e"
             ],
             [
              0.4444444444444444,
              "#bd3786"
             ],
             [
              0.5555555555555556,
              "#d8576b"
             ],
             [
              0.6666666666666666,
              "#ed7953"
             ],
             [
              0.7777777777777778,
              "#fb9f3a"
             ],
             [
              0.8888888888888888,
              "#fdca26"
             ],
             [
              1,
              "#f0f921"
             ]
            ],
            "type": "contour"
           }
          ],
          "contourcarpet": [
           {
            "colorbar": {
             "outlinewidth": 0,
             "ticks": ""
            },
            "type": "contourcarpet"
           }
          ],
          "heatmap": [
           {
            "colorbar": {
             "outlinewidth": 0,
             "ticks": ""
            },
            "colorscale": [
             [
              0,
              "#0d0887"
             ],
             [
              0.1111111111111111,
              "#46039f"
             ],
             [
              0.2222222222222222,
              "#7201a8"
             ],
             [
              0.3333333333333333,
              "#9c179e"
             ],
             [
              0.4444444444444444,
              "#bd3786"
             ],
             [
              0.5555555555555556,
              "#d8576b"
             ],
             [
              0.6666666666666666,
              "#ed7953"
             ],
             [
              0.7777777777777778,
              "#fb9f3a"
             ],
             [
              0.8888888888888888,
              "#fdca26"
             ],
             [
              1,
              "#f0f921"
             ]
            ],
            "type": "heatmap"
           }
          ],
          "heatmapgl": [
           {
            "colorbar": {
             "outlinewidth": 0,
             "ticks": ""
            },
            "colorscale": [
             [
              0,
              "#0d0887"
             ],
             [
              0.1111111111111111,
              "#46039f"
             ],
             [
              0.2222222222222222,
              "#7201a8"
             ],
             [
              0.3333333333333333,
              "#9c179e"
             ],
             [
              0.4444444444444444,
              "#bd3786"
             ],
             [
              0.5555555555555556,
              "#d8576b"
             ],
             [
              0.6666666666666666,
              "#ed7953"
             ],
             [
              0.7777777777777778,
              "#fb9f3a"
             ],
             [
              0.8888888888888888,
              "#fdca26"
             ],
             [
              1,
              "#f0f921"
             ]
            ],
            "type": "heatmapgl"
           }
          ],
          "histogram": [
           {
            "marker": {
             "colorbar": {
              "outlinewidth": 0,
              "ticks": ""
             }
            },
            "type": "histogram"
           }
          ],
          "histogram2d": [
           {
            "colorbar": {
             "outlinewidth": 0,
             "ticks": ""
            },
            "colorscale": [
             [
              0,
              "#0d0887"
             ],
             [
              0.1111111111111111,
              "#46039f"
             ],
             [
              0.2222222222222222,
              "#7201a8"
             ],
             [
              0.3333333333333333,
              "#9c179e"
             ],
             [
              0.4444444444444444,
              "#bd3786"
             ],
             [
              0.5555555555555556,
              "#d8576b"
             ],
             [
              0.6666666666666666,
              "#ed7953"
             ],
             [
              0.7777777777777778,
              "#fb9f3a"
             ],
             [
              0.8888888888888888,
              "#fdca26"
             ],
             [
              1,
              "#f0f921"
             ]
            ],
            "type": "histogram2d"
           }
          ],
          "histogram2dcontour": [
           {
            "colorbar": {
             "outlinewidth": 0,
             "ticks": ""
            },
            "colorscale": [
             [
              0,
              "#0d0887"
             ],
             [
              0.1111111111111111,
              "#46039f"
             ],
             [
              0.2222222222222222,
              "#7201a8"
             ],
             [
              0.3333333333333333,
              "#9c179e"
             ],
             [
              0.4444444444444444,
              "#bd3786"
             ],
             [
              0.5555555555555556,
              "#d8576b"
             ],
             [
              0.6666666666666666,
              "#ed7953"
             ],
             [
              0.7777777777777778,
              "#fb9f3a"
             ],
             [
              0.8888888888888888,
              "#fdca26"
             ],
             [
              1,
              "#f0f921"
             ]
            ],
            "type": "histogram2dcontour"
           }
          ],
          "mesh3d": [
           {
            "colorbar": {
             "outlinewidth": 0,
             "ticks": ""
            },
            "type": "mesh3d"
           }
          ],
          "parcoords": [
           {
            "line": {
             "colorbar": {
              "outlinewidth": 0,
              "ticks": ""
             }
            },
            "type": "parcoords"
           }
          ],
          "pie": [
           {
            "automargin": true,
            "type": "pie"
           }
          ],
          "scatter": [
           {
            "marker": {
             "colorbar": {
              "outlinewidth": 0,
              "ticks": ""
             }
            },
            "type": "scatter"
           }
          ],
          "scatter3d": [
           {
            "line": {
             "colorbar": {
              "outlinewidth": 0,
              "ticks": ""
             }
            },
            "marker": {
             "colorbar": {
              "outlinewidth": 0,
              "ticks": ""
             }
            },
            "type": "scatter3d"
           }
          ],
          "scattercarpet": [
           {
            "marker": {
             "colorbar": {
              "outlinewidth": 0,
              "ticks": ""
             }
            },
            "type": "scattercarpet"
           }
          ],
          "scattergeo": [
           {
            "marker": {
             "colorbar": {
              "outlinewidth": 0,
              "ticks": ""
             }
            },
            "type": "scattergeo"
           }
          ],
          "scattergl": [
           {
            "marker": {
             "colorbar": {
              "outlinewidth": 0,
              "ticks": ""
             }
            },
            "type": "scattergl"
           }
          ],
          "scattermapbox": [
           {
            "marker": {
             "colorbar": {
              "outlinewidth": 0,
              "ticks": ""
             }
            },
            "type": "scattermapbox"
           }
          ],
          "scatterpolar": [
           {
            "marker": {
             "colorbar": {
              "outlinewidth": 0,
              "ticks": ""
             }
            },
            "type": "scatterpolar"
           }
          ],
          "scatterpolargl": [
           {
            "marker": {
             "colorbar": {
              "outlinewidth": 0,
              "ticks": ""
             }
            },
            "type": "scatterpolargl"
           }
          ],
          "scatterternary": [
           {
            "marker": {
             "colorbar": {
              "outlinewidth": 0,
              "ticks": ""
             }
            },
            "type": "scatterternary"
           }
          ],
          "surface": [
           {
            "colorbar": {
             "outlinewidth": 0,
             "ticks": ""
            },
            "colorscale": [
             [
              0,
              "#0d0887"
             ],
             [
              0.1111111111111111,
              "#46039f"
             ],
             [
              0.2222222222222222,
              "#7201a8"
             ],
             [
              0.3333333333333333,
              "#9c179e"
             ],
             [
              0.4444444444444444,
              "#bd3786"
             ],
             [
              0.5555555555555556,
              "#d8576b"
             ],
             [
              0.6666666666666666,
              "#ed7953"
             ],
             [
              0.7777777777777778,
              "#fb9f3a"
             ],
             [
              0.8888888888888888,
              "#fdca26"
             ],
             [
              1,
              "#f0f921"
             ]
            ],
            "type": "surface"
           }
          ],
          "table": [
           {
            "cells": {
             "fill": {
              "color": "#EBF0F8"
             },
             "line": {
              "color": "white"
             }
            },
            "header": {
             "fill": {
              "color": "#C8D4E3"
             },
             "line": {
              "color": "white"
             }
            },
            "type": "table"
           }
          ]
         },
         "layout": {
          "annotationdefaults": {
           "arrowcolor": "#2a3f5f",
           "arrowhead": 0,
           "arrowwidth": 1
          },
          "autotypenumbers": "strict",
          "coloraxis": {
           "colorbar": {
            "outlinewidth": 0,
            "ticks": ""
           }
          },
          "colorscale": {
           "diverging": [
            [
             0,
             "#8e0152"
            ],
            [
             0.1,
             "#c51b7d"
            ],
            [
             0.2,
             "#de77ae"
            ],
            [
             0.3,
             "#f1b6da"
            ],
            [
             0.4,
             "#fde0ef"
            ],
            [
             0.5,
             "#f7f7f7"
            ],
            [
             0.6,
             "#e6f5d0"
            ],
            [
             0.7,
             "#b8e186"
            ],
            [
             0.8,
             "#7fbc41"
            ],
            [
             0.9,
             "#4d9221"
            ],
            [
             1,
             "#276419"
            ]
           ],
           "sequential": [
            [
             0,
             "#0d0887"
            ],
            [
             0.1111111111111111,
             "#46039f"
            ],
            [
             0.2222222222222222,
             "#7201a8"
            ],
            [
             0.3333333333333333,
             "#9c179e"
            ],
            [
             0.4444444444444444,
             "#bd3786"
            ],
            [
             0.5555555555555556,
             "#d8576b"
            ],
            [
             0.6666666666666666,
             "#ed7953"
            ],
            [
             0.7777777777777778,
             "#fb9f3a"
            ],
            [
             0.8888888888888888,
             "#fdca26"
            ],
            [
             1,
             "#f0f921"
            ]
           ],
           "sequentialminus": [
            [
             0,
             "#0d0887"
            ],
            [
             0.1111111111111111,
             "#46039f"
            ],
            [
             0.2222222222222222,
             "#7201a8"
            ],
            [
             0.3333333333333333,
             "#9c179e"
            ],
            [
             0.4444444444444444,
             "#bd3786"
            ],
            [
             0.5555555555555556,
             "#d8576b"
            ],
            [
             0.6666666666666666,
             "#ed7953"
            ],
            [
             0.7777777777777778,
             "#fb9f3a"
            ],
            [
             0.8888888888888888,
             "#fdca26"
            ],
            [
             1,
             "#f0f921"
            ]
           ]
          },
          "colorway": [
           "#636efa",
           "#EF553B",
           "#00cc96",
           "#ab63fa",
           "#FFA15A",
           "#19d3f3",
           "#FF6692",
           "#B6E880",
           "#FF97FF",
           "#FECB52"
          ],
          "font": {
           "color": "#2a3f5f"
          },
          "geo": {
           "bgcolor": "white",
           "lakecolor": "white",
           "landcolor": "#E5ECF6",
           "showlakes": true,
           "showland": true,
           "subunitcolor": "white"
          },
          "hoverlabel": {
           "align": "left"
          },
          "hovermode": "closest",
          "mapbox": {
           "style": "light"
          },
          "paper_bgcolor": "white",
          "plot_bgcolor": "#E5ECF6",
          "polar": {
           "angularaxis": {
            "gridcolor": "white",
            "linecolor": "white",
            "ticks": ""
           },
           "bgcolor": "#E5ECF6",
           "radialaxis": {
            "gridcolor": "white",
            "linecolor": "white",
            "ticks": ""
           }
          },
          "scene": {
           "xaxis": {
            "backgroundcolor": "#E5ECF6",
            "gridcolor": "white",
            "gridwidth": 2,
            "linecolor": "white",
            "showbackground": true,
            "ticks": "",
            "zerolinecolor": "white"
           },
           "yaxis": {
            "backgroundcolor": "#E5ECF6",
            "gridcolor": "white",
            "gridwidth": 2,
            "linecolor": "white",
            "showbackground": true,
            "ticks": "",
            "zerolinecolor": "white"
           },
           "zaxis": {
            "backgroundcolor": "#E5ECF6",
            "gridcolor": "white",
            "gridwidth": 2,
            "linecolor": "white",
            "showbackground": true,
            "ticks": "",
            "zerolinecolor": "white"
           }
          },
          "shapedefaults": {
           "line": {
            "color": "#2a3f5f"
           }
          },
          "ternary": {
           "aaxis": {
            "gridcolor": "white",
            "linecolor": "white",
            "ticks": ""
           },
           "baxis": {
            "gridcolor": "white",
            "linecolor": "white",
            "ticks": ""
           },
           "bgcolor": "#E5ECF6",
           "caxis": {
            "gridcolor": "white",
            "linecolor": "white",
            "ticks": ""
           }
          },
          "title": {
           "x": 0.05
          },
          "xaxis": {
           "automargin": true,
           "gridcolor": "white",
           "linecolor": "white",
           "ticks": "",
           "title": {
            "standoff": 15
           },
           "zerolinecolor": "white",
           "zerolinewidth": 2
          },
          "yaxis": {
           "automargin": true,
           "gridcolor": "white",
           "linecolor": "white",
           "ticks": "",
           "title": {
            "standoff": 15
           },
           "zerolinecolor": "white",
           "zerolinewidth": 2
          }
         }
        },
        "title": {
         "font": {
          "color": "#4D5663"
         }
        },
        "xaxis": {
         "gridcolor": "#E1E5ED",
         "showgrid": true,
         "tickfont": {
          "color": "#4D5663"
         },
         "title": {
          "font": {
           "color": "#4D5663"
          },
          "text": ""
         },
         "zerolinecolor": "#E1E5ED"
        },
        "yaxis": {
         "gridcolor": "#E1E5ED",
         "showgrid": true,
         "tickfont": {
          "color": "#4D5663"
         },
         "title": {
          "font": {
           "color": "#4D5663"
          },
          "text": ""
         },
         "zerolinecolor": "#E1E5ED"
        }
       }
      },
      "text/html": [
       "<div>                            <div id=\"2a153c6d-c4b8-498b-814a-e22a2f174204\" class=\"plotly-graph-div\" style=\"height:525px; width:100%;\"></div>            <script type=\"text/javascript\">                require([\"plotly\"], function(Plotly) {                    window.PLOTLYENV=window.PLOTLYENV || {};\n",
       "                    window.PLOTLYENV.BASE_URL='https://plot.ly';                                    if (document.getElementById(\"2a153c6d-c4b8-498b-814a-e22a2f174204\")) {                    Plotly.newPlot(                        \"2a153c6d-c4b8-498b-814a-e22a2f174204\",                        [{\"marker\": {\"color\": \"rgba(255, 153, 51, 0.6)\", \"line\": {\"color\": \"rgba(255, 153, 51, 1.0)\", \"width\": 1}}, \"name\": \"Quantity\", \"orientation\": \"v\", \"text\": \"\", \"type\": \"bar\", \"x\": [\"Australia\", \"Austria\", \"Belgium\", \"Brazil\", \"Channel Islands\", \"EIRE\", \"Finland\", \"France\", \"Germany\", \"Greece\", \"Iceland\", \"Italy\", \"Japan\", \"Netherlands\", \"Poland\", \"Portugal\", \"Singapore\", \"Spain\", \"Sweden\", \"Switzerland\", \"USA\"], \"y\": [224, 308, 1170, 356, 96, 4129, 810, 2265, 5702, 260, 483, 653, 8058, 1762, 432, 951, 1384, 948, 306, 878, 137]}, {\"marker\": {\"color\": \"rgba(55, 128, 191, 0.6)\", \"line\": {\"color\": \"rgba(55, 128, 191, 1.0)\", \"width\": 1}}, \"name\": \"Revenue\", \"orientation\": \"v\", \"text\": \"\", \"type\": \"bar\", \"x\": [\"Australia\", \"Austria\", \"Belgium\", \"Brazil\", \"Channel Islands\", \"EIRE\", \"Finland\", \"France\", \"Germany\", \"Greece\", \"Iceland\", \"Italy\", \"Japan\", \"Netherlands\", \"Poland\", \"Portugal\", \"Singapore\", \"Spain\", \"Sweden\", \"Switzerland\", \"USA\"], \"y\": [421.6, 584.78, 1788.4799999999989, 1143.6000000000001, 243.00000000000003, 7270.4999999999945, 1368.92, 3899.309999999998, 10994.789999999995, 509.73999999999995, 636.2499999999999, 737.8300000000002, 6548.500000000001, 2886.5600000000004, 705.8399999999999, 1687.7499999999998, 2118.74, 1645.65, 649.1, 1756.9399999999998, 383.94999999999993]}],                        {\"legend\": {\"bgcolor\": \"#F5F6F9\", \"font\": {\"color\": \"#4D5663\"}}, \"paper_bgcolor\": \"#F5F6F9\", \"plot_bgcolor\": \"#F5F6F9\", \"template\": {\"data\": {\"bar\": [{\"error_x\": {\"color\": \"#2a3f5f\"}, \"error_y\": {\"color\": \"#2a3f5f\"}, \"marker\": {\"line\": {\"color\": \"#E5ECF6\", \"width\": 0.5}}, \"type\": \"bar\"}], \"barpolar\": [{\"marker\": {\"line\": {\"color\": \"#E5ECF6\", \"width\": 0.5}}, \"type\": \"barpolar\"}], \"carpet\": [{\"aaxis\": {\"endlinecolor\": \"#2a3f5f\", \"gridcolor\": \"white\", \"linecolor\": \"white\", \"minorgridcolor\": \"white\", \"startlinecolor\": \"#2a3f5f\"}, \"baxis\": {\"endlinecolor\": \"#2a3f5f\", \"gridcolor\": \"white\", \"linecolor\": \"white\", \"minorgridcolor\": \"white\", \"startlinecolor\": \"#2a3f5f\"}, \"type\": \"carpet\"}], \"choropleth\": [{\"colorbar\": {\"outlinewidth\": 0, \"ticks\": \"\"}, \"type\": \"choropleth\"}], \"contour\": [{\"colorbar\": {\"outlinewidth\": 0, \"ticks\": \"\"}, \"colorscale\": [[0.0, \"#0d0887\"], [0.1111111111111111, \"#46039f\"], [0.2222222222222222, \"#7201a8\"], [0.3333333333333333, \"#9c179e\"], [0.4444444444444444, \"#bd3786\"], [0.5555555555555556, \"#d8576b\"], [0.6666666666666666, \"#ed7953\"], [0.7777777777777778, \"#fb9f3a\"], [0.8888888888888888, \"#fdca26\"], [1.0, \"#f0f921\"]], \"type\": \"contour\"}], \"contourcarpet\": [{\"colorbar\": {\"outlinewidth\": 0, \"ticks\": \"\"}, \"type\": \"contourcarpet\"}], \"heatmap\": [{\"colorbar\": {\"outlinewidth\": 0, \"ticks\": \"\"}, \"colorscale\": [[0.0, \"#0d0887\"], [0.1111111111111111, \"#46039f\"], [0.2222222222222222, \"#7201a8\"], [0.3333333333333333, \"#9c179e\"], [0.4444444444444444, \"#bd3786\"], [0.5555555555555556, \"#d8576b\"], [0.6666666666666666, \"#ed7953\"], [0.7777777777777778, \"#fb9f3a\"], [0.8888888888888888, \"#fdca26\"], [1.0, \"#f0f921\"]], \"type\": \"heatmap\"}], \"heatmapgl\": [{\"colorbar\": {\"outlinewidth\": 0, \"ticks\": \"\"}, \"colorscale\": [[0.0, \"#0d0887\"], [0.1111111111111111, \"#46039f\"], [0.2222222222222222, \"#7201a8\"], [0.3333333333333333, \"#9c179e\"], [0.4444444444444444, \"#bd3786\"], [0.5555555555555556, \"#d8576b\"], [0.6666666666666666, \"#ed7953\"], [0.7777777777777778, \"#fb9f3a\"], [0.8888888888888888, \"#fdca26\"], [1.0, \"#f0f921\"]], \"type\": \"heatmapgl\"}], \"histogram\": [{\"marker\": {\"colorbar\": {\"outlinewidth\": 0, \"ticks\": \"\"}}, \"type\": \"histogram\"}], \"histogram2d\": [{\"colorbar\": {\"outlinewidth\": 0, \"ticks\": \"\"}, \"colorscale\": [[0.0, \"#0d0887\"], [0.1111111111111111, \"#46039f\"], [0.2222222222222222, \"#7201a8\"], [0.3333333333333333, \"#9c179e\"], [0.4444444444444444, \"#bd3786\"], [0.5555555555555556, \"#d8576b\"], [0.6666666666666666, \"#ed7953\"], [0.7777777777777778, \"#fb9f3a\"], [0.8888888888888888, \"#fdca26\"], [1.0, \"#f0f921\"]], \"type\": \"histogram2d\"}], \"histogram2dcontour\": [{\"colorbar\": {\"outlinewidth\": 0, \"ticks\": \"\"}, \"colorscale\": [[0.0, \"#0d0887\"], [0.1111111111111111, \"#46039f\"], [0.2222222222222222, \"#7201a8\"], [0.3333333333333333, \"#9c179e\"], [0.4444444444444444, \"#bd3786\"], [0.5555555555555556, \"#d8576b\"], [0.6666666666666666, \"#ed7953\"], [0.7777777777777778, \"#fb9f3a\"], [0.8888888888888888, \"#fdca26\"], [1.0, \"#f0f921\"]], \"type\": \"histogram2dcontour\"}], \"mesh3d\": [{\"colorbar\": {\"outlinewidth\": 0, \"ticks\": \"\"}, \"type\": \"mesh3d\"}], \"parcoords\": [{\"line\": {\"colorbar\": {\"outlinewidth\": 0, \"ticks\": \"\"}}, \"type\": \"parcoords\"}], \"pie\": [{\"automargin\": true, \"type\": \"pie\"}], \"scatter\": [{\"marker\": {\"colorbar\": {\"outlinewidth\": 0, \"ticks\": \"\"}}, \"type\": \"scatter\"}], \"scatter3d\": [{\"line\": {\"colorbar\": {\"outlinewidth\": 0, \"ticks\": \"\"}}, \"marker\": {\"colorbar\": {\"outlinewidth\": 0, \"ticks\": \"\"}}, \"type\": \"scatter3d\"}], \"scattercarpet\": [{\"marker\": {\"colorbar\": {\"outlinewidth\": 0, \"ticks\": \"\"}}, \"type\": \"scattercarpet\"}], \"scattergeo\": [{\"marker\": {\"colorbar\": {\"outlinewidth\": 0, \"ticks\": \"\"}}, \"type\": \"scattergeo\"}], \"scattergl\": [{\"marker\": {\"colorbar\": {\"outlinewidth\": 0, \"ticks\": \"\"}}, \"type\": \"scattergl\"}], \"scattermapbox\": [{\"marker\": {\"colorbar\": {\"outlinewidth\": 0, \"ticks\": \"\"}}, \"type\": \"scattermapbox\"}], \"scatterpolar\": [{\"marker\": {\"colorbar\": {\"outlinewidth\": 0, \"ticks\": \"\"}}, \"type\": \"scatterpolar\"}], \"scatterpolargl\": [{\"marker\": {\"colorbar\": {\"outlinewidth\": 0, \"ticks\": \"\"}}, \"type\": \"scatterpolargl\"}], \"scatterternary\": [{\"marker\": {\"colorbar\": {\"outlinewidth\": 0, \"ticks\": \"\"}}, \"type\": \"scatterternary\"}], \"surface\": [{\"colorbar\": {\"outlinewidth\": 0, \"ticks\": \"\"}, \"colorscale\": [[0.0, \"#0d0887\"], [0.1111111111111111, \"#46039f\"], [0.2222222222222222, \"#7201a8\"], [0.3333333333333333, \"#9c179e\"], [0.4444444444444444, \"#bd3786\"], [0.5555555555555556, \"#d8576b\"], [0.6666666666666666, \"#ed7953\"], [0.7777777777777778, \"#fb9f3a\"], [0.8888888888888888, \"#fdca26\"], [1.0, \"#f0f921\"]], \"type\": \"surface\"}], \"table\": [{\"cells\": {\"fill\": {\"color\": \"#EBF0F8\"}, \"line\": {\"color\": \"white\"}}, \"header\": {\"fill\": {\"color\": \"#C8D4E3\"}, \"line\": {\"color\": \"white\"}}, \"type\": \"table\"}]}, \"layout\": {\"annotationdefaults\": {\"arrowcolor\": \"#2a3f5f\", \"arrowhead\": 0, \"arrowwidth\": 1}, \"autotypenumbers\": \"strict\", \"coloraxis\": {\"colorbar\": {\"outlinewidth\": 0, \"ticks\": \"\"}}, \"colorscale\": {\"diverging\": [[0, \"#8e0152\"], [0.1, \"#c51b7d\"], [0.2, \"#de77ae\"], [0.3, \"#f1b6da\"], [0.4, \"#fde0ef\"], [0.5, \"#f7f7f7\"], [0.6, \"#e6f5d0\"], [0.7, \"#b8e186\"], [0.8, \"#7fbc41\"], [0.9, \"#4d9221\"], [1, \"#276419\"]], \"sequential\": [[0.0, \"#0d0887\"], [0.1111111111111111, \"#46039f\"], [0.2222222222222222, \"#7201a8\"], [0.3333333333333333, \"#9c179e\"], [0.4444444444444444, \"#bd3786\"], [0.5555555555555556, \"#d8576b\"], [0.6666666666666666, \"#ed7953\"], [0.7777777777777778, \"#fb9f3a\"], [0.8888888888888888, \"#fdca26\"], [1.0, \"#f0f921\"]], \"sequentialminus\": [[0.0, \"#0d0887\"], [0.1111111111111111, \"#46039f\"], [0.2222222222222222, \"#7201a8\"], [0.3333333333333333, \"#9c179e\"], [0.4444444444444444, \"#bd3786\"], [0.5555555555555556, \"#d8576b\"], [0.6666666666666666, \"#ed7953\"], [0.7777777777777778, \"#fb9f3a\"], [0.8888888888888888, \"#fdca26\"], [1.0, \"#f0f921\"]]}, \"colorway\": [\"#636efa\", \"#EF553B\", \"#00cc96\", \"#ab63fa\", \"#FFA15A\", \"#19d3f3\", \"#FF6692\", \"#B6E880\", \"#FF97FF\", \"#FECB52\"], \"font\": {\"color\": \"#2a3f5f\"}, \"geo\": {\"bgcolor\": \"white\", \"lakecolor\": \"white\", \"landcolor\": \"#E5ECF6\", \"showlakes\": true, \"showland\": true, \"subunitcolor\": \"white\"}, \"hoverlabel\": {\"align\": \"left\"}, \"hovermode\": \"closest\", \"mapbox\": {\"style\": \"light\"}, \"paper_bgcolor\": \"white\", \"plot_bgcolor\": \"#E5ECF6\", \"polar\": {\"angularaxis\": {\"gridcolor\": \"white\", \"linecolor\": \"white\", \"ticks\": \"\"}, \"bgcolor\": \"#E5ECF6\", \"radialaxis\": {\"gridcolor\": \"white\", \"linecolor\": \"white\", \"ticks\": \"\"}}, \"scene\": {\"xaxis\": {\"backgroundcolor\": \"#E5ECF6\", \"gridcolor\": \"white\", \"gridwidth\": 2, \"linecolor\": \"white\", \"showbackground\": true, \"ticks\": \"\", \"zerolinecolor\": \"white\"}, \"yaxis\": {\"backgroundcolor\": \"#E5ECF6\", \"gridcolor\": \"white\", \"gridwidth\": 2, \"linecolor\": \"white\", \"showbackground\": true, \"ticks\": \"\", \"zerolinecolor\": \"white\"}, \"zaxis\": {\"backgroundcolor\": \"#E5ECF6\", \"gridcolor\": \"white\", \"gridwidth\": 2, \"linecolor\": \"white\", \"showbackground\": true, \"ticks\": \"\", \"zerolinecolor\": \"white\"}}, \"shapedefaults\": {\"line\": {\"color\": \"#2a3f5f\"}}, \"ternary\": {\"aaxis\": {\"gridcolor\": \"white\", \"linecolor\": \"white\", \"ticks\": \"\"}, \"baxis\": {\"gridcolor\": \"white\", \"linecolor\": \"white\", \"ticks\": \"\"}, \"bgcolor\": \"#E5ECF6\", \"caxis\": {\"gridcolor\": \"white\", \"linecolor\": \"white\", \"ticks\": \"\"}}, \"title\": {\"x\": 0.05}, \"xaxis\": {\"automargin\": true, \"gridcolor\": \"white\", \"linecolor\": \"white\", \"ticks\": \"\", \"title\": {\"standoff\": 15}, \"zerolinecolor\": \"white\", \"zerolinewidth\": 2}, \"yaxis\": {\"automargin\": true, \"gridcolor\": \"white\", \"linecolor\": \"white\", \"ticks\": \"\", \"title\": {\"standoff\": 15}, \"zerolinecolor\": \"white\", \"zerolinewidth\": 2}}}, \"title\": {\"font\": {\"color\": \"#4D5663\"}}, \"xaxis\": {\"gridcolor\": \"#E1E5ED\", \"showgrid\": true, \"tickfont\": {\"color\": \"#4D5663\"}, \"title\": {\"font\": {\"color\": \"#4D5663\"}, \"text\": \"\"}, \"zerolinecolor\": \"#E1E5ED\"}, \"yaxis\": {\"gridcolor\": \"#E1E5ED\", \"showgrid\": true, \"tickfont\": {\"color\": \"#4D5663\"}, \"title\": {\"font\": {\"color\": \"#4D5663\"}, \"text\": \"\"}, \"zerolinecolor\": \"#E1E5ED\"}},                        {\"showLink\": true, \"linkText\": \"Export to plot.ly\", \"plotlyServerURL\": \"https://plot.ly\", \"responsive\": true}                    ).then(function(){\n",
       "                            \n",
       "var gd = document.getElementById('2a153c6d-c4b8-498b-814a-e22a2f174204');\n",
       "var x = new MutationObserver(function (mutations, observer) {{\n",
       "        var display = window.getComputedStyle(gd).display;\n",
       "        if (!display || display === 'none') {{\n",
       "            console.log([gd, 'removed!']);\n",
       "            Plotly.purge(gd);\n",
       "            observer.disconnect();\n",
       "        }}\n",
       "}});\n",
       "\n",
       "// Listen for the removal of the full notebook cells\n",
       "var notebookContainer = gd.closest('#notebook-container');\n",
       "if (notebookContainer) {{\n",
       "    x.observe(notebookContainer, {childList: true});\n",
       "}}\n",
       "\n",
       "// Listen for the clearing of the current output cell\n",
       "var outputEl = gd.closest('.output');\n",
       "if (outputEl) {{\n",
       "    x.observe(outputEl, {childList: true});\n",
       "}}\n",
       "\n",
       "                        })                };                });            </script>        </div>"
      ]
     },
     "metadata": {},
     "output_type": "display_data"
    }
   ],
   "source": [
    "df1[['Country', 'Quantity', 'Revenue']].groupby(by='Country').sum().iplot(kind='bar')"
   ]
  },
  {
   "cell_type": "markdown",
   "metadata": {},
   "source": [
    "## 2. Create an interactive line chart showing quantity and revenue sold to France between January 1st and May 31st 2011."
   ]
  },
  {
   "cell_type": "code",
   "execution_count": 64,
   "metadata": {},
   "outputs": [
    {
     "data": {
      "text/html": [
       "<div>\n",
       "<style scoped>\n",
       "    .dataframe tbody tr th:only-of-type {\n",
       "        vertical-align: middle;\n",
       "    }\n",
       "\n",
       "    .dataframe tbody tr th {\n",
       "        vertical-align: top;\n",
       "    }\n",
       "\n",
       "    .dataframe thead th {\n",
       "        text-align: right;\n",
       "    }\n",
       "</style>\n",
       "<table border=\"1\" class=\"dataframe\">\n",
       "  <thead>\n",
       "    <tr style=\"text-align: right;\">\n",
       "      <th></th>\n",
       "      <th>InvoiceNo</th>\n",
       "      <th>InvoiceDate</th>\n",
       "      <th>StockCode</th>\n",
       "      <th>Description</th>\n",
       "      <th>Quantity</th>\n",
       "      <th>UnitPrice</th>\n",
       "      <th>Revenue</th>\n",
       "      <th>CustomerID</th>\n",
       "      <th>Country</th>\n",
       "    </tr>\n",
       "  </thead>\n",
       "  <tbody>\n",
       "    <tr>\n",
       "      <th>807</th>\n",
       "      <td>551163</td>\n",
       "      <td>2011-04-26 15:52:00</td>\n",
       "      <td>85123A</td>\n",
       "      <td>CREAM HANGING HEART T-LIGHT HOLDER</td>\n",
       "      <td>9</td>\n",
       "      <td>2.95</td>\n",
       "      <td>26.55</td>\n",
       "      <td>12573</td>\n",
       "      <td>France</td>\n",
       "    </tr>\n",
       "    <tr>\n",
       "      <th>2645</th>\n",
       "      <td>540976</td>\n",
       "      <td>2011-01-12 15:00:00</td>\n",
       "      <td>84029G</td>\n",
       "      <td>KNITTED UNION FLAG HOT WATER BOTTLE</td>\n",
       "      <td>4</td>\n",
       "      <td>3.75</td>\n",
       "      <td>15.00</td>\n",
       "      <td>12652</td>\n",
       "      <td>France</td>\n",
       "    </tr>\n",
       "    <tr>\n",
       "      <th>3290</th>\n",
       "      <td>545181</td>\n",
       "      <td>2011-02-28 14:45:00</td>\n",
       "      <td>22752</td>\n",
       "      <td>SET 7 BABUSHKA NESTING BOXES</td>\n",
       "      <td>4</td>\n",
       "      <td>8.50</td>\n",
       "      <td>34.00</td>\n",
       "      <td>12509</td>\n",
       "      <td>France</td>\n",
       "    </tr>\n",
       "  </tbody>\n",
       "</table>\n",
       "</div>"
      ],
      "text/plain": [
       "      InvoiceNo         InvoiceDate StockCode  \\\n",
       "807      551163 2011-04-26 15:52:00    85123A   \n",
       "2645     540976 2011-01-12 15:00:00    84029G   \n",
       "3290     545181 2011-02-28 14:45:00     22752   \n",
       "\n",
       "                              Description  Quantity  UnitPrice  Revenue  \\\n",
       "807    CREAM HANGING HEART T-LIGHT HOLDER         9       2.95    26.55   \n",
       "2645  KNITTED UNION FLAG HOT WATER BOTTLE         4       3.75    15.00   \n",
       "3290         SET 7 BABUSHKA NESTING BOXES         4       8.50    34.00   \n",
       "\n",
       "      CustomerID Country  \n",
       "807        12573  France  \n",
       "2645       12652  France  \n",
       "3290       12509  France  "
      ]
     },
     "execution_count": 64,
     "metadata": {},
     "output_type": "execute_result"
    }
   ],
   "source": [
    "# Asignamos un nuevo df para facilitar la sintaxis\n",
    "\n",
    "df2 = data[(data['InvoiceDate'] >= '2011-01-01') & (data['InvoiceDate'] <= '2011-05-31') & (data['Country'] == 'France')]\n",
    "df2.head(3)"
   ]
  },
  {
   "cell_type": "code",
   "execution_count": 72,
   "metadata": {},
   "outputs": [
    {
     "data": {
      "application/vnd.plotly.v1+json": {
       "config": {
        "plotlyServerURL": "https://plot.ly"
       },
       "data": [
        {
         "hovertemplate": "variable=Quantity<br>InvoiceDate=%{x}<br>value=%{y}<extra></extra>",
         "legendgroup": "Quantity",
         "line": {
          "color": "#636efa",
          "dash": "solid"
         },
         "mode": "lines",
         "name": "Quantity",
         "showlegend": true,
         "type": "scattergl",
         "x": [
          "2011-01-05T12:42:00",
          "2011-01-05T12:42:00",
          "2011-01-05T12:42:00",
          "2011-01-05T12:42:00",
          "2011-01-05T12:42:00",
          "2011-01-05T12:42:00",
          "2011-01-05T12:42:00",
          "2011-01-05T12:42:00",
          "2011-01-05T12:42:00",
          "2011-01-05T12:42:00",
          "2011-01-05T12:42:00",
          "2011-01-05T12:42:00",
          "2011-01-05T12:42:00",
          "2011-01-05T12:42:00",
          "2011-01-05T12:42:00",
          "2011-01-05T12:42:00",
          "2011-01-05T12:42:00",
          "2011-01-05T12:42:00",
          "2011-01-05T12:42:00",
          "2011-01-05T12:42:00",
          "2011-01-05T12:42:00",
          "2011-01-05T12:42:00",
          "2011-01-05T12:42:00",
          "2011-01-05T12:42:00",
          "2011-01-05T12:42:00",
          "2011-01-05T12:42:00",
          "2011-01-05T12:42:00",
          "2011-01-05T12:42:00",
          "2011-01-05T12:42:00",
          "2011-01-05T12:42:00",
          "2011-01-05T12:42:00",
          "2011-01-05T12:42:00",
          "2011-01-05T12:42:00",
          "2011-01-05T14:48:00",
          "2011-01-05T14:48:00",
          "2011-01-05T14:48:00",
          "2011-01-05T14:48:00",
          "2011-01-05T14:48:00",
          "2011-01-05T14:48:00",
          "2011-01-05T14:48:00",
          "2011-01-05T14:48:00",
          "2011-01-05T14:48:00",
          "2011-01-05T14:48:00",
          "2011-01-05T14:48:00",
          "2011-01-05T14:48:00",
          "2011-01-05T14:48:00",
          "2011-01-05T14:48:00",
          "2011-01-05T14:48:00",
          "2011-01-05T14:48:00",
          "2011-01-05T14:48:00",
          "2011-01-05T14:48:00",
          "2011-01-05T14:48:00",
          "2011-01-05T14:48:00",
          "2011-01-05T14:48:00",
          "2011-01-05T14:48:00",
          "2011-01-05T14:48:00",
          "2011-01-05T14:48:00",
          "2011-01-05T14:48:00",
          "2011-01-05T14:48:00",
          "2011-01-05T14:48:00",
          "2011-01-05T14:48:00",
          "2011-01-05T14:48:00",
          "2011-01-05T14:48:00",
          "2011-01-05T14:48:00",
          "2011-01-05T14:48:00",
          "2011-01-05T14:48:00",
          "2011-01-05T14:48:00",
          "2011-01-05T14:48:00",
          "2011-01-05T14:48:00",
          "2011-01-05T14:48:00",
          "2011-01-05T14:48:00",
          "2011-01-05T14:48:00",
          "2011-01-06T14:26:00",
          "2011-01-06T14:26:00",
          "2011-01-06T14:26:00",
          "2011-01-06T14:26:00",
          "2011-01-06T14:26:00",
          "2011-01-06T14:26:00",
          "2011-01-06T14:26:00",
          "2011-01-06T14:26:00",
          "2011-01-06T14:26:00",
          "2011-01-06T14:26:00",
          "2011-01-06T14:26:00",
          "2011-01-06T14:26:00",
          "2011-01-06T14:26:00",
          "2011-01-06T14:26:00",
          "2011-01-06T14:26:00",
          "2011-01-06T14:26:00",
          "2011-01-06T14:26:00",
          "2011-01-06T14:26:00",
          "2011-01-06T14:26:00",
          "2011-01-06T14:26:00",
          "2011-01-06T14:26:00",
          "2011-01-06T16:12:00",
          "2011-01-06T16:12:00",
          "2011-01-06T16:12:00",
          "2011-01-06T16:12:00",
          "2011-01-06T16:12:00",
          "2011-01-06T16:12:00",
          "2011-01-06T16:12:00",
          "2011-01-06T16:12:00",
          "2011-01-06T16:12:00",
          "2011-01-06T16:12:00",
          "2011-01-06T16:12:00",
          "2011-01-06T16:12:00",
          "2011-01-06T16:12:00",
          "2011-01-06T16:12:00",
          "2011-01-06T16:12:00",
          "2011-01-06T16:12:00",
          "2011-01-06T16:12:00",
          "2011-01-06T16:12:00",
          "2011-01-06T16:12:00",
          "2011-01-06T16:12:00",
          "2011-01-06T16:12:00",
          "2011-01-06T16:12:00",
          "2011-01-06T16:12:00",
          "2011-01-07T12:07:00",
          "2011-01-07T12:07:00",
          "2011-01-07T12:07:00",
          "2011-01-07T12:07:00",
          "2011-01-07T12:07:00",
          "2011-01-07T12:07:00",
          "2011-01-07T12:07:00",
          "2011-01-07T12:07:00",
          "2011-01-07T12:07:00",
          "2011-01-07T12:07:00",
          "2011-01-07T12:07:00",
          "2011-01-07T12:07:00",
          "2011-01-07T12:07:00",
          "2011-01-07T12:07:00",
          "2011-01-07T12:07:00",
          "2011-01-07T12:07:00",
          "2011-01-07T12:07:00",
          "2011-01-07T12:07:00",
          "2011-01-07T12:07:00",
          "2011-01-07T12:07:00",
          "2011-01-07T12:07:00",
          "2011-01-07T13:13:00",
          "2011-01-07T13:13:00",
          "2011-01-07T13:13:00",
          "2011-01-07T13:13:00",
          "2011-01-07T13:13:00",
          "2011-01-07T13:13:00",
          "2011-01-07T13:13:00",
          "2011-01-07T13:13:00",
          "2011-01-07T13:13:00",
          "2011-01-07T13:13:00",
          "2011-01-07T13:13:00",
          "2011-01-07T13:13:00",
          "2011-01-07T13:13:00",
          "2011-01-07T13:13:00",
          "2011-01-09T12:46:00",
          "2011-01-09T12:46:00",
          "2011-01-09T12:46:00",
          "2011-01-09T12:46:00",
          "2011-01-09T12:46:00",
          "2011-01-09T12:46:00",
          "2011-01-09T12:46:00",
          "2011-01-09T12:46:00",
          "2011-01-09T12:46:00",
          "2011-01-10T13:22:00",
          "2011-01-10T13:22:00",
          "2011-01-10T13:22:00",
          "2011-01-10T13:22:00",
          "2011-01-10T13:22:00",
          "2011-01-10T13:22:00",
          "2011-01-10T13:22:00",
          "2011-01-10T13:22:00",
          "2011-01-10T13:22:00",
          "2011-01-10T13:22:00",
          "2011-01-10T13:22:00",
          "2011-01-10T13:22:00",
          "2011-01-10T13:22:00",
          "2011-01-10T13:22:00",
          "2011-01-10T13:22:00",
          "2011-01-10T13:22:00",
          "2011-01-10T13:22:00",
          "2011-01-10T13:22:00",
          "2011-01-10T13:22:00",
          "2011-01-10T13:22:00",
          "2011-01-10T13:22:00",
          "2011-01-10T13:22:00",
          "2011-01-10T13:22:00",
          "2011-01-10T13:22:00",
          "2011-01-10T13:22:00",
          "2011-01-10T13:22:00",
          "2011-01-10T13:22:00",
          "2011-01-10T13:22:00",
          "2011-01-10T13:22:00",
          "2011-01-10T13:22:00",
          "2011-01-10T13:22:00",
          "2011-01-10T13:22:00",
          "2011-01-10T13:22:00",
          "2011-01-10T13:22:00",
          "2011-01-10T13:22:00",
          "2011-01-10T13:22:00",
          "2011-01-10T13:22:00",
          "2011-01-10T13:22:00",
          "2011-01-10T13:22:00",
          "2011-01-10T13:22:00",
          "2011-01-10T13:22:00",
          "2011-01-10T13:22:00",
          "2011-01-10T13:22:00",
          "2011-01-10T13:22:00",
          "2011-01-10T13:22:00",
          "2011-01-10T13:22:00",
          "2011-01-10T13:22:00",
          "2011-01-10T13:22:00",
          "2011-01-10T13:22:00",
          "2011-01-11T07:57:00",
          "2011-01-11T07:57:00",
          "2011-01-11T07:57:00",
          "2011-01-11T11:48:00",
          "2011-01-11T13:31:00",
          "2011-01-11T13:31:00",
          "2011-01-11T13:31:00",
          "2011-01-11T13:31:00",
          "2011-01-11T13:31:00",
          "2011-01-11T13:31:00",
          "2011-01-11T13:31:00",
          "2011-01-11T13:31:00",
          "2011-01-11T13:31:00",
          "2011-01-11T13:31:00",
          "2011-01-11T13:31:00",
          "2011-01-11T13:31:00",
          "2011-01-11T15:00:00",
          "2011-01-11T15:00:00",
          "2011-01-11T15:00:00",
          "2011-01-11T15:00:00",
          "2011-01-11T15:00:00",
          "2011-01-11T15:00:00",
          "2011-01-11T15:00:00",
          "2011-01-11T15:00:00",
          "2011-01-11T15:00:00",
          "2011-01-11T15:00:00",
          "2011-01-12T09:43:00",
          "2011-01-12T09:43:00",
          "2011-01-12T09:43:00",
          "2011-01-12T09:43:00",
          "2011-01-12T09:43:00",
          "2011-01-12T09:43:00",
          "2011-01-12T09:43:00",
          "2011-01-12T14:13:00",
          "2011-01-12T14:13:00",
          "2011-01-12T14:13:00",
          "2011-01-12T14:13:00",
          "2011-01-12T14:13:00",
          "2011-01-12T14:13:00",
          "2011-01-12T15:00:00",
          "2011-01-12T15:00:00",
          "2011-01-12T15:00:00",
          "2011-01-12T15:00:00",
          "2011-01-12T15:00:00",
          "2011-01-12T15:00:00",
          "2011-01-12T15:00:00",
          "2011-01-12T15:00:00",
          "2011-01-12T15:00:00",
          "2011-01-12T15:00:00",
          "2011-01-12T15:00:00",
          "2011-01-12T15:00:00",
          "2011-01-12T15:00:00",
          "2011-01-12T15:00:00",
          "2011-01-12T15:00:00",
          "2011-01-12T15:00:00",
          "2011-01-12T15:00:00",
          "2011-01-12T15:00:00",
          "2011-01-12T15:00:00",
          "2011-01-12T15:00:00",
          "2011-01-12T15:00:00",
          "2011-01-12T15:00:00",
          "2011-01-12T15:00:00",
          "2011-01-12T15:00:00",
          "2011-01-12T15:00:00",
          "2011-01-12T15:00:00",
          "2011-01-12T15:00:00",
          "2011-01-12T15:00:00",
          "2011-01-12T15:00:00",
          "2011-01-12T15:00:00",
          "2011-01-12T15:00:00",
          "2011-01-12T15:00:00",
          "2011-01-12T15:00:00",
          "2011-01-12T15:00:00",
          "2011-01-12T15:00:00",
          "2011-01-12T15:00:00",
          "2011-01-12T15:00:00",
          "2011-01-12T15:00:00",
          "2011-01-12T15:00:00",
          "2011-01-12T15:00:00",
          "2011-01-12T15:00:00",
          "2011-01-12T15:00:00",
          "2011-01-12T15:00:00",
          "2011-01-12T15:00:00",
          "2011-01-12T15:00:00",
          "2011-01-12T15:00:00",
          "2011-01-12T15:00:00",
          "2011-01-14T09:13:00",
          "2011-01-14T09:13:00",
          "2011-01-14T09:13:00",
          "2011-01-14T09:13:00",
          "2011-01-14T09:13:00",
          "2011-01-14T09:13:00",
          "2011-01-14T09:13:00",
          "2011-01-14T09:13:00",
          "2011-01-14T09:13:00",
          "2011-01-14T09:13:00",
          "2011-01-14T09:13:00",
          "2011-01-14T09:13:00",
          "2011-01-14T09:13:00",
          "2011-01-14T09:13:00",
          "2011-01-14T09:13:00",
          "2011-01-14T09:13:00",
          "2011-01-14T09:13:00",
          "2011-01-14T09:13:00",
          "2011-01-14T09:13:00",
          "2011-01-14T09:13:00",
          "2011-01-14T09:13:00",
          "2011-01-14T09:13:00",
          "2011-01-14T09:13:00",
          "2011-01-14T09:13:00",
          "2011-01-14T09:13:00",
          "2011-01-14T09:13:00",
          "2011-01-14T09:13:00",
          "2011-01-14T09:13:00",
          "2011-01-14T09:13:00",
          "2011-01-14T09:13:00",
          "2011-01-14T09:13:00",
          "2011-01-14T09:13:00",
          "2011-01-14T09:13:00",
          "2011-01-14T09:13:00",
          "2011-01-14T09:13:00",
          "2011-01-14T09:13:00",
          "2011-01-14T09:13:00",
          "2011-01-14T09:13:00",
          "2011-01-14T09:13:00",
          "2011-01-14T09:13:00",
          "2011-01-14T09:13:00",
          "2011-01-14T09:13:00",
          "2011-01-14T09:20:00",
          "2011-01-14T09:20:00",
          "2011-01-14T09:20:00",
          "2011-01-14T09:20:00",
          "2011-01-14T09:20:00",
          "2011-01-14T09:20:00",
          "2011-01-14T09:20:00",
          "2011-01-14T09:20:00",
          "2011-01-14T09:20:00",
          "2011-01-14T09:20:00",
          "2011-01-14T10:42:00",
          "2011-01-14T10:42:00",
          "2011-01-14T10:42:00",
          "2011-01-14T10:42:00",
          "2011-01-14T10:42:00",
          "2011-01-14T10:42:00",
          "2011-01-14T10:42:00",
          "2011-01-14T10:42:00",
          "2011-01-14T10:42:00",
          "2011-01-14T10:42:00",
          "2011-01-14T10:42:00",
          "2011-01-14T10:42:00",
          "2011-01-14T10:42:00",
          "2011-01-14T10:42:00",
          "2011-01-14T10:42:00",
          "2011-01-14T10:42:00",
          "2011-01-14T10:42:00",
          "2011-01-14T10:42:00",
          "2011-01-14T10:42:00",
          "2011-01-14T10:42:00",
          "2011-01-14T10:42:00",
          "2011-01-14T10:42:00",
          "2011-01-14T10:42:00",
          "2011-01-14T10:42:00",
          "2011-01-14T10:42:00",
          "2011-01-14T10:42:00",
          "2011-01-14T10:42:00",
          "2011-01-14T10:42:00",
          "2011-01-14T10:42:00",
          "2011-01-14T10:42:00",
          "2011-01-14T10:42:00",
          "2011-01-14T10:42:00",
          "2011-01-14T10:42:00",
          "2011-01-14T10:42:00",
          "2011-01-14T10:42:00",
          "2011-01-14T10:42:00",
          "2011-01-14T10:42:00",
          "2011-01-17T15:17:00",
          "2011-01-17T15:17:00",
          "2011-01-17T15:17:00",
          "2011-01-17T15:17:00",
          "2011-01-17T15:17:00",
          "2011-01-17T15:17:00",
          "2011-01-17T15:17:00",
          "2011-01-17T15:17:00",
          "2011-01-17T15:17:00",
          "2011-01-17T15:17:00",
          "2011-01-17T15:17:00",
          "2011-01-17T15:17:00",
          "2011-01-17T15:17:00",
          "2011-01-17T15:17:00",
          "2011-01-17T15:17:00",
          "2011-01-17T15:17:00",
          "2011-01-17T15:17:00",
          "2011-01-17T15:17:00",
          "2011-01-17T15:17:00",
          "2011-01-17T15:17:00",
          "2011-01-19T11:51:00",
          "2011-01-19T11:51:00",
          "2011-01-19T11:51:00",
          "2011-01-19T11:51:00",
          "2011-01-19T11:51:00",
          "2011-01-19T11:51:00",
          "2011-01-19T11:51:00",
          "2011-01-19T11:51:00",
          "2011-01-19T11:51:00",
          "2011-01-19T11:51:00",
          "2011-01-19T11:51:00",
          "2011-01-19T11:51:00",
          "2011-01-19T11:51:00",
          "2011-01-19T11:51:00",
          "2011-01-19T11:51:00",
          "2011-01-19T11:51:00",
          "2011-01-19T11:51:00",
          "2011-01-19T11:51:00",
          "2011-01-19T11:51:00",
          "2011-01-19T11:51:00",
          "2011-01-19T11:51:00",
          "2011-01-19T11:51:00",
          "2011-01-19T11:51:00",
          "2011-01-19T11:51:00",
          "2011-01-19T11:51:00",
          "2011-01-19T11:51:00",
          "2011-01-19T11:51:00",
          "2011-01-19T11:51:00",
          "2011-01-19T11:51:00",
          "2011-01-19T11:51:00",
          "2011-01-20T10:47:00",
          "2011-01-20T10:47:00",
          "2011-01-20T10:47:00",
          "2011-01-20T10:47:00",
          "2011-01-20T10:47:00",
          "2011-01-20T10:47:00",
          "2011-01-20T10:47:00",
          "2011-01-20T10:47:00",
          "2011-01-20T10:47:00",
          "2011-01-20T10:47:00",
          "2011-01-20T10:47:00",
          "2011-01-20T10:47:00",
          "2011-01-20T10:47:00",
          "2011-01-20T10:47:00",
          "2011-01-20T10:47:00",
          "2011-01-20T10:47:00",
          "2011-01-20T10:47:00",
          "2011-01-20T10:47:00",
          "2011-01-20T10:47:00",
          "2011-01-20T10:47:00",
          "2011-01-20T10:47:00",
          "2011-01-20T10:47:00",
          "2011-01-20T10:47:00",
          "2011-01-20T10:47:00",
          "2011-01-20T10:47:00",
          "2011-01-20T10:47:00",
          "2011-01-20T10:47:00",
          "2011-01-20T10:48:00",
          "2011-01-20T10:48:00",
          "2011-01-20T10:48:00",
          "2011-01-20T10:48:00",
          "2011-01-20T10:48:00",
          "2011-01-20T10:48:00",
          "2011-01-20T10:48:00",
          "2011-01-20T10:48:00",
          "2011-01-20T10:48:00",
          "2011-01-20T10:48:00",
          "2011-01-20T10:48:00",
          "2011-01-20T10:48:00",
          "2011-01-20T10:48:00",
          "2011-01-20T10:48:00",
          "2011-01-20T10:48:00",
          "2011-01-20T10:48:00",
          "2011-01-20T10:48:00",
          "2011-01-20T10:48:00",
          "2011-01-20T10:48:00",
          "2011-01-20T10:48:00",
          "2011-01-20T10:48:00",
          "2011-01-20T10:48:00",
          "2011-01-20T10:48:00",
          "2011-01-20T10:48:00",
          "2011-01-20T10:48:00",
          "2011-01-20T10:48:00",
          "2011-01-20T10:48:00",
          "2011-01-20T10:48:00",
          "2011-01-20T10:48:00",
          "2011-01-20T10:48:00",
          "2011-01-20T10:48:00",
          "2011-01-20T10:48:00",
          "2011-01-20T10:48:00",
          "2011-01-20T10:48:00",
          "2011-01-20T10:48:00",
          "2011-01-20T10:48:00",
          "2011-01-20T10:48:00",
          "2011-01-20T10:48:00",
          "2011-01-20T10:48:00",
          "2011-01-20T10:48:00",
          "2011-01-20T10:48:00",
          "2011-01-20T10:48:00",
          "2011-01-20T10:48:00",
          "2011-01-20T10:48:00",
          "2011-01-23T15:17:00",
          "2011-01-23T15:17:00",
          "2011-01-23T15:17:00",
          "2011-01-23T15:17:00",
          "2011-01-23T15:17:00",
          "2011-01-23T15:17:00",
          "2011-01-23T15:17:00",
          "2011-01-23T15:17:00",
          "2011-01-23T15:17:00",
          "2011-01-23T15:17:00",
          "2011-01-23T15:17:00",
          "2011-01-24T15:32:00",
          "2011-01-24T15:32:00",
          "2011-01-24T15:32:00",
          "2011-01-24T15:32:00",
          "2011-01-24T15:32:00",
          "2011-01-24T15:32:00",
          "2011-01-24T15:32:00",
          "2011-01-24T15:32:00",
          "2011-01-24T15:32:00",
          "2011-01-28T09:20:00",
          "2011-01-28T09:20:00",
          "2011-01-28T09:20:00",
          "2011-01-28T09:20:00",
          "2011-01-28T09:20:00",
          "2011-01-28T09:20:00",
          "2011-01-28T09:20:00",
          "2011-01-28T09:20:00",
          "2011-01-28T09:20:00",
          "2011-01-28T09:20:00",
          "2011-01-28T10:45:00",
          "2011-01-28T10:45:00",
          "2011-01-28T10:45:00",
          "2011-01-28T10:45:00",
          "2011-01-28T10:45:00",
          "2011-01-28T10:45:00",
          "2011-01-28T10:45:00",
          "2011-01-28T10:45:00",
          "2011-01-28T10:45:00",
          "2011-01-28T10:45:00",
          "2011-01-28T10:45:00",
          "2011-01-28T10:45:00",
          "2011-01-28T10:45:00",
          "2011-01-28T10:45:00",
          "2011-01-28T10:45:00",
          "2011-01-28T10:45:00",
          "2011-01-28T10:45:00",
          "2011-01-28T10:45:00",
          "2011-01-28T13:37:00",
          "2011-01-28T13:37:00",
          "2011-01-28T13:37:00",
          "2011-01-28T13:37:00",
          "2011-01-28T13:37:00",
          "2011-01-28T13:37:00",
          "2011-01-28T13:37:00",
          "2011-01-28T13:37:00",
          "2011-01-28T13:37:00",
          "2011-01-28T13:37:00",
          "2011-01-28T13:37:00",
          "2011-01-28T13:37:00",
          "2011-01-28T13:37:00",
          "2011-01-28T13:37:00",
          "2011-01-28T13:37:00",
          "2011-01-28T13:37:00",
          "2011-01-28T13:37:00",
          "2011-01-28T13:37:00",
          "2011-01-28T13:37:00",
          "2011-01-28T13:37:00",
          "2011-01-31T09:57:00",
          "2011-01-31T09:57:00",
          "2011-01-31T09:57:00",
          "2011-01-31T09:57:00",
          "2011-01-31T09:57:00",
          "2011-01-31T09:57:00",
          "2011-01-31T09:57:00",
          "2011-01-31T09:57:00",
          "2011-01-31T09:57:00",
          "2011-01-31T09:57:00",
          "2011-01-31T09:57:00",
          "2011-01-31T09:57:00",
          "2011-01-31T09:57:00",
          "2011-01-31T09:57:00",
          "2011-01-31T09:57:00",
          "2011-01-31T09:57:00",
          "2011-01-31T09:57:00",
          "2011-01-31T09:57:00",
          "2011-01-31T09:57:00",
          "2011-01-31T09:57:00",
          "2011-01-31T09:57:00",
          "2011-01-31T09:57:00",
          "2011-01-31T09:57:00",
          "2011-01-31T09:57:00",
          "2011-01-31T09:57:00",
          "2011-01-31T09:57:00",
          "2011-01-31T09:57:00",
          "2011-01-31T09:57:00",
          "2011-01-31T09:57:00",
          "2011-01-31T09:57:00",
          "2011-01-31T09:57:00",
          "2011-01-31T09:57:00",
          "2011-01-31T09:57:00",
          "2011-01-31T09:57:00",
          "2011-01-31T09:57:00",
          "2011-01-31T09:57:00",
          "2011-01-31T09:57:00",
          "2011-01-31T09:57:00",
          "2011-01-31T09:57:00",
          "2011-01-31T09:57:00",
          "2011-01-31T09:57:00",
          "2011-01-31T09:57:00",
          "2011-01-31T09:57:00",
          "2011-01-31T09:57:00",
          "2011-01-31T09:57:00",
          "2011-01-31T09:57:00",
          "2011-01-31T15:36:00",
          "2011-01-31T15:36:00",
          "2011-01-31T15:36:00",
          "2011-01-31T15:36:00",
          "2011-01-31T15:36:00",
          "2011-01-31T15:36:00",
          "2011-01-31T15:36:00",
          "2011-01-31T15:36:00",
          "2011-01-31T15:36:00",
          "2011-01-31T15:36:00",
          "2011-01-31T15:36:00",
          "2011-01-31T15:36:00",
          "2011-01-31T15:36:00",
          "2011-01-31T15:36:00",
          "2011-01-31T15:36:00",
          "2011-01-31T15:36:00",
          "2011-01-31T15:36:00",
          "2011-02-01T14:58:00",
          "2011-02-01T14:58:00",
          "2011-02-01T14:58:00",
          "2011-02-01T14:58:00",
          "2011-02-01T14:58:00",
          "2011-02-01T14:58:00",
          "2011-02-01T14:58:00",
          "2011-02-01T14:58:00",
          "2011-02-01T14:58:00",
          "2011-02-01T14:58:00",
          "2011-02-01T14:58:00",
          "2011-02-01T14:58:00",
          "2011-02-01T14:58:00",
          "2011-02-01T14:58:00",
          "2011-02-01T14:58:00",
          "2011-02-01T14:58:00",
          "2011-02-01T14:58:00",
          "2011-02-01T14:58:00",
          "2011-02-02T09:06:00",
          "2011-02-02T09:06:00",
          "2011-02-02T09:06:00",
          "2011-02-02T09:06:00",
          "2011-02-02T09:06:00",
          "2011-02-02T09:06:00",
          "2011-02-02T09:06:00",
          "2011-02-02T09:06:00",
          "2011-02-02T09:06:00",
          "2011-02-02T09:06:00",
          "2011-02-02T09:06:00",
          "2011-02-02T09:06:00",
          "2011-02-02T09:06:00",
          "2011-02-02T09:06:00",
          "2011-02-02T09:06:00",
          "2011-02-02T09:06:00",
          "2011-02-02T09:06:00",
          "2011-02-02T09:06:00",
          "2011-02-02T15:22:00",
          "2011-02-02T15:22:00",
          "2011-02-02T15:22:00",
          "2011-02-02T15:22:00",
          "2011-02-02T15:22:00",
          "2011-02-02T15:22:00",
          "2011-02-02T15:22:00",
          "2011-02-02T15:22:00",
          "2011-02-02T15:22:00",
          "2011-02-04T11:45:00",
          "2011-02-04T11:45:00",
          "2011-02-04T11:45:00",
          "2011-02-04T11:45:00",
          "2011-02-04T11:45:00",
          "2011-02-04T11:45:00",
          "2011-02-04T11:45:00",
          "2011-02-04T11:45:00",
          "2011-02-04T11:45:00",
          "2011-02-04T11:45:00",
          "2011-02-04T11:45:00",
          "2011-02-04T11:45:00",
          "2011-02-04T11:45:00",
          "2011-02-04T11:45:00",
          "2011-02-04T11:45:00",
          "2011-02-04T11:45:00",
          "2011-02-04T11:45:00",
          "2011-02-04T11:45:00",
          "2011-02-04T11:45:00",
          "2011-02-04T11:45:00",
          "2011-02-04T11:45:00",
          "2011-02-04T11:45:00",
          "2011-02-04T11:45:00",
          "2011-02-04T11:45:00",
          "2011-02-04T11:45:00",
          "2011-02-04T11:45:00",
          "2011-02-04T11:45:00",
          "2011-02-04T11:45:00",
          "2011-02-04T11:45:00",
          "2011-02-04T11:45:00",
          "2011-02-04T11:45:00",
          "2011-02-04T11:45:00",
          "2011-02-04T11:45:00",
          "2011-02-04T11:45:00",
          "2011-02-04T11:45:00",
          "2011-02-04T11:45:00",
          "2011-02-04T11:45:00",
          "2011-02-04T11:45:00",
          "2011-02-04T11:45:00",
          "2011-02-04T11:45:00",
          "2011-02-04T11:45:00",
          "2011-02-04T11:45:00",
          "2011-02-04T11:45:00",
          "2011-02-04T11:45:00",
          "2011-02-04T11:45:00",
          "2011-02-04T11:45:00",
          "2011-02-04T11:45:00",
          "2011-02-04T11:45:00",
          "2011-02-04T11:45:00",
          "2011-02-04T11:45:00",
          "2011-02-04T11:45:00",
          "2011-02-04T11:45:00",
          "2011-02-04T11:45:00",
          "2011-02-04T11:45:00",
          "2011-02-04T11:45:00",
          "2011-02-04T11:45:00",
          "2011-02-04T11:45:00",
          "2011-02-04T11:45:00",
          "2011-02-04T11:45:00",
          "2011-02-04T11:45:00",
          "2011-02-04T11:45:00",
          "2011-02-04T11:45:00",
          "2011-02-08T13:28:00",
          "2011-02-08T13:28:00",
          "2011-02-08T13:28:00",
          "2011-02-08T13:28:00",
          "2011-02-08T13:28:00",
          "2011-02-08T13:28:00",
          "2011-02-08T13:28:00",
          "2011-02-08T13:28:00",
          "2011-02-08T13:28:00",
          "2011-02-08T13:28:00",
          "2011-02-08T13:28:00",
          "2011-02-08T13:28:00",
          "2011-02-08T13:28:00",
          "2011-02-09T10:11:00",
          "2011-02-09T10:11:00",
          "2011-02-09T10:11:00",
          "2011-02-09T10:11:00",
          "2011-02-09T10:11:00",
          "2011-02-09T10:11:00",
          "2011-02-09T10:11:00",
          "2011-02-09T10:11:00",
          "2011-02-09T10:11:00",
          "2011-02-09T10:11:00",
          "2011-02-09T10:11:00",
          "2011-02-09T10:11:00",
          "2011-02-09T10:11:00",
          "2011-02-09T10:11:00",
          "2011-02-09T10:11:00",
          "2011-02-09T10:11:00",
          "2011-02-09T10:11:00",
          "2011-02-09T10:11:00",
          "2011-02-09T10:11:00",
          "2011-02-09T10:11:00",
          "2011-02-09T10:11:00",
          "2011-02-09T10:11:00",
          "2011-02-09T10:11:00",
          "2011-02-09T10:11:00",
          "2011-02-09T10:11:00",
          "2011-02-09T10:11:00",
          "2011-02-10T15:38:00",
          "2011-02-10T15:38:00",
          "2011-02-10T15:38:00",
          "2011-02-10T15:38:00",
          "2011-02-10T15:38:00",
          "2011-02-10T15:38:00",
          "2011-02-10T15:38:00",
          "2011-02-10T15:38:00",
          "2011-02-10T15:38:00",
          "2011-02-10T15:38:00",
          "2011-02-10T15:38:00",
          "2011-02-10T15:38:00",
          "2011-02-15T14:17:00",
          "2011-02-15T14:17:00",
          "2011-02-15T14:17:00",
          "2011-02-15T14:17:00",
          "2011-02-15T14:17:00",
          "2011-02-15T14:17:00",
          "2011-02-15T14:17:00",
          "2011-02-15T14:17:00",
          "2011-02-15T14:17:00",
          "2011-02-15T14:17:00",
          "2011-02-16T11:45:00",
          "2011-02-16T11:45:00",
          "2011-02-16T11:45:00",
          "2011-02-16T11:45:00",
          "2011-02-16T11:45:00",
          "2011-02-16T11:45:00",
          "2011-02-16T11:45:00",
          "2011-02-16T11:45:00",
          "2011-02-16T11:45:00",
          "2011-02-16T11:45:00",
          "2011-02-16T11:45:00",
          "2011-02-16T11:45:00",
          "2011-02-16T11:45:00",
          "2011-02-16T11:45:00",
          "2011-02-16T11:45:00",
          "2011-02-16T11:45:00",
          "2011-02-16T11:45:00",
          "2011-02-16T11:45:00",
          "2011-02-16T11:45:00",
          "2011-02-16T11:45:00",
          "2011-02-16T11:45:00",
          "2011-02-16T11:45:00",
          "2011-02-16T11:45:00",
          "2011-02-16T11:45:00",
          "2011-02-16T11:45:00",
          "2011-02-16T11:45:00",
          "2011-02-16T11:45:00",
          "2011-02-16T11:45:00",
          "2011-02-16T11:45:00",
          "2011-02-16T11:45:00",
          "2011-02-16T11:45:00",
          "2011-02-16T11:45:00",
          "2011-02-16T11:45:00",
          "2011-02-16T11:45:00",
          "2011-02-16T11:45:00",
          "2011-02-16T11:45:00",
          "2011-02-16T11:45:00",
          "2011-02-16T11:45:00",
          "2011-02-16T11:45:00",
          "2011-02-16T11:45:00",
          "2011-02-16T11:45:00",
          "2011-02-16T11:45:00",
          "2011-02-16T11:45:00",
          "2011-02-16T11:45:00",
          "2011-02-16T11:45:00",
          "2011-02-16T11:45:00",
          "2011-02-16T11:45:00",
          "2011-02-17T10:08:00",
          "2011-02-17T10:08:00",
          "2011-02-17T10:08:00",
          "2011-02-17T10:08:00",
          "2011-02-17T10:08:00",
          "2011-02-17T10:08:00",
          "2011-02-17T10:08:00",
          "2011-02-17T10:08:00",
          "2011-02-17T10:08:00",
          "2011-02-17T10:08:00",
          "2011-02-17T10:08:00",
          "2011-02-17T10:08:00",
          "2011-02-17T10:08:00",
          "2011-02-17T10:08:00",
          "2011-02-17T10:08:00",
          "2011-02-18T10:53:00",
          "2011-02-18T10:53:00",
          "2011-02-18T10:53:00",
          "2011-02-18T10:53:00",
          "2011-02-18T10:53:00",
          "2011-02-18T10:53:00",
          "2011-02-18T10:53:00",
          "2011-02-18T10:53:00",
          "2011-02-18T10:53:00",
          "2011-02-18T10:53:00",
          "2011-02-18T10:53:00",
          "2011-02-18T10:53:00",
          "2011-02-18T10:53:00",
          "2011-02-18T10:53:00",
          "2011-02-18T10:53:00",
          "2011-02-18T10:53:00",
          "2011-02-18T10:53:00",
          "2011-02-18T10:53:00",
          "2011-02-18T10:53:00",
          "2011-02-18T10:53:00",
          "2011-02-18T10:53:00",
          "2011-02-18T10:53:00",
          "2011-02-18T10:53:00",
          "2011-02-18T10:53:00",
          "2011-02-18T10:53:00",
          "2011-02-18T10:53:00",
          "2011-02-18T10:53:00",
          "2011-02-18T10:53:00",
          "2011-02-18T10:53:00",
          "2011-02-18T10:53:00",
          "2011-02-18T10:53:00",
          "2011-02-18T10:53:00",
          "2011-02-18T10:53:00",
          "2011-02-18T10:53:00",
          "2011-02-18T10:53:00",
          "2011-02-18T10:53:00",
          "2011-02-18T10:53:00",
          "2011-02-18T10:53:00",
          "2011-02-18T10:53:00",
          "2011-02-18T10:53:00",
          "2011-02-18T10:53:00",
          "2011-02-18T10:53:00",
          "2011-02-18T10:53:00",
          "2011-02-18T10:53:00",
          "2011-02-18T10:53:00",
          "2011-02-18T10:53:00",
          "2011-02-18T10:53:00",
          "2011-02-18T10:53:00",
          "2011-02-18T10:53:00",
          "2011-02-18T10:53:00",
          "2011-02-18T10:53:00",
          "2011-02-18T10:53:00",
          "2011-02-18T15:23:00",
          "2011-02-21T08:38:00",
          "2011-02-21T08:38:00",
          "2011-02-21T08:38:00",
          "2011-02-21T08:38:00",
          "2011-02-21T08:38:00",
          "2011-02-21T08:38:00",
          "2011-02-21T08:38:00",
          "2011-02-21T08:38:00",
          "2011-02-21T08:38:00",
          "2011-02-21T08:38:00",
          "2011-02-21T08:38:00",
          "2011-02-21T08:38:00",
          "2011-02-21T08:38:00",
          "2011-02-21T08:38:00",
          "2011-02-21T08:38:00",
          "2011-02-21T08:38:00",
          "2011-02-21T08:38:00",
          "2011-02-21T08:38:00",
          "2011-02-21T08:38:00",
          "2011-02-21T08:38:00",
          "2011-02-21T08:38:00",
          "2011-02-21T08:38:00",
          "2011-02-21T08:38:00",
          "2011-02-21T08:38:00",
          "2011-02-21T08:38:00",
          "2011-02-21T08:38:00",
          "2011-02-21T08:38:00",
          "2011-02-21T08:38:00",
          "2011-02-21T08:38:00",
          "2011-02-21T08:38:00",
          "2011-02-21T08:38:00",
          "2011-02-21T08:38:00",
          "2011-02-21T08:38:00",
          "2011-02-21T14:58:00",
          "2011-02-21T14:58:00",
          "2011-02-21T14:58:00",
          "2011-02-21T14:58:00",
          "2011-02-21T14:58:00",
          "2011-02-21T14:58:00",
          "2011-02-21T14:58:00",
          "2011-02-23T16:44:00",
          "2011-02-23T16:44:00",
          "2011-02-23T16:44:00",
          "2011-02-23T16:44:00",
          "2011-02-23T16:44:00",
          "2011-02-23T16:44:00",
          "2011-02-23T16:44:00",
          "2011-02-23T16:44:00",
          "2011-02-23T16:44:00",
          "2011-02-23T16:44:00",
          "2011-02-23T16:44:00",
          "2011-02-23T16:44:00",
          "2011-02-23T16:44:00",
          "2011-02-23T16:44:00",
          "2011-02-23T16:44:00",
          "2011-02-23T16:44:00",
          "2011-02-23T16:45:00",
          "2011-02-23T16:45:00",
          "2011-02-23T16:45:00",
          "2011-02-23T16:45:00",
          "2011-02-27T11:58:00",
          "2011-02-27T11:58:00",
          "2011-02-27T11:58:00",
          "2011-02-27T11:58:00",
          "2011-02-28T11:43:00",
          "2011-02-28T11:43:00",
          "2011-02-28T11:43:00",
          "2011-02-28T11:43:00",
          "2011-02-28T11:43:00",
          "2011-02-28T11:43:00",
          "2011-02-28T11:43:00",
          "2011-02-28T11:43:00",
          "2011-02-28T11:43:00",
          "2011-02-28T11:43:00",
          "2011-02-28T11:43:00",
          "2011-02-28T11:43:00",
          "2011-02-28T11:58:00",
          "2011-02-28T11:58:00",
          "2011-02-28T11:58:00",
          "2011-02-28T11:58:00",
          "2011-02-28T11:58:00",
          "2011-02-28T11:58:00",
          "2011-02-28T11:58:00",
          "2011-02-28T11:58:00",
          "2011-02-28T11:58:00",
          "2011-02-28T11:58:00",
          "2011-02-28T11:58:00",
          "2011-02-28T11:58:00",
          "2011-02-28T11:58:00",
          "2011-02-28T11:58:00",
          "2011-02-28T11:58:00",
          "2011-02-28T11:58:00",
          "2011-02-28T11:58:00",
          "2011-02-28T11:58:00",
          "2011-02-28T11:58:00",
          "2011-02-28T11:58:00",
          "2011-02-28T11:58:00",
          "2011-02-28T11:58:00",
          "2011-02-28T11:58:00",
          "2011-02-28T11:58:00",
          "2011-02-28T11:58:00",
          "2011-02-28T14:42:00",
          "2011-02-28T14:42:00",
          "2011-02-28T14:42:00",
          "2011-02-28T14:42:00",
          "2011-02-28T14:42:00",
          "2011-02-28T14:42:00",
          "2011-02-28T14:42:00",
          "2011-02-28T14:42:00",
          "2011-02-28T14:42:00",
          "2011-02-28T14:42:00",
          "2011-02-28T14:42:00",
          "2011-02-28T14:45:00",
          "2011-02-28T14:45:00",
          "2011-02-28T14:45:00",
          "2011-02-28T14:45:00",
          "2011-02-28T14:45:00",
          "2011-02-28T14:45:00",
          "2011-03-01T10:31:00",
          "2011-03-01T10:31:00",
          "2011-03-01T10:31:00",
          "2011-03-01T10:31:00",
          "2011-03-01T10:31:00",
          "2011-03-01T10:31:00",
          "2011-03-01T10:31:00",
          "2011-03-01T10:31:00",
          "2011-03-01T10:31:00",
          "2011-03-01T10:31:00",
          "2011-03-01T10:31:00",
          "2011-03-01T10:31:00",
          "2011-03-01T10:31:00",
          "2011-03-01T10:31:00",
          "2011-03-01T10:31:00",
          "2011-03-01T10:31:00",
          "2011-03-01T12:26:00",
          "2011-03-01T12:26:00",
          "2011-03-01T12:26:00",
          "2011-03-01T12:26:00",
          "2011-03-01T12:26:00",
          "2011-03-01T12:26:00",
          "2011-03-01T12:26:00",
          "2011-03-01T12:26:00",
          "2011-03-01T12:26:00",
          "2011-03-01T12:26:00",
          "2011-03-01T12:26:00",
          "2011-03-01T12:26:00",
          "2011-03-01T12:26:00",
          "2011-03-01T12:26:00",
          "2011-03-01T12:26:00",
          "2011-03-01T12:26:00",
          "2011-03-01T12:26:00",
          "2011-03-01T12:26:00",
          "2011-03-01T12:26:00",
          "2011-03-01T12:26:00",
          "2011-03-01T12:26:00",
          "2011-03-01T12:26:00",
          "2011-03-01T12:26:00",
          "2011-03-01T12:26:00",
          "2011-03-01T12:26:00",
          "2011-03-01T12:26:00",
          "2011-03-01T12:26:00",
          "2011-03-01T12:26:00",
          "2011-03-01T12:26:00",
          "2011-03-01T12:26:00",
          "2011-03-01T12:26:00",
          "2011-03-01T12:26:00",
          "2011-03-01T12:26:00",
          "2011-03-01T12:26:00",
          "2011-03-01T12:26:00",
          "2011-03-01T12:26:00",
          "2011-03-01T12:26:00",
          "2011-03-01T12:26:00",
          "2011-03-01T12:26:00",
          "2011-03-01T12:26:00",
          "2011-03-01T12:26:00",
          "2011-03-03T12:06:00",
          "2011-03-03T12:06:00",
          "2011-03-03T12:06:00",
          "2011-03-03T12:06:00",
          "2011-03-03T12:06:00",
          "2011-03-03T12:06:00",
          "2011-03-03T12:06:00",
          "2011-03-03T12:06:00",
          "2011-03-03T12:06:00",
          "2011-03-03T12:06:00",
          "2011-03-03T12:06:00",
          "2011-03-03T12:06:00",
          "2011-03-03T12:06:00",
          "2011-03-03T12:06:00",
          "2011-03-03T12:06:00",
          "2011-03-03T12:06:00",
          "2011-03-03T12:06:00",
          "2011-03-03T12:06:00",
          "2011-03-03T12:06:00",
          "2011-03-03T12:06:00",
          "2011-03-03T12:06:00",
          "2011-03-03T12:06:00",
          "2011-03-03T12:06:00",
          "2011-03-03T12:06:00",
          "2011-03-03T12:06:00",
          "2011-03-03T12:06:00",
          "2011-03-03T12:06:00",
          "2011-03-03T12:20:00",
          "2011-03-04T09:08:00",
          "2011-03-04T09:08:00",
          "2011-03-04T09:08:00",
          "2011-03-04T09:08:00",
          "2011-03-04T09:08:00",
          "2011-03-04T09:08:00",
          "2011-03-04T09:08:00",
          "2011-03-04T09:08:00",
          "2011-03-04T09:08:00",
          "2011-03-04T09:08:00",
          "2011-03-04T09:08:00",
          "2011-03-04T09:08:00",
          "2011-03-04T09:08:00",
          "2011-03-04T09:08:00",
          "2011-03-04T09:08:00",
          "2011-03-11T12:00:00",
          "2011-03-11T12:00:00",
          "2011-03-11T12:00:00",
          "2011-03-11T12:00:00",
          "2011-03-11T12:00:00",
          "2011-03-11T12:00:00",
          "2011-03-11T12:00:00",
          "2011-03-11T12:00:00",
          "2011-03-11T12:00:00",
          "2011-03-11T12:00:00",
          "2011-03-11T12:00:00",
          "2011-03-11T12:00:00",
          "2011-03-11T12:00:00",
          "2011-03-11T12:00:00",
          "2011-03-11T12:00:00",
          "2011-03-11T12:00:00",
          "2011-03-11T12:00:00",
          "2011-03-11T12:00:00",
          "2011-03-11T12:00:00",
          "2011-03-13T14:55:00",
          "2011-03-13T14:55:00",
          "2011-03-13T14:55:00",
          "2011-03-13T14:55:00",
          "2011-03-13T14:55:00",
          "2011-03-13T14:55:00",
          "2011-03-13T14:55:00",
          "2011-03-13T14:55:00",
          "2011-03-13T14:55:00",
          "2011-03-13T14:55:00",
          "2011-03-13T14:55:00",
          "2011-03-13T14:55:00",
          "2011-03-13T14:55:00",
          "2011-03-13T14:55:00",
          "2011-03-13T14:55:00",
          "2011-03-13T14:55:00",
          "2011-03-13T14:55:00",
          "2011-03-14T11:38:00",
          "2011-03-14T11:38:00",
          "2011-03-14T11:38:00",
          "2011-03-14T11:38:00",
          "2011-03-14T11:38:00",
          "2011-03-14T11:38:00",
          "2011-03-14T11:38:00",
          "2011-03-14T11:38:00",
          "2011-03-14T11:38:00",
          "2011-03-14T11:38:00",
          "2011-03-14T11:38:00",
          "2011-03-14T11:38:00",
          "2011-03-14T11:38:00",
          "2011-03-14T11:38:00",
          "2011-03-14T11:38:00",
          "2011-03-14T11:38:00",
          "2011-03-14T11:38:00",
          "2011-03-14T11:38:00",
          "2011-03-14T11:38:00",
          "2011-03-14T11:38:00",
          "2011-03-15T16:39:00",
          "2011-03-15T16:39:00",
          "2011-03-15T16:39:00",
          "2011-03-15T16:39:00",
          "2011-03-15T16:39:00",
          "2011-03-15T16:39:00",
          "2011-03-15T16:39:00",
          "2011-03-15T16:39:00",
          "2011-03-15T16:39:00",
          "2011-03-15T16:39:00",
          "2011-03-15T16:39:00",
          "2011-03-15T16:39:00",
          "2011-03-15T16:39:00",
          "2011-03-15T16:39:00",
          "2011-03-15T16:39:00",
          "2011-03-15T16:39:00",
          "2011-03-15T16:39:00",
          "2011-03-15T16:39:00",
          "2011-03-15T16:39:00",
          "2011-03-15T16:39:00",
          "2011-03-15T16:39:00",
          "2011-03-15T16:39:00",
          "2011-03-15T16:39:00",
          "2011-03-15T16:39:00",
          "2011-03-15T16:39:00",
          "2011-03-15T16:39:00",
          "2011-03-15T16:39:00",
          "2011-03-15T16:39:00",
          "2011-03-16T14:37:00",
          "2011-03-16T14:37:00",
          "2011-03-16T14:37:00",
          "2011-03-16T14:37:00",
          "2011-03-16T14:37:00",
          "2011-03-16T14:37:00",
          "2011-03-16T14:37:00",
          "2011-03-16T15:17:00",
          "2011-03-16T15:17:00",
          "2011-03-16T15:17:00",
          "2011-03-16T15:17:00",
          "2011-03-16T15:17:00",
          "2011-03-16T15:17:00",
          "2011-03-16T15:17:00",
          "2011-03-16T15:17:00",
          "2011-03-20T15:58:00",
          "2011-03-20T15:58:00",
          "2011-03-20T15:58:00",
          "2011-03-20T15:58:00",
          "2011-03-20T15:58:00",
          "2011-03-20T15:58:00",
          "2011-03-20T15:58:00",
          "2011-03-20T15:58:00",
          "2011-03-20T15:58:00",
          "2011-03-20T15:58:00",
          "2011-03-20T15:58:00",
          "2011-03-20T15:58:00",
          "2011-03-20T15:58:00",
          "2011-03-20T15:58:00",
          "2011-03-21T12:42:00",
          "2011-03-21T12:42:00",
          "2011-03-21T12:42:00",
          "2011-03-21T12:42:00",
          "2011-03-21T12:42:00",
          "2011-03-21T12:42:00",
          "2011-03-21T12:42:00",
          "2011-03-21T12:42:00",
          "2011-03-21T12:42:00",
          "2011-03-21T12:42:00",
          "2011-03-21T12:42:00",
          "2011-03-21T12:42:00",
          "2011-03-21T12:42:00",
          "2011-03-21T12:42:00",
          "2011-03-21T12:42:00",
          "2011-03-21T12:42:00",
          "2011-03-21T12:42:00",
          "2011-03-21T12:42:00",
          "2011-03-21T12:42:00",
          "2011-03-21T12:42:00",
          "2011-03-21T12:42:00",
          "2011-03-21T12:42:00",
          "2011-03-21T12:42:00",
          "2011-03-21T12:42:00",
          "2011-03-21T12:42:00",
          "2011-03-21T12:42:00",
          "2011-03-21T12:42:00",
          "2011-03-21T12:42:00",
          "2011-03-21T12:42:00",
          "2011-03-21T12:42:00",
          "2011-03-21T12:42:00",
          "2011-03-21T12:42:00",
          "2011-03-21T12:42:00",
          "2011-03-21T12:42:00",
          "2011-03-21T12:42:00",
          "2011-03-21T12:42:00",
          "2011-03-21T12:42:00",
          "2011-03-21T12:42:00",
          "2011-03-21T12:42:00",
          "2011-03-21T12:42:00",
          "2011-03-21T12:44:00",
          "2011-03-21T12:44:00",
          "2011-03-21T12:44:00",
          "2011-03-21T12:44:00",
          "2011-03-22T11:28:00",
          "2011-03-22T11:28:00",
          "2011-03-22T11:28:00",
          "2011-03-22T11:28:00",
          "2011-03-22T11:28:00",
          "2011-03-22T11:28:00",
          "2011-03-22T11:28:00",
          "2011-03-22T11:28:00",
          "2011-03-22T11:28:00",
          "2011-03-22T11:28:00",
          "2011-03-22T11:28:00",
          "2011-03-22T11:28:00",
          "2011-03-22T11:28:00",
          "2011-03-22T11:28:00",
          "2011-03-22T11:28:00",
          "2011-03-22T11:28:00",
          "2011-03-22T11:28:00",
          "2011-03-22T11:28:00",
          "2011-03-22T11:28:00",
          "2011-03-22T11:28:00",
          "2011-03-22T11:28:00",
          "2011-03-22T11:28:00",
          "2011-03-22T11:28:00",
          "2011-03-22T11:28:00",
          "2011-03-22T11:28:00",
          "2011-03-22T11:28:00",
          "2011-03-22T11:28:00",
          "2011-03-22T11:28:00",
          "2011-03-22T11:28:00",
          "2011-03-22T11:28:00",
          "2011-03-23T12:06:00",
          "2011-03-23T12:06:00",
          "2011-03-23T12:06:00",
          "2011-03-23T12:06:00",
          "2011-03-23T12:06:00",
          "2011-03-23T12:06:00",
          "2011-03-23T12:06:00",
          "2011-03-23T12:06:00",
          "2011-03-23T12:06:00",
          "2011-03-23T13:33:00",
          "2011-03-23T13:33:00",
          "2011-03-23T13:33:00",
          "2011-03-23T13:33:00",
          "2011-03-23T13:33:00",
          "2011-03-23T13:33:00",
          "2011-03-23T13:33:00",
          "2011-03-23T13:33:00",
          "2011-03-23T13:33:00",
          "2011-03-23T13:33:00",
          "2011-03-23T13:33:00",
          "2011-03-23T13:33:00",
          "2011-03-23T13:33:00",
          "2011-03-23T13:33:00",
          "2011-03-23T13:33:00",
          "2011-03-23T13:33:00",
          "2011-03-23T13:33:00",
          "2011-03-23T13:33:00",
          "2011-03-23T13:33:00",
          "2011-03-23T13:33:00",
          "2011-03-23T13:33:00",
          "2011-03-23T13:33:00",
          "2011-03-23T13:33:00",
          "2011-03-23T13:33:00",
          "2011-03-23T13:33:00",
          "2011-03-23T13:33:00",
          "2011-03-23T13:33:00",
          "2011-03-23T13:33:00",
          "2011-03-23T13:33:00",
          "2011-03-23T13:33:00",
          "2011-03-23T13:33:00",
          "2011-03-23T13:33:00",
          "2011-03-23T13:33:00",
          "2011-03-23T13:33:00",
          "2011-03-23T13:39:00",
          "2011-03-23T13:39:00",
          "2011-03-23T13:39:00",
          "2011-03-23T13:39:00",
          "2011-03-23T13:39:00",
          "2011-03-23T13:39:00",
          "2011-03-23T13:39:00",
          "2011-03-23T13:39:00",
          "2011-03-23T14:55:00",
          "2011-03-23T14:55:00",
          "2011-03-23T14:55:00",
          "2011-03-23T14:55:00",
          "2011-03-23T14:55:00",
          "2011-03-23T14:55:00",
          "2011-03-23T14:55:00",
          "2011-03-23T14:55:00",
          "2011-03-23T14:55:00",
          "2011-03-23T14:55:00",
          "2011-03-23T14:55:00",
          "2011-03-23T14:55:00",
          "2011-03-23T14:55:00",
          "2011-03-23T14:55:00",
          "2011-03-23T14:55:00",
          "2011-03-23T14:55:00",
          "2011-03-23T14:55:00",
          "2011-03-23T14:55:00",
          "2011-03-23T14:55:00",
          "2011-03-23T14:55:00",
          "2011-03-25T10:19:00",
          "2011-03-25T10:19:00",
          "2011-03-25T10:19:00",
          "2011-03-25T10:19:00",
          "2011-03-25T10:19:00",
          "2011-03-25T10:19:00",
          "2011-03-25T10:19:00",
          "2011-03-25T10:19:00",
          "2011-03-25T10:19:00",
          "2011-03-25T10:19:00",
          "2011-03-25T10:19:00",
          "2011-03-25T10:19:00",
          "2011-03-25T10:19:00",
          "2011-03-25T10:19:00",
          "2011-03-25T10:19:00",
          "2011-03-25T10:19:00",
          "2011-03-25T10:19:00",
          "2011-03-25T10:19:00",
          "2011-03-25T10:19:00",
          "2011-03-25T10:19:00",
          "2011-03-25T10:19:00",
          "2011-03-25T10:19:00",
          "2011-03-27T13:07:00",
          "2011-03-27T13:07:00",
          "2011-03-27T13:07:00",
          "2011-03-27T13:07:00",
          "2011-03-27T13:07:00",
          "2011-03-27T13:07:00",
          "2011-03-27T13:07:00",
          "2011-03-28T10:15:00",
          "2011-03-28T10:15:00",
          "2011-03-28T10:15:00",
          "2011-03-28T10:15:00",
          "2011-03-28T10:15:00",
          "2011-03-28T10:15:00",
          "2011-03-28T10:15:00",
          "2011-03-28T10:15:00",
          "2011-03-28T10:15:00",
          "2011-03-28T10:15:00",
          "2011-03-28T10:15:00",
          "2011-03-28T10:15:00",
          "2011-03-28T10:15:00",
          "2011-03-28T10:15:00",
          "2011-03-28T10:15:00",
          "2011-03-28T10:15:00",
          "2011-03-28T10:15:00",
          "2011-03-28T10:15:00",
          "2011-03-28T10:15:00",
          "2011-03-28T10:15:00",
          "2011-03-28T10:15:00",
          "2011-03-28T10:15:00",
          "2011-03-28T10:15:00",
          "2011-03-28T10:15:00",
          "2011-03-28T10:15:00",
          "2011-03-28T10:15:00",
          "2011-03-28T10:15:00",
          "2011-03-28T10:15:00",
          "2011-03-28T10:15:00",
          "2011-03-28T10:15:00",
          "2011-03-28T10:15:00",
          "2011-03-28T10:15:00",
          "2011-03-28T10:15:00",
          "2011-03-28T10:15:00",
          "2011-03-28T10:15:00",
          "2011-03-28T10:15:00",
          "2011-03-28T10:15:00",
          "2011-03-28T10:15:00",
          "2011-03-28T10:15:00",
          "2011-03-28T10:15:00",
          "2011-03-28T10:15:00",
          "2011-03-28T10:15:00",
          "2011-03-28T10:15:00",
          "2011-03-28T10:15:00",
          "2011-03-28T10:15:00",
          "2011-03-28T10:15:00",
          "2011-03-28T10:15:00",
          "2011-03-28T10:15:00",
          "2011-03-28T10:15:00",
          "2011-03-28T10:15:00",
          "2011-03-28T10:15:00",
          "2011-03-28T10:15:00",
          "2011-03-28T10:15:00",
          "2011-03-28T10:15:00",
          "2011-03-28T10:15:00",
          "2011-03-28T10:15:00",
          "2011-03-28T10:15:00",
          "2011-03-28T10:15:00",
          "2011-03-28T10:15:00",
          "2011-03-28T10:15:00",
          "2011-03-28T10:15:00",
          "2011-03-28T10:15:00",
          "2011-03-28T10:15:00",
          "2011-03-28T10:15:00",
          "2011-03-28T10:15:00",
          "2011-03-28T10:15:00",
          "2011-03-28T10:15:00",
          "2011-03-28T10:15:00",
          "2011-03-31T10:27:00",
          "2011-03-31T10:27:00",
          "2011-03-31T10:27:00",
          "2011-03-31T10:27:00",
          "2011-03-31T10:27:00",
          "2011-03-31T10:27:00",
          "2011-03-31T10:27:00",
          "2011-03-31T10:27:00",
          "2011-03-31T10:27:00",
          "2011-03-31T10:27:00",
          "2011-03-31T10:27:00",
          "2011-03-31T10:27:00",
          "2011-03-31T10:27:00",
          "2011-03-31T10:27:00",
          "2011-03-31T10:27:00",
          "2011-03-31T10:27:00",
          "2011-03-31T10:27:00",
          "2011-03-31T10:27:00",
          "2011-03-31T10:27:00",
          "2011-03-31T10:27:00",
          "2011-03-31T10:27:00",
          "2011-03-31T10:27:00",
          "2011-03-31T10:27:00",
          "2011-03-31T10:27:00",
          "2011-03-31T10:27:00",
          "2011-03-31T10:27:00",
          "2011-03-31T10:27:00",
          "2011-03-31T10:27:00",
          "2011-03-31T10:27:00",
          "2011-03-31T10:27:00",
          "2011-03-31T10:27:00",
          "2011-03-31T10:27:00",
          "2011-03-31T10:27:00",
          "2011-03-31T10:29:00",
          "2011-03-31T10:29:00",
          "2011-03-31T10:29:00",
          "2011-03-31T10:29:00",
          "2011-03-31T13:40:00",
          "2011-03-31T13:40:00",
          "2011-03-31T13:40:00",
          "2011-03-31T13:40:00",
          "2011-03-31T13:40:00",
          "2011-03-31T13:40:00",
          "2011-03-31T13:40:00",
          "2011-03-31T13:40:00",
          "2011-03-31T13:40:00",
          "2011-03-31T13:40:00",
          "2011-03-31T13:40:00",
          "2011-03-31T13:40:00",
          "2011-03-31T13:40:00",
          "2011-03-31T13:40:00",
          "2011-03-31T13:40:00",
          "2011-03-31T13:40:00",
          "2011-03-31T13:40:00",
          "2011-03-31T13:40:00",
          "2011-03-31T13:40:00",
          "2011-03-31T13:40:00",
          "2011-03-31T13:40:00",
          "2011-03-31T13:40:00",
          "2011-03-31T13:40:00",
          "2011-03-31T13:40:00",
          "2011-03-31T13:40:00",
          "2011-03-31T13:40:00",
          "2011-03-31T13:40:00",
          "2011-03-31T13:40:00",
          "2011-03-31T13:40:00",
          "2011-03-31T13:40:00",
          "2011-03-31T13:40:00",
          "2011-03-31T13:40:00",
          "2011-03-31T13:40:00",
          "2011-03-31T13:40:00",
          "2011-03-31T13:40:00",
          "2011-04-01T09:19:00",
          "2011-04-01T09:19:00",
          "2011-04-01T09:19:00",
          "2011-04-01T09:19:00",
          "2011-04-01T09:19:00",
          "2011-04-01T09:19:00",
          "2011-04-01T09:19:00",
          "2011-04-01T09:19:00",
          "2011-04-01T09:19:00",
          "2011-04-01T11:10:00",
          "2011-04-01T11:10:00",
          "2011-04-01T11:10:00",
          "2011-04-04T11:18:00",
          "2011-04-04T11:18:00",
          "2011-04-04T11:18:00",
          "2011-04-04T11:18:00",
          "2011-04-04T11:18:00",
          "2011-04-04T11:18:00",
          "2011-04-04T11:18:00",
          "2011-04-04T11:18:00",
          "2011-04-04T11:18:00",
          "2011-04-04T11:18:00",
          "2011-04-04T11:18:00",
          "2011-04-04T11:18:00",
          "2011-04-04T11:18:00",
          "2011-04-04T11:18:00",
          "2011-04-04T11:18:00",
          "2011-04-04T11:18:00",
          "2011-04-04T11:18:00",
          "2011-04-04T11:18:00",
          "2011-04-04T11:18:00",
          "2011-04-04T11:18:00",
          "2011-04-04T11:18:00",
          "2011-04-04T11:18:00",
          "2011-04-04T11:18:00",
          "2011-04-04T11:18:00",
          "2011-04-04T11:18:00",
          "2011-04-04T11:18:00",
          "2011-04-07T13:07:00",
          "2011-04-07T13:07:00",
          "2011-04-07T13:07:00",
          "2011-04-07T13:07:00",
          "2011-04-07T13:07:00",
          "2011-04-07T13:07:00",
          "2011-04-07T13:07:00",
          "2011-04-07T13:07:00",
          "2011-04-07T13:07:00",
          "2011-04-07T13:07:00",
          "2011-04-07T13:07:00",
          "2011-04-07T13:07:00",
          "2011-04-07T13:07:00",
          "2011-04-07T13:07:00",
          "2011-04-07T13:07:00",
          "2011-04-07T13:07:00",
          "2011-04-07T13:07:00",
          "2011-04-07T13:07:00",
          "2011-04-07T13:07:00",
          "2011-04-07T13:07:00",
          "2011-04-07T13:07:00",
          "2011-04-07T13:07:00",
          "2011-04-07T13:07:00",
          "2011-04-14T14:15:00",
          "2011-04-14T14:15:00",
          "2011-04-14T14:15:00",
          "2011-04-14T14:15:00",
          "2011-04-14T14:15:00",
          "2011-04-14T14:15:00",
          "2011-04-14T14:15:00",
          "2011-04-14T14:15:00",
          "2011-04-14T14:15:00",
          "2011-04-14T14:15:00",
          "2011-04-14T14:15:00",
          "2011-04-14T14:15:00",
          "2011-04-14T14:15:00",
          "2011-04-14T14:15:00",
          "2011-04-14T14:15:00",
          "2011-04-14T14:15:00",
          "2011-04-14T14:15:00",
          "2011-04-14T14:15:00",
          "2011-04-14T14:15:00",
          "2011-04-14T14:15:00",
          "2011-04-14T14:15:00",
          "2011-04-14T14:15:00",
          "2011-04-14T14:15:00",
          "2011-04-14T14:15:00",
          "2011-04-14T14:15:00",
          "2011-04-14T14:15:00",
          "2011-04-14T14:15:00",
          "2011-04-14T14:15:00",
          "2011-04-14T14:15:00",
          "2011-04-14T14:15:00",
          "2011-04-17T11:21:00",
          "2011-04-17T11:21:00",
          "2011-04-17T11:21:00",
          "2011-04-17T11:21:00",
          "2011-04-17T11:21:00",
          "2011-04-17T11:21:00",
          "2011-04-17T11:21:00",
          "2011-04-17T11:21:00",
          "2011-04-17T11:21:00",
          "2011-04-17T11:21:00",
          "2011-04-17T11:21:00",
          "2011-04-17T11:21:00",
          "2011-04-17T11:21:00",
          "2011-04-17T11:21:00",
          "2011-04-17T11:21:00",
          "2011-04-17T11:21:00",
          "2011-04-17T11:21:00",
          "2011-04-17T11:21:00",
          "2011-04-17T11:21:00",
          "2011-04-17T11:21:00",
          "2011-04-17T11:21:00",
          "2011-04-17T11:21:00",
          "2011-04-17T11:21:00",
          "2011-04-17T11:21:00",
          "2011-04-17T11:21:00",
          "2011-04-17T11:21:00",
          "2011-04-17T15:33:00",
          "2011-04-17T15:33:00",
          "2011-04-17T15:33:00",
          "2011-04-17T15:33:00",
          "2011-04-20T09:20:00",
          "2011-04-20T09:20:00",
          "2011-04-20T09:20:00",
          "2011-04-20T09:20:00",
          "2011-04-20T09:20:00",
          "2011-04-20T09:20:00",
          "2011-04-20T09:20:00",
          "2011-04-20T09:20:00",
          "2011-04-20T09:20:00",
          "2011-04-20T09:20:00",
          "2011-04-20T09:20:00",
          "2011-04-20T09:20:00",
          "2011-04-20T09:20:00",
          "2011-04-20T09:20:00",
          "2011-04-20T09:20:00",
          "2011-04-20T09:20:00",
          "2011-04-20T09:20:00",
          "2011-04-21T08:54:00",
          "2011-04-21T08:54:00",
          "2011-04-21T08:54:00",
          "2011-04-21T08:54:00",
          "2011-04-21T08:54:00",
          "2011-04-21T08:54:00",
          "2011-04-21T08:54:00",
          "2011-04-21T08:54:00",
          "2011-04-21T08:54:00",
          "2011-04-21T08:54:00",
          "2011-04-21T08:54:00",
          "2011-04-21T08:54:00",
          "2011-04-21T08:54:00",
          "2011-04-21T08:54:00",
          "2011-04-21T08:54:00",
          "2011-04-21T08:54:00",
          "2011-04-21T08:54:00",
          "2011-04-21T08:54:00",
          "2011-04-21T08:54:00",
          "2011-04-21T08:54:00",
          "2011-04-21T08:54:00",
          "2011-04-21T08:54:00",
          "2011-04-21T08:54:00",
          "2011-04-21T10:16:00",
          "2011-04-21T10:16:00",
          "2011-04-21T10:16:00",
          "2011-04-21T10:16:00",
          "2011-04-21T10:16:00",
          "2011-04-21T10:16:00",
          "2011-04-21T10:16:00",
          "2011-04-21T10:16:00",
          "2011-04-21T10:16:00",
          "2011-04-21T10:16:00",
          "2011-04-21T10:16:00",
          "2011-04-21T10:16:00",
          "2011-04-21T10:16:00",
          "2011-04-21T10:16:00",
          "2011-04-21T10:16:00",
          "2011-04-21T10:16:00",
          "2011-04-21T10:16:00",
          "2011-04-21T10:16:00",
          "2011-04-21T10:16:00",
          "2011-04-21T10:16:00",
          "2011-04-21T10:16:00",
          "2011-04-26T15:52:00",
          "2011-04-26T15:52:00",
          "2011-04-26T15:52:00",
          "2011-04-26T15:52:00",
          "2011-04-26T15:52:00",
          "2011-04-26T15:52:00",
          "2011-04-26T15:52:00",
          "2011-04-26T15:52:00",
          "2011-04-26T15:52:00",
          "2011-04-26T15:52:00",
          "2011-04-26T15:52:00",
          "2011-04-26T15:52:00",
          "2011-04-26T15:52:00",
          "2011-04-26T15:52:00",
          "2011-04-26T15:52:00",
          "2011-04-26T15:52:00",
          "2011-04-26T15:52:00",
          "2011-04-26T15:52:00",
          "2011-04-26T15:52:00",
          "2011-04-26T15:52:00",
          "2011-04-26T15:52:00",
          "2011-04-26T15:52:00",
          "2011-04-26T15:52:00",
          "2011-04-26T15:52:00",
          "2011-04-26T15:52:00",
          "2011-04-26T15:52:00",
          "2011-04-26T15:52:00",
          "2011-04-26T15:52:00",
          "2011-04-28T11:45:00",
          "2011-04-28T11:45:00",
          "2011-04-28T11:45:00",
          "2011-04-28T11:45:00",
          "2011-04-28T11:45:00",
          "2011-04-28T11:45:00",
          "2011-04-28T11:45:00",
          "2011-05-03T08:40:00",
          "2011-05-03T08:40:00",
          "2011-05-03T08:40:00",
          "2011-05-03T08:40:00",
          "2011-05-03T08:40:00",
          "2011-05-03T08:40:00",
          "2011-05-03T08:40:00",
          "2011-05-03T08:40:00",
          "2011-05-03T08:40:00",
          "2011-05-03T08:40:00",
          "2011-05-03T08:40:00",
          "2011-05-03T08:40:00",
          "2011-05-03T08:40:00",
          "2011-05-03T08:40:00",
          "2011-05-03T08:40:00",
          "2011-05-03T08:40:00",
          "2011-05-03T08:40:00",
          "2011-05-03T08:40:00",
          "2011-05-03T08:40:00",
          "2011-05-03T08:40:00",
          "2011-05-03T09:33:00",
          "2011-05-03T09:33:00",
          "2011-05-03T09:33:00",
          "2011-05-03T09:33:00",
          "2011-05-03T09:33:00",
          "2011-05-03T09:33:00",
          "2011-05-03T09:33:00",
          "2011-05-03T09:33:00",
          "2011-05-03T09:33:00",
          "2011-05-03T09:33:00",
          "2011-05-03T09:33:00",
          "2011-05-03T09:33:00",
          "2011-05-03T09:33:00",
          "2011-05-03T09:33:00",
          "2011-05-03T09:33:00",
          "2011-05-03T09:33:00",
          "2011-05-03T09:33:00",
          "2011-05-03T09:33:00",
          "2011-05-03T09:33:00",
          "2011-05-03T09:33:00",
          "2011-05-03T09:34:00",
          "2011-05-03T12:02:00",
          "2011-05-03T12:02:00",
          "2011-05-03T12:02:00",
          "2011-05-03T12:03:00",
          "2011-05-03T12:03:00",
          "2011-05-03T12:03:00",
          "2011-05-03T12:03:00",
          "2011-05-05T09:29:00",
          "2011-05-05T09:29:00",
          "2011-05-05T09:29:00",
          "2011-05-05T09:29:00",
          "2011-05-05T09:29:00",
          "2011-05-05T09:29:00",
          "2011-05-05T09:29:00",
          "2011-05-05T09:29:00",
          "2011-05-05T09:29:00",
          "2011-05-05T09:29:00",
          "2011-05-08T16:10:00",
          "2011-05-08T16:10:00",
          "2011-05-08T16:10:00",
          "2011-05-08T16:10:00",
          "2011-05-08T16:10:00",
          "2011-05-08T16:10:00",
          "2011-05-08T16:10:00",
          "2011-05-08T16:10:00",
          "2011-05-08T16:10:00",
          "2011-05-08T16:10:00",
          "2011-05-08T16:10:00",
          "2011-05-08T16:10:00",
          "2011-05-08T16:10:00",
          "2011-05-08T16:10:00",
          "2011-05-08T16:10:00",
          "2011-05-08T16:10:00",
          "2011-05-08T16:10:00",
          "2011-05-08T16:10:00",
          "2011-05-08T16:10:00",
          "2011-05-08T16:10:00",
          "2011-05-08T16:10:00",
          "2011-05-08T16:10:00",
          "2011-05-08T16:10:00",
          "2011-05-08T16:10:00",
          "2011-05-08T16:10:00",
          "2011-05-08T16:10:00",
          "2011-05-08T16:10:00",
          "2011-05-08T16:10:00",
          "2011-05-08T16:10:00",
          "2011-05-08T16:10:00",
          "2011-05-08T16:10:00",
          "2011-05-08T16:10:00",
          "2011-05-08T16:10:00",
          "2011-05-08T16:10:00",
          "2011-05-08T16:10:00",
          "2011-05-08T16:10:00",
          "2011-05-08T16:10:00",
          "2011-05-08T16:10:00",
          "2011-05-08T16:10:00",
          "2011-05-08T16:10:00",
          "2011-05-08T16:10:00",
          "2011-05-08T16:10:00",
          "2011-05-08T16:10:00",
          "2011-05-08T16:10:00",
          "2011-05-08T16:10:00",
          "2011-05-08T16:10:00",
          "2011-05-08T16:10:00",
          "2011-05-08T16:10:00",
          "2011-05-08T16:10:00",
          "2011-05-08T16:10:00",
          "2011-05-08T16:10:00",
          "2011-05-08T16:10:00",
          "2011-05-08T16:10:00",
          "2011-05-08T16:10:00",
          "2011-05-08T16:10:00",
          "2011-05-08T16:10:00",
          "2011-05-08T16:10:00",
          "2011-05-08T16:10:00",
          "2011-05-08T16:10:00",
          "2011-05-08T16:10:00",
          "2011-05-08T16:10:00",
          "2011-05-09T09:47:00",
          "2011-05-09T09:47:00",
          "2011-05-09T09:47:00",
          "2011-05-09T09:47:00",
          "2011-05-09T09:47:00",
          "2011-05-09T09:47:00",
          "2011-05-09T09:47:00",
          "2011-05-09T09:47:00",
          "2011-05-09T09:47:00",
          "2011-05-09T09:47:00",
          "2011-05-09T09:47:00",
          "2011-05-09T09:47:00",
          "2011-05-09T09:47:00",
          "2011-05-09T09:47:00",
          "2011-05-09T09:47:00",
          "2011-05-09T09:47:00",
          "2011-05-09T15:12:00",
          "2011-05-09T15:12:00",
          "2011-05-09T15:12:00",
          "2011-05-09T15:12:00",
          "2011-05-09T15:12:00",
          "2011-05-09T15:12:00",
          "2011-05-09T15:12:00",
          "2011-05-09T15:12:00",
          "2011-05-09T15:12:00",
          "2011-05-10T12:55:00",
          "2011-05-10T12:55:00",
          "2011-05-10T12:55:00",
          "2011-05-10T12:55:00",
          "2011-05-10T12:55:00",
          "2011-05-10T12:55:00",
          "2011-05-10T12:55:00",
          "2011-05-10T12:55:00",
          "2011-05-10T12:55:00",
          "2011-05-10T12:55:00",
          "2011-05-10T12:55:00",
          "2011-05-10T12:55:00",
          "2011-05-10T12:55:00",
          "2011-05-10T12:55:00",
          "2011-05-10T12:55:00",
          "2011-05-10T12:55:00",
          "2011-05-10T12:55:00",
          "2011-05-10T12:55:00",
          "2011-05-10T12:55:00",
          "2011-05-10T12:55:00",
          "2011-05-10T12:55:00",
          "2011-05-10T12:55:00",
          "2011-05-10T12:55:00",
          "2011-05-10T12:55:00",
          "2011-05-10T12:55:00",
          "2011-05-10T12:55:00",
          "2011-05-10T12:55:00",
          "2011-05-10T12:55:00",
          "2011-05-10T12:55:00",
          "2011-05-11T13:20:00",
          "2011-05-11T13:20:00",
          "2011-05-11T13:20:00",
          "2011-05-11T13:20:00",
          "2011-05-11T13:20:00",
          "2011-05-11T13:20:00",
          "2011-05-11T13:20:00",
          "2011-05-11T13:20:00",
          "2011-05-11T13:20:00",
          "2011-05-11T13:20:00",
          "2011-05-11T13:20:00",
          "2011-05-11T13:20:00",
          "2011-05-11T13:20:00",
          "2011-05-11T13:20:00",
          "2011-05-11T13:20:00",
          "2011-05-11T13:20:00",
          "2011-05-11T13:20:00",
          "2011-05-11T13:20:00",
          "2011-05-11T13:20:00",
          "2011-05-11T13:20:00",
          "2011-05-11T13:20:00",
          "2011-05-11T13:20:00",
          "2011-05-11T13:20:00",
          "2011-05-11T13:20:00",
          "2011-05-11T13:20:00",
          "2011-05-11T13:20:00",
          "2011-05-11T13:20:00",
          "2011-05-11T13:20:00",
          "2011-05-11T13:20:00",
          "2011-05-11T13:20:00",
          "2011-05-11T13:20:00",
          "2011-05-11T13:20:00",
          "2011-05-11T13:20:00",
          "2011-05-11T13:20:00",
          "2011-05-11T13:20:00",
          "2011-05-11T13:20:00",
          "2011-05-11T13:20:00",
          "2011-05-11T13:20:00",
          "2011-05-11T13:20:00",
          "2011-05-11T13:20:00",
          "2011-05-11T13:20:00",
          "2011-05-11T13:20:00",
          "2011-05-11T13:20:00",
          "2011-05-11T13:20:00",
          "2011-05-11T13:20:00",
          "2011-05-11T13:20:00",
          "2011-05-11T13:20:00",
          "2011-05-11T13:20:00",
          "2011-05-11T13:20:00",
          "2011-05-11T13:20:00",
          "2011-05-11T13:20:00",
          "2011-05-11T13:20:00",
          "2011-05-11T13:20:00",
          "2011-05-11T13:20:00",
          "2011-05-11T13:20:00",
          "2011-05-11T13:20:00",
          "2011-05-11T13:20:00",
          "2011-05-11T13:20:00",
          "2011-05-11T13:20:00",
          "2011-05-11T13:20:00",
          "2011-05-11T13:20:00",
          "2011-05-11T13:20:00",
          "2011-05-11T13:20:00",
          "2011-05-11T13:20:00",
          "2011-05-11T13:20:00",
          "2011-05-11T13:20:00",
          "2011-05-11T13:20:00",
          "2011-05-11T13:20:00",
          "2011-05-11T13:20:00",
          "2011-05-11T13:20:00",
          "2011-05-11T13:20:00",
          "2011-05-11T13:20:00",
          "2011-05-11T13:20:00",
          "2011-05-11T13:20:00",
          "2011-05-11T13:20:00",
          "2011-05-11T15:07:00",
          "2011-05-11T15:07:00",
          "2011-05-11T15:07:00",
          "2011-05-11T15:07:00",
          "2011-05-11T15:07:00",
          "2011-05-11T15:07:00",
          "2011-05-11T15:07:00",
          "2011-05-11T15:07:00",
          "2011-05-11T15:07:00",
          "2011-05-11T15:07:00",
          "2011-05-11T15:07:00",
          "2011-05-11T15:07:00",
          "2011-05-11T15:07:00",
          "2011-05-11T15:07:00",
          "2011-05-11T15:07:00",
          "2011-05-11T15:07:00",
          "2011-05-11T15:07:00",
          "2011-05-11T15:07:00",
          "2011-05-11T15:07:00",
          "2011-05-11T15:07:00",
          "2011-05-11T15:07:00",
          "2011-05-11T15:07:00",
          "2011-05-11T15:07:00",
          "2011-05-12T11:50:00",
          "2011-05-12T11:50:00",
          "2011-05-12T11:50:00",
          "2011-05-12T11:50:00",
          "2011-05-12T11:50:00",
          "2011-05-12T11:50:00",
          "2011-05-12T11:50:00",
          "2011-05-12T11:50:00",
          "2011-05-12T11:50:00",
          "2011-05-12T11:50:00",
          "2011-05-12T11:50:00",
          "2011-05-13T09:24:00",
          "2011-05-13T09:24:00",
          "2011-05-13T09:24:00",
          "2011-05-13T09:24:00",
          "2011-05-13T09:24:00",
          "2011-05-13T09:24:00",
          "2011-05-13T09:24:00",
          "2011-05-13T09:24:00",
          "2011-05-13T09:24:00",
          "2011-05-13T09:24:00",
          "2011-05-13T09:24:00",
          "2011-05-13T09:24:00",
          "2011-05-13T09:24:00",
          "2011-05-13T09:24:00",
          "2011-05-13T09:24:00",
          "2011-05-13T09:24:00",
          "2011-05-13T09:24:00",
          "2011-05-13T09:24:00",
          "2011-05-13T09:24:00",
          "2011-05-13T09:24:00",
          "2011-05-13T09:24:00",
          "2011-05-13T09:24:00",
          "2011-05-13T09:24:00",
          "2011-05-13T13:15:00",
          "2011-05-13T13:15:00",
          "2011-05-13T13:15:00",
          "2011-05-13T13:15:00",
          "2011-05-13T13:15:00",
          "2011-05-13T13:15:00",
          "2011-05-13T15:48:00",
          "2011-05-13T15:48:00",
          "2011-05-13T15:48:00",
          "2011-05-13T15:48:00",
          "2011-05-13T15:48:00",
          "2011-05-13T15:48:00",
          "2011-05-13T15:48:00",
          "2011-05-13T15:48:00",
          "2011-05-13T15:48:00",
          "2011-05-13T15:48:00",
          "2011-05-13T15:48:00",
          "2011-05-13T15:48:00",
          "2011-05-13T15:48:00",
          "2011-05-13T15:48:00",
          "2011-05-13T15:48:00",
          "2011-05-13T15:48:00",
          "2011-05-13T15:48:00",
          "2011-05-13T15:48:00",
          "2011-05-13T15:48:00",
          "2011-05-13T15:48:00",
          "2011-05-13T15:48:00",
          "2011-05-13T15:48:00",
          "2011-05-15T13:45:00",
          "2011-05-15T13:45:00",
          "2011-05-15T13:45:00",
          "2011-05-15T13:45:00",
          "2011-05-15T13:45:00",
          "2011-05-15T13:45:00",
          "2011-05-15T13:45:00",
          "2011-05-15T13:45:00",
          "2011-05-15T13:45:00",
          "2011-05-16T09:10:00",
          "2011-05-16T09:10:00",
          "2011-05-16T09:10:00",
          "2011-05-16T09:10:00",
          "2011-05-16T09:10:00",
          "2011-05-16T09:10:00",
          "2011-05-16T09:10:00",
          "2011-05-16T09:10:00",
          "2011-05-16T09:10:00",
          "2011-05-16T09:10:00",
          "2011-05-16T09:10:00",
          "2011-05-16T09:10:00",
          "2011-05-16T09:10:00",
          "2011-05-16T09:10:00",
          "2011-05-16T09:10:00",
          "2011-05-16T09:10:00",
          "2011-05-16T12:04:00",
          "2011-05-16T12:04:00",
          "2011-05-16T12:04:00",
          "2011-05-16T12:04:00",
          "2011-05-16T12:04:00",
          "2011-05-16T12:04:00",
          "2011-05-17T09:28:00",
          "2011-05-17T09:28:00",
          "2011-05-17T09:28:00",
          "2011-05-17T09:28:00",
          "2011-05-17T09:28:00",
          "2011-05-17T09:28:00",
          "2011-05-17T09:28:00",
          "2011-05-17T09:28:00",
          "2011-05-17T09:28:00",
          "2011-05-17T09:28:00",
          "2011-05-17T09:28:00",
          "2011-05-17T09:28:00",
          "2011-05-17T09:28:00",
          "2011-05-17T09:28:00",
          "2011-05-17T09:28:00",
          "2011-05-17T09:28:00",
          "2011-05-17T09:28:00",
          "2011-05-17T09:28:00",
          "2011-05-17T09:28:00",
          "2011-05-17T09:28:00",
          "2011-05-17T09:28:00",
          "2011-05-17T09:28:00",
          "2011-05-17T09:28:00",
          "2011-05-17T09:28:00",
          "2011-05-17T09:28:00",
          "2011-05-17T09:28:00",
          "2011-05-17T09:28:00",
          "2011-05-17T09:28:00",
          "2011-05-17T09:28:00",
          "2011-05-17T09:28:00",
          "2011-05-17T09:28:00",
          "2011-05-17T09:28:00",
          "2011-05-17T09:28:00",
          "2011-05-17T09:28:00",
          "2011-05-17T09:28:00",
          "2011-05-17T09:28:00",
          "2011-05-17T09:28:00",
          "2011-05-17T09:28:00",
          "2011-05-17T09:28:00",
          "2011-05-17T09:28:00",
          "2011-05-17T09:28:00",
          "2011-05-17T09:28:00",
          "2011-05-17T09:28:00",
          "2011-05-17T09:28:00",
          "2011-05-18T09:09:00",
          "2011-05-18T09:09:00",
          "2011-05-18T09:09:00",
          "2011-05-18T09:09:00",
          "2011-05-18T09:09:00",
          "2011-05-18T09:09:00",
          "2011-05-18T09:09:00",
          "2011-05-18T09:09:00",
          "2011-05-18T09:09:00",
          "2011-05-18T09:09:00",
          "2011-05-18T09:09:00",
          "2011-05-18T09:09:00",
          "2011-05-18T09:09:00",
          "2011-05-18T09:09:00",
          "2011-05-18T09:09:00",
          "2011-05-18T10:34:00",
          "2011-05-18T10:34:00",
          "2011-05-18T10:34:00",
          "2011-05-18T10:34:00",
          "2011-05-18T10:34:00",
          "2011-05-18T10:34:00",
          "2011-05-18T10:34:00",
          "2011-05-18T10:34:00",
          "2011-05-18T10:34:00",
          "2011-05-18T12:18:00",
          "2011-05-19T12:10:00",
          "2011-05-19T12:10:00",
          "2011-05-19T12:10:00",
          "2011-05-19T12:10:00",
          "2011-05-19T12:10:00",
          "2011-05-19T12:10:00",
          "2011-05-19T12:10:00",
          "2011-05-19T12:10:00",
          "2011-05-19T12:10:00",
          "2011-05-19T12:10:00",
          "2011-05-19T12:10:00",
          "2011-05-19T12:10:00",
          "2011-05-19T12:10:00",
          "2011-05-19T12:10:00",
          "2011-05-19T12:10:00",
          "2011-05-19T12:10:00",
          "2011-05-19T12:10:00",
          "2011-05-19T12:10:00",
          "2011-05-19T12:10:00",
          "2011-05-19T12:10:00",
          "2011-05-19T12:10:00",
          "2011-05-19T12:10:00",
          "2011-05-19T12:10:00",
          "2011-05-19T12:10:00",
          "2011-05-19T12:10:00",
          "2011-05-19T12:10:00",
          "2011-05-19T12:10:00",
          "2011-05-19T12:10:00",
          "2011-05-19T12:10:00",
          "2011-05-19T12:10:00",
          "2011-05-19T12:10:00",
          "2011-05-19T12:10:00",
          "2011-05-19T12:10:00",
          "2011-05-19T12:29:00",
          "2011-05-19T12:29:00",
          "2011-05-19T12:29:00",
          "2011-05-19T12:29:00",
          "2011-05-19T12:29:00",
          "2011-05-19T12:29:00",
          "2011-05-19T12:29:00",
          "2011-05-19T12:29:00",
          "2011-05-19T12:29:00",
          "2011-05-19T12:29:00",
          "2011-05-19T12:29:00",
          "2011-05-19T12:29:00",
          "2011-05-19T12:29:00",
          "2011-05-19T12:29:00",
          "2011-05-19T12:29:00",
          "2011-05-19T12:29:00",
          "2011-05-19T12:29:00",
          "2011-05-19T12:29:00",
          "2011-05-20T11:34:00",
          "2011-05-20T11:34:00",
          "2011-05-20T11:34:00",
          "2011-05-20T11:34:00",
          "2011-05-20T11:34:00",
          "2011-05-20T11:34:00",
          "2011-05-20T11:34:00",
          "2011-05-20T11:34:00",
          "2011-05-20T11:34:00",
          "2011-05-20T11:34:00",
          "2011-05-20T11:34:00",
          "2011-05-20T11:34:00",
          "2011-05-20T11:34:00",
          "2011-05-22T13:01:00",
          "2011-05-22T13:01:00",
          "2011-05-22T13:01:00",
          "2011-05-22T13:01:00",
          "2011-05-22T13:01:00",
          "2011-05-22T13:01:00",
          "2011-05-22T13:01:00",
          "2011-05-22T13:01:00",
          "2011-05-22T13:01:00",
          "2011-05-22T13:01:00",
          "2011-05-22T13:01:00",
          "2011-05-22T13:01:00",
          "2011-05-22T13:01:00",
          "2011-05-22T13:01:00",
          "2011-05-22T13:01:00",
          "2011-05-22T13:01:00",
          "2011-05-22T13:01:00",
          "2011-05-22T13:01:00",
          "2011-05-22T13:01:00",
          "2011-05-22T13:01:00",
          "2011-05-22T13:01:00",
          "2011-05-22T13:01:00",
          "2011-05-22T13:01:00",
          "2011-05-22T13:01:00",
          "2011-05-22T13:01:00",
          "2011-05-22T13:01:00",
          "2011-05-22T13:01:00",
          "2011-05-22T13:01:00",
          "2011-05-22T13:01:00",
          "2011-05-22T13:01:00",
          "2011-05-22T13:01:00",
          "2011-05-22T13:01:00",
          "2011-05-22T13:01:00",
          "2011-05-22T13:01:00",
          "2011-05-22T14:33:00",
          "2011-05-22T14:33:00",
          "2011-05-22T14:33:00",
          "2011-05-22T14:33:00",
          "2011-05-22T14:33:00",
          "2011-05-22T14:33:00",
          "2011-05-22T14:33:00",
          "2011-05-22T14:33:00",
          "2011-05-22T14:33:00",
          "2011-05-23T09:48:00",
          "2011-05-23T09:48:00",
          "2011-05-23T09:48:00",
          "2011-05-23T09:48:00",
          "2011-05-23T09:48:00",
          "2011-05-23T09:48:00",
          "2011-05-23T09:48:00",
          "2011-05-23T09:48:00",
          "2011-05-23T09:48:00",
          "2011-05-23T09:48:00",
          "2011-05-23T09:48:00",
          "2011-05-23T09:48:00",
          "2011-05-23T09:48:00",
          "2011-05-23T09:48:00",
          "2011-05-23T09:48:00",
          "2011-05-23T09:48:00",
          "2011-05-23T09:48:00",
          "2011-05-23T09:48:00",
          "2011-05-23T09:48:00",
          "2011-05-24T09:25:00",
          "2011-05-24T09:25:00",
          "2011-05-24T09:25:00",
          "2011-05-24T09:25:00",
          "2011-05-24T09:25:00",
          "2011-05-24T09:25:00",
          "2011-05-24T09:25:00",
          "2011-05-24T09:25:00",
          "2011-05-24T09:25:00",
          "2011-05-24T09:25:00",
          "2011-05-24T09:25:00",
          "2011-05-24T09:25:00",
          "2011-05-25T10:08:00",
          "2011-05-25T10:08:00",
          "2011-05-25T10:08:00",
          "2011-05-25T10:08:00",
          "2011-05-25T10:08:00",
          "2011-05-25T10:08:00",
          "2011-05-25T10:08:00",
          "2011-05-25T10:08:00",
          "2011-05-25T10:08:00",
          "2011-05-25T10:08:00",
          "2011-05-25T12:44:00",
          "2011-05-25T12:44:00",
          "2011-05-25T12:44:00",
          "2011-05-25T12:44:00",
          "2011-05-25T12:44:00",
          "2011-05-25T12:44:00",
          "2011-05-25T12:44:00",
          "2011-05-25T12:44:00",
          "2011-05-25T12:44:00",
          "2011-05-25T12:44:00",
          "2011-05-25T12:44:00",
          "2011-05-25T12:44:00",
          "2011-05-25T12:44:00",
          "2011-05-25T12:44:00",
          "2011-05-25T12:44:00",
          "2011-05-25T12:44:00",
          "2011-05-25T12:44:00",
          "2011-05-25T12:44:00",
          "2011-05-25T12:44:00",
          "2011-05-25T12:44:00",
          "2011-05-25T12:54:00",
          "2011-05-25T12:54:00",
          "2011-05-25T12:54:00",
          "2011-05-25T12:54:00",
          "2011-05-25T12:54:00",
          "2011-05-25T12:54:00",
          "2011-05-25T12:54:00",
          "2011-05-25T12:54:00",
          "2011-05-25T12:54:00",
          "2011-05-25T12:54:00",
          "2011-05-25T12:54:00",
          "2011-05-25T12:54:00",
          "2011-05-25T12:54:00",
          "2011-05-25T12:54:00",
          "2011-05-25T12:54:00",
          "2011-05-25T12:54:00",
          "2011-05-25T12:54:00",
          "2011-05-25T12:54:00",
          "2011-05-25T12:54:00",
          "2011-05-25T12:54:00",
          "2011-05-25T12:54:00",
          "2011-05-25T12:54:00",
          "2011-05-25T12:54:00",
          "2011-05-25T12:54:00",
          "2011-05-25T12:54:00",
          "2011-05-25T12:54:00",
          "2011-05-25T12:54:00",
          "2011-05-25T12:54:00",
          "2011-05-25T12:54:00",
          "2011-05-26T14:53:00",
          "2011-05-26T14:53:00",
          "2011-05-26T14:53:00",
          "2011-05-26T14:53:00",
          "2011-05-26T14:53:00",
          "2011-05-26T14:53:00",
          "2011-05-26T14:53:00",
          "2011-05-26T14:53:00",
          "2011-05-26T14:53:00",
          "2011-05-26T14:53:00",
          "2011-05-26T14:53:00",
          "2011-05-26T17:16:00",
          "2011-05-26T17:16:00",
          "2011-05-26T17:16:00",
          "2011-05-26T17:16:00",
          "2011-05-26T17:16:00",
          "2011-05-26T17:16:00",
          "2011-05-26T17:16:00",
          "2011-05-26T17:16:00",
          "2011-05-26T17:16:00",
          "2011-05-26T17:16:00",
          "2011-05-26T17:16:00",
          "2011-05-26T17:16:00",
          "2011-05-27T13:49:00",
          "2011-05-27T13:49:00",
          "2011-05-27T13:49:00",
          "2011-05-27T13:49:00",
          "2011-05-27T13:49:00",
          "2011-05-27T13:49:00",
          "2011-05-27T13:49:00",
          "2011-05-27T13:49:00",
          "2011-05-27T13:49:00",
          "2011-05-27T13:49:00",
          "2011-05-27T13:49:00",
          "2011-05-27T13:49:00",
          "2011-05-27T13:49:00",
          "2011-05-27T13:49:00",
          "2011-05-27T13:49:00",
          "2011-05-27T13:49:00",
          "2011-05-27T13:49:00",
          "2011-05-27T13:49:00",
          "2011-05-27T13:49:00",
          "2011-05-27T13:49:00"
         ],
         "xaxis": "x",
         "y": [
          12,
          4,
          6,
          12,
          2,
          6,
          3,
          12,
          12,
          2,
          24,
          12,
          24,
          6,
          12,
          6,
          4,
          6,
          6,
          24,
          24,
          12,
          12,
          2,
          12,
          6,
          24,
          12,
          24,
          10,
          12,
          8,
          6,
          6,
          12,
          12,
          6,
          6,
          12,
          6,
          3,
          12,
          12,
          9,
          4,
          6,
          6,
          12,
          12,
          12,
          3,
          12,
          12,
          12,
          6,
          12,
          6,
          6,
          12,
          12,
          3,
          9,
          6,
          4,
          12,
          8,
          8,
          24,
          6,
          12,
          24,
          12,
          1,
          24,
          1,
          20,
          12,
          12,
          24,
          12,
          12,
          12,
          6,
          24,
          4,
          1,
          1,
          24,
          24,
          24,
          10,
          12,
          1,
          5,
          24,
          12,
          6,
          12,
          2,
          12,
          10,
          6,
          12,
          6,
          6,
          12,
          6,
          3,
          10,
          3,
          4,
          10,
          6,
          1,
          6,
          3,
          60,
          144,
          6,
          12,
          20,
          12,
          18,
          12,
          12,
          12,
          24,
          12,
          16,
          24,
          16,
          4,
          24,
          16,
          12,
          8,
          24,
          3,
          2,
          2,
          6,
          6,
          12,
          12,
          12,
          3,
          6,
          3,
          6,
          6,
          24,
          12,
          12,
          6,
          12,
          3,
          12,
          12,
          3,
          6,
          12,
          12,
          12,
          5,
          8,
          8,
          4,
          6,
          24,
          2,
          1,
          8,
          12,
          4,
          3,
          24,
          28,
          12,
          6,
          24,
          24,
          12,
          24,
          24,
          28,
          6,
          12,
          8,
          30,
          5,
          10,
          3,
          24,
          12,
          8,
          12,
          24,
          24,
          24,
          10,
          12,
          12,
          10,
          3,
          8,
          12,
          8,
          12,
          12,
          24,
          24,
          120,
          576,
          12,
          24,
          9,
          12,
          1,
          12,
          6,
          12,
          12,
          6,
          12,
          2,
          10,
          10,
          10,
          10,
          10,
          10,
          10,
          10,
          24,
          10,
          12,
          1,
          3,
          1,
          2,
          12,
          12,
          24,
          12,
          3,
          36,
          8,
          48,
          6,
          3,
          12,
          12,
          12,
          24,
          12,
          2,
          12,
          24,
          12,
          6,
          6,
          10,
          12,
          6,
          6,
          10,
          4,
          6,
          24,
          2,
          3,
          24,
          6,
          12,
          6,
          10,
          24,
          6,
          12,
          4,
          12,
          12,
          24,
          12,
          2,
          6,
          12,
          6,
          6,
          12,
          24,
          12,
          12,
          12,
          4,
          12,
          4,
          6,
          24,
          10,
          6,
          12,
          12,
          10,
          12,
          6,
          24,
          12,
          10,
          24,
          20,
          4,
          12,
          12,
          6,
          6,
          8,
          48,
          4,
          10,
          12,
          25,
          12,
          12,
          12,
          12,
          10,
          8,
          24,
          12,
          12,
          12,
          24,
          10,
          12,
          8,
          12,
          6,
          6,
          10,
          12,
          3,
          6,
          6,
          12,
          15,
          2,
          6,
          12,
          12,
          10,
          24,
          6,
          12,
          12,
          8,
          12,
          48,
          12,
          12,
          6,
          6,
          6,
          6,
          10,
          10,
          36,
          3,
          10,
          20,
          12,
          24,
          4,
          6,
          6,
          15,
          12,
          12,
          6,
          10,
          12,
          6,
          4,
          12,
          8,
          16,
          25,
          12,
          6,
          12,
          10,
          10,
          12,
          12,
          12,
          12,
          12,
          12,
          12,
          10,
          25,
          25,
          8,
          12,
          12,
          4,
          24,
          6,
          12,
          24,
          8,
          12,
          20,
          20,
          3,
          12,
          24,
          2,
          10,
          6,
          24,
          10,
          12,
          18,
          24,
          12,
          6,
          18,
          24,
          4,
          4,
          12,
          4,
          12,
          12,
          12,
          6,
          6,
          6,
          6,
          8,
          12,
          6,
          8,
          12,
          8,
          3,
          12,
          4,
          2,
          24,
          8,
          6,
          2,
          2,
          8,
          4,
          4,
          6,
          12,
          12,
          12,
          6,
          6,
          10,
          12,
          12,
          12,
          20,
          12,
          12,
          12,
          12,
          12,
          12,
          12,
          10,
          36,
          6,
          10,
          10,
          4,
          4,
          12,
          12,
          6,
          8,
          6,
          12,
          24,
          24,
          12,
          12,
          12,
          6,
          6,
          4,
          12,
          6,
          24,
          6,
          12,
          3,
          12,
          6,
          3,
          6,
          12,
          24,
          3,
          12,
          24,
          6,
          12,
          12,
          6,
          12,
          6,
          12,
          8,
          16,
          6,
          6,
          12,
          6,
          8,
          12,
          4,
          6,
          6,
          4,
          6,
          8,
          3,
          2,
          6,
          18,
          24,
          24,
          6,
          12,
          12,
          24,
          4,
          72,
          36,
          12,
          12,
          96,
          4,
          20,
          12,
          12,
          5,
          2,
          4,
          6,
          2,
          2,
          10,
          5,
          10,
          10,
          4,
          2,
          2,
          4,
          2,
          5,
          2,
          3,
          12,
          10,
          12,
          10,
          10,
          108,
          48,
          120,
          36,
          48,
          12,
          12,
          24,
          48,
          24,
          24,
          12,
          24,
          24,
          24,
          12,
          48,
          48,
          24,
          12,
          36,
          10,
          3,
          10,
          60,
          48,
          12,
          60,
          96,
          96,
          12,
          12,
          12,
          48,
          12,
          30,
          12,
          96,
          10,
          12,
          3,
          3,
          160,
          6,
          12,
          12,
          10,
          8,
          10,
          2,
          6,
          6,
          6,
          24,
          12,
          12,
          12,
          4,
          36,
          24,
          6,
          24,
          10,
          12,
          24,
          15,
          1,
          3,
          2,
          5,
          12,
          6,
          10,
          36,
          6,
          12,
          3,
          10,
          12,
          3,
          9,
          12,
          10,
          15,
          12,
          12,
          12,
          3,
          12,
          6,
          4,
          6,
          10,
          3,
          12,
          6,
          20,
          24,
          12,
          12,
          12,
          24,
          48,
          30,
          24,
          8,
          12,
          12,
          6,
          6,
          6,
          12,
          10,
          8,
          12,
          8,
          12,
          6,
          12,
          8,
          12,
          12,
          12,
          12,
          12,
          12,
          12,
          10,
          12,
          12,
          6,
          6,
          8,
          6,
          8,
          8,
          6,
          6,
          6,
          10,
          12,
          6,
          12,
          24,
          6,
          10,
          12,
          12,
          36,
          6,
          6,
          8,
          6,
          6,
          6,
          12,
          12,
          24,
          6,
          8,
          3,
          10,
          12,
          6,
          6,
          12,
          6,
          8,
          12,
          8,
          12,
          24,
          12,
          6,
          24,
          12,
          24,
          24,
          24,
          24,
          6,
          12,
          8,
          12,
          5,
          2,
          3,
          12,
          25,
          10,
          12,
          12,
          12,
          3,
          12,
          12,
          8,
          10,
          24,
          36,
          6,
          1,
          6,
          12,
          12,
          25,
          72,
          24,
          12,
          108,
          24,
          24,
          24,
          24,
          80,
          24,
          24,
          12,
          4,
          12,
          6,
          6,
          12,
          12,
          12,
          12,
          12,
          8,
          20,
          12,
          24,
          12,
          6,
          12,
          12,
          24,
          24,
          12,
          6,
          12,
          12,
          24,
          36,
          12,
          24,
          24,
          24,
          12,
          12,
          12,
          12,
          12,
          6,
          12,
          24,
          24,
          20,
          24,
          12,
          12,
          12,
          12,
          24,
          24,
          12,
          12,
          16,
          12,
          12,
          20,
          24,
          6,
          12,
          24,
          24,
          10,
          10,
          4,
          10,
          12,
          2,
          10,
          6,
          10,
          4,
          10,
          10,
          5,
          6,
          5,
          6,
          12,
          12,
          96,
          12,
          24,
          2,
          8,
          6,
          12,
          24,
          6,
          24,
          24,
          2,
          6,
          8,
          24,
          6,
          12,
          24,
          12,
          24,
          8,
          12,
          48,
          12,
          12,
          16,
          12,
          6,
          12,
          6,
          24,
          12,
          24,
          12,
          6,
          10,
          2,
          12,
          6,
          12,
          12,
          12,
          8,
          24,
          8,
          4,
          12,
          12,
          6,
          15,
          12,
          12,
          6,
          6,
          12,
          2,
          12,
          6,
          12,
          12,
          4,
          10,
          6,
          12,
          3,
          12,
          6,
          4,
          6,
          3,
          4,
          6,
          10,
          6,
          6,
          6,
          4,
          6,
          8,
          6,
          12,
          12,
          12,
          12,
          25,
          3,
          24,
          6,
          2,
          5,
          12,
          12,
          36,
          12,
          24,
          12,
          12,
          4,
          8,
          12,
          12,
          36,
          12,
          24,
          24,
          12,
          12,
          48,
          24,
          12,
          6,
          24,
          24,
          16,
          36,
          24,
          24,
          10,
          24,
          12,
          18,
          24,
          12,
          10,
          10,
          9,
          6,
          12,
          6,
          12,
          12,
          10,
          24,
          24,
          12,
          6,
          10,
          6,
          12,
          24,
          10,
          6,
          12,
          12,
          12,
          6,
          8,
          24,
          8,
          24,
          12,
          6,
          12,
          2,
          6,
          2,
          6,
          8,
          6,
          6,
          12,
          6,
          10,
          10,
          10,
          10,
          10,
          4,
          12,
          12,
          12,
          24,
          2,
          6,
          24,
          6,
          6,
          12,
          20,
          25,
          24,
          24,
          12,
          24,
          3,
          6,
          12,
          12,
          5,
          12,
          6,
          8,
          3,
          24,
          8,
          8,
          8,
          3,
          8,
          8,
          6,
          6,
          8,
          3,
          4,
          5,
          12,
          6,
          8,
          6,
          8,
          12,
          6,
          8,
          5,
          5,
          8,
          8,
          6,
          5,
          12,
          8,
          8,
          16,
          16,
          24,
          12,
          12,
          12,
          2,
          12,
          12,
          6,
          12,
          6,
          12,
          2,
          24,
          6,
          12,
          24,
          12,
          12,
          12,
          24,
          12,
          12,
          12,
          12,
          6,
          4,
          6,
          24,
          6,
          2,
          4,
          12,
          6,
          4,
          10,
          4,
          3,
          3,
          12,
          12,
          3,
          30,
          12,
          8,
          6,
          6,
          6,
          18,
          24,
          24,
          24,
          36,
          8,
          3,
          24,
          12,
          4,
          36,
          12,
          24,
          24,
          24,
          12,
          6,
          24,
          6,
          12,
          6,
          6,
          12,
          12,
          3,
          6,
          12,
          6,
          24,
          12,
          12,
          12,
          12,
          12,
          12,
          12,
          6,
          2,
          12,
          6,
          2,
          10,
          6,
          36,
          2,
          12,
          8,
          2,
          2,
          12,
          12,
          6,
          10,
          20,
          12,
          12,
          12,
          12,
          4,
          12,
          12,
          12,
          4,
          12,
          6,
          6,
          12,
          6,
          12,
          6,
          8,
          6,
          12,
          36,
          10,
          6,
          24,
          8,
          10,
          12,
          16,
          12,
          8,
          3,
          36,
          10,
          12,
          6,
          1,
          12,
          6,
          3,
          1,
          25,
          8,
          24,
          72,
          48,
          72,
          8,
          24,
          12,
          18,
          36,
          24,
          24,
          24,
          24,
          12,
          1,
          2,
          1,
          1,
          2,
          2,
          6,
          1,
          4,
          3,
          1,
          2,
          1,
          2,
          3,
          2,
          1,
          3,
          1,
          1,
          1,
          6,
          2,
          2,
          2,
          1,
          2,
          1,
          3,
          3,
          1,
          2,
          1,
          4,
          1,
          2,
          6,
          2,
          2,
          1,
          1,
          1,
          1,
          2,
          3,
          3,
          6,
          12,
          4,
          6,
          6,
          4,
          12,
          12,
          12,
          6,
          12,
          6,
          2,
          2,
          4,
          2,
          6,
          12,
          2,
          4,
          2,
          2,
          12,
          4,
          10,
          6,
          12,
          12,
          24,
          24,
          6,
          8,
          6,
          24,
          24,
          8,
          12,
          100,
          12,
          12,
          24,
          12,
          20,
          8,
          12,
          36,
          24,
          24,
          12,
          12,
          24,
          12,
          24,
          20,
          6,
          6,
          36,
          8,
          24,
          12,
          8,
          16,
          60,
          25,
          25,
          24,
          8,
          6,
          24,
          25,
          12,
          64,
          12,
          64,
          24,
          24,
          24,
          24,
          6,
          6,
          12,
          2,
          4,
          4,
          6,
          12,
          3,
          1,
          10,
          6,
          12,
          12,
          4,
          4,
          10,
          4,
          12,
          2,
          4,
          12,
          6,
          12,
          48,
          8,
          6,
          8,
          3,
          4,
          12,
          10,
          2,
          12,
          12,
          12,
          10,
          24,
          24,
          4,
          10,
          10,
          12,
          12,
          2,
          1,
          2,
          6,
          12,
          24,
          10,
          12,
          12,
          12,
          10,
          12,
          10,
          6,
          10,
          24,
          4,
          4,
          24,
          6,
          12,
          6,
          2,
          12,
          2,
          12,
          2,
          10,
          4,
          6,
          12,
          6,
          12,
          12,
          12,
          24,
          24,
          24,
          24,
          6,
          24,
          24,
          24,
          6,
          6,
          24,
          12,
          6,
          12,
          12,
          12,
          12,
          12,
          12,
          12,
          2,
          6,
          12,
          10,
          24,
          24,
          24,
          24,
          24,
          12,
          10,
          12,
          12,
          12,
          12,
          12,
          2,
          12,
          6,
          12,
          36,
          48,
          24,
          16,
          144,
          10,
          10,
          36,
          16,
          10,
          36,
          24,
          24,
          10,
          6,
          24,
          24,
          10,
          48,
          12,
          12,
          12,
          40,
          36,
          12,
          160,
          24,
          6,
          20,
          8,
          24,
          12,
          6,
          60,
          6,
          60,
          96,
          72,
          72,
          100,
          96,
          72,
          24,
          96,
          4,
          60,
          18,
          96,
          72,
          120,
          96,
          60,
          1,
          1,
          1,
          8,
          48,
          200,
          96,
          1,
          36,
          1,
          96,
          108,
          200,
          24,
          8,
          24,
          96,
          96,
          72,
          25,
          12,
          6,
          6,
          3,
          6,
          12,
          6,
          12,
          60,
          60,
          120,
          6,
          2,
          12,
          5,
          3,
          5,
          4,
          12,
          24,
          10,
          10,
          10,
          12,
          6,
          12,
          8,
          6,
          6,
          6,
          12,
          12,
          24,
          6,
          48,
          20,
          12,
          6,
          6,
          25,
          6,
          12,
          25,
          16,
          6,
          6,
          6,
          12,
          6,
          2,
          24,
          1,
          10,
          1,
          10,
          16,
          12,
          12,
          6,
          10,
          12,
          12,
          12,
          10,
          12,
          12,
          4,
          4,
          4,
          10,
          12,
          2,
          3,
          6,
          10,
          24,
          4,
          10,
          6,
          12,
          12,
          12,
          36,
          12,
          1,
          2,
          10,
          8,
          8,
          2,
          12,
          6,
          12,
          24,
          24,
          12,
          6,
          8,
          12,
          10,
          10,
          24,
          48,
          48,
          12,
          12,
          3,
          2,
          24,
          8,
          12,
          12,
          12,
          4,
          12,
          6,
          10,
          2,
          3,
          10,
          4,
          30,
          12,
          20,
          4,
          12,
          4,
          12,
          2,
          2,
          20,
          20,
          4,
          20,
          4,
          20,
          6,
          1,
          1,
          1,
          1,
          1,
          1,
          1,
          1,
          1,
          1,
          1,
          1,
          1,
          1,
          1,
          1,
          1,
          1,
          1,
          1,
          1,
          1,
          1,
          20,
          6,
          10,
          12,
          12,
          12,
          12,
          12,
          6,
          48,
          5,
          12,
          12,
          12,
          12,
          6,
          12,
          24,
          12,
          8,
          10,
          1,
          1,
          1,
          12,
          1,
          1,
          2,
          1,
          1,
          4,
          1,
          9,
          1,
          12,
          1,
          2,
          1,
          4,
          1,
          1,
          2,
          2,
          4,
          1,
          2,
          2,
          12,
          1,
          48,
          2,
          12,
          12,
          24,
          24,
          24,
          24,
          8,
          10,
          12,
          48,
          8,
          8,
          6,
          12,
          12,
          48,
          8,
          48,
          20,
          12,
          10,
          10,
          20,
          20,
          24,
          24,
          6,
          18,
          12,
          2,
          12,
          40,
          12,
          30,
          24,
          12,
          6,
          24,
          10,
          12,
          10,
          24,
          24,
          24,
          24,
          6,
          24,
          48,
          48,
          80,
          48,
          24,
          40,
          10,
          10,
          12,
          12,
          10,
          12,
          10,
          5,
          12,
          5,
          12,
          12,
          12,
          6,
          10,
          10,
          10,
          12,
          10,
          12,
          10,
          12,
          12,
          4,
          12,
          24,
          12,
          10,
          24,
          24,
          12,
          12,
          12,
          12,
          20,
          24,
          30,
          24,
          6,
          24,
          1,
          10,
          24,
          12,
          10,
          12,
          12,
          4,
          8,
          12,
          16,
          8,
          12,
          24,
          4,
          4,
          4,
          12,
          24,
          6,
          12,
          12,
          12,
          4,
          12,
          24,
          12,
          12,
          6,
          12,
          10,
          6,
          6,
          10,
          12,
          20,
          10,
          6,
          10,
          8,
          8,
          10,
          10,
          6,
          10,
          20,
          10,
          20,
          12,
          24,
          96,
          48,
          72,
          24,
          12,
          24,
          24,
          36,
          24,
          24,
          12,
          12,
          4,
          12,
          24,
          4,
          12,
          24,
          12,
          24,
          6,
          12,
          6,
          12,
          12,
          24,
          6,
          12,
          12,
          24,
          24,
          12,
          12,
          12,
          24,
          12,
          10,
          6,
          24,
          4,
          2,
          30,
          6,
          2,
          120,
          120,
          20,
          12,
          6,
          3,
          2,
          12,
          6,
          12,
          4,
          2,
          6,
          4,
          4,
          24,
          3,
          24,
          6,
          6,
          2,
          2,
          2,
          5,
          2,
          6,
          4,
          6,
          2,
          24,
          1,
          10,
          4,
          2,
          10,
          3,
          2,
          4,
          2,
          2,
          6,
          1,
          8,
          4,
          4,
          120,
          6,
          2,
          12,
          12,
          6,
          4,
          12,
          4,
          2,
          12,
          1,
          4,
          24,
          2,
          3,
          3,
          1,
          3,
          4,
          12,
          20,
          12,
          12,
          48,
          6,
          24,
          36,
          6,
          24,
          20,
          12,
          48,
          24,
          120,
          16,
          12,
          120,
          6,
          100,
          20,
          12,
          24,
          12,
          8,
          12,
          6,
          20,
          10,
          10,
          8,
          8,
          3,
          8,
          12,
          6,
          10,
          6,
          6,
          12,
          2,
          12,
          6,
          12,
          6,
          10,
          12,
          12,
          10,
          12,
          6,
          12,
          6,
          12,
          2,
          8,
          10,
          12,
          12,
          2,
          2,
          2,
          12,
          3,
          12,
          6,
          2,
          2,
          12,
          4,
          10,
          12,
          24,
          25,
          12,
          12,
          12,
          24,
          10,
          24,
          2,
          24,
          12,
          12,
          12,
          2,
          12,
          12,
          24,
          12,
          12,
          12,
          20,
          24,
          12,
          12,
          6,
          12,
          10,
          24,
          24,
          12,
          36,
          12,
          12,
          24,
          12,
          6,
          6,
          6,
          6,
          12,
          4,
          12,
          12,
          12,
          6,
          24,
          10,
          12,
          12,
          12,
          12,
          2,
          12,
          4,
          24,
          24,
          12,
          6,
          12,
          6,
          20,
          2,
          12,
          20,
          12,
          2,
          10,
          3,
          12,
          2,
          12,
          10,
          10,
          10,
          2,
          12,
          10,
          10,
          12,
          10,
          6,
          10,
          8,
          32,
          12,
          12,
          1,
          6,
          12,
          4,
          12,
          2,
          10,
          12,
          10,
          6,
          6,
          2,
          12,
          2,
          6,
          5,
          2,
          12,
          12,
          4,
          12,
          24,
          24,
          4,
          12,
          12,
          48,
          72,
          4,
          10,
          4,
          4,
          12,
          10,
          6,
          32,
          4,
          24,
          24,
          16,
          16,
          16,
          12,
          6,
          10,
          12,
          12,
          12,
          12,
          28,
          3,
          12,
          24,
          12,
          24,
          6,
          3,
          2,
          12,
          48,
          2,
          4,
          4,
          10,
          5,
          6,
          4,
          1,
          6,
          10,
          10,
          6,
          6,
          20,
          4,
          4,
          6,
          10,
          10,
          64,
          64,
          2,
          2,
          1,
          100,
          50,
          1,
          50,
          50,
          30,
          20,
          30,
          6,
          10,
          10,
          6,
          2,
          4,
          8,
          8,
          8,
          5,
          4,
          2,
          12,
          6,
          8,
          12,
          2,
          8,
          8,
          6,
          6,
          4,
          8,
          8,
          10,
          6,
          6,
          6,
          6,
          12,
          8,
          2,
          6,
          6,
          6,
          24,
          6,
          2,
          2,
          2,
          6,
          2,
          12,
          36,
          4,
          8,
          8,
          6,
          10,
          8,
          24,
          12,
          8,
          24,
          10,
          10,
          24,
          12,
          12,
          40,
          24,
          24,
          48,
          24,
          6,
          6,
          18,
          6,
          10,
          20,
          24,
          24,
          10,
          12,
          40,
          12,
          12,
          4,
          2,
          24,
          2,
          36,
          12,
          36,
          5,
          2,
          12,
          12,
          10,
          10,
          12,
          10,
          10,
          10,
          3,
          6,
          2,
          24,
          12,
          4,
          10,
          10,
          10,
          6,
          12,
          24,
          2,
          12,
          20,
          10,
          24,
          12,
          12,
          8,
          6,
          4,
          12,
          6,
          6,
          6,
          6,
          10,
          2,
          10,
          2,
          24,
          30,
          24,
          10,
          28,
          12,
          28,
          12,
          10,
          10,
          6,
          10,
          1,
          2,
          10,
          10,
          5,
          10,
          12,
          24,
          24,
          144,
          24,
          20,
          24,
          24,
          24,
          8,
          12,
          72,
          24,
          12,
          12,
          12,
          12,
          6,
          12,
          2,
          4,
          12,
          6,
          6,
          10,
          2,
          4,
          10,
          6,
          6,
          10,
          1,
          10
         ],
         "yaxis": "y"
        },
        {
         "hovertemplate": "variable=Revenue<br>InvoiceDate=%{x}<br>value=%{y}<extra></extra>",
         "legendgroup": "Revenue",
         "line": {
          "color": "#EF553B",
          "dash": "solid"
         },
         "mode": "lines",
         "name": "Revenue",
         "showlegend": true,
         "type": "scattergl",
         "x": [
          "2011-01-05T12:42:00",
          "2011-01-05T12:42:00",
          "2011-01-05T12:42:00",
          "2011-01-05T12:42:00",
          "2011-01-05T12:42:00",
          "2011-01-05T12:42:00",
          "2011-01-05T12:42:00",
          "2011-01-05T12:42:00",
          "2011-01-05T12:42:00",
          "2011-01-05T12:42:00",
          "2011-01-05T12:42:00",
          "2011-01-05T12:42:00",
          "2011-01-05T12:42:00",
          "2011-01-05T12:42:00",
          "2011-01-05T12:42:00",
          "2011-01-05T12:42:00",
          "2011-01-05T12:42:00",
          "2011-01-05T12:42:00",
          "2011-01-05T12:42:00",
          "2011-01-05T12:42:00",
          "2011-01-05T12:42:00",
          "2011-01-05T12:42:00",
          "2011-01-05T12:42:00",
          "2011-01-05T12:42:00",
          "2011-01-05T12:42:00",
          "2011-01-05T12:42:00",
          "2011-01-05T12:42:00",
          "2011-01-05T12:42:00",
          "2011-01-05T12:42:00",
          "2011-01-05T12:42:00",
          "2011-01-05T12:42:00",
          "2011-01-05T12:42:00",
          "2011-01-05T12:42:00",
          "2011-01-05T14:48:00",
          "2011-01-05T14:48:00",
          "2011-01-05T14:48:00",
          "2011-01-05T14:48:00",
          "2011-01-05T14:48:00",
          "2011-01-05T14:48:00",
          "2011-01-05T14:48:00",
          "2011-01-05T14:48:00",
          "2011-01-05T14:48:00",
          "2011-01-05T14:48:00",
          "2011-01-05T14:48:00",
          "2011-01-05T14:48:00",
          "2011-01-05T14:48:00",
          "2011-01-05T14:48:00",
          "2011-01-05T14:48:00",
          "2011-01-05T14:48:00",
          "2011-01-05T14:48:00",
          "2011-01-05T14:48:00",
          "2011-01-05T14:48:00",
          "2011-01-05T14:48:00",
          "2011-01-05T14:48:00",
          "2011-01-05T14:48:00",
          "2011-01-05T14:48:00",
          "2011-01-05T14:48:00",
          "2011-01-05T14:48:00",
          "2011-01-05T14:48:00",
          "2011-01-05T14:48:00",
          "2011-01-05T14:48:00",
          "2011-01-05T14:48:00",
          "2011-01-05T14:48:00",
          "2011-01-05T14:48:00",
          "2011-01-05T14:48:00",
          "2011-01-05T14:48:00",
          "2011-01-05T14:48:00",
          "2011-01-05T14:48:00",
          "2011-01-05T14:48:00",
          "2011-01-05T14:48:00",
          "2011-01-05T14:48:00",
          "2011-01-05T14:48:00",
          "2011-01-06T14:26:00",
          "2011-01-06T14:26:00",
          "2011-01-06T14:26:00",
          "2011-01-06T14:26:00",
          "2011-01-06T14:26:00",
          "2011-01-06T14:26:00",
          "2011-01-06T14:26:00",
          "2011-01-06T14:26:00",
          "2011-01-06T14:26:00",
          "2011-01-06T14:26:00",
          "2011-01-06T14:26:00",
          "2011-01-06T14:26:00",
          "2011-01-06T14:26:00",
          "2011-01-06T14:26:00",
          "2011-01-06T14:26:00",
          "2011-01-06T14:26:00",
          "2011-01-06T14:26:00",
          "2011-01-06T14:26:00",
          "2011-01-06T14:26:00",
          "2011-01-06T14:26:00",
          "2011-01-06T14:26:00",
          "2011-01-06T16:12:00",
          "2011-01-06T16:12:00",
          "2011-01-06T16:12:00",
          "2011-01-06T16:12:00",
          "2011-01-06T16:12:00",
          "2011-01-06T16:12:00",
          "2011-01-06T16:12:00",
          "2011-01-06T16:12:00",
          "2011-01-06T16:12:00",
          "2011-01-06T16:12:00",
          "2011-01-06T16:12:00",
          "2011-01-06T16:12:00",
          "2011-01-06T16:12:00",
          "2011-01-06T16:12:00",
          "2011-01-06T16:12:00",
          "2011-01-06T16:12:00",
          "2011-01-06T16:12:00",
          "2011-01-06T16:12:00",
          "2011-01-06T16:12:00",
          "2011-01-06T16:12:00",
          "2011-01-06T16:12:00",
          "2011-01-06T16:12:00",
          "2011-01-06T16:12:00",
          "2011-01-07T12:07:00",
          "2011-01-07T12:07:00",
          "2011-01-07T12:07:00",
          "2011-01-07T12:07:00",
          "2011-01-07T12:07:00",
          "2011-01-07T12:07:00",
          "2011-01-07T12:07:00",
          "2011-01-07T12:07:00",
          "2011-01-07T12:07:00",
          "2011-01-07T12:07:00",
          "2011-01-07T12:07:00",
          "2011-01-07T12:07:00",
          "2011-01-07T12:07:00",
          "2011-01-07T12:07:00",
          "2011-01-07T12:07:00",
          "2011-01-07T12:07:00",
          "2011-01-07T12:07:00",
          "2011-01-07T12:07:00",
          "2011-01-07T12:07:00",
          "2011-01-07T12:07:00",
          "2011-01-07T12:07:00",
          "2011-01-07T13:13:00",
          "2011-01-07T13:13:00",
          "2011-01-07T13:13:00",
          "2011-01-07T13:13:00",
          "2011-01-07T13:13:00",
          "2011-01-07T13:13:00",
          "2011-01-07T13:13:00",
          "2011-01-07T13:13:00",
          "2011-01-07T13:13:00",
          "2011-01-07T13:13:00",
          "2011-01-07T13:13:00",
          "2011-01-07T13:13:00",
          "2011-01-07T13:13:00",
          "2011-01-07T13:13:00",
          "2011-01-09T12:46:00",
          "2011-01-09T12:46:00",
          "2011-01-09T12:46:00",
          "2011-01-09T12:46:00",
          "2011-01-09T12:46:00",
          "2011-01-09T12:46:00",
          "2011-01-09T12:46:00",
          "2011-01-09T12:46:00",
          "2011-01-09T12:46:00",
          "2011-01-10T13:22:00",
          "2011-01-10T13:22:00",
          "2011-01-10T13:22:00",
          "2011-01-10T13:22:00",
          "2011-01-10T13:22:00",
          "2011-01-10T13:22:00",
          "2011-01-10T13:22:00",
          "2011-01-10T13:22:00",
          "2011-01-10T13:22:00",
          "2011-01-10T13:22:00",
          "2011-01-10T13:22:00",
          "2011-01-10T13:22:00",
          "2011-01-10T13:22:00",
          "2011-01-10T13:22:00",
          "2011-01-10T13:22:00",
          "2011-01-10T13:22:00",
          "2011-01-10T13:22:00",
          "2011-01-10T13:22:00",
          "2011-01-10T13:22:00",
          "2011-01-10T13:22:00",
          "2011-01-10T13:22:00",
          "2011-01-10T13:22:00",
          "2011-01-10T13:22:00",
          "2011-01-10T13:22:00",
          "2011-01-10T13:22:00",
          "2011-01-10T13:22:00",
          "2011-01-10T13:22:00",
          "2011-01-10T13:22:00",
          "2011-01-10T13:22:00",
          "2011-01-10T13:22:00",
          "2011-01-10T13:22:00",
          "2011-01-10T13:22:00",
          "2011-01-10T13:22:00",
          "2011-01-10T13:22:00",
          "2011-01-10T13:22:00",
          "2011-01-10T13:22:00",
          "2011-01-10T13:22:00",
          "2011-01-10T13:22:00",
          "2011-01-10T13:22:00",
          "2011-01-10T13:22:00",
          "2011-01-10T13:22:00",
          "2011-01-10T13:22:00",
          "2011-01-10T13:22:00",
          "2011-01-10T13:22:00",
          "2011-01-10T13:22:00",
          "2011-01-10T13:22:00",
          "2011-01-10T13:22:00",
          "2011-01-10T13:22:00",
          "2011-01-10T13:22:00",
          "2011-01-11T07:57:00",
          "2011-01-11T07:57:00",
          "2011-01-11T07:57:00",
          "2011-01-11T11:48:00",
          "2011-01-11T13:31:00",
          "2011-01-11T13:31:00",
          "2011-01-11T13:31:00",
          "2011-01-11T13:31:00",
          "2011-01-11T13:31:00",
          "2011-01-11T13:31:00",
          "2011-01-11T13:31:00",
          "2011-01-11T13:31:00",
          "2011-01-11T13:31:00",
          "2011-01-11T13:31:00",
          "2011-01-11T13:31:00",
          "2011-01-11T13:31:00",
          "2011-01-11T15:00:00",
          "2011-01-11T15:00:00",
          "2011-01-11T15:00:00",
          "2011-01-11T15:00:00",
          "2011-01-11T15:00:00",
          "2011-01-11T15:00:00",
          "2011-01-11T15:00:00",
          "2011-01-11T15:00:00",
          "2011-01-11T15:00:00",
          "2011-01-11T15:00:00",
          "2011-01-12T09:43:00",
          "2011-01-12T09:43:00",
          "2011-01-12T09:43:00",
          "2011-01-12T09:43:00",
          "2011-01-12T09:43:00",
          "2011-01-12T09:43:00",
          "2011-01-12T09:43:00",
          "2011-01-12T14:13:00",
          "2011-01-12T14:13:00",
          "2011-01-12T14:13:00",
          "2011-01-12T14:13:00",
          "2011-01-12T14:13:00",
          "2011-01-12T14:13:00",
          "2011-01-12T15:00:00",
          "2011-01-12T15:00:00",
          "2011-01-12T15:00:00",
          "2011-01-12T15:00:00",
          "2011-01-12T15:00:00",
          "2011-01-12T15:00:00",
          "2011-01-12T15:00:00",
          "2011-01-12T15:00:00",
          "2011-01-12T15:00:00",
          "2011-01-12T15:00:00",
          "2011-01-12T15:00:00",
          "2011-01-12T15:00:00",
          "2011-01-12T15:00:00",
          "2011-01-12T15:00:00",
          "2011-01-12T15:00:00",
          "2011-01-12T15:00:00",
          "2011-01-12T15:00:00",
          "2011-01-12T15:00:00",
          "2011-01-12T15:00:00",
          "2011-01-12T15:00:00",
          "2011-01-12T15:00:00",
          "2011-01-12T15:00:00",
          "2011-01-12T15:00:00",
          "2011-01-12T15:00:00",
          "2011-01-12T15:00:00",
          "2011-01-12T15:00:00",
          "2011-01-12T15:00:00",
          "2011-01-12T15:00:00",
          "2011-01-12T15:00:00",
          "2011-01-12T15:00:00",
          "2011-01-12T15:00:00",
          "2011-01-12T15:00:00",
          "2011-01-12T15:00:00",
          "2011-01-12T15:00:00",
          "2011-01-12T15:00:00",
          "2011-01-12T15:00:00",
          "2011-01-12T15:00:00",
          "2011-01-12T15:00:00",
          "2011-01-12T15:00:00",
          "2011-01-12T15:00:00",
          "2011-01-12T15:00:00",
          "2011-01-12T15:00:00",
          "2011-01-12T15:00:00",
          "2011-01-12T15:00:00",
          "2011-01-12T15:00:00",
          "2011-01-12T15:00:00",
          "2011-01-12T15:00:00",
          "2011-01-14T09:13:00",
          "2011-01-14T09:13:00",
          "2011-01-14T09:13:00",
          "2011-01-14T09:13:00",
          "2011-01-14T09:13:00",
          "2011-01-14T09:13:00",
          "2011-01-14T09:13:00",
          "2011-01-14T09:13:00",
          "2011-01-14T09:13:00",
          "2011-01-14T09:13:00",
          "2011-01-14T09:13:00",
          "2011-01-14T09:13:00",
          "2011-01-14T09:13:00",
          "2011-01-14T09:13:00",
          "2011-01-14T09:13:00",
          "2011-01-14T09:13:00",
          "2011-01-14T09:13:00",
          "2011-01-14T09:13:00",
          "2011-01-14T09:13:00",
          "2011-01-14T09:13:00",
          "2011-01-14T09:13:00",
          "2011-01-14T09:13:00",
          "2011-01-14T09:13:00",
          "2011-01-14T09:13:00",
          "2011-01-14T09:13:00",
          "2011-01-14T09:13:00",
          "2011-01-14T09:13:00",
          "2011-01-14T09:13:00",
          "2011-01-14T09:13:00",
          "2011-01-14T09:13:00",
          "2011-01-14T09:13:00",
          "2011-01-14T09:13:00",
          "2011-01-14T09:13:00",
          "2011-01-14T09:13:00",
          "2011-01-14T09:13:00",
          "2011-01-14T09:13:00",
          "2011-01-14T09:13:00",
          "2011-01-14T09:13:00",
          "2011-01-14T09:13:00",
          "2011-01-14T09:13:00",
          "2011-01-14T09:13:00",
          "2011-01-14T09:13:00",
          "2011-01-14T09:20:00",
          "2011-01-14T09:20:00",
          "2011-01-14T09:20:00",
          "2011-01-14T09:20:00",
          "2011-01-14T09:20:00",
          "2011-01-14T09:20:00",
          "2011-01-14T09:20:00",
          "2011-01-14T09:20:00",
          "2011-01-14T09:20:00",
          "2011-01-14T09:20:00",
          "2011-01-14T10:42:00",
          "2011-01-14T10:42:00",
          "2011-01-14T10:42:00",
          "2011-01-14T10:42:00",
          "2011-01-14T10:42:00",
          "2011-01-14T10:42:00",
          "2011-01-14T10:42:00",
          "2011-01-14T10:42:00",
          "2011-01-14T10:42:00",
          "2011-01-14T10:42:00",
          "2011-01-14T10:42:00",
          "2011-01-14T10:42:00",
          "2011-01-14T10:42:00",
          "2011-01-14T10:42:00",
          "2011-01-14T10:42:00",
          "2011-01-14T10:42:00",
          "2011-01-14T10:42:00",
          "2011-01-14T10:42:00",
          "2011-01-14T10:42:00",
          "2011-01-14T10:42:00",
          "2011-01-14T10:42:00",
          "2011-01-14T10:42:00",
          "2011-01-14T10:42:00",
          "2011-01-14T10:42:00",
          "2011-01-14T10:42:00",
          "2011-01-14T10:42:00",
          "2011-01-14T10:42:00",
          "2011-01-14T10:42:00",
          "2011-01-14T10:42:00",
          "2011-01-14T10:42:00",
          "2011-01-14T10:42:00",
          "2011-01-14T10:42:00",
          "2011-01-14T10:42:00",
          "2011-01-14T10:42:00",
          "2011-01-14T10:42:00",
          "2011-01-14T10:42:00",
          "2011-01-14T10:42:00",
          "2011-01-17T15:17:00",
          "2011-01-17T15:17:00",
          "2011-01-17T15:17:00",
          "2011-01-17T15:17:00",
          "2011-01-17T15:17:00",
          "2011-01-17T15:17:00",
          "2011-01-17T15:17:00",
          "2011-01-17T15:17:00",
          "2011-01-17T15:17:00",
          "2011-01-17T15:17:00",
          "2011-01-17T15:17:00",
          "2011-01-17T15:17:00",
          "2011-01-17T15:17:00",
          "2011-01-17T15:17:00",
          "2011-01-17T15:17:00",
          "2011-01-17T15:17:00",
          "2011-01-17T15:17:00",
          "2011-01-17T15:17:00",
          "2011-01-17T15:17:00",
          "2011-01-17T15:17:00",
          "2011-01-19T11:51:00",
          "2011-01-19T11:51:00",
          "2011-01-19T11:51:00",
          "2011-01-19T11:51:00",
          "2011-01-19T11:51:00",
          "2011-01-19T11:51:00",
          "2011-01-19T11:51:00",
          "2011-01-19T11:51:00",
          "2011-01-19T11:51:00",
          "2011-01-19T11:51:00",
          "2011-01-19T11:51:00",
          "2011-01-19T11:51:00",
          "2011-01-19T11:51:00",
          "2011-01-19T11:51:00",
          "2011-01-19T11:51:00",
          "2011-01-19T11:51:00",
          "2011-01-19T11:51:00",
          "2011-01-19T11:51:00",
          "2011-01-19T11:51:00",
          "2011-01-19T11:51:00",
          "2011-01-19T11:51:00",
          "2011-01-19T11:51:00",
          "2011-01-19T11:51:00",
          "2011-01-19T11:51:00",
          "2011-01-19T11:51:00",
          "2011-01-19T11:51:00",
          "2011-01-19T11:51:00",
          "2011-01-19T11:51:00",
          "2011-01-19T11:51:00",
          "2011-01-19T11:51:00",
          "2011-01-20T10:47:00",
          "2011-01-20T10:47:00",
          "2011-01-20T10:47:00",
          "2011-01-20T10:47:00",
          "2011-01-20T10:47:00",
          "2011-01-20T10:47:00",
          "2011-01-20T10:47:00",
          "2011-01-20T10:47:00",
          "2011-01-20T10:47:00",
          "2011-01-20T10:47:00",
          "2011-01-20T10:47:00",
          "2011-01-20T10:47:00",
          "2011-01-20T10:47:00",
          "2011-01-20T10:47:00",
          "2011-01-20T10:47:00",
          "2011-01-20T10:47:00",
          "2011-01-20T10:47:00",
          "2011-01-20T10:47:00",
          "2011-01-20T10:47:00",
          "2011-01-20T10:47:00",
          "2011-01-20T10:47:00",
          "2011-01-20T10:47:00",
          "2011-01-20T10:47:00",
          "2011-01-20T10:47:00",
          "2011-01-20T10:47:00",
          "2011-01-20T10:47:00",
          "2011-01-20T10:47:00",
          "2011-01-20T10:48:00",
          "2011-01-20T10:48:00",
          "2011-01-20T10:48:00",
          "2011-01-20T10:48:00",
          "2011-01-20T10:48:00",
          "2011-01-20T10:48:00",
          "2011-01-20T10:48:00",
          "2011-01-20T10:48:00",
          "2011-01-20T10:48:00",
          "2011-01-20T10:48:00",
          "2011-01-20T10:48:00",
          "2011-01-20T10:48:00",
          "2011-01-20T10:48:00",
          "2011-01-20T10:48:00",
          "2011-01-20T10:48:00",
          "2011-01-20T10:48:00",
          "2011-01-20T10:48:00",
          "2011-01-20T10:48:00",
          "2011-01-20T10:48:00",
          "2011-01-20T10:48:00",
          "2011-01-20T10:48:00",
          "2011-01-20T10:48:00",
          "2011-01-20T10:48:00",
          "2011-01-20T10:48:00",
          "2011-01-20T10:48:00",
          "2011-01-20T10:48:00",
          "2011-01-20T10:48:00",
          "2011-01-20T10:48:00",
          "2011-01-20T10:48:00",
          "2011-01-20T10:48:00",
          "2011-01-20T10:48:00",
          "2011-01-20T10:48:00",
          "2011-01-20T10:48:00",
          "2011-01-20T10:48:00",
          "2011-01-20T10:48:00",
          "2011-01-20T10:48:00",
          "2011-01-20T10:48:00",
          "2011-01-20T10:48:00",
          "2011-01-20T10:48:00",
          "2011-01-20T10:48:00",
          "2011-01-20T10:48:00",
          "2011-01-20T10:48:00",
          "2011-01-20T10:48:00",
          "2011-01-20T10:48:00",
          "2011-01-23T15:17:00",
          "2011-01-23T15:17:00",
          "2011-01-23T15:17:00",
          "2011-01-23T15:17:00",
          "2011-01-23T15:17:00",
          "2011-01-23T15:17:00",
          "2011-01-23T15:17:00",
          "2011-01-23T15:17:00",
          "2011-01-23T15:17:00",
          "2011-01-23T15:17:00",
          "2011-01-23T15:17:00",
          "2011-01-24T15:32:00",
          "2011-01-24T15:32:00",
          "2011-01-24T15:32:00",
          "2011-01-24T15:32:00",
          "2011-01-24T15:32:00",
          "2011-01-24T15:32:00",
          "2011-01-24T15:32:00",
          "2011-01-24T15:32:00",
          "2011-01-24T15:32:00",
          "2011-01-28T09:20:00",
          "2011-01-28T09:20:00",
          "2011-01-28T09:20:00",
          "2011-01-28T09:20:00",
          "2011-01-28T09:20:00",
          "2011-01-28T09:20:00",
          "2011-01-28T09:20:00",
          "2011-01-28T09:20:00",
          "2011-01-28T09:20:00",
          "2011-01-28T09:20:00",
          "2011-01-28T10:45:00",
          "2011-01-28T10:45:00",
          "2011-01-28T10:45:00",
          "2011-01-28T10:45:00",
          "2011-01-28T10:45:00",
          "2011-01-28T10:45:00",
          "2011-01-28T10:45:00",
          "2011-01-28T10:45:00",
          "2011-01-28T10:45:00",
          "2011-01-28T10:45:00",
          "2011-01-28T10:45:00",
          "2011-01-28T10:45:00",
          "2011-01-28T10:45:00",
          "2011-01-28T10:45:00",
          "2011-01-28T10:45:00",
          "2011-01-28T10:45:00",
          "2011-01-28T10:45:00",
          "2011-01-28T10:45:00",
          "2011-01-28T13:37:00",
          "2011-01-28T13:37:00",
          "2011-01-28T13:37:00",
          "2011-01-28T13:37:00",
          "2011-01-28T13:37:00",
          "2011-01-28T13:37:00",
          "2011-01-28T13:37:00",
          "2011-01-28T13:37:00",
          "2011-01-28T13:37:00",
          "2011-01-28T13:37:00",
          "2011-01-28T13:37:00",
          "2011-01-28T13:37:00",
          "2011-01-28T13:37:00",
          "2011-01-28T13:37:00",
          "2011-01-28T13:37:00",
          "2011-01-28T13:37:00",
          "2011-01-28T13:37:00",
          "2011-01-28T13:37:00",
          "2011-01-28T13:37:00",
          "2011-01-28T13:37:00",
          "2011-01-31T09:57:00",
          "2011-01-31T09:57:00",
          "2011-01-31T09:57:00",
          "2011-01-31T09:57:00",
          "2011-01-31T09:57:00",
          "2011-01-31T09:57:00",
          "2011-01-31T09:57:00",
          "2011-01-31T09:57:00",
          "2011-01-31T09:57:00",
          "2011-01-31T09:57:00",
          "2011-01-31T09:57:00",
          "2011-01-31T09:57:00",
          "2011-01-31T09:57:00",
          "2011-01-31T09:57:00",
          "2011-01-31T09:57:00",
          "2011-01-31T09:57:00",
          "2011-01-31T09:57:00",
          "2011-01-31T09:57:00",
          "2011-01-31T09:57:00",
          "2011-01-31T09:57:00",
          "2011-01-31T09:57:00",
          "2011-01-31T09:57:00",
          "2011-01-31T09:57:00",
          "2011-01-31T09:57:00",
          "2011-01-31T09:57:00",
          "2011-01-31T09:57:00",
          "2011-01-31T09:57:00",
          "2011-01-31T09:57:00",
          "2011-01-31T09:57:00",
          "2011-01-31T09:57:00",
          "2011-01-31T09:57:00",
          "2011-01-31T09:57:00",
          "2011-01-31T09:57:00",
          "2011-01-31T09:57:00",
          "2011-01-31T09:57:00",
          "2011-01-31T09:57:00",
          "2011-01-31T09:57:00",
          "2011-01-31T09:57:00",
          "2011-01-31T09:57:00",
          "2011-01-31T09:57:00",
          "2011-01-31T09:57:00",
          "2011-01-31T09:57:00",
          "2011-01-31T09:57:00",
          "2011-01-31T09:57:00",
          "2011-01-31T09:57:00",
          "2011-01-31T09:57:00",
          "2011-01-31T15:36:00",
          "2011-01-31T15:36:00",
          "2011-01-31T15:36:00",
          "2011-01-31T15:36:00",
          "2011-01-31T15:36:00",
          "2011-01-31T15:36:00",
          "2011-01-31T15:36:00",
          "2011-01-31T15:36:00",
          "2011-01-31T15:36:00",
          "2011-01-31T15:36:00",
          "2011-01-31T15:36:00",
          "2011-01-31T15:36:00",
          "2011-01-31T15:36:00",
          "2011-01-31T15:36:00",
          "2011-01-31T15:36:00",
          "2011-01-31T15:36:00",
          "2011-01-31T15:36:00",
          "2011-02-01T14:58:00",
          "2011-02-01T14:58:00",
          "2011-02-01T14:58:00",
          "2011-02-01T14:58:00",
          "2011-02-01T14:58:00",
          "2011-02-01T14:58:00",
          "2011-02-01T14:58:00",
          "2011-02-01T14:58:00",
          "2011-02-01T14:58:00",
          "2011-02-01T14:58:00",
          "2011-02-01T14:58:00",
          "2011-02-01T14:58:00",
          "2011-02-01T14:58:00",
          "2011-02-01T14:58:00",
          "2011-02-01T14:58:00",
          "2011-02-01T14:58:00",
          "2011-02-01T14:58:00",
          "2011-02-01T14:58:00",
          "2011-02-02T09:06:00",
          "2011-02-02T09:06:00",
          "2011-02-02T09:06:00",
          "2011-02-02T09:06:00",
          "2011-02-02T09:06:00",
          "2011-02-02T09:06:00",
          "2011-02-02T09:06:00",
          "2011-02-02T09:06:00",
          "2011-02-02T09:06:00",
          "2011-02-02T09:06:00",
          "2011-02-02T09:06:00",
          "2011-02-02T09:06:00",
          "2011-02-02T09:06:00",
          "2011-02-02T09:06:00",
          "2011-02-02T09:06:00",
          "2011-02-02T09:06:00",
          "2011-02-02T09:06:00",
          "2011-02-02T09:06:00",
          "2011-02-02T15:22:00",
          "2011-02-02T15:22:00",
          "2011-02-02T15:22:00",
          "2011-02-02T15:22:00",
          "2011-02-02T15:22:00",
          "2011-02-02T15:22:00",
          "2011-02-02T15:22:00",
          "2011-02-02T15:22:00",
          "2011-02-02T15:22:00",
          "2011-02-04T11:45:00",
          "2011-02-04T11:45:00",
          "2011-02-04T11:45:00",
          "2011-02-04T11:45:00",
          "2011-02-04T11:45:00",
          "2011-02-04T11:45:00",
          "2011-02-04T11:45:00",
          "2011-02-04T11:45:00",
          "2011-02-04T11:45:00",
          "2011-02-04T11:45:00",
          "2011-02-04T11:45:00",
          "2011-02-04T11:45:00",
          "2011-02-04T11:45:00",
          "2011-02-04T11:45:00",
          "2011-02-04T11:45:00",
          "2011-02-04T11:45:00",
          "2011-02-04T11:45:00",
          "2011-02-04T11:45:00",
          "2011-02-04T11:45:00",
          "2011-02-04T11:45:00",
          "2011-02-04T11:45:00",
          "2011-02-04T11:45:00",
          "2011-02-04T11:45:00",
          "2011-02-04T11:45:00",
          "2011-02-04T11:45:00",
          "2011-02-04T11:45:00",
          "2011-02-04T11:45:00",
          "2011-02-04T11:45:00",
          "2011-02-04T11:45:00",
          "2011-02-04T11:45:00",
          "2011-02-04T11:45:00",
          "2011-02-04T11:45:00",
          "2011-02-04T11:45:00",
          "2011-02-04T11:45:00",
          "2011-02-04T11:45:00",
          "2011-02-04T11:45:00",
          "2011-02-04T11:45:00",
          "2011-02-04T11:45:00",
          "2011-02-04T11:45:00",
          "2011-02-04T11:45:00",
          "2011-02-04T11:45:00",
          "2011-02-04T11:45:00",
          "2011-02-04T11:45:00",
          "2011-02-04T11:45:00",
          "2011-02-04T11:45:00",
          "2011-02-04T11:45:00",
          "2011-02-04T11:45:00",
          "2011-02-04T11:45:00",
          "2011-02-04T11:45:00",
          "2011-02-04T11:45:00",
          "2011-02-04T11:45:00",
          "2011-02-04T11:45:00",
          "2011-02-04T11:45:00",
          "2011-02-04T11:45:00",
          "2011-02-04T11:45:00",
          "2011-02-04T11:45:00",
          "2011-02-04T11:45:00",
          "2011-02-04T11:45:00",
          "2011-02-04T11:45:00",
          "2011-02-04T11:45:00",
          "2011-02-04T11:45:00",
          "2011-02-04T11:45:00",
          "2011-02-08T13:28:00",
          "2011-02-08T13:28:00",
          "2011-02-08T13:28:00",
          "2011-02-08T13:28:00",
          "2011-02-08T13:28:00",
          "2011-02-08T13:28:00",
          "2011-02-08T13:28:00",
          "2011-02-08T13:28:00",
          "2011-02-08T13:28:00",
          "2011-02-08T13:28:00",
          "2011-02-08T13:28:00",
          "2011-02-08T13:28:00",
          "2011-02-08T13:28:00",
          "2011-02-09T10:11:00",
          "2011-02-09T10:11:00",
          "2011-02-09T10:11:00",
          "2011-02-09T10:11:00",
          "2011-02-09T10:11:00",
          "2011-02-09T10:11:00",
          "2011-02-09T10:11:00",
          "2011-02-09T10:11:00",
          "2011-02-09T10:11:00",
          "2011-02-09T10:11:00",
          "2011-02-09T10:11:00",
          "2011-02-09T10:11:00",
          "2011-02-09T10:11:00",
          "2011-02-09T10:11:00",
          "2011-02-09T10:11:00",
          "2011-02-09T10:11:00",
          "2011-02-09T10:11:00",
          "2011-02-09T10:11:00",
          "2011-02-09T10:11:00",
          "2011-02-09T10:11:00",
          "2011-02-09T10:11:00",
          "2011-02-09T10:11:00",
          "2011-02-09T10:11:00",
          "2011-02-09T10:11:00",
          "2011-02-09T10:11:00",
          "2011-02-09T10:11:00",
          "2011-02-10T15:38:00",
          "2011-02-10T15:38:00",
          "2011-02-10T15:38:00",
          "2011-02-10T15:38:00",
          "2011-02-10T15:38:00",
          "2011-02-10T15:38:00",
          "2011-02-10T15:38:00",
          "2011-02-10T15:38:00",
          "2011-02-10T15:38:00",
          "2011-02-10T15:38:00",
          "2011-02-10T15:38:00",
          "2011-02-10T15:38:00",
          "2011-02-15T14:17:00",
          "2011-02-15T14:17:00",
          "2011-02-15T14:17:00",
          "2011-02-15T14:17:00",
          "2011-02-15T14:17:00",
          "2011-02-15T14:17:00",
          "2011-02-15T14:17:00",
          "2011-02-15T14:17:00",
          "2011-02-15T14:17:00",
          "2011-02-15T14:17:00",
          "2011-02-16T11:45:00",
          "2011-02-16T11:45:00",
          "2011-02-16T11:45:00",
          "2011-02-16T11:45:00",
          "2011-02-16T11:45:00",
          "2011-02-16T11:45:00",
          "2011-02-16T11:45:00",
          "2011-02-16T11:45:00",
          "2011-02-16T11:45:00",
          "2011-02-16T11:45:00",
          "2011-02-16T11:45:00",
          "2011-02-16T11:45:00",
          "2011-02-16T11:45:00",
          "2011-02-16T11:45:00",
          "2011-02-16T11:45:00",
          "2011-02-16T11:45:00",
          "2011-02-16T11:45:00",
          "2011-02-16T11:45:00",
          "2011-02-16T11:45:00",
          "2011-02-16T11:45:00",
          "2011-02-16T11:45:00",
          "2011-02-16T11:45:00",
          "2011-02-16T11:45:00",
          "2011-02-16T11:45:00",
          "2011-02-16T11:45:00",
          "2011-02-16T11:45:00",
          "2011-02-16T11:45:00",
          "2011-02-16T11:45:00",
          "2011-02-16T11:45:00",
          "2011-02-16T11:45:00",
          "2011-02-16T11:45:00",
          "2011-02-16T11:45:00",
          "2011-02-16T11:45:00",
          "2011-02-16T11:45:00",
          "2011-02-16T11:45:00",
          "2011-02-16T11:45:00",
          "2011-02-16T11:45:00",
          "2011-02-16T11:45:00",
          "2011-02-16T11:45:00",
          "2011-02-16T11:45:00",
          "2011-02-16T11:45:00",
          "2011-02-16T11:45:00",
          "2011-02-16T11:45:00",
          "2011-02-16T11:45:00",
          "2011-02-16T11:45:00",
          "2011-02-16T11:45:00",
          "2011-02-16T11:45:00",
          "2011-02-17T10:08:00",
          "2011-02-17T10:08:00",
          "2011-02-17T10:08:00",
          "2011-02-17T10:08:00",
          "2011-02-17T10:08:00",
          "2011-02-17T10:08:00",
          "2011-02-17T10:08:00",
          "2011-02-17T10:08:00",
          "2011-02-17T10:08:00",
          "2011-02-17T10:08:00",
          "2011-02-17T10:08:00",
          "2011-02-17T10:08:00",
          "2011-02-17T10:08:00",
          "2011-02-17T10:08:00",
          "2011-02-17T10:08:00",
          "2011-02-18T10:53:00",
          "2011-02-18T10:53:00",
          "2011-02-18T10:53:00",
          "2011-02-18T10:53:00",
          "2011-02-18T10:53:00",
          "2011-02-18T10:53:00",
          "2011-02-18T10:53:00",
          "2011-02-18T10:53:00",
          "2011-02-18T10:53:00",
          "2011-02-18T10:53:00",
          "2011-02-18T10:53:00",
          "2011-02-18T10:53:00",
          "2011-02-18T10:53:00",
          "2011-02-18T10:53:00",
          "2011-02-18T10:53:00",
          "2011-02-18T10:53:00",
          "2011-02-18T10:53:00",
          "2011-02-18T10:53:00",
          "2011-02-18T10:53:00",
          "2011-02-18T10:53:00",
          "2011-02-18T10:53:00",
          "2011-02-18T10:53:00",
          "2011-02-18T10:53:00",
          "2011-02-18T10:53:00",
          "2011-02-18T10:53:00",
          "2011-02-18T10:53:00",
          "2011-02-18T10:53:00",
          "2011-02-18T10:53:00",
          "2011-02-18T10:53:00",
          "2011-02-18T10:53:00",
          "2011-02-18T10:53:00",
          "2011-02-18T10:53:00",
          "2011-02-18T10:53:00",
          "2011-02-18T10:53:00",
          "2011-02-18T10:53:00",
          "2011-02-18T10:53:00",
          "2011-02-18T10:53:00",
          "2011-02-18T10:53:00",
          "2011-02-18T10:53:00",
          "2011-02-18T10:53:00",
          "2011-02-18T10:53:00",
          "2011-02-18T10:53:00",
          "2011-02-18T10:53:00",
          "2011-02-18T10:53:00",
          "2011-02-18T10:53:00",
          "2011-02-18T10:53:00",
          "2011-02-18T10:53:00",
          "2011-02-18T10:53:00",
          "2011-02-18T10:53:00",
          "2011-02-18T10:53:00",
          "2011-02-18T10:53:00",
          "2011-02-18T10:53:00",
          "2011-02-18T15:23:00",
          "2011-02-21T08:38:00",
          "2011-02-21T08:38:00",
          "2011-02-21T08:38:00",
          "2011-02-21T08:38:00",
          "2011-02-21T08:38:00",
          "2011-02-21T08:38:00",
          "2011-02-21T08:38:00",
          "2011-02-21T08:38:00",
          "2011-02-21T08:38:00",
          "2011-02-21T08:38:00",
          "2011-02-21T08:38:00",
          "2011-02-21T08:38:00",
          "2011-02-21T08:38:00",
          "2011-02-21T08:38:00",
          "2011-02-21T08:38:00",
          "2011-02-21T08:38:00",
          "2011-02-21T08:38:00",
          "2011-02-21T08:38:00",
          "2011-02-21T08:38:00",
          "2011-02-21T08:38:00",
          "2011-02-21T08:38:00",
          "2011-02-21T08:38:00",
          "2011-02-21T08:38:00",
          "2011-02-21T08:38:00",
          "2011-02-21T08:38:00",
          "2011-02-21T08:38:00",
          "2011-02-21T08:38:00",
          "2011-02-21T08:38:00",
          "2011-02-21T08:38:00",
          "2011-02-21T08:38:00",
          "2011-02-21T08:38:00",
          "2011-02-21T08:38:00",
          "2011-02-21T08:38:00",
          "2011-02-21T14:58:00",
          "2011-02-21T14:58:00",
          "2011-02-21T14:58:00",
          "2011-02-21T14:58:00",
          "2011-02-21T14:58:00",
          "2011-02-21T14:58:00",
          "2011-02-21T14:58:00",
          "2011-02-23T16:44:00",
          "2011-02-23T16:44:00",
          "2011-02-23T16:44:00",
          "2011-02-23T16:44:00",
          "2011-02-23T16:44:00",
          "2011-02-23T16:44:00",
          "2011-02-23T16:44:00",
          "2011-02-23T16:44:00",
          "2011-02-23T16:44:00",
          "2011-02-23T16:44:00",
          "2011-02-23T16:44:00",
          "2011-02-23T16:44:00",
          "2011-02-23T16:44:00",
          "2011-02-23T16:44:00",
          "2011-02-23T16:44:00",
          "2011-02-23T16:44:00",
          "2011-02-23T16:45:00",
          "2011-02-23T16:45:00",
          "2011-02-23T16:45:00",
          "2011-02-23T16:45:00",
          "2011-02-27T11:58:00",
          "2011-02-27T11:58:00",
          "2011-02-27T11:58:00",
          "2011-02-27T11:58:00",
          "2011-02-28T11:43:00",
          "2011-02-28T11:43:00",
          "2011-02-28T11:43:00",
          "2011-02-28T11:43:00",
          "2011-02-28T11:43:00",
          "2011-02-28T11:43:00",
          "2011-02-28T11:43:00",
          "2011-02-28T11:43:00",
          "2011-02-28T11:43:00",
          "2011-02-28T11:43:00",
          "2011-02-28T11:43:00",
          "2011-02-28T11:43:00",
          "2011-02-28T11:58:00",
          "2011-02-28T11:58:00",
          "2011-02-28T11:58:00",
          "2011-02-28T11:58:00",
          "2011-02-28T11:58:00",
          "2011-02-28T11:58:00",
          "2011-02-28T11:58:00",
          "2011-02-28T11:58:00",
          "2011-02-28T11:58:00",
          "2011-02-28T11:58:00",
          "2011-02-28T11:58:00",
          "2011-02-28T11:58:00",
          "2011-02-28T11:58:00",
          "2011-02-28T11:58:00",
          "2011-02-28T11:58:00",
          "2011-02-28T11:58:00",
          "2011-02-28T11:58:00",
          "2011-02-28T11:58:00",
          "2011-02-28T11:58:00",
          "2011-02-28T11:58:00",
          "2011-02-28T11:58:00",
          "2011-02-28T11:58:00",
          "2011-02-28T11:58:00",
          "2011-02-28T11:58:00",
          "2011-02-28T11:58:00",
          "2011-02-28T14:42:00",
          "2011-02-28T14:42:00",
          "2011-02-28T14:42:00",
          "2011-02-28T14:42:00",
          "2011-02-28T14:42:00",
          "2011-02-28T14:42:00",
          "2011-02-28T14:42:00",
          "2011-02-28T14:42:00",
          "2011-02-28T14:42:00",
          "2011-02-28T14:42:00",
          "2011-02-28T14:42:00",
          "2011-02-28T14:45:00",
          "2011-02-28T14:45:00",
          "2011-02-28T14:45:00",
          "2011-02-28T14:45:00",
          "2011-02-28T14:45:00",
          "2011-02-28T14:45:00",
          "2011-03-01T10:31:00",
          "2011-03-01T10:31:00",
          "2011-03-01T10:31:00",
          "2011-03-01T10:31:00",
          "2011-03-01T10:31:00",
          "2011-03-01T10:31:00",
          "2011-03-01T10:31:00",
          "2011-03-01T10:31:00",
          "2011-03-01T10:31:00",
          "2011-03-01T10:31:00",
          "2011-03-01T10:31:00",
          "2011-03-01T10:31:00",
          "2011-03-01T10:31:00",
          "2011-03-01T10:31:00",
          "2011-03-01T10:31:00",
          "2011-03-01T10:31:00",
          "2011-03-01T12:26:00",
          "2011-03-01T12:26:00",
          "2011-03-01T12:26:00",
          "2011-03-01T12:26:00",
          "2011-03-01T12:26:00",
          "2011-03-01T12:26:00",
          "2011-03-01T12:26:00",
          "2011-03-01T12:26:00",
          "2011-03-01T12:26:00",
          "2011-03-01T12:26:00",
          "2011-03-01T12:26:00",
          "2011-03-01T12:26:00",
          "2011-03-01T12:26:00",
          "2011-03-01T12:26:00",
          "2011-03-01T12:26:00",
          "2011-03-01T12:26:00",
          "2011-03-01T12:26:00",
          "2011-03-01T12:26:00",
          "2011-03-01T12:26:00",
          "2011-03-01T12:26:00",
          "2011-03-01T12:26:00",
          "2011-03-01T12:26:00",
          "2011-03-01T12:26:00",
          "2011-03-01T12:26:00",
          "2011-03-01T12:26:00",
          "2011-03-01T12:26:00",
          "2011-03-01T12:26:00",
          "2011-03-01T12:26:00",
          "2011-03-01T12:26:00",
          "2011-03-01T12:26:00",
          "2011-03-01T12:26:00",
          "2011-03-01T12:26:00",
          "2011-03-01T12:26:00",
          "2011-03-01T12:26:00",
          "2011-03-01T12:26:00",
          "2011-03-01T12:26:00",
          "2011-03-01T12:26:00",
          "2011-03-01T12:26:00",
          "2011-03-01T12:26:00",
          "2011-03-01T12:26:00",
          "2011-03-01T12:26:00",
          "2011-03-03T12:06:00",
          "2011-03-03T12:06:00",
          "2011-03-03T12:06:00",
          "2011-03-03T12:06:00",
          "2011-03-03T12:06:00",
          "2011-03-03T12:06:00",
          "2011-03-03T12:06:00",
          "2011-03-03T12:06:00",
          "2011-03-03T12:06:00",
          "2011-03-03T12:06:00",
          "2011-03-03T12:06:00",
          "2011-03-03T12:06:00",
          "2011-03-03T12:06:00",
          "2011-03-03T12:06:00",
          "2011-03-03T12:06:00",
          "2011-03-03T12:06:00",
          "2011-03-03T12:06:00",
          "2011-03-03T12:06:00",
          "2011-03-03T12:06:00",
          "2011-03-03T12:06:00",
          "2011-03-03T12:06:00",
          "2011-03-03T12:06:00",
          "2011-03-03T12:06:00",
          "2011-03-03T12:06:00",
          "2011-03-03T12:06:00",
          "2011-03-03T12:06:00",
          "2011-03-03T12:06:00",
          "2011-03-03T12:20:00",
          "2011-03-04T09:08:00",
          "2011-03-04T09:08:00",
          "2011-03-04T09:08:00",
          "2011-03-04T09:08:00",
          "2011-03-04T09:08:00",
          "2011-03-04T09:08:00",
          "2011-03-04T09:08:00",
          "2011-03-04T09:08:00",
          "2011-03-04T09:08:00",
          "2011-03-04T09:08:00",
          "2011-03-04T09:08:00",
          "2011-03-04T09:08:00",
          "2011-03-04T09:08:00",
          "2011-03-04T09:08:00",
          "2011-03-04T09:08:00",
          "2011-03-11T12:00:00",
          "2011-03-11T12:00:00",
          "2011-03-11T12:00:00",
          "2011-03-11T12:00:00",
          "2011-03-11T12:00:00",
          "2011-03-11T12:00:00",
          "2011-03-11T12:00:00",
          "2011-03-11T12:00:00",
          "2011-03-11T12:00:00",
          "2011-03-11T12:00:00",
          "2011-03-11T12:00:00",
          "2011-03-11T12:00:00",
          "2011-03-11T12:00:00",
          "2011-03-11T12:00:00",
          "2011-03-11T12:00:00",
          "2011-03-11T12:00:00",
          "2011-03-11T12:00:00",
          "2011-03-11T12:00:00",
          "2011-03-11T12:00:00",
          "2011-03-13T14:55:00",
          "2011-03-13T14:55:00",
          "2011-03-13T14:55:00",
          "2011-03-13T14:55:00",
          "2011-03-13T14:55:00",
          "2011-03-13T14:55:00",
          "2011-03-13T14:55:00",
          "2011-03-13T14:55:00",
          "2011-03-13T14:55:00",
          "2011-03-13T14:55:00",
          "2011-03-13T14:55:00",
          "2011-03-13T14:55:00",
          "2011-03-13T14:55:00",
          "2011-03-13T14:55:00",
          "2011-03-13T14:55:00",
          "2011-03-13T14:55:00",
          "2011-03-13T14:55:00",
          "2011-03-14T11:38:00",
          "2011-03-14T11:38:00",
          "2011-03-14T11:38:00",
          "2011-03-14T11:38:00",
          "2011-03-14T11:38:00",
          "2011-03-14T11:38:00",
          "2011-03-14T11:38:00",
          "2011-03-14T11:38:00",
          "2011-03-14T11:38:00",
          "2011-03-14T11:38:00",
          "2011-03-14T11:38:00",
          "2011-03-14T11:38:00",
          "2011-03-14T11:38:00",
          "2011-03-14T11:38:00",
          "2011-03-14T11:38:00",
          "2011-03-14T11:38:00",
          "2011-03-14T11:38:00",
          "2011-03-14T11:38:00",
          "2011-03-14T11:38:00",
          "2011-03-14T11:38:00",
          "2011-03-15T16:39:00",
          "2011-03-15T16:39:00",
          "2011-03-15T16:39:00",
          "2011-03-15T16:39:00",
          "2011-03-15T16:39:00",
          "2011-03-15T16:39:00",
          "2011-03-15T16:39:00",
          "2011-03-15T16:39:00",
          "2011-03-15T16:39:00",
          "2011-03-15T16:39:00",
          "2011-03-15T16:39:00",
          "2011-03-15T16:39:00",
          "2011-03-15T16:39:00",
          "2011-03-15T16:39:00",
          "2011-03-15T16:39:00",
          "2011-03-15T16:39:00",
          "2011-03-15T16:39:00",
          "2011-03-15T16:39:00",
          "2011-03-15T16:39:00",
          "2011-03-15T16:39:00",
          "2011-03-15T16:39:00",
          "2011-03-15T16:39:00",
          "2011-03-15T16:39:00",
          "2011-03-15T16:39:00",
          "2011-03-15T16:39:00",
          "2011-03-15T16:39:00",
          "2011-03-15T16:39:00",
          "2011-03-15T16:39:00",
          "2011-03-16T14:37:00",
          "2011-03-16T14:37:00",
          "2011-03-16T14:37:00",
          "2011-03-16T14:37:00",
          "2011-03-16T14:37:00",
          "2011-03-16T14:37:00",
          "2011-03-16T14:37:00",
          "2011-03-16T15:17:00",
          "2011-03-16T15:17:00",
          "2011-03-16T15:17:00",
          "2011-03-16T15:17:00",
          "2011-03-16T15:17:00",
          "2011-03-16T15:17:00",
          "2011-03-16T15:17:00",
          "2011-03-16T15:17:00",
          "2011-03-20T15:58:00",
          "2011-03-20T15:58:00",
          "2011-03-20T15:58:00",
          "2011-03-20T15:58:00",
          "2011-03-20T15:58:00",
          "2011-03-20T15:58:00",
          "2011-03-20T15:58:00",
          "2011-03-20T15:58:00",
          "2011-03-20T15:58:00",
          "2011-03-20T15:58:00",
          "2011-03-20T15:58:00",
          "2011-03-20T15:58:00",
          "2011-03-20T15:58:00",
          "2011-03-20T15:58:00",
          "2011-03-21T12:42:00",
          "2011-03-21T12:42:00",
          "2011-03-21T12:42:00",
          "2011-03-21T12:42:00",
          "2011-03-21T12:42:00",
          "2011-03-21T12:42:00",
          "2011-03-21T12:42:00",
          "2011-03-21T12:42:00",
          "2011-03-21T12:42:00",
          "2011-03-21T12:42:00",
          "2011-03-21T12:42:00",
          "2011-03-21T12:42:00",
          "2011-03-21T12:42:00",
          "2011-03-21T12:42:00",
          "2011-03-21T12:42:00",
          "2011-03-21T12:42:00",
          "2011-03-21T12:42:00",
          "2011-03-21T12:42:00",
          "2011-03-21T12:42:00",
          "2011-03-21T12:42:00",
          "2011-03-21T12:42:00",
          "2011-03-21T12:42:00",
          "2011-03-21T12:42:00",
          "2011-03-21T12:42:00",
          "2011-03-21T12:42:00",
          "2011-03-21T12:42:00",
          "2011-03-21T12:42:00",
          "2011-03-21T12:42:00",
          "2011-03-21T12:42:00",
          "2011-03-21T12:42:00",
          "2011-03-21T12:42:00",
          "2011-03-21T12:42:00",
          "2011-03-21T12:42:00",
          "2011-03-21T12:42:00",
          "2011-03-21T12:42:00",
          "2011-03-21T12:42:00",
          "2011-03-21T12:42:00",
          "2011-03-21T12:42:00",
          "2011-03-21T12:42:00",
          "2011-03-21T12:42:00",
          "2011-03-21T12:44:00",
          "2011-03-21T12:44:00",
          "2011-03-21T12:44:00",
          "2011-03-21T12:44:00",
          "2011-03-22T11:28:00",
          "2011-03-22T11:28:00",
          "2011-03-22T11:28:00",
          "2011-03-22T11:28:00",
          "2011-03-22T11:28:00",
          "2011-03-22T11:28:00",
          "2011-03-22T11:28:00",
          "2011-03-22T11:28:00",
          "2011-03-22T11:28:00",
          "2011-03-22T11:28:00",
          "2011-03-22T11:28:00",
          "2011-03-22T11:28:00",
          "2011-03-22T11:28:00",
          "2011-03-22T11:28:00",
          "2011-03-22T11:28:00",
          "2011-03-22T11:28:00",
          "2011-03-22T11:28:00",
          "2011-03-22T11:28:00",
          "2011-03-22T11:28:00",
          "2011-03-22T11:28:00",
          "2011-03-22T11:28:00",
          "2011-03-22T11:28:00",
          "2011-03-22T11:28:00",
          "2011-03-22T11:28:00",
          "2011-03-22T11:28:00",
          "2011-03-22T11:28:00",
          "2011-03-22T11:28:00",
          "2011-03-22T11:28:00",
          "2011-03-22T11:28:00",
          "2011-03-22T11:28:00",
          "2011-03-23T12:06:00",
          "2011-03-23T12:06:00",
          "2011-03-23T12:06:00",
          "2011-03-23T12:06:00",
          "2011-03-23T12:06:00",
          "2011-03-23T12:06:00",
          "2011-03-23T12:06:00",
          "2011-03-23T12:06:00",
          "2011-03-23T12:06:00",
          "2011-03-23T13:33:00",
          "2011-03-23T13:33:00",
          "2011-03-23T13:33:00",
          "2011-03-23T13:33:00",
          "2011-03-23T13:33:00",
          "2011-03-23T13:33:00",
          "2011-03-23T13:33:00",
          "2011-03-23T13:33:00",
          "2011-03-23T13:33:00",
          "2011-03-23T13:33:00",
          "2011-03-23T13:33:00",
          "2011-03-23T13:33:00",
          "2011-03-23T13:33:00",
          "2011-03-23T13:33:00",
          "2011-03-23T13:33:00",
          "2011-03-23T13:33:00",
          "2011-03-23T13:33:00",
          "2011-03-23T13:33:00",
          "2011-03-23T13:33:00",
          "2011-03-23T13:33:00",
          "2011-03-23T13:33:00",
          "2011-03-23T13:33:00",
          "2011-03-23T13:33:00",
          "2011-03-23T13:33:00",
          "2011-03-23T13:33:00",
          "2011-03-23T13:33:00",
          "2011-03-23T13:33:00",
          "2011-03-23T13:33:00",
          "2011-03-23T13:33:00",
          "2011-03-23T13:33:00",
          "2011-03-23T13:33:00",
          "2011-03-23T13:33:00",
          "2011-03-23T13:33:00",
          "2011-03-23T13:33:00",
          "2011-03-23T13:39:00",
          "2011-03-23T13:39:00",
          "2011-03-23T13:39:00",
          "2011-03-23T13:39:00",
          "2011-03-23T13:39:00",
          "2011-03-23T13:39:00",
          "2011-03-23T13:39:00",
          "2011-03-23T13:39:00",
          "2011-03-23T14:55:00",
          "2011-03-23T14:55:00",
          "2011-03-23T14:55:00",
          "2011-03-23T14:55:00",
          "2011-03-23T14:55:00",
          "2011-03-23T14:55:00",
          "2011-03-23T14:55:00",
          "2011-03-23T14:55:00",
          "2011-03-23T14:55:00",
          "2011-03-23T14:55:00",
          "2011-03-23T14:55:00",
          "2011-03-23T14:55:00",
          "2011-03-23T14:55:00",
          "2011-03-23T14:55:00",
          "2011-03-23T14:55:00",
          "2011-03-23T14:55:00",
          "2011-03-23T14:55:00",
          "2011-03-23T14:55:00",
          "2011-03-23T14:55:00",
          "2011-03-23T14:55:00",
          "2011-03-25T10:19:00",
          "2011-03-25T10:19:00",
          "2011-03-25T10:19:00",
          "2011-03-25T10:19:00",
          "2011-03-25T10:19:00",
          "2011-03-25T10:19:00",
          "2011-03-25T10:19:00",
          "2011-03-25T10:19:00",
          "2011-03-25T10:19:00",
          "2011-03-25T10:19:00",
          "2011-03-25T10:19:00",
          "2011-03-25T10:19:00",
          "2011-03-25T10:19:00",
          "2011-03-25T10:19:00",
          "2011-03-25T10:19:00",
          "2011-03-25T10:19:00",
          "2011-03-25T10:19:00",
          "2011-03-25T10:19:00",
          "2011-03-25T10:19:00",
          "2011-03-25T10:19:00",
          "2011-03-25T10:19:00",
          "2011-03-25T10:19:00",
          "2011-03-27T13:07:00",
          "2011-03-27T13:07:00",
          "2011-03-27T13:07:00",
          "2011-03-27T13:07:00",
          "2011-03-27T13:07:00",
          "2011-03-27T13:07:00",
          "2011-03-27T13:07:00",
          "2011-03-28T10:15:00",
          "2011-03-28T10:15:00",
          "2011-03-28T10:15:00",
          "2011-03-28T10:15:00",
          "2011-03-28T10:15:00",
          "2011-03-28T10:15:00",
          "2011-03-28T10:15:00",
          "2011-03-28T10:15:00",
          "2011-03-28T10:15:00",
          "2011-03-28T10:15:00",
          "2011-03-28T10:15:00",
          "2011-03-28T10:15:00",
          "2011-03-28T10:15:00",
          "2011-03-28T10:15:00",
          "2011-03-28T10:15:00",
          "2011-03-28T10:15:00",
          "2011-03-28T10:15:00",
          "2011-03-28T10:15:00",
          "2011-03-28T10:15:00",
          "2011-03-28T10:15:00",
          "2011-03-28T10:15:00",
          "2011-03-28T10:15:00",
          "2011-03-28T10:15:00",
          "2011-03-28T10:15:00",
          "2011-03-28T10:15:00",
          "2011-03-28T10:15:00",
          "2011-03-28T10:15:00",
          "2011-03-28T10:15:00",
          "2011-03-28T10:15:00",
          "2011-03-28T10:15:00",
          "2011-03-28T10:15:00",
          "2011-03-28T10:15:00",
          "2011-03-28T10:15:00",
          "2011-03-28T10:15:00",
          "2011-03-28T10:15:00",
          "2011-03-28T10:15:00",
          "2011-03-28T10:15:00",
          "2011-03-28T10:15:00",
          "2011-03-28T10:15:00",
          "2011-03-28T10:15:00",
          "2011-03-28T10:15:00",
          "2011-03-28T10:15:00",
          "2011-03-28T10:15:00",
          "2011-03-28T10:15:00",
          "2011-03-28T10:15:00",
          "2011-03-28T10:15:00",
          "2011-03-28T10:15:00",
          "2011-03-28T10:15:00",
          "2011-03-28T10:15:00",
          "2011-03-28T10:15:00",
          "2011-03-28T10:15:00",
          "2011-03-28T10:15:00",
          "2011-03-28T10:15:00",
          "2011-03-28T10:15:00",
          "2011-03-28T10:15:00",
          "2011-03-28T10:15:00",
          "2011-03-28T10:15:00",
          "2011-03-28T10:15:00",
          "2011-03-28T10:15:00",
          "2011-03-28T10:15:00",
          "2011-03-28T10:15:00",
          "2011-03-28T10:15:00",
          "2011-03-28T10:15:00",
          "2011-03-28T10:15:00",
          "2011-03-28T10:15:00",
          "2011-03-28T10:15:00",
          "2011-03-28T10:15:00",
          "2011-03-28T10:15:00",
          "2011-03-31T10:27:00",
          "2011-03-31T10:27:00",
          "2011-03-31T10:27:00",
          "2011-03-31T10:27:00",
          "2011-03-31T10:27:00",
          "2011-03-31T10:27:00",
          "2011-03-31T10:27:00",
          "2011-03-31T10:27:00",
          "2011-03-31T10:27:00",
          "2011-03-31T10:27:00",
          "2011-03-31T10:27:00",
          "2011-03-31T10:27:00",
          "2011-03-31T10:27:00",
          "2011-03-31T10:27:00",
          "2011-03-31T10:27:00",
          "2011-03-31T10:27:00",
          "2011-03-31T10:27:00",
          "2011-03-31T10:27:00",
          "2011-03-31T10:27:00",
          "2011-03-31T10:27:00",
          "2011-03-31T10:27:00",
          "2011-03-31T10:27:00",
          "2011-03-31T10:27:00",
          "2011-03-31T10:27:00",
          "2011-03-31T10:27:00",
          "2011-03-31T10:27:00",
          "2011-03-31T10:27:00",
          "2011-03-31T10:27:00",
          "2011-03-31T10:27:00",
          "2011-03-31T10:27:00",
          "2011-03-31T10:27:00",
          "2011-03-31T10:27:00",
          "2011-03-31T10:27:00",
          "2011-03-31T10:29:00",
          "2011-03-31T10:29:00",
          "2011-03-31T10:29:00",
          "2011-03-31T10:29:00",
          "2011-03-31T13:40:00",
          "2011-03-31T13:40:00",
          "2011-03-31T13:40:00",
          "2011-03-31T13:40:00",
          "2011-03-31T13:40:00",
          "2011-03-31T13:40:00",
          "2011-03-31T13:40:00",
          "2011-03-31T13:40:00",
          "2011-03-31T13:40:00",
          "2011-03-31T13:40:00",
          "2011-03-31T13:40:00",
          "2011-03-31T13:40:00",
          "2011-03-31T13:40:00",
          "2011-03-31T13:40:00",
          "2011-03-31T13:40:00",
          "2011-03-31T13:40:00",
          "2011-03-31T13:40:00",
          "2011-03-31T13:40:00",
          "2011-03-31T13:40:00",
          "2011-03-31T13:40:00",
          "2011-03-31T13:40:00",
          "2011-03-31T13:40:00",
          "2011-03-31T13:40:00",
          "2011-03-31T13:40:00",
          "2011-03-31T13:40:00",
          "2011-03-31T13:40:00",
          "2011-03-31T13:40:00",
          "2011-03-31T13:40:00",
          "2011-03-31T13:40:00",
          "2011-03-31T13:40:00",
          "2011-03-31T13:40:00",
          "2011-03-31T13:40:00",
          "2011-03-31T13:40:00",
          "2011-03-31T13:40:00",
          "2011-03-31T13:40:00",
          "2011-04-01T09:19:00",
          "2011-04-01T09:19:00",
          "2011-04-01T09:19:00",
          "2011-04-01T09:19:00",
          "2011-04-01T09:19:00",
          "2011-04-01T09:19:00",
          "2011-04-01T09:19:00",
          "2011-04-01T09:19:00",
          "2011-04-01T09:19:00",
          "2011-04-01T11:10:00",
          "2011-04-01T11:10:00",
          "2011-04-01T11:10:00",
          "2011-04-04T11:18:00",
          "2011-04-04T11:18:00",
          "2011-04-04T11:18:00",
          "2011-04-04T11:18:00",
          "2011-04-04T11:18:00",
          "2011-04-04T11:18:00",
          "2011-04-04T11:18:00",
          "2011-04-04T11:18:00",
          "2011-04-04T11:18:00",
          "2011-04-04T11:18:00",
          "2011-04-04T11:18:00",
          "2011-04-04T11:18:00",
          "2011-04-04T11:18:00",
          "2011-04-04T11:18:00",
          "2011-04-04T11:18:00",
          "2011-04-04T11:18:00",
          "2011-04-04T11:18:00",
          "2011-04-04T11:18:00",
          "2011-04-04T11:18:00",
          "2011-04-04T11:18:00",
          "2011-04-04T11:18:00",
          "2011-04-04T11:18:00",
          "2011-04-04T11:18:00",
          "2011-04-04T11:18:00",
          "2011-04-04T11:18:00",
          "2011-04-04T11:18:00",
          "2011-04-07T13:07:00",
          "2011-04-07T13:07:00",
          "2011-04-07T13:07:00",
          "2011-04-07T13:07:00",
          "2011-04-07T13:07:00",
          "2011-04-07T13:07:00",
          "2011-04-07T13:07:00",
          "2011-04-07T13:07:00",
          "2011-04-07T13:07:00",
          "2011-04-07T13:07:00",
          "2011-04-07T13:07:00",
          "2011-04-07T13:07:00",
          "2011-04-07T13:07:00",
          "2011-04-07T13:07:00",
          "2011-04-07T13:07:00",
          "2011-04-07T13:07:00",
          "2011-04-07T13:07:00",
          "2011-04-07T13:07:00",
          "2011-04-07T13:07:00",
          "2011-04-07T13:07:00",
          "2011-04-07T13:07:00",
          "2011-04-07T13:07:00",
          "2011-04-07T13:07:00",
          "2011-04-14T14:15:00",
          "2011-04-14T14:15:00",
          "2011-04-14T14:15:00",
          "2011-04-14T14:15:00",
          "2011-04-14T14:15:00",
          "2011-04-14T14:15:00",
          "2011-04-14T14:15:00",
          "2011-04-14T14:15:00",
          "2011-04-14T14:15:00",
          "2011-04-14T14:15:00",
          "2011-04-14T14:15:00",
          "2011-04-14T14:15:00",
          "2011-04-14T14:15:00",
          "2011-04-14T14:15:00",
          "2011-04-14T14:15:00",
          "2011-04-14T14:15:00",
          "2011-04-14T14:15:00",
          "2011-04-14T14:15:00",
          "2011-04-14T14:15:00",
          "2011-04-14T14:15:00",
          "2011-04-14T14:15:00",
          "2011-04-14T14:15:00",
          "2011-04-14T14:15:00",
          "2011-04-14T14:15:00",
          "2011-04-14T14:15:00",
          "2011-04-14T14:15:00",
          "2011-04-14T14:15:00",
          "2011-04-14T14:15:00",
          "2011-04-14T14:15:00",
          "2011-04-14T14:15:00",
          "2011-04-17T11:21:00",
          "2011-04-17T11:21:00",
          "2011-04-17T11:21:00",
          "2011-04-17T11:21:00",
          "2011-04-17T11:21:00",
          "2011-04-17T11:21:00",
          "2011-04-17T11:21:00",
          "2011-04-17T11:21:00",
          "2011-04-17T11:21:00",
          "2011-04-17T11:21:00",
          "2011-04-17T11:21:00",
          "2011-04-17T11:21:00",
          "2011-04-17T11:21:00",
          "2011-04-17T11:21:00",
          "2011-04-17T11:21:00",
          "2011-04-17T11:21:00",
          "2011-04-17T11:21:00",
          "2011-04-17T11:21:00",
          "2011-04-17T11:21:00",
          "2011-04-17T11:21:00",
          "2011-04-17T11:21:00",
          "2011-04-17T11:21:00",
          "2011-04-17T11:21:00",
          "2011-04-17T11:21:00",
          "2011-04-17T11:21:00",
          "2011-04-17T11:21:00",
          "2011-04-17T15:33:00",
          "2011-04-17T15:33:00",
          "2011-04-17T15:33:00",
          "2011-04-17T15:33:00",
          "2011-04-20T09:20:00",
          "2011-04-20T09:20:00",
          "2011-04-20T09:20:00",
          "2011-04-20T09:20:00",
          "2011-04-20T09:20:00",
          "2011-04-20T09:20:00",
          "2011-04-20T09:20:00",
          "2011-04-20T09:20:00",
          "2011-04-20T09:20:00",
          "2011-04-20T09:20:00",
          "2011-04-20T09:20:00",
          "2011-04-20T09:20:00",
          "2011-04-20T09:20:00",
          "2011-04-20T09:20:00",
          "2011-04-20T09:20:00",
          "2011-04-20T09:20:00",
          "2011-04-20T09:20:00",
          "2011-04-21T08:54:00",
          "2011-04-21T08:54:00",
          "2011-04-21T08:54:00",
          "2011-04-21T08:54:00",
          "2011-04-21T08:54:00",
          "2011-04-21T08:54:00",
          "2011-04-21T08:54:00",
          "2011-04-21T08:54:00",
          "2011-04-21T08:54:00",
          "2011-04-21T08:54:00",
          "2011-04-21T08:54:00",
          "2011-04-21T08:54:00",
          "2011-04-21T08:54:00",
          "2011-04-21T08:54:00",
          "2011-04-21T08:54:00",
          "2011-04-21T08:54:00",
          "2011-04-21T08:54:00",
          "2011-04-21T08:54:00",
          "2011-04-21T08:54:00",
          "2011-04-21T08:54:00",
          "2011-04-21T08:54:00",
          "2011-04-21T08:54:00",
          "2011-04-21T08:54:00",
          "2011-04-21T10:16:00",
          "2011-04-21T10:16:00",
          "2011-04-21T10:16:00",
          "2011-04-21T10:16:00",
          "2011-04-21T10:16:00",
          "2011-04-21T10:16:00",
          "2011-04-21T10:16:00",
          "2011-04-21T10:16:00",
          "2011-04-21T10:16:00",
          "2011-04-21T10:16:00",
          "2011-04-21T10:16:00",
          "2011-04-21T10:16:00",
          "2011-04-21T10:16:00",
          "2011-04-21T10:16:00",
          "2011-04-21T10:16:00",
          "2011-04-21T10:16:00",
          "2011-04-21T10:16:00",
          "2011-04-21T10:16:00",
          "2011-04-21T10:16:00",
          "2011-04-21T10:16:00",
          "2011-04-21T10:16:00",
          "2011-04-26T15:52:00",
          "2011-04-26T15:52:00",
          "2011-04-26T15:52:00",
          "2011-04-26T15:52:00",
          "2011-04-26T15:52:00",
          "2011-04-26T15:52:00",
          "2011-04-26T15:52:00",
          "2011-04-26T15:52:00",
          "2011-04-26T15:52:00",
          "2011-04-26T15:52:00",
          "2011-04-26T15:52:00",
          "2011-04-26T15:52:00",
          "2011-04-26T15:52:00",
          "2011-04-26T15:52:00",
          "2011-04-26T15:52:00",
          "2011-04-26T15:52:00",
          "2011-04-26T15:52:00",
          "2011-04-26T15:52:00",
          "2011-04-26T15:52:00",
          "2011-04-26T15:52:00",
          "2011-04-26T15:52:00",
          "2011-04-26T15:52:00",
          "2011-04-26T15:52:00",
          "2011-04-26T15:52:00",
          "2011-04-26T15:52:00",
          "2011-04-26T15:52:00",
          "2011-04-26T15:52:00",
          "2011-04-26T15:52:00",
          "2011-04-28T11:45:00",
          "2011-04-28T11:45:00",
          "2011-04-28T11:45:00",
          "2011-04-28T11:45:00",
          "2011-04-28T11:45:00",
          "2011-04-28T11:45:00",
          "2011-04-28T11:45:00",
          "2011-05-03T08:40:00",
          "2011-05-03T08:40:00",
          "2011-05-03T08:40:00",
          "2011-05-03T08:40:00",
          "2011-05-03T08:40:00",
          "2011-05-03T08:40:00",
          "2011-05-03T08:40:00",
          "2011-05-03T08:40:00",
          "2011-05-03T08:40:00",
          "2011-05-03T08:40:00",
          "2011-05-03T08:40:00",
          "2011-05-03T08:40:00",
          "2011-05-03T08:40:00",
          "2011-05-03T08:40:00",
          "2011-05-03T08:40:00",
          "2011-05-03T08:40:00",
          "2011-05-03T08:40:00",
          "2011-05-03T08:40:00",
          "2011-05-03T08:40:00",
          "2011-05-03T08:40:00",
          "2011-05-03T09:33:00",
          "2011-05-03T09:33:00",
          "2011-05-03T09:33:00",
          "2011-05-03T09:33:00",
          "2011-05-03T09:33:00",
          "2011-05-03T09:33:00",
          "2011-05-03T09:33:00",
          "2011-05-03T09:33:00",
          "2011-05-03T09:33:00",
          "2011-05-03T09:33:00",
          "2011-05-03T09:33:00",
          "2011-05-03T09:33:00",
          "2011-05-03T09:33:00",
          "2011-05-03T09:33:00",
          "2011-05-03T09:33:00",
          "2011-05-03T09:33:00",
          "2011-05-03T09:33:00",
          "2011-05-03T09:33:00",
          "2011-05-03T09:33:00",
          "2011-05-03T09:33:00",
          "2011-05-03T09:34:00",
          "2011-05-03T12:02:00",
          "2011-05-03T12:02:00",
          "2011-05-03T12:02:00",
          "2011-05-03T12:03:00",
          "2011-05-03T12:03:00",
          "2011-05-03T12:03:00",
          "2011-05-03T12:03:00",
          "2011-05-05T09:29:00",
          "2011-05-05T09:29:00",
          "2011-05-05T09:29:00",
          "2011-05-05T09:29:00",
          "2011-05-05T09:29:00",
          "2011-05-05T09:29:00",
          "2011-05-05T09:29:00",
          "2011-05-05T09:29:00",
          "2011-05-05T09:29:00",
          "2011-05-05T09:29:00",
          "2011-05-08T16:10:00",
          "2011-05-08T16:10:00",
          "2011-05-08T16:10:00",
          "2011-05-08T16:10:00",
          "2011-05-08T16:10:00",
          "2011-05-08T16:10:00",
          "2011-05-08T16:10:00",
          "2011-05-08T16:10:00",
          "2011-05-08T16:10:00",
          "2011-05-08T16:10:00",
          "2011-05-08T16:10:00",
          "2011-05-08T16:10:00",
          "2011-05-08T16:10:00",
          "2011-05-08T16:10:00",
          "2011-05-08T16:10:00",
          "2011-05-08T16:10:00",
          "2011-05-08T16:10:00",
          "2011-05-08T16:10:00",
          "2011-05-08T16:10:00",
          "2011-05-08T16:10:00",
          "2011-05-08T16:10:00",
          "2011-05-08T16:10:00",
          "2011-05-08T16:10:00",
          "2011-05-08T16:10:00",
          "2011-05-08T16:10:00",
          "2011-05-08T16:10:00",
          "2011-05-08T16:10:00",
          "2011-05-08T16:10:00",
          "2011-05-08T16:10:00",
          "2011-05-08T16:10:00",
          "2011-05-08T16:10:00",
          "2011-05-08T16:10:00",
          "2011-05-08T16:10:00",
          "2011-05-08T16:10:00",
          "2011-05-08T16:10:00",
          "2011-05-08T16:10:00",
          "2011-05-08T16:10:00",
          "2011-05-08T16:10:00",
          "2011-05-08T16:10:00",
          "2011-05-08T16:10:00",
          "2011-05-08T16:10:00",
          "2011-05-08T16:10:00",
          "2011-05-08T16:10:00",
          "2011-05-08T16:10:00",
          "2011-05-08T16:10:00",
          "2011-05-08T16:10:00",
          "2011-05-08T16:10:00",
          "2011-05-08T16:10:00",
          "2011-05-08T16:10:00",
          "2011-05-08T16:10:00",
          "2011-05-08T16:10:00",
          "2011-05-08T16:10:00",
          "2011-05-08T16:10:00",
          "2011-05-08T16:10:00",
          "2011-05-08T16:10:00",
          "2011-05-08T16:10:00",
          "2011-05-08T16:10:00",
          "2011-05-08T16:10:00",
          "2011-05-08T16:10:00",
          "2011-05-08T16:10:00",
          "2011-05-08T16:10:00",
          "2011-05-09T09:47:00",
          "2011-05-09T09:47:00",
          "2011-05-09T09:47:00",
          "2011-05-09T09:47:00",
          "2011-05-09T09:47:00",
          "2011-05-09T09:47:00",
          "2011-05-09T09:47:00",
          "2011-05-09T09:47:00",
          "2011-05-09T09:47:00",
          "2011-05-09T09:47:00",
          "2011-05-09T09:47:00",
          "2011-05-09T09:47:00",
          "2011-05-09T09:47:00",
          "2011-05-09T09:47:00",
          "2011-05-09T09:47:00",
          "2011-05-09T09:47:00",
          "2011-05-09T15:12:00",
          "2011-05-09T15:12:00",
          "2011-05-09T15:12:00",
          "2011-05-09T15:12:00",
          "2011-05-09T15:12:00",
          "2011-05-09T15:12:00",
          "2011-05-09T15:12:00",
          "2011-05-09T15:12:00",
          "2011-05-09T15:12:00",
          "2011-05-10T12:55:00",
          "2011-05-10T12:55:00",
          "2011-05-10T12:55:00",
          "2011-05-10T12:55:00",
          "2011-05-10T12:55:00",
          "2011-05-10T12:55:00",
          "2011-05-10T12:55:00",
          "2011-05-10T12:55:00",
          "2011-05-10T12:55:00",
          "2011-05-10T12:55:00",
          "2011-05-10T12:55:00",
          "2011-05-10T12:55:00",
          "2011-05-10T12:55:00",
          "2011-05-10T12:55:00",
          "2011-05-10T12:55:00",
          "2011-05-10T12:55:00",
          "2011-05-10T12:55:00",
          "2011-05-10T12:55:00",
          "2011-05-10T12:55:00",
          "2011-05-10T12:55:00",
          "2011-05-10T12:55:00",
          "2011-05-10T12:55:00",
          "2011-05-10T12:55:00",
          "2011-05-10T12:55:00",
          "2011-05-10T12:55:00",
          "2011-05-10T12:55:00",
          "2011-05-10T12:55:00",
          "2011-05-10T12:55:00",
          "2011-05-10T12:55:00",
          "2011-05-11T13:20:00",
          "2011-05-11T13:20:00",
          "2011-05-11T13:20:00",
          "2011-05-11T13:20:00",
          "2011-05-11T13:20:00",
          "2011-05-11T13:20:00",
          "2011-05-11T13:20:00",
          "2011-05-11T13:20:00",
          "2011-05-11T13:20:00",
          "2011-05-11T13:20:00",
          "2011-05-11T13:20:00",
          "2011-05-11T13:20:00",
          "2011-05-11T13:20:00",
          "2011-05-11T13:20:00",
          "2011-05-11T13:20:00",
          "2011-05-11T13:20:00",
          "2011-05-11T13:20:00",
          "2011-05-11T13:20:00",
          "2011-05-11T13:20:00",
          "2011-05-11T13:20:00",
          "2011-05-11T13:20:00",
          "2011-05-11T13:20:00",
          "2011-05-11T13:20:00",
          "2011-05-11T13:20:00",
          "2011-05-11T13:20:00",
          "2011-05-11T13:20:00",
          "2011-05-11T13:20:00",
          "2011-05-11T13:20:00",
          "2011-05-11T13:20:00",
          "2011-05-11T13:20:00",
          "2011-05-11T13:20:00",
          "2011-05-11T13:20:00",
          "2011-05-11T13:20:00",
          "2011-05-11T13:20:00",
          "2011-05-11T13:20:00",
          "2011-05-11T13:20:00",
          "2011-05-11T13:20:00",
          "2011-05-11T13:20:00",
          "2011-05-11T13:20:00",
          "2011-05-11T13:20:00",
          "2011-05-11T13:20:00",
          "2011-05-11T13:20:00",
          "2011-05-11T13:20:00",
          "2011-05-11T13:20:00",
          "2011-05-11T13:20:00",
          "2011-05-11T13:20:00",
          "2011-05-11T13:20:00",
          "2011-05-11T13:20:00",
          "2011-05-11T13:20:00",
          "2011-05-11T13:20:00",
          "2011-05-11T13:20:00",
          "2011-05-11T13:20:00",
          "2011-05-11T13:20:00",
          "2011-05-11T13:20:00",
          "2011-05-11T13:20:00",
          "2011-05-11T13:20:00",
          "2011-05-11T13:20:00",
          "2011-05-11T13:20:00",
          "2011-05-11T13:20:00",
          "2011-05-11T13:20:00",
          "2011-05-11T13:20:00",
          "2011-05-11T13:20:00",
          "2011-05-11T13:20:00",
          "2011-05-11T13:20:00",
          "2011-05-11T13:20:00",
          "2011-05-11T13:20:00",
          "2011-05-11T13:20:00",
          "2011-05-11T13:20:00",
          "2011-05-11T13:20:00",
          "2011-05-11T13:20:00",
          "2011-05-11T13:20:00",
          "2011-05-11T13:20:00",
          "2011-05-11T13:20:00",
          "2011-05-11T13:20:00",
          "2011-05-11T13:20:00",
          "2011-05-11T15:07:00",
          "2011-05-11T15:07:00",
          "2011-05-11T15:07:00",
          "2011-05-11T15:07:00",
          "2011-05-11T15:07:00",
          "2011-05-11T15:07:00",
          "2011-05-11T15:07:00",
          "2011-05-11T15:07:00",
          "2011-05-11T15:07:00",
          "2011-05-11T15:07:00",
          "2011-05-11T15:07:00",
          "2011-05-11T15:07:00",
          "2011-05-11T15:07:00",
          "2011-05-11T15:07:00",
          "2011-05-11T15:07:00",
          "2011-05-11T15:07:00",
          "2011-05-11T15:07:00",
          "2011-05-11T15:07:00",
          "2011-05-11T15:07:00",
          "2011-05-11T15:07:00",
          "2011-05-11T15:07:00",
          "2011-05-11T15:07:00",
          "2011-05-11T15:07:00",
          "2011-05-12T11:50:00",
          "2011-05-12T11:50:00",
          "2011-05-12T11:50:00",
          "2011-05-12T11:50:00",
          "2011-05-12T11:50:00",
          "2011-05-12T11:50:00",
          "2011-05-12T11:50:00",
          "2011-05-12T11:50:00",
          "2011-05-12T11:50:00",
          "2011-05-12T11:50:00",
          "2011-05-12T11:50:00",
          "2011-05-13T09:24:00",
          "2011-05-13T09:24:00",
          "2011-05-13T09:24:00",
          "2011-05-13T09:24:00",
          "2011-05-13T09:24:00",
          "2011-05-13T09:24:00",
          "2011-05-13T09:24:00",
          "2011-05-13T09:24:00",
          "2011-05-13T09:24:00",
          "2011-05-13T09:24:00",
          "2011-05-13T09:24:00",
          "2011-05-13T09:24:00",
          "2011-05-13T09:24:00",
          "2011-05-13T09:24:00",
          "2011-05-13T09:24:00",
          "2011-05-13T09:24:00",
          "2011-05-13T09:24:00",
          "2011-05-13T09:24:00",
          "2011-05-13T09:24:00",
          "2011-05-13T09:24:00",
          "2011-05-13T09:24:00",
          "2011-05-13T09:24:00",
          "2011-05-13T09:24:00",
          "2011-05-13T13:15:00",
          "2011-05-13T13:15:00",
          "2011-05-13T13:15:00",
          "2011-05-13T13:15:00",
          "2011-05-13T13:15:00",
          "2011-05-13T13:15:00",
          "2011-05-13T15:48:00",
          "2011-05-13T15:48:00",
          "2011-05-13T15:48:00",
          "2011-05-13T15:48:00",
          "2011-05-13T15:48:00",
          "2011-05-13T15:48:00",
          "2011-05-13T15:48:00",
          "2011-05-13T15:48:00",
          "2011-05-13T15:48:00",
          "2011-05-13T15:48:00",
          "2011-05-13T15:48:00",
          "2011-05-13T15:48:00",
          "2011-05-13T15:48:00",
          "2011-05-13T15:48:00",
          "2011-05-13T15:48:00",
          "2011-05-13T15:48:00",
          "2011-05-13T15:48:00",
          "2011-05-13T15:48:00",
          "2011-05-13T15:48:00",
          "2011-05-13T15:48:00",
          "2011-05-13T15:48:00",
          "2011-05-13T15:48:00",
          "2011-05-15T13:45:00",
          "2011-05-15T13:45:00",
          "2011-05-15T13:45:00",
          "2011-05-15T13:45:00",
          "2011-05-15T13:45:00",
          "2011-05-15T13:45:00",
          "2011-05-15T13:45:00",
          "2011-05-15T13:45:00",
          "2011-05-15T13:45:00",
          "2011-05-16T09:10:00",
          "2011-05-16T09:10:00",
          "2011-05-16T09:10:00",
          "2011-05-16T09:10:00",
          "2011-05-16T09:10:00",
          "2011-05-16T09:10:00",
          "2011-05-16T09:10:00",
          "2011-05-16T09:10:00",
          "2011-05-16T09:10:00",
          "2011-05-16T09:10:00",
          "2011-05-16T09:10:00",
          "2011-05-16T09:10:00",
          "2011-05-16T09:10:00",
          "2011-05-16T09:10:00",
          "2011-05-16T09:10:00",
          "2011-05-16T09:10:00",
          "2011-05-16T12:04:00",
          "2011-05-16T12:04:00",
          "2011-05-16T12:04:00",
          "2011-05-16T12:04:00",
          "2011-05-16T12:04:00",
          "2011-05-16T12:04:00",
          "2011-05-17T09:28:00",
          "2011-05-17T09:28:00",
          "2011-05-17T09:28:00",
          "2011-05-17T09:28:00",
          "2011-05-17T09:28:00",
          "2011-05-17T09:28:00",
          "2011-05-17T09:28:00",
          "2011-05-17T09:28:00",
          "2011-05-17T09:28:00",
          "2011-05-17T09:28:00",
          "2011-05-17T09:28:00",
          "2011-05-17T09:28:00",
          "2011-05-17T09:28:00",
          "2011-05-17T09:28:00",
          "2011-05-17T09:28:00",
          "2011-05-17T09:28:00",
          "2011-05-17T09:28:00",
          "2011-05-17T09:28:00",
          "2011-05-17T09:28:00",
          "2011-05-17T09:28:00",
          "2011-05-17T09:28:00",
          "2011-05-17T09:28:00",
          "2011-05-17T09:28:00",
          "2011-05-17T09:28:00",
          "2011-05-17T09:28:00",
          "2011-05-17T09:28:00",
          "2011-05-17T09:28:00",
          "2011-05-17T09:28:00",
          "2011-05-17T09:28:00",
          "2011-05-17T09:28:00",
          "2011-05-17T09:28:00",
          "2011-05-17T09:28:00",
          "2011-05-17T09:28:00",
          "2011-05-17T09:28:00",
          "2011-05-17T09:28:00",
          "2011-05-17T09:28:00",
          "2011-05-17T09:28:00",
          "2011-05-17T09:28:00",
          "2011-05-17T09:28:00",
          "2011-05-17T09:28:00",
          "2011-05-17T09:28:00",
          "2011-05-17T09:28:00",
          "2011-05-17T09:28:00",
          "2011-05-17T09:28:00",
          "2011-05-18T09:09:00",
          "2011-05-18T09:09:00",
          "2011-05-18T09:09:00",
          "2011-05-18T09:09:00",
          "2011-05-18T09:09:00",
          "2011-05-18T09:09:00",
          "2011-05-18T09:09:00",
          "2011-05-18T09:09:00",
          "2011-05-18T09:09:00",
          "2011-05-18T09:09:00",
          "2011-05-18T09:09:00",
          "2011-05-18T09:09:00",
          "2011-05-18T09:09:00",
          "2011-05-18T09:09:00",
          "2011-05-18T09:09:00",
          "2011-05-18T10:34:00",
          "2011-05-18T10:34:00",
          "2011-05-18T10:34:00",
          "2011-05-18T10:34:00",
          "2011-05-18T10:34:00",
          "2011-05-18T10:34:00",
          "2011-05-18T10:34:00",
          "2011-05-18T10:34:00",
          "2011-05-18T10:34:00",
          "2011-05-18T12:18:00",
          "2011-05-19T12:10:00",
          "2011-05-19T12:10:00",
          "2011-05-19T12:10:00",
          "2011-05-19T12:10:00",
          "2011-05-19T12:10:00",
          "2011-05-19T12:10:00",
          "2011-05-19T12:10:00",
          "2011-05-19T12:10:00",
          "2011-05-19T12:10:00",
          "2011-05-19T12:10:00",
          "2011-05-19T12:10:00",
          "2011-05-19T12:10:00",
          "2011-05-19T12:10:00",
          "2011-05-19T12:10:00",
          "2011-05-19T12:10:00",
          "2011-05-19T12:10:00",
          "2011-05-19T12:10:00",
          "2011-05-19T12:10:00",
          "2011-05-19T12:10:00",
          "2011-05-19T12:10:00",
          "2011-05-19T12:10:00",
          "2011-05-19T12:10:00",
          "2011-05-19T12:10:00",
          "2011-05-19T12:10:00",
          "2011-05-19T12:10:00",
          "2011-05-19T12:10:00",
          "2011-05-19T12:10:00",
          "2011-05-19T12:10:00",
          "2011-05-19T12:10:00",
          "2011-05-19T12:10:00",
          "2011-05-19T12:10:00",
          "2011-05-19T12:10:00",
          "2011-05-19T12:10:00",
          "2011-05-19T12:29:00",
          "2011-05-19T12:29:00",
          "2011-05-19T12:29:00",
          "2011-05-19T12:29:00",
          "2011-05-19T12:29:00",
          "2011-05-19T12:29:00",
          "2011-05-19T12:29:00",
          "2011-05-19T12:29:00",
          "2011-05-19T12:29:00",
          "2011-05-19T12:29:00",
          "2011-05-19T12:29:00",
          "2011-05-19T12:29:00",
          "2011-05-19T12:29:00",
          "2011-05-19T12:29:00",
          "2011-05-19T12:29:00",
          "2011-05-19T12:29:00",
          "2011-05-19T12:29:00",
          "2011-05-19T12:29:00",
          "2011-05-20T11:34:00",
          "2011-05-20T11:34:00",
          "2011-05-20T11:34:00",
          "2011-05-20T11:34:00",
          "2011-05-20T11:34:00",
          "2011-05-20T11:34:00",
          "2011-05-20T11:34:00",
          "2011-05-20T11:34:00",
          "2011-05-20T11:34:00",
          "2011-05-20T11:34:00",
          "2011-05-20T11:34:00",
          "2011-05-20T11:34:00",
          "2011-05-20T11:34:00",
          "2011-05-22T13:01:00",
          "2011-05-22T13:01:00",
          "2011-05-22T13:01:00",
          "2011-05-22T13:01:00",
          "2011-05-22T13:01:00",
          "2011-05-22T13:01:00",
          "2011-05-22T13:01:00",
          "2011-05-22T13:01:00",
          "2011-05-22T13:01:00",
          "2011-05-22T13:01:00",
          "2011-05-22T13:01:00",
          "2011-05-22T13:01:00",
          "2011-05-22T13:01:00",
          "2011-05-22T13:01:00",
          "2011-05-22T13:01:00",
          "2011-05-22T13:01:00",
          "2011-05-22T13:01:00",
          "2011-05-22T13:01:00",
          "2011-05-22T13:01:00",
          "2011-05-22T13:01:00",
          "2011-05-22T13:01:00",
          "2011-05-22T13:01:00",
          "2011-05-22T13:01:00",
          "2011-05-22T13:01:00",
          "2011-05-22T13:01:00",
          "2011-05-22T13:01:00",
          "2011-05-22T13:01:00",
          "2011-05-22T13:01:00",
          "2011-05-22T13:01:00",
          "2011-05-22T13:01:00",
          "2011-05-22T13:01:00",
          "2011-05-22T13:01:00",
          "2011-05-22T13:01:00",
          "2011-05-22T13:01:00",
          "2011-05-22T14:33:00",
          "2011-05-22T14:33:00",
          "2011-05-22T14:33:00",
          "2011-05-22T14:33:00",
          "2011-05-22T14:33:00",
          "2011-05-22T14:33:00",
          "2011-05-22T14:33:00",
          "2011-05-22T14:33:00",
          "2011-05-22T14:33:00",
          "2011-05-23T09:48:00",
          "2011-05-23T09:48:00",
          "2011-05-23T09:48:00",
          "2011-05-23T09:48:00",
          "2011-05-23T09:48:00",
          "2011-05-23T09:48:00",
          "2011-05-23T09:48:00",
          "2011-05-23T09:48:00",
          "2011-05-23T09:48:00",
          "2011-05-23T09:48:00",
          "2011-05-23T09:48:00",
          "2011-05-23T09:48:00",
          "2011-05-23T09:48:00",
          "2011-05-23T09:48:00",
          "2011-05-23T09:48:00",
          "2011-05-23T09:48:00",
          "2011-05-23T09:48:00",
          "2011-05-23T09:48:00",
          "2011-05-23T09:48:00",
          "2011-05-24T09:25:00",
          "2011-05-24T09:25:00",
          "2011-05-24T09:25:00",
          "2011-05-24T09:25:00",
          "2011-05-24T09:25:00",
          "2011-05-24T09:25:00",
          "2011-05-24T09:25:00",
          "2011-05-24T09:25:00",
          "2011-05-24T09:25:00",
          "2011-05-24T09:25:00",
          "2011-05-24T09:25:00",
          "2011-05-24T09:25:00",
          "2011-05-25T10:08:00",
          "2011-05-25T10:08:00",
          "2011-05-25T10:08:00",
          "2011-05-25T10:08:00",
          "2011-05-25T10:08:00",
          "2011-05-25T10:08:00",
          "2011-05-25T10:08:00",
          "2011-05-25T10:08:00",
          "2011-05-25T10:08:00",
          "2011-05-25T10:08:00",
          "2011-05-25T12:44:00",
          "2011-05-25T12:44:00",
          "2011-05-25T12:44:00",
          "2011-05-25T12:44:00",
          "2011-05-25T12:44:00",
          "2011-05-25T12:44:00",
          "2011-05-25T12:44:00",
          "2011-05-25T12:44:00",
          "2011-05-25T12:44:00",
          "2011-05-25T12:44:00",
          "2011-05-25T12:44:00",
          "2011-05-25T12:44:00",
          "2011-05-25T12:44:00",
          "2011-05-25T12:44:00",
          "2011-05-25T12:44:00",
          "2011-05-25T12:44:00",
          "2011-05-25T12:44:00",
          "2011-05-25T12:44:00",
          "2011-05-25T12:44:00",
          "2011-05-25T12:44:00",
          "2011-05-25T12:54:00",
          "2011-05-25T12:54:00",
          "2011-05-25T12:54:00",
          "2011-05-25T12:54:00",
          "2011-05-25T12:54:00",
          "2011-05-25T12:54:00",
          "2011-05-25T12:54:00",
          "2011-05-25T12:54:00",
          "2011-05-25T12:54:00",
          "2011-05-25T12:54:00",
          "2011-05-25T12:54:00",
          "2011-05-25T12:54:00",
          "2011-05-25T12:54:00",
          "2011-05-25T12:54:00",
          "2011-05-25T12:54:00",
          "2011-05-25T12:54:00",
          "2011-05-25T12:54:00",
          "2011-05-25T12:54:00",
          "2011-05-25T12:54:00",
          "2011-05-25T12:54:00",
          "2011-05-25T12:54:00",
          "2011-05-25T12:54:00",
          "2011-05-25T12:54:00",
          "2011-05-25T12:54:00",
          "2011-05-25T12:54:00",
          "2011-05-25T12:54:00",
          "2011-05-25T12:54:00",
          "2011-05-25T12:54:00",
          "2011-05-25T12:54:00",
          "2011-05-26T14:53:00",
          "2011-05-26T14:53:00",
          "2011-05-26T14:53:00",
          "2011-05-26T14:53:00",
          "2011-05-26T14:53:00",
          "2011-05-26T14:53:00",
          "2011-05-26T14:53:00",
          "2011-05-26T14:53:00",
          "2011-05-26T14:53:00",
          "2011-05-26T14:53:00",
          "2011-05-26T14:53:00",
          "2011-05-26T17:16:00",
          "2011-05-26T17:16:00",
          "2011-05-26T17:16:00",
          "2011-05-26T17:16:00",
          "2011-05-26T17:16:00",
          "2011-05-26T17:16:00",
          "2011-05-26T17:16:00",
          "2011-05-26T17:16:00",
          "2011-05-26T17:16:00",
          "2011-05-26T17:16:00",
          "2011-05-26T17:16:00",
          "2011-05-26T17:16:00",
          "2011-05-27T13:49:00",
          "2011-05-27T13:49:00",
          "2011-05-27T13:49:00",
          "2011-05-27T13:49:00",
          "2011-05-27T13:49:00",
          "2011-05-27T13:49:00",
          "2011-05-27T13:49:00",
          "2011-05-27T13:49:00",
          "2011-05-27T13:49:00",
          "2011-05-27T13:49:00",
          "2011-05-27T13:49:00",
          "2011-05-27T13:49:00",
          "2011-05-27T13:49:00",
          "2011-05-27T13:49:00",
          "2011-05-27T13:49:00",
          "2011-05-27T13:49:00",
          "2011-05-27T13:49:00",
          "2011-05-27T13:49:00",
          "2011-05-27T13:49:00",
          "2011-05-27T13:49:00"
         ],
         "xaxis": "x",
         "y": [
          7.800000000000001,
          19.8,
          17.7,
          17.4,
          11.9,
          19.5,
          38.25,
          15,
          19.8,
          17,
          13.2,
          19.8,
          15.6,
          15.3,
          10.2,
          17.7,
          19.8,
          17.7,
          17.7,
          20.4,
          15.6,
          5.04,
          15,
          15.9,
          5.04,
          15.3,
          4.56,
          10.2,
          10.08,
          12.5,
          15,
          6.8,
          19.5,
          17.7,
          19.8,
          5.04,
          15.3,
          25.5,
          15,
          17.7,
          17.85,
          15,
          10.2,
          53.55,
          15,
          17.7,
          17.7,
          19.8,
          15,
          15,
          38.25,
          17.88,
          19.8,
          10.2,
          20.1,
          15,
          47.7,
          15.3,
          5.04,
          15,
          17.85,
          53.55,
          17.7,
          31.8,
          17.4,
          13.2,
          13.2,
          13.2,
          15.3,
          19.8,
          13.2,
          19.8,
          8.95,
          6.959999999999999,
          8.95,
          8.4,
          17.4,
          17.4,
          10.08,
          19.8,
          19.8,
          17.4,
          12.6,
          13.2,
          10.2,
          15.95,
          8.95,
          13.2,
          13.2,
          10.08,
          16.5,
          19.8,
          14.95,
          14.75,
          20.4,
          7.800000000000001,
          17.7,
          19.8,
          19.9,
          7.800000000000001,
          8.5,
          17.7,
          10.2,
          12.6,
          47.7,
          10.2,
          15.3,
          26.85,
          8.5,
          17.85,
          15,
          19.5,
          29.7,
          29.95,
          29.7,
          17.85,
          51,
          27.36,
          35.7,
          19.8,
          17,
          45,
          53.1,
          10.2,
          45,
          7.800000000000001,
          39.59999999999999,
          10.2,
          60,
          39.59999999999999,
          26.4,
          31.8,
          39.59999999999999,
          26.4,
          45,
          15.6,
          30,
          14.85,
          15.9,
          31.9,
          29.7,
          9.899999999999999,
          25.2,
          30.6,
          19.8,
          32.84999999999999,
          13.5,
          26.85,
          17.7,
          20.1,
          10.08,
          10.2,
          10.2,
          12.6,
          7.800000000000001,
          14.85,
          7.800000000000001,
          15,
          17.85,
          17.7,
          19.8,
          30.6,
          19.8,
          23.25,
          30,
          30,
          17,
          11.7,
          30,
          15.9,
          12.75,
          30,
          23.4,
          15,
          14.85,
          30,
          5.88,
          15,
          15.3,
          39.59999999999999,
          39.59999999999999,
          10.2,
          39.59999999999999,
          30,
          5.88,
          45.90000000000001,
          19.8,
          30,
          6.3,
          14.75,
          8.5,
          14.85,
          39.59999999999999,
          15,
          30,
          23.4,
          39.59999999999999,
          46.8,
          30,
          19.5,
          19.8,
          30.6,
          19.5,
          14.85,
          30,
          15,
          13.2,
          15,
          15,
          46.8,
          46.8,
          50.4,
          835.1999999999999,
          25.2,
          39.59999999999999,
          22.95,
          15,
          12.75,
          10.2,
          17.7,
          19.8,
          19.8,
          12.6,
          5.04,
          15.9,
          16.5,
          16.5,
          16.5,
          8.5,
          16.5,
          8.5,
          8.5,
          16.5,
          20.4,
          8.5,
          15,
          12.75,
          14.85,
          10.95,
          17,
          17.4,
          15,
          30,
          131.4,
          25.5,
          23.4,
          87.6,
          40.8,
          17.7,
          14.85,
          15,
          23.4,
          15,
          13.2,
          19.8,
          29.9,
          19.8,
          13.2,
          19.8,
          17.7,
          17.7,
          8.5,
          10.2,
          17.7,
          17.7,
          16.5,
          17,
          17.7,
          10.08,
          15.9,
          14.85,
          10.08,
          17.7,
          15,
          17.7,
          8.5,
          10.08,
          15.3,
          10.2,
          19.8,
          15,
          19.8,
          46.8,
          25.2,
          15.9,
          15.3,
          15,
          17.7,
          15.3,
          25.2,
          5.04,
          15,
          25.2,
          15,
          15,
          19.8,
          15,
          15.3,
          4.56,
          8.5,
          15.3,
          10.2,
          23.4,
          19.5,
          15,
          12.6,
          13.2,
          30.6,
          8.5,
          61.2,
          17,
          31.8,
          15,
          15,
          15.3,
          17.7,
          6.8,
          31.2,
          34,
          19.5,
          19.8,
          10.5,
          35.40000000000001,
          10.2,
          23.4,
          19.8,
          19.5,
          15.6,
          15.6,
          15,
          23.4,
          23.4,
          4.56,
          16.5,
          15,
          15.6,
          15,
          15.3,
          47.7,
          19.5,
          10.2,
          17.85,
          22.5,
          15.3,
          17.4,
          44.25,
          15.9,
          12.6,
          19.8,
          17.4,
          19.5,
          20.4,
          22.5,
          19.8,
          19.8,
          13.2,
          10.2,
          13.92,
          5.04,
          19.8,
          19.5,
          12.6,
          17.7,
          17.7,
          19.5,
          16.5,
          23.4,
          14.85,
          19.5,
          17,
          10.2,
          15.6,
          15,
          22.5,
          12.6,
          6.3,
          10.2,
          15,
          17.7,
          19.5,
          15,
          17.7,
          15,
          7.800000000000001,
          87.6,
          175.2,
          10.5,
          30.6,
          17.7,
          25.2,
          12.5,
          12.5,
          23.4,
          30.6,
          23.4,
          5.04,
          10.2,
          10.2,
          35.40000000000001,
          14.5,
          10.5,
          10.5,
          61.2,
          35.40000000000001,
          23.4,
          31.8,
          70.80000000000001,
          17.7,
          25.2,
          6.959999999999999,
          6.8,
          30.6,
          17,
          17,
          17.85,
          15,
          20.4,
          17,
          8.5,
          13.5,
          20.4,
          8.5,
          10.2,
          53.1,
          39.59999999999999,
          35.40000000000001,
          15.3,
          53.1,
          39.59999999999999,
          15,
          19.8,
          10.2,
          34,
          5.04,
          15,
          19.8,
          15.3,
          17.7,
          12.6,
          12.6,
          30,
          19.8,
          59.7,
          30,
          23.4,
          30,
          17.85,
          19.8,
          15,
          15.9,
          30,
          30,
          17.7,
          15.9,
          15.9,
          30,
          15,
          15,
          12.6,
          19.8,
          25.2,
          10.2,
          15.3,
          19.5,
          8.5,
          35.40000000000001,
          35.40000000000001,
          19.8,
          17,
          5.04,
          23.4,
          7.800000000000001,
          19.8,
          19.8,
          19.8,
          10.2,
          16.5,
          7.56,
          19.5,
          16.5,
          16.5,
          15,
          39.8,
          7.800000000000001,
          35.40000000000001,
          17.7,
          15.6,
          17.7,
          10.2,
          34.8,
          30,
          17.4,
          5.04,
          5.04,
          40.5,
          17.7,
          34,
          23.4,
          15.3,
          30,
          15.3,
          10.2,
          17.85,
          10.2,
          17.7,
          19.35,
          15.3,
          17.4,
          20.4,
          17.85,
          25.2,
          183.6,
          17.7,
          10.2,
          19.8,
          59.7,
          76.19999999999999,
          9.899999999999999,
          10.2,
          13.2,
          26.4,
          15.3,
          17.7,
          7.800000000000001,
          13.5,
          23.6,
          15,
          15,
          17.7,
          17.7,
          19.8,
          15.3,
          23.6,
          14.85,
          19.9,
          12.6,
          53.1,
          20.4,
          30,
          12.6,
          15,
          15,
          20.4,
          15,
          46.8,
          7.56,
          10.2,
          7.800000000000001,
          40.32,
          15,
          8.4,
          25.2,
          10.2,
          44.75,
          11.9,
          15,
          19.5,
          29.9,
          17,
          8.5,
          44.75,
          8.5,
          8.5,
          15,
          19.9,
          19.9,
          23.8,
          15.9,
          44.75,
          19.9,
          14.85,
          15,
          8.5,
          35.40000000000001,
          67.5,
          67.5,
          70.2,
          79.19999999999999,
          102,
          45,
          60,
          30.6,
          23.4,
          10.08,
          60,
          30,
          78,
          59.40000000000001,
          46.8,
          50.40000000000001,
          30,
          25.2,
          50.88,
          50.88,
          46.8,
          23.4,
          45,
          16.5,
          14.85,
          67.5,
          25.2,
          79.19999999999999,
          83.4,
          25.2,
          139.2,
          475.2,
          5.04,
          35.40000000000001,
          25.2,
          60,
          30.6,
          49.5,
          25.2,
          475.2,
          67.5,
          25.2,
          14.85,
          14.85,
          232,
          19.5,
          15,
          10.2,
          16.5,
          6.8,
          12.5,
          11.9,
          17.7,
          15.3,
          17.7,
          30,
          23.4,
          5.04,
          15,
          31.8,
          75.60000000000001,
          39.59999999999999,
          15.3,
          39.59999999999999,
          16.5,
          19.8,
          39.59999999999999,
          89.25,
          12.75,
          17.85,
          17,
          14.75,
          23.4,
          9.899999999999999,
          19.5,
          52.2,
          15.3,
          19.8,
          17.85,
          16.5,
          30.6,
          38.25,
          53.55,
          15,
          16.5,
          89.25,
          19.8,
          19.8,
          15,
          17.85,
          5.04,
          15.3,
          31.8,
          15.3,
          16.5,
          17.85,
          19.8,
          17.7,
          17,
          15.6,
          10.2,
          5.04,
          10.2,
          5.04,
          13.92,
          25.5,
          30,
          30,
          23.4,
          17.88,
          15.3,
          12.6,
          15.3,
          15,
          16.5,
          15.6,
          10.2,
          30,
          15,
          15.3,
          10.2,
          15.6,
          19.8,
          10.2,
          9,
          19.8,
          10.2,
          10.2,
          17.4,
          16.5,
          19.8,
          30.6,
          9.899999999999999,
          9.899999999999999,
          20.4,
          35.7,
          30,
          20.4,
          19.5,
          19.5,
          17.7,
          16.5,
          15,
          29.7,
          15,
          13.2,
          12.6,
          29.5,
          15,
          10.2,
          23.4,
          17.7,
          22.5,
          30,
          35.7,
          17.7,
          25.5,
          7.800000000000001,
          15,
          13.2,
          9.899999999999999,
          30,
          14.85,
          16.5,
          15,
          29.7,
          15.3,
          10.2,
          17.7,
          10,
          10.2,
          10,
          7.800000000000001,
          13.2,
          10.2,
          17.7,
          20.4,
          15,
          15.6,
          10.08,
          15.6,
          10.08,
          9.899999999999999,
          15,
          13.52,
          7.800000000000001,
          14.75,
          15.9,
          38.25,
          10.2,
          10.5,
          19.5,
          10.2,
          10.2,
          10.2,
          17.85,
          19.8,
          10.2,
          10,
          19.5,
          13.2,
          23.4,
          12.6,
          9.95,
          29.7,
          15,
          23.4,
          10.5,
          30.24,
          6.959999999999999,
          19.8,
          70.2,
          6.959999999999999,
          10.08,
          6.959999999999999,
          39.59999999999999,
          12.8,
          39.59999999999999,
          6.959999999999999,
          35.40000000000001,
          19.8,
          10.2,
          17.7,
          17.7,
          10.2,
          17.4,
          19.8,
          23.4,
          19.8,
          63.6,
          25,
          10.2,
          39.59999999999999,
          17.4,
          17.7,
          10.2,
          5.04,
          15.6,
          50.40000000000001,
          19.8,
          15.3,
          15,
          10.2,
          10.08,
          23.4,
          19.8,
          10.08,
          10.08,
          15.6,
          10.2,
          25.2,
          15,
          5.04,
          5.04,
          15.3,
          19.8,
          20.4,
          20.4,
          13,
          20.4,
          7.800000000000001,
          15,
          19.8,
          10.2,
          39.59999999999999,
          20.4,
          7.800000000000001,
          10.2,
          31.2,
          17.4,
          10.2,
          17,
          39.59999999999999,
          12.6,
          10.2,
          20.4,
          30,
          19.5,
          8.5,
          16.6,
          8.5,
          15,
          21.9,
          8.5,
          15.3,
          16.5,
          16.6,
          8.5,
          16.5,
          14.75,
          12.6,
          14.75,
          19.5,
          10.2,
          15,
          81.6,
          10.2,
          6.959999999999999,
          15.9,
          30,
          29.7,
          5.04,
          10.08,
          19.5,
          6.959999999999999,
          6.959999999999999,
          25.5,
          12.6,
          10,
          6.959999999999999,
          19.5,
          19.8,
          6.959999999999999,
          19.8,
          6.959999999999999,
          15.6,
          10.2,
          40.8,
          7.800000000000001,
          7.800000000000001,
          20,
          15,
          17.7,
          10.2,
          35.7,
          6.959999999999999,
          23.4,
          6.959999999999999,
          10.2,
          15.3,
          12.5,
          15.9,
          10.2,
          17.7,
          19.8,
          10.2,
          19.8,
          20.4,
          20.4,
          15.6,
          31.8,
          15,
          10.2,
          19.5,
          6.3,
          10.2,
          10.2,
          12.6,
          12.6,
          5.04,
          15.9,
          17.4,
          12.6,
          10.2,
          23.4,
          15,
          12.5,
          15.3,
          15,
          12.75,
          5.04,
          12.6,
          15,
          12.6,
          14.85,
          51,
          17.7,
          12.5,
          29.7,
          41.7,
          17.7,
          51,
          15.3,
          68,
          12.6,
          10.2,
          10.2,
          5.04,
          19.8,
          10.5,
          12.75,
          20.4,
          17.7,
          25.5,
          18.75,
          5.04,
          19.8,
          45,
          10.2,
          30,
          10.2,
          10.2,
          34,
          10,
          19.8,
          19.8,
          23.4,
          30.6,
          10.08,
          10.08,
          19.8,
          30.6,
          20.16,
          30,
          15,
          12.6,
          30,
          30,
          20,
          75.60000000000001,
          10.08,
          13.2,
          16.5,
          13.2,
          45,
          45.9,
          13.2,
          25.2,
          16.5,
          16.5,
          44.55,
          15.3,
          19.8,
          15.3,
          10.2,
          35.40000000000001,
          8.5,
          10.08,
          20.4,
          30.6,
          15.3,
          16.5,
          15.3,
          19.8,
          46.8,
          8.5,
          47.7,
          25.2,
          19.8,
          25.2,
          47.7,
          15.6,
          10.08,
          63.6,
          46.8,
          23.4,
          24.9,
          15,
          15.3,
          15.3,
          15.9,
          12.6,
          13.52,
          15.3,
          12.6,
          17.4,
          24.9,
          8.5,
          49.5,
          49.5,
          8.5,
          8.5,
          34,
          17.4,
          17.4,
          15,
          20.4,
          19.9,
          12.6,
          39.59999999999999,
          15.3,
          17.7,
          25.2,
          17,
          10.5,
          39.59999999999999,
          13.2,
          15,
          20.4,
          25.5,
          17.7,
          23.4,
          19.8,
          20.75,
          23.4,
          17.7,
          13.52,
          14.85,
          30,
          13.52,
          6.8,
          15.6,
          26.85,
          15.6,
          15.6,
          15.3,
          19.5,
          13.52,
          29.85,
          27,
          20.75,
          19.8,
          17.7,
          15.6,
          17.7,
          15.6,
          15,
          15.3,
          10,
          16.25,
          20.75,
          6.8,
          6.8,
          17.7,
          20.75,
          19.8,
          10,
          10,
          20,
          20,
          15.6,
          10.2,
          5.04,
          35.40000000000001,
          21.3,
          19.8,
          10.2,
          51,
          7.800000000000001,
          9.899999999999999,
          7.800000000000001,
          19.9,
          10.08,
          9.899999999999999,
          10.2,
          20.4,
          35.40000000000001,
          10.2,
          15,
          13.2,
          5.04,
          35.40000000000001,
          17.4,
          17.4,
          17.7,
          19.8,
          29.7,
          20.4,
          17.7,
          15.9,
          15,
          19.8,
          15.3,
          15,
          19.5,
          15,
          14.85,
          14.85,
          15,
          15,
          14.85,
          58.5,
          15,
          6.8,
          89.69999999999999,
          35.7,
          89.69999999999999,
          53.1,
          39.59999999999999,
          20.4,
          39.59999999999999,
          23.4,
          13.2,
          50.84999999999999,
          20.4,
          23.4,
          15,
          30.6,
          30.6,
          39.59999999999999,
          39.59999999999999,
          15.6,
          19.8,
          17.7,
          30,
          12.6,
          15,
          17.7,
          17.7,
          5.04,
          10.2,
          17.85,
          12.6,
          15,
          25.5,
          39.59999999999999,
          10.2,
          10.2,
          30.6,
          59.40000000000001,
          10.2,
          15,
          15,
          17.7,
          16.5,
          15,
          17.7,
          16.5,
          16.5,
          15.3,
          30.6,
          16.5,
          15,
          18,
          16.5,
          15.9,
          71.4,
          15,
          11.7,
          8.5,
          13,
          10.2,
          15,
          10.2,
          10.2,
          19.8,
          10.2,
          5.04,
          7.800000000000001,
          39.8,
          30.6,
          17.7,
          17.7,
          10.2,
          17.7,
          10.2,
          17.7,
          6.8,
          15.3,
          10.2,
          75.60000000000001,
          16.5,
          17.7,
          39.59999999999999,
          30,
          8.5,
          19.8,
          27.04,
          10.2,
          13.52,
          32.84999999999999,
          23.4,
          12.5,
          10.2,
          17.7,
          12.75,
          15,
          17.34,
          14.85,
          16.95,
          10.5,
          10,
          20.4,
          30.24,
          20.16,
          30.24,
          13.2,
          20.4,
          10.2,
          45.9,
          23.4,
          13.2,
          15.6,
          30,
          10.08,
          15,
          0.85,
          2.5,
          1.65,
          1.95,
          3.3,
          3.9,
          7.5,
          1.95,
          11.8,
          8.850000000000001,
          1.65,
          3.3,
          1.65,
          9.9,
          14.85,
          3.3,
          3.25,
          5.85,
          0.42,
          1.65,
          1.65,
          22.5,
          3.3,
          3.3,
          3.9,
          0.42,
          2.98,
          0.42,
          14.85,
          4.949999999999999,
          2.95,
          9.9,
          1.95,
          5,
          1.95,
          3.3,
          17.7,
          3.3,
          3.9,
          2.95,
          0.42,
          0.42,
          2.95,
          0.84,
          14.85,
          14.85,
          15.3,
          5.04,
          15,
          15.3,
          12.6,
          23.8,
          15,
          15,
          35.40000000000001,
          12.6,
          5.04,
          17.7,
          16.5,
          16.5,
          16.6,
          16.5,
          11.7,
          19.8,
          9.9,
          15,
          15.9,
          15.9,
          15,
          16.6,
          16.5,
          15.3,
          15,
          19.8,
          13.2,
          13.2,
          29.7,
          15.6,
          12.6,
          13.2,
          30,
          15.6,
          17.4,
          106,
          7.800000000000001,
          15,
          15.6,
          5.04,
          17,
          13.52,
          10.2,
          75.60000000000001,
          15.6,
          20.4,
          10.2,
          10.2,
          20.4,
          17.4,
          13.2,
          13,
          25.5,
          24.9,
          75.60000000000001,
          15.6,
          13.2,
          15,
          6.8,
          13.6,
          51,
          10.5,
          10.5,
          13.2,
          13.52,
          24.9,
          13.2,
          10.5,
          10.2,
          105.6,
          17.4,
          105.6,
          30,
          30,
          46.8,
          30,
          12.6,
          17.7,
          19.8,
          15.9,
          19.8,
          19.8,
          17.7,
          23.4,
          17.85,
          16.95,
          16.5,
          17.7,
          23.4,
          23.4,
          19.8,
          19.8,
          16.5,
          19.8,
          23.4,
          33.9,
          19.8,
          7.800000000000001,
          17.7,
          5.04,
          13.92,
          13.2,
          15.3,
          13.2,
          17.85,
          16.6,
          10.2,
          12.5,
          17.9,
          10.2,
          10.2,
          7.800000000000001,
          19.5,
          20.4,
          15.6,
          16.6,
          16.5,
          8.5,
          17.4,
          15,
          25.5,
          14.95,
          21.9,
          17.7,
          19.8,
          13.2,
          16.5,
          19.8,
          17.4,
          15,
          8.5,
          10.2,
          16.5,
          15.3,
          19.5,
          13.2,
          15,
          15,
          6.959999999999999,
          15.3,
          17.4,
          25.5,
          17,
          23.4,
          17,
          15,
          17,
          16.5,
          15,
          15.3,
          10.2,
          15.3,
          15,
          23.4,
          10.2,
          13.2,
          13.2,
          13.2,
          6.959999999999999,
          17.7,
          13.2,
          10.08,
          13.2,
          15.3,
          17.7,
          10.08,
          19.8,
          15.3,
          15,
          19.8,
          15,
          5.04,
          19.8,
          19.8,
          10.2,
          15.3,
          17.34,
          15,
          8.5,
          10.08,
          6.959999999999999,
          6.959999999999999,
          6.959999999999999,
          10.08,
          19.8,
          8.5,
          19.8,
          23.4,
          23.4,
          23.4,
          17.4,
          17,
          19.8,
          17.7,
          23.4,
          91.8,
          79.19999999999999,
          61.2,
          31.2,
          93.60000000000001,
          16.5,
          67.5,
          45,
          175.2,
          67.5,
          45,
          30,
          81.36,
          67.5,
          65.69999999999999,
          50.40000000000001,
          50.40000000000001,
          16.5,
          60,
          35.40000000000001,
          23.4,
          25.2,
          34,
          52.2,
          35.40000000000001,
          232,
          78,
          29.7,
          33,
          30,
          50.40000000000001,
          59.40000000000001,
          89.69999999999999,
          117,
          89.69999999999999,
          117,
          139.2,
          234,
          61.2,
          275,
          69.12,
          140.4,
          20.4,
          69.12,
          59.8,
          75,
          67.5,
          139.2,
          61.2,
          34.8,
          139.2,
          75,
          2.08,
          8.5,
          1.95,
          30,
          69.6,
          358,
          139.2,
          1.95,
          91.8,
          1.95,
          69.12,
          70.2,
          358,
          20.4,
          30,
          20.4,
          201.6,
          61.44,
          46.8,
          10.5,
          19.8,
          17.7,
          15.3,
          14.85,
          17.7,
          10.2,
          22.5,
          10.2,
          75,
          75,
          102,
          15.3,
          16.5,
          19.8,
          14.75,
          17.85,
          14.75,
          31.8,
          15,
          30,
          16.5,
          16.5,
          16.5,
          10.2,
          15.3,
          23.4,
          30,
          9.899999999999999,
          17.7,
          15.3,
          24.96,
          5.04,
          13.2,
          15.3,
          60,
          33,
          15,
          12.6,
          12.6,
          10.5,
          12.6,
          23.4,
          10.5,
          20,
          11.7,
          12.6,
          11.7,
          5.04,
          12.6,
          19.9,
          10.08,
          16.95,
          12.5,
          16.95,
          20.8,
          20,
          5.04,
          5.04,
          12.6,
          16.5,
          45,
          7.800000000000001,
          23.4,
          16.5,
          23.4,
          15,
          15,
          33,
          33,
          16.5,
          10.2,
          15.9,
          17.85,
          9.899999999999999,
          20.8,
          39.59999999999999,
          15,
          20.8,
          17.7,
          19.8,
          23.4,
          19.8,
          23.4,
          10.2,
          12.75,
          16.5,
          16.5,
          30,
          30,
          16.5,
          19.8,
          13.5,
          5.04,
          49.92,
          10.08,
          23.4,
          19.5,
          6.8,
          24.96,
          8.5,
          16.5,
          19.92,
          13.92,
          60,
          15,
          35.40000000000001,
          17.85,
          15.9,
          39.59999999999999,
          6.8,
          17.4,
          5.04,
          10.2,
          31.8,
          5.04,
          17.7,
          29.5,
          16.5,
          17.85,
          20.8,
          17,
          88.5,
          35.40000000000001,
          33,
          17,
          23.4,
          17,
          23.4,
          16.5,
          16.5,
          33,
          33,
          15,
          33,
          15,
          33,
          19.5,
          2.95,
          1.45,
          0.85,
          1.25,
          2.1,
          5.95,
          3.25,
          7.95,
          0.85,
          2.55,
          1.45,
          1.95,
          2.95,
          5.95,
          2.95,
          3.95,
          3.95,
          0.85,
          4.25,
          7.95,
          2.95,
          1.45,
          3.75,
          33,
          19.5,
          16.5,
          23.4,
          15,
          19.8,
          19.8,
          23.4,
          35.7,
          40.8,
          14.75,
          30.6,
          30.6,
          39,
          39,
          15.3,
          39,
          20.4,
          23.4,
          63.6,
          16.5,
          2.1,
          0.65,
          2.55,
          35.40000000000001,
          1.25,
          0.42,
          9.9,
          2.1,
          0.42,
          8.4,
          2.55,
          26.55,
          1.25,
          5.04,
          9.95,
          3.3,
          0.85,
          6.76,
          2.95,
          1.25,
          1.7,
          2.5,
          11.8,
          2.95,
          3.3,
          2.5,
          10.2,
          1.95,
          31.2,
          25.5,
          10.2,
          10.2,
          70.80000000000001,
          13.2,
          30,
          19.92,
          33.2,
          8.5,
          24.96,
          60,
          33.2,
          33.2,
          15.3,
          30.6,
          19.8,
          60,
          33.2,
          40.8,
          17,
          19.8,
          8.5,
          8.5,
          17,
          25,
          20.4,
          15.6,
          22.5,
          37.8,
          15,
          17,
          15,
          102,
          35.40000000000001,
          63,
          20.4,
          30.6,
          25.5,
          49.92,
          16.5,
          17.4,
          16.5,
          49.92,
          20.4,
          30,
          20.4,
          24.9,
          61.2,
          50.88,
          50.40000000000001,
          204,
          20.16,
          10.08,
          102,
          16.5,
          16.5,
          23.4,
          19.8,
          16.5,
          23.4,
          39.5,
          10.5,
          23.4,
          10.5,
          15,
          5.04,
          19.8,
          15.3,
          16.5,
          8.5,
          20.8,
          15,
          16.5,
          19.8,
          20.8,
          5.04,
          15,
          10.2,
          10.2,
          13.2,
          23.4,
          8.5,
          13.2,
          13.2,
          19.8,
          19.8,
          15,
          15,
          25,
          30,
          6.3,
          30,
          15.3,
          30,
          12.75,
          12.5,
          20.4,
          5.04,
          16.5,
          5.04,
          5.04,
          16.6,
          18,
          35.40000000000001,
          27.04,
          18,
          15,
          13.2,
          16.6,
          16.6,
          50,
          23.4,
          13.2,
          15.3,
          17.4,
          5.04,
          5.04,
          33,
          5.04,
          10.08,
          10.2,
          5.04,
          15.3,
          15,
          16.5,
          17.7,
          15.3,
          20.8,
          30.6,
          41.6,
          20.8,
          19.5,
          16.5,
          6.8,
          6.8,
          16.5,
          20.8,
          15.3,
          8.5,
          17,
          21,
          17,
          7.800000000000001,
          34.8,
          40.32,
          20.16,
          15.12,
          30,
          10.2,
          30,
          30,
          23.4,
          10.08,
          10.08,
          17.4,
          10.2,
          16.6,
          10.2,
          15.6,
          15,
          19.8,
          20.4,
          19.8,
          15.6,
          15.3,
          10.2,
          15.3,
          23.4,
          23.4,
          20.4,
          17.7,
          15,
          19.8,
          10.08,
          10.08,
          7.800000000000001,
          10.2,
          10.2,
          10.08,
          15,
          20.8,
          2.34,
          34.8,
          15,
          19.9,
          37.5,
          15.3,
          9.9,
          86.39999999999999,
          86.39999999999999,
          33,
          15,
          29.7,
          6.24,
          25,
          15,
          12.6,
          15,
          8.4,
          5.9,
          29.7,
          8.4,
          19.8,
          69.36,
          6.300000000000001,
          61.2,
          15.3,
          29.7,
          29.9,
          9.9,
          9.9,
          31.25,
          9.3,
          29.7,
          30,
          2.34,
          31.9,
          34.8,
          8.5,
          41.5,
          10.2,
          13.5,
          20.8,
          6.300000000000001,
          15.9,
          8.4,
          5.9,
          9.9,
          24.9,
          1.69,
          26.32,
          6.76,
          35.8,
          86.39999999999999,
          17.7,
          25,
          15,
          17.4,
          15.3,
          15,
          15,
          33,
          33.9,
          30.6,
          2.08,
          5.8,
          20.4,
          25,
          6.300000000000001,
          37.5,
          2.1,
          8.850000000000001,
          5.8,
          15,
          33,
          59.40000000000001,
          5.04,
          69.6,
          29.7,
          61.2,
          59.4,
          89.69999999999999,
          102,
          33,
          23.4,
          20.16,
          54,
          214.8,
          31.2,
          30.6,
          202.8,
          65.69999999999999,
          85,
          33,
          23.4,
          30,
          25.2,
          61.2,
          5.04,
          12.6,
          17,
          16.5,
          99.5,
          15.6,
          15.6,
          14.85,
          15.6,
          5.04,
          15.3,
          20.8,
          15.3,
          17.7,
          19.8,
          15.9,
          7.800000000000001,
          35.7,
          17.4,
          19.5,
          20.8,
          19.8,
          24.96,
          16.5,
          19.8,
          11.7,
          19.8,
          17.7,
          59.40000000000001,
          15,
          13.52,
          20.8,
          15,
          10.2,
          15.9,
          15.9,
          15.9,
          15,
          16.35,
          9.959999999999999,
          17.7,
          15.9,
          16.5,
          35.40000000000001,
          50,
          8.5,
          15,
          6.959999999999999,
          10.5,
          39,
          11.4,
          30.6,
          6.959999999999999,
          8.5,
          13.2,
          25.5,
          15.6,
          10.2,
          15,
          15,
          19.9,
          10.2,
          10.2,
          30,
          15,
          10.2,
          10.2,
          17,
          15.6,
          15,
          5.04,
          12.48,
          64.67999999999999,
          19.5,
          20.4,
          30,
          5.04,
          23.4,
          23.4,
          5.04,
          30,
          24.96,
          89.69999999999999,
          89.69999999999999,
          89.69999999999999,
          17.7,
          19.8,
          39.8,
          19.8,
          10.2,
          19.8,
          12.48,
          10.08,
          20.8,
          5.04,
          10.2,
          2.28,
          19.8,
          16.5,
          19.8,
          19.8,
          15.6,
          40.56,
          19.8,
          29.7,
          5.04,
          15.3,
          13,
          16.5,
          24.96,
          17,
          17.4,
          16.5,
          16.5,
          14.85,
          19.8,
          16.5,
          5.04,
          16.5,
          16.5,
          16.5,
          16.5,
          5.04,
          16.5,
          16.5,
          5.04,
          16.5,
          17.7,
          16.5,
          19.92,
          54.08,
          17.4,
          19.8,
          12.75,
          22.5,
          5.04,
          50,
          35.40000000000001,
          15,
          16.5,
          24.96,
          16.5,
          24.9,
          13.5,
          11.5,
          19.8,
          15,
          37.5,
          14.75,
          19.9,
          19.8,
          30.6,
          43.8,
          59.40000000000001,
          13.2,
          30,
          34,
          30.6,
          30.6,
          60,
          76.32000000000001,
          16.6,
          16.5,
          16.6,
          16.6,
          19.8,
          16.5,
          13.5,
          40,
          10.2,
          15.6,
          9.36,
          20,
          20,
          20,
          9.959999999999999,
          9.899999999999999,
          16.5,
          19.8,
          19.8,
          11.4,
          19.8,
          5.88,
          14.85,
          9.959999999999999,
          30,
          20.28,
          20.4,
          13.5,
          14.85,
          19.9,
          15,
          18.72,
          19.9,
          17,
          16.6,
          20.8,
          14.75,
          17.7,
          16.6,
          12.5,
          15.3,
          20.8,
          20.8,
          15.3,
          12.6,
          33,
          16.6,
          16.6,
          12.6,
          20.8,
          16.5,
          105.6,
          105.6,
          15.9,
          15.9,
          16.95,
          255,
          82.5,
          16.95,
          127.5,
          82.5,
          49.5,
          33,
          49.5,
          59.7,
          16.5,
          8.5,
          12.6,
          16.5,
          31.8,
          6.8,
          13.52,
          13.52,
          14.75,
          51,
          16.5,
          19.8,
          12.6,
          13.52,
          17.4,
          16.5,
          6.8,
          6.8,
          12.6,
          12.6,
          51,
          10,
          10,
          16.5,
          17.7,
          12.6,
          17.7,
          29.7,
          19.8,
          10,
          16.5,
          11.7,
          11.7,
          19.5,
          42.96,
          15.3,
          25.5,
          16.5,
          16.5,
          11.7,
          16.5,
          5.04,
          23.4,
          15,
          15.6,
          6.8,
          15.3,
          8.5,
          6.8,
          30,
          10.2,
          13.52,
          39.59999999999999,
          12.5,
          8.5,
          19.92,
          15,
          10.2,
          102,
          13.2,
          19.92,
          40.8,
          39.59999999999999,
          15.3,
          15.3,
          37.44,
          15.3,
          16.5,
          33,
          39.59999999999999,
          39.59999999999999,
          29.5,
          35.40000000000001,
          34,
          5.04,
          17.4,
          51,
          19.9,
          10.08,
          19.9,
          23.4,
          19.8,
          30.6,
          14.75,
          15.9,
          23.4,
          23.4,
          16.5,
          20.8,
          19.8,
          20.8,
          16.5,
          20.8,
          14.85,
          17.7,
          17,
          42.96,
          19.8,
          10.2,
          16.5,
          20.8,
          20.8,
          17.7,
          15,
          30,
          15.9,
          15,
          33,
          20.8,
          42.96,
          9.959999999999999,
          9.959999999999999,
          15.6,
          17.7,
          16.6,
          19.8,
          15.3,
          11.7,
          15.3,
          11.7,
          16.5,
          15.9,
          16.5,
          15.9,
          30,
          6.3,
          30,
          20.8,
          5.88,
          15,
          5.88,
          19.8,
          16.5,
          16.5,
          29.7,
          16.5,
          16.95,
          12.7,
          16.5,
          16.5,
          14.75,
          16.5,
          23.4,
          10.08,
          10.08,
          51.84,
          15.6,
          17,
          30,
          20.4,
          39.59999999999999,
          30,
          19.8,
          46.8,
          70.80000000000001,
          24.96,
          25.2,
          25.2,
          30.6,
          12.6,
          25.2,
          12.5,
          16.6,
          25.2,
          17.7,
          12.48,
          16.5,
          9.9,
          16.6,
          16.5,
          17.7,
          17.7,
          16.5,
          10.95,
          16.5
         ],
         "yaxis": "y"
        }
       ],
       "layout": {
        "legend": {
         "title": {
          "text": "variable"
         },
         "tracegroupgap": 0
        },
        "margin": {
         "t": 60
        },
        "template": {
         "data": {
          "bar": [
           {
            "error_x": {
             "color": "#2a3f5f"
            },
            "error_y": {
             "color": "#2a3f5f"
            },
            "marker": {
             "line": {
              "color": "#E5ECF6",
              "width": 0.5
             }
            },
            "type": "bar"
           }
          ],
          "barpolar": [
           {
            "marker": {
             "line": {
              "color": "#E5ECF6",
              "width": 0.5
             }
            },
            "type": "barpolar"
           }
          ],
          "carpet": [
           {
            "aaxis": {
             "endlinecolor": "#2a3f5f",
             "gridcolor": "white",
             "linecolor": "white",
             "minorgridcolor": "white",
             "startlinecolor": "#2a3f5f"
            },
            "baxis": {
             "endlinecolor": "#2a3f5f",
             "gridcolor": "white",
             "linecolor": "white",
             "minorgridcolor": "white",
             "startlinecolor": "#2a3f5f"
            },
            "type": "carpet"
           }
          ],
          "choropleth": [
           {
            "colorbar": {
             "outlinewidth": 0,
             "ticks": ""
            },
            "type": "choropleth"
           }
          ],
          "contour": [
           {
            "colorbar": {
             "outlinewidth": 0,
             "ticks": ""
            },
            "colorscale": [
             [
              0,
              "#0d0887"
             ],
             [
              0.1111111111111111,
              "#46039f"
             ],
             [
              0.2222222222222222,
              "#7201a8"
             ],
             [
              0.3333333333333333,
              "#9c179e"
             ],
             [
              0.4444444444444444,
              "#bd3786"
             ],
             [
              0.5555555555555556,
              "#d8576b"
             ],
             [
              0.6666666666666666,
              "#ed7953"
             ],
             [
              0.7777777777777778,
              "#fb9f3a"
             ],
             [
              0.8888888888888888,
              "#fdca26"
             ],
             [
              1,
              "#f0f921"
             ]
            ],
            "type": "contour"
           }
          ],
          "contourcarpet": [
           {
            "colorbar": {
             "outlinewidth": 0,
             "ticks": ""
            },
            "type": "contourcarpet"
           }
          ],
          "heatmap": [
           {
            "colorbar": {
             "outlinewidth": 0,
             "ticks": ""
            },
            "colorscale": [
             [
              0,
              "#0d0887"
             ],
             [
              0.1111111111111111,
              "#46039f"
             ],
             [
              0.2222222222222222,
              "#7201a8"
             ],
             [
              0.3333333333333333,
              "#9c179e"
             ],
             [
              0.4444444444444444,
              "#bd3786"
             ],
             [
              0.5555555555555556,
              "#d8576b"
             ],
             [
              0.6666666666666666,
              "#ed7953"
             ],
             [
              0.7777777777777778,
              "#fb9f3a"
             ],
             [
              0.8888888888888888,
              "#fdca26"
             ],
             [
              1,
              "#f0f921"
             ]
            ],
            "type": "heatmap"
           }
          ],
          "heatmapgl": [
           {
            "colorbar": {
             "outlinewidth": 0,
             "ticks": ""
            },
            "colorscale": [
             [
              0,
              "#0d0887"
             ],
             [
              0.1111111111111111,
              "#46039f"
             ],
             [
              0.2222222222222222,
              "#7201a8"
             ],
             [
              0.3333333333333333,
              "#9c179e"
             ],
             [
              0.4444444444444444,
              "#bd3786"
             ],
             [
              0.5555555555555556,
              "#d8576b"
             ],
             [
              0.6666666666666666,
              "#ed7953"
             ],
             [
              0.7777777777777778,
              "#fb9f3a"
             ],
             [
              0.8888888888888888,
              "#fdca26"
             ],
             [
              1,
              "#f0f921"
             ]
            ],
            "type": "heatmapgl"
           }
          ],
          "histogram": [
           {
            "marker": {
             "colorbar": {
              "outlinewidth": 0,
              "ticks": ""
             }
            },
            "type": "histogram"
           }
          ],
          "histogram2d": [
           {
            "colorbar": {
             "outlinewidth": 0,
             "ticks": ""
            },
            "colorscale": [
             [
              0,
              "#0d0887"
             ],
             [
              0.1111111111111111,
              "#46039f"
             ],
             [
              0.2222222222222222,
              "#7201a8"
             ],
             [
              0.3333333333333333,
              "#9c179e"
             ],
             [
              0.4444444444444444,
              "#bd3786"
             ],
             [
              0.5555555555555556,
              "#d8576b"
             ],
             [
              0.6666666666666666,
              "#ed7953"
             ],
             [
              0.7777777777777778,
              "#fb9f3a"
             ],
             [
              0.8888888888888888,
              "#fdca26"
             ],
             [
              1,
              "#f0f921"
             ]
            ],
            "type": "histogram2d"
           }
          ],
          "histogram2dcontour": [
           {
            "colorbar": {
             "outlinewidth": 0,
             "ticks": ""
            },
            "colorscale": [
             [
              0,
              "#0d0887"
             ],
             [
              0.1111111111111111,
              "#46039f"
             ],
             [
              0.2222222222222222,
              "#7201a8"
             ],
             [
              0.3333333333333333,
              "#9c179e"
             ],
             [
              0.4444444444444444,
              "#bd3786"
             ],
             [
              0.5555555555555556,
              "#d8576b"
             ],
             [
              0.6666666666666666,
              "#ed7953"
             ],
             [
              0.7777777777777778,
              "#fb9f3a"
             ],
             [
              0.8888888888888888,
              "#fdca26"
             ],
             [
              1,
              "#f0f921"
             ]
            ],
            "type": "histogram2dcontour"
           }
          ],
          "mesh3d": [
           {
            "colorbar": {
             "outlinewidth": 0,
             "ticks": ""
            },
            "type": "mesh3d"
           }
          ],
          "parcoords": [
           {
            "line": {
             "colorbar": {
              "outlinewidth": 0,
              "ticks": ""
             }
            },
            "type": "parcoords"
           }
          ],
          "pie": [
           {
            "automargin": true,
            "type": "pie"
           }
          ],
          "scatter": [
           {
            "marker": {
             "colorbar": {
              "outlinewidth": 0,
              "ticks": ""
             }
            },
            "type": "scatter"
           }
          ],
          "scatter3d": [
           {
            "line": {
             "colorbar": {
              "outlinewidth": 0,
              "ticks": ""
             }
            },
            "marker": {
             "colorbar": {
              "outlinewidth": 0,
              "ticks": ""
             }
            },
            "type": "scatter3d"
           }
          ],
          "scattercarpet": [
           {
            "marker": {
             "colorbar": {
              "outlinewidth": 0,
              "ticks": ""
             }
            },
            "type": "scattercarpet"
           }
          ],
          "scattergeo": [
           {
            "marker": {
             "colorbar": {
              "outlinewidth": 0,
              "ticks": ""
             }
            },
            "type": "scattergeo"
           }
          ],
          "scattergl": [
           {
            "marker": {
             "colorbar": {
              "outlinewidth": 0,
              "ticks": ""
             }
            },
            "type": "scattergl"
           }
          ],
          "scattermapbox": [
           {
            "marker": {
             "colorbar": {
              "outlinewidth": 0,
              "ticks": ""
             }
            },
            "type": "scattermapbox"
           }
          ],
          "scatterpolar": [
           {
            "marker": {
             "colorbar": {
              "outlinewidth": 0,
              "ticks": ""
             }
            },
            "type": "scatterpolar"
           }
          ],
          "scatterpolargl": [
           {
            "marker": {
             "colorbar": {
              "outlinewidth": 0,
              "ticks": ""
             }
            },
            "type": "scatterpolargl"
           }
          ],
          "scatterternary": [
           {
            "marker": {
             "colorbar": {
              "outlinewidth": 0,
              "ticks": ""
             }
            },
            "type": "scatterternary"
           }
          ],
          "surface": [
           {
            "colorbar": {
             "outlinewidth": 0,
             "ticks": ""
            },
            "colorscale": [
             [
              0,
              "#0d0887"
             ],
             [
              0.1111111111111111,
              "#46039f"
             ],
             [
              0.2222222222222222,
              "#7201a8"
             ],
             [
              0.3333333333333333,
              "#9c179e"
             ],
             [
              0.4444444444444444,
              "#bd3786"
             ],
             [
              0.5555555555555556,
              "#d8576b"
             ],
             [
              0.6666666666666666,
              "#ed7953"
             ],
             [
              0.7777777777777778,
              "#fb9f3a"
             ],
             [
              0.8888888888888888,
              "#fdca26"
             ],
             [
              1,
              "#f0f921"
             ]
            ],
            "type": "surface"
           }
          ],
          "table": [
           {
            "cells": {
             "fill": {
              "color": "#EBF0F8"
             },
             "line": {
              "color": "white"
             }
            },
            "header": {
             "fill": {
              "color": "#C8D4E3"
             },
             "line": {
              "color": "white"
             }
            },
            "type": "table"
           }
          ]
         },
         "layout": {
          "annotationdefaults": {
           "arrowcolor": "#2a3f5f",
           "arrowhead": 0,
           "arrowwidth": 1
          },
          "autotypenumbers": "strict",
          "coloraxis": {
           "colorbar": {
            "outlinewidth": 0,
            "ticks": ""
           }
          },
          "colorscale": {
           "diverging": [
            [
             0,
             "#8e0152"
            ],
            [
             0.1,
             "#c51b7d"
            ],
            [
             0.2,
             "#de77ae"
            ],
            [
             0.3,
             "#f1b6da"
            ],
            [
             0.4,
             "#fde0ef"
            ],
            [
             0.5,
             "#f7f7f7"
            ],
            [
             0.6,
             "#e6f5d0"
            ],
            [
             0.7,
             "#b8e186"
            ],
            [
             0.8,
             "#7fbc41"
            ],
            [
             0.9,
             "#4d9221"
            ],
            [
             1,
             "#276419"
            ]
           ],
           "sequential": [
            [
             0,
             "#0d0887"
            ],
            [
             0.1111111111111111,
             "#46039f"
            ],
            [
             0.2222222222222222,
             "#7201a8"
            ],
            [
             0.3333333333333333,
             "#9c179e"
            ],
            [
             0.4444444444444444,
             "#bd3786"
            ],
            [
             0.5555555555555556,
             "#d8576b"
            ],
            [
             0.6666666666666666,
             "#ed7953"
            ],
            [
             0.7777777777777778,
             "#fb9f3a"
            ],
            [
             0.8888888888888888,
             "#fdca26"
            ],
            [
             1,
             "#f0f921"
            ]
           ],
           "sequentialminus": [
            [
             0,
             "#0d0887"
            ],
            [
             0.1111111111111111,
             "#46039f"
            ],
            [
             0.2222222222222222,
             "#7201a8"
            ],
            [
             0.3333333333333333,
             "#9c179e"
            ],
            [
             0.4444444444444444,
             "#bd3786"
            ],
            [
             0.5555555555555556,
             "#d8576b"
            ],
            [
             0.6666666666666666,
             "#ed7953"
            ],
            [
             0.7777777777777778,
             "#fb9f3a"
            ],
            [
             0.8888888888888888,
             "#fdca26"
            ],
            [
             1,
             "#f0f921"
            ]
           ]
          },
          "colorway": [
           "#636efa",
           "#EF553B",
           "#00cc96",
           "#ab63fa",
           "#FFA15A",
           "#19d3f3",
           "#FF6692",
           "#B6E880",
           "#FF97FF",
           "#FECB52"
          ],
          "font": {
           "color": "#2a3f5f"
          },
          "geo": {
           "bgcolor": "white",
           "lakecolor": "white",
           "landcolor": "#E5ECF6",
           "showlakes": true,
           "showland": true,
           "subunitcolor": "white"
          },
          "hoverlabel": {
           "align": "left"
          },
          "hovermode": "closest",
          "mapbox": {
           "style": "light"
          },
          "paper_bgcolor": "white",
          "plot_bgcolor": "#E5ECF6",
          "polar": {
           "angularaxis": {
            "gridcolor": "white",
            "linecolor": "white",
            "ticks": ""
           },
           "bgcolor": "#E5ECF6",
           "radialaxis": {
            "gridcolor": "white",
            "linecolor": "white",
            "ticks": ""
           }
          },
          "scene": {
           "xaxis": {
            "backgroundcolor": "#E5ECF6",
            "gridcolor": "white",
            "gridwidth": 2,
            "linecolor": "white",
            "showbackground": true,
            "ticks": "",
            "zerolinecolor": "white"
           },
           "yaxis": {
            "backgroundcolor": "#E5ECF6",
            "gridcolor": "white",
            "gridwidth": 2,
            "linecolor": "white",
            "showbackground": true,
            "ticks": "",
            "zerolinecolor": "white"
           },
           "zaxis": {
            "backgroundcolor": "#E5ECF6",
            "gridcolor": "white",
            "gridwidth": 2,
            "linecolor": "white",
            "showbackground": true,
            "ticks": "",
            "zerolinecolor": "white"
           }
          },
          "shapedefaults": {
           "line": {
            "color": "#2a3f5f"
           }
          },
          "ternary": {
           "aaxis": {
            "gridcolor": "white",
            "linecolor": "white",
            "ticks": ""
           },
           "baxis": {
            "gridcolor": "white",
            "linecolor": "white",
            "ticks": ""
           },
           "bgcolor": "#E5ECF6",
           "caxis": {
            "gridcolor": "white",
            "linecolor": "white",
            "ticks": ""
           }
          },
          "title": {
           "x": 0.05
          },
          "xaxis": {
           "automargin": true,
           "gridcolor": "white",
           "linecolor": "white",
           "ticks": "",
           "title": {
            "standoff": 15
           },
           "zerolinecolor": "white",
           "zerolinewidth": 2
          },
          "yaxis": {
           "automargin": true,
           "gridcolor": "white",
           "linecolor": "white",
           "ticks": "",
           "title": {
            "standoff": 15
           },
           "zerolinecolor": "white",
           "zerolinewidth": 2
          }
         }
        },
        "xaxis": {
         "anchor": "y",
         "domain": [
          0,
          1
         ],
         "title": {
          "text": "InvoiceDate"
         }
        },
        "yaxis": {
         "anchor": "x",
         "domain": [
          0,
          1
         ],
         "title": {
          "text": "value"
         }
        }
       }
      },
      "text/html": [
       "<div>                            <div id=\"2cf781c6-9c2f-4294-ac50-41b476710674\" class=\"plotly-graph-div\" style=\"height:525px; width:100%;\"></div>            <script type=\"text/javascript\">                require([\"plotly\"], function(Plotly) {                    window.PLOTLYENV=window.PLOTLYENV || {};                                    if (document.getElementById(\"2cf781c6-9c2f-4294-ac50-41b476710674\")) {                    Plotly.newPlot(                        \"2cf781c6-9c2f-4294-ac50-41b476710674\",                        [{\"hovertemplate\": \"variable=Quantity<br>InvoiceDate=%{x}<br>value=%{y}<extra></extra>\", \"legendgroup\": \"Quantity\", \"line\": {\"color\": \"#636efa\", \"dash\": \"solid\"}, \"mode\": \"lines\", \"name\": \"Quantity\", \"showlegend\": true, \"type\": \"scattergl\", \"x\": [\"2011-01-05T12:42:00\", \"2011-01-05T12:42:00\", \"2011-01-05T12:42:00\", \"2011-01-05T12:42:00\", \"2011-01-05T12:42:00\", \"2011-01-05T12:42:00\", \"2011-01-05T12:42:00\", \"2011-01-05T12:42:00\", \"2011-01-05T12:42:00\", \"2011-01-05T12:42:00\", \"2011-01-05T12:42:00\", \"2011-01-05T12:42:00\", \"2011-01-05T12:42:00\", \"2011-01-05T12:42:00\", \"2011-01-05T12:42:00\", \"2011-01-05T12:42:00\", \"2011-01-05T12:42:00\", \"2011-01-05T12:42:00\", \"2011-01-05T12:42:00\", \"2011-01-05T12:42:00\", \"2011-01-05T12:42:00\", \"2011-01-05T12:42:00\", \"2011-01-05T12:42:00\", \"2011-01-05T12:42:00\", \"2011-01-05T12:42:00\", \"2011-01-05T12:42:00\", \"2011-01-05T12:42:00\", \"2011-01-05T12:42:00\", \"2011-01-05T12:42:00\", \"2011-01-05T12:42:00\", \"2011-01-05T12:42:00\", \"2011-01-05T12:42:00\", \"2011-01-05T12:42:00\", \"2011-01-05T14:48:00\", \"2011-01-05T14:48:00\", \"2011-01-05T14:48:00\", \"2011-01-05T14:48:00\", \"2011-01-05T14:48:00\", \"2011-01-05T14:48:00\", \"2011-01-05T14:48:00\", \"2011-01-05T14:48:00\", \"2011-01-05T14:48:00\", \"2011-01-05T14:48:00\", \"2011-01-05T14:48:00\", \"2011-01-05T14:48:00\", \"2011-01-05T14:48:00\", \"2011-01-05T14:48:00\", \"2011-01-05T14:48:00\", \"2011-01-05T14:48:00\", \"2011-01-05T14:48:00\", \"2011-01-05T14:48:00\", \"2011-01-05T14:48:00\", \"2011-01-05T14:48:00\", \"2011-01-05T14:48:00\", \"2011-01-05T14:48:00\", \"2011-01-05T14:48:00\", \"2011-01-05T14:48:00\", \"2011-01-05T14:48:00\", \"2011-01-05T14:48:00\", \"2011-01-05T14:48:00\", \"2011-01-05T14:48:00\", \"2011-01-05T14:48:00\", \"2011-01-05T14:48:00\", \"2011-01-05T14:48:00\", \"2011-01-05T14:48:00\", \"2011-01-05T14:48:00\", \"2011-01-05T14:48:00\", \"2011-01-05T14:48:00\", \"2011-01-05T14:48:00\", \"2011-01-05T14:48:00\", \"2011-01-05T14:48:00\", \"2011-01-05T14:48:00\", \"2011-01-06T14:26:00\", \"2011-01-06T14:26:00\", \"2011-01-06T14:26:00\", \"2011-01-06T14:26:00\", \"2011-01-06T14:26:00\", \"2011-01-06T14:26:00\", \"2011-01-06T14:26:00\", \"2011-01-06T14:26:00\", \"2011-01-06T14:26:00\", \"2011-01-06T14:26:00\", \"2011-01-06T14:26:00\", \"2011-01-06T14:26:00\", \"2011-01-06T14:26:00\", \"2011-01-06T14:26:00\", \"2011-01-06T14:26:00\", \"2011-01-06T14:26:00\", \"2011-01-06T14:26:00\", \"2011-01-06T14:26:00\", \"2011-01-06T14:26:00\", \"2011-01-06T14:26:00\", \"2011-01-06T14:26:00\", \"2011-01-06T16:12:00\", \"2011-01-06T16:12:00\", \"2011-01-06T16:12:00\", \"2011-01-06T16:12:00\", \"2011-01-06T16:12:00\", \"2011-01-06T16:12:00\", \"2011-01-06T16:12:00\", \"2011-01-06T16:12:00\", \"2011-01-06T16:12:00\", \"2011-01-06T16:12:00\", \"2011-01-06T16:12:00\", \"2011-01-06T16:12:00\", \"2011-01-06T16:12:00\", \"2011-01-06T16:12:00\", \"2011-01-06T16:12:00\", \"2011-01-06T16:12:00\", \"2011-01-06T16:12:00\", \"2011-01-06T16:12:00\", \"2011-01-06T16:12:00\", \"2011-01-06T16:12:00\", \"2011-01-06T16:12:00\", \"2011-01-06T16:12:00\", \"2011-01-06T16:12:00\", \"2011-01-07T12:07:00\", \"2011-01-07T12:07:00\", \"2011-01-07T12:07:00\", \"2011-01-07T12:07:00\", \"2011-01-07T12:07:00\", \"2011-01-07T12:07:00\", \"2011-01-07T12:07:00\", \"2011-01-07T12:07:00\", \"2011-01-07T12:07:00\", \"2011-01-07T12:07:00\", \"2011-01-07T12:07:00\", \"2011-01-07T12:07:00\", \"2011-01-07T12:07:00\", \"2011-01-07T12:07:00\", \"2011-01-07T12:07:00\", \"2011-01-07T12:07:00\", \"2011-01-07T12:07:00\", \"2011-01-07T12:07:00\", \"2011-01-07T12:07:00\", \"2011-01-07T12:07:00\", \"2011-01-07T12:07:00\", \"2011-01-07T13:13:00\", \"2011-01-07T13:13:00\", \"2011-01-07T13:13:00\", \"2011-01-07T13:13:00\", \"2011-01-07T13:13:00\", \"2011-01-07T13:13:00\", \"2011-01-07T13:13:00\", \"2011-01-07T13:13:00\", \"2011-01-07T13:13:00\", \"2011-01-07T13:13:00\", \"2011-01-07T13:13:00\", \"2011-01-07T13:13:00\", \"2011-01-07T13:13:00\", \"2011-01-07T13:13:00\", \"2011-01-09T12:46:00\", \"2011-01-09T12:46:00\", \"2011-01-09T12:46:00\", \"2011-01-09T12:46:00\", \"2011-01-09T12:46:00\", \"2011-01-09T12:46:00\", \"2011-01-09T12:46:00\", \"2011-01-09T12:46:00\", \"2011-01-09T12:46:00\", \"2011-01-10T13:22:00\", \"2011-01-10T13:22:00\", \"2011-01-10T13:22:00\", \"2011-01-10T13:22:00\", \"2011-01-10T13:22:00\", \"2011-01-10T13:22:00\", \"2011-01-10T13:22:00\", \"2011-01-10T13:22:00\", \"2011-01-10T13:22:00\", \"2011-01-10T13:22:00\", \"2011-01-10T13:22:00\", \"2011-01-10T13:22:00\", \"2011-01-10T13:22:00\", \"2011-01-10T13:22:00\", \"2011-01-10T13:22:00\", \"2011-01-10T13:22:00\", \"2011-01-10T13:22:00\", \"2011-01-10T13:22:00\", \"2011-01-10T13:22:00\", \"2011-01-10T13:22:00\", \"2011-01-10T13:22:00\", \"2011-01-10T13:22:00\", \"2011-01-10T13:22:00\", \"2011-01-10T13:22:00\", \"2011-01-10T13:22:00\", \"2011-01-10T13:22:00\", \"2011-01-10T13:22:00\", \"2011-01-10T13:22:00\", \"2011-01-10T13:22:00\", \"2011-01-10T13:22:00\", \"2011-01-10T13:22:00\", \"2011-01-10T13:22:00\", \"2011-01-10T13:22:00\", \"2011-01-10T13:22:00\", \"2011-01-10T13:22:00\", \"2011-01-10T13:22:00\", \"2011-01-10T13:22:00\", \"2011-01-10T13:22:00\", \"2011-01-10T13:22:00\", \"2011-01-10T13:22:00\", \"2011-01-10T13:22:00\", \"2011-01-10T13:22:00\", \"2011-01-10T13:22:00\", \"2011-01-10T13:22:00\", \"2011-01-10T13:22:00\", \"2011-01-10T13:22:00\", \"2011-01-10T13:22:00\", \"2011-01-10T13:22:00\", \"2011-01-10T13:22:00\", \"2011-01-11T07:57:00\", \"2011-01-11T07:57:00\", \"2011-01-11T07:57:00\", \"2011-01-11T11:48:00\", \"2011-01-11T13:31:00\", \"2011-01-11T13:31:00\", \"2011-01-11T13:31:00\", \"2011-01-11T13:31:00\", \"2011-01-11T13:31:00\", \"2011-01-11T13:31:00\", \"2011-01-11T13:31:00\", \"2011-01-11T13:31:00\", \"2011-01-11T13:31:00\", \"2011-01-11T13:31:00\", \"2011-01-11T13:31:00\", \"2011-01-11T13:31:00\", \"2011-01-11T15:00:00\", \"2011-01-11T15:00:00\", \"2011-01-11T15:00:00\", \"2011-01-11T15:00:00\", \"2011-01-11T15:00:00\", \"2011-01-11T15:00:00\", \"2011-01-11T15:00:00\", \"2011-01-11T15:00:00\", \"2011-01-11T15:00:00\", \"2011-01-11T15:00:00\", \"2011-01-12T09:43:00\", \"2011-01-12T09:43:00\", \"2011-01-12T09:43:00\", \"2011-01-12T09:43:00\", \"2011-01-12T09:43:00\", \"2011-01-12T09:43:00\", \"2011-01-12T09:43:00\", \"2011-01-12T14:13:00\", \"2011-01-12T14:13:00\", \"2011-01-12T14:13:00\", \"2011-01-12T14:13:00\", \"2011-01-12T14:13:00\", \"2011-01-12T14:13:00\", \"2011-01-12T15:00:00\", \"2011-01-12T15:00:00\", \"2011-01-12T15:00:00\", \"2011-01-12T15:00:00\", \"2011-01-12T15:00:00\", \"2011-01-12T15:00:00\", \"2011-01-12T15:00:00\", \"2011-01-12T15:00:00\", \"2011-01-12T15:00:00\", \"2011-01-12T15:00:00\", \"2011-01-12T15:00:00\", \"2011-01-12T15:00:00\", \"2011-01-12T15:00:00\", \"2011-01-12T15:00:00\", \"2011-01-12T15:00:00\", \"2011-01-12T15:00:00\", \"2011-01-12T15:00:00\", \"2011-01-12T15:00:00\", \"2011-01-12T15:00:00\", \"2011-01-12T15:00:00\", \"2011-01-12T15:00:00\", \"2011-01-12T15:00:00\", \"2011-01-12T15:00:00\", \"2011-01-12T15:00:00\", \"2011-01-12T15:00:00\", \"2011-01-12T15:00:00\", \"2011-01-12T15:00:00\", \"2011-01-12T15:00:00\", \"2011-01-12T15:00:00\", \"2011-01-12T15:00:00\", \"2011-01-12T15:00:00\", \"2011-01-12T15:00:00\", \"2011-01-12T15:00:00\", \"2011-01-12T15:00:00\", \"2011-01-12T15:00:00\", \"2011-01-12T15:00:00\", \"2011-01-12T15:00:00\", \"2011-01-12T15:00:00\", \"2011-01-12T15:00:00\", \"2011-01-12T15:00:00\", \"2011-01-12T15:00:00\", \"2011-01-12T15:00:00\", \"2011-01-12T15:00:00\", \"2011-01-12T15:00:00\", \"2011-01-12T15:00:00\", \"2011-01-12T15:00:00\", \"2011-01-12T15:00:00\", \"2011-01-14T09:13:00\", \"2011-01-14T09:13:00\", \"2011-01-14T09:13:00\", \"2011-01-14T09:13:00\", \"2011-01-14T09:13:00\", \"2011-01-14T09:13:00\", \"2011-01-14T09:13:00\", \"2011-01-14T09:13:00\", \"2011-01-14T09:13:00\", \"2011-01-14T09:13:00\", \"2011-01-14T09:13:00\", \"2011-01-14T09:13:00\", \"2011-01-14T09:13:00\", \"2011-01-14T09:13:00\", \"2011-01-14T09:13:00\", \"2011-01-14T09:13:00\", \"2011-01-14T09:13:00\", \"2011-01-14T09:13:00\", \"2011-01-14T09:13:00\", \"2011-01-14T09:13:00\", \"2011-01-14T09:13:00\", \"2011-01-14T09:13:00\", \"2011-01-14T09:13:00\", \"2011-01-14T09:13:00\", \"2011-01-14T09:13:00\", \"2011-01-14T09:13:00\", \"2011-01-14T09:13:00\", \"2011-01-14T09:13:00\", \"2011-01-14T09:13:00\", \"2011-01-14T09:13:00\", \"2011-01-14T09:13:00\", \"2011-01-14T09:13:00\", \"2011-01-14T09:13:00\", \"2011-01-14T09:13:00\", \"2011-01-14T09:13:00\", \"2011-01-14T09:13:00\", \"2011-01-14T09:13:00\", \"2011-01-14T09:13:00\", \"2011-01-14T09:13:00\", \"2011-01-14T09:13:00\", \"2011-01-14T09:13:00\", \"2011-01-14T09:13:00\", \"2011-01-14T09:20:00\", \"2011-01-14T09:20:00\", \"2011-01-14T09:20:00\", \"2011-01-14T09:20:00\", \"2011-01-14T09:20:00\", \"2011-01-14T09:20:00\", \"2011-01-14T09:20:00\", \"2011-01-14T09:20:00\", \"2011-01-14T09:20:00\", \"2011-01-14T09:20:00\", \"2011-01-14T10:42:00\", \"2011-01-14T10:42:00\", \"2011-01-14T10:42:00\", \"2011-01-14T10:42:00\", \"2011-01-14T10:42:00\", \"2011-01-14T10:42:00\", \"2011-01-14T10:42:00\", \"2011-01-14T10:42:00\", \"2011-01-14T10:42:00\", \"2011-01-14T10:42:00\", \"2011-01-14T10:42:00\", \"2011-01-14T10:42:00\", \"2011-01-14T10:42:00\", \"2011-01-14T10:42:00\", \"2011-01-14T10:42:00\", \"2011-01-14T10:42:00\", \"2011-01-14T10:42:00\", \"2011-01-14T10:42:00\", \"2011-01-14T10:42:00\", \"2011-01-14T10:42:00\", \"2011-01-14T10:42:00\", \"2011-01-14T10:42:00\", \"2011-01-14T10:42:00\", \"2011-01-14T10:42:00\", \"2011-01-14T10:42:00\", \"2011-01-14T10:42:00\", \"2011-01-14T10:42:00\", \"2011-01-14T10:42:00\", \"2011-01-14T10:42:00\", \"2011-01-14T10:42:00\", \"2011-01-14T10:42:00\", \"2011-01-14T10:42:00\", \"2011-01-14T10:42:00\", \"2011-01-14T10:42:00\", \"2011-01-14T10:42:00\", \"2011-01-14T10:42:00\", \"2011-01-14T10:42:00\", \"2011-01-17T15:17:00\", \"2011-01-17T15:17:00\", \"2011-01-17T15:17:00\", \"2011-01-17T15:17:00\", \"2011-01-17T15:17:00\", \"2011-01-17T15:17:00\", \"2011-01-17T15:17:00\", \"2011-01-17T15:17:00\", \"2011-01-17T15:17:00\", \"2011-01-17T15:17:00\", \"2011-01-17T15:17:00\", \"2011-01-17T15:17:00\", \"2011-01-17T15:17:00\", \"2011-01-17T15:17:00\", \"2011-01-17T15:17:00\", \"2011-01-17T15:17:00\", \"2011-01-17T15:17:00\", \"2011-01-17T15:17:00\", \"2011-01-17T15:17:00\", \"2011-01-17T15:17:00\", \"2011-01-19T11:51:00\", \"2011-01-19T11:51:00\", \"2011-01-19T11:51:00\", \"2011-01-19T11:51:00\", \"2011-01-19T11:51:00\", \"2011-01-19T11:51:00\", \"2011-01-19T11:51:00\", \"2011-01-19T11:51:00\", \"2011-01-19T11:51:00\", \"2011-01-19T11:51:00\", \"2011-01-19T11:51:00\", \"2011-01-19T11:51:00\", \"2011-01-19T11:51:00\", \"2011-01-19T11:51:00\", \"2011-01-19T11:51:00\", \"2011-01-19T11:51:00\", \"2011-01-19T11:51:00\", \"2011-01-19T11:51:00\", \"2011-01-19T11:51:00\", \"2011-01-19T11:51:00\", \"2011-01-19T11:51:00\", \"2011-01-19T11:51:00\", \"2011-01-19T11:51:00\", \"2011-01-19T11:51:00\", \"2011-01-19T11:51:00\", \"2011-01-19T11:51:00\", \"2011-01-19T11:51:00\", \"2011-01-19T11:51:00\", \"2011-01-19T11:51:00\", \"2011-01-19T11:51:00\", \"2011-01-20T10:47:00\", \"2011-01-20T10:47:00\", \"2011-01-20T10:47:00\", \"2011-01-20T10:47:00\", \"2011-01-20T10:47:00\", \"2011-01-20T10:47:00\", \"2011-01-20T10:47:00\", \"2011-01-20T10:47:00\", \"2011-01-20T10:47:00\", \"2011-01-20T10:47:00\", \"2011-01-20T10:47:00\", \"2011-01-20T10:47:00\", \"2011-01-20T10:47:00\", \"2011-01-20T10:47:00\", \"2011-01-20T10:47:00\", \"2011-01-20T10:47:00\", \"2011-01-20T10:47:00\", \"2011-01-20T10:47:00\", \"2011-01-20T10:47:00\", \"2011-01-20T10:47:00\", \"2011-01-20T10:47:00\", \"2011-01-20T10:47:00\", \"2011-01-20T10:47:00\", \"2011-01-20T10:47:00\", \"2011-01-20T10:47:00\", \"2011-01-20T10:47:00\", \"2011-01-20T10:47:00\", \"2011-01-20T10:48:00\", \"2011-01-20T10:48:00\", \"2011-01-20T10:48:00\", \"2011-01-20T10:48:00\", \"2011-01-20T10:48:00\", \"2011-01-20T10:48:00\", \"2011-01-20T10:48:00\", \"2011-01-20T10:48:00\", \"2011-01-20T10:48:00\", \"2011-01-20T10:48:00\", \"2011-01-20T10:48:00\", \"2011-01-20T10:48:00\", \"2011-01-20T10:48:00\", \"2011-01-20T10:48:00\", \"2011-01-20T10:48:00\", \"2011-01-20T10:48:00\", \"2011-01-20T10:48:00\", \"2011-01-20T10:48:00\", \"2011-01-20T10:48:00\", \"2011-01-20T10:48:00\", \"2011-01-20T10:48:00\", \"2011-01-20T10:48:00\", \"2011-01-20T10:48:00\", \"2011-01-20T10:48:00\", \"2011-01-20T10:48:00\", \"2011-01-20T10:48:00\", \"2011-01-20T10:48:00\", \"2011-01-20T10:48:00\", \"2011-01-20T10:48:00\", \"2011-01-20T10:48:00\", \"2011-01-20T10:48:00\", \"2011-01-20T10:48:00\", \"2011-01-20T10:48:00\", \"2011-01-20T10:48:00\", \"2011-01-20T10:48:00\", \"2011-01-20T10:48:00\", \"2011-01-20T10:48:00\", \"2011-01-20T10:48:00\", \"2011-01-20T10:48:00\", \"2011-01-20T10:48:00\", \"2011-01-20T10:48:00\", \"2011-01-20T10:48:00\", \"2011-01-20T10:48:00\", \"2011-01-20T10:48:00\", \"2011-01-23T15:17:00\", \"2011-01-23T15:17:00\", \"2011-01-23T15:17:00\", \"2011-01-23T15:17:00\", \"2011-01-23T15:17:00\", \"2011-01-23T15:17:00\", \"2011-01-23T15:17:00\", \"2011-01-23T15:17:00\", \"2011-01-23T15:17:00\", \"2011-01-23T15:17:00\", \"2011-01-23T15:17:00\", \"2011-01-24T15:32:00\", \"2011-01-24T15:32:00\", \"2011-01-24T15:32:00\", \"2011-01-24T15:32:00\", \"2011-01-24T15:32:00\", \"2011-01-24T15:32:00\", \"2011-01-24T15:32:00\", \"2011-01-24T15:32:00\", \"2011-01-24T15:32:00\", \"2011-01-28T09:20:00\", \"2011-01-28T09:20:00\", \"2011-01-28T09:20:00\", \"2011-01-28T09:20:00\", \"2011-01-28T09:20:00\", \"2011-01-28T09:20:00\", \"2011-01-28T09:20:00\", \"2011-01-28T09:20:00\", \"2011-01-28T09:20:00\", \"2011-01-28T09:20:00\", \"2011-01-28T10:45:00\", \"2011-01-28T10:45:00\", \"2011-01-28T10:45:00\", \"2011-01-28T10:45:00\", \"2011-01-28T10:45:00\", \"2011-01-28T10:45:00\", \"2011-01-28T10:45:00\", \"2011-01-28T10:45:00\", \"2011-01-28T10:45:00\", \"2011-01-28T10:45:00\", \"2011-01-28T10:45:00\", \"2011-01-28T10:45:00\", \"2011-01-28T10:45:00\", \"2011-01-28T10:45:00\", \"2011-01-28T10:45:00\", \"2011-01-28T10:45:00\", \"2011-01-28T10:45:00\", \"2011-01-28T10:45:00\", \"2011-01-28T13:37:00\", \"2011-01-28T13:37:00\", \"2011-01-28T13:37:00\", \"2011-01-28T13:37:00\", \"2011-01-28T13:37:00\", \"2011-01-28T13:37:00\", \"2011-01-28T13:37:00\", \"2011-01-28T13:37:00\", \"2011-01-28T13:37:00\", \"2011-01-28T13:37:00\", \"2011-01-28T13:37:00\", \"2011-01-28T13:37:00\", \"2011-01-28T13:37:00\", \"2011-01-28T13:37:00\", \"2011-01-28T13:37:00\", \"2011-01-28T13:37:00\", \"2011-01-28T13:37:00\", \"2011-01-28T13:37:00\", \"2011-01-28T13:37:00\", \"2011-01-28T13:37:00\", \"2011-01-31T09:57:00\", \"2011-01-31T09:57:00\", \"2011-01-31T09:57:00\", \"2011-01-31T09:57:00\", \"2011-01-31T09:57:00\", \"2011-01-31T09:57:00\", \"2011-01-31T09:57:00\", \"2011-01-31T09:57:00\", \"2011-01-31T09:57:00\", \"2011-01-31T09:57:00\", \"2011-01-31T09:57:00\", \"2011-01-31T09:57:00\", \"2011-01-31T09:57:00\", \"2011-01-31T09:57:00\", \"2011-01-31T09:57:00\", \"2011-01-31T09:57:00\", \"2011-01-31T09:57:00\", \"2011-01-31T09:57:00\", \"2011-01-31T09:57:00\", \"2011-01-31T09:57:00\", \"2011-01-31T09:57:00\", \"2011-01-31T09:57:00\", \"2011-01-31T09:57:00\", \"2011-01-31T09:57:00\", \"2011-01-31T09:57:00\", \"2011-01-31T09:57:00\", \"2011-01-31T09:57:00\", \"2011-01-31T09:57:00\", \"2011-01-31T09:57:00\", \"2011-01-31T09:57:00\", \"2011-01-31T09:57:00\", \"2011-01-31T09:57:00\", \"2011-01-31T09:57:00\", \"2011-01-31T09:57:00\", \"2011-01-31T09:57:00\", \"2011-01-31T09:57:00\", \"2011-01-31T09:57:00\", \"2011-01-31T09:57:00\", \"2011-01-31T09:57:00\", \"2011-01-31T09:57:00\", \"2011-01-31T09:57:00\", \"2011-01-31T09:57:00\", \"2011-01-31T09:57:00\", \"2011-01-31T09:57:00\", \"2011-01-31T09:57:00\", \"2011-01-31T09:57:00\", \"2011-01-31T15:36:00\", \"2011-01-31T15:36:00\", \"2011-01-31T15:36:00\", \"2011-01-31T15:36:00\", \"2011-01-31T15:36:00\", \"2011-01-31T15:36:00\", \"2011-01-31T15:36:00\", \"2011-01-31T15:36:00\", \"2011-01-31T15:36:00\", \"2011-01-31T15:36:00\", \"2011-01-31T15:36:00\", \"2011-01-31T15:36:00\", \"2011-01-31T15:36:00\", \"2011-01-31T15:36:00\", \"2011-01-31T15:36:00\", \"2011-01-31T15:36:00\", \"2011-01-31T15:36:00\", \"2011-02-01T14:58:00\", \"2011-02-01T14:58:00\", \"2011-02-01T14:58:00\", \"2011-02-01T14:58:00\", \"2011-02-01T14:58:00\", \"2011-02-01T14:58:00\", \"2011-02-01T14:58:00\", \"2011-02-01T14:58:00\", \"2011-02-01T14:58:00\", \"2011-02-01T14:58:00\", \"2011-02-01T14:58:00\", \"2011-02-01T14:58:00\", \"2011-02-01T14:58:00\", \"2011-02-01T14:58:00\", \"2011-02-01T14:58:00\", \"2011-02-01T14:58:00\", \"2011-02-01T14:58:00\", \"2011-02-01T14:58:00\", \"2011-02-02T09:06:00\", \"2011-02-02T09:06:00\", \"2011-02-02T09:06:00\", \"2011-02-02T09:06:00\", \"2011-02-02T09:06:00\", \"2011-02-02T09:06:00\", \"2011-02-02T09:06:00\", \"2011-02-02T09:06:00\", \"2011-02-02T09:06:00\", \"2011-02-02T09:06:00\", \"2011-02-02T09:06:00\", \"2011-02-02T09:06:00\", \"2011-02-02T09:06:00\", \"2011-02-02T09:06:00\", \"2011-02-02T09:06:00\", \"2011-02-02T09:06:00\", \"2011-02-02T09:06:00\", \"2011-02-02T09:06:00\", \"2011-02-02T15:22:00\", \"2011-02-02T15:22:00\", \"2011-02-02T15:22:00\", \"2011-02-02T15:22:00\", \"2011-02-02T15:22:00\", \"2011-02-02T15:22:00\", \"2011-02-02T15:22:00\", \"2011-02-02T15:22:00\", \"2011-02-02T15:22:00\", \"2011-02-04T11:45:00\", \"2011-02-04T11:45:00\", \"2011-02-04T11:45:00\", \"2011-02-04T11:45:00\", \"2011-02-04T11:45:00\", \"2011-02-04T11:45:00\", \"2011-02-04T11:45:00\", \"2011-02-04T11:45:00\", \"2011-02-04T11:45:00\", \"2011-02-04T11:45:00\", \"2011-02-04T11:45:00\", \"2011-02-04T11:45:00\", \"2011-02-04T11:45:00\", \"2011-02-04T11:45:00\", \"2011-02-04T11:45:00\", \"2011-02-04T11:45:00\", \"2011-02-04T11:45:00\", \"2011-02-04T11:45:00\", \"2011-02-04T11:45:00\", \"2011-02-04T11:45:00\", \"2011-02-04T11:45:00\", \"2011-02-04T11:45:00\", \"2011-02-04T11:45:00\", \"2011-02-04T11:45:00\", \"2011-02-04T11:45:00\", \"2011-02-04T11:45:00\", \"2011-02-04T11:45:00\", \"2011-02-04T11:45:00\", \"2011-02-04T11:45:00\", \"2011-02-04T11:45:00\", \"2011-02-04T11:45:00\", \"2011-02-04T11:45:00\", \"2011-02-04T11:45:00\", \"2011-02-04T11:45:00\", \"2011-02-04T11:45:00\", \"2011-02-04T11:45:00\", \"2011-02-04T11:45:00\", \"2011-02-04T11:45:00\", \"2011-02-04T11:45:00\", \"2011-02-04T11:45:00\", \"2011-02-04T11:45:00\", \"2011-02-04T11:45:00\", \"2011-02-04T11:45:00\", \"2011-02-04T11:45:00\", \"2011-02-04T11:45:00\", \"2011-02-04T11:45:00\", \"2011-02-04T11:45:00\", \"2011-02-04T11:45:00\", \"2011-02-04T11:45:00\", \"2011-02-04T11:45:00\", \"2011-02-04T11:45:00\", \"2011-02-04T11:45:00\", \"2011-02-04T11:45:00\", \"2011-02-04T11:45:00\", \"2011-02-04T11:45:00\", \"2011-02-04T11:45:00\", \"2011-02-04T11:45:00\", \"2011-02-04T11:45:00\", \"2011-02-04T11:45:00\", \"2011-02-04T11:45:00\", \"2011-02-04T11:45:00\", \"2011-02-04T11:45:00\", \"2011-02-08T13:28:00\", \"2011-02-08T13:28:00\", \"2011-02-08T13:28:00\", \"2011-02-08T13:28:00\", \"2011-02-08T13:28:00\", \"2011-02-08T13:28:00\", \"2011-02-08T13:28:00\", \"2011-02-08T13:28:00\", \"2011-02-08T13:28:00\", \"2011-02-08T13:28:00\", \"2011-02-08T13:28:00\", \"2011-02-08T13:28:00\", \"2011-02-08T13:28:00\", \"2011-02-09T10:11:00\", \"2011-02-09T10:11:00\", \"2011-02-09T10:11:00\", \"2011-02-09T10:11:00\", \"2011-02-09T10:11:00\", \"2011-02-09T10:11:00\", \"2011-02-09T10:11:00\", \"2011-02-09T10:11:00\", \"2011-02-09T10:11:00\", \"2011-02-09T10:11:00\", \"2011-02-09T10:11:00\", \"2011-02-09T10:11:00\", \"2011-02-09T10:11:00\", \"2011-02-09T10:11:00\", \"2011-02-09T10:11:00\", \"2011-02-09T10:11:00\", \"2011-02-09T10:11:00\", \"2011-02-09T10:11:00\", \"2011-02-09T10:11:00\", \"2011-02-09T10:11:00\", \"2011-02-09T10:11:00\", \"2011-02-09T10:11:00\", \"2011-02-09T10:11:00\", \"2011-02-09T10:11:00\", \"2011-02-09T10:11:00\", \"2011-02-09T10:11:00\", \"2011-02-10T15:38:00\", \"2011-02-10T15:38:00\", \"2011-02-10T15:38:00\", \"2011-02-10T15:38:00\", \"2011-02-10T15:38:00\", \"2011-02-10T15:38:00\", \"2011-02-10T15:38:00\", \"2011-02-10T15:38:00\", \"2011-02-10T15:38:00\", \"2011-02-10T15:38:00\", \"2011-02-10T15:38:00\", \"2011-02-10T15:38:00\", \"2011-02-15T14:17:00\", \"2011-02-15T14:17:00\", \"2011-02-15T14:17:00\", \"2011-02-15T14:17:00\", \"2011-02-15T14:17:00\", \"2011-02-15T14:17:00\", \"2011-02-15T14:17:00\", \"2011-02-15T14:17:00\", \"2011-02-15T14:17:00\", \"2011-02-15T14:17:00\", \"2011-02-16T11:45:00\", \"2011-02-16T11:45:00\", \"2011-02-16T11:45:00\", \"2011-02-16T11:45:00\", \"2011-02-16T11:45:00\", \"2011-02-16T11:45:00\", \"2011-02-16T11:45:00\", \"2011-02-16T11:45:00\", \"2011-02-16T11:45:00\", \"2011-02-16T11:45:00\", \"2011-02-16T11:45:00\", \"2011-02-16T11:45:00\", \"2011-02-16T11:45:00\", \"2011-02-16T11:45:00\", \"2011-02-16T11:45:00\", \"2011-02-16T11:45:00\", \"2011-02-16T11:45:00\", \"2011-02-16T11:45:00\", \"2011-02-16T11:45:00\", \"2011-02-16T11:45:00\", \"2011-02-16T11:45:00\", \"2011-02-16T11:45:00\", \"2011-02-16T11:45:00\", \"2011-02-16T11:45:00\", \"2011-02-16T11:45:00\", \"2011-02-16T11:45:00\", \"2011-02-16T11:45:00\", \"2011-02-16T11:45:00\", \"2011-02-16T11:45:00\", \"2011-02-16T11:45:00\", \"2011-02-16T11:45:00\", \"2011-02-16T11:45:00\", \"2011-02-16T11:45:00\", \"2011-02-16T11:45:00\", \"2011-02-16T11:45:00\", \"2011-02-16T11:45:00\", \"2011-02-16T11:45:00\", \"2011-02-16T11:45:00\", \"2011-02-16T11:45:00\", \"2011-02-16T11:45:00\", \"2011-02-16T11:45:00\", \"2011-02-16T11:45:00\", \"2011-02-16T11:45:00\", \"2011-02-16T11:45:00\", \"2011-02-16T11:45:00\", \"2011-02-16T11:45:00\", \"2011-02-16T11:45:00\", \"2011-02-17T10:08:00\", \"2011-02-17T10:08:00\", \"2011-02-17T10:08:00\", \"2011-02-17T10:08:00\", \"2011-02-17T10:08:00\", \"2011-02-17T10:08:00\", \"2011-02-17T10:08:00\", \"2011-02-17T10:08:00\", \"2011-02-17T10:08:00\", \"2011-02-17T10:08:00\", \"2011-02-17T10:08:00\", \"2011-02-17T10:08:00\", \"2011-02-17T10:08:00\", \"2011-02-17T10:08:00\", \"2011-02-17T10:08:00\", \"2011-02-18T10:53:00\", \"2011-02-18T10:53:00\", \"2011-02-18T10:53:00\", \"2011-02-18T10:53:00\", \"2011-02-18T10:53:00\", \"2011-02-18T10:53:00\", \"2011-02-18T10:53:00\", \"2011-02-18T10:53:00\", \"2011-02-18T10:53:00\", \"2011-02-18T10:53:00\", \"2011-02-18T10:53:00\", \"2011-02-18T10:53:00\", \"2011-02-18T10:53:00\", \"2011-02-18T10:53:00\", \"2011-02-18T10:53:00\", \"2011-02-18T10:53:00\", \"2011-02-18T10:53:00\", \"2011-02-18T10:53:00\", \"2011-02-18T10:53:00\", \"2011-02-18T10:53:00\", \"2011-02-18T10:53:00\", \"2011-02-18T10:53:00\", \"2011-02-18T10:53:00\", \"2011-02-18T10:53:00\", \"2011-02-18T10:53:00\", \"2011-02-18T10:53:00\", \"2011-02-18T10:53:00\", \"2011-02-18T10:53:00\", \"2011-02-18T10:53:00\", \"2011-02-18T10:53:00\", \"2011-02-18T10:53:00\", \"2011-02-18T10:53:00\", \"2011-02-18T10:53:00\", \"2011-02-18T10:53:00\", \"2011-02-18T10:53:00\", \"2011-02-18T10:53:00\", \"2011-02-18T10:53:00\", \"2011-02-18T10:53:00\", \"2011-02-18T10:53:00\", \"2011-02-18T10:53:00\", \"2011-02-18T10:53:00\", \"2011-02-18T10:53:00\", \"2011-02-18T10:53:00\", \"2011-02-18T10:53:00\", \"2011-02-18T10:53:00\", \"2011-02-18T10:53:00\", \"2011-02-18T10:53:00\", \"2011-02-18T10:53:00\", \"2011-02-18T10:53:00\", \"2011-02-18T10:53:00\", \"2011-02-18T10:53:00\", \"2011-02-18T10:53:00\", \"2011-02-18T15:23:00\", \"2011-02-21T08:38:00\", \"2011-02-21T08:38:00\", \"2011-02-21T08:38:00\", \"2011-02-21T08:38:00\", \"2011-02-21T08:38:00\", \"2011-02-21T08:38:00\", \"2011-02-21T08:38:00\", \"2011-02-21T08:38:00\", \"2011-02-21T08:38:00\", \"2011-02-21T08:38:00\", \"2011-02-21T08:38:00\", \"2011-02-21T08:38:00\", \"2011-02-21T08:38:00\", \"2011-02-21T08:38:00\", \"2011-02-21T08:38:00\", \"2011-02-21T08:38:00\", \"2011-02-21T08:38:00\", \"2011-02-21T08:38:00\", \"2011-02-21T08:38:00\", \"2011-02-21T08:38:00\", \"2011-02-21T08:38:00\", \"2011-02-21T08:38:00\", \"2011-02-21T08:38:00\", \"2011-02-21T08:38:00\", \"2011-02-21T08:38:00\", \"2011-02-21T08:38:00\", \"2011-02-21T08:38:00\", \"2011-02-21T08:38:00\", \"2011-02-21T08:38:00\", \"2011-02-21T08:38:00\", \"2011-02-21T08:38:00\", \"2011-02-21T08:38:00\", \"2011-02-21T08:38:00\", \"2011-02-21T14:58:00\", \"2011-02-21T14:58:00\", \"2011-02-21T14:58:00\", \"2011-02-21T14:58:00\", \"2011-02-21T14:58:00\", \"2011-02-21T14:58:00\", \"2011-02-21T14:58:00\", \"2011-02-23T16:44:00\", \"2011-02-23T16:44:00\", \"2011-02-23T16:44:00\", \"2011-02-23T16:44:00\", \"2011-02-23T16:44:00\", \"2011-02-23T16:44:00\", \"2011-02-23T16:44:00\", \"2011-02-23T16:44:00\", \"2011-02-23T16:44:00\", \"2011-02-23T16:44:00\", \"2011-02-23T16:44:00\", \"2011-02-23T16:44:00\", \"2011-02-23T16:44:00\", \"2011-02-23T16:44:00\", \"2011-02-23T16:44:00\", \"2011-02-23T16:44:00\", \"2011-02-23T16:45:00\", \"2011-02-23T16:45:00\", \"2011-02-23T16:45:00\", \"2011-02-23T16:45:00\", \"2011-02-27T11:58:00\", \"2011-02-27T11:58:00\", \"2011-02-27T11:58:00\", \"2011-02-27T11:58:00\", \"2011-02-28T11:43:00\", \"2011-02-28T11:43:00\", \"2011-02-28T11:43:00\", \"2011-02-28T11:43:00\", \"2011-02-28T11:43:00\", \"2011-02-28T11:43:00\", \"2011-02-28T11:43:00\", \"2011-02-28T11:43:00\", \"2011-02-28T11:43:00\", \"2011-02-28T11:43:00\", \"2011-02-28T11:43:00\", \"2011-02-28T11:43:00\", \"2011-02-28T11:58:00\", \"2011-02-28T11:58:00\", \"2011-02-28T11:58:00\", \"2011-02-28T11:58:00\", \"2011-02-28T11:58:00\", \"2011-02-28T11:58:00\", \"2011-02-28T11:58:00\", \"2011-02-28T11:58:00\", \"2011-02-28T11:58:00\", \"2011-02-28T11:58:00\", \"2011-02-28T11:58:00\", \"2011-02-28T11:58:00\", \"2011-02-28T11:58:00\", \"2011-02-28T11:58:00\", \"2011-02-28T11:58:00\", \"2011-02-28T11:58:00\", \"2011-02-28T11:58:00\", \"2011-02-28T11:58:00\", \"2011-02-28T11:58:00\", \"2011-02-28T11:58:00\", \"2011-02-28T11:58:00\", \"2011-02-28T11:58:00\", \"2011-02-28T11:58:00\", \"2011-02-28T11:58:00\", \"2011-02-28T11:58:00\", \"2011-02-28T14:42:00\", \"2011-02-28T14:42:00\", \"2011-02-28T14:42:00\", \"2011-02-28T14:42:00\", \"2011-02-28T14:42:00\", \"2011-02-28T14:42:00\", \"2011-02-28T14:42:00\", \"2011-02-28T14:42:00\", \"2011-02-28T14:42:00\", \"2011-02-28T14:42:00\", \"2011-02-28T14:42:00\", \"2011-02-28T14:45:00\", \"2011-02-28T14:45:00\", \"2011-02-28T14:45:00\", \"2011-02-28T14:45:00\", \"2011-02-28T14:45:00\", \"2011-02-28T14:45:00\", \"2011-03-01T10:31:00\", \"2011-03-01T10:31:00\", \"2011-03-01T10:31:00\", \"2011-03-01T10:31:00\", \"2011-03-01T10:31:00\", \"2011-03-01T10:31:00\", \"2011-03-01T10:31:00\", \"2011-03-01T10:31:00\", \"2011-03-01T10:31:00\", \"2011-03-01T10:31:00\", \"2011-03-01T10:31:00\", \"2011-03-01T10:31:00\", \"2011-03-01T10:31:00\", \"2011-03-01T10:31:00\", \"2011-03-01T10:31:00\", \"2011-03-01T10:31:00\", \"2011-03-01T12:26:00\", \"2011-03-01T12:26:00\", \"2011-03-01T12:26:00\", \"2011-03-01T12:26:00\", \"2011-03-01T12:26:00\", \"2011-03-01T12:26:00\", \"2011-03-01T12:26:00\", \"2011-03-01T12:26:00\", \"2011-03-01T12:26:00\", \"2011-03-01T12:26:00\", \"2011-03-01T12:26:00\", \"2011-03-01T12:26:00\", \"2011-03-01T12:26:00\", \"2011-03-01T12:26:00\", \"2011-03-01T12:26:00\", \"2011-03-01T12:26:00\", \"2011-03-01T12:26:00\", \"2011-03-01T12:26:00\", \"2011-03-01T12:26:00\", \"2011-03-01T12:26:00\", \"2011-03-01T12:26:00\", \"2011-03-01T12:26:00\", \"2011-03-01T12:26:00\", \"2011-03-01T12:26:00\", \"2011-03-01T12:26:00\", \"2011-03-01T12:26:00\", \"2011-03-01T12:26:00\", \"2011-03-01T12:26:00\", \"2011-03-01T12:26:00\", \"2011-03-01T12:26:00\", \"2011-03-01T12:26:00\", \"2011-03-01T12:26:00\", \"2011-03-01T12:26:00\", \"2011-03-01T12:26:00\", \"2011-03-01T12:26:00\", \"2011-03-01T12:26:00\", \"2011-03-01T12:26:00\", \"2011-03-01T12:26:00\", \"2011-03-01T12:26:00\", \"2011-03-01T12:26:00\", \"2011-03-01T12:26:00\", \"2011-03-03T12:06:00\", \"2011-03-03T12:06:00\", \"2011-03-03T12:06:00\", \"2011-03-03T12:06:00\", \"2011-03-03T12:06:00\", \"2011-03-03T12:06:00\", \"2011-03-03T12:06:00\", \"2011-03-03T12:06:00\", \"2011-03-03T12:06:00\", \"2011-03-03T12:06:00\", \"2011-03-03T12:06:00\", \"2011-03-03T12:06:00\", \"2011-03-03T12:06:00\", \"2011-03-03T12:06:00\", \"2011-03-03T12:06:00\", \"2011-03-03T12:06:00\", \"2011-03-03T12:06:00\", \"2011-03-03T12:06:00\", \"2011-03-03T12:06:00\", \"2011-03-03T12:06:00\", \"2011-03-03T12:06:00\", \"2011-03-03T12:06:00\", \"2011-03-03T12:06:00\", \"2011-03-03T12:06:00\", \"2011-03-03T12:06:00\", \"2011-03-03T12:06:00\", \"2011-03-03T12:06:00\", \"2011-03-03T12:20:00\", \"2011-03-04T09:08:00\", \"2011-03-04T09:08:00\", \"2011-03-04T09:08:00\", \"2011-03-04T09:08:00\", \"2011-03-04T09:08:00\", \"2011-03-04T09:08:00\", \"2011-03-04T09:08:00\", \"2011-03-04T09:08:00\", \"2011-03-04T09:08:00\", \"2011-03-04T09:08:00\", \"2011-03-04T09:08:00\", \"2011-03-04T09:08:00\", \"2011-03-04T09:08:00\", \"2011-03-04T09:08:00\", \"2011-03-04T09:08:00\", \"2011-03-11T12:00:00\", \"2011-03-11T12:00:00\", \"2011-03-11T12:00:00\", \"2011-03-11T12:00:00\", \"2011-03-11T12:00:00\", \"2011-03-11T12:00:00\", \"2011-03-11T12:00:00\", \"2011-03-11T12:00:00\", \"2011-03-11T12:00:00\", \"2011-03-11T12:00:00\", \"2011-03-11T12:00:00\", \"2011-03-11T12:00:00\", \"2011-03-11T12:00:00\", \"2011-03-11T12:00:00\", \"2011-03-11T12:00:00\", \"2011-03-11T12:00:00\", \"2011-03-11T12:00:00\", \"2011-03-11T12:00:00\", \"2011-03-11T12:00:00\", \"2011-03-13T14:55:00\", \"2011-03-13T14:55:00\", \"2011-03-13T14:55:00\", \"2011-03-13T14:55:00\", \"2011-03-13T14:55:00\", \"2011-03-13T14:55:00\", \"2011-03-13T14:55:00\", \"2011-03-13T14:55:00\", \"2011-03-13T14:55:00\", \"2011-03-13T14:55:00\", \"2011-03-13T14:55:00\", \"2011-03-13T14:55:00\", \"2011-03-13T14:55:00\", \"2011-03-13T14:55:00\", \"2011-03-13T14:55:00\", \"2011-03-13T14:55:00\", \"2011-03-13T14:55:00\", \"2011-03-14T11:38:00\", \"2011-03-14T11:38:00\", \"2011-03-14T11:38:00\", \"2011-03-14T11:38:00\", \"2011-03-14T11:38:00\", \"2011-03-14T11:38:00\", \"2011-03-14T11:38:00\", \"2011-03-14T11:38:00\", \"2011-03-14T11:38:00\", \"2011-03-14T11:38:00\", \"2011-03-14T11:38:00\", \"2011-03-14T11:38:00\", \"2011-03-14T11:38:00\", \"2011-03-14T11:38:00\", \"2011-03-14T11:38:00\", \"2011-03-14T11:38:00\", \"2011-03-14T11:38:00\", \"2011-03-14T11:38:00\", \"2011-03-14T11:38:00\", \"2011-03-14T11:38:00\", \"2011-03-15T16:39:00\", \"2011-03-15T16:39:00\", \"2011-03-15T16:39:00\", \"2011-03-15T16:39:00\", \"2011-03-15T16:39:00\", \"2011-03-15T16:39:00\", \"2011-03-15T16:39:00\", \"2011-03-15T16:39:00\", \"2011-03-15T16:39:00\", \"2011-03-15T16:39:00\", \"2011-03-15T16:39:00\", \"2011-03-15T16:39:00\", \"2011-03-15T16:39:00\", \"2011-03-15T16:39:00\", \"2011-03-15T16:39:00\", \"2011-03-15T16:39:00\", \"2011-03-15T16:39:00\", \"2011-03-15T16:39:00\", \"2011-03-15T16:39:00\", \"2011-03-15T16:39:00\", \"2011-03-15T16:39:00\", \"2011-03-15T16:39:00\", \"2011-03-15T16:39:00\", \"2011-03-15T16:39:00\", \"2011-03-15T16:39:00\", \"2011-03-15T16:39:00\", \"2011-03-15T16:39:00\", \"2011-03-15T16:39:00\", \"2011-03-16T14:37:00\", \"2011-03-16T14:37:00\", \"2011-03-16T14:37:00\", \"2011-03-16T14:37:00\", \"2011-03-16T14:37:00\", \"2011-03-16T14:37:00\", \"2011-03-16T14:37:00\", \"2011-03-16T15:17:00\", \"2011-03-16T15:17:00\", \"2011-03-16T15:17:00\", \"2011-03-16T15:17:00\", \"2011-03-16T15:17:00\", \"2011-03-16T15:17:00\", \"2011-03-16T15:17:00\", \"2011-03-16T15:17:00\", \"2011-03-20T15:58:00\", \"2011-03-20T15:58:00\", \"2011-03-20T15:58:00\", \"2011-03-20T15:58:00\", \"2011-03-20T15:58:00\", \"2011-03-20T15:58:00\", \"2011-03-20T15:58:00\", \"2011-03-20T15:58:00\", \"2011-03-20T15:58:00\", \"2011-03-20T15:58:00\", \"2011-03-20T15:58:00\", \"2011-03-20T15:58:00\", \"2011-03-20T15:58:00\", \"2011-03-20T15:58:00\", \"2011-03-21T12:42:00\", \"2011-03-21T12:42:00\", \"2011-03-21T12:42:00\", \"2011-03-21T12:42:00\", \"2011-03-21T12:42:00\", \"2011-03-21T12:42:00\", \"2011-03-21T12:42:00\", \"2011-03-21T12:42:00\", \"2011-03-21T12:42:00\", \"2011-03-21T12:42:00\", \"2011-03-21T12:42:00\", \"2011-03-21T12:42:00\", \"2011-03-21T12:42:00\", \"2011-03-21T12:42:00\", \"2011-03-21T12:42:00\", \"2011-03-21T12:42:00\", \"2011-03-21T12:42:00\", \"2011-03-21T12:42:00\", \"2011-03-21T12:42:00\", \"2011-03-21T12:42:00\", \"2011-03-21T12:42:00\", \"2011-03-21T12:42:00\", \"2011-03-21T12:42:00\", \"2011-03-21T12:42:00\", \"2011-03-21T12:42:00\", \"2011-03-21T12:42:00\", \"2011-03-21T12:42:00\", \"2011-03-21T12:42:00\", \"2011-03-21T12:42:00\", \"2011-03-21T12:42:00\", \"2011-03-21T12:42:00\", \"2011-03-21T12:42:00\", \"2011-03-21T12:42:00\", \"2011-03-21T12:42:00\", \"2011-03-21T12:42:00\", \"2011-03-21T12:42:00\", \"2011-03-21T12:42:00\", \"2011-03-21T12:42:00\", \"2011-03-21T12:42:00\", \"2011-03-21T12:42:00\", \"2011-03-21T12:44:00\", \"2011-03-21T12:44:00\", \"2011-03-21T12:44:00\", \"2011-03-21T12:44:00\", \"2011-03-22T11:28:00\", \"2011-03-22T11:28:00\", \"2011-03-22T11:28:00\", \"2011-03-22T11:28:00\", \"2011-03-22T11:28:00\", \"2011-03-22T11:28:00\", \"2011-03-22T11:28:00\", \"2011-03-22T11:28:00\", \"2011-03-22T11:28:00\", \"2011-03-22T11:28:00\", \"2011-03-22T11:28:00\", \"2011-03-22T11:28:00\", \"2011-03-22T11:28:00\", \"2011-03-22T11:28:00\", \"2011-03-22T11:28:00\", \"2011-03-22T11:28:00\", \"2011-03-22T11:28:00\", \"2011-03-22T11:28:00\", \"2011-03-22T11:28:00\", \"2011-03-22T11:28:00\", \"2011-03-22T11:28:00\", \"2011-03-22T11:28:00\", \"2011-03-22T11:28:00\", \"2011-03-22T11:28:00\", \"2011-03-22T11:28:00\", \"2011-03-22T11:28:00\", \"2011-03-22T11:28:00\", \"2011-03-22T11:28:00\", \"2011-03-22T11:28:00\", \"2011-03-22T11:28:00\", \"2011-03-23T12:06:00\", \"2011-03-23T12:06:00\", \"2011-03-23T12:06:00\", \"2011-03-23T12:06:00\", \"2011-03-23T12:06:00\", \"2011-03-23T12:06:00\", \"2011-03-23T12:06:00\", \"2011-03-23T12:06:00\", \"2011-03-23T12:06:00\", \"2011-03-23T13:33:00\", \"2011-03-23T13:33:00\", \"2011-03-23T13:33:00\", \"2011-03-23T13:33:00\", \"2011-03-23T13:33:00\", \"2011-03-23T13:33:00\", \"2011-03-23T13:33:00\", \"2011-03-23T13:33:00\", \"2011-03-23T13:33:00\", \"2011-03-23T13:33:00\", \"2011-03-23T13:33:00\", \"2011-03-23T13:33:00\", \"2011-03-23T13:33:00\", \"2011-03-23T13:33:00\", \"2011-03-23T13:33:00\", \"2011-03-23T13:33:00\", \"2011-03-23T13:33:00\", \"2011-03-23T13:33:00\", \"2011-03-23T13:33:00\", \"2011-03-23T13:33:00\", \"2011-03-23T13:33:00\", \"2011-03-23T13:33:00\", \"2011-03-23T13:33:00\", \"2011-03-23T13:33:00\", \"2011-03-23T13:33:00\", \"2011-03-23T13:33:00\", \"2011-03-23T13:33:00\", \"2011-03-23T13:33:00\", \"2011-03-23T13:33:00\", \"2011-03-23T13:33:00\", \"2011-03-23T13:33:00\", \"2011-03-23T13:33:00\", \"2011-03-23T13:33:00\", \"2011-03-23T13:33:00\", \"2011-03-23T13:39:00\", \"2011-03-23T13:39:00\", \"2011-03-23T13:39:00\", \"2011-03-23T13:39:00\", \"2011-03-23T13:39:00\", \"2011-03-23T13:39:00\", \"2011-03-23T13:39:00\", \"2011-03-23T13:39:00\", \"2011-03-23T14:55:00\", \"2011-03-23T14:55:00\", \"2011-03-23T14:55:00\", \"2011-03-23T14:55:00\", \"2011-03-23T14:55:00\", \"2011-03-23T14:55:00\", \"2011-03-23T14:55:00\", \"2011-03-23T14:55:00\", \"2011-03-23T14:55:00\", \"2011-03-23T14:55:00\", \"2011-03-23T14:55:00\", \"2011-03-23T14:55:00\", \"2011-03-23T14:55:00\", \"2011-03-23T14:55:00\", \"2011-03-23T14:55:00\", \"2011-03-23T14:55:00\", \"2011-03-23T14:55:00\", \"2011-03-23T14:55:00\", \"2011-03-23T14:55:00\", \"2011-03-23T14:55:00\", \"2011-03-25T10:19:00\", \"2011-03-25T10:19:00\", \"2011-03-25T10:19:00\", \"2011-03-25T10:19:00\", \"2011-03-25T10:19:00\", \"2011-03-25T10:19:00\", \"2011-03-25T10:19:00\", \"2011-03-25T10:19:00\", \"2011-03-25T10:19:00\", \"2011-03-25T10:19:00\", \"2011-03-25T10:19:00\", \"2011-03-25T10:19:00\", \"2011-03-25T10:19:00\", \"2011-03-25T10:19:00\", \"2011-03-25T10:19:00\", \"2011-03-25T10:19:00\", \"2011-03-25T10:19:00\", \"2011-03-25T10:19:00\", \"2011-03-25T10:19:00\", \"2011-03-25T10:19:00\", \"2011-03-25T10:19:00\", \"2011-03-25T10:19:00\", \"2011-03-27T13:07:00\", \"2011-03-27T13:07:00\", \"2011-03-27T13:07:00\", \"2011-03-27T13:07:00\", \"2011-03-27T13:07:00\", \"2011-03-27T13:07:00\", \"2011-03-27T13:07:00\", \"2011-03-28T10:15:00\", \"2011-03-28T10:15:00\", \"2011-03-28T10:15:00\", \"2011-03-28T10:15:00\", \"2011-03-28T10:15:00\", \"2011-03-28T10:15:00\", \"2011-03-28T10:15:00\", \"2011-03-28T10:15:00\", \"2011-03-28T10:15:00\", \"2011-03-28T10:15:00\", \"2011-03-28T10:15:00\", \"2011-03-28T10:15:00\", \"2011-03-28T10:15:00\", \"2011-03-28T10:15:00\", \"2011-03-28T10:15:00\", \"2011-03-28T10:15:00\", \"2011-03-28T10:15:00\", \"2011-03-28T10:15:00\", \"2011-03-28T10:15:00\", \"2011-03-28T10:15:00\", \"2011-03-28T10:15:00\", \"2011-03-28T10:15:00\", \"2011-03-28T10:15:00\", \"2011-03-28T10:15:00\", \"2011-03-28T10:15:00\", \"2011-03-28T10:15:00\", \"2011-03-28T10:15:00\", \"2011-03-28T10:15:00\", \"2011-03-28T10:15:00\", \"2011-03-28T10:15:00\", \"2011-03-28T10:15:00\", \"2011-03-28T10:15:00\", \"2011-03-28T10:15:00\", \"2011-03-28T10:15:00\", \"2011-03-28T10:15:00\", \"2011-03-28T10:15:00\", \"2011-03-28T10:15:00\", \"2011-03-28T10:15:00\", \"2011-03-28T10:15:00\", \"2011-03-28T10:15:00\", \"2011-03-28T10:15:00\", \"2011-03-28T10:15:00\", \"2011-03-28T10:15:00\", \"2011-03-28T10:15:00\", \"2011-03-28T10:15:00\", \"2011-03-28T10:15:00\", \"2011-03-28T10:15:00\", \"2011-03-28T10:15:00\", \"2011-03-28T10:15:00\", \"2011-03-28T10:15:00\", \"2011-03-28T10:15:00\", \"2011-03-28T10:15:00\", \"2011-03-28T10:15:00\", \"2011-03-28T10:15:00\", \"2011-03-28T10:15:00\", \"2011-03-28T10:15:00\", \"2011-03-28T10:15:00\", \"2011-03-28T10:15:00\", \"2011-03-28T10:15:00\", \"2011-03-28T10:15:00\", \"2011-03-28T10:15:00\", \"2011-03-28T10:15:00\", \"2011-03-28T10:15:00\", \"2011-03-28T10:15:00\", \"2011-03-28T10:15:00\", \"2011-03-28T10:15:00\", \"2011-03-28T10:15:00\", \"2011-03-28T10:15:00\", \"2011-03-31T10:27:00\", \"2011-03-31T10:27:00\", \"2011-03-31T10:27:00\", \"2011-03-31T10:27:00\", \"2011-03-31T10:27:00\", \"2011-03-31T10:27:00\", \"2011-03-31T10:27:00\", \"2011-03-31T10:27:00\", \"2011-03-31T10:27:00\", \"2011-03-31T10:27:00\", \"2011-03-31T10:27:00\", \"2011-03-31T10:27:00\", \"2011-03-31T10:27:00\", \"2011-03-31T10:27:00\", \"2011-03-31T10:27:00\", \"2011-03-31T10:27:00\", \"2011-03-31T10:27:00\", \"2011-03-31T10:27:00\", \"2011-03-31T10:27:00\", \"2011-03-31T10:27:00\", \"2011-03-31T10:27:00\", \"2011-03-31T10:27:00\", \"2011-03-31T10:27:00\", \"2011-03-31T10:27:00\", \"2011-03-31T10:27:00\", \"2011-03-31T10:27:00\", \"2011-03-31T10:27:00\", \"2011-03-31T10:27:00\", \"2011-03-31T10:27:00\", \"2011-03-31T10:27:00\", \"2011-03-31T10:27:00\", \"2011-03-31T10:27:00\", \"2011-03-31T10:27:00\", \"2011-03-31T10:29:00\", \"2011-03-31T10:29:00\", \"2011-03-31T10:29:00\", \"2011-03-31T10:29:00\", \"2011-03-31T13:40:00\", \"2011-03-31T13:40:00\", \"2011-03-31T13:40:00\", \"2011-03-31T13:40:00\", \"2011-03-31T13:40:00\", \"2011-03-31T13:40:00\", \"2011-03-31T13:40:00\", \"2011-03-31T13:40:00\", \"2011-03-31T13:40:00\", \"2011-03-31T13:40:00\", \"2011-03-31T13:40:00\", \"2011-03-31T13:40:00\", \"2011-03-31T13:40:00\", \"2011-03-31T13:40:00\", \"2011-03-31T13:40:00\", \"2011-03-31T13:40:00\", \"2011-03-31T13:40:00\", \"2011-03-31T13:40:00\", \"2011-03-31T13:40:00\", \"2011-03-31T13:40:00\", \"2011-03-31T13:40:00\", \"2011-03-31T13:40:00\", \"2011-03-31T13:40:00\", \"2011-03-31T13:40:00\", \"2011-03-31T13:40:00\", \"2011-03-31T13:40:00\", \"2011-03-31T13:40:00\", \"2011-03-31T13:40:00\", \"2011-03-31T13:40:00\", \"2011-03-31T13:40:00\", \"2011-03-31T13:40:00\", \"2011-03-31T13:40:00\", \"2011-03-31T13:40:00\", \"2011-03-31T13:40:00\", \"2011-03-31T13:40:00\", \"2011-04-01T09:19:00\", \"2011-04-01T09:19:00\", \"2011-04-01T09:19:00\", \"2011-04-01T09:19:00\", \"2011-04-01T09:19:00\", \"2011-04-01T09:19:00\", \"2011-04-01T09:19:00\", \"2011-04-01T09:19:00\", \"2011-04-01T09:19:00\", \"2011-04-01T11:10:00\", \"2011-04-01T11:10:00\", \"2011-04-01T11:10:00\", \"2011-04-04T11:18:00\", \"2011-04-04T11:18:00\", \"2011-04-04T11:18:00\", \"2011-04-04T11:18:00\", \"2011-04-04T11:18:00\", \"2011-04-04T11:18:00\", \"2011-04-04T11:18:00\", \"2011-04-04T11:18:00\", \"2011-04-04T11:18:00\", \"2011-04-04T11:18:00\", \"2011-04-04T11:18:00\", \"2011-04-04T11:18:00\", \"2011-04-04T11:18:00\", \"2011-04-04T11:18:00\", \"2011-04-04T11:18:00\", \"2011-04-04T11:18:00\", \"2011-04-04T11:18:00\", \"2011-04-04T11:18:00\", \"2011-04-04T11:18:00\", \"2011-04-04T11:18:00\", \"2011-04-04T11:18:00\", \"2011-04-04T11:18:00\", \"2011-04-04T11:18:00\", \"2011-04-04T11:18:00\", \"2011-04-04T11:18:00\", \"2011-04-04T11:18:00\", \"2011-04-07T13:07:00\", \"2011-04-07T13:07:00\", \"2011-04-07T13:07:00\", \"2011-04-07T13:07:00\", \"2011-04-07T13:07:00\", \"2011-04-07T13:07:00\", \"2011-04-07T13:07:00\", \"2011-04-07T13:07:00\", \"2011-04-07T13:07:00\", \"2011-04-07T13:07:00\", \"2011-04-07T13:07:00\", \"2011-04-07T13:07:00\", \"2011-04-07T13:07:00\", \"2011-04-07T13:07:00\", \"2011-04-07T13:07:00\", \"2011-04-07T13:07:00\", \"2011-04-07T13:07:00\", \"2011-04-07T13:07:00\", \"2011-04-07T13:07:00\", \"2011-04-07T13:07:00\", \"2011-04-07T13:07:00\", \"2011-04-07T13:07:00\", \"2011-04-07T13:07:00\", \"2011-04-14T14:15:00\", \"2011-04-14T14:15:00\", \"2011-04-14T14:15:00\", \"2011-04-14T14:15:00\", \"2011-04-14T14:15:00\", \"2011-04-14T14:15:00\", \"2011-04-14T14:15:00\", \"2011-04-14T14:15:00\", \"2011-04-14T14:15:00\", \"2011-04-14T14:15:00\", \"2011-04-14T14:15:00\", \"2011-04-14T14:15:00\", \"2011-04-14T14:15:00\", \"2011-04-14T14:15:00\", \"2011-04-14T14:15:00\", \"2011-04-14T14:15:00\", \"2011-04-14T14:15:00\", \"2011-04-14T14:15:00\", \"2011-04-14T14:15:00\", \"2011-04-14T14:15:00\", \"2011-04-14T14:15:00\", \"2011-04-14T14:15:00\", \"2011-04-14T14:15:00\", \"2011-04-14T14:15:00\", \"2011-04-14T14:15:00\", \"2011-04-14T14:15:00\", \"2011-04-14T14:15:00\", \"2011-04-14T14:15:00\", \"2011-04-14T14:15:00\", \"2011-04-14T14:15:00\", \"2011-04-17T11:21:00\", \"2011-04-17T11:21:00\", \"2011-04-17T11:21:00\", \"2011-04-17T11:21:00\", \"2011-04-17T11:21:00\", \"2011-04-17T11:21:00\", \"2011-04-17T11:21:00\", \"2011-04-17T11:21:00\", \"2011-04-17T11:21:00\", \"2011-04-17T11:21:00\", \"2011-04-17T11:21:00\", \"2011-04-17T11:21:00\", \"2011-04-17T11:21:00\", \"2011-04-17T11:21:00\", \"2011-04-17T11:21:00\", \"2011-04-17T11:21:00\", \"2011-04-17T11:21:00\", \"2011-04-17T11:21:00\", \"2011-04-17T11:21:00\", \"2011-04-17T11:21:00\", \"2011-04-17T11:21:00\", \"2011-04-17T11:21:00\", \"2011-04-17T11:21:00\", \"2011-04-17T11:21:00\", \"2011-04-17T11:21:00\", \"2011-04-17T11:21:00\", \"2011-04-17T15:33:00\", \"2011-04-17T15:33:00\", \"2011-04-17T15:33:00\", \"2011-04-17T15:33:00\", \"2011-04-20T09:20:00\", \"2011-04-20T09:20:00\", \"2011-04-20T09:20:00\", \"2011-04-20T09:20:00\", \"2011-04-20T09:20:00\", \"2011-04-20T09:20:00\", \"2011-04-20T09:20:00\", \"2011-04-20T09:20:00\", \"2011-04-20T09:20:00\", \"2011-04-20T09:20:00\", \"2011-04-20T09:20:00\", \"2011-04-20T09:20:00\", \"2011-04-20T09:20:00\", \"2011-04-20T09:20:00\", \"2011-04-20T09:20:00\", \"2011-04-20T09:20:00\", \"2011-04-20T09:20:00\", \"2011-04-21T08:54:00\", \"2011-04-21T08:54:00\", \"2011-04-21T08:54:00\", \"2011-04-21T08:54:00\", \"2011-04-21T08:54:00\", \"2011-04-21T08:54:00\", \"2011-04-21T08:54:00\", \"2011-04-21T08:54:00\", \"2011-04-21T08:54:00\", \"2011-04-21T08:54:00\", \"2011-04-21T08:54:00\", \"2011-04-21T08:54:00\", \"2011-04-21T08:54:00\", \"2011-04-21T08:54:00\", \"2011-04-21T08:54:00\", \"2011-04-21T08:54:00\", \"2011-04-21T08:54:00\", \"2011-04-21T08:54:00\", \"2011-04-21T08:54:00\", \"2011-04-21T08:54:00\", \"2011-04-21T08:54:00\", \"2011-04-21T08:54:00\", \"2011-04-21T08:54:00\", \"2011-04-21T10:16:00\", \"2011-04-21T10:16:00\", \"2011-04-21T10:16:00\", \"2011-04-21T10:16:00\", \"2011-04-21T10:16:00\", \"2011-04-21T10:16:00\", \"2011-04-21T10:16:00\", \"2011-04-21T10:16:00\", \"2011-04-21T10:16:00\", \"2011-04-21T10:16:00\", \"2011-04-21T10:16:00\", \"2011-04-21T10:16:00\", \"2011-04-21T10:16:00\", \"2011-04-21T10:16:00\", \"2011-04-21T10:16:00\", \"2011-04-21T10:16:00\", \"2011-04-21T10:16:00\", \"2011-04-21T10:16:00\", \"2011-04-21T10:16:00\", \"2011-04-21T10:16:00\", \"2011-04-21T10:16:00\", \"2011-04-26T15:52:00\", \"2011-04-26T15:52:00\", \"2011-04-26T15:52:00\", \"2011-04-26T15:52:00\", \"2011-04-26T15:52:00\", \"2011-04-26T15:52:00\", \"2011-04-26T15:52:00\", \"2011-04-26T15:52:00\", \"2011-04-26T15:52:00\", \"2011-04-26T15:52:00\", \"2011-04-26T15:52:00\", \"2011-04-26T15:52:00\", \"2011-04-26T15:52:00\", \"2011-04-26T15:52:00\", \"2011-04-26T15:52:00\", \"2011-04-26T15:52:00\", \"2011-04-26T15:52:00\", \"2011-04-26T15:52:00\", \"2011-04-26T15:52:00\", \"2011-04-26T15:52:00\", \"2011-04-26T15:52:00\", \"2011-04-26T15:52:00\", \"2011-04-26T15:52:00\", \"2011-04-26T15:52:00\", \"2011-04-26T15:52:00\", \"2011-04-26T15:52:00\", \"2011-04-26T15:52:00\", \"2011-04-26T15:52:00\", \"2011-04-28T11:45:00\", \"2011-04-28T11:45:00\", \"2011-04-28T11:45:00\", \"2011-04-28T11:45:00\", \"2011-04-28T11:45:00\", \"2011-04-28T11:45:00\", \"2011-04-28T11:45:00\", \"2011-05-03T08:40:00\", \"2011-05-03T08:40:00\", \"2011-05-03T08:40:00\", \"2011-05-03T08:40:00\", \"2011-05-03T08:40:00\", \"2011-05-03T08:40:00\", \"2011-05-03T08:40:00\", \"2011-05-03T08:40:00\", \"2011-05-03T08:40:00\", \"2011-05-03T08:40:00\", \"2011-05-03T08:40:00\", \"2011-05-03T08:40:00\", \"2011-05-03T08:40:00\", \"2011-05-03T08:40:00\", \"2011-05-03T08:40:00\", \"2011-05-03T08:40:00\", \"2011-05-03T08:40:00\", \"2011-05-03T08:40:00\", \"2011-05-03T08:40:00\", \"2011-05-03T08:40:00\", \"2011-05-03T09:33:00\", \"2011-05-03T09:33:00\", \"2011-05-03T09:33:00\", \"2011-05-03T09:33:00\", \"2011-05-03T09:33:00\", \"2011-05-03T09:33:00\", \"2011-05-03T09:33:00\", \"2011-05-03T09:33:00\", \"2011-05-03T09:33:00\", \"2011-05-03T09:33:00\", \"2011-05-03T09:33:00\", \"2011-05-03T09:33:00\", \"2011-05-03T09:33:00\", \"2011-05-03T09:33:00\", \"2011-05-03T09:33:00\", \"2011-05-03T09:33:00\", \"2011-05-03T09:33:00\", \"2011-05-03T09:33:00\", \"2011-05-03T09:33:00\", \"2011-05-03T09:33:00\", \"2011-05-03T09:34:00\", \"2011-05-03T12:02:00\", \"2011-05-03T12:02:00\", \"2011-05-03T12:02:00\", \"2011-05-03T12:03:00\", \"2011-05-03T12:03:00\", \"2011-05-03T12:03:00\", \"2011-05-03T12:03:00\", \"2011-05-05T09:29:00\", \"2011-05-05T09:29:00\", \"2011-05-05T09:29:00\", \"2011-05-05T09:29:00\", \"2011-05-05T09:29:00\", \"2011-05-05T09:29:00\", \"2011-05-05T09:29:00\", \"2011-05-05T09:29:00\", \"2011-05-05T09:29:00\", \"2011-05-05T09:29:00\", \"2011-05-08T16:10:00\", \"2011-05-08T16:10:00\", \"2011-05-08T16:10:00\", \"2011-05-08T16:10:00\", \"2011-05-08T16:10:00\", \"2011-05-08T16:10:00\", \"2011-05-08T16:10:00\", \"2011-05-08T16:10:00\", \"2011-05-08T16:10:00\", \"2011-05-08T16:10:00\", \"2011-05-08T16:10:00\", \"2011-05-08T16:10:00\", \"2011-05-08T16:10:00\", \"2011-05-08T16:10:00\", \"2011-05-08T16:10:00\", \"2011-05-08T16:10:00\", \"2011-05-08T16:10:00\", \"2011-05-08T16:10:00\", \"2011-05-08T16:10:00\", \"2011-05-08T16:10:00\", \"2011-05-08T16:10:00\", \"2011-05-08T16:10:00\", \"2011-05-08T16:10:00\", \"2011-05-08T16:10:00\", \"2011-05-08T16:10:00\", \"2011-05-08T16:10:00\", \"2011-05-08T16:10:00\", \"2011-05-08T16:10:00\", \"2011-05-08T16:10:00\", \"2011-05-08T16:10:00\", \"2011-05-08T16:10:00\", \"2011-05-08T16:10:00\", \"2011-05-08T16:10:00\", \"2011-05-08T16:10:00\", \"2011-05-08T16:10:00\", \"2011-05-08T16:10:00\", \"2011-05-08T16:10:00\", \"2011-05-08T16:10:00\", \"2011-05-08T16:10:00\", \"2011-05-08T16:10:00\", \"2011-05-08T16:10:00\", \"2011-05-08T16:10:00\", \"2011-05-08T16:10:00\", \"2011-05-08T16:10:00\", \"2011-05-08T16:10:00\", \"2011-05-08T16:10:00\", \"2011-05-08T16:10:00\", \"2011-05-08T16:10:00\", \"2011-05-08T16:10:00\", \"2011-05-08T16:10:00\", \"2011-05-08T16:10:00\", \"2011-05-08T16:10:00\", \"2011-05-08T16:10:00\", \"2011-05-08T16:10:00\", \"2011-05-08T16:10:00\", \"2011-05-08T16:10:00\", \"2011-05-08T16:10:00\", \"2011-05-08T16:10:00\", \"2011-05-08T16:10:00\", \"2011-05-08T16:10:00\", \"2011-05-08T16:10:00\", \"2011-05-09T09:47:00\", \"2011-05-09T09:47:00\", \"2011-05-09T09:47:00\", \"2011-05-09T09:47:00\", \"2011-05-09T09:47:00\", \"2011-05-09T09:47:00\", \"2011-05-09T09:47:00\", \"2011-05-09T09:47:00\", \"2011-05-09T09:47:00\", \"2011-05-09T09:47:00\", \"2011-05-09T09:47:00\", \"2011-05-09T09:47:00\", \"2011-05-09T09:47:00\", \"2011-05-09T09:47:00\", \"2011-05-09T09:47:00\", \"2011-05-09T09:47:00\", \"2011-05-09T15:12:00\", \"2011-05-09T15:12:00\", \"2011-05-09T15:12:00\", \"2011-05-09T15:12:00\", \"2011-05-09T15:12:00\", \"2011-05-09T15:12:00\", \"2011-05-09T15:12:00\", \"2011-05-09T15:12:00\", \"2011-05-09T15:12:00\", \"2011-05-10T12:55:00\", \"2011-05-10T12:55:00\", \"2011-05-10T12:55:00\", \"2011-05-10T12:55:00\", \"2011-05-10T12:55:00\", \"2011-05-10T12:55:00\", \"2011-05-10T12:55:00\", \"2011-05-10T12:55:00\", \"2011-05-10T12:55:00\", \"2011-05-10T12:55:00\", \"2011-05-10T12:55:00\", \"2011-05-10T12:55:00\", \"2011-05-10T12:55:00\", \"2011-05-10T12:55:00\", \"2011-05-10T12:55:00\", \"2011-05-10T12:55:00\", \"2011-05-10T12:55:00\", \"2011-05-10T12:55:00\", \"2011-05-10T12:55:00\", \"2011-05-10T12:55:00\", \"2011-05-10T12:55:00\", \"2011-05-10T12:55:00\", \"2011-05-10T12:55:00\", \"2011-05-10T12:55:00\", \"2011-05-10T12:55:00\", \"2011-05-10T12:55:00\", \"2011-05-10T12:55:00\", \"2011-05-10T12:55:00\", \"2011-05-10T12:55:00\", \"2011-05-11T13:20:00\", \"2011-05-11T13:20:00\", \"2011-05-11T13:20:00\", \"2011-05-11T13:20:00\", \"2011-05-11T13:20:00\", \"2011-05-11T13:20:00\", \"2011-05-11T13:20:00\", \"2011-05-11T13:20:00\", \"2011-05-11T13:20:00\", \"2011-05-11T13:20:00\", \"2011-05-11T13:20:00\", \"2011-05-11T13:20:00\", \"2011-05-11T13:20:00\", \"2011-05-11T13:20:00\", \"2011-05-11T13:20:00\", \"2011-05-11T13:20:00\", \"2011-05-11T13:20:00\", \"2011-05-11T13:20:00\", \"2011-05-11T13:20:00\", \"2011-05-11T13:20:00\", \"2011-05-11T13:20:00\", \"2011-05-11T13:20:00\", \"2011-05-11T13:20:00\", \"2011-05-11T13:20:00\", \"2011-05-11T13:20:00\", \"2011-05-11T13:20:00\", \"2011-05-11T13:20:00\", \"2011-05-11T13:20:00\", \"2011-05-11T13:20:00\", \"2011-05-11T13:20:00\", \"2011-05-11T13:20:00\", \"2011-05-11T13:20:00\", \"2011-05-11T13:20:00\", \"2011-05-11T13:20:00\", \"2011-05-11T13:20:00\", \"2011-05-11T13:20:00\", \"2011-05-11T13:20:00\", \"2011-05-11T13:20:00\", \"2011-05-11T13:20:00\", \"2011-05-11T13:20:00\", \"2011-05-11T13:20:00\", \"2011-05-11T13:20:00\", \"2011-05-11T13:20:00\", \"2011-05-11T13:20:00\", \"2011-05-11T13:20:00\", \"2011-05-11T13:20:00\", \"2011-05-11T13:20:00\", \"2011-05-11T13:20:00\", \"2011-05-11T13:20:00\", \"2011-05-11T13:20:00\", \"2011-05-11T13:20:00\", \"2011-05-11T13:20:00\", \"2011-05-11T13:20:00\", \"2011-05-11T13:20:00\", \"2011-05-11T13:20:00\", \"2011-05-11T13:20:00\", \"2011-05-11T13:20:00\", \"2011-05-11T13:20:00\", \"2011-05-11T13:20:00\", \"2011-05-11T13:20:00\", \"2011-05-11T13:20:00\", \"2011-05-11T13:20:00\", \"2011-05-11T13:20:00\", \"2011-05-11T13:20:00\", \"2011-05-11T13:20:00\", \"2011-05-11T13:20:00\", \"2011-05-11T13:20:00\", \"2011-05-11T13:20:00\", \"2011-05-11T13:20:00\", \"2011-05-11T13:20:00\", \"2011-05-11T13:20:00\", \"2011-05-11T13:20:00\", \"2011-05-11T13:20:00\", \"2011-05-11T13:20:00\", \"2011-05-11T13:20:00\", \"2011-05-11T15:07:00\", \"2011-05-11T15:07:00\", \"2011-05-11T15:07:00\", \"2011-05-11T15:07:00\", \"2011-05-11T15:07:00\", \"2011-05-11T15:07:00\", \"2011-05-11T15:07:00\", \"2011-05-11T15:07:00\", \"2011-05-11T15:07:00\", \"2011-05-11T15:07:00\", \"2011-05-11T15:07:00\", \"2011-05-11T15:07:00\", \"2011-05-11T15:07:00\", \"2011-05-11T15:07:00\", \"2011-05-11T15:07:00\", \"2011-05-11T15:07:00\", \"2011-05-11T15:07:00\", \"2011-05-11T15:07:00\", \"2011-05-11T15:07:00\", \"2011-05-11T15:07:00\", \"2011-05-11T15:07:00\", \"2011-05-11T15:07:00\", \"2011-05-11T15:07:00\", \"2011-05-12T11:50:00\", \"2011-05-12T11:50:00\", \"2011-05-12T11:50:00\", \"2011-05-12T11:50:00\", \"2011-05-12T11:50:00\", \"2011-05-12T11:50:00\", \"2011-05-12T11:50:00\", \"2011-05-12T11:50:00\", \"2011-05-12T11:50:00\", \"2011-05-12T11:50:00\", \"2011-05-12T11:50:00\", \"2011-05-13T09:24:00\", \"2011-05-13T09:24:00\", \"2011-05-13T09:24:00\", \"2011-05-13T09:24:00\", \"2011-05-13T09:24:00\", \"2011-05-13T09:24:00\", \"2011-05-13T09:24:00\", \"2011-05-13T09:24:00\", \"2011-05-13T09:24:00\", \"2011-05-13T09:24:00\", \"2011-05-13T09:24:00\", \"2011-05-13T09:24:00\", \"2011-05-13T09:24:00\", \"2011-05-13T09:24:00\", \"2011-05-13T09:24:00\", \"2011-05-13T09:24:00\", \"2011-05-13T09:24:00\", \"2011-05-13T09:24:00\", \"2011-05-13T09:24:00\", \"2011-05-13T09:24:00\", \"2011-05-13T09:24:00\", \"2011-05-13T09:24:00\", \"2011-05-13T09:24:00\", \"2011-05-13T13:15:00\", \"2011-05-13T13:15:00\", \"2011-05-13T13:15:00\", \"2011-05-13T13:15:00\", \"2011-05-13T13:15:00\", \"2011-05-13T13:15:00\", \"2011-05-13T15:48:00\", \"2011-05-13T15:48:00\", \"2011-05-13T15:48:00\", \"2011-05-13T15:48:00\", \"2011-05-13T15:48:00\", \"2011-05-13T15:48:00\", \"2011-05-13T15:48:00\", \"2011-05-13T15:48:00\", \"2011-05-13T15:48:00\", \"2011-05-13T15:48:00\", \"2011-05-13T15:48:00\", \"2011-05-13T15:48:00\", \"2011-05-13T15:48:00\", \"2011-05-13T15:48:00\", \"2011-05-13T15:48:00\", \"2011-05-13T15:48:00\", \"2011-05-13T15:48:00\", \"2011-05-13T15:48:00\", \"2011-05-13T15:48:00\", \"2011-05-13T15:48:00\", \"2011-05-13T15:48:00\", \"2011-05-13T15:48:00\", \"2011-05-15T13:45:00\", \"2011-05-15T13:45:00\", \"2011-05-15T13:45:00\", \"2011-05-15T13:45:00\", \"2011-05-15T13:45:00\", \"2011-05-15T13:45:00\", \"2011-05-15T13:45:00\", \"2011-05-15T13:45:00\", \"2011-05-15T13:45:00\", \"2011-05-16T09:10:00\", \"2011-05-16T09:10:00\", \"2011-05-16T09:10:00\", \"2011-05-16T09:10:00\", \"2011-05-16T09:10:00\", \"2011-05-16T09:10:00\", \"2011-05-16T09:10:00\", \"2011-05-16T09:10:00\", \"2011-05-16T09:10:00\", \"2011-05-16T09:10:00\", \"2011-05-16T09:10:00\", \"2011-05-16T09:10:00\", \"2011-05-16T09:10:00\", \"2011-05-16T09:10:00\", \"2011-05-16T09:10:00\", \"2011-05-16T09:10:00\", \"2011-05-16T12:04:00\", \"2011-05-16T12:04:00\", \"2011-05-16T12:04:00\", \"2011-05-16T12:04:00\", \"2011-05-16T12:04:00\", \"2011-05-16T12:04:00\", \"2011-05-17T09:28:00\", \"2011-05-17T09:28:00\", \"2011-05-17T09:28:00\", \"2011-05-17T09:28:00\", \"2011-05-17T09:28:00\", \"2011-05-17T09:28:00\", \"2011-05-17T09:28:00\", \"2011-05-17T09:28:00\", \"2011-05-17T09:28:00\", \"2011-05-17T09:28:00\", \"2011-05-17T09:28:00\", \"2011-05-17T09:28:00\", \"2011-05-17T09:28:00\", \"2011-05-17T09:28:00\", \"2011-05-17T09:28:00\", \"2011-05-17T09:28:00\", \"2011-05-17T09:28:00\", \"2011-05-17T09:28:00\", \"2011-05-17T09:28:00\", \"2011-05-17T09:28:00\", \"2011-05-17T09:28:00\", \"2011-05-17T09:28:00\", \"2011-05-17T09:28:00\", \"2011-05-17T09:28:00\", \"2011-05-17T09:28:00\", \"2011-05-17T09:28:00\", \"2011-05-17T09:28:00\", \"2011-05-17T09:28:00\", \"2011-05-17T09:28:00\", \"2011-05-17T09:28:00\", \"2011-05-17T09:28:00\", \"2011-05-17T09:28:00\", \"2011-05-17T09:28:00\", \"2011-05-17T09:28:00\", \"2011-05-17T09:28:00\", \"2011-05-17T09:28:00\", \"2011-05-17T09:28:00\", \"2011-05-17T09:28:00\", \"2011-05-17T09:28:00\", \"2011-05-17T09:28:00\", \"2011-05-17T09:28:00\", \"2011-05-17T09:28:00\", \"2011-05-17T09:28:00\", \"2011-05-17T09:28:00\", \"2011-05-18T09:09:00\", \"2011-05-18T09:09:00\", \"2011-05-18T09:09:00\", \"2011-05-18T09:09:00\", \"2011-05-18T09:09:00\", \"2011-05-18T09:09:00\", \"2011-05-18T09:09:00\", \"2011-05-18T09:09:00\", \"2011-05-18T09:09:00\", \"2011-05-18T09:09:00\", \"2011-05-18T09:09:00\", \"2011-05-18T09:09:00\", \"2011-05-18T09:09:00\", \"2011-05-18T09:09:00\", \"2011-05-18T09:09:00\", \"2011-05-18T10:34:00\", \"2011-05-18T10:34:00\", \"2011-05-18T10:34:00\", \"2011-05-18T10:34:00\", \"2011-05-18T10:34:00\", \"2011-05-18T10:34:00\", \"2011-05-18T10:34:00\", \"2011-05-18T10:34:00\", \"2011-05-18T10:34:00\", \"2011-05-18T12:18:00\", \"2011-05-19T12:10:00\", \"2011-05-19T12:10:00\", \"2011-05-19T12:10:00\", \"2011-05-19T12:10:00\", \"2011-05-19T12:10:00\", \"2011-05-19T12:10:00\", \"2011-05-19T12:10:00\", \"2011-05-19T12:10:00\", \"2011-05-19T12:10:00\", \"2011-05-19T12:10:00\", \"2011-05-19T12:10:00\", \"2011-05-19T12:10:00\", \"2011-05-19T12:10:00\", \"2011-05-19T12:10:00\", \"2011-05-19T12:10:00\", \"2011-05-19T12:10:00\", \"2011-05-19T12:10:00\", \"2011-05-19T12:10:00\", \"2011-05-19T12:10:00\", \"2011-05-19T12:10:00\", \"2011-05-19T12:10:00\", \"2011-05-19T12:10:00\", \"2011-05-19T12:10:00\", \"2011-05-19T12:10:00\", \"2011-05-19T12:10:00\", \"2011-05-19T12:10:00\", \"2011-05-19T12:10:00\", \"2011-05-19T12:10:00\", \"2011-05-19T12:10:00\", \"2011-05-19T12:10:00\", \"2011-05-19T12:10:00\", \"2011-05-19T12:10:00\", \"2011-05-19T12:10:00\", \"2011-05-19T12:29:00\", \"2011-05-19T12:29:00\", \"2011-05-19T12:29:00\", \"2011-05-19T12:29:00\", \"2011-05-19T12:29:00\", \"2011-05-19T12:29:00\", \"2011-05-19T12:29:00\", \"2011-05-19T12:29:00\", \"2011-05-19T12:29:00\", \"2011-05-19T12:29:00\", \"2011-05-19T12:29:00\", \"2011-05-19T12:29:00\", \"2011-05-19T12:29:00\", \"2011-05-19T12:29:00\", \"2011-05-19T12:29:00\", \"2011-05-19T12:29:00\", \"2011-05-19T12:29:00\", \"2011-05-19T12:29:00\", \"2011-05-20T11:34:00\", \"2011-05-20T11:34:00\", \"2011-05-20T11:34:00\", \"2011-05-20T11:34:00\", \"2011-05-20T11:34:00\", \"2011-05-20T11:34:00\", \"2011-05-20T11:34:00\", \"2011-05-20T11:34:00\", \"2011-05-20T11:34:00\", \"2011-05-20T11:34:00\", \"2011-05-20T11:34:00\", \"2011-05-20T11:34:00\", \"2011-05-20T11:34:00\", \"2011-05-22T13:01:00\", \"2011-05-22T13:01:00\", \"2011-05-22T13:01:00\", \"2011-05-22T13:01:00\", \"2011-05-22T13:01:00\", \"2011-05-22T13:01:00\", \"2011-05-22T13:01:00\", \"2011-05-22T13:01:00\", \"2011-05-22T13:01:00\", \"2011-05-22T13:01:00\", \"2011-05-22T13:01:00\", \"2011-05-22T13:01:00\", \"2011-05-22T13:01:00\", \"2011-05-22T13:01:00\", \"2011-05-22T13:01:00\", \"2011-05-22T13:01:00\", \"2011-05-22T13:01:00\", \"2011-05-22T13:01:00\", \"2011-05-22T13:01:00\", \"2011-05-22T13:01:00\", \"2011-05-22T13:01:00\", \"2011-05-22T13:01:00\", \"2011-05-22T13:01:00\", \"2011-05-22T13:01:00\", \"2011-05-22T13:01:00\", \"2011-05-22T13:01:00\", \"2011-05-22T13:01:00\", \"2011-05-22T13:01:00\", \"2011-05-22T13:01:00\", \"2011-05-22T13:01:00\", \"2011-05-22T13:01:00\", \"2011-05-22T13:01:00\", \"2011-05-22T13:01:00\", \"2011-05-22T13:01:00\", \"2011-05-22T14:33:00\", \"2011-05-22T14:33:00\", \"2011-05-22T14:33:00\", \"2011-05-22T14:33:00\", \"2011-05-22T14:33:00\", \"2011-05-22T14:33:00\", \"2011-05-22T14:33:00\", \"2011-05-22T14:33:00\", \"2011-05-22T14:33:00\", \"2011-05-23T09:48:00\", \"2011-05-23T09:48:00\", \"2011-05-23T09:48:00\", \"2011-05-23T09:48:00\", \"2011-05-23T09:48:00\", \"2011-05-23T09:48:00\", \"2011-05-23T09:48:00\", \"2011-05-23T09:48:00\", \"2011-05-23T09:48:00\", \"2011-05-23T09:48:00\", \"2011-05-23T09:48:00\", \"2011-05-23T09:48:00\", \"2011-05-23T09:48:00\", \"2011-05-23T09:48:00\", \"2011-05-23T09:48:00\", \"2011-05-23T09:48:00\", \"2011-05-23T09:48:00\", \"2011-05-23T09:48:00\", \"2011-05-23T09:48:00\", \"2011-05-24T09:25:00\", \"2011-05-24T09:25:00\", \"2011-05-24T09:25:00\", \"2011-05-24T09:25:00\", \"2011-05-24T09:25:00\", \"2011-05-24T09:25:00\", \"2011-05-24T09:25:00\", \"2011-05-24T09:25:00\", \"2011-05-24T09:25:00\", \"2011-05-24T09:25:00\", \"2011-05-24T09:25:00\", \"2011-05-24T09:25:00\", \"2011-05-25T10:08:00\", \"2011-05-25T10:08:00\", \"2011-05-25T10:08:00\", \"2011-05-25T10:08:00\", \"2011-05-25T10:08:00\", \"2011-05-25T10:08:00\", \"2011-05-25T10:08:00\", \"2011-05-25T10:08:00\", \"2011-05-25T10:08:00\", \"2011-05-25T10:08:00\", \"2011-05-25T12:44:00\", \"2011-05-25T12:44:00\", \"2011-05-25T12:44:00\", \"2011-05-25T12:44:00\", \"2011-05-25T12:44:00\", \"2011-05-25T12:44:00\", \"2011-05-25T12:44:00\", \"2011-05-25T12:44:00\", \"2011-05-25T12:44:00\", \"2011-05-25T12:44:00\", \"2011-05-25T12:44:00\", \"2011-05-25T12:44:00\", \"2011-05-25T12:44:00\", \"2011-05-25T12:44:00\", \"2011-05-25T12:44:00\", \"2011-05-25T12:44:00\", \"2011-05-25T12:44:00\", \"2011-05-25T12:44:00\", \"2011-05-25T12:44:00\", \"2011-05-25T12:44:00\", \"2011-05-25T12:54:00\", \"2011-05-25T12:54:00\", \"2011-05-25T12:54:00\", \"2011-05-25T12:54:00\", \"2011-05-25T12:54:00\", \"2011-05-25T12:54:00\", \"2011-05-25T12:54:00\", \"2011-05-25T12:54:00\", \"2011-05-25T12:54:00\", \"2011-05-25T12:54:00\", \"2011-05-25T12:54:00\", \"2011-05-25T12:54:00\", \"2011-05-25T12:54:00\", \"2011-05-25T12:54:00\", \"2011-05-25T12:54:00\", \"2011-05-25T12:54:00\", \"2011-05-25T12:54:00\", \"2011-05-25T12:54:00\", \"2011-05-25T12:54:00\", \"2011-05-25T12:54:00\", \"2011-05-25T12:54:00\", \"2011-05-25T12:54:00\", \"2011-05-25T12:54:00\", \"2011-05-25T12:54:00\", \"2011-05-25T12:54:00\", \"2011-05-25T12:54:00\", \"2011-05-25T12:54:00\", \"2011-05-25T12:54:00\", \"2011-05-25T12:54:00\", \"2011-05-26T14:53:00\", \"2011-05-26T14:53:00\", \"2011-05-26T14:53:00\", \"2011-05-26T14:53:00\", \"2011-05-26T14:53:00\", \"2011-05-26T14:53:00\", \"2011-05-26T14:53:00\", \"2011-05-26T14:53:00\", \"2011-05-26T14:53:00\", \"2011-05-26T14:53:00\", \"2011-05-26T14:53:00\", \"2011-05-26T17:16:00\", \"2011-05-26T17:16:00\", \"2011-05-26T17:16:00\", \"2011-05-26T17:16:00\", \"2011-05-26T17:16:00\", \"2011-05-26T17:16:00\", \"2011-05-26T17:16:00\", \"2011-05-26T17:16:00\", \"2011-05-26T17:16:00\", \"2011-05-26T17:16:00\", \"2011-05-26T17:16:00\", \"2011-05-26T17:16:00\", \"2011-05-27T13:49:00\", \"2011-05-27T13:49:00\", \"2011-05-27T13:49:00\", \"2011-05-27T13:49:00\", \"2011-05-27T13:49:00\", \"2011-05-27T13:49:00\", \"2011-05-27T13:49:00\", \"2011-05-27T13:49:00\", \"2011-05-27T13:49:00\", \"2011-05-27T13:49:00\", \"2011-05-27T13:49:00\", \"2011-05-27T13:49:00\", \"2011-05-27T13:49:00\", \"2011-05-27T13:49:00\", \"2011-05-27T13:49:00\", \"2011-05-27T13:49:00\", \"2011-05-27T13:49:00\", \"2011-05-27T13:49:00\", \"2011-05-27T13:49:00\", \"2011-05-27T13:49:00\"], \"xaxis\": \"x\", \"y\": [12.0, 4.0, 6.0, 12.0, 2.0, 6.0, 3.0, 12.0, 12.0, 2.0, 24.0, 12.0, 24.0, 6.0, 12.0, 6.0, 4.0, 6.0, 6.0, 24.0, 24.0, 12.0, 12.0, 2.0, 12.0, 6.0, 24.0, 12.0, 24.0, 10.0, 12.0, 8.0, 6.0, 6.0, 12.0, 12.0, 6.0, 6.0, 12.0, 6.0, 3.0, 12.0, 12.0, 9.0, 4.0, 6.0, 6.0, 12.0, 12.0, 12.0, 3.0, 12.0, 12.0, 12.0, 6.0, 12.0, 6.0, 6.0, 12.0, 12.0, 3.0, 9.0, 6.0, 4.0, 12.0, 8.0, 8.0, 24.0, 6.0, 12.0, 24.0, 12.0, 1.0, 24.0, 1.0, 20.0, 12.0, 12.0, 24.0, 12.0, 12.0, 12.0, 6.0, 24.0, 4.0, 1.0, 1.0, 24.0, 24.0, 24.0, 10.0, 12.0, 1.0, 5.0, 24.0, 12.0, 6.0, 12.0, 2.0, 12.0, 10.0, 6.0, 12.0, 6.0, 6.0, 12.0, 6.0, 3.0, 10.0, 3.0, 4.0, 10.0, 6.0, 1.0, 6.0, 3.0, 60.0, 144.0, 6.0, 12.0, 20.0, 12.0, 18.0, 12.0, 12.0, 12.0, 24.0, 12.0, 16.0, 24.0, 16.0, 4.0, 24.0, 16.0, 12.0, 8.0, 24.0, 3.0, 2.0, 2.0, 6.0, 6.0, 12.0, 12.0, 12.0, 3.0, 6.0, 3.0, 6.0, 6.0, 24.0, 12.0, 12.0, 6.0, 12.0, 3.0, 12.0, 12.0, 3.0, 6.0, 12.0, 12.0, 12.0, 5.0, 8.0, 8.0, 4.0, 6.0, 24.0, 2.0, 1.0, 8.0, 12.0, 4.0, 3.0, 24.0, 28.0, 12.0, 6.0, 24.0, 24.0, 12.0, 24.0, 24.0, 28.0, 6.0, 12.0, 8.0, 30.0, 5.0, 10.0, 3.0, 24.0, 12.0, 8.0, 12.0, 24.0, 24.0, 24.0, 10.0, 12.0, 12.0, 10.0, 3.0, 8.0, 12.0, 8.0, 12.0, 12.0, 24.0, 24.0, 120.0, 576.0, 12.0, 24.0, 9.0, 12.0, 1.0, 12.0, 6.0, 12.0, 12.0, 6.0, 12.0, 2.0, 10.0, 10.0, 10.0, 10.0, 10.0, 10.0, 10.0, 10.0, 24.0, 10.0, 12.0, 1.0, 3.0, 1.0, 2.0, 12.0, 12.0, 24.0, 12.0, 3.0, 36.0, 8.0, 48.0, 6.0, 3.0, 12.0, 12.0, 12.0, 24.0, 12.0, 2.0, 12.0, 24.0, 12.0, 6.0, 6.0, 10.0, 12.0, 6.0, 6.0, 10.0, 4.0, 6.0, 24.0, 2.0, 3.0, 24.0, 6.0, 12.0, 6.0, 10.0, 24.0, 6.0, 12.0, 4.0, 12.0, 12.0, 24.0, 12.0, 2.0, 6.0, 12.0, 6.0, 6.0, 12.0, 24.0, 12.0, 12.0, 12.0, 4.0, 12.0, 4.0, 6.0, 24.0, 10.0, 6.0, 12.0, 12.0, 10.0, 12.0, 6.0, 24.0, 12.0, 10.0, 24.0, 20.0, 4.0, 12.0, 12.0, 6.0, 6.0, 8.0, 48.0, 4.0, 10.0, 12.0, 25.0, 12.0, 12.0, 12.0, 12.0, 10.0, 8.0, 24.0, 12.0, 12.0, 12.0, 24.0, 10.0, 12.0, 8.0, 12.0, 6.0, 6.0, 10.0, 12.0, 3.0, 6.0, 6.0, 12.0, 15.0, 2.0, 6.0, 12.0, 12.0, 10.0, 24.0, 6.0, 12.0, 12.0, 8.0, 12.0, 48.0, 12.0, 12.0, 6.0, 6.0, 6.0, 6.0, 10.0, 10.0, 36.0, 3.0, 10.0, 20.0, 12.0, 24.0, 4.0, 6.0, 6.0, 15.0, 12.0, 12.0, 6.0, 10.0, 12.0, 6.0, 4.0, 12.0, 8.0, 16.0, 25.0, 12.0, 6.0, 12.0, 10.0, 10.0, 12.0, 12.0, 12.0, 12.0, 12.0, 12.0, 12.0, 10.0, 25.0, 25.0, 8.0, 12.0, 12.0, 4.0, 24.0, 6.0, 12.0, 24.0, 8.0, 12.0, 20.0, 20.0, 3.0, 12.0, 24.0, 2.0, 10.0, 6.0, 24.0, 10.0, 12.0, 18.0, 24.0, 12.0, 6.0, 18.0, 24.0, 4.0, 4.0, 12.0, 4.0, 12.0, 12.0, 12.0, 6.0, 6.0, 6.0, 6.0, 8.0, 12.0, 6.0, 8.0, 12.0, 8.0, 3.0, 12.0, 4.0, 2.0, 24.0, 8.0, 6.0, 2.0, 2.0, 8.0, 4.0, 4.0, 6.0, 12.0, 12.0, 12.0, 6.0, 6.0, 10.0, 12.0, 12.0, 12.0, 20.0, 12.0, 12.0, 12.0, 12.0, 12.0, 12.0, 12.0, 10.0, 36.0, 6.0, 10.0, 10.0, 4.0, 4.0, 12.0, 12.0, 6.0, 8.0, 6.0, 12.0, 24.0, 24.0, 12.0, 12.0, 12.0, 6.0, 6.0, 4.0, 12.0, 6.0, 24.0, 6.0, 12.0, 3.0, 12.0, 6.0, 3.0, 6.0, 12.0, 24.0, 3.0, 12.0, 24.0, 6.0, 12.0, 12.0, 6.0, 12.0, 6.0, 12.0, 8.0, 16.0, 6.0, 6.0, 12.0, 6.0, 8.0, 12.0, 4.0, 6.0, 6.0, 4.0, 6.0, 8.0, 3.0, 2.0, 6.0, 18.0, 24.0, 24.0, 6.0, 12.0, 12.0, 24.0, 4.0, 72.0, 36.0, 12.0, 12.0, 96.0, 4.0, 20.0, 12.0, 12.0, 5.0, 2.0, 4.0, 6.0, 2.0, 2.0, 10.0, 5.0, 10.0, 10.0, 4.0, 2.0, 2.0, 4.0, 2.0, 5.0, 2.0, 3.0, 12.0, 10.0, 12.0, 10.0, 10.0, 108.0, 48.0, 120.0, 36.0, 48.0, 12.0, 12.0, 24.0, 48.0, 24.0, 24.0, 12.0, 24.0, 24.0, 24.0, 12.0, 48.0, 48.0, 24.0, 12.0, 36.0, 10.0, 3.0, 10.0, 60.0, 48.0, 12.0, 60.0, 96.0, 96.0, 12.0, 12.0, 12.0, 48.0, 12.0, 30.0, 12.0, 96.0, 10.0, 12.0, 3.0, 3.0, 160.0, 6.0, 12.0, 12.0, 10.0, 8.0, 10.0, 2.0, 6.0, 6.0, 6.0, 24.0, 12.0, 12.0, 12.0, 4.0, 36.0, 24.0, 6.0, 24.0, 10.0, 12.0, 24.0, 15.0, 1.0, 3.0, 2.0, 5.0, 12.0, 6.0, 10.0, 36.0, 6.0, 12.0, 3.0, 10.0, 12.0, 3.0, 9.0, 12.0, 10.0, 15.0, 12.0, 12.0, 12.0, 3.0, 12.0, 6.0, 4.0, 6.0, 10.0, 3.0, 12.0, 6.0, 20.0, 24.0, 12.0, 12.0, 12.0, 24.0, 48.0, 30.0, 24.0, 8.0, 12.0, 12.0, 6.0, 6.0, 6.0, 12.0, 10.0, 8.0, 12.0, 8.0, 12.0, 6.0, 12.0, 8.0, 12.0, 12.0, 12.0, 12.0, 12.0, 12.0, 12.0, 10.0, 12.0, 12.0, 6.0, 6.0, 8.0, 6.0, 8.0, 8.0, 6.0, 6.0, 6.0, 10.0, 12.0, 6.0, 12.0, 24.0, 6.0, 10.0, 12.0, 12.0, 36.0, 6.0, 6.0, 8.0, 6.0, 6.0, 6.0, 12.0, 12.0, 24.0, 6.0, 8.0, 3.0, 10.0, 12.0, 6.0, 6.0, 12.0, 6.0, 8.0, 12.0, 8.0, 12.0, 24.0, 12.0, 6.0, 24.0, 12.0, 24.0, 24.0, 24.0, 24.0, 6.0, 12.0, 8.0, 12.0, 5.0, 2.0, 3.0, 12.0, 25.0, 10.0, 12.0, 12.0, 12.0, 3.0, 12.0, 12.0, 8.0, 10.0, 24.0, 36.0, 6.0, 1.0, 6.0, 12.0, 12.0, 25.0, 72.0, 24.0, 12.0, 108.0, 24.0, 24.0, 24.0, 24.0, 80.0, 24.0, 24.0, 12.0, 4.0, 12.0, 6.0, 6.0, 12.0, 12.0, 12.0, 12.0, 12.0, 8.0, 20.0, 12.0, 24.0, 12.0, 6.0, 12.0, 12.0, 24.0, 24.0, 12.0, 6.0, 12.0, 12.0, 24.0, 36.0, 12.0, 24.0, 24.0, 24.0, 12.0, 12.0, 12.0, 12.0, 12.0, 6.0, 12.0, 24.0, 24.0, 20.0, 24.0, 12.0, 12.0, 12.0, 12.0, 24.0, 24.0, 12.0, 12.0, 16.0, 12.0, 12.0, 20.0, 24.0, 6.0, 12.0, 24.0, 24.0, 10.0, 10.0, 4.0, 10.0, 12.0, 2.0, 10.0, 6.0, 10.0, 4.0, 10.0, 10.0, 5.0, 6.0, 5.0, 6.0, 12.0, 12.0, 96.0, 12.0, 24.0, 2.0, 8.0, 6.0, 12.0, 24.0, 6.0, 24.0, 24.0, 2.0, 6.0, 8.0, 24.0, 6.0, 12.0, 24.0, 12.0, 24.0, 8.0, 12.0, 48.0, 12.0, 12.0, 16.0, 12.0, 6.0, 12.0, 6.0, 24.0, 12.0, 24.0, 12.0, 6.0, 10.0, 2.0, 12.0, 6.0, 12.0, 12.0, 12.0, 8.0, 24.0, 8.0, 4.0, 12.0, 12.0, 6.0, 15.0, 12.0, 12.0, 6.0, 6.0, 12.0, 2.0, 12.0, 6.0, 12.0, 12.0, 4.0, 10.0, 6.0, 12.0, 3.0, 12.0, 6.0, 4.0, 6.0, 3.0, 4.0, 6.0, 10.0, 6.0, 6.0, 6.0, 4.0, 6.0, 8.0, 6.0, 12.0, 12.0, 12.0, 12.0, 25.0, 3.0, 24.0, 6.0, 2.0, 5.0, 12.0, 12.0, 36.0, 12.0, 24.0, 12.0, 12.0, 4.0, 8.0, 12.0, 12.0, 36.0, 12.0, 24.0, 24.0, 12.0, 12.0, 48.0, 24.0, 12.0, 6.0, 24.0, 24.0, 16.0, 36.0, 24.0, 24.0, 10.0, 24.0, 12.0, 18.0, 24.0, 12.0, 10.0, 10.0, 9.0, 6.0, 12.0, 6.0, 12.0, 12.0, 10.0, 24.0, 24.0, 12.0, 6.0, 10.0, 6.0, 12.0, 24.0, 10.0, 6.0, 12.0, 12.0, 12.0, 6.0, 8.0, 24.0, 8.0, 24.0, 12.0, 6.0, 12.0, 2.0, 6.0, 2.0, 6.0, 8.0, 6.0, 6.0, 12.0, 6.0, 10.0, 10.0, 10.0, 10.0, 10.0, 4.0, 12.0, 12.0, 12.0, 24.0, 2.0, 6.0, 24.0, 6.0, 6.0, 12.0, 20.0, 25.0, 24.0, 24.0, 12.0, 24.0, 3.0, 6.0, 12.0, 12.0, 5.0, 12.0, 6.0, 8.0, 3.0, 24.0, 8.0, 8.0, 8.0, 3.0, 8.0, 8.0, 6.0, 6.0, 8.0, 3.0, 4.0, 5.0, 12.0, 6.0, 8.0, 6.0, 8.0, 12.0, 6.0, 8.0, 5.0, 5.0, 8.0, 8.0, 6.0, 5.0, 12.0, 8.0, 8.0, 16.0, 16.0, 24.0, 12.0, 12.0, 12.0, 2.0, 12.0, 12.0, 6.0, 12.0, 6.0, 12.0, 2.0, 24.0, 6.0, 12.0, 24.0, 12.0, 12.0, 12.0, 24.0, 12.0, 12.0, 12.0, 12.0, 6.0, 4.0, 6.0, 24.0, 6.0, 2.0, 4.0, 12.0, 6.0, 4.0, 10.0, 4.0, 3.0, 3.0, 12.0, 12.0, 3.0, 30.0, 12.0, 8.0, 6.0, 6.0, 6.0, 18.0, 24.0, 24.0, 24.0, 36.0, 8.0, 3.0, 24.0, 12.0, 4.0, 36.0, 12.0, 24.0, 24.0, 24.0, 12.0, 6.0, 24.0, 6.0, 12.0, 6.0, 6.0, 12.0, 12.0, 3.0, 6.0, 12.0, 6.0, 24.0, 12.0, 12.0, 12.0, 12.0, 12.0, 12.0, 12.0, 6.0, 2.0, 12.0, 6.0, 2.0, 10.0, 6.0, 36.0, 2.0, 12.0, 8.0, 2.0, 2.0, 12.0, 12.0, 6.0, 10.0, 20.0, 12.0, 12.0, 12.0, 12.0, 4.0, 12.0, 12.0, 12.0, 4.0, 12.0, 6.0, 6.0, 12.0, 6.0, 12.0, 6.0, 8.0, 6.0, 12.0, 36.0, 10.0, 6.0, 24.0, 8.0, 10.0, 12.0, 16.0, 12.0, 8.0, 3.0, 36.0, 10.0, 12.0, 6.0, 1.0, 12.0, 6.0, 3.0, 1.0, 25.0, 8.0, 24.0, 72.0, 48.0, 72.0, 8.0, 24.0, 12.0, 18.0, 36.0, 24.0, 24.0, 24.0, 24.0, 12.0, 1.0, 2.0, 1.0, 1.0, 2.0, 2.0, 6.0, 1.0, 4.0, 3.0, 1.0, 2.0, 1.0, 2.0, 3.0, 2.0, 1.0, 3.0, 1.0, 1.0, 1.0, 6.0, 2.0, 2.0, 2.0, 1.0, 2.0, 1.0, 3.0, 3.0, 1.0, 2.0, 1.0, 4.0, 1.0, 2.0, 6.0, 2.0, 2.0, 1.0, 1.0, 1.0, 1.0, 2.0, 3.0, 3.0, 6.0, 12.0, 4.0, 6.0, 6.0, 4.0, 12.0, 12.0, 12.0, 6.0, 12.0, 6.0, 2.0, 2.0, 4.0, 2.0, 6.0, 12.0, 2.0, 4.0, 2.0, 2.0, 12.0, 4.0, 10.0, 6.0, 12.0, 12.0, 24.0, 24.0, 6.0, 8.0, 6.0, 24.0, 24.0, 8.0, 12.0, 100.0, 12.0, 12.0, 24.0, 12.0, 20.0, 8.0, 12.0, 36.0, 24.0, 24.0, 12.0, 12.0, 24.0, 12.0, 24.0, 20.0, 6.0, 6.0, 36.0, 8.0, 24.0, 12.0, 8.0, 16.0, 60.0, 25.0, 25.0, 24.0, 8.0, 6.0, 24.0, 25.0, 12.0, 64.0, 12.0, 64.0, 24.0, 24.0, 24.0, 24.0, 6.0, 6.0, 12.0, 2.0, 4.0, 4.0, 6.0, 12.0, 3.0, 1.0, 10.0, 6.0, 12.0, 12.0, 4.0, 4.0, 10.0, 4.0, 12.0, 2.0, 4.0, 12.0, 6.0, 12.0, 48.0, 8.0, 6.0, 8.0, 3.0, 4.0, 12.0, 10.0, 2.0, 12.0, 12.0, 12.0, 10.0, 24.0, 24.0, 4.0, 10.0, 10.0, 12.0, 12.0, 2.0, 1.0, 2.0, 6.0, 12.0, 24.0, 10.0, 12.0, 12.0, 12.0, 10.0, 12.0, 10.0, 6.0, 10.0, 24.0, 4.0, 4.0, 24.0, 6.0, 12.0, 6.0, 2.0, 12.0, 2.0, 12.0, 2.0, 10.0, 4.0, 6.0, 12.0, 6.0, 12.0, 12.0, 12.0, 24.0, 24.0, 24.0, 24.0, 6.0, 24.0, 24.0, 24.0, 6.0, 6.0, 24.0, 12.0, 6.0, 12.0, 12.0, 12.0, 12.0, 12.0, 12.0, 12.0, 2.0, 6.0, 12.0, 10.0, 24.0, 24.0, 24.0, 24.0, 24.0, 12.0, 10.0, 12.0, 12.0, 12.0, 12.0, 12.0, 2.0, 12.0, 6.0, 12.0, 36.0, 48.0, 24.0, 16.0, 144.0, 10.0, 10.0, 36.0, 16.0, 10.0, 36.0, 24.0, 24.0, 10.0, 6.0, 24.0, 24.0, 10.0, 48.0, 12.0, 12.0, 12.0, 40.0, 36.0, 12.0, 160.0, 24.0, 6.0, 20.0, 8.0, 24.0, 12.0, 6.0, 60.0, 6.0, 60.0, 96.0, 72.0, 72.0, 100.0, 96.0, 72.0, 24.0, 96.0, 4.0, 60.0, 18.0, 96.0, 72.0, 120.0, 96.0, 60.0, 1.0, 1.0, 1.0, 8.0, 48.0, 200.0, 96.0, 1.0, 36.0, 1.0, 96.0, 108.0, 200.0, 24.0, 8.0, 24.0, 96.0, 96.0, 72.0, 25.0, 12.0, 6.0, 6.0, 3.0, 6.0, 12.0, 6.0, 12.0, 60.0, 60.0, 120.0, 6.0, 2.0, 12.0, 5.0, 3.0, 5.0, 4.0, 12.0, 24.0, 10.0, 10.0, 10.0, 12.0, 6.0, 12.0, 8.0, 6.0, 6.0, 6.0, 12.0, 12.0, 24.0, 6.0, 48.0, 20.0, 12.0, 6.0, 6.0, 25.0, 6.0, 12.0, 25.0, 16.0, 6.0, 6.0, 6.0, 12.0, 6.0, 2.0, 24.0, 1.0, 10.0, 1.0, 10.0, 16.0, 12.0, 12.0, 6.0, 10.0, 12.0, 12.0, 12.0, 10.0, 12.0, 12.0, 4.0, 4.0, 4.0, 10.0, 12.0, 2.0, 3.0, 6.0, 10.0, 24.0, 4.0, 10.0, 6.0, 12.0, 12.0, 12.0, 36.0, 12.0, 1.0, 2.0, 10.0, 8.0, 8.0, 2.0, 12.0, 6.0, 12.0, 24.0, 24.0, 12.0, 6.0, 8.0, 12.0, 10.0, 10.0, 24.0, 48.0, 48.0, 12.0, 12.0, 3.0, 2.0, 24.0, 8.0, 12.0, 12.0, 12.0, 4.0, 12.0, 6.0, 10.0, 2.0, 3.0, 10.0, 4.0, 30.0, 12.0, 20.0, 4.0, 12.0, 4.0, 12.0, 2.0, 2.0, 20.0, 20.0, 4.0, 20.0, 4.0, 20.0, 6.0, 1.0, 1.0, 1.0, 1.0, 1.0, 1.0, 1.0, 1.0, 1.0, 1.0, 1.0, 1.0, 1.0, 1.0, 1.0, 1.0, 1.0, 1.0, 1.0, 1.0, 1.0, 1.0, 1.0, 20.0, 6.0, 10.0, 12.0, 12.0, 12.0, 12.0, 12.0, 6.0, 48.0, 5.0, 12.0, 12.0, 12.0, 12.0, 6.0, 12.0, 24.0, 12.0, 8.0, 10.0, 1.0, 1.0, 1.0, 12.0, 1.0, 1.0, 2.0, 1.0, 1.0, 4.0, 1.0, 9.0, 1.0, 12.0, 1.0, 2.0, 1.0, 4.0, 1.0, 1.0, 2.0, 2.0, 4.0, 1.0, 2.0, 2.0, 12.0, 1.0, 48.0, 2.0, 12.0, 12.0, 24.0, 24.0, 24.0, 24.0, 8.0, 10.0, 12.0, 48.0, 8.0, 8.0, 6.0, 12.0, 12.0, 48.0, 8.0, 48.0, 20.0, 12.0, 10.0, 10.0, 20.0, 20.0, 24.0, 24.0, 6.0, 18.0, 12.0, 2.0, 12.0, 40.0, 12.0, 30.0, 24.0, 12.0, 6.0, 24.0, 10.0, 12.0, 10.0, 24.0, 24.0, 24.0, 24.0, 6.0, 24.0, 48.0, 48.0, 80.0, 48.0, 24.0, 40.0, 10.0, 10.0, 12.0, 12.0, 10.0, 12.0, 10.0, 5.0, 12.0, 5.0, 12.0, 12.0, 12.0, 6.0, 10.0, 10.0, 10.0, 12.0, 10.0, 12.0, 10.0, 12.0, 12.0, 4.0, 12.0, 24.0, 12.0, 10.0, 24.0, 24.0, 12.0, 12.0, 12.0, 12.0, 20.0, 24.0, 30.0, 24.0, 6.0, 24.0, 1.0, 10.0, 24.0, 12.0, 10.0, 12.0, 12.0, 4.0, 8.0, 12.0, 16.0, 8.0, 12.0, 24.0, 4.0, 4.0, 4.0, 12.0, 24.0, 6.0, 12.0, 12.0, 12.0, 4.0, 12.0, 24.0, 12.0, 12.0, 6.0, 12.0, 10.0, 6.0, 6.0, 10.0, 12.0, 20.0, 10.0, 6.0, 10.0, 8.0, 8.0, 10.0, 10.0, 6.0, 10.0, 20.0, 10.0, 20.0, 12.0, 24.0, 96.0, 48.0, 72.0, 24.0, 12.0, 24.0, 24.0, 36.0, 24.0, 24.0, 12.0, 12.0, 4.0, 12.0, 24.0, 4.0, 12.0, 24.0, 12.0, 24.0, 6.0, 12.0, 6.0, 12.0, 12.0, 24.0, 6.0, 12.0, 12.0, 24.0, 24.0, 12.0, 12.0, 12.0, 24.0, 12.0, 10.0, 6.0, 24.0, 4.0, 2.0, 30.0, 6.0, 2.0, 120.0, 120.0, 20.0, 12.0, 6.0, 3.0, 2.0, 12.0, 6.0, 12.0, 4.0, 2.0, 6.0, 4.0, 4.0, 24.0, 3.0, 24.0, 6.0, 6.0, 2.0, 2.0, 2.0, 5.0, 2.0, 6.0, 4.0, 6.0, 2.0, 24.0, 1.0, 10.0, 4.0, 2.0, 10.0, 3.0, 2.0, 4.0, 2.0, 2.0, 6.0, 1.0, 8.0, 4.0, 4.0, 120.0, 6.0, 2.0, 12.0, 12.0, 6.0, 4.0, 12.0, 4.0, 2.0, 12.0, 1.0, 4.0, 24.0, 2.0, 3.0, 3.0, 1.0, 3.0, 4.0, 12.0, 20.0, 12.0, 12.0, 48.0, 6.0, 24.0, 36.0, 6.0, 24.0, 20.0, 12.0, 48.0, 24.0, 120.0, 16.0, 12.0, 120.0, 6.0, 100.0, 20.0, 12.0, 24.0, 12.0, 8.0, 12.0, 6.0, 20.0, 10.0, 10.0, 8.0, 8.0, 3.0, 8.0, 12.0, 6.0, 10.0, 6.0, 6.0, 12.0, 2.0, 12.0, 6.0, 12.0, 6.0, 10.0, 12.0, 12.0, 10.0, 12.0, 6.0, 12.0, 6.0, 12.0, 2.0, 8.0, 10.0, 12.0, 12.0, 2.0, 2.0, 2.0, 12.0, 3.0, 12.0, 6.0, 2.0, 2.0, 12.0, 4.0, 10.0, 12.0, 24.0, 25.0, 12.0, 12.0, 12.0, 24.0, 10.0, 24.0, 2.0, 24.0, 12.0, 12.0, 12.0, 2.0, 12.0, 12.0, 24.0, 12.0, 12.0, 12.0, 20.0, 24.0, 12.0, 12.0, 6.0, 12.0, 10.0, 24.0, 24.0, 12.0, 36.0, 12.0, 12.0, 24.0, 12.0, 6.0, 6.0, 6.0, 6.0, 12.0, 4.0, 12.0, 12.0, 12.0, 6.0, 24.0, 10.0, 12.0, 12.0, 12.0, 12.0, 2.0, 12.0, 4.0, 24.0, 24.0, 12.0, 6.0, 12.0, 6.0, 20.0, 2.0, 12.0, 20.0, 12.0, 2.0, 10.0, 3.0, 12.0, 2.0, 12.0, 10.0, 10.0, 10.0, 2.0, 12.0, 10.0, 10.0, 12.0, 10.0, 6.0, 10.0, 8.0, 32.0, 12.0, 12.0, 1.0, 6.0, 12.0, 4.0, 12.0, 2.0, 10.0, 12.0, 10.0, 6.0, 6.0, 2.0, 12.0, 2.0, 6.0, 5.0, 2.0, 12.0, 12.0, 4.0, 12.0, 24.0, 24.0, 4.0, 12.0, 12.0, 48.0, 72.0, 4.0, 10.0, 4.0, 4.0, 12.0, 10.0, 6.0, 32.0, 4.0, 24.0, 24.0, 16.0, 16.0, 16.0, 12.0, 6.0, 10.0, 12.0, 12.0, 12.0, 12.0, 28.0, 3.0, 12.0, 24.0, 12.0, 24.0, 6.0, 3.0, 2.0, 12.0, 48.0, 2.0, 4.0, 4.0, 10.0, 5.0, 6.0, 4.0, 1.0, 6.0, 10.0, 10.0, 6.0, 6.0, 20.0, 4.0, 4.0, 6.0, 10.0, 10.0, 64.0, 64.0, 2.0, 2.0, 1.0, 100.0, 50.0, 1.0, 50.0, 50.0, 30.0, 20.0, 30.0, 6.0, 10.0, 10.0, 6.0, 2.0, 4.0, 8.0, 8.0, 8.0, 5.0, 4.0, 2.0, 12.0, 6.0, 8.0, 12.0, 2.0, 8.0, 8.0, 6.0, 6.0, 4.0, 8.0, 8.0, 10.0, 6.0, 6.0, 6.0, 6.0, 12.0, 8.0, 2.0, 6.0, 6.0, 6.0, 24.0, 6.0, 2.0, 2.0, 2.0, 6.0, 2.0, 12.0, 36.0, 4.0, 8.0, 8.0, 6.0, 10.0, 8.0, 24.0, 12.0, 8.0, 24.0, 10.0, 10.0, 24.0, 12.0, 12.0, 40.0, 24.0, 24.0, 48.0, 24.0, 6.0, 6.0, 18.0, 6.0, 10.0, 20.0, 24.0, 24.0, 10.0, 12.0, 40.0, 12.0, 12.0, 4.0, 2.0, 24.0, 2.0, 36.0, 12.0, 36.0, 5.0, 2.0, 12.0, 12.0, 10.0, 10.0, 12.0, 10.0, 10.0, 10.0, 3.0, 6.0, 2.0, 24.0, 12.0, 4.0, 10.0, 10.0, 10.0, 6.0, 12.0, 24.0, 2.0, 12.0, 20.0, 10.0, 24.0, 12.0, 12.0, 8.0, 6.0, 4.0, 12.0, 6.0, 6.0, 6.0, 6.0, 10.0, 2.0, 10.0, 2.0, 24.0, 30.0, 24.0, 10.0, 28.0, 12.0, 28.0, 12.0, 10.0, 10.0, 6.0, 10.0, 1.0, 2.0, 10.0, 10.0, 5.0, 10.0, 12.0, 24.0, 24.0, 144.0, 24.0, 20.0, 24.0, 24.0, 24.0, 8.0, 12.0, 72.0, 24.0, 12.0, 12.0, 12.0, 12.0, 6.0, 12.0, 2.0, 4.0, 12.0, 6.0, 6.0, 10.0, 2.0, 4.0, 10.0, 6.0, 6.0, 10.0, 1.0, 10.0], \"yaxis\": \"y\"}, {\"hovertemplate\": \"variable=Revenue<br>InvoiceDate=%{x}<br>value=%{y}<extra></extra>\", \"legendgroup\": \"Revenue\", \"line\": {\"color\": \"#EF553B\", \"dash\": \"solid\"}, \"mode\": \"lines\", \"name\": \"Revenue\", \"showlegend\": true, \"type\": \"scattergl\", \"x\": [\"2011-01-05T12:42:00\", \"2011-01-05T12:42:00\", \"2011-01-05T12:42:00\", \"2011-01-05T12:42:00\", \"2011-01-05T12:42:00\", \"2011-01-05T12:42:00\", \"2011-01-05T12:42:00\", \"2011-01-05T12:42:00\", \"2011-01-05T12:42:00\", \"2011-01-05T12:42:00\", \"2011-01-05T12:42:00\", \"2011-01-05T12:42:00\", \"2011-01-05T12:42:00\", \"2011-01-05T12:42:00\", \"2011-01-05T12:42:00\", \"2011-01-05T12:42:00\", \"2011-01-05T12:42:00\", \"2011-01-05T12:42:00\", \"2011-01-05T12:42:00\", \"2011-01-05T12:42:00\", \"2011-01-05T12:42:00\", \"2011-01-05T12:42:00\", \"2011-01-05T12:42:00\", \"2011-01-05T12:42:00\", \"2011-01-05T12:42:00\", \"2011-01-05T12:42:00\", \"2011-01-05T12:42:00\", \"2011-01-05T12:42:00\", \"2011-01-05T12:42:00\", \"2011-01-05T12:42:00\", \"2011-01-05T12:42:00\", \"2011-01-05T12:42:00\", \"2011-01-05T12:42:00\", \"2011-01-05T14:48:00\", \"2011-01-05T14:48:00\", \"2011-01-05T14:48:00\", \"2011-01-05T14:48:00\", \"2011-01-05T14:48:00\", \"2011-01-05T14:48:00\", \"2011-01-05T14:48:00\", \"2011-01-05T14:48:00\", \"2011-01-05T14:48:00\", \"2011-01-05T14:48:00\", \"2011-01-05T14:48:00\", \"2011-01-05T14:48:00\", \"2011-01-05T14:48:00\", \"2011-01-05T14:48:00\", \"2011-01-05T14:48:00\", \"2011-01-05T14:48:00\", \"2011-01-05T14:48:00\", \"2011-01-05T14:48:00\", \"2011-01-05T14:48:00\", \"2011-01-05T14:48:00\", \"2011-01-05T14:48:00\", \"2011-01-05T14:48:00\", \"2011-01-05T14:48:00\", \"2011-01-05T14:48:00\", \"2011-01-05T14:48:00\", \"2011-01-05T14:48:00\", \"2011-01-05T14:48:00\", \"2011-01-05T14:48:00\", \"2011-01-05T14:48:00\", \"2011-01-05T14:48:00\", \"2011-01-05T14:48:00\", \"2011-01-05T14:48:00\", \"2011-01-05T14:48:00\", \"2011-01-05T14:48:00\", \"2011-01-05T14:48:00\", \"2011-01-05T14:48:00\", \"2011-01-05T14:48:00\", \"2011-01-05T14:48:00\", \"2011-01-05T14:48:00\", \"2011-01-06T14:26:00\", \"2011-01-06T14:26:00\", \"2011-01-06T14:26:00\", \"2011-01-06T14:26:00\", \"2011-01-06T14:26:00\", \"2011-01-06T14:26:00\", \"2011-01-06T14:26:00\", \"2011-01-06T14:26:00\", \"2011-01-06T14:26:00\", \"2011-01-06T14:26:00\", \"2011-01-06T14:26:00\", \"2011-01-06T14:26:00\", \"2011-01-06T14:26:00\", \"2011-01-06T14:26:00\", \"2011-01-06T14:26:00\", \"2011-01-06T14:26:00\", \"2011-01-06T14:26:00\", \"2011-01-06T14:26:00\", \"2011-01-06T14:26:00\", \"2011-01-06T14:26:00\", \"2011-01-06T14:26:00\", \"2011-01-06T16:12:00\", \"2011-01-06T16:12:00\", \"2011-01-06T16:12:00\", \"2011-01-06T16:12:00\", \"2011-01-06T16:12:00\", \"2011-01-06T16:12:00\", \"2011-01-06T16:12:00\", \"2011-01-06T16:12:00\", \"2011-01-06T16:12:00\", \"2011-01-06T16:12:00\", \"2011-01-06T16:12:00\", \"2011-01-06T16:12:00\", \"2011-01-06T16:12:00\", \"2011-01-06T16:12:00\", \"2011-01-06T16:12:00\", \"2011-01-06T16:12:00\", \"2011-01-06T16:12:00\", \"2011-01-06T16:12:00\", \"2011-01-06T16:12:00\", \"2011-01-06T16:12:00\", \"2011-01-06T16:12:00\", \"2011-01-06T16:12:00\", \"2011-01-06T16:12:00\", \"2011-01-07T12:07:00\", \"2011-01-07T12:07:00\", \"2011-01-07T12:07:00\", \"2011-01-07T12:07:00\", \"2011-01-07T12:07:00\", \"2011-01-07T12:07:00\", \"2011-01-07T12:07:00\", \"2011-01-07T12:07:00\", \"2011-01-07T12:07:00\", \"2011-01-07T12:07:00\", \"2011-01-07T12:07:00\", \"2011-01-07T12:07:00\", \"2011-01-07T12:07:00\", \"2011-01-07T12:07:00\", \"2011-01-07T12:07:00\", \"2011-01-07T12:07:00\", \"2011-01-07T12:07:00\", \"2011-01-07T12:07:00\", \"2011-01-07T12:07:00\", \"2011-01-07T12:07:00\", \"2011-01-07T12:07:00\", \"2011-01-07T13:13:00\", \"2011-01-07T13:13:00\", \"2011-01-07T13:13:00\", \"2011-01-07T13:13:00\", \"2011-01-07T13:13:00\", \"2011-01-07T13:13:00\", \"2011-01-07T13:13:00\", \"2011-01-07T13:13:00\", \"2011-01-07T13:13:00\", \"2011-01-07T13:13:00\", \"2011-01-07T13:13:00\", \"2011-01-07T13:13:00\", \"2011-01-07T13:13:00\", \"2011-01-07T13:13:00\", \"2011-01-09T12:46:00\", \"2011-01-09T12:46:00\", \"2011-01-09T12:46:00\", \"2011-01-09T12:46:00\", \"2011-01-09T12:46:00\", \"2011-01-09T12:46:00\", \"2011-01-09T12:46:00\", \"2011-01-09T12:46:00\", \"2011-01-09T12:46:00\", \"2011-01-10T13:22:00\", \"2011-01-10T13:22:00\", \"2011-01-10T13:22:00\", \"2011-01-10T13:22:00\", \"2011-01-10T13:22:00\", \"2011-01-10T13:22:00\", \"2011-01-10T13:22:00\", \"2011-01-10T13:22:00\", \"2011-01-10T13:22:00\", \"2011-01-10T13:22:00\", \"2011-01-10T13:22:00\", \"2011-01-10T13:22:00\", \"2011-01-10T13:22:00\", \"2011-01-10T13:22:00\", \"2011-01-10T13:22:00\", \"2011-01-10T13:22:00\", \"2011-01-10T13:22:00\", \"2011-01-10T13:22:00\", \"2011-01-10T13:22:00\", \"2011-01-10T13:22:00\", \"2011-01-10T13:22:00\", \"2011-01-10T13:22:00\", \"2011-01-10T13:22:00\", \"2011-01-10T13:22:00\", \"2011-01-10T13:22:00\", \"2011-01-10T13:22:00\", \"2011-01-10T13:22:00\", \"2011-01-10T13:22:00\", \"2011-01-10T13:22:00\", \"2011-01-10T13:22:00\", \"2011-01-10T13:22:00\", \"2011-01-10T13:22:00\", \"2011-01-10T13:22:00\", \"2011-01-10T13:22:00\", \"2011-01-10T13:22:00\", \"2011-01-10T13:22:00\", \"2011-01-10T13:22:00\", \"2011-01-10T13:22:00\", \"2011-01-10T13:22:00\", \"2011-01-10T13:22:00\", \"2011-01-10T13:22:00\", \"2011-01-10T13:22:00\", \"2011-01-10T13:22:00\", \"2011-01-10T13:22:00\", \"2011-01-10T13:22:00\", \"2011-01-10T13:22:00\", \"2011-01-10T13:22:00\", \"2011-01-10T13:22:00\", \"2011-01-10T13:22:00\", \"2011-01-11T07:57:00\", \"2011-01-11T07:57:00\", \"2011-01-11T07:57:00\", \"2011-01-11T11:48:00\", \"2011-01-11T13:31:00\", \"2011-01-11T13:31:00\", \"2011-01-11T13:31:00\", \"2011-01-11T13:31:00\", \"2011-01-11T13:31:00\", \"2011-01-11T13:31:00\", \"2011-01-11T13:31:00\", \"2011-01-11T13:31:00\", \"2011-01-11T13:31:00\", \"2011-01-11T13:31:00\", \"2011-01-11T13:31:00\", \"2011-01-11T13:31:00\", \"2011-01-11T15:00:00\", \"2011-01-11T15:00:00\", \"2011-01-11T15:00:00\", \"2011-01-11T15:00:00\", \"2011-01-11T15:00:00\", \"2011-01-11T15:00:00\", \"2011-01-11T15:00:00\", \"2011-01-11T15:00:00\", \"2011-01-11T15:00:00\", \"2011-01-11T15:00:00\", \"2011-01-12T09:43:00\", \"2011-01-12T09:43:00\", \"2011-01-12T09:43:00\", \"2011-01-12T09:43:00\", \"2011-01-12T09:43:00\", \"2011-01-12T09:43:00\", \"2011-01-12T09:43:00\", \"2011-01-12T14:13:00\", \"2011-01-12T14:13:00\", \"2011-01-12T14:13:00\", \"2011-01-12T14:13:00\", \"2011-01-12T14:13:00\", \"2011-01-12T14:13:00\", \"2011-01-12T15:00:00\", \"2011-01-12T15:00:00\", \"2011-01-12T15:00:00\", \"2011-01-12T15:00:00\", \"2011-01-12T15:00:00\", \"2011-01-12T15:00:00\", \"2011-01-12T15:00:00\", \"2011-01-12T15:00:00\", \"2011-01-12T15:00:00\", \"2011-01-12T15:00:00\", \"2011-01-12T15:00:00\", \"2011-01-12T15:00:00\", \"2011-01-12T15:00:00\", \"2011-01-12T15:00:00\", \"2011-01-12T15:00:00\", \"2011-01-12T15:00:00\", \"2011-01-12T15:00:00\", \"2011-01-12T15:00:00\", \"2011-01-12T15:00:00\", \"2011-01-12T15:00:00\", \"2011-01-12T15:00:00\", \"2011-01-12T15:00:00\", \"2011-01-12T15:00:00\", \"2011-01-12T15:00:00\", \"2011-01-12T15:00:00\", \"2011-01-12T15:00:00\", \"2011-01-12T15:00:00\", \"2011-01-12T15:00:00\", \"2011-01-12T15:00:00\", \"2011-01-12T15:00:00\", \"2011-01-12T15:00:00\", \"2011-01-12T15:00:00\", \"2011-01-12T15:00:00\", \"2011-01-12T15:00:00\", \"2011-01-12T15:00:00\", \"2011-01-12T15:00:00\", \"2011-01-12T15:00:00\", \"2011-01-12T15:00:00\", \"2011-01-12T15:00:00\", \"2011-01-12T15:00:00\", \"2011-01-12T15:00:00\", \"2011-01-12T15:00:00\", \"2011-01-12T15:00:00\", \"2011-01-12T15:00:00\", \"2011-01-12T15:00:00\", \"2011-01-12T15:00:00\", \"2011-01-12T15:00:00\", \"2011-01-14T09:13:00\", \"2011-01-14T09:13:00\", \"2011-01-14T09:13:00\", \"2011-01-14T09:13:00\", \"2011-01-14T09:13:00\", \"2011-01-14T09:13:00\", \"2011-01-14T09:13:00\", \"2011-01-14T09:13:00\", \"2011-01-14T09:13:00\", \"2011-01-14T09:13:00\", \"2011-01-14T09:13:00\", \"2011-01-14T09:13:00\", \"2011-01-14T09:13:00\", \"2011-01-14T09:13:00\", \"2011-01-14T09:13:00\", \"2011-01-14T09:13:00\", \"2011-01-14T09:13:00\", \"2011-01-14T09:13:00\", \"2011-01-14T09:13:00\", \"2011-01-14T09:13:00\", \"2011-01-14T09:13:00\", \"2011-01-14T09:13:00\", \"2011-01-14T09:13:00\", \"2011-01-14T09:13:00\", \"2011-01-14T09:13:00\", \"2011-01-14T09:13:00\", \"2011-01-14T09:13:00\", \"2011-01-14T09:13:00\", \"2011-01-14T09:13:00\", \"2011-01-14T09:13:00\", \"2011-01-14T09:13:00\", \"2011-01-14T09:13:00\", \"2011-01-14T09:13:00\", \"2011-01-14T09:13:00\", \"2011-01-14T09:13:00\", \"2011-01-14T09:13:00\", \"2011-01-14T09:13:00\", \"2011-01-14T09:13:00\", \"2011-01-14T09:13:00\", \"2011-01-14T09:13:00\", \"2011-01-14T09:13:00\", \"2011-01-14T09:13:00\", \"2011-01-14T09:20:00\", \"2011-01-14T09:20:00\", \"2011-01-14T09:20:00\", \"2011-01-14T09:20:00\", \"2011-01-14T09:20:00\", \"2011-01-14T09:20:00\", \"2011-01-14T09:20:00\", \"2011-01-14T09:20:00\", \"2011-01-14T09:20:00\", \"2011-01-14T09:20:00\", \"2011-01-14T10:42:00\", \"2011-01-14T10:42:00\", \"2011-01-14T10:42:00\", \"2011-01-14T10:42:00\", \"2011-01-14T10:42:00\", \"2011-01-14T10:42:00\", \"2011-01-14T10:42:00\", \"2011-01-14T10:42:00\", \"2011-01-14T10:42:00\", \"2011-01-14T10:42:00\", \"2011-01-14T10:42:00\", \"2011-01-14T10:42:00\", \"2011-01-14T10:42:00\", \"2011-01-14T10:42:00\", \"2011-01-14T10:42:00\", \"2011-01-14T10:42:00\", \"2011-01-14T10:42:00\", \"2011-01-14T10:42:00\", \"2011-01-14T10:42:00\", \"2011-01-14T10:42:00\", \"2011-01-14T10:42:00\", \"2011-01-14T10:42:00\", \"2011-01-14T10:42:00\", \"2011-01-14T10:42:00\", \"2011-01-14T10:42:00\", \"2011-01-14T10:42:00\", \"2011-01-14T10:42:00\", \"2011-01-14T10:42:00\", \"2011-01-14T10:42:00\", \"2011-01-14T10:42:00\", \"2011-01-14T10:42:00\", \"2011-01-14T10:42:00\", \"2011-01-14T10:42:00\", \"2011-01-14T10:42:00\", \"2011-01-14T10:42:00\", \"2011-01-14T10:42:00\", \"2011-01-14T10:42:00\", \"2011-01-17T15:17:00\", \"2011-01-17T15:17:00\", \"2011-01-17T15:17:00\", \"2011-01-17T15:17:00\", \"2011-01-17T15:17:00\", \"2011-01-17T15:17:00\", \"2011-01-17T15:17:00\", \"2011-01-17T15:17:00\", \"2011-01-17T15:17:00\", \"2011-01-17T15:17:00\", \"2011-01-17T15:17:00\", \"2011-01-17T15:17:00\", \"2011-01-17T15:17:00\", \"2011-01-17T15:17:00\", \"2011-01-17T15:17:00\", \"2011-01-17T15:17:00\", \"2011-01-17T15:17:00\", \"2011-01-17T15:17:00\", \"2011-01-17T15:17:00\", \"2011-01-17T15:17:00\", \"2011-01-19T11:51:00\", \"2011-01-19T11:51:00\", \"2011-01-19T11:51:00\", \"2011-01-19T11:51:00\", \"2011-01-19T11:51:00\", \"2011-01-19T11:51:00\", \"2011-01-19T11:51:00\", \"2011-01-19T11:51:00\", \"2011-01-19T11:51:00\", \"2011-01-19T11:51:00\", \"2011-01-19T11:51:00\", \"2011-01-19T11:51:00\", \"2011-01-19T11:51:00\", \"2011-01-19T11:51:00\", \"2011-01-19T11:51:00\", \"2011-01-19T11:51:00\", \"2011-01-19T11:51:00\", \"2011-01-19T11:51:00\", \"2011-01-19T11:51:00\", \"2011-01-19T11:51:00\", \"2011-01-19T11:51:00\", \"2011-01-19T11:51:00\", \"2011-01-19T11:51:00\", \"2011-01-19T11:51:00\", \"2011-01-19T11:51:00\", \"2011-01-19T11:51:00\", \"2011-01-19T11:51:00\", \"2011-01-19T11:51:00\", \"2011-01-19T11:51:00\", \"2011-01-19T11:51:00\", \"2011-01-20T10:47:00\", \"2011-01-20T10:47:00\", \"2011-01-20T10:47:00\", \"2011-01-20T10:47:00\", \"2011-01-20T10:47:00\", \"2011-01-20T10:47:00\", \"2011-01-20T10:47:00\", \"2011-01-20T10:47:00\", \"2011-01-20T10:47:00\", \"2011-01-20T10:47:00\", \"2011-01-20T10:47:00\", \"2011-01-20T10:47:00\", \"2011-01-20T10:47:00\", \"2011-01-20T10:47:00\", \"2011-01-20T10:47:00\", \"2011-01-20T10:47:00\", \"2011-01-20T10:47:00\", \"2011-01-20T10:47:00\", \"2011-01-20T10:47:00\", \"2011-01-20T10:47:00\", \"2011-01-20T10:47:00\", \"2011-01-20T10:47:00\", \"2011-01-20T10:47:00\", \"2011-01-20T10:47:00\", \"2011-01-20T10:47:00\", \"2011-01-20T10:47:00\", \"2011-01-20T10:47:00\", \"2011-01-20T10:48:00\", \"2011-01-20T10:48:00\", \"2011-01-20T10:48:00\", \"2011-01-20T10:48:00\", \"2011-01-20T10:48:00\", \"2011-01-20T10:48:00\", \"2011-01-20T10:48:00\", \"2011-01-20T10:48:00\", \"2011-01-20T10:48:00\", \"2011-01-20T10:48:00\", \"2011-01-20T10:48:00\", \"2011-01-20T10:48:00\", \"2011-01-20T10:48:00\", \"2011-01-20T10:48:00\", \"2011-01-20T10:48:00\", \"2011-01-20T10:48:00\", \"2011-01-20T10:48:00\", \"2011-01-20T10:48:00\", \"2011-01-20T10:48:00\", \"2011-01-20T10:48:00\", \"2011-01-20T10:48:00\", \"2011-01-20T10:48:00\", \"2011-01-20T10:48:00\", \"2011-01-20T10:48:00\", \"2011-01-20T10:48:00\", \"2011-01-20T10:48:00\", \"2011-01-20T10:48:00\", \"2011-01-20T10:48:00\", \"2011-01-20T10:48:00\", \"2011-01-20T10:48:00\", \"2011-01-20T10:48:00\", \"2011-01-20T10:48:00\", \"2011-01-20T10:48:00\", \"2011-01-20T10:48:00\", \"2011-01-20T10:48:00\", \"2011-01-20T10:48:00\", \"2011-01-20T10:48:00\", \"2011-01-20T10:48:00\", \"2011-01-20T10:48:00\", \"2011-01-20T10:48:00\", \"2011-01-20T10:48:00\", \"2011-01-20T10:48:00\", \"2011-01-20T10:48:00\", \"2011-01-20T10:48:00\", \"2011-01-23T15:17:00\", \"2011-01-23T15:17:00\", \"2011-01-23T15:17:00\", \"2011-01-23T15:17:00\", \"2011-01-23T15:17:00\", \"2011-01-23T15:17:00\", \"2011-01-23T15:17:00\", \"2011-01-23T15:17:00\", \"2011-01-23T15:17:00\", \"2011-01-23T15:17:00\", \"2011-01-23T15:17:00\", \"2011-01-24T15:32:00\", \"2011-01-24T15:32:00\", \"2011-01-24T15:32:00\", \"2011-01-24T15:32:00\", \"2011-01-24T15:32:00\", \"2011-01-24T15:32:00\", \"2011-01-24T15:32:00\", \"2011-01-24T15:32:00\", \"2011-01-24T15:32:00\", \"2011-01-28T09:20:00\", \"2011-01-28T09:20:00\", \"2011-01-28T09:20:00\", \"2011-01-28T09:20:00\", \"2011-01-28T09:20:00\", \"2011-01-28T09:20:00\", \"2011-01-28T09:20:00\", \"2011-01-28T09:20:00\", \"2011-01-28T09:20:00\", \"2011-01-28T09:20:00\", \"2011-01-28T10:45:00\", \"2011-01-28T10:45:00\", \"2011-01-28T10:45:00\", \"2011-01-28T10:45:00\", \"2011-01-28T10:45:00\", \"2011-01-28T10:45:00\", \"2011-01-28T10:45:00\", \"2011-01-28T10:45:00\", \"2011-01-28T10:45:00\", \"2011-01-28T10:45:00\", \"2011-01-28T10:45:00\", \"2011-01-28T10:45:00\", \"2011-01-28T10:45:00\", \"2011-01-28T10:45:00\", \"2011-01-28T10:45:00\", \"2011-01-28T10:45:00\", \"2011-01-28T10:45:00\", \"2011-01-28T10:45:00\", \"2011-01-28T13:37:00\", \"2011-01-28T13:37:00\", \"2011-01-28T13:37:00\", \"2011-01-28T13:37:00\", \"2011-01-28T13:37:00\", \"2011-01-28T13:37:00\", \"2011-01-28T13:37:00\", \"2011-01-28T13:37:00\", \"2011-01-28T13:37:00\", \"2011-01-28T13:37:00\", \"2011-01-28T13:37:00\", \"2011-01-28T13:37:00\", \"2011-01-28T13:37:00\", \"2011-01-28T13:37:00\", \"2011-01-28T13:37:00\", \"2011-01-28T13:37:00\", \"2011-01-28T13:37:00\", \"2011-01-28T13:37:00\", \"2011-01-28T13:37:00\", \"2011-01-28T13:37:00\", \"2011-01-31T09:57:00\", \"2011-01-31T09:57:00\", \"2011-01-31T09:57:00\", \"2011-01-31T09:57:00\", \"2011-01-31T09:57:00\", \"2011-01-31T09:57:00\", \"2011-01-31T09:57:00\", \"2011-01-31T09:57:00\", \"2011-01-31T09:57:00\", \"2011-01-31T09:57:00\", \"2011-01-31T09:57:00\", \"2011-01-31T09:57:00\", \"2011-01-31T09:57:00\", \"2011-01-31T09:57:00\", \"2011-01-31T09:57:00\", \"2011-01-31T09:57:00\", \"2011-01-31T09:57:00\", \"2011-01-31T09:57:00\", \"2011-01-31T09:57:00\", \"2011-01-31T09:57:00\", \"2011-01-31T09:57:00\", \"2011-01-31T09:57:00\", \"2011-01-31T09:57:00\", \"2011-01-31T09:57:00\", \"2011-01-31T09:57:00\", \"2011-01-31T09:57:00\", \"2011-01-31T09:57:00\", \"2011-01-31T09:57:00\", \"2011-01-31T09:57:00\", \"2011-01-31T09:57:00\", \"2011-01-31T09:57:00\", \"2011-01-31T09:57:00\", \"2011-01-31T09:57:00\", \"2011-01-31T09:57:00\", \"2011-01-31T09:57:00\", \"2011-01-31T09:57:00\", \"2011-01-31T09:57:00\", \"2011-01-31T09:57:00\", \"2011-01-31T09:57:00\", \"2011-01-31T09:57:00\", \"2011-01-31T09:57:00\", \"2011-01-31T09:57:00\", \"2011-01-31T09:57:00\", \"2011-01-31T09:57:00\", \"2011-01-31T09:57:00\", \"2011-01-31T09:57:00\", \"2011-01-31T15:36:00\", \"2011-01-31T15:36:00\", \"2011-01-31T15:36:00\", \"2011-01-31T15:36:00\", \"2011-01-31T15:36:00\", \"2011-01-31T15:36:00\", \"2011-01-31T15:36:00\", \"2011-01-31T15:36:00\", \"2011-01-31T15:36:00\", \"2011-01-31T15:36:00\", \"2011-01-31T15:36:00\", \"2011-01-31T15:36:00\", \"2011-01-31T15:36:00\", \"2011-01-31T15:36:00\", \"2011-01-31T15:36:00\", \"2011-01-31T15:36:00\", \"2011-01-31T15:36:00\", \"2011-02-01T14:58:00\", \"2011-02-01T14:58:00\", \"2011-02-01T14:58:00\", \"2011-02-01T14:58:00\", \"2011-02-01T14:58:00\", \"2011-02-01T14:58:00\", \"2011-02-01T14:58:00\", \"2011-02-01T14:58:00\", \"2011-02-01T14:58:00\", \"2011-02-01T14:58:00\", \"2011-02-01T14:58:00\", \"2011-02-01T14:58:00\", \"2011-02-01T14:58:00\", \"2011-02-01T14:58:00\", \"2011-02-01T14:58:00\", \"2011-02-01T14:58:00\", \"2011-02-01T14:58:00\", \"2011-02-01T14:58:00\", \"2011-02-02T09:06:00\", \"2011-02-02T09:06:00\", \"2011-02-02T09:06:00\", \"2011-02-02T09:06:00\", \"2011-02-02T09:06:00\", \"2011-02-02T09:06:00\", \"2011-02-02T09:06:00\", \"2011-02-02T09:06:00\", \"2011-02-02T09:06:00\", \"2011-02-02T09:06:00\", \"2011-02-02T09:06:00\", \"2011-02-02T09:06:00\", \"2011-02-02T09:06:00\", \"2011-02-02T09:06:00\", \"2011-02-02T09:06:00\", \"2011-02-02T09:06:00\", \"2011-02-02T09:06:00\", \"2011-02-02T09:06:00\", \"2011-02-02T15:22:00\", \"2011-02-02T15:22:00\", \"2011-02-02T15:22:00\", \"2011-02-02T15:22:00\", \"2011-02-02T15:22:00\", \"2011-02-02T15:22:00\", \"2011-02-02T15:22:00\", \"2011-02-02T15:22:00\", \"2011-02-02T15:22:00\", \"2011-02-04T11:45:00\", \"2011-02-04T11:45:00\", \"2011-02-04T11:45:00\", \"2011-02-04T11:45:00\", \"2011-02-04T11:45:00\", \"2011-02-04T11:45:00\", \"2011-02-04T11:45:00\", \"2011-02-04T11:45:00\", \"2011-02-04T11:45:00\", \"2011-02-04T11:45:00\", \"2011-02-04T11:45:00\", \"2011-02-04T11:45:00\", \"2011-02-04T11:45:00\", \"2011-02-04T11:45:00\", \"2011-02-04T11:45:00\", \"2011-02-04T11:45:00\", \"2011-02-04T11:45:00\", \"2011-02-04T11:45:00\", \"2011-02-04T11:45:00\", \"2011-02-04T11:45:00\", \"2011-02-04T11:45:00\", \"2011-02-04T11:45:00\", \"2011-02-04T11:45:00\", \"2011-02-04T11:45:00\", \"2011-02-04T11:45:00\", \"2011-02-04T11:45:00\", \"2011-02-04T11:45:00\", \"2011-02-04T11:45:00\", \"2011-02-04T11:45:00\", \"2011-02-04T11:45:00\", \"2011-02-04T11:45:00\", \"2011-02-04T11:45:00\", \"2011-02-04T11:45:00\", \"2011-02-04T11:45:00\", \"2011-02-04T11:45:00\", \"2011-02-04T11:45:00\", \"2011-02-04T11:45:00\", \"2011-02-04T11:45:00\", \"2011-02-04T11:45:00\", \"2011-02-04T11:45:00\", \"2011-02-04T11:45:00\", \"2011-02-04T11:45:00\", \"2011-02-04T11:45:00\", \"2011-02-04T11:45:00\", \"2011-02-04T11:45:00\", \"2011-02-04T11:45:00\", \"2011-02-04T11:45:00\", \"2011-02-04T11:45:00\", \"2011-02-04T11:45:00\", \"2011-02-04T11:45:00\", \"2011-02-04T11:45:00\", \"2011-02-04T11:45:00\", \"2011-02-04T11:45:00\", \"2011-02-04T11:45:00\", \"2011-02-04T11:45:00\", \"2011-02-04T11:45:00\", \"2011-02-04T11:45:00\", \"2011-02-04T11:45:00\", \"2011-02-04T11:45:00\", \"2011-02-04T11:45:00\", \"2011-02-04T11:45:00\", \"2011-02-04T11:45:00\", \"2011-02-08T13:28:00\", \"2011-02-08T13:28:00\", \"2011-02-08T13:28:00\", \"2011-02-08T13:28:00\", \"2011-02-08T13:28:00\", \"2011-02-08T13:28:00\", \"2011-02-08T13:28:00\", \"2011-02-08T13:28:00\", \"2011-02-08T13:28:00\", \"2011-02-08T13:28:00\", \"2011-02-08T13:28:00\", \"2011-02-08T13:28:00\", \"2011-02-08T13:28:00\", \"2011-02-09T10:11:00\", \"2011-02-09T10:11:00\", \"2011-02-09T10:11:00\", \"2011-02-09T10:11:00\", \"2011-02-09T10:11:00\", \"2011-02-09T10:11:00\", \"2011-02-09T10:11:00\", \"2011-02-09T10:11:00\", \"2011-02-09T10:11:00\", \"2011-02-09T10:11:00\", \"2011-02-09T10:11:00\", \"2011-02-09T10:11:00\", \"2011-02-09T10:11:00\", \"2011-02-09T10:11:00\", \"2011-02-09T10:11:00\", \"2011-02-09T10:11:00\", \"2011-02-09T10:11:00\", \"2011-02-09T10:11:00\", \"2011-02-09T10:11:00\", \"2011-02-09T10:11:00\", \"2011-02-09T10:11:00\", \"2011-02-09T10:11:00\", \"2011-02-09T10:11:00\", \"2011-02-09T10:11:00\", \"2011-02-09T10:11:00\", \"2011-02-09T10:11:00\", \"2011-02-10T15:38:00\", \"2011-02-10T15:38:00\", \"2011-02-10T15:38:00\", \"2011-02-10T15:38:00\", \"2011-02-10T15:38:00\", \"2011-02-10T15:38:00\", \"2011-02-10T15:38:00\", \"2011-02-10T15:38:00\", \"2011-02-10T15:38:00\", \"2011-02-10T15:38:00\", \"2011-02-10T15:38:00\", \"2011-02-10T15:38:00\", \"2011-02-15T14:17:00\", \"2011-02-15T14:17:00\", \"2011-02-15T14:17:00\", \"2011-02-15T14:17:00\", \"2011-02-15T14:17:00\", \"2011-02-15T14:17:00\", \"2011-02-15T14:17:00\", \"2011-02-15T14:17:00\", \"2011-02-15T14:17:00\", \"2011-02-15T14:17:00\", \"2011-02-16T11:45:00\", \"2011-02-16T11:45:00\", \"2011-02-16T11:45:00\", \"2011-02-16T11:45:00\", \"2011-02-16T11:45:00\", \"2011-02-16T11:45:00\", \"2011-02-16T11:45:00\", \"2011-02-16T11:45:00\", \"2011-02-16T11:45:00\", \"2011-02-16T11:45:00\", \"2011-02-16T11:45:00\", \"2011-02-16T11:45:00\", \"2011-02-16T11:45:00\", \"2011-02-16T11:45:00\", \"2011-02-16T11:45:00\", \"2011-02-16T11:45:00\", \"2011-02-16T11:45:00\", \"2011-02-16T11:45:00\", \"2011-02-16T11:45:00\", \"2011-02-16T11:45:00\", \"2011-02-16T11:45:00\", \"2011-02-16T11:45:00\", \"2011-02-16T11:45:00\", \"2011-02-16T11:45:00\", \"2011-02-16T11:45:00\", \"2011-02-16T11:45:00\", \"2011-02-16T11:45:00\", \"2011-02-16T11:45:00\", \"2011-02-16T11:45:00\", \"2011-02-16T11:45:00\", \"2011-02-16T11:45:00\", \"2011-02-16T11:45:00\", \"2011-02-16T11:45:00\", \"2011-02-16T11:45:00\", \"2011-02-16T11:45:00\", \"2011-02-16T11:45:00\", \"2011-02-16T11:45:00\", \"2011-02-16T11:45:00\", \"2011-02-16T11:45:00\", \"2011-02-16T11:45:00\", \"2011-02-16T11:45:00\", \"2011-02-16T11:45:00\", \"2011-02-16T11:45:00\", \"2011-02-16T11:45:00\", \"2011-02-16T11:45:00\", \"2011-02-16T11:45:00\", \"2011-02-16T11:45:00\", \"2011-02-17T10:08:00\", \"2011-02-17T10:08:00\", \"2011-02-17T10:08:00\", \"2011-02-17T10:08:00\", \"2011-02-17T10:08:00\", \"2011-02-17T10:08:00\", \"2011-02-17T10:08:00\", \"2011-02-17T10:08:00\", \"2011-02-17T10:08:00\", \"2011-02-17T10:08:00\", \"2011-02-17T10:08:00\", \"2011-02-17T10:08:00\", \"2011-02-17T10:08:00\", \"2011-02-17T10:08:00\", \"2011-02-17T10:08:00\", \"2011-02-18T10:53:00\", \"2011-02-18T10:53:00\", \"2011-02-18T10:53:00\", \"2011-02-18T10:53:00\", \"2011-02-18T10:53:00\", \"2011-02-18T10:53:00\", \"2011-02-18T10:53:00\", \"2011-02-18T10:53:00\", \"2011-02-18T10:53:00\", \"2011-02-18T10:53:00\", \"2011-02-18T10:53:00\", \"2011-02-18T10:53:00\", \"2011-02-18T10:53:00\", \"2011-02-18T10:53:00\", \"2011-02-18T10:53:00\", \"2011-02-18T10:53:00\", \"2011-02-18T10:53:00\", \"2011-02-18T10:53:00\", \"2011-02-18T10:53:00\", \"2011-02-18T10:53:00\", \"2011-02-18T10:53:00\", \"2011-02-18T10:53:00\", \"2011-02-18T10:53:00\", \"2011-02-18T10:53:00\", \"2011-02-18T10:53:00\", \"2011-02-18T10:53:00\", \"2011-02-18T10:53:00\", \"2011-02-18T10:53:00\", \"2011-02-18T10:53:00\", \"2011-02-18T10:53:00\", \"2011-02-18T10:53:00\", \"2011-02-18T10:53:00\", \"2011-02-18T10:53:00\", \"2011-02-18T10:53:00\", \"2011-02-18T10:53:00\", \"2011-02-18T10:53:00\", \"2011-02-18T10:53:00\", \"2011-02-18T10:53:00\", \"2011-02-18T10:53:00\", \"2011-02-18T10:53:00\", \"2011-02-18T10:53:00\", \"2011-02-18T10:53:00\", \"2011-02-18T10:53:00\", \"2011-02-18T10:53:00\", \"2011-02-18T10:53:00\", \"2011-02-18T10:53:00\", \"2011-02-18T10:53:00\", \"2011-02-18T10:53:00\", \"2011-02-18T10:53:00\", \"2011-02-18T10:53:00\", \"2011-02-18T10:53:00\", \"2011-02-18T10:53:00\", \"2011-02-18T15:23:00\", \"2011-02-21T08:38:00\", \"2011-02-21T08:38:00\", \"2011-02-21T08:38:00\", \"2011-02-21T08:38:00\", \"2011-02-21T08:38:00\", \"2011-02-21T08:38:00\", \"2011-02-21T08:38:00\", \"2011-02-21T08:38:00\", \"2011-02-21T08:38:00\", \"2011-02-21T08:38:00\", \"2011-02-21T08:38:00\", \"2011-02-21T08:38:00\", \"2011-02-21T08:38:00\", \"2011-02-21T08:38:00\", \"2011-02-21T08:38:00\", \"2011-02-21T08:38:00\", \"2011-02-21T08:38:00\", \"2011-02-21T08:38:00\", \"2011-02-21T08:38:00\", \"2011-02-21T08:38:00\", \"2011-02-21T08:38:00\", \"2011-02-21T08:38:00\", \"2011-02-21T08:38:00\", \"2011-02-21T08:38:00\", \"2011-02-21T08:38:00\", \"2011-02-21T08:38:00\", \"2011-02-21T08:38:00\", \"2011-02-21T08:38:00\", \"2011-02-21T08:38:00\", \"2011-02-21T08:38:00\", \"2011-02-21T08:38:00\", \"2011-02-21T08:38:00\", \"2011-02-21T08:38:00\", \"2011-02-21T14:58:00\", \"2011-02-21T14:58:00\", \"2011-02-21T14:58:00\", \"2011-02-21T14:58:00\", \"2011-02-21T14:58:00\", \"2011-02-21T14:58:00\", \"2011-02-21T14:58:00\", \"2011-02-23T16:44:00\", \"2011-02-23T16:44:00\", \"2011-02-23T16:44:00\", \"2011-02-23T16:44:00\", \"2011-02-23T16:44:00\", \"2011-02-23T16:44:00\", \"2011-02-23T16:44:00\", \"2011-02-23T16:44:00\", \"2011-02-23T16:44:00\", \"2011-02-23T16:44:00\", \"2011-02-23T16:44:00\", \"2011-02-23T16:44:00\", \"2011-02-23T16:44:00\", \"2011-02-23T16:44:00\", \"2011-02-23T16:44:00\", \"2011-02-23T16:44:00\", \"2011-02-23T16:45:00\", \"2011-02-23T16:45:00\", \"2011-02-23T16:45:00\", \"2011-02-23T16:45:00\", \"2011-02-27T11:58:00\", \"2011-02-27T11:58:00\", \"2011-02-27T11:58:00\", \"2011-02-27T11:58:00\", \"2011-02-28T11:43:00\", \"2011-02-28T11:43:00\", \"2011-02-28T11:43:00\", \"2011-02-28T11:43:00\", \"2011-02-28T11:43:00\", \"2011-02-28T11:43:00\", \"2011-02-28T11:43:00\", \"2011-02-28T11:43:00\", \"2011-02-28T11:43:00\", \"2011-02-28T11:43:00\", \"2011-02-28T11:43:00\", \"2011-02-28T11:43:00\", \"2011-02-28T11:58:00\", \"2011-02-28T11:58:00\", \"2011-02-28T11:58:00\", \"2011-02-28T11:58:00\", \"2011-02-28T11:58:00\", \"2011-02-28T11:58:00\", \"2011-02-28T11:58:00\", \"2011-02-28T11:58:00\", \"2011-02-28T11:58:00\", \"2011-02-28T11:58:00\", \"2011-02-28T11:58:00\", \"2011-02-28T11:58:00\", \"2011-02-28T11:58:00\", \"2011-02-28T11:58:00\", \"2011-02-28T11:58:00\", \"2011-02-28T11:58:00\", \"2011-02-28T11:58:00\", \"2011-02-28T11:58:00\", \"2011-02-28T11:58:00\", \"2011-02-28T11:58:00\", \"2011-02-28T11:58:00\", \"2011-02-28T11:58:00\", \"2011-02-28T11:58:00\", \"2011-02-28T11:58:00\", \"2011-02-28T11:58:00\", \"2011-02-28T14:42:00\", \"2011-02-28T14:42:00\", \"2011-02-28T14:42:00\", \"2011-02-28T14:42:00\", \"2011-02-28T14:42:00\", \"2011-02-28T14:42:00\", \"2011-02-28T14:42:00\", \"2011-02-28T14:42:00\", \"2011-02-28T14:42:00\", \"2011-02-28T14:42:00\", \"2011-02-28T14:42:00\", \"2011-02-28T14:45:00\", \"2011-02-28T14:45:00\", \"2011-02-28T14:45:00\", \"2011-02-28T14:45:00\", \"2011-02-28T14:45:00\", \"2011-02-28T14:45:00\", \"2011-03-01T10:31:00\", \"2011-03-01T10:31:00\", \"2011-03-01T10:31:00\", \"2011-03-01T10:31:00\", \"2011-03-01T10:31:00\", \"2011-03-01T10:31:00\", \"2011-03-01T10:31:00\", \"2011-03-01T10:31:00\", \"2011-03-01T10:31:00\", \"2011-03-01T10:31:00\", \"2011-03-01T10:31:00\", \"2011-03-01T10:31:00\", \"2011-03-01T10:31:00\", \"2011-03-01T10:31:00\", \"2011-03-01T10:31:00\", \"2011-03-01T10:31:00\", \"2011-03-01T12:26:00\", \"2011-03-01T12:26:00\", \"2011-03-01T12:26:00\", \"2011-03-01T12:26:00\", \"2011-03-01T12:26:00\", \"2011-03-01T12:26:00\", \"2011-03-01T12:26:00\", \"2011-03-01T12:26:00\", \"2011-03-01T12:26:00\", \"2011-03-01T12:26:00\", \"2011-03-01T12:26:00\", \"2011-03-01T12:26:00\", \"2011-03-01T12:26:00\", \"2011-03-01T12:26:00\", \"2011-03-01T12:26:00\", \"2011-03-01T12:26:00\", \"2011-03-01T12:26:00\", \"2011-03-01T12:26:00\", \"2011-03-01T12:26:00\", \"2011-03-01T12:26:00\", \"2011-03-01T12:26:00\", \"2011-03-01T12:26:00\", \"2011-03-01T12:26:00\", \"2011-03-01T12:26:00\", \"2011-03-01T12:26:00\", \"2011-03-01T12:26:00\", \"2011-03-01T12:26:00\", \"2011-03-01T12:26:00\", \"2011-03-01T12:26:00\", \"2011-03-01T12:26:00\", \"2011-03-01T12:26:00\", \"2011-03-01T12:26:00\", \"2011-03-01T12:26:00\", \"2011-03-01T12:26:00\", \"2011-03-01T12:26:00\", \"2011-03-01T12:26:00\", \"2011-03-01T12:26:00\", \"2011-03-01T12:26:00\", \"2011-03-01T12:26:00\", \"2011-03-01T12:26:00\", \"2011-03-01T12:26:00\", \"2011-03-03T12:06:00\", \"2011-03-03T12:06:00\", \"2011-03-03T12:06:00\", \"2011-03-03T12:06:00\", \"2011-03-03T12:06:00\", \"2011-03-03T12:06:00\", \"2011-03-03T12:06:00\", \"2011-03-03T12:06:00\", \"2011-03-03T12:06:00\", \"2011-03-03T12:06:00\", \"2011-03-03T12:06:00\", \"2011-03-03T12:06:00\", \"2011-03-03T12:06:00\", \"2011-03-03T12:06:00\", \"2011-03-03T12:06:00\", \"2011-03-03T12:06:00\", \"2011-03-03T12:06:00\", \"2011-03-03T12:06:00\", \"2011-03-03T12:06:00\", \"2011-03-03T12:06:00\", \"2011-03-03T12:06:00\", \"2011-03-03T12:06:00\", \"2011-03-03T12:06:00\", \"2011-03-03T12:06:00\", \"2011-03-03T12:06:00\", \"2011-03-03T12:06:00\", \"2011-03-03T12:06:00\", \"2011-03-03T12:20:00\", \"2011-03-04T09:08:00\", \"2011-03-04T09:08:00\", \"2011-03-04T09:08:00\", \"2011-03-04T09:08:00\", \"2011-03-04T09:08:00\", \"2011-03-04T09:08:00\", \"2011-03-04T09:08:00\", \"2011-03-04T09:08:00\", \"2011-03-04T09:08:00\", \"2011-03-04T09:08:00\", \"2011-03-04T09:08:00\", \"2011-03-04T09:08:00\", \"2011-03-04T09:08:00\", \"2011-03-04T09:08:00\", \"2011-03-04T09:08:00\", \"2011-03-11T12:00:00\", \"2011-03-11T12:00:00\", \"2011-03-11T12:00:00\", \"2011-03-11T12:00:00\", \"2011-03-11T12:00:00\", \"2011-03-11T12:00:00\", \"2011-03-11T12:00:00\", \"2011-03-11T12:00:00\", \"2011-03-11T12:00:00\", \"2011-03-11T12:00:00\", \"2011-03-11T12:00:00\", \"2011-03-11T12:00:00\", \"2011-03-11T12:00:00\", \"2011-03-11T12:00:00\", \"2011-03-11T12:00:00\", \"2011-03-11T12:00:00\", \"2011-03-11T12:00:00\", \"2011-03-11T12:00:00\", \"2011-03-11T12:00:00\", \"2011-03-13T14:55:00\", \"2011-03-13T14:55:00\", \"2011-03-13T14:55:00\", \"2011-03-13T14:55:00\", \"2011-03-13T14:55:00\", \"2011-03-13T14:55:00\", \"2011-03-13T14:55:00\", \"2011-03-13T14:55:00\", \"2011-03-13T14:55:00\", \"2011-03-13T14:55:00\", \"2011-03-13T14:55:00\", \"2011-03-13T14:55:00\", \"2011-03-13T14:55:00\", \"2011-03-13T14:55:00\", \"2011-03-13T14:55:00\", \"2011-03-13T14:55:00\", \"2011-03-13T14:55:00\", \"2011-03-14T11:38:00\", \"2011-03-14T11:38:00\", \"2011-03-14T11:38:00\", \"2011-03-14T11:38:00\", \"2011-03-14T11:38:00\", \"2011-03-14T11:38:00\", \"2011-03-14T11:38:00\", \"2011-03-14T11:38:00\", \"2011-03-14T11:38:00\", \"2011-03-14T11:38:00\", \"2011-03-14T11:38:00\", \"2011-03-14T11:38:00\", \"2011-03-14T11:38:00\", \"2011-03-14T11:38:00\", \"2011-03-14T11:38:00\", \"2011-03-14T11:38:00\", \"2011-03-14T11:38:00\", \"2011-03-14T11:38:00\", \"2011-03-14T11:38:00\", \"2011-03-14T11:38:00\", \"2011-03-15T16:39:00\", \"2011-03-15T16:39:00\", \"2011-03-15T16:39:00\", \"2011-03-15T16:39:00\", \"2011-03-15T16:39:00\", \"2011-03-15T16:39:00\", \"2011-03-15T16:39:00\", \"2011-03-15T16:39:00\", \"2011-03-15T16:39:00\", \"2011-03-15T16:39:00\", \"2011-03-15T16:39:00\", \"2011-03-15T16:39:00\", \"2011-03-15T16:39:00\", \"2011-03-15T16:39:00\", \"2011-03-15T16:39:00\", \"2011-03-15T16:39:00\", \"2011-03-15T16:39:00\", \"2011-03-15T16:39:00\", \"2011-03-15T16:39:00\", \"2011-03-15T16:39:00\", \"2011-03-15T16:39:00\", \"2011-03-15T16:39:00\", \"2011-03-15T16:39:00\", \"2011-03-15T16:39:00\", \"2011-03-15T16:39:00\", \"2011-03-15T16:39:00\", \"2011-03-15T16:39:00\", \"2011-03-15T16:39:00\", \"2011-03-16T14:37:00\", \"2011-03-16T14:37:00\", \"2011-03-16T14:37:00\", \"2011-03-16T14:37:00\", \"2011-03-16T14:37:00\", \"2011-03-16T14:37:00\", \"2011-03-16T14:37:00\", \"2011-03-16T15:17:00\", \"2011-03-16T15:17:00\", \"2011-03-16T15:17:00\", \"2011-03-16T15:17:00\", \"2011-03-16T15:17:00\", \"2011-03-16T15:17:00\", \"2011-03-16T15:17:00\", \"2011-03-16T15:17:00\", \"2011-03-20T15:58:00\", \"2011-03-20T15:58:00\", \"2011-03-20T15:58:00\", \"2011-03-20T15:58:00\", \"2011-03-20T15:58:00\", \"2011-03-20T15:58:00\", \"2011-03-20T15:58:00\", \"2011-03-20T15:58:00\", \"2011-03-20T15:58:00\", \"2011-03-20T15:58:00\", \"2011-03-20T15:58:00\", \"2011-03-20T15:58:00\", \"2011-03-20T15:58:00\", \"2011-03-20T15:58:00\", \"2011-03-21T12:42:00\", \"2011-03-21T12:42:00\", \"2011-03-21T12:42:00\", \"2011-03-21T12:42:00\", \"2011-03-21T12:42:00\", \"2011-03-21T12:42:00\", \"2011-03-21T12:42:00\", \"2011-03-21T12:42:00\", \"2011-03-21T12:42:00\", \"2011-03-21T12:42:00\", \"2011-03-21T12:42:00\", \"2011-03-21T12:42:00\", \"2011-03-21T12:42:00\", \"2011-03-21T12:42:00\", \"2011-03-21T12:42:00\", \"2011-03-21T12:42:00\", \"2011-03-21T12:42:00\", \"2011-03-21T12:42:00\", \"2011-03-21T12:42:00\", \"2011-03-21T12:42:00\", \"2011-03-21T12:42:00\", \"2011-03-21T12:42:00\", \"2011-03-21T12:42:00\", \"2011-03-21T12:42:00\", \"2011-03-21T12:42:00\", \"2011-03-21T12:42:00\", \"2011-03-21T12:42:00\", \"2011-03-21T12:42:00\", \"2011-03-21T12:42:00\", \"2011-03-21T12:42:00\", \"2011-03-21T12:42:00\", \"2011-03-21T12:42:00\", \"2011-03-21T12:42:00\", \"2011-03-21T12:42:00\", \"2011-03-21T12:42:00\", \"2011-03-21T12:42:00\", \"2011-03-21T12:42:00\", \"2011-03-21T12:42:00\", \"2011-03-21T12:42:00\", \"2011-03-21T12:42:00\", \"2011-03-21T12:44:00\", \"2011-03-21T12:44:00\", \"2011-03-21T12:44:00\", \"2011-03-21T12:44:00\", \"2011-03-22T11:28:00\", \"2011-03-22T11:28:00\", \"2011-03-22T11:28:00\", \"2011-03-22T11:28:00\", \"2011-03-22T11:28:00\", \"2011-03-22T11:28:00\", \"2011-03-22T11:28:00\", \"2011-03-22T11:28:00\", \"2011-03-22T11:28:00\", \"2011-03-22T11:28:00\", \"2011-03-22T11:28:00\", \"2011-03-22T11:28:00\", \"2011-03-22T11:28:00\", \"2011-03-22T11:28:00\", \"2011-03-22T11:28:00\", \"2011-03-22T11:28:00\", \"2011-03-22T11:28:00\", \"2011-03-22T11:28:00\", \"2011-03-22T11:28:00\", \"2011-03-22T11:28:00\", \"2011-03-22T11:28:00\", \"2011-03-22T11:28:00\", \"2011-03-22T11:28:00\", \"2011-03-22T11:28:00\", \"2011-03-22T11:28:00\", \"2011-03-22T11:28:00\", \"2011-03-22T11:28:00\", \"2011-03-22T11:28:00\", \"2011-03-22T11:28:00\", \"2011-03-22T11:28:00\", \"2011-03-23T12:06:00\", \"2011-03-23T12:06:00\", \"2011-03-23T12:06:00\", \"2011-03-23T12:06:00\", \"2011-03-23T12:06:00\", \"2011-03-23T12:06:00\", \"2011-03-23T12:06:00\", \"2011-03-23T12:06:00\", \"2011-03-23T12:06:00\", \"2011-03-23T13:33:00\", \"2011-03-23T13:33:00\", \"2011-03-23T13:33:00\", \"2011-03-23T13:33:00\", \"2011-03-23T13:33:00\", \"2011-03-23T13:33:00\", \"2011-03-23T13:33:00\", \"2011-03-23T13:33:00\", \"2011-03-23T13:33:00\", \"2011-03-23T13:33:00\", \"2011-03-23T13:33:00\", \"2011-03-23T13:33:00\", \"2011-03-23T13:33:00\", \"2011-03-23T13:33:00\", \"2011-03-23T13:33:00\", \"2011-03-23T13:33:00\", \"2011-03-23T13:33:00\", \"2011-03-23T13:33:00\", \"2011-03-23T13:33:00\", \"2011-03-23T13:33:00\", \"2011-03-23T13:33:00\", \"2011-03-23T13:33:00\", \"2011-03-23T13:33:00\", \"2011-03-23T13:33:00\", \"2011-03-23T13:33:00\", \"2011-03-23T13:33:00\", \"2011-03-23T13:33:00\", \"2011-03-23T13:33:00\", \"2011-03-23T13:33:00\", \"2011-03-23T13:33:00\", \"2011-03-23T13:33:00\", \"2011-03-23T13:33:00\", \"2011-03-23T13:33:00\", \"2011-03-23T13:33:00\", \"2011-03-23T13:39:00\", \"2011-03-23T13:39:00\", \"2011-03-23T13:39:00\", \"2011-03-23T13:39:00\", \"2011-03-23T13:39:00\", \"2011-03-23T13:39:00\", \"2011-03-23T13:39:00\", \"2011-03-23T13:39:00\", \"2011-03-23T14:55:00\", \"2011-03-23T14:55:00\", \"2011-03-23T14:55:00\", \"2011-03-23T14:55:00\", \"2011-03-23T14:55:00\", \"2011-03-23T14:55:00\", \"2011-03-23T14:55:00\", \"2011-03-23T14:55:00\", \"2011-03-23T14:55:00\", \"2011-03-23T14:55:00\", \"2011-03-23T14:55:00\", \"2011-03-23T14:55:00\", \"2011-03-23T14:55:00\", \"2011-03-23T14:55:00\", \"2011-03-23T14:55:00\", \"2011-03-23T14:55:00\", \"2011-03-23T14:55:00\", \"2011-03-23T14:55:00\", \"2011-03-23T14:55:00\", \"2011-03-23T14:55:00\", \"2011-03-25T10:19:00\", \"2011-03-25T10:19:00\", \"2011-03-25T10:19:00\", \"2011-03-25T10:19:00\", \"2011-03-25T10:19:00\", \"2011-03-25T10:19:00\", \"2011-03-25T10:19:00\", \"2011-03-25T10:19:00\", \"2011-03-25T10:19:00\", \"2011-03-25T10:19:00\", \"2011-03-25T10:19:00\", \"2011-03-25T10:19:00\", \"2011-03-25T10:19:00\", \"2011-03-25T10:19:00\", \"2011-03-25T10:19:00\", \"2011-03-25T10:19:00\", \"2011-03-25T10:19:00\", \"2011-03-25T10:19:00\", \"2011-03-25T10:19:00\", \"2011-03-25T10:19:00\", \"2011-03-25T10:19:00\", \"2011-03-25T10:19:00\", \"2011-03-27T13:07:00\", \"2011-03-27T13:07:00\", \"2011-03-27T13:07:00\", \"2011-03-27T13:07:00\", \"2011-03-27T13:07:00\", \"2011-03-27T13:07:00\", \"2011-03-27T13:07:00\", \"2011-03-28T10:15:00\", \"2011-03-28T10:15:00\", \"2011-03-28T10:15:00\", \"2011-03-28T10:15:00\", \"2011-03-28T10:15:00\", \"2011-03-28T10:15:00\", \"2011-03-28T10:15:00\", \"2011-03-28T10:15:00\", \"2011-03-28T10:15:00\", \"2011-03-28T10:15:00\", \"2011-03-28T10:15:00\", \"2011-03-28T10:15:00\", \"2011-03-28T10:15:00\", \"2011-03-28T10:15:00\", \"2011-03-28T10:15:00\", \"2011-03-28T10:15:00\", \"2011-03-28T10:15:00\", \"2011-03-28T10:15:00\", \"2011-03-28T10:15:00\", \"2011-03-28T10:15:00\", \"2011-03-28T10:15:00\", \"2011-03-28T10:15:00\", \"2011-03-28T10:15:00\", \"2011-03-28T10:15:00\", \"2011-03-28T10:15:00\", \"2011-03-28T10:15:00\", \"2011-03-28T10:15:00\", \"2011-03-28T10:15:00\", \"2011-03-28T10:15:00\", \"2011-03-28T10:15:00\", \"2011-03-28T10:15:00\", \"2011-03-28T10:15:00\", \"2011-03-28T10:15:00\", \"2011-03-28T10:15:00\", \"2011-03-28T10:15:00\", \"2011-03-28T10:15:00\", \"2011-03-28T10:15:00\", \"2011-03-28T10:15:00\", \"2011-03-28T10:15:00\", \"2011-03-28T10:15:00\", \"2011-03-28T10:15:00\", \"2011-03-28T10:15:00\", \"2011-03-28T10:15:00\", \"2011-03-28T10:15:00\", \"2011-03-28T10:15:00\", \"2011-03-28T10:15:00\", \"2011-03-28T10:15:00\", \"2011-03-28T10:15:00\", \"2011-03-28T10:15:00\", \"2011-03-28T10:15:00\", \"2011-03-28T10:15:00\", \"2011-03-28T10:15:00\", \"2011-03-28T10:15:00\", \"2011-03-28T10:15:00\", \"2011-03-28T10:15:00\", \"2011-03-28T10:15:00\", \"2011-03-28T10:15:00\", \"2011-03-28T10:15:00\", \"2011-03-28T10:15:00\", \"2011-03-28T10:15:00\", \"2011-03-28T10:15:00\", \"2011-03-28T10:15:00\", \"2011-03-28T10:15:00\", \"2011-03-28T10:15:00\", \"2011-03-28T10:15:00\", \"2011-03-28T10:15:00\", \"2011-03-28T10:15:00\", \"2011-03-28T10:15:00\", \"2011-03-31T10:27:00\", \"2011-03-31T10:27:00\", \"2011-03-31T10:27:00\", \"2011-03-31T10:27:00\", \"2011-03-31T10:27:00\", \"2011-03-31T10:27:00\", \"2011-03-31T10:27:00\", \"2011-03-31T10:27:00\", \"2011-03-31T10:27:00\", \"2011-03-31T10:27:00\", \"2011-03-31T10:27:00\", \"2011-03-31T10:27:00\", \"2011-03-31T10:27:00\", \"2011-03-31T10:27:00\", \"2011-03-31T10:27:00\", \"2011-03-31T10:27:00\", \"2011-03-31T10:27:00\", \"2011-03-31T10:27:00\", \"2011-03-31T10:27:00\", \"2011-03-31T10:27:00\", \"2011-03-31T10:27:00\", \"2011-03-31T10:27:00\", \"2011-03-31T10:27:00\", \"2011-03-31T10:27:00\", \"2011-03-31T10:27:00\", \"2011-03-31T10:27:00\", \"2011-03-31T10:27:00\", \"2011-03-31T10:27:00\", \"2011-03-31T10:27:00\", \"2011-03-31T10:27:00\", \"2011-03-31T10:27:00\", \"2011-03-31T10:27:00\", \"2011-03-31T10:27:00\", \"2011-03-31T10:29:00\", \"2011-03-31T10:29:00\", \"2011-03-31T10:29:00\", \"2011-03-31T10:29:00\", \"2011-03-31T13:40:00\", \"2011-03-31T13:40:00\", \"2011-03-31T13:40:00\", \"2011-03-31T13:40:00\", \"2011-03-31T13:40:00\", \"2011-03-31T13:40:00\", \"2011-03-31T13:40:00\", \"2011-03-31T13:40:00\", \"2011-03-31T13:40:00\", \"2011-03-31T13:40:00\", \"2011-03-31T13:40:00\", \"2011-03-31T13:40:00\", \"2011-03-31T13:40:00\", \"2011-03-31T13:40:00\", \"2011-03-31T13:40:00\", \"2011-03-31T13:40:00\", \"2011-03-31T13:40:00\", \"2011-03-31T13:40:00\", \"2011-03-31T13:40:00\", \"2011-03-31T13:40:00\", \"2011-03-31T13:40:00\", \"2011-03-31T13:40:00\", \"2011-03-31T13:40:00\", \"2011-03-31T13:40:00\", \"2011-03-31T13:40:00\", \"2011-03-31T13:40:00\", \"2011-03-31T13:40:00\", \"2011-03-31T13:40:00\", \"2011-03-31T13:40:00\", \"2011-03-31T13:40:00\", \"2011-03-31T13:40:00\", \"2011-03-31T13:40:00\", \"2011-03-31T13:40:00\", \"2011-03-31T13:40:00\", \"2011-03-31T13:40:00\", \"2011-04-01T09:19:00\", \"2011-04-01T09:19:00\", \"2011-04-01T09:19:00\", \"2011-04-01T09:19:00\", \"2011-04-01T09:19:00\", \"2011-04-01T09:19:00\", \"2011-04-01T09:19:00\", \"2011-04-01T09:19:00\", \"2011-04-01T09:19:00\", \"2011-04-01T11:10:00\", \"2011-04-01T11:10:00\", \"2011-04-01T11:10:00\", \"2011-04-04T11:18:00\", \"2011-04-04T11:18:00\", \"2011-04-04T11:18:00\", \"2011-04-04T11:18:00\", \"2011-04-04T11:18:00\", \"2011-04-04T11:18:00\", \"2011-04-04T11:18:00\", \"2011-04-04T11:18:00\", \"2011-04-04T11:18:00\", \"2011-04-04T11:18:00\", \"2011-04-04T11:18:00\", \"2011-04-04T11:18:00\", \"2011-04-04T11:18:00\", \"2011-04-04T11:18:00\", \"2011-04-04T11:18:00\", \"2011-04-04T11:18:00\", \"2011-04-04T11:18:00\", \"2011-04-04T11:18:00\", \"2011-04-04T11:18:00\", \"2011-04-04T11:18:00\", \"2011-04-04T11:18:00\", \"2011-04-04T11:18:00\", \"2011-04-04T11:18:00\", \"2011-04-04T11:18:00\", \"2011-04-04T11:18:00\", \"2011-04-04T11:18:00\", \"2011-04-07T13:07:00\", \"2011-04-07T13:07:00\", \"2011-04-07T13:07:00\", \"2011-04-07T13:07:00\", \"2011-04-07T13:07:00\", \"2011-04-07T13:07:00\", \"2011-04-07T13:07:00\", \"2011-04-07T13:07:00\", \"2011-04-07T13:07:00\", \"2011-04-07T13:07:00\", \"2011-04-07T13:07:00\", \"2011-04-07T13:07:00\", \"2011-04-07T13:07:00\", \"2011-04-07T13:07:00\", \"2011-04-07T13:07:00\", \"2011-04-07T13:07:00\", \"2011-04-07T13:07:00\", \"2011-04-07T13:07:00\", \"2011-04-07T13:07:00\", \"2011-04-07T13:07:00\", \"2011-04-07T13:07:00\", \"2011-04-07T13:07:00\", \"2011-04-07T13:07:00\", \"2011-04-14T14:15:00\", \"2011-04-14T14:15:00\", \"2011-04-14T14:15:00\", \"2011-04-14T14:15:00\", \"2011-04-14T14:15:00\", \"2011-04-14T14:15:00\", \"2011-04-14T14:15:00\", \"2011-04-14T14:15:00\", \"2011-04-14T14:15:00\", \"2011-04-14T14:15:00\", \"2011-04-14T14:15:00\", \"2011-04-14T14:15:00\", \"2011-04-14T14:15:00\", \"2011-04-14T14:15:00\", \"2011-04-14T14:15:00\", \"2011-04-14T14:15:00\", \"2011-04-14T14:15:00\", \"2011-04-14T14:15:00\", \"2011-04-14T14:15:00\", \"2011-04-14T14:15:00\", \"2011-04-14T14:15:00\", \"2011-04-14T14:15:00\", \"2011-04-14T14:15:00\", \"2011-04-14T14:15:00\", \"2011-04-14T14:15:00\", \"2011-04-14T14:15:00\", \"2011-04-14T14:15:00\", \"2011-04-14T14:15:00\", \"2011-04-14T14:15:00\", \"2011-04-14T14:15:00\", \"2011-04-17T11:21:00\", \"2011-04-17T11:21:00\", \"2011-04-17T11:21:00\", \"2011-04-17T11:21:00\", \"2011-04-17T11:21:00\", \"2011-04-17T11:21:00\", \"2011-04-17T11:21:00\", \"2011-04-17T11:21:00\", \"2011-04-17T11:21:00\", \"2011-04-17T11:21:00\", \"2011-04-17T11:21:00\", \"2011-04-17T11:21:00\", \"2011-04-17T11:21:00\", \"2011-04-17T11:21:00\", \"2011-04-17T11:21:00\", \"2011-04-17T11:21:00\", \"2011-04-17T11:21:00\", \"2011-04-17T11:21:00\", \"2011-04-17T11:21:00\", \"2011-04-17T11:21:00\", \"2011-04-17T11:21:00\", \"2011-04-17T11:21:00\", \"2011-04-17T11:21:00\", \"2011-04-17T11:21:00\", \"2011-04-17T11:21:00\", \"2011-04-17T11:21:00\", \"2011-04-17T15:33:00\", \"2011-04-17T15:33:00\", \"2011-04-17T15:33:00\", \"2011-04-17T15:33:00\", \"2011-04-20T09:20:00\", \"2011-04-20T09:20:00\", \"2011-04-20T09:20:00\", \"2011-04-20T09:20:00\", \"2011-04-20T09:20:00\", \"2011-04-20T09:20:00\", \"2011-04-20T09:20:00\", \"2011-04-20T09:20:00\", \"2011-04-20T09:20:00\", \"2011-04-20T09:20:00\", \"2011-04-20T09:20:00\", \"2011-04-20T09:20:00\", \"2011-04-20T09:20:00\", \"2011-04-20T09:20:00\", \"2011-04-20T09:20:00\", \"2011-04-20T09:20:00\", \"2011-04-20T09:20:00\", \"2011-04-21T08:54:00\", \"2011-04-21T08:54:00\", \"2011-04-21T08:54:00\", \"2011-04-21T08:54:00\", \"2011-04-21T08:54:00\", \"2011-04-21T08:54:00\", \"2011-04-21T08:54:00\", \"2011-04-21T08:54:00\", \"2011-04-21T08:54:00\", \"2011-04-21T08:54:00\", \"2011-04-21T08:54:00\", \"2011-04-21T08:54:00\", \"2011-04-21T08:54:00\", \"2011-04-21T08:54:00\", \"2011-04-21T08:54:00\", \"2011-04-21T08:54:00\", \"2011-04-21T08:54:00\", \"2011-04-21T08:54:00\", \"2011-04-21T08:54:00\", \"2011-04-21T08:54:00\", \"2011-04-21T08:54:00\", \"2011-04-21T08:54:00\", \"2011-04-21T08:54:00\", \"2011-04-21T10:16:00\", \"2011-04-21T10:16:00\", \"2011-04-21T10:16:00\", \"2011-04-21T10:16:00\", \"2011-04-21T10:16:00\", \"2011-04-21T10:16:00\", \"2011-04-21T10:16:00\", \"2011-04-21T10:16:00\", \"2011-04-21T10:16:00\", \"2011-04-21T10:16:00\", \"2011-04-21T10:16:00\", \"2011-04-21T10:16:00\", \"2011-04-21T10:16:00\", \"2011-04-21T10:16:00\", \"2011-04-21T10:16:00\", \"2011-04-21T10:16:00\", \"2011-04-21T10:16:00\", \"2011-04-21T10:16:00\", \"2011-04-21T10:16:00\", \"2011-04-21T10:16:00\", \"2011-04-21T10:16:00\", \"2011-04-26T15:52:00\", \"2011-04-26T15:52:00\", \"2011-04-26T15:52:00\", \"2011-04-26T15:52:00\", \"2011-04-26T15:52:00\", \"2011-04-26T15:52:00\", \"2011-04-26T15:52:00\", \"2011-04-26T15:52:00\", \"2011-04-26T15:52:00\", \"2011-04-26T15:52:00\", \"2011-04-26T15:52:00\", \"2011-04-26T15:52:00\", \"2011-04-26T15:52:00\", \"2011-04-26T15:52:00\", \"2011-04-26T15:52:00\", \"2011-04-26T15:52:00\", \"2011-04-26T15:52:00\", \"2011-04-26T15:52:00\", \"2011-04-26T15:52:00\", \"2011-04-26T15:52:00\", \"2011-04-26T15:52:00\", \"2011-04-26T15:52:00\", \"2011-04-26T15:52:00\", \"2011-04-26T15:52:00\", \"2011-04-26T15:52:00\", \"2011-04-26T15:52:00\", \"2011-04-26T15:52:00\", \"2011-04-26T15:52:00\", \"2011-04-28T11:45:00\", \"2011-04-28T11:45:00\", \"2011-04-28T11:45:00\", \"2011-04-28T11:45:00\", \"2011-04-28T11:45:00\", \"2011-04-28T11:45:00\", \"2011-04-28T11:45:00\", \"2011-05-03T08:40:00\", \"2011-05-03T08:40:00\", \"2011-05-03T08:40:00\", \"2011-05-03T08:40:00\", \"2011-05-03T08:40:00\", \"2011-05-03T08:40:00\", \"2011-05-03T08:40:00\", \"2011-05-03T08:40:00\", \"2011-05-03T08:40:00\", \"2011-05-03T08:40:00\", \"2011-05-03T08:40:00\", \"2011-05-03T08:40:00\", \"2011-05-03T08:40:00\", \"2011-05-03T08:40:00\", \"2011-05-03T08:40:00\", \"2011-05-03T08:40:00\", \"2011-05-03T08:40:00\", \"2011-05-03T08:40:00\", \"2011-05-03T08:40:00\", \"2011-05-03T08:40:00\", \"2011-05-03T09:33:00\", \"2011-05-03T09:33:00\", \"2011-05-03T09:33:00\", \"2011-05-03T09:33:00\", \"2011-05-03T09:33:00\", \"2011-05-03T09:33:00\", \"2011-05-03T09:33:00\", \"2011-05-03T09:33:00\", \"2011-05-03T09:33:00\", \"2011-05-03T09:33:00\", \"2011-05-03T09:33:00\", \"2011-05-03T09:33:00\", \"2011-05-03T09:33:00\", \"2011-05-03T09:33:00\", \"2011-05-03T09:33:00\", \"2011-05-03T09:33:00\", \"2011-05-03T09:33:00\", \"2011-05-03T09:33:00\", \"2011-05-03T09:33:00\", \"2011-05-03T09:33:00\", \"2011-05-03T09:34:00\", \"2011-05-03T12:02:00\", \"2011-05-03T12:02:00\", \"2011-05-03T12:02:00\", \"2011-05-03T12:03:00\", \"2011-05-03T12:03:00\", \"2011-05-03T12:03:00\", \"2011-05-03T12:03:00\", \"2011-05-05T09:29:00\", \"2011-05-05T09:29:00\", \"2011-05-05T09:29:00\", \"2011-05-05T09:29:00\", \"2011-05-05T09:29:00\", \"2011-05-05T09:29:00\", \"2011-05-05T09:29:00\", \"2011-05-05T09:29:00\", \"2011-05-05T09:29:00\", \"2011-05-05T09:29:00\", \"2011-05-08T16:10:00\", \"2011-05-08T16:10:00\", \"2011-05-08T16:10:00\", \"2011-05-08T16:10:00\", \"2011-05-08T16:10:00\", \"2011-05-08T16:10:00\", \"2011-05-08T16:10:00\", \"2011-05-08T16:10:00\", \"2011-05-08T16:10:00\", \"2011-05-08T16:10:00\", \"2011-05-08T16:10:00\", \"2011-05-08T16:10:00\", \"2011-05-08T16:10:00\", \"2011-05-08T16:10:00\", \"2011-05-08T16:10:00\", \"2011-05-08T16:10:00\", \"2011-05-08T16:10:00\", \"2011-05-08T16:10:00\", \"2011-05-08T16:10:00\", \"2011-05-08T16:10:00\", \"2011-05-08T16:10:00\", \"2011-05-08T16:10:00\", \"2011-05-08T16:10:00\", \"2011-05-08T16:10:00\", \"2011-05-08T16:10:00\", \"2011-05-08T16:10:00\", \"2011-05-08T16:10:00\", \"2011-05-08T16:10:00\", \"2011-05-08T16:10:00\", \"2011-05-08T16:10:00\", \"2011-05-08T16:10:00\", \"2011-05-08T16:10:00\", \"2011-05-08T16:10:00\", \"2011-05-08T16:10:00\", \"2011-05-08T16:10:00\", \"2011-05-08T16:10:00\", \"2011-05-08T16:10:00\", \"2011-05-08T16:10:00\", \"2011-05-08T16:10:00\", \"2011-05-08T16:10:00\", \"2011-05-08T16:10:00\", \"2011-05-08T16:10:00\", \"2011-05-08T16:10:00\", \"2011-05-08T16:10:00\", \"2011-05-08T16:10:00\", \"2011-05-08T16:10:00\", \"2011-05-08T16:10:00\", \"2011-05-08T16:10:00\", \"2011-05-08T16:10:00\", \"2011-05-08T16:10:00\", \"2011-05-08T16:10:00\", \"2011-05-08T16:10:00\", \"2011-05-08T16:10:00\", \"2011-05-08T16:10:00\", \"2011-05-08T16:10:00\", \"2011-05-08T16:10:00\", \"2011-05-08T16:10:00\", \"2011-05-08T16:10:00\", \"2011-05-08T16:10:00\", \"2011-05-08T16:10:00\", \"2011-05-08T16:10:00\", \"2011-05-09T09:47:00\", \"2011-05-09T09:47:00\", \"2011-05-09T09:47:00\", \"2011-05-09T09:47:00\", \"2011-05-09T09:47:00\", \"2011-05-09T09:47:00\", \"2011-05-09T09:47:00\", \"2011-05-09T09:47:00\", \"2011-05-09T09:47:00\", \"2011-05-09T09:47:00\", \"2011-05-09T09:47:00\", \"2011-05-09T09:47:00\", \"2011-05-09T09:47:00\", \"2011-05-09T09:47:00\", \"2011-05-09T09:47:00\", \"2011-05-09T09:47:00\", \"2011-05-09T15:12:00\", \"2011-05-09T15:12:00\", \"2011-05-09T15:12:00\", \"2011-05-09T15:12:00\", \"2011-05-09T15:12:00\", \"2011-05-09T15:12:00\", \"2011-05-09T15:12:00\", \"2011-05-09T15:12:00\", \"2011-05-09T15:12:00\", \"2011-05-10T12:55:00\", \"2011-05-10T12:55:00\", \"2011-05-10T12:55:00\", \"2011-05-10T12:55:00\", \"2011-05-10T12:55:00\", \"2011-05-10T12:55:00\", \"2011-05-10T12:55:00\", \"2011-05-10T12:55:00\", \"2011-05-10T12:55:00\", \"2011-05-10T12:55:00\", \"2011-05-10T12:55:00\", \"2011-05-10T12:55:00\", \"2011-05-10T12:55:00\", \"2011-05-10T12:55:00\", \"2011-05-10T12:55:00\", \"2011-05-10T12:55:00\", \"2011-05-10T12:55:00\", \"2011-05-10T12:55:00\", \"2011-05-10T12:55:00\", \"2011-05-10T12:55:00\", \"2011-05-10T12:55:00\", \"2011-05-10T12:55:00\", \"2011-05-10T12:55:00\", \"2011-05-10T12:55:00\", \"2011-05-10T12:55:00\", \"2011-05-10T12:55:00\", \"2011-05-10T12:55:00\", \"2011-05-10T12:55:00\", \"2011-05-10T12:55:00\", \"2011-05-11T13:20:00\", \"2011-05-11T13:20:00\", \"2011-05-11T13:20:00\", \"2011-05-11T13:20:00\", \"2011-05-11T13:20:00\", \"2011-05-11T13:20:00\", \"2011-05-11T13:20:00\", \"2011-05-11T13:20:00\", \"2011-05-11T13:20:00\", \"2011-05-11T13:20:00\", \"2011-05-11T13:20:00\", \"2011-05-11T13:20:00\", \"2011-05-11T13:20:00\", \"2011-05-11T13:20:00\", \"2011-05-11T13:20:00\", \"2011-05-11T13:20:00\", \"2011-05-11T13:20:00\", \"2011-05-11T13:20:00\", \"2011-05-11T13:20:00\", \"2011-05-11T13:20:00\", \"2011-05-11T13:20:00\", \"2011-05-11T13:20:00\", \"2011-05-11T13:20:00\", \"2011-05-11T13:20:00\", \"2011-05-11T13:20:00\", \"2011-05-11T13:20:00\", \"2011-05-11T13:20:00\", \"2011-05-11T13:20:00\", \"2011-05-11T13:20:00\", \"2011-05-11T13:20:00\", \"2011-05-11T13:20:00\", \"2011-05-11T13:20:00\", \"2011-05-11T13:20:00\", \"2011-05-11T13:20:00\", \"2011-05-11T13:20:00\", \"2011-05-11T13:20:00\", \"2011-05-11T13:20:00\", \"2011-05-11T13:20:00\", \"2011-05-11T13:20:00\", \"2011-05-11T13:20:00\", \"2011-05-11T13:20:00\", \"2011-05-11T13:20:00\", \"2011-05-11T13:20:00\", \"2011-05-11T13:20:00\", \"2011-05-11T13:20:00\", \"2011-05-11T13:20:00\", \"2011-05-11T13:20:00\", \"2011-05-11T13:20:00\", \"2011-05-11T13:20:00\", \"2011-05-11T13:20:00\", \"2011-05-11T13:20:00\", \"2011-05-11T13:20:00\", \"2011-05-11T13:20:00\", \"2011-05-11T13:20:00\", \"2011-05-11T13:20:00\", \"2011-05-11T13:20:00\", \"2011-05-11T13:20:00\", \"2011-05-11T13:20:00\", \"2011-05-11T13:20:00\", \"2011-05-11T13:20:00\", \"2011-05-11T13:20:00\", \"2011-05-11T13:20:00\", \"2011-05-11T13:20:00\", \"2011-05-11T13:20:00\", \"2011-05-11T13:20:00\", \"2011-05-11T13:20:00\", \"2011-05-11T13:20:00\", \"2011-05-11T13:20:00\", \"2011-05-11T13:20:00\", \"2011-05-11T13:20:00\", \"2011-05-11T13:20:00\", \"2011-05-11T13:20:00\", \"2011-05-11T13:20:00\", \"2011-05-11T13:20:00\", \"2011-05-11T13:20:00\", \"2011-05-11T15:07:00\", \"2011-05-11T15:07:00\", \"2011-05-11T15:07:00\", \"2011-05-11T15:07:00\", \"2011-05-11T15:07:00\", \"2011-05-11T15:07:00\", \"2011-05-11T15:07:00\", \"2011-05-11T15:07:00\", \"2011-05-11T15:07:00\", \"2011-05-11T15:07:00\", \"2011-05-11T15:07:00\", \"2011-05-11T15:07:00\", \"2011-05-11T15:07:00\", \"2011-05-11T15:07:00\", \"2011-05-11T15:07:00\", \"2011-05-11T15:07:00\", \"2011-05-11T15:07:00\", \"2011-05-11T15:07:00\", \"2011-05-11T15:07:00\", \"2011-05-11T15:07:00\", \"2011-05-11T15:07:00\", \"2011-05-11T15:07:00\", \"2011-05-11T15:07:00\", \"2011-05-12T11:50:00\", \"2011-05-12T11:50:00\", \"2011-05-12T11:50:00\", \"2011-05-12T11:50:00\", \"2011-05-12T11:50:00\", \"2011-05-12T11:50:00\", \"2011-05-12T11:50:00\", \"2011-05-12T11:50:00\", \"2011-05-12T11:50:00\", \"2011-05-12T11:50:00\", \"2011-05-12T11:50:00\", \"2011-05-13T09:24:00\", \"2011-05-13T09:24:00\", \"2011-05-13T09:24:00\", \"2011-05-13T09:24:00\", \"2011-05-13T09:24:00\", \"2011-05-13T09:24:00\", \"2011-05-13T09:24:00\", \"2011-05-13T09:24:00\", \"2011-05-13T09:24:00\", \"2011-05-13T09:24:00\", \"2011-05-13T09:24:00\", \"2011-05-13T09:24:00\", \"2011-05-13T09:24:00\", \"2011-05-13T09:24:00\", \"2011-05-13T09:24:00\", \"2011-05-13T09:24:00\", \"2011-05-13T09:24:00\", \"2011-05-13T09:24:00\", \"2011-05-13T09:24:00\", \"2011-05-13T09:24:00\", \"2011-05-13T09:24:00\", \"2011-05-13T09:24:00\", \"2011-05-13T09:24:00\", \"2011-05-13T13:15:00\", \"2011-05-13T13:15:00\", \"2011-05-13T13:15:00\", \"2011-05-13T13:15:00\", \"2011-05-13T13:15:00\", \"2011-05-13T13:15:00\", \"2011-05-13T15:48:00\", \"2011-05-13T15:48:00\", \"2011-05-13T15:48:00\", \"2011-05-13T15:48:00\", \"2011-05-13T15:48:00\", \"2011-05-13T15:48:00\", \"2011-05-13T15:48:00\", \"2011-05-13T15:48:00\", \"2011-05-13T15:48:00\", \"2011-05-13T15:48:00\", \"2011-05-13T15:48:00\", \"2011-05-13T15:48:00\", \"2011-05-13T15:48:00\", \"2011-05-13T15:48:00\", \"2011-05-13T15:48:00\", \"2011-05-13T15:48:00\", \"2011-05-13T15:48:00\", \"2011-05-13T15:48:00\", \"2011-05-13T15:48:00\", \"2011-05-13T15:48:00\", \"2011-05-13T15:48:00\", \"2011-05-13T15:48:00\", \"2011-05-15T13:45:00\", \"2011-05-15T13:45:00\", \"2011-05-15T13:45:00\", \"2011-05-15T13:45:00\", \"2011-05-15T13:45:00\", \"2011-05-15T13:45:00\", \"2011-05-15T13:45:00\", \"2011-05-15T13:45:00\", \"2011-05-15T13:45:00\", \"2011-05-16T09:10:00\", \"2011-05-16T09:10:00\", \"2011-05-16T09:10:00\", \"2011-05-16T09:10:00\", \"2011-05-16T09:10:00\", \"2011-05-16T09:10:00\", \"2011-05-16T09:10:00\", \"2011-05-16T09:10:00\", \"2011-05-16T09:10:00\", \"2011-05-16T09:10:00\", \"2011-05-16T09:10:00\", \"2011-05-16T09:10:00\", \"2011-05-16T09:10:00\", \"2011-05-16T09:10:00\", \"2011-05-16T09:10:00\", \"2011-05-16T09:10:00\", \"2011-05-16T12:04:00\", \"2011-05-16T12:04:00\", \"2011-05-16T12:04:00\", \"2011-05-16T12:04:00\", \"2011-05-16T12:04:00\", \"2011-05-16T12:04:00\", \"2011-05-17T09:28:00\", \"2011-05-17T09:28:00\", \"2011-05-17T09:28:00\", \"2011-05-17T09:28:00\", \"2011-05-17T09:28:00\", \"2011-05-17T09:28:00\", \"2011-05-17T09:28:00\", \"2011-05-17T09:28:00\", \"2011-05-17T09:28:00\", \"2011-05-17T09:28:00\", \"2011-05-17T09:28:00\", \"2011-05-17T09:28:00\", \"2011-05-17T09:28:00\", \"2011-05-17T09:28:00\", \"2011-05-17T09:28:00\", \"2011-05-17T09:28:00\", \"2011-05-17T09:28:00\", \"2011-05-17T09:28:00\", \"2011-05-17T09:28:00\", \"2011-05-17T09:28:00\", \"2011-05-17T09:28:00\", \"2011-05-17T09:28:00\", \"2011-05-17T09:28:00\", \"2011-05-17T09:28:00\", \"2011-05-17T09:28:00\", \"2011-05-17T09:28:00\", \"2011-05-17T09:28:00\", \"2011-05-17T09:28:00\", \"2011-05-17T09:28:00\", \"2011-05-17T09:28:00\", \"2011-05-17T09:28:00\", \"2011-05-17T09:28:00\", \"2011-05-17T09:28:00\", \"2011-05-17T09:28:00\", \"2011-05-17T09:28:00\", \"2011-05-17T09:28:00\", \"2011-05-17T09:28:00\", \"2011-05-17T09:28:00\", \"2011-05-17T09:28:00\", \"2011-05-17T09:28:00\", \"2011-05-17T09:28:00\", \"2011-05-17T09:28:00\", \"2011-05-17T09:28:00\", \"2011-05-17T09:28:00\", \"2011-05-18T09:09:00\", \"2011-05-18T09:09:00\", \"2011-05-18T09:09:00\", \"2011-05-18T09:09:00\", \"2011-05-18T09:09:00\", \"2011-05-18T09:09:00\", \"2011-05-18T09:09:00\", \"2011-05-18T09:09:00\", \"2011-05-18T09:09:00\", \"2011-05-18T09:09:00\", \"2011-05-18T09:09:00\", \"2011-05-18T09:09:00\", \"2011-05-18T09:09:00\", \"2011-05-18T09:09:00\", \"2011-05-18T09:09:00\", \"2011-05-18T10:34:00\", \"2011-05-18T10:34:00\", \"2011-05-18T10:34:00\", \"2011-05-18T10:34:00\", \"2011-05-18T10:34:00\", \"2011-05-18T10:34:00\", \"2011-05-18T10:34:00\", \"2011-05-18T10:34:00\", \"2011-05-18T10:34:00\", \"2011-05-18T12:18:00\", \"2011-05-19T12:10:00\", \"2011-05-19T12:10:00\", \"2011-05-19T12:10:00\", \"2011-05-19T12:10:00\", \"2011-05-19T12:10:00\", \"2011-05-19T12:10:00\", \"2011-05-19T12:10:00\", \"2011-05-19T12:10:00\", \"2011-05-19T12:10:00\", \"2011-05-19T12:10:00\", \"2011-05-19T12:10:00\", \"2011-05-19T12:10:00\", \"2011-05-19T12:10:00\", \"2011-05-19T12:10:00\", \"2011-05-19T12:10:00\", \"2011-05-19T12:10:00\", \"2011-05-19T12:10:00\", \"2011-05-19T12:10:00\", \"2011-05-19T12:10:00\", \"2011-05-19T12:10:00\", \"2011-05-19T12:10:00\", \"2011-05-19T12:10:00\", \"2011-05-19T12:10:00\", \"2011-05-19T12:10:00\", \"2011-05-19T12:10:00\", \"2011-05-19T12:10:00\", \"2011-05-19T12:10:00\", \"2011-05-19T12:10:00\", \"2011-05-19T12:10:00\", \"2011-05-19T12:10:00\", \"2011-05-19T12:10:00\", \"2011-05-19T12:10:00\", \"2011-05-19T12:10:00\", \"2011-05-19T12:29:00\", \"2011-05-19T12:29:00\", \"2011-05-19T12:29:00\", \"2011-05-19T12:29:00\", \"2011-05-19T12:29:00\", \"2011-05-19T12:29:00\", \"2011-05-19T12:29:00\", \"2011-05-19T12:29:00\", \"2011-05-19T12:29:00\", \"2011-05-19T12:29:00\", \"2011-05-19T12:29:00\", \"2011-05-19T12:29:00\", \"2011-05-19T12:29:00\", \"2011-05-19T12:29:00\", \"2011-05-19T12:29:00\", \"2011-05-19T12:29:00\", \"2011-05-19T12:29:00\", \"2011-05-19T12:29:00\", \"2011-05-20T11:34:00\", \"2011-05-20T11:34:00\", \"2011-05-20T11:34:00\", \"2011-05-20T11:34:00\", \"2011-05-20T11:34:00\", \"2011-05-20T11:34:00\", \"2011-05-20T11:34:00\", \"2011-05-20T11:34:00\", \"2011-05-20T11:34:00\", \"2011-05-20T11:34:00\", \"2011-05-20T11:34:00\", \"2011-05-20T11:34:00\", \"2011-05-20T11:34:00\", \"2011-05-22T13:01:00\", \"2011-05-22T13:01:00\", \"2011-05-22T13:01:00\", \"2011-05-22T13:01:00\", \"2011-05-22T13:01:00\", \"2011-05-22T13:01:00\", \"2011-05-22T13:01:00\", \"2011-05-22T13:01:00\", \"2011-05-22T13:01:00\", \"2011-05-22T13:01:00\", \"2011-05-22T13:01:00\", \"2011-05-22T13:01:00\", \"2011-05-22T13:01:00\", \"2011-05-22T13:01:00\", \"2011-05-22T13:01:00\", \"2011-05-22T13:01:00\", \"2011-05-22T13:01:00\", \"2011-05-22T13:01:00\", \"2011-05-22T13:01:00\", \"2011-05-22T13:01:00\", \"2011-05-22T13:01:00\", \"2011-05-22T13:01:00\", \"2011-05-22T13:01:00\", \"2011-05-22T13:01:00\", \"2011-05-22T13:01:00\", \"2011-05-22T13:01:00\", \"2011-05-22T13:01:00\", \"2011-05-22T13:01:00\", \"2011-05-22T13:01:00\", \"2011-05-22T13:01:00\", \"2011-05-22T13:01:00\", \"2011-05-22T13:01:00\", \"2011-05-22T13:01:00\", \"2011-05-22T13:01:00\", \"2011-05-22T14:33:00\", \"2011-05-22T14:33:00\", \"2011-05-22T14:33:00\", \"2011-05-22T14:33:00\", \"2011-05-22T14:33:00\", \"2011-05-22T14:33:00\", \"2011-05-22T14:33:00\", \"2011-05-22T14:33:00\", \"2011-05-22T14:33:00\", \"2011-05-23T09:48:00\", \"2011-05-23T09:48:00\", \"2011-05-23T09:48:00\", \"2011-05-23T09:48:00\", \"2011-05-23T09:48:00\", \"2011-05-23T09:48:00\", \"2011-05-23T09:48:00\", \"2011-05-23T09:48:00\", \"2011-05-23T09:48:00\", \"2011-05-23T09:48:00\", \"2011-05-23T09:48:00\", \"2011-05-23T09:48:00\", \"2011-05-23T09:48:00\", \"2011-05-23T09:48:00\", \"2011-05-23T09:48:00\", \"2011-05-23T09:48:00\", \"2011-05-23T09:48:00\", \"2011-05-23T09:48:00\", \"2011-05-23T09:48:00\", \"2011-05-24T09:25:00\", \"2011-05-24T09:25:00\", \"2011-05-24T09:25:00\", \"2011-05-24T09:25:00\", \"2011-05-24T09:25:00\", \"2011-05-24T09:25:00\", \"2011-05-24T09:25:00\", \"2011-05-24T09:25:00\", \"2011-05-24T09:25:00\", \"2011-05-24T09:25:00\", \"2011-05-24T09:25:00\", \"2011-05-24T09:25:00\", \"2011-05-25T10:08:00\", \"2011-05-25T10:08:00\", \"2011-05-25T10:08:00\", \"2011-05-25T10:08:00\", \"2011-05-25T10:08:00\", \"2011-05-25T10:08:00\", \"2011-05-25T10:08:00\", \"2011-05-25T10:08:00\", \"2011-05-25T10:08:00\", \"2011-05-25T10:08:00\", \"2011-05-25T12:44:00\", \"2011-05-25T12:44:00\", \"2011-05-25T12:44:00\", \"2011-05-25T12:44:00\", \"2011-05-25T12:44:00\", \"2011-05-25T12:44:00\", \"2011-05-25T12:44:00\", \"2011-05-25T12:44:00\", \"2011-05-25T12:44:00\", \"2011-05-25T12:44:00\", \"2011-05-25T12:44:00\", \"2011-05-25T12:44:00\", \"2011-05-25T12:44:00\", \"2011-05-25T12:44:00\", \"2011-05-25T12:44:00\", \"2011-05-25T12:44:00\", \"2011-05-25T12:44:00\", \"2011-05-25T12:44:00\", \"2011-05-25T12:44:00\", \"2011-05-25T12:44:00\", \"2011-05-25T12:54:00\", \"2011-05-25T12:54:00\", \"2011-05-25T12:54:00\", \"2011-05-25T12:54:00\", \"2011-05-25T12:54:00\", \"2011-05-25T12:54:00\", \"2011-05-25T12:54:00\", \"2011-05-25T12:54:00\", \"2011-05-25T12:54:00\", \"2011-05-25T12:54:00\", \"2011-05-25T12:54:00\", \"2011-05-25T12:54:00\", \"2011-05-25T12:54:00\", \"2011-05-25T12:54:00\", \"2011-05-25T12:54:00\", \"2011-05-25T12:54:00\", \"2011-05-25T12:54:00\", \"2011-05-25T12:54:00\", \"2011-05-25T12:54:00\", \"2011-05-25T12:54:00\", \"2011-05-25T12:54:00\", \"2011-05-25T12:54:00\", \"2011-05-25T12:54:00\", \"2011-05-25T12:54:00\", \"2011-05-25T12:54:00\", \"2011-05-25T12:54:00\", \"2011-05-25T12:54:00\", \"2011-05-25T12:54:00\", \"2011-05-25T12:54:00\", \"2011-05-26T14:53:00\", \"2011-05-26T14:53:00\", \"2011-05-26T14:53:00\", \"2011-05-26T14:53:00\", \"2011-05-26T14:53:00\", \"2011-05-26T14:53:00\", \"2011-05-26T14:53:00\", \"2011-05-26T14:53:00\", \"2011-05-26T14:53:00\", \"2011-05-26T14:53:00\", \"2011-05-26T14:53:00\", \"2011-05-26T17:16:00\", \"2011-05-26T17:16:00\", \"2011-05-26T17:16:00\", \"2011-05-26T17:16:00\", \"2011-05-26T17:16:00\", \"2011-05-26T17:16:00\", \"2011-05-26T17:16:00\", \"2011-05-26T17:16:00\", \"2011-05-26T17:16:00\", \"2011-05-26T17:16:00\", \"2011-05-26T17:16:00\", \"2011-05-26T17:16:00\", \"2011-05-27T13:49:00\", \"2011-05-27T13:49:00\", \"2011-05-27T13:49:00\", \"2011-05-27T13:49:00\", \"2011-05-27T13:49:00\", \"2011-05-27T13:49:00\", \"2011-05-27T13:49:00\", \"2011-05-27T13:49:00\", \"2011-05-27T13:49:00\", \"2011-05-27T13:49:00\", \"2011-05-27T13:49:00\", \"2011-05-27T13:49:00\", \"2011-05-27T13:49:00\", \"2011-05-27T13:49:00\", \"2011-05-27T13:49:00\", \"2011-05-27T13:49:00\", \"2011-05-27T13:49:00\", \"2011-05-27T13:49:00\", \"2011-05-27T13:49:00\", \"2011-05-27T13:49:00\"], \"xaxis\": \"x\", \"y\": [7.800000000000001, 19.8, 17.7, 17.4, 11.9, 19.5, 38.25, 15.0, 19.8, 17.0, 13.2, 19.8, 15.6, 15.3, 10.2, 17.7, 19.8, 17.7, 17.7, 20.4, 15.6, 5.04, 15.0, 15.9, 5.04, 15.3, 4.56, 10.2, 10.08, 12.5, 15.0, 6.8, 19.5, 17.7, 19.8, 5.04, 15.3, 25.5, 15.0, 17.7, 17.85, 15.0, 10.2, 53.55, 15.0, 17.7, 17.7, 19.8, 15.0, 15.0, 38.25, 17.88, 19.8, 10.2, 20.1, 15.0, 47.7, 15.3, 5.04, 15.0, 17.85, 53.55, 17.7, 31.8, 17.4, 13.2, 13.2, 13.2, 15.3, 19.8, 13.2, 19.8, 8.95, 6.959999999999999, 8.95, 8.4, 17.4, 17.4, 10.08, 19.8, 19.8, 17.4, 12.6, 13.2, 10.2, 15.95, 8.95, 13.2, 13.2, 10.08, 16.5, 19.8, 14.95, 14.75, 20.4, 7.800000000000001, 17.7, 19.8, 19.9, 7.800000000000001, 8.5, 17.7, 10.2, 12.6, 47.7, 10.2, 15.3, 26.85, 8.5, 17.85, 15.0, 19.5, 29.7, 29.95, 29.7, 17.85, 51.0, 27.36, 35.7, 19.8, 17.0, 45.0, 53.1, 10.2, 45.0, 7.800000000000001, 39.59999999999999, 10.2, 60.0, 39.59999999999999, 26.4, 31.8, 39.59999999999999, 26.4, 45.0, 15.6, 30.0, 14.85, 15.9, 31.9, 29.7, 9.899999999999999, 25.2, 30.6, 19.8, 32.84999999999999, 13.5, 26.85, 17.7, 20.1, 10.08, 10.2, 10.2, 12.6, 7.800000000000001, 14.85, 7.800000000000001, 15.0, 17.85, 17.7, 19.8, 30.6, 19.8, 23.25, 30.0, 30.0, 17.0, 11.7, 30.0, 15.9, 12.75, 30.0, 23.4, 15.0, 14.85, 30.0, 5.88, 15.0, 15.3, 39.59999999999999, 39.59999999999999, 10.2, 39.59999999999999, 30.0, 5.88, 45.90000000000001, 19.8, 30.0, 6.3, 14.75, 8.5, 14.85, 39.59999999999999, 15.0, 30.0, 23.4, 39.59999999999999, 46.8, 30.0, 19.5, 19.8, 30.6, 19.5, 14.85, 30.0, 15.0, 13.2, 15.0, 15.0, 46.8, 46.8, 50.4, 835.1999999999999, 25.2, 39.59999999999999, 22.95, 15.0, 12.75, 10.2, 17.7, 19.8, 19.8, 12.6, 5.04, 15.9, 16.5, 16.5, 16.5, 8.5, 16.5, 8.5, 8.5, 16.5, 20.4, 8.5, 15.0, 12.75, 14.85, 10.95, 17.0, 17.4, 15.0, 30.0, 131.4, 25.5, 23.4, 87.6, 40.8, 17.7, 14.85, 15.0, 23.4, 15.0, 13.2, 19.8, 29.9, 19.8, 13.2, 19.8, 17.7, 17.7, 8.5, 10.2, 17.7, 17.7, 16.5, 17.0, 17.7, 10.08, 15.9, 14.85, 10.08, 17.7, 15.0, 17.7, 8.5, 10.08, 15.3, 10.2, 19.8, 15.0, 19.8, 46.8, 25.2, 15.9, 15.3, 15.0, 17.7, 15.3, 25.2, 5.04, 15.0, 25.2, 15.0, 15.0, 19.8, 15.0, 15.3, 4.56, 8.5, 15.3, 10.2, 23.4, 19.5, 15.0, 12.6, 13.2, 30.6, 8.5, 61.2, 17.0, 31.8, 15.0, 15.0, 15.3, 17.7, 6.8, 31.2, 34.0, 19.5, 19.8, 10.5, 35.40000000000001, 10.2, 23.4, 19.8, 19.5, 15.6, 15.6, 15.0, 23.4, 23.4, 4.56, 16.5, 15.0, 15.6, 15.0, 15.3, 47.7, 19.5, 10.2, 17.85, 22.5, 15.3, 17.4, 44.25, 15.9, 12.6, 19.8, 17.4, 19.5, 20.4, 22.5, 19.8, 19.8, 13.2, 10.2, 13.92, 5.04, 19.8, 19.5, 12.6, 17.7, 17.7, 19.5, 16.5, 23.4, 14.85, 19.5, 17.0, 10.2, 15.6, 15.0, 22.5, 12.6, 6.3, 10.2, 15.0, 17.7, 19.5, 15.0, 17.7, 15.0, 7.800000000000001, 87.6, 175.2, 10.5, 30.6, 17.7, 25.2, 12.5, 12.5, 23.4, 30.6, 23.4, 5.04, 10.2, 10.2, 35.40000000000001, 14.5, 10.5, 10.5, 61.2, 35.40000000000001, 23.4, 31.8, 70.80000000000001, 17.7, 25.2, 6.959999999999999, 6.8, 30.6, 17.0, 17.0, 17.85, 15.0, 20.4, 17.0, 8.5, 13.5, 20.4, 8.5, 10.2, 53.1, 39.59999999999999, 35.40000000000001, 15.3, 53.1, 39.59999999999999, 15.0, 19.8, 10.2, 34.0, 5.04, 15.0, 19.8, 15.3, 17.7, 12.6, 12.6, 30.0, 19.8, 59.7, 30.0, 23.4, 30.0, 17.85, 19.8, 15.0, 15.9, 30.0, 30.0, 17.7, 15.9, 15.9, 30.0, 15.0, 15.0, 12.6, 19.8, 25.2, 10.2, 15.3, 19.5, 8.5, 35.40000000000001, 35.40000000000001, 19.8, 17.0, 5.04, 23.4, 7.800000000000001, 19.8, 19.8, 19.8, 10.2, 16.5, 7.56, 19.5, 16.5, 16.5, 15.0, 39.8, 7.800000000000001, 35.40000000000001, 17.7, 15.6, 17.7, 10.2, 34.8, 30.0, 17.4, 5.04, 5.04, 40.5, 17.7, 34.0, 23.4, 15.3, 30.0, 15.3, 10.2, 17.85, 10.2, 17.7, 19.35, 15.3, 17.4, 20.4, 17.85, 25.2, 183.6, 17.7, 10.2, 19.8, 59.7, 76.19999999999999, 9.899999999999999, 10.2, 13.2, 26.4, 15.3, 17.7, 7.800000000000001, 13.5, 23.6, 15.0, 15.0, 17.7, 17.7, 19.8, 15.3, 23.6, 14.85, 19.9, 12.6, 53.1, 20.4, 30.0, 12.6, 15.0, 15.0, 20.4, 15.0, 46.8, 7.56, 10.2, 7.800000000000001, 40.32, 15.0, 8.4, 25.2, 10.2, 44.75, 11.9, 15.0, 19.5, 29.9, 17.0, 8.5, 44.75, 8.5, 8.5, 15.0, 19.9, 19.9, 23.8, 15.9, 44.75, 19.9, 14.85, 15.0, 8.5, 35.40000000000001, 67.5, 67.5, 70.2, 79.19999999999999, 102.0, 45.0, 60.0, 30.6, 23.4, 10.08, 60.0, 30.0, 78.0, 59.40000000000001, 46.8, 50.40000000000001, 30.0, 25.2, 50.88, 50.88, 46.8, 23.4, 45.0, 16.5, 14.85, 67.5, 25.2, 79.19999999999999, 83.4, 25.2, 139.2, 475.2, 5.04, 35.40000000000001, 25.2, 60.0, 30.6, 49.5, 25.2, 475.2, 67.5, 25.2, 14.85, 14.85, 232.0, 19.5, 15.0, 10.2, 16.5, 6.8, 12.5, 11.9, 17.7, 15.3, 17.7, 30.0, 23.4, 5.04, 15.0, 31.8, 75.60000000000001, 39.59999999999999, 15.3, 39.59999999999999, 16.5, 19.8, 39.59999999999999, 89.25, 12.75, 17.85, 17.0, 14.75, 23.4, 9.899999999999999, 19.5, 52.2, 15.3, 19.8, 17.85, 16.5, 30.6, 38.25, 53.55, 15.0, 16.5, 89.25, 19.8, 19.8, 15.0, 17.85, 5.04, 15.3, 31.8, 15.3, 16.5, 17.85, 19.8, 17.7, 17.0, 15.6, 10.2, 5.04, 10.2, 5.04, 13.92, 25.5, 30.0, 30.0, 23.4, 17.88, 15.3, 12.6, 15.3, 15.0, 16.5, 15.6, 10.2, 30.0, 15.0, 15.3, 10.2, 15.6, 19.8, 10.2, 9.0, 19.8, 10.2, 10.2, 17.4, 16.5, 19.8, 30.6, 9.899999999999999, 9.899999999999999, 20.4, 35.7, 30.0, 20.4, 19.5, 19.5, 17.7, 16.5, 15.0, 29.7, 15.0, 13.2, 12.6, 29.5, 15.0, 10.2, 23.4, 17.7, 22.5, 30.0, 35.7, 17.7, 25.5, 7.800000000000001, 15.0, 13.2, 9.899999999999999, 30.0, 14.85, 16.5, 15.0, 29.7, 15.3, 10.2, 17.7, 10.0, 10.2, 10.0, 7.800000000000001, 13.2, 10.2, 17.7, 20.4, 15.0, 15.6, 10.08, 15.6, 10.08, 9.899999999999999, 15.0, 13.52, 7.800000000000001, 14.75, 15.9, 38.25, 10.2, 10.5, 19.5, 10.2, 10.2, 10.2, 17.85, 19.8, 10.2, 10.0, 19.5, 13.2, 23.4, 12.6, 9.95, 29.7, 15.0, 23.4, 10.5, 30.24, 6.959999999999999, 19.8, 70.2, 6.959999999999999, 10.08, 6.959999999999999, 39.59999999999999, 12.8, 39.59999999999999, 6.959999999999999, 35.40000000000001, 19.8, 10.2, 17.7, 17.7, 10.2, 17.4, 19.8, 23.4, 19.8, 63.6, 25.0, 10.2, 39.59999999999999, 17.4, 17.7, 10.2, 5.04, 15.6, 50.40000000000001, 19.8, 15.3, 15.0, 10.2, 10.08, 23.4, 19.8, 10.08, 10.08, 15.6, 10.2, 25.2, 15.0, 5.04, 5.04, 15.3, 19.8, 20.4, 20.4, 13.0, 20.4, 7.800000000000001, 15.0, 19.8, 10.2, 39.59999999999999, 20.4, 7.800000000000001, 10.2, 31.2, 17.4, 10.2, 17.0, 39.59999999999999, 12.6, 10.2, 20.4, 30.0, 19.5, 8.5, 16.6, 8.5, 15.0, 21.9, 8.5, 15.3, 16.5, 16.6, 8.5, 16.5, 14.75, 12.6, 14.75, 19.5, 10.2, 15.0, 81.6, 10.2, 6.959999999999999, 15.9, 30.0, 29.7, 5.04, 10.08, 19.5, 6.959999999999999, 6.959999999999999, 25.5, 12.6, 10.0, 6.959999999999999, 19.5, 19.8, 6.959999999999999, 19.8, 6.959999999999999, 15.6, 10.2, 40.8, 7.800000000000001, 7.800000000000001, 20.0, 15.0, 17.7, 10.2, 35.7, 6.959999999999999, 23.4, 6.959999999999999, 10.2, 15.3, 12.5, 15.9, 10.2, 17.7, 19.8, 10.2, 19.8, 20.4, 20.4, 15.6, 31.8, 15.0, 10.2, 19.5, 6.3, 10.2, 10.2, 12.6, 12.6, 5.04, 15.9, 17.4, 12.6, 10.2, 23.4, 15.0, 12.5, 15.3, 15.0, 12.75, 5.04, 12.6, 15.0, 12.6, 14.85, 51.0, 17.7, 12.5, 29.7, 41.7, 17.7, 51.0, 15.3, 68.0, 12.6, 10.2, 10.2, 5.04, 19.8, 10.5, 12.75, 20.4, 17.7, 25.5, 18.75, 5.04, 19.8, 45.0, 10.2, 30.0, 10.2, 10.2, 34.0, 10.0, 19.8, 19.8, 23.4, 30.6, 10.08, 10.08, 19.8, 30.6, 20.16, 30.0, 15.0, 12.6, 30.0, 30.0, 20.0, 75.60000000000001, 10.08, 13.2, 16.5, 13.2, 45.0, 45.9, 13.2, 25.2, 16.5, 16.5, 44.55, 15.3, 19.8, 15.3, 10.2, 35.40000000000001, 8.5, 10.08, 20.4, 30.6, 15.3, 16.5, 15.3, 19.8, 46.8, 8.5, 47.7, 25.2, 19.8, 25.2, 47.7, 15.6, 10.08, 63.6, 46.8, 23.4, 24.9, 15.0, 15.3, 15.3, 15.9, 12.6, 13.52, 15.3, 12.6, 17.4, 24.9, 8.5, 49.5, 49.5, 8.5, 8.5, 34.0, 17.4, 17.4, 15.0, 20.4, 19.9, 12.6, 39.59999999999999, 15.3, 17.7, 25.2, 17.0, 10.5, 39.59999999999999, 13.2, 15.0, 20.4, 25.5, 17.7, 23.4, 19.8, 20.75, 23.4, 17.7, 13.52, 14.85, 30.0, 13.52, 6.8, 15.6, 26.85, 15.6, 15.6, 15.3, 19.5, 13.52, 29.85, 27.0, 20.75, 19.8, 17.7, 15.6, 17.7, 15.6, 15.0, 15.3, 10.0, 16.25, 20.75, 6.8, 6.8, 17.7, 20.75, 19.8, 10.0, 10.0, 20.0, 20.0, 15.6, 10.2, 5.04, 35.40000000000001, 21.3, 19.8, 10.2, 51.0, 7.800000000000001, 9.899999999999999, 7.800000000000001, 19.9, 10.08, 9.899999999999999, 10.2, 20.4, 35.40000000000001, 10.2, 15.0, 13.2, 5.04, 35.40000000000001, 17.4, 17.4, 17.7, 19.8, 29.7, 20.4, 17.7, 15.9, 15.0, 19.8, 15.3, 15.0, 19.5, 15.0, 14.85, 14.85, 15.0, 15.0, 14.85, 58.5, 15.0, 6.8, 89.69999999999999, 35.7, 89.69999999999999, 53.1, 39.59999999999999, 20.4, 39.59999999999999, 23.4, 13.2, 50.84999999999999, 20.4, 23.4, 15.0, 30.6, 30.6, 39.59999999999999, 39.59999999999999, 15.6, 19.8, 17.7, 30.0, 12.6, 15.0, 17.7, 17.7, 5.04, 10.2, 17.85, 12.6, 15.0, 25.5, 39.59999999999999, 10.2, 10.2, 30.6, 59.40000000000001, 10.2, 15.0, 15.0, 17.7, 16.5, 15.0, 17.7, 16.5, 16.5, 15.3, 30.6, 16.5, 15.0, 18.0, 16.5, 15.9, 71.4, 15.0, 11.7, 8.5, 13.0, 10.2, 15.0, 10.2, 10.2, 19.8, 10.2, 5.04, 7.800000000000001, 39.8, 30.6, 17.7, 17.7, 10.2, 17.7, 10.2, 17.7, 6.8, 15.3, 10.2, 75.60000000000001, 16.5, 17.7, 39.59999999999999, 30.0, 8.5, 19.8, 27.04, 10.2, 13.52, 32.84999999999999, 23.4, 12.5, 10.2, 17.7, 12.75, 15.0, 17.34, 14.85, 16.95, 10.5, 10.0, 20.4, 30.24, 20.16, 30.24, 13.2, 20.4, 10.2, 45.9, 23.4, 13.2, 15.6, 30.0, 10.08, 15.0, 0.85, 2.5, 1.65, 1.95, 3.3, 3.9, 7.5, 1.95, 11.8, 8.850000000000001, 1.65, 3.3, 1.65, 9.9, 14.85, 3.3, 3.25, 5.85, 0.42, 1.65, 1.65, 22.5, 3.3, 3.3, 3.9, 0.42, 2.98, 0.42, 14.85, 4.949999999999999, 2.95, 9.9, 1.95, 5.0, 1.95, 3.3, 17.7, 3.3, 3.9, 2.95, 0.42, 0.42, 2.95, 0.84, 14.85, 14.85, 15.3, 5.04, 15.0, 15.3, 12.6, 23.8, 15.0, 15.0, 35.40000000000001, 12.6, 5.04, 17.7, 16.5, 16.5, 16.6, 16.5, 11.7, 19.8, 9.9, 15.0, 15.9, 15.9, 15.0, 16.6, 16.5, 15.3, 15.0, 19.8, 13.2, 13.2, 29.7, 15.6, 12.6, 13.2, 30.0, 15.6, 17.4, 106.0, 7.800000000000001, 15.0, 15.6, 5.04, 17.0, 13.52, 10.2, 75.60000000000001, 15.6, 20.4, 10.2, 10.2, 20.4, 17.4, 13.2, 13.0, 25.5, 24.9, 75.60000000000001, 15.6, 13.2, 15.0, 6.8, 13.6, 51.0, 10.5, 10.5, 13.2, 13.52, 24.9, 13.2, 10.5, 10.2, 105.6, 17.4, 105.6, 30.0, 30.0, 46.8, 30.0, 12.6, 17.7, 19.8, 15.9, 19.8, 19.8, 17.7, 23.4, 17.85, 16.95, 16.5, 17.7, 23.4, 23.4, 19.8, 19.8, 16.5, 19.8, 23.4, 33.9, 19.8, 7.800000000000001, 17.7, 5.04, 13.92, 13.2, 15.3, 13.2, 17.85, 16.6, 10.2, 12.5, 17.9, 10.2, 10.2, 7.800000000000001, 19.5, 20.4, 15.6, 16.6, 16.5, 8.5, 17.4, 15.0, 25.5, 14.95, 21.9, 17.7, 19.8, 13.2, 16.5, 19.8, 17.4, 15.0, 8.5, 10.2, 16.5, 15.3, 19.5, 13.2, 15.0, 15.0, 6.959999999999999, 15.3, 17.4, 25.5, 17.0, 23.4, 17.0, 15.0, 17.0, 16.5, 15.0, 15.3, 10.2, 15.3, 15.0, 23.4, 10.2, 13.2, 13.2, 13.2, 6.959999999999999, 17.7, 13.2, 10.08, 13.2, 15.3, 17.7, 10.08, 19.8, 15.3, 15.0, 19.8, 15.0, 5.04, 19.8, 19.8, 10.2, 15.3, 17.34, 15.0, 8.5, 10.08, 6.959999999999999, 6.959999999999999, 6.959999999999999, 10.08, 19.8, 8.5, 19.8, 23.4, 23.4, 23.4, 17.4, 17.0, 19.8, 17.7, 23.4, 91.8, 79.19999999999999, 61.2, 31.2, 93.60000000000001, 16.5, 67.5, 45.0, 175.2, 67.5, 45.0, 30.0, 81.36, 67.5, 65.69999999999999, 50.40000000000001, 50.40000000000001, 16.5, 60.0, 35.40000000000001, 23.4, 25.2, 34.0, 52.2, 35.40000000000001, 232.0, 78.0, 29.7, 33.0, 30.0, 50.40000000000001, 59.40000000000001, 89.69999999999999, 117.0, 89.69999999999999, 117.0, 139.2, 234.0, 61.2, 275.0, 69.12, 140.4, 20.4, 69.12, 59.8, 75.0, 67.5, 139.2, 61.2, 34.8, 139.2, 75.0, 2.08, 8.5, 1.95, 30.0, 69.6, 358.0, 139.2, 1.95, 91.8, 1.95, 69.12, 70.2, 358.0, 20.4, 30.0, 20.4, 201.6, 61.44, 46.8, 10.5, 19.8, 17.7, 15.3, 14.85, 17.7, 10.2, 22.5, 10.2, 75.0, 75.0, 102.0, 15.3, 16.5, 19.8, 14.75, 17.85, 14.75, 31.8, 15.0, 30.0, 16.5, 16.5, 16.5, 10.2, 15.3, 23.4, 30.0, 9.899999999999999, 17.7, 15.3, 24.96, 5.04, 13.2, 15.3, 60.0, 33.0, 15.0, 12.6, 12.6, 10.5, 12.6, 23.4, 10.5, 20.0, 11.7, 12.6, 11.7, 5.04, 12.6, 19.9, 10.08, 16.95, 12.5, 16.95, 20.8, 20.0, 5.04, 5.04, 12.6, 16.5, 45.0, 7.800000000000001, 23.4, 16.5, 23.4, 15.0, 15.0, 33.0, 33.0, 16.5, 10.2, 15.9, 17.85, 9.899999999999999, 20.8, 39.59999999999999, 15.0, 20.8, 17.7, 19.8, 23.4, 19.8, 23.4, 10.2, 12.75, 16.5, 16.5, 30.0, 30.0, 16.5, 19.8, 13.5, 5.04, 49.92, 10.08, 23.4, 19.5, 6.8, 24.96, 8.5, 16.5, 19.92, 13.92, 60.0, 15.0, 35.40000000000001, 17.85, 15.9, 39.59999999999999, 6.8, 17.4, 5.04, 10.2, 31.8, 5.04, 17.7, 29.5, 16.5, 17.85, 20.8, 17.0, 88.5, 35.40000000000001, 33.0, 17.0, 23.4, 17.0, 23.4, 16.5, 16.5, 33.0, 33.0, 15.0, 33.0, 15.0, 33.0, 19.5, 2.95, 1.45, 0.85, 1.25, 2.1, 5.95, 3.25, 7.95, 0.85, 2.55, 1.45, 1.95, 2.95, 5.95, 2.95, 3.95, 3.95, 0.85, 4.25, 7.95, 2.95, 1.45, 3.75, 33.0, 19.5, 16.5, 23.4, 15.0, 19.8, 19.8, 23.4, 35.7, 40.8, 14.75, 30.6, 30.6, 39.0, 39.0, 15.3, 39.0, 20.4, 23.4, 63.6, 16.5, 2.1, 0.65, 2.55, 35.40000000000001, 1.25, 0.42, 9.9, 2.1, 0.42, 8.4, 2.55, 26.55, 1.25, 5.04, 9.95, 3.3, 0.85, 6.76, 2.95, 1.25, 1.7, 2.5, 11.8, 2.95, 3.3, 2.5, 10.2, 1.95, 31.2, 25.5, 10.2, 10.2, 70.80000000000001, 13.2, 30.0, 19.92, 33.2, 8.5, 24.96, 60.0, 33.2, 33.2, 15.3, 30.6, 19.8, 60.0, 33.2, 40.8, 17.0, 19.8, 8.5, 8.5, 17.0, 25.0, 20.4, 15.6, 22.5, 37.8, 15.0, 17.0, 15.0, 102.0, 35.40000000000001, 63.0, 20.4, 30.6, 25.5, 49.92, 16.5, 17.4, 16.5, 49.92, 20.4, 30.0, 20.4, 24.9, 61.2, 50.88, 50.40000000000001, 204.0, 20.16, 10.08, 102.0, 16.5, 16.5, 23.4, 19.8, 16.5, 23.4, 39.5, 10.5, 23.4, 10.5, 15.0, 5.04, 19.8, 15.3, 16.5, 8.5, 20.8, 15.0, 16.5, 19.8, 20.8, 5.04, 15.0, 10.2, 10.2, 13.2, 23.4, 8.5, 13.2, 13.2, 19.8, 19.8, 15.0, 15.0, 25.0, 30.0, 6.3, 30.0, 15.3, 30.0, 12.75, 12.5, 20.4, 5.04, 16.5, 5.04, 5.04, 16.6, 18.0, 35.40000000000001, 27.04, 18.0, 15.0, 13.2, 16.6, 16.6, 50.0, 23.4, 13.2, 15.3, 17.4, 5.04, 5.04, 33.0, 5.04, 10.08, 10.2, 5.04, 15.3, 15.0, 16.5, 17.7, 15.3, 20.8, 30.6, 41.6, 20.8, 19.5, 16.5, 6.8, 6.8, 16.5, 20.8, 15.3, 8.5, 17.0, 21.0, 17.0, 7.800000000000001, 34.8, 40.32, 20.16, 15.12, 30.0, 10.2, 30.0, 30.0, 23.4, 10.08, 10.08, 17.4, 10.2, 16.6, 10.2, 15.6, 15.0, 19.8, 20.4, 19.8, 15.6, 15.3, 10.2, 15.3, 23.4, 23.4, 20.4, 17.7, 15.0, 19.8, 10.08, 10.08, 7.800000000000001, 10.2, 10.2, 10.08, 15.0, 20.8, 2.34, 34.8, 15.0, 19.9, 37.5, 15.3, 9.9, 86.39999999999999, 86.39999999999999, 33.0, 15.0, 29.7, 6.24, 25.0, 15.0, 12.6, 15.0, 8.4, 5.9, 29.7, 8.4, 19.8, 69.36, 6.300000000000001, 61.2, 15.3, 29.7, 29.9, 9.9, 9.9, 31.25, 9.3, 29.7, 30.0, 2.34, 31.9, 34.8, 8.5, 41.5, 10.2, 13.5, 20.8, 6.300000000000001, 15.9, 8.4, 5.9, 9.9, 24.9, 1.69, 26.32, 6.76, 35.8, 86.39999999999999, 17.7, 25.0, 15.0, 17.4, 15.3, 15.0, 15.0, 33.0, 33.9, 30.6, 2.08, 5.8, 20.4, 25.0, 6.300000000000001, 37.5, 2.1, 8.850000000000001, 5.8, 15.0, 33.0, 59.40000000000001, 5.04, 69.6, 29.7, 61.2, 59.4, 89.69999999999999, 102.0, 33.0, 23.4, 20.16, 54.0, 214.8, 31.2, 30.6, 202.8, 65.69999999999999, 85.0, 33.0, 23.4, 30.0, 25.2, 61.2, 5.04, 12.6, 17.0, 16.5, 99.5, 15.6, 15.6, 14.85, 15.6, 5.04, 15.3, 20.8, 15.3, 17.7, 19.8, 15.9, 7.800000000000001, 35.7, 17.4, 19.5, 20.8, 19.8, 24.96, 16.5, 19.8, 11.7, 19.8, 17.7, 59.40000000000001, 15.0, 13.52, 20.8, 15.0, 10.2, 15.9, 15.9, 15.9, 15.0, 16.35, 9.959999999999999, 17.7, 15.9, 16.5, 35.40000000000001, 50.0, 8.5, 15.0, 6.959999999999999, 10.5, 39.0, 11.4, 30.6, 6.959999999999999, 8.5, 13.2, 25.5, 15.6, 10.2, 15.0, 15.0, 19.9, 10.2, 10.2, 30.0, 15.0, 10.2, 10.2, 17.0, 15.6, 15.0, 5.04, 12.48, 64.67999999999999, 19.5, 20.4, 30.0, 5.04, 23.4, 23.4, 5.04, 30.0, 24.96, 89.69999999999999, 89.69999999999999, 89.69999999999999, 17.7, 19.8, 39.8, 19.8, 10.2, 19.8, 12.48, 10.08, 20.8, 5.04, 10.2, 2.28, 19.8, 16.5, 19.8, 19.8, 15.6, 40.56, 19.8, 29.7, 5.04, 15.3, 13.0, 16.5, 24.96, 17.0, 17.4, 16.5, 16.5, 14.85, 19.8, 16.5, 5.04, 16.5, 16.5, 16.5, 16.5, 5.04, 16.5, 16.5, 5.04, 16.5, 17.7, 16.5, 19.92, 54.08, 17.4, 19.8, 12.75, 22.5, 5.04, 50.0, 35.40000000000001, 15.0, 16.5, 24.96, 16.5, 24.9, 13.5, 11.5, 19.8, 15.0, 37.5, 14.75, 19.9, 19.8, 30.6, 43.8, 59.40000000000001, 13.2, 30.0, 34.0, 30.6, 30.6, 60.0, 76.32000000000001, 16.6, 16.5, 16.6, 16.6, 19.8, 16.5, 13.5, 40.0, 10.2, 15.6, 9.36, 20.0, 20.0, 20.0, 9.959999999999999, 9.899999999999999, 16.5, 19.8, 19.8, 11.4, 19.8, 5.88, 14.85, 9.959999999999999, 30.0, 20.28, 20.4, 13.5, 14.85, 19.9, 15.0, 18.72, 19.9, 17.0, 16.6, 20.8, 14.75, 17.7, 16.6, 12.5, 15.3, 20.8, 20.8, 15.3, 12.6, 33.0, 16.6, 16.6, 12.6, 20.8, 16.5, 105.6, 105.6, 15.9, 15.9, 16.95, 255.0, 82.5, 16.95, 127.5, 82.5, 49.5, 33.0, 49.5, 59.7, 16.5, 8.5, 12.6, 16.5, 31.8, 6.8, 13.52, 13.52, 14.75, 51.0, 16.5, 19.8, 12.6, 13.52, 17.4, 16.5, 6.8, 6.8, 12.6, 12.6, 51.0, 10.0, 10.0, 16.5, 17.7, 12.6, 17.7, 29.7, 19.8, 10.0, 16.5, 11.7, 11.7, 19.5, 42.96, 15.3, 25.5, 16.5, 16.5, 11.7, 16.5, 5.04, 23.4, 15.0, 15.6, 6.8, 15.3, 8.5, 6.8, 30.0, 10.2, 13.52, 39.59999999999999, 12.5, 8.5, 19.92, 15.0, 10.2, 102.0, 13.2, 19.92, 40.8, 39.59999999999999, 15.3, 15.3, 37.44, 15.3, 16.5, 33.0, 39.59999999999999, 39.59999999999999, 29.5, 35.40000000000001, 34.0, 5.04, 17.4, 51.0, 19.9, 10.08, 19.9, 23.4, 19.8, 30.6, 14.75, 15.9, 23.4, 23.4, 16.5, 20.8, 19.8, 20.8, 16.5, 20.8, 14.85, 17.7, 17.0, 42.96, 19.8, 10.2, 16.5, 20.8, 20.8, 17.7, 15.0, 30.0, 15.9, 15.0, 33.0, 20.8, 42.96, 9.959999999999999, 9.959999999999999, 15.6, 17.7, 16.6, 19.8, 15.3, 11.7, 15.3, 11.7, 16.5, 15.9, 16.5, 15.9, 30.0, 6.3, 30.0, 20.8, 5.88, 15.0, 5.88, 19.8, 16.5, 16.5, 29.7, 16.5, 16.95, 12.7, 16.5, 16.5, 14.75, 16.5, 23.4, 10.08, 10.08, 51.84, 15.6, 17.0, 30.0, 20.4, 39.59999999999999, 30.0, 19.8, 46.8, 70.80000000000001, 24.96, 25.2, 25.2, 30.6, 12.6, 25.2, 12.5, 16.6, 25.2, 17.7, 12.48, 16.5, 9.9, 16.6, 16.5, 17.7, 17.7, 16.5, 10.95, 16.5], \"yaxis\": \"y\"}],                        {\"legend\": {\"title\": {\"text\": \"variable\"}, \"tracegroupgap\": 0}, \"margin\": {\"t\": 60}, \"template\": {\"data\": {\"bar\": [{\"error_x\": {\"color\": \"#2a3f5f\"}, \"error_y\": {\"color\": \"#2a3f5f\"}, \"marker\": {\"line\": {\"color\": \"#E5ECF6\", \"width\": 0.5}}, \"type\": \"bar\"}], \"barpolar\": [{\"marker\": {\"line\": {\"color\": \"#E5ECF6\", \"width\": 0.5}}, \"type\": \"barpolar\"}], \"carpet\": [{\"aaxis\": {\"endlinecolor\": \"#2a3f5f\", \"gridcolor\": \"white\", \"linecolor\": \"white\", \"minorgridcolor\": \"white\", \"startlinecolor\": \"#2a3f5f\"}, \"baxis\": {\"endlinecolor\": \"#2a3f5f\", \"gridcolor\": \"white\", \"linecolor\": \"white\", \"minorgridcolor\": \"white\", \"startlinecolor\": \"#2a3f5f\"}, \"type\": \"carpet\"}], \"choropleth\": [{\"colorbar\": {\"outlinewidth\": 0, \"ticks\": \"\"}, \"type\": \"choropleth\"}], \"contour\": [{\"colorbar\": {\"outlinewidth\": 0, \"ticks\": \"\"}, \"colorscale\": [[0.0, \"#0d0887\"], [0.1111111111111111, \"#46039f\"], [0.2222222222222222, \"#7201a8\"], [0.3333333333333333, \"#9c179e\"], [0.4444444444444444, \"#bd3786\"], [0.5555555555555556, \"#d8576b\"], [0.6666666666666666, \"#ed7953\"], [0.7777777777777778, \"#fb9f3a\"], [0.8888888888888888, \"#fdca26\"], [1.0, \"#f0f921\"]], \"type\": \"contour\"}], \"contourcarpet\": [{\"colorbar\": {\"outlinewidth\": 0, \"ticks\": \"\"}, \"type\": \"contourcarpet\"}], \"heatmap\": [{\"colorbar\": {\"outlinewidth\": 0, \"ticks\": \"\"}, \"colorscale\": [[0.0, \"#0d0887\"], [0.1111111111111111, \"#46039f\"], [0.2222222222222222, \"#7201a8\"], [0.3333333333333333, \"#9c179e\"], [0.4444444444444444, \"#bd3786\"], [0.5555555555555556, \"#d8576b\"], [0.6666666666666666, \"#ed7953\"], [0.7777777777777778, \"#fb9f3a\"], [0.8888888888888888, \"#fdca26\"], [1.0, \"#f0f921\"]], \"type\": \"heatmap\"}], \"heatmapgl\": [{\"colorbar\": {\"outlinewidth\": 0, \"ticks\": \"\"}, \"colorscale\": [[0.0, \"#0d0887\"], [0.1111111111111111, \"#46039f\"], [0.2222222222222222, \"#7201a8\"], [0.3333333333333333, \"#9c179e\"], [0.4444444444444444, \"#bd3786\"], [0.5555555555555556, \"#d8576b\"], [0.6666666666666666, \"#ed7953\"], [0.7777777777777778, \"#fb9f3a\"], [0.8888888888888888, \"#fdca26\"], [1.0, \"#f0f921\"]], \"type\": \"heatmapgl\"}], \"histogram\": [{\"marker\": {\"colorbar\": {\"outlinewidth\": 0, \"ticks\": \"\"}}, \"type\": \"histogram\"}], \"histogram2d\": [{\"colorbar\": {\"outlinewidth\": 0, \"ticks\": \"\"}, \"colorscale\": [[0.0, \"#0d0887\"], [0.1111111111111111, \"#46039f\"], [0.2222222222222222, \"#7201a8\"], [0.3333333333333333, \"#9c179e\"], [0.4444444444444444, \"#bd3786\"], [0.5555555555555556, \"#d8576b\"], [0.6666666666666666, \"#ed7953\"], [0.7777777777777778, \"#fb9f3a\"], [0.8888888888888888, \"#fdca26\"], [1.0, \"#f0f921\"]], \"type\": \"histogram2d\"}], \"histogram2dcontour\": [{\"colorbar\": {\"outlinewidth\": 0, \"ticks\": \"\"}, \"colorscale\": [[0.0, \"#0d0887\"], [0.1111111111111111, \"#46039f\"], [0.2222222222222222, \"#7201a8\"], [0.3333333333333333, \"#9c179e\"], [0.4444444444444444, \"#bd3786\"], [0.5555555555555556, \"#d8576b\"], [0.6666666666666666, \"#ed7953\"], [0.7777777777777778, \"#fb9f3a\"], [0.8888888888888888, \"#fdca26\"], [1.0, \"#f0f921\"]], \"type\": \"histogram2dcontour\"}], \"mesh3d\": [{\"colorbar\": {\"outlinewidth\": 0, \"ticks\": \"\"}, \"type\": \"mesh3d\"}], \"parcoords\": [{\"line\": {\"colorbar\": {\"outlinewidth\": 0, \"ticks\": \"\"}}, \"type\": \"parcoords\"}], \"pie\": [{\"automargin\": true, \"type\": \"pie\"}], \"scatter\": [{\"marker\": {\"colorbar\": {\"outlinewidth\": 0, \"ticks\": \"\"}}, \"type\": \"scatter\"}], \"scatter3d\": [{\"line\": {\"colorbar\": {\"outlinewidth\": 0, \"ticks\": \"\"}}, \"marker\": {\"colorbar\": {\"outlinewidth\": 0, \"ticks\": \"\"}}, \"type\": \"scatter3d\"}], \"scattercarpet\": [{\"marker\": {\"colorbar\": {\"outlinewidth\": 0, \"ticks\": \"\"}}, \"type\": \"scattercarpet\"}], \"scattergeo\": [{\"marker\": {\"colorbar\": {\"outlinewidth\": 0, \"ticks\": \"\"}}, \"type\": \"scattergeo\"}], \"scattergl\": [{\"marker\": {\"colorbar\": {\"outlinewidth\": 0, \"ticks\": \"\"}}, \"type\": \"scattergl\"}], \"scattermapbox\": [{\"marker\": {\"colorbar\": {\"outlinewidth\": 0, \"ticks\": \"\"}}, \"type\": \"scattermapbox\"}], \"scatterpolar\": [{\"marker\": {\"colorbar\": {\"outlinewidth\": 0, \"ticks\": \"\"}}, \"type\": \"scatterpolar\"}], \"scatterpolargl\": [{\"marker\": {\"colorbar\": {\"outlinewidth\": 0, \"ticks\": \"\"}}, \"type\": \"scatterpolargl\"}], \"scatterternary\": [{\"marker\": {\"colorbar\": {\"outlinewidth\": 0, \"ticks\": \"\"}}, \"type\": \"scatterternary\"}], \"surface\": [{\"colorbar\": {\"outlinewidth\": 0, \"ticks\": \"\"}, \"colorscale\": [[0.0, \"#0d0887\"], [0.1111111111111111, \"#46039f\"], [0.2222222222222222, \"#7201a8\"], [0.3333333333333333, \"#9c179e\"], [0.4444444444444444, \"#bd3786\"], [0.5555555555555556, \"#d8576b\"], [0.6666666666666666, \"#ed7953\"], [0.7777777777777778, \"#fb9f3a\"], [0.8888888888888888, \"#fdca26\"], [1.0, \"#f0f921\"]], \"type\": \"surface\"}], \"table\": [{\"cells\": {\"fill\": {\"color\": \"#EBF0F8\"}, \"line\": {\"color\": \"white\"}}, \"header\": {\"fill\": {\"color\": \"#C8D4E3\"}, \"line\": {\"color\": \"white\"}}, \"type\": \"table\"}]}, \"layout\": {\"annotationdefaults\": {\"arrowcolor\": \"#2a3f5f\", \"arrowhead\": 0, \"arrowwidth\": 1}, \"autotypenumbers\": \"strict\", \"coloraxis\": {\"colorbar\": {\"outlinewidth\": 0, \"ticks\": \"\"}}, \"colorscale\": {\"diverging\": [[0, \"#8e0152\"], [0.1, \"#c51b7d\"], [0.2, \"#de77ae\"], [0.3, \"#f1b6da\"], [0.4, \"#fde0ef\"], [0.5, \"#f7f7f7\"], [0.6, \"#e6f5d0\"], [0.7, \"#b8e186\"], [0.8, \"#7fbc41\"], [0.9, \"#4d9221\"], [1, \"#276419\"]], \"sequential\": [[0.0, \"#0d0887\"], [0.1111111111111111, \"#46039f\"], [0.2222222222222222, \"#7201a8\"], [0.3333333333333333, \"#9c179e\"], [0.4444444444444444, \"#bd3786\"], [0.5555555555555556, \"#d8576b\"], [0.6666666666666666, \"#ed7953\"], [0.7777777777777778, \"#fb9f3a\"], [0.8888888888888888, \"#fdca26\"], [1.0, \"#f0f921\"]], \"sequentialminus\": [[0.0, \"#0d0887\"], [0.1111111111111111, \"#46039f\"], [0.2222222222222222, \"#7201a8\"], [0.3333333333333333, \"#9c179e\"], [0.4444444444444444, \"#bd3786\"], [0.5555555555555556, \"#d8576b\"], [0.6666666666666666, \"#ed7953\"], [0.7777777777777778, \"#fb9f3a\"], [0.8888888888888888, \"#fdca26\"], [1.0, \"#f0f921\"]]}, \"colorway\": [\"#636efa\", \"#EF553B\", \"#00cc96\", \"#ab63fa\", \"#FFA15A\", \"#19d3f3\", \"#FF6692\", \"#B6E880\", \"#FF97FF\", \"#FECB52\"], \"font\": {\"color\": \"#2a3f5f\"}, \"geo\": {\"bgcolor\": \"white\", \"lakecolor\": \"white\", \"landcolor\": \"#E5ECF6\", \"showlakes\": true, \"showland\": true, \"subunitcolor\": \"white\"}, \"hoverlabel\": {\"align\": \"left\"}, \"hovermode\": \"closest\", \"mapbox\": {\"style\": \"light\"}, \"paper_bgcolor\": \"white\", \"plot_bgcolor\": \"#E5ECF6\", \"polar\": {\"angularaxis\": {\"gridcolor\": \"white\", \"linecolor\": \"white\", \"ticks\": \"\"}, \"bgcolor\": \"#E5ECF6\", \"radialaxis\": {\"gridcolor\": \"white\", \"linecolor\": \"white\", \"ticks\": \"\"}}, \"scene\": {\"xaxis\": {\"backgroundcolor\": \"#E5ECF6\", \"gridcolor\": \"white\", \"gridwidth\": 2, \"linecolor\": \"white\", \"showbackground\": true, \"ticks\": \"\", \"zerolinecolor\": \"white\"}, \"yaxis\": {\"backgroundcolor\": \"#E5ECF6\", \"gridcolor\": \"white\", \"gridwidth\": 2, \"linecolor\": \"white\", \"showbackground\": true, \"ticks\": \"\", \"zerolinecolor\": \"white\"}, \"zaxis\": {\"backgroundcolor\": \"#E5ECF6\", \"gridcolor\": \"white\", \"gridwidth\": 2, \"linecolor\": \"white\", \"showbackground\": true, \"ticks\": \"\", \"zerolinecolor\": \"white\"}}, \"shapedefaults\": {\"line\": {\"color\": \"#2a3f5f\"}}, \"ternary\": {\"aaxis\": {\"gridcolor\": \"white\", \"linecolor\": \"white\", \"ticks\": \"\"}, \"baxis\": {\"gridcolor\": \"white\", \"linecolor\": \"white\", \"ticks\": \"\"}, \"bgcolor\": \"#E5ECF6\", \"caxis\": {\"gridcolor\": \"white\", \"linecolor\": \"white\", \"ticks\": \"\"}}, \"title\": {\"x\": 0.05}, \"xaxis\": {\"automargin\": true, \"gridcolor\": \"white\", \"linecolor\": \"white\", \"ticks\": \"\", \"title\": {\"standoff\": 15}, \"zerolinecolor\": \"white\", \"zerolinewidth\": 2}, \"yaxis\": {\"automargin\": true, \"gridcolor\": \"white\", \"linecolor\": \"white\", \"ticks\": \"\", \"title\": {\"standoff\": 15}, \"zerolinecolor\": \"white\", \"zerolinewidth\": 2}}}, \"xaxis\": {\"anchor\": \"y\", \"domain\": [0.0, 1.0], \"title\": {\"text\": \"InvoiceDate\"}}, \"yaxis\": {\"anchor\": \"x\", \"domain\": [0.0, 1.0], \"title\": {\"text\": \"value\"}}},                        {\"responsive\": true}                    ).then(function(){\n",
       "                            \n",
       "var gd = document.getElementById('2cf781c6-9c2f-4294-ac50-41b476710674');\n",
       "var x = new MutationObserver(function (mutations, observer) {{\n",
       "        var display = window.getComputedStyle(gd).display;\n",
       "        if (!display || display === 'none') {{\n",
       "            console.log([gd, 'removed!']);\n",
       "            Plotly.purge(gd);\n",
       "            observer.disconnect();\n",
       "        }}\n",
       "}});\n",
       "\n",
       "// Listen for the removal of the full notebook cells\n",
       "var notebookContainer = gd.closest('#notebook-container');\n",
       "if (notebookContainer) {{\n",
       "    x.observe(notebookContainer, {childList: true});\n",
       "}}\n",
       "\n",
       "// Listen for the clearing of the current output cell\n",
       "var outputEl = gd.closest('.output');\n",
       "if (outputEl) {{\n",
       "    x.observe(outputEl, {childList: true});\n",
       "}}\n",
       "\n",
       "                        })                };                });            </script>        </div>"
      ]
     },
     "metadata": {},
     "output_type": "display_data"
    }
   ],
   "source": [
    "# Al sacar los datos tal cual, vemos que el nivel de detalle de la fecha es excesivo y la línea no se ve\n",
    "\n",
    "px.line(df2.sort_values('InvoiceDate').set_index('InvoiceDate')[['Quantity', 'Revenue']])"
   ]
  },
  {
   "cell_type": "code",
   "execution_count": 85,
   "metadata": {},
   "outputs": [
    {
     "data": {
      "text/html": [
       "<div>\n",
       "<style scoped>\n",
       "    .dataframe tbody tr th:only-of-type {\n",
       "        vertical-align: middle;\n",
       "    }\n",
       "\n",
       "    .dataframe tbody tr th {\n",
       "        vertical-align: top;\n",
       "    }\n",
       "\n",
       "    .dataframe thead th {\n",
       "        text-align: right;\n",
       "    }\n",
       "</style>\n",
       "<table border=\"1\" class=\"dataframe\">\n",
       "  <thead>\n",
       "    <tr style=\"text-align: right;\">\n",
       "      <th></th>\n",
       "      <th>Quantity</th>\n",
       "      <th>Revenue</th>\n",
       "    </tr>\n",
       "    <tr>\n",
       "      <th>InvoiceDate</th>\n",
       "      <th></th>\n",
       "      <th></th>\n",
       "    </tr>\n",
       "  </thead>\n",
       "  <tbody>\n",
       "    <tr>\n",
       "      <th>2011-01-05</th>\n",
       "      <td>728</td>\n",
       "      <td>1265.18</td>\n",
       "    </tr>\n",
       "    <tr>\n",
       "      <th>2011-01-06</th>\n",
       "      <td>438</td>\n",
       "      <td>709.02</td>\n",
       "    </tr>\n",
       "    <tr>\n",
       "      <th>2011-01-07</th>\n",
       "      <td>591</td>\n",
       "      <td>975.09</td>\n",
       "    </tr>\n",
       "    <tr>\n",
       "      <th>2011-01-08</th>\n",
       "      <td>0</td>\n",
       "      <td>0.00</td>\n",
       "    </tr>\n",
       "    <tr>\n",
       "      <th>2011-01-09</th>\n",
       "      <td>78</td>\n",
       "      <td>114.00</td>\n",
       "    </tr>\n",
       "  </tbody>\n",
       "</table>\n",
       "</div>"
      ],
      "text/plain": [
       "             Quantity  Revenue\n",
       "InvoiceDate                   \n",
       "2011-01-05        728  1265.18\n",
       "2011-01-06        438   709.02\n",
       "2011-01-07        591   975.09\n",
       "2011-01-08          0     0.00\n",
       "2011-01-09         78   114.00"
      ]
     },
     "execution_count": 85,
     "metadata": {},
     "output_type": "execute_result"
    }
   ],
   "source": [
    "# Con la función resample() podemos redimensionar la variable temporal, en este caso a días\n",
    "\n",
    "df2.sort_values('InvoiceDate').resample('D', on='InvoiceDate')[['Quantity', 'Revenue']].sum().head()"
   ]
  },
  {
   "cell_type": "code",
   "execution_count": 82,
   "metadata": {},
   "outputs": [
    {
     "data": {
      "application/vnd.plotly.v1+json": {
       "config": {
        "plotlyServerURL": "https://plot.ly"
       },
       "data": [
        {
         "hovertemplate": "variable=Quantity<br>InvoiceDate=%{x}<br>value=%{y}<extra></extra>",
         "legendgroup": "Quantity",
         "line": {
          "color": "#636efa",
          "dash": "solid"
         },
         "mode": "lines",
         "name": "Quantity",
         "orientation": "v",
         "showlegend": true,
         "type": "scatter",
         "x": [
          "2011-01-05T00:00:00",
          "2011-01-06T00:00:00",
          "2011-01-07T00:00:00",
          "2011-01-08T00:00:00",
          "2011-01-09T00:00:00",
          "2011-01-10T00:00:00",
          "2011-01-11T00:00:00",
          "2011-01-12T00:00:00",
          "2011-01-13T00:00:00",
          "2011-01-14T00:00:00",
          "2011-01-15T00:00:00",
          "2011-01-16T00:00:00",
          "2011-01-17T00:00:00",
          "2011-01-18T00:00:00",
          "2011-01-19T00:00:00",
          "2011-01-20T00:00:00",
          "2011-01-21T00:00:00",
          "2011-01-22T00:00:00",
          "2011-01-23T00:00:00",
          "2011-01-24T00:00:00",
          "2011-01-25T00:00:00",
          "2011-01-26T00:00:00",
          "2011-01-27T00:00:00",
          "2011-01-28T00:00:00",
          "2011-01-29T00:00:00",
          "2011-01-30T00:00:00",
          "2011-01-31T00:00:00",
          "2011-02-01T00:00:00",
          "2011-02-02T00:00:00",
          "2011-02-03T00:00:00",
          "2011-02-04T00:00:00",
          "2011-02-05T00:00:00",
          "2011-02-06T00:00:00",
          "2011-02-07T00:00:00",
          "2011-02-08T00:00:00",
          "2011-02-09T00:00:00",
          "2011-02-10T00:00:00",
          "2011-02-11T00:00:00",
          "2011-02-12T00:00:00",
          "2011-02-13T00:00:00",
          "2011-02-14T00:00:00",
          "2011-02-15T00:00:00",
          "2011-02-16T00:00:00",
          "2011-02-17T00:00:00",
          "2011-02-18T00:00:00",
          "2011-02-19T00:00:00",
          "2011-02-20T00:00:00",
          "2011-02-21T00:00:00",
          "2011-02-22T00:00:00",
          "2011-02-23T00:00:00",
          "2011-02-24T00:00:00",
          "2011-02-25T00:00:00",
          "2011-02-26T00:00:00",
          "2011-02-27T00:00:00",
          "2011-02-28T00:00:00",
          "2011-03-01T00:00:00",
          "2011-03-02T00:00:00",
          "2011-03-03T00:00:00",
          "2011-03-04T00:00:00",
          "2011-03-05T00:00:00",
          "2011-03-06T00:00:00",
          "2011-03-07T00:00:00",
          "2011-03-08T00:00:00",
          "2011-03-09T00:00:00",
          "2011-03-10T00:00:00",
          "2011-03-11T00:00:00",
          "2011-03-12T00:00:00",
          "2011-03-13T00:00:00",
          "2011-03-14T00:00:00",
          "2011-03-15T00:00:00",
          "2011-03-16T00:00:00",
          "2011-03-17T00:00:00",
          "2011-03-18T00:00:00",
          "2011-03-19T00:00:00",
          "2011-03-20T00:00:00",
          "2011-03-21T00:00:00",
          "2011-03-22T00:00:00",
          "2011-03-23T00:00:00",
          "2011-03-24T00:00:00",
          "2011-03-25T00:00:00",
          "2011-03-26T00:00:00",
          "2011-03-27T00:00:00",
          "2011-03-28T00:00:00",
          "2011-03-29T00:00:00",
          "2011-03-30T00:00:00",
          "2011-03-31T00:00:00",
          "2011-04-01T00:00:00",
          "2011-04-02T00:00:00",
          "2011-04-03T00:00:00",
          "2011-04-04T00:00:00",
          "2011-04-05T00:00:00",
          "2011-04-06T00:00:00",
          "2011-04-07T00:00:00",
          "2011-04-08T00:00:00",
          "2011-04-09T00:00:00",
          "2011-04-10T00:00:00",
          "2011-04-11T00:00:00",
          "2011-04-12T00:00:00",
          "2011-04-13T00:00:00",
          "2011-04-14T00:00:00",
          "2011-04-15T00:00:00",
          "2011-04-16T00:00:00",
          "2011-04-17T00:00:00",
          "2011-04-18T00:00:00",
          "2011-04-19T00:00:00",
          "2011-04-20T00:00:00",
          "2011-04-21T00:00:00",
          "2011-04-22T00:00:00",
          "2011-04-23T00:00:00",
          "2011-04-24T00:00:00",
          "2011-04-25T00:00:00",
          "2011-04-26T00:00:00",
          "2011-04-27T00:00:00",
          "2011-04-28T00:00:00",
          "2011-04-29T00:00:00",
          "2011-04-30T00:00:00",
          "2011-05-01T00:00:00",
          "2011-05-02T00:00:00",
          "2011-05-03T00:00:00",
          "2011-05-04T00:00:00",
          "2011-05-05T00:00:00",
          "2011-05-06T00:00:00",
          "2011-05-07T00:00:00",
          "2011-05-08T00:00:00",
          "2011-05-09T00:00:00",
          "2011-05-10T00:00:00",
          "2011-05-11T00:00:00",
          "2011-05-12T00:00:00",
          "2011-05-13T00:00:00",
          "2011-05-14T00:00:00",
          "2011-05-15T00:00:00",
          "2011-05-16T00:00:00",
          "2011-05-17T00:00:00",
          "2011-05-18T00:00:00",
          "2011-05-19T00:00:00",
          "2011-05-20T00:00:00",
          "2011-05-21T00:00:00",
          "2011-05-22T00:00:00",
          "2011-05-23T00:00:00",
          "2011-05-24T00:00:00",
          "2011-05-25T00:00:00",
          "2011-05-26T00:00:00",
          "2011-05-27T00:00:00"
         ],
         "xaxis": "x",
         "y": [
          728,
          438,
          591,
          0,
          78,
          628,
          978,
          672,
          0,
          1061,
          0,
          0,
          263,
          0,
          383,
          702,
          0,
          0,
          120,
          84,
          0,
          0,
          0,
          567,
          0,
          0,
          1819,
          197,
          365,
          0,
          611,
          0,
          0,
          0,
          214,
          298,
          452,
          0,
          0,
          0,
          0,
          96,
          772,
          114,
          763,
          0,
          0,
          333,
          0,
          360,
          0,
          0,
          0,
          70,
          649,
          574,
          0,
          338,
          123,
          0,
          0,
          0,
          0,
          0,
          0,
          323,
          0,
          183,
          184,
          314,
          159,
          0,
          0,
          0,
          422,
          90,
          198,
          1221,
          0,
          261,
          0,
          59,
          842,
          0,
          0,
          3349,
          328,
          0,
          0,
          293,
          0,
          0,
          236,
          0,
          0,
          0,
          0,
          0,
          0,
          284,
          0,
          0,
          400,
          0,
          0,
          196,
          298,
          0,
          0,
          0,
          0,
          84,
          0,
          146,
          0,
          0,
          0,
          0,
          1036,
          0,
          98,
          0,
          0,
          773,
          494,
          458,
          1593,
          105,
          502,
          0,
          140,
          278,
          476,
          327,
          560,
          464,
          0,
          291,
          304,
          208,
          734,
          510,
          155
         ],
         "yaxis": "y"
        },
        {
         "hovertemplate": "variable=Revenue<br>InvoiceDate=%{x}<br>value=%{y}<extra></extra>",
         "legendgroup": "Revenue",
         "line": {
          "color": "#EF553B",
          "dash": "solid"
         },
         "mode": "lines",
         "name": "Revenue",
         "orientation": "v",
         "showlegend": true,
         "type": "scatter",
         "x": [
          "2011-01-05T00:00:00",
          "2011-01-06T00:00:00",
          "2011-01-07T00:00:00",
          "2011-01-08T00:00:00",
          "2011-01-09T00:00:00",
          "2011-01-10T00:00:00",
          "2011-01-11T00:00:00",
          "2011-01-12T00:00:00",
          "2011-01-13T00:00:00",
          "2011-01-14T00:00:00",
          "2011-01-15T00:00:00",
          "2011-01-16T00:00:00",
          "2011-01-17T00:00:00",
          "2011-01-18T00:00:00",
          "2011-01-19T00:00:00",
          "2011-01-20T00:00:00",
          "2011-01-21T00:00:00",
          "2011-01-22T00:00:00",
          "2011-01-23T00:00:00",
          "2011-01-24T00:00:00",
          "2011-01-25T00:00:00",
          "2011-01-26T00:00:00",
          "2011-01-27T00:00:00",
          "2011-01-28T00:00:00",
          "2011-01-29T00:00:00",
          "2011-01-30T00:00:00",
          "2011-01-31T00:00:00",
          "2011-02-01T00:00:00",
          "2011-02-02T00:00:00",
          "2011-02-03T00:00:00",
          "2011-02-04T00:00:00",
          "2011-02-05T00:00:00",
          "2011-02-06T00:00:00",
          "2011-02-07T00:00:00",
          "2011-02-08T00:00:00",
          "2011-02-09T00:00:00",
          "2011-02-10T00:00:00",
          "2011-02-11T00:00:00",
          "2011-02-12T00:00:00",
          "2011-02-13T00:00:00",
          "2011-02-14T00:00:00",
          "2011-02-15T00:00:00",
          "2011-02-16T00:00:00",
          "2011-02-17T00:00:00",
          "2011-02-18T00:00:00",
          "2011-02-19T00:00:00",
          "2011-02-20T00:00:00",
          "2011-02-21T00:00:00",
          "2011-02-22T00:00:00",
          "2011-02-23T00:00:00",
          "2011-02-24T00:00:00",
          "2011-02-25T00:00:00",
          "2011-02-26T00:00:00",
          "2011-02-27T00:00:00",
          "2011-02-28T00:00:00",
          "2011-03-01T00:00:00",
          "2011-03-02T00:00:00",
          "2011-03-03T00:00:00",
          "2011-03-04T00:00:00",
          "2011-03-05T00:00:00",
          "2011-03-06T00:00:00",
          "2011-03-07T00:00:00",
          "2011-03-08T00:00:00",
          "2011-03-09T00:00:00",
          "2011-03-10T00:00:00",
          "2011-03-11T00:00:00",
          "2011-03-12T00:00:00",
          "2011-03-13T00:00:00",
          "2011-03-14T00:00:00",
          "2011-03-15T00:00:00",
          "2011-03-16T00:00:00",
          "2011-03-17T00:00:00",
          "2011-03-18T00:00:00",
          "2011-03-19T00:00:00",
          "2011-03-20T00:00:00",
          "2011-03-21T00:00:00",
          "2011-03-22T00:00:00",
          "2011-03-23T00:00:00",
          "2011-03-24T00:00:00",
          "2011-03-25T00:00:00",
          "2011-03-26T00:00:00",
          "2011-03-27T00:00:00",
          "2011-03-28T00:00:00",
          "2011-03-29T00:00:00",
          "2011-03-30T00:00:00",
          "2011-03-31T00:00:00",
          "2011-04-01T00:00:00",
          "2011-04-02T00:00:00",
          "2011-04-03T00:00:00",
          "2011-04-04T00:00:00",
          "2011-04-05T00:00:00",
          "2011-04-06T00:00:00",
          "2011-04-07T00:00:00",
          "2011-04-08T00:00:00",
          "2011-04-09T00:00:00",
          "2011-04-10T00:00:00",
          "2011-04-11T00:00:00",
          "2011-04-12T00:00:00",
          "2011-04-13T00:00:00",
          "2011-04-14T00:00:00",
          "2011-04-15T00:00:00",
          "2011-04-16T00:00:00",
          "2011-04-17T00:00:00",
          "2011-04-18T00:00:00",
          "2011-04-19T00:00:00",
          "2011-04-20T00:00:00",
          "2011-04-21T00:00:00",
          "2011-04-22T00:00:00",
          "2011-04-23T00:00:00",
          "2011-04-24T00:00:00",
          "2011-04-25T00:00:00",
          "2011-04-26T00:00:00",
          "2011-04-27T00:00:00",
          "2011-04-28T00:00:00",
          "2011-04-29T00:00:00",
          "2011-04-30T00:00:00",
          "2011-05-01T00:00:00",
          "2011-05-02T00:00:00",
          "2011-05-03T00:00:00",
          "2011-05-04T00:00:00",
          "2011-05-05T00:00:00",
          "2011-05-06T00:00:00",
          "2011-05-07T00:00:00",
          "2011-05-08T00:00:00",
          "2011-05-09T00:00:00",
          "2011-05-10T00:00:00",
          "2011-05-11T00:00:00",
          "2011-05-12T00:00:00",
          "2011-05-13T00:00:00",
          "2011-05-14T00:00:00",
          "2011-05-15T00:00:00",
          "2011-05-16T00:00:00",
          "2011-05-17T00:00:00",
          "2011-05-18T00:00:00",
          "2011-05-19T00:00:00",
          "2011-05-20T00:00:00",
          "2011-05-21T00:00:00",
          "2011-05-22T00:00:00",
          "2011-05-23T00:00:00",
          "2011-05-24T00:00:00",
          "2011-05-25T00:00:00",
          "2011-05-26T00:00:00",
          "2011-05-27T00:00:00"
         ],
         "xaxis": "x",
         "y": [
          1265.18,
          709.0200000000001,
          975.0900000000001,
          0,
          114.00000000000001,
          1112.0599999999997,
          1332.64,
          1235.6300000000006,
          0,
          1592.43,
          0,
          0,
          642.14,
          0,
          698.75,
          1408.6799999999996,
          0,
          0,
          406.5,
          190.20000000000002,
          0,
          0,
          0,
          953.8299999999999,
          0,
          0,
          3537.9699999999993,
          456.84999999999997,
          587.3900000000001,
          0,
          1128.7300000000002,
          0,
          0,
          0,
          165.86,
          401.0199999999999,
          285.56000000000006,
          0,
          0,
          0,
          0,
          219.6,
          829.6600000000001,
          214,
          884.6000000000001,
          0,
          0,
          728.8199999999999,
          0,
          403.76000000000005,
          0,
          0,
          0,
          92.6,
          1289.51,
          1038.2599999999998,
          0,
          501.16,
          281.25,
          0,
          0,
          0,
          0,
          0,
          0,
          676.8499999999999,
          0,
          307.28999999999996,
          425.3999999999999,
          511.53999999999996,
          244.79999999999995,
          0,
          0,
          0,
          298.0199999999999,
          205.86999999999992,
          469.97999999999996,
          1675.2800000000004,
          0,
          303.90999999999997,
          0,
          128.04999999999998,
          1028.2999999999997,
          0,
          0,
          5593.589999999998,
          390.75,
          0,
          0,
          513.55,
          0,
          0,
          312.20000000000005,
          0,
          0,
          0,
          0,
          0,
          0,
          615.1999999999999,
          0,
          0,
          594.22,
          0,
          0,
          469.20000000000005,
          652.5500000000001,
          0,
          0,
          0,
          0,
          160.54,
          0,
          191.10000000000002,
          0,
          0,
          0,
          0,
          1673.3400000000006,
          0,
          200,
          0,
          0,
          984.4299999999998,
          500.9000000000001,
          453.09999999999997,
          3018.73,
          278.53000000000003,
          946.5100000000002,
          0,
          133.4,
          672.6199999999999,
          739.62,
          743.5300000000002,
          878.5099999999999,
          956.4000000000001,
          0,
          784.7100000000003,
          385.96,
          357.34,
          1136.8200000000002,
          558.5,
          367.0899999999999
         ],
         "yaxis": "y"
        }
       ],
       "layout": {
        "legend": {
         "title": {
          "text": "variable"
         },
         "tracegroupgap": 0
        },
        "margin": {
         "t": 60
        },
        "template": {
         "data": {
          "bar": [
           {
            "error_x": {
             "color": "#2a3f5f"
            },
            "error_y": {
             "color": "#2a3f5f"
            },
            "marker": {
             "line": {
              "color": "#E5ECF6",
              "width": 0.5
             }
            },
            "type": "bar"
           }
          ],
          "barpolar": [
           {
            "marker": {
             "line": {
              "color": "#E5ECF6",
              "width": 0.5
             }
            },
            "type": "barpolar"
           }
          ],
          "carpet": [
           {
            "aaxis": {
             "endlinecolor": "#2a3f5f",
             "gridcolor": "white",
             "linecolor": "white",
             "minorgridcolor": "white",
             "startlinecolor": "#2a3f5f"
            },
            "baxis": {
             "endlinecolor": "#2a3f5f",
             "gridcolor": "white",
             "linecolor": "white",
             "minorgridcolor": "white",
             "startlinecolor": "#2a3f5f"
            },
            "type": "carpet"
           }
          ],
          "choropleth": [
           {
            "colorbar": {
             "outlinewidth": 0,
             "ticks": ""
            },
            "type": "choropleth"
           }
          ],
          "contour": [
           {
            "colorbar": {
             "outlinewidth": 0,
             "ticks": ""
            },
            "colorscale": [
             [
              0,
              "#0d0887"
             ],
             [
              0.1111111111111111,
              "#46039f"
             ],
             [
              0.2222222222222222,
              "#7201a8"
             ],
             [
              0.3333333333333333,
              "#9c179e"
             ],
             [
              0.4444444444444444,
              "#bd3786"
             ],
             [
              0.5555555555555556,
              "#d8576b"
             ],
             [
              0.6666666666666666,
              "#ed7953"
             ],
             [
              0.7777777777777778,
              "#fb9f3a"
             ],
             [
              0.8888888888888888,
              "#fdca26"
             ],
             [
              1,
              "#f0f921"
             ]
            ],
            "type": "contour"
           }
          ],
          "contourcarpet": [
           {
            "colorbar": {
             "outlinewidth": 0,
             "ticks": ""
            },
            "type": "contourcarpet"
           }
          ],
          "heatmap": [
           {
            "colorbar": {
             "outlinewidth": 0,
             "ticks": ""
            },
            "colorscale": [
             [
              0,
              "#0d0887"
             ],
             [
              0.1111111111111111,
              "#46039f"
             ],
             [
              0.2222222222222222,
              "#7201a8"
             ],
             [
              0.3333333333333333,
              "#9c179e"
             ],
             [
              0.4444444444444444,
              "#bd3786"
             ],
             [
              0.5555555555555556,
              "#d8576b"
             ],
             [
              0.6666666666666666,
              "#ed7953"
             ],
             [
              0.7777777777777778,
              "#fb9f3a"
             ],
             [
              0.8888888888888888,
              "#fdca26"
             ],
             [
              1,
              "#f0f921"
             ]
            ],
            "type": "heatmap"
           }
          ],
          "heatmapgl": [
           {
            "colorbar": {
             "outlinewidth": 0,
             "ticks": ""
            },
            "colorscale": [
             [
              0,
              "#0d0887"
             ],
             [
              0.1111111111111111,
              "#46039f"
             ],
             [
              0.2222222222222222,
              "#7201a8"
             ],
             [
              0.3333333333333333,
              "#9c179e"
             ],
             [
              0.4444444444444444,
              "#bd3786"
             ],
             [
              0.5555555555555556,
              "#d8576b"
             ],
             [
              0.6666666666666666,
              "#ed7953"
             ],
             [
              0.7777777777777778,
              "#fb9f3a"
             ],
             [
              0.8888888888888888,
              "#fdca26"
             ],
             [
              1,
              "#f0f921"
             ]
            ],
            "type": "heatmapgl"
           }
          ],
          "histogram": [
           {
            "marker": {
             "colorbar": {
              "outlinewidth": 0,
              "ticks": ""
             }
            },
            "type": "histogram"
           }
          ],
          "histogram2d": [
           {
            "colorbar": {
             "outlinewidth": 0,
             "ticks": ""
            },
            "colorscale": [
             [
              0,
              "#0d0887"
             ],
             [
              0.1111111111111111,
              "#46039f"
             ],
             [
              0.2222222222222222,
              "#7201a8"
             ],
             [
              0.3333333333333333,
              "#9c179e"
             ],
             [
              0.4444444444444444,
              "#bd3786"
             ],
             [
              0.5555555555555556,
              "#d8576b"
             ],
             [
              0.6666666666666666,
              "#ed7953"
             ],
             [
              0.7777777777777778,
              "#fb9f3a"
             ],
             [
              0.8888888888888888,
              "#fdca26"
             ],
             [
              1,
              "#f0f921"
             ]
            ],
            "type": "histogram2d"
           }
          ],
          "histogram2dcontour": [
           {
            "colorbar": {
             "outlinewidth": 0,
             "ticks": ""
            },
            "colorscale": [
             [
              0,
              "#0d0887"
             ],
             [
              0.1111111111111111,
              "#46039f"
             ],
             [
              0.2222222222222222,
              "#7201a8"
             ],
             [
              0.3333333333333333,
              "#9c179e"
             ],
             [
              0.4444444444444444,
              "#bd3786"
             ],
             [
              0.5555555555555556,
              "#d8576b"
             ],
             [
              0.6666666666666666,
              "#ed7953"
             ],
             [
              0.7777777777777778,
              "#fb9f3a"
             ],
             [
              0.8888888888888888,
              "#fdca26"
             ],
             [
              1,
              "#f0f921"
             ]
            ],
            "type": "histogram2dcontour"
           }
          ],
          "mesh3d": [
           {
            "colorbar": {
             "outlinewidth": 0,
             "ticks": ""
            },
            "type": "mesh3d"
           }
          ],
          "parcoords": [
           {
            "line": {
             "colorbar": {
              "outlinewidth": 0,
              "ticks": ""
             }
            },
            "type": "parcoords"
           }
          ],
          "pie": [
           {
            "automargin": true,
            "type": "pie"
           }
          ],
          "scatter": [
           {
            "marker": {
             "colorbar": {
              "outlinewidth": 0,
              "ticks": ""
             }
            },
            "type": "scatter"
           }
          ],
          "scatter3d": [
           {
            "line": {
             "colorbar": {
              "outlinewidth": 0,
              "ticks": ""
             }
            },
            "marker": {
             "colorbar": {
              "outlinewidth": 0,
              "ticks": ""
             }
            },
            "type": "scatter3d"
           }
          ],
          "scattercarpet": [
           {
            "marker": {
             "colorbar": {
              "outlinewidth": 0,
              "ticks": ""
             }
            },
            "type": "scattercarpet"
           }
          ],
          "scattergeo": [
           {
            "marker": {
             "colorbar": {
              "outlinewidth": 0,
              "ticks": ""
             }
            },
            "type": "scattergeo"
           }
          ],
          "scattergl": [
           {
            "marker": {
             "colorbar": {
              "outlinewidth": 0,
              "ticks": ""
             }
            },
            "type": "scattergl"
           }
          ],
          "scattermapbox": [
           {
            "marker": {
             "colorbar": {
              "outlinewidth": 0,
              "ticks": ""
             }
            },
            "type": "scattermapbox"
           }
          ],
          "scatterpolar": [
           {
            "marker": {
             "colorbar": {
              "outlinewidth": 0,
              "ticks": ""
             }
            },
            "type": "scatterpolar"
           }
          ],
          "scatterpolargl": [
           {
            "marker": {
             "colorbar": {
              "outlinewidth": 0,
              "ticks": ""
             }
            },
            "type": "scatterpolargl"
           }
          ],
          "scatterternary": [
           {
            "marker": {
             "colorbar": {
              "outlinewidth": 0,
              "ticks": ""
             }
            },
            "type": "scatterternary"
           }
          ],
          "surface": [
           {
            "colorbar": {
             "outlinewidth": 0,
             "ticks": ""
            },
            "colorscale": [
             [
              0,
              "#0d0887"
             ],
             [
              0.1111111111111111,
              "#46039f"
             ],
             [
              0.2222222222222222,
              "#7201a8"
             ],
             [
              0.3333333333333333,
              "#9c179e"
             ],
             [
              0.4444444444444444,
              "#bd3786"
             ],
             [
              0.5555555555555556,
              "#d8576b"
             ],
             [
              0.6666666666666666,
              "#ed7953"
             ],
             [
              0.7777777777777778,
              "#fb9f3a"
             ],
             [
              0.8888888888888888,
              "#fdca26"
             ],
             [
              1,
              "#f0f921"
             ]
            ],
            "type": "surface"
           }
          ],
          "table": [
           {
            "cells": {
             "fill": {
              "color": "#EBF0F8"
             },
             "line": {
              "color": "white"
             }
            },
            "header": {
             "fill": {
              "color": "#C8D4E3"
             },
             "line": {
              "color": "white"
             }
            },
            "type": "table"
           }
          ]
         },
         "layout": {
          "annotationdefaults": {
           "arrowcolor": "#2a3f5f",
           "arrowhead": 0,
           "arrowwidth": 1
          },
          "autotypenumbers": "strict",
          "coloraxis": {
           "colorbar": {
            "outlinewidth": 0,
            "ticks": ""
           }
          },
          "colorscale": {
           "diverging": [
            [
             0,
             "#8e0152"
            ],
            [
             0.1,
             "#c51b7d"
            ],
            [
             0.2,
             "#de77ae"
            ],
            [
             0.3,
             "#f1b6da"
            ],
            [
             0.4,
             "#fde0ef"
            ],
            [
             0.5,
             "#f7f7f7"
            ],
            [
             0.6,
             "#e6f5d0"
            ],
            [
             0.7,
             "#b8e186"
            ],
            [
             0.8,
             "#7fbc41"
            ],
            [
             0.9,
             "#4d9221"
            ],
            [
             1,
             "#276419"
            ]
           ],
           "sequential": [
            [
             0,
             "#0d0887"
            ],
            [
             0.1111111111111111,
             "#46039f"
            ],
            [
             0.2222222222222222,
             "#7201a8"
            ],
            [
             0.3333333333333333,
             "#9c179e"
            ],
            [
             0.4444444444444444,
             "#bd3786"
            ],
            [
             0.5555555555555556,
             "#d8576b"
            ],
            [
             0.6666666666666666,
             "#ed7953"
            ],
            [
             0.7777777777777778,
             "#fb9f3a"
            ],
            [
             0.8888888888888888,
             "#fdca26"
            ],
            [
             1,
             "#f0f921"
            ]
           ],
           "sequentialminus": [
            [
             0,
             "#0d0887"
            ],
            [
             0.1111111111111111,
             "#46039f"
            ],
            [
             0.2222222222222222,
             "#7201a8"
            ],
            [
             0.3333333333333333,
             "#9c179e"
            ],
            [
             0.4444444444444444,
             "#bd3786"
            ],
            [
             0.5555555555555556,
             "#d8576b"
            ],
            [
             0.6666666666666666,
             "#ed7953"
            ],
            [
             0.7777777777777778,
             "#fb9f3a"
            ],
            [
             0.8888888888888888,
             "#fdca26"
            ],
            [
             1,
             "#f0f921"
            ]
           ]
          },
          "colorway": [
           "#636efa",
           "#EF553B",
           "#00cc96",
           "#ab63fa",
           "#FFA15A",
           "#19d3f3",
           "#FF6692",
           "#B6E880",
           "#FF97FF",
           "#FECB52"
          ],
          "font": {
           "color": "#2a3f5f"
          },
          "geo": {
           "bgcolor": "white",
           "lakecolor": "white",
           "landcolor": "#E5ECF6",
           "showlakes": true,
           "showland": true,
           "subunitcolor": "white"
          },
          "hoverlabel": {
           "align": "left"
          },
          "hovermode": "closest",
          "mapbox": {
           "style": "light"
          },
          "paper_bgcolor": "white",
          "plot_bgcolor": "#E5ECF6",
          "polar": {
           "angularaxis": {
            "gridcolor": "white",
            "linecolor": "white",
            "ticks": ""
           },
           "bgcolor": "#E5ECF6",
           "radialaxis": {
            "gridcolor": "white",
            "linecolor": "white",
            "ticks": ""
           }
          },
          "scene": {
           "xaxis": {
            "backgroundcolor": "#E5ECF6",
            "gridcolor": "white",
            "gridwidth": 2,
            "linecolor": "white",
            "showbackground": true,
            "ticks": "",
            "zerolinecolor": "white"
           },
           "yaxis": {
            "backgroundcolor": "#E5ECF6",
            "gridcolor": "white",
            "gridwidth": 2,
            "linecolor": "white",
            "showbackground": true,
            "ticks": "",
            "zerolinecolor": "white"
           },
           "zaxis": {
            "backgroundcolor": "#E5ECF6",
            "gridcolor": "white",
            "gridwidth": 2,
            "linecolor": "white",
            "showbackground": true,
            "ticks": "",
            "zerolinecolor": "white"
           }
          },
          "shapedefaults": {
           "line": {
            "color": "#2a3f5f"
           }
          },
          "ternary": {
           "aaxis": {
            "gridcolor": "white",
            "linecolor": "white",
            "ticks": ""
           },
           "baxis": {
            "gridcolor": "white",
            "linecolor": "white",
            "ticks": ""
           },
           "bgcolor": "#E5ECF6",
           "caxis": {
            "gridcolor": "white",
            "linecolor": "white",
            "ticks": ""
           }
          },
          "title": {
           "x": 0.05
          },
          "xaxis": {
           "automargin": true,
           "gridcolor": "white",
           "linecolor": "white",
           "ticks": "",
           "title": {
            "standoff": 15
           },
           "zerolinecolor": "white",
           "zerolinewidth": 2
          },
          "yaxis": {
           "automargin": true,
           "gridcolor": "white",
           "linecolor": "white",
           "ticks": "",
           "title": {
            "standoff": 15
           },
           "zerolinecolor": "white",
           "zerolinewidth": 2
          }
         }
        },
        "xaxis": {
         "anchor": "y",
         "domain": [
          0,
          1
         ],
         "title": {
          "text": "InvoiceDate"
         }
        },
        "yaxis": {
         "anchor": "x",
         "domain": [
          0,
          1
         ],
         "title": {
          "text": "value"
         }
        }
       }
      },
      "text/html": [
       "<div>                            <div id=\"deae161c-ec16-4411-bf3d-0ced76731916\" class=\"plotly-graph-div\" style=\"height:525px; width:100%;\"></div>            <script type=\"text/javascript\">                require([\"plotly\"], function(Plotly) {                    window.PLOTLYENV=window.PLOTLYENV || {};                                    if (document.getElementById(\"deae161c-ec16-4411-bf3d-0ced76731916\")) {                    Plotly.newPlot(                        \"deae161c-ec16-4411-bf3d-0ced76731916\",                        [{\"hovertemplate\": \"variable=Quantity<br>InvoiceDate=%{x}<br>value=%{y}<extra></extra>\", \"legendgroup\": \"Quantity\", \"line\": {\"color\": \"#636efa\", \"dash\": \"solid\"}, \"mode\": \"lines\", \"name\": \"Quantity\", \"orientation\": \"v\", \"showlegend\": true, \"type\": \"scatter\", \"x\": [\"2011-01-05T00:00:00\", \"2011-01-06T00:00:00\", \"2011-01-07T00:00:00\", \"2011-01-08T00:00:00\", \"2011-01-09T00:00:00\", \"2011-01-10T00:00:00\", \"2011-01-11T00:00:00\", \"2011-01-12T00:00:00\", \"2011-01-13T00:00:00\", \"2011-01-14T00:00:00\", \"2011-01-15T00:00:00\", \"2011-01-16T00:00:00\", \"2011-01-17T00:00:00\", \"2011-01-18T00:00:00\", \"2011-01-19T00:00:00\", \"2011-01-20T00:00:00\", \"2011-01-21T00:00:00\", \"2011-01-22T00:00:00\", \"2011-01-23T00:00:00\", \"2011-01-24T00:00:00\", \"2011-01-25T00:00:00\", \"2011-01-26T00:00:00\", \"2011-01-27T00:00:00\", \"2011-01-28T00:00:00\", \"2011-01-29T00:00:00\", \"2011-01-30T00:00:00\", \"2011-01-31T00:00:00\", \"2011-02-01T00:00:00\", \"2011-02-02T00:00:00\", \"2011-02-03T00:00:00\", \"2011-02-04T00:00:00\", \"2011-02-05T00:00:00\", \"2011-02-06T00:00:00\", \"2011-02-07T00:00:00\", \"2011-02-08T00:00:00\", \"2011-02-09T00:00:00\", \"2011-02-10T00:00:00\", \"2011-02-11T00:00:00\", \"2011-02-12T00:00:00\", \"2011-02-13T00:00:00\", \"2011-02-14T00:00:00\", \"2011-02-15T00:00:00\", \"2011-02-16T00:00:00\", \"2011-02-17T00:00:00\", \"2011-02-18T00:00:00\", \"2011-02-19T00:00:00\", \"2011-02-20T00:00:00\", \"2011-02-21T00:00:00\", \"2011-02-22T00:00:00\", \"2011-02-23T00:00:00\", \"2011-02-24T00:00:00\", \"2011-02-25T00:00:00\", \"2011-02-26T00:00:00\", \"2011-02-27T00:00:00\", \"2011-02-28T00:00:00\", \"2011-03-01T00:00:00\", \"2011-03-02T00:00:00\", \"2011-03-03T00:00:00\", \"2011-03-04T00:00:00\", \"2011-03-05T00:00:00\", \"2011-03-06T00:00:00\", \"2011-03-07T00:00:00\", \"2011-03-08T00:00:00\", \"2011-03-09T00:00:00\", \"2011-03-10T00:00:00\", \"2011-03-11T00:00:00\", \"2011-03-12T00:00:00\", \"2011-03-13T00:00:00\", \"2011-03-14T00:00:00\", \"2011-03-15T00:00:00\", \"2011-03-16T00:00:00\", \"2011-03-17T00:00:00\", \"2011-03-18T00:00:00\", \"2011-03-19T00:00:00\", \"2011-03-20T00:00:00\", \"2011-03-21T00:00:00\", \"2011-03-22T00:00:00\", \"2011-03-23T00:00:00\", \"2011-03-24T00:00:00\", \"2011-03-25T00:00:00\", \"2011-03-26T00:00:00\", \"2011-03-27T00:00:00\", \"2011-03-28T00:00:00\", \"2011-03-29T00:00:00\", \"2011-03-30T00:00:00\", \"2011-03-31T00:00:00\", \"2011-04-01T00:00:00\", \"2011-04-02T00:00:00\", \"2011-04-03T00:00:00\", \"2011-04-04T00:00:00\", \"2011-04-05T00:00:00\", \"2011-04-06T00:00:00\", \"2011-04-07T00:00:00\", \"2011-04-08T00:00:00\", \"2011-04-09T00:00:00\", \"2011-04-10T00:00:00\", \"2011-04-11T00:00:00\", \"2011-04-12T00:00:00\", \"2011-04-13T00:00:00\", \"2011-04-14T00:00:00\", \"2011-04-15T00:00:00\", \"2011-04-16T00:00:00\", \"2011-04-17T00:00:00\", \"2011-04-18T00:00:00\", \"2011-04-19T00:00:00\", \"2011-04-20T00:00:00\", \"2011-04-21T00:00:00\", \"2011-04-22T00:00:00\", \"2011-04-23T00:00:00\", \"2011-04-24T00:00:00\", \"2011-04-25T00:00:00\", \"2011-04-26T00:00:00\", \"2011-04-27T00:00:00\", \"2011-04-28T00:00:00\", \"2011-04-29T00:00:00\", \"2011-04-30T00:00:00\", \"2011-05-01T00:00:00\", \"2011-05-02T00:00:00\", \"2011-05-03T00:00:00\", \"2011-05-04T00:00:00\", \"2011-05-05T00:00:00\", \"2011-05-06T00:00:00\", \"2011-05-07T00:00:00\", \"2011-05-08T00:00:00\", \"2011-05-09T00:00:00\", \"2011-05-10T00:00:00\", \"2011-05-11T00:00:00\", \"2011-05-12T00:00:00\", \"2011-05-13T00:00:00\", \"2011-05-14T00:00:00\", \"2011-05-15T00:00:00\", \"2011-05-16T00:00:00\", \"2011-05-17T00:00:00\", \"2011-05-18T00:00:00\", \"2011-05-19T00:00:00\", \"2011-05-20T00:00:00\", \"2011-05-21T00:00:00\", \"2011-05-22T00:00:00\", \"2011-05-23T00:00:00\", \"2011-05-24T00:00:00\", \"2011-05-25T00:00:00\", \"2011-05-26T00:00:00\", \"2011-05-27T00:00:00\"], \"xaxis\": \"x\", \"y\": [728.0, 438.0, 591.0, 0.0, 78.0, 628.0, 978.0, 672.0, 0.0, 1061.0, 0.0, 0.0, 263.0, 0.0, 383.0, 702.0, 0.0, 0.0, 120.0, 84.0, 0.0, 0.0, 0.0, 567.0, 0.0, 0.0, 1819.0, 197.0, 365.0, 0.0, 611.0, 0.0, 0.0, 0.0, 214.0, 298.0, 452.0, 0.0, 0.0, 0.0, 0.0, 96.0, 772.0, 114.0, 763.0, 0.0, 0.0, 333.0, 0.0, 360.0, 0.0, 0.0, 0.0, 70.0, 649.0, 574.0, 0.0, 338.0, 123.0, 0.0, 0.0, 0.0, 0.0, 0.0, 0.0, 323.0, 0.0, 183.0, 184.0, 314.0, 159.0, 0.0, 0.0, 0.0, 422.0, 90.0, 198.0, 1221.0, 0.0, 261.0, 0.0, 59.0, 842.0, 0.0, 0.0, 3349.0, 328.0, 0.0, 0.0, 293.0, 0.0, 0.0, 236.0, 0.0, 0.0, 0.0, 0.0, 0.0, 0.0, 284.0, 0.0, 0.0, 400.0, 0.0, 0.0, 196.0, 298.0, 0.0, 0.0, 0.0, 0.0, 84.0, 0.0, 146.0, 0.0, 0.0, 0.0, 0.0, 1036.0, 0.0, 98.0, 0.0, 0.0, 773.0, 494.0, 458.0, 1593.0, 105.0, 502.0, 0.0, 140.0, 278.0, 476.0, 327.0, 560.0, 464.0, 0.0, 291.0, 304.0, 208.0, 734.0, 510.0, 155.0], \"yaxis\": \"y\"}, {\"hovertemplate\": \"variable=Revenue<br>InvoiceDate=%{x}<br>value=%{y}<extra></extra>\", \"legendgroup\": \"Revenue\", \"line\": {\"color\": \"#EF553B\", \"dash\": \"solid\"}, \"mode\": \"lines\", \"name\": \"Revenue\", \"orientation\": \"v\", \"showlegend\": true, \"type\": \"scatter\", \"x\": [\"2011-01-05T00:00:00\", \"2011-01-06T00:00:00\", \"2011-01-07T00:00:00\", \"2011-01-08T00:00:00\", \"2011-01-09T00:00:00\", \"2011-01-10T00:00:00\", \"2011-01-11T00:00:00\", \"2011-01-12T00:00:00\", \"2011-01-13T00:00:00\", \"2011-01-14T00:00:00\", \"2011-01-15T00:00:00\", \"2011-01-16T00:00:00\", \"2011-01-17T00:00:00\", \"2011-01-18T00:00:00\", \"2011-01-19T00:00:00\", \"2011-01-20T00:00:00\", \"2011-01-21T00:00:00\", \"2011-01-22T00:00:00\", \"2011-01-23T00:00:00\", \"2011-01-24T00:00:00\", \"2011-01-25T00:00:00\", \"2011-01-26T00:00:00\", \"2011-01-27T00:00:00\", \"2011-01-28T00:00:00\", \"2011-01-29T00:00:00\", \"2011-01-30T00:00:00\", \"2011-01-31T00:00:00\", \"2011-02-01T00:00:00\", \"2011-02-02T00:00:00\", \"2011-02-03T00:00:00\", \"2011-02-04T00:00:00\", \"2011-02-05T00:00:00\", \"2011-02-06T00:00:00\", \"2011-02-07T00:00:00\", \"2011-02-08T00:00:00\", \"2011-02-09T00:00:00\", \"2011-02-10T00:00:00\", \"2011-02-11T00:00:00\", \"2011-02-12T00:00:00\", \"2011-02-13T00:00:00\", \"2011-02-14T00:00:00\", \"2011-02-15T00:00:00\", \"2011-02-16T00:00:00\", \"2011-02-17T00:00:00\", \"2011-02-18T00:00:00\", \"2011-02-19T00:00:00\", \"2011-02-20T00:00:00\", \"2011-02-21T00:00:00\", \"2011-02-22T00:00:00\", \"2011-02-23T00:00:00\", \"2011-02-24T00:00:00\", \"2011-02-25T00:00:00\", \"2011-02-26T00:00:00\", \"2011-02-27T00:00:00\", \"2011-02-28T00:00:00\", \"2011-03-01T00:00:00\", \"2011-03-02T00:00:00\", \"2011-03-03T00:00:00\", \"2011-03-04T00:00:00\", \"2011-03-05T00:00:00\", \"2011-03-06T00:00:00\", \"2011-03-07T00:00:00\", \"2011-03-08T00:00:00\", \"2011-03-09T00:00:00\", \"2011-03-10T00:00:00\", \"2011-03-11T00:00:00\", \"2011-03-12T00:00:00\", \"2011-03-13T00:00:00\", \"2011-03-14T00:00:00\", \"2011-03-15T00:00:00\", \"2011-03-16T00:00:00\", \"2011-03-17T00:00:00\", \"2011-03-18T00:00:00\", \"2011-03-19T00:00:00\", \"2011-03-20T00:00:00\", \"2011-03-21T00:00:00\", \"2011-03-22T00:00:00\", \"2011-03-23T00:00:00\", \"2011-03-24T00:00:00\", \"2011-03-25T00:00:00\", \"2011-03-26T00:00:00\", \"2011-03-27T00:00:00\", \"2011-03-28T00:00:00\", \"2011-03-29T00:00:00\", \"2011-03-30T00:00:00\", \"2011-03-31T00:00:00\", \"2011-04-01T00:00:00\", \"2011-04-02T00:00:00\", \"2011-04-03T00:00:00\", \"2011-04-04T00:00:00\", \"2011-04-05T00:00:00\", \"2011-04-06T00:00:00\", \"2011-04-07T00:00:00\", \"2011-04-08T00:00:00\", \"2011-04-09T00:00:00\", \"2011-04-10T00:00:00\", \"2011-04-11T00:00:00\", \"2011-04-12T00:00:00\", \"2011-04-13T00:00:00\", \"2011-04-14T00:00:00\", \"2011-04-15T00:00:00\", \"2011-04-16T00:00:00\", \"2011-04-17T00:00:00\", \"2011-04-18T00:00:00\", \"2011-04-19T00:00:00\", \"2011-04-20T00:00:00\", \"2011-04-21T00:00:00\", \"2011-04-22T00:00:00\", \"2011-04-23T00:00:00\", \"2011-04-24T00:00:00\", \"2011-04-25T00:00:00\", \"2011-04-26T00:00:00\", \"2011-04-27T00:00:00\", \"2011-04-28T00:00:00\", \"2011-04-29T00:00:00\", \"2011-04-30T00:00:00\", \"2011-05-01T00:00:00\", \"2011-05-02T00:00:00\", \"2011-05-03T00:00:00\", \"2011-05-04T00:00:00\", \"2011-05-05T00:00:00\", \"2011-05-06T00:00:00\", \"2011-05-07T00:00:00\", \"2011-05-08T00:00:00\", \"2011-05-09T00:00:00\", \"2011-05-10T00:00:00\", \"2011-05-11T00:00:00\", \"2011-05-12T00:00:00\", \"2011-05-13T00:00:00\", \"2011-05-14T00:00:00\", \"2011-05-15T00:00:00\", \"2011-05-16T00:00:00\", \"2011-05-17T00:00:00\", \"2011-05-18T00:00:00\", \"2011-05-19T00:00:00\", \"2011-05-20T00:00:00\", \"2011-05-21T00:00:00\", \"2011-05-22T00:00:00\", \"2011-05-23T00:00:00\", \"2011-05-24T00:00:00\", \"2011-05-25T00:00:00\", \"2011-05-26T00:00:00\", \"2011-05-27T00:00:00\"], \"xaxis\": \"x\", \"y\": [1265.18, 709.0200000000001, 975.0900000000001, 0.0, 114.00000000000001, 1112.0599999999997, 1332.64, 1235.6300000000006, 0.0, 1592.43, 0.0, 0.0, 642.14, 0.0, 698.75, 1408.6799999999996, 0.0, 0.0, 406.5, 190.20000000000002, 0.0, 0.0, 0.0, 953.8299999999999, 0.0, 0.0, 3537.9699999999993, 456.84999999999997, 587.3900000000001, 0.0, 1128.7300000000002, 0.0, 0.0, 0.0, 165.86, 401.0199999999999, 285.56000000000006, 0.0, 0.0, 0.0, 0.0, 219.6, 829.6600000000001, 214.0, 884.6000000000001, 0.0, 0.0, 728.8199999999999, 0.0, 403.76000000000005, 0.0, 0.0, 0.0, 92.6, 1289.51, 1038.2599999999998, 0.0, 501.16, 281.25, 0.0, 0.0, 0.0, 0.0, 0.0, 0.0, 676.8499999999999, 0.0, 307.28999999999996, 425.3999999999999, 511.53999999999996, 244.79999999999995, 0.0, 0.0, 0.0, 298.0199999999999, 205.86999999999992, 469.97999999999996, 1675.2800000000004, 0.0, 303.90999999999997, 0.0, 128.04999999999998, 1028.2999999999997, 0.0, 0.0, 5593.589999999998, 390.75, 0.0, 0.0, 513.55, 0.0, 0.0, 312.20000000000005, 0.0, 0.0, 0.0, 0.0, 0.0, 0.0, 615.1999999999999, 0.0, 0.0, 594.22, 0.0, 0.0, 469.20000000000005, 652.5500000000001, 0.0, 0.0, 0.0, 0.0, 160.54, 0.0, 191.10000000000002, 0.0, 0.0, 0.0, 0.0, 1673.3400000000006, 0.0, 200.0, 0.0, 0.0, 984.4299999999998, 500.9000000000001, 453.09999999999997, 3018.73, 278.53000000000003, 946.5100000000002, 0.0, 133.4, 672.6199999999999, 739.62, 743.5300000000002, 878.5099999999999, 956.4000000000001, 0.0, 784.7100000000003, 385.96, 357.34, 1136.8200000000002, 558.5, 367.0899999999999], \"yaxis\": \"y\"}],                        {\"legend\": {\"title\": {\"text\": \"variable\"}, \"tracegroupgap\": 0}, \"margin\": {\"t\": 60}, \"template\": {\"data\": {\"bar\": [{\"error_x\": {\"color\": \"#2a3f5f\"}, \"error_y\": {\"color\": \"#2a3f5f\"}, \"marker\": {\"line\": {\"color\": \"#E5ECF6\", \"width\": 0.5}}, \"type\": \"bar\"}], \"barpolar\": [{\"marker\": {\"line\": {\"color\": \"#E5ECF6\", \"width\": 0.5}}, \"type\": \"barpolar\"}], \"carpet\": [{\"aaxis\": {\"endlinecolor\": \"#2a3f5f\", \"gridcolor\": \"white\", \"linecolor\": \"white\", \"minorgridcolor\": \"white\", \"startlinecolor\": \"#2a3f5f\"}, \"baxis\": {\"endlinecolor\": \"#2a3f5f\", \"gridcolor\": \"white\", \"linecolor\": \"white\", \"minorgridcolor\": \"white\", \"startlinecolor\": \"#2a3f5f\"}, \"type\": \"carpet\"}], \"choropleth\": [{\"colorbar\": {\"outlinewidth\": 0, \"ticks\": \"\"}, \"type\": \"choropleth\"}], \"contour\": [{\"colorbar\": {\"outlinewidth\": 0, \"ticks\": \"\"}, \"colorscale\": [[0.0, \"#0d0887\"], [0.1111111111111111, \"#46039f\"], [0.2222222222222222, \"#7201a8\"], [0.3333333333333333, \"#9c179e\"], [0.4444444444444444, \"#bd3786\"], [0.5555555555555556, \"#d8576b\"], [0.6666666666666666, \"#ed7953\"], [0.7777777777777778, \"#fb9f3a\"], [0.8888888888888888, \"#fdca26\"], [1.0, \"#f0f921\"]], \"type\": \"contour\"}], \"contourcarpet\": [{\"colorbar\": {\"outlinewidth\": 0, \"ticks\": \"\"}, \"type\": \"contourcarpet\"}], \"heatmap\": [{\"colorbar\": {\"outlinewidth\": 0, \"ticks\": \"\"}, \"colorscale\": [[0.0, \"#0d0887\"], [0.1111111111111111, \"#46039f\"], [0.2222222222222222, \"#7201a8\"], [0.3333333333333333, \"#9c179e\"], [0.4444444444444444, \"#bd3786\"], [0.5555555555555556, \"#d8576b\"], [0.6666666666666666, \"#ed7953\"], [0.7777777777777778, \"#fb9f3a\"], [0.8888888888888888, \"#fdca26\"], [1.0, \"#f0f921\"]], \"type\": \"heatmap\"}], \"heatmapgl\": [{\"colorbar\": {\"outlinewidth\": 0, \"ticks\": \"\"}, \"colorscale\": [[0.0, \"#0d0887\"], [0.1111111111111111, \"#46039f\"], [0.2222222222222222, \"#7201a8\"], [0.3333333333333333, \"#9c179e\"], [0.4444444444444444, \"#bd3786\"], [0.5555555555555556, \"#d8576b\"], [0.6666666666666666, \"#ed7953\"], [0.7777777777777778, \"#fb9f3a\"], [0.8888888888888888, \"#fdca26\"], [1.0, \"#f0f921\"]], \"type\": \"heatmapgl\"}], \"histogram\": [{\"marker\": {\"colorbar\": {\"outlinewidth\": 0, \"ticks\": \"\"}}, \"type\": \"histogram\"}], \"histogram2d\": [{\"colorbar\": {\"outlinewidth\": 0, \"ticks\": \"\"}, \"colorscale\": [[0.0, \"#0d0887\"], [0.1111111111111111, \"#46039f\"], [0.2222222222222222, \"#7201a8\"], [0.3333333333333333, \"#9c179e\"], [0.4444444444444444, \"#bd3786\"], [0.5555555555555556, \"#d8576b\"], [0.6666666666666666, \"#ed7953\"], [0.7777777777777778, \"#fb9f3a\"], [0.8888888888888888, \"#fdca26\"], [1.0, \"#f0f921\"]], \"type\": \"histogram2d\"}], \"histogram2dcontour\": [{\"colorbar\": {\"outlinewidth\": 0, \"ticks\": \"\"}, \"colorscale\": [[0.0, \"#0d0887\"], [0.1111111111111111, \"#46039f\"], [0.2222222222222222, \"#7201a8\"], [0.3333333333333333, \"#9c179e\"], [0.4444444444444444, \"#bd3786\"], [0.5555555555555556, \"#d8576b\"], [0.6666666666666666, \"#ed7953\"], [0.7777777777777778, \"#fb9f3a\"], [0.8888888888888888, \"#fdca26\"], [1.0, \"#f0f921\"]], \"type\": \"histogram2dcontour\"}], \"mesh3d\": [{\"colorbar\": {\"outlinewidth\": 0, \"ticks\": \"\"}, \"type\": \"mesh3d\"}], \"parcoords\": [{\"line\": {\"colorbar\": {\"outlinewidth\": 0, \"ticks\": \"\"}}, \"type\": \"parcoords\"}], \"pie\": [{\"automargin\": true, \"type\": \"pie\"}], \"scatter\": [{\"marker\": {\"colorbar\": {\"outlinewidth\": 0, \"ticks\": \"\"}}, \"type\": \"scatter\"}], \"scatter3d\": [{\"line\": {\"colorbar\": {\"outlinewidth\": 0, \"ticks\": \"\"}}, \"marker\": {\"colorbar\": {\"outlinewidth\": 0, \"ticks\": \"\"}}, \"type\": \"scatter3d\"}], \"scattercarpet\": [{\"marker\": {\"colorbar\": {\"outlinewidth\": 0, \"ticks\": \"\"}}, \"type\": \"scattercarpet\"}], \"scattergeo\": [{\"marker\": {\"colorbar\": {\"outlinewidth\": 0, \"ticks\": \"\"}}, \"type\": \"scattergeo\"}], \"scattergl\": [{\"marker\": {\"colorbar\": {\"outlinewidth\": 0, \"ticks\": \"\"}}, \"type\": \"scattergl\"}], \"scattermapbox\": [{\"marker\": {\"colorbar\": {\"outlinewidth\": 0, \"ticks\": \"\"}}, \"type\": \"scattermapbox\"}], \"scatterpolar\": [{\"marker\": {\"colorbar\": {\"outlinewidth\": 0, \"ticks\": \"\"}}, \"type\": \"scatterpolar\"}], \"scatterpolargl\": [{\"marker\": {\"colorbar\": {\"outlinewidth\": 0, \"ticks\": \"\"}}, \"type\": \"scatterpolargl\"}], \"scatterternary\": [{\"marker\": {\"colorbar\": {\"outlinewidth\": 0, \"ticks\": \"\"}}, \"type\": \"scatterternary\"}], \"surface\": [{\"colorbar\": {\"outlinewidth\": 0, \"ticks\": \"\"}, \"colorscale\": [[0.0, \"#0d0887\"], [0.1111111111111111, \"#46039f\"], [0.2222222222222222, \"#7201a8\"], [0.3333333333333333, \"#9c179e\"], [0.4444444444444444, \"#bd3786\"], [0.5555555555555556, \"#d8576b\"], [0.6666666666666666, \"#ed7953\"], [0.7777777777777778, \"#fb9f3a\"], [0.8888888888888888, \"#fdca26\"], [1.0, \"#f0f921\"]], \"type\": \"surface\"}], \"table\": [{\"cells\": {\"fill\": {\"color\": \"#EBF0F8\"}, \"line\": {\"color\": \"white\"}}, \"header\": {\"fill\": {\"color\": \"#C8D4E3\"}, \"line\": {\"color\": \"white\"}}, \"type\": \"table\"}]}, \"layout\": {\"annotationdefaults\": {\"arrowcolor\": \"#2a3f5f\", \"arrowhead\": 0, \"arrowwidth\": 1}, \"autotypenumbers\": \"strict\", \"coloraxis\": {\"colorbar\": {\"outlinewidth\": 0, \"ticks\": \"\"}}, \"colorscale\": {\"diverging\": [[0, \"#8e0152\"], [0.1, \"#c51b7d\"], [0.2, \"#de77ae\"], [0.3, \"#f1b6da\"], [0.4, \"#fde0ef\"], [0.5, \"#f7f7f7\"], [0.6, \"#e6f5d0\"], [0.7, \"#b8e186\"], [0.8, \"#7fbc41\"], [0.9, \"#4d9221\"], [1, \"#276419\"]], \"sequential\": [[0.0, \"#0d0887\"], [0.1111111111111111, \"#46039f\"], [0.2222222222222222, \"#7201a8\"], [0.3333333333333333, \"#9c179e\"], [0.4444444444444444, \"#bd3786\"], [0.5555555555555556, \"#d8576b\"], [0.6666666666666666, \"#ed7953\"], [0.7777777777777778, \"#fb9f3a\"], [0.8888888888888888, \"#fdca26\"], [1.0, \"#f0f921\"]], \"sequentialminus\": [[0.0, \"#0d0887\"], [0.1111111111111111, \"#46039f\"], [0.2222222222222222, \"#7201a8\"], [0.3333333333333333, \"#9c179e\"], [0.4444444444444444, \"#bd3786\"], [0.5555555555555556, \"#d8576b\"], [0.6666666666666666, \"#ed7953\"], [0.7777777777777778, \"#fb9f3a\"], [0.8888888888888888, \"#fdca26\"], [1.0, \"#f0f921\"]]}, \"colorway\": [\"#636efa\", \"#EF553B\", \"#00cc96\", \"#ab63fa\", \"#FFA15A\", \"#19d3f3\", \"#FF6692\", \"#B6E880\", \"#FF97FF\", \"#FECB52\"], \"font\": {\"color\": \"#2a3f5f\"}, \"geo\": {\"bgcolor\": \"white\", \"lakecolor\": \"white\", \"landcolor\": \"#E5ECF6\", \"showlakes\": true, \"showland\": true, \"subunitcolor\": \"white\"}, \"hoverlabel\": {\"align\": \"left\"}, \"hovermode\": \"closest\", \"mapbox\": {\"style\": \"light\"}, \"paper_bgcolor\": \"white\", \"plot_bgcolor\": \"#E5ECF6\", \"polar\": {\"angularaxis\": {\"gridcolor\": \"white\", \"linecolor\": \"white\", \"ticks\": \"\"}, \"bgcolor\": \"#E5ECF6\", \"radialaxis\": {\"gridcolor\": \"white\", \"linecolor\": \"white\", \"ticks\": \"\"}}, \"scene\": {\"xaxis\": {\"backgroundcolor\": \"#E5ECF6\", \"gridcolor\": \"white\", \"gridwidth\": 2, \"linecolor\": \"white\", \"showbackground\": true, \"ticks\": \"\", \"zerolinecolor\": \"white\"}, \"yaxis\": {\"backgroundcolor\": \"#E5ECF6\", \"gridcolor\": \"white\", \"gridwidth\": 2, \"linecolor\": \"white\", \"showbackground\": true, \"ticks\": \"\", \"zerolinecolor\": \"white\"}, \"zaxis\": {\"backgroundcolor\": \"#E5ECF6\", \"gridcolor\": \"white\", \"gridwidth\": 2, \"linecolor\": \"white\", \"showbackground\": true, \"ticks\": \"\", \"zerolinecolor\": \"white\"}}, \"shapedefaults\": {\"line\": {\"color\": \"#2a3f5f\"}}, \"ternary\": {\"aaxis\": {\"gridcolor\": \"white\", \"linecolor\": \"white\", \"ticks\": \"\"}, \"baxis\": {\"gridcolor\": \"white\", \"linecolor\": \"white\", \"ticks\": \"\"}, \"bgcolor\": \"#E5ECF6\", \"caxis\": {\"gridcolor\": \"white\", \"linecolor\": \"white\", \"ticks\": \"\"}}, \"title\": {\"x\": 0.05}, \"xaxis\": {\"automargin\": true, \"gridcolor\": \"white\", \"linecolor\": \"white\", \"ticks\": \"\", \"title\": {\"standoff\": 15}, \"zerolinecolor\": \"white\", \"zerolinewidth\": 2}, \"yaxis\": {\"automargin\": true, \"gridcolor\": \"white\", \"linecolor\": \"white\", \"ticks\": \"\", \"title\": {\"standoff\": 15}, \"zerolinecolor\": \"white\", \"zerolinewidth\": 2}}}, \"xaxis\": {\"anchor\": \"y\", \"domain\": [0.0, 1.0], \"title\": {\"text\": \"InvoiceDate\"}}, \"yaxis\": {\"anchor\": \"x\", \"domain\": [0.0, 1.0], \"title\": {\"text\": \"value\"}}},                        {\"responsive\": true}                    ).then(function(){\n",
       "                            \n",
       "var gd = document.getElementById('deae161c-ec16-4411-bf3d-0ced76731916');\n",
       "var x = new MutationObserver(function (mutations, observer) {{\n",
       "        var display = window.getComputedStyle(gd).display;\n",
       "        if (!display || display === 'none') {{\n",
       "            console.log([gd, 'removed!']);\n",
       "            Plotly.purge(gd);\n",
       "            observer.disconnect();\n",
       "        }}\n",
       "}});\n",
       "\n",
       "// Listen for the removal of the full notebook cells\n",
       "var notebookContainer = gd.closest('#notebook-container');\n",
       "if (notebookContainer) {{\n",
       "    x.observe(notebookContainer, {childList: true});\n",
       "}}\n",
       "\n",
       "// Listen for the clearing of the current output cell\n",
       "var outputEl = gd.closest('.output');\n",
       "if (outputEl) {{\n",
       "    x.observe(outputEl, {childList: true});\n",
       "}}\n",
       "\n",
       "                        })                };                });            </script>        </div>"
      ]
     },
     "metadata": {},
     "output_type": "display_data"
    }
   ],
   "source": [
    "# Visualización por días\n",
    "\n",
    "px.line(df2.sort_values('InvoiceDate').resample('D', on='InvoiceDate')[['Quantity', 'Revenue']].sum())"
   ]
  },
  {
   "cell_type": "code",
   "execution_count": 86,
   "metadata": {},
   "outputs": [
    {
     "data": {
      "application/vnd.plotly.v1+json": {
       "config": {
        "plotlyServerURL": "https://plot.ly"
       },
       "data": [
        {
         "hovertemplate": "variable=Quantity<br>InvoiceDate=%{x}<br>value=%{y}<extra></extra>",
         "legendgroup": "Quantity",
         "line": {
          "color": "#636efa",
          "dash": "solid"
         },
         "mode": "lines",
         "name": "Quantity",
         "orientation": "v",
         "showlegend": true,
         "type": "scatter",
         "x": [
          "2011-01-09T00:00:00",
          "2011-01-16T00:00:00",
          "2011-01-23T00:00:00",
          "2011-01-30T00:00:00",
          "2011-02-06T00:00:00",
          "2011-02-13T00:00:00",
          "2011-02-20T00:00:00",
          "2011-02-27T00:00:00",
          "2011-03-06T00:00:00",
          "2011-03-13T00:00:00",
          "2011-03-20T00:00:00",
          "2011-03-27T00:00:00",
          "2011-04-03T00:00:00",
          "2011-04-10T00:00:00",
          "2011-04-17T00:00:00",
          "2011-04-24T00:00:00",
          "2011-05-01T00:00:00",
          "2011-05-08T00:00:00",
          "2011-05-15T00:00:00",
          "2011-05-22T00:00:00",
          "2011-05-29T00:00:00"
         ],
         "xaxis": "x",
         "y": [
          1835,
          3339,
          1468,
          651,
          2992,
          964,
          1745,
          763,
          1684,
          506,
          1079,
          1829,
          4519,
          529,
          684,
          494,
          230,
          1907,
          3292,
          2396,
          1911
         ],
         "yaxis": "y"
        },
        {
         "hovertemplate": "variable=Revenue<br>InvoiceDate=%{x}<br>value=%{y}<extra></extra>",
         "legendgroup": "Revenue",
         "line": {
          "color": "#EF553B",
          "dash": "solid"
         },
         "mode": "lines",
         "name": "Revenue",
         "orientation": "v",
         "showlegend": true,
         "type": "scatter",
         "x": [
          "2011-01-09T00:00:00",
          "2011-01-16T00:00:00",
          "2011-01-23T00:00:00",
          "2011-01-30T00:00:00",
          "2011-02-06T00:00:00",
          "2011-02-13T00:00:00",
          "2011-02-20T00:00:00",
          "2011-02-27T00:00:00",
          "2011-03-06T00:00:00",
          "2011-03-13T00:00:00",
          "2011-03-20T00:00:00",
          "2011-03-27T00:00:00",
          "2011-04-03T00:00:00",
          "2011-04-10T00:00:00",
          "2011-04-17T00:00:00",
          "2011-04-24T00:00:00",
          "2011-05-01T00:00:00",
          "2011-05-08T00:00:00",
          "2011-05-15T00:00:00",
          "2011-05-22T00:00:00",
          "2011-05-29T00:00:00"
         ],
         "xaxis": "x",
         "y": [
          3063.289999999999,
          5272.759999999998,
          3156.0699999999997,
          1144.0300000000002,
          5710.939999999999,
          852.4400000000002,
          2147.86,
          1225.1799999999998,
          3110.1800000000003,
          984.1400000000002,
          1479.7600000000004,
          2783.0899999999997,
          7012.639999999997,
          825.7500000000001,
          1209.4199999999996,
          1121.75,
          351.63999999999993,
          2857.77,
          5331.170000000001,
          4775.390000000003,
          2805.709999999999
         ],
         "yaxis": "y"
        }
       ],
       "layout": {
        "legend": {
         "title": {
          "text": "variable"
         },
         "tracegroupgap": 0
        },
        "margin": {
         "t": 60
        },
        "template": {
         "data": {
          "bar": [
           {
            "error_x": {
             "color": "#2a3f5f"
            },
            "error_y": {
             "color": "#2a3f5f"
            },
            "marker": {
             "line": {
              "color": "#E5ECF6",
              "width": 0.5
             }
            },
            "type": "bar"
           }
          ],
          "barpolar": [
           {
            "marker": {
             "line": {
              "color": "#E5ECF6",
              "width": 0.5
             }
            },
            "type": "barpolar"
           }
          ],
          "carpet": [
           {
            "aaxis": {
             "endlinecolor": "#2a3f5f",
             "gridcolor": "white",
             "linecolor": "white",
             "minorgridcolor": "white",
             "startlinecolor": "#2a3f5f"
            },
            "baxis": {
             "endlinecolor": "#2a3f5f",
             "gridcolor": "white",
             "linecolor": "white",
             "minorgridcolor": "white",
             "startlinecolor": "#2a3f5f"
            },
            "type": "carpet"
           }
          ],
          "choropleth": [
           {
            "colorbar": {
             "outlinewidth": 0,
             "ticks": ""
            },
            "type": "choropleth"
           }
          ],
          "contour": [
           {
            "colorbar": {
             "outlinewidth": 0,
             "ticks": ""
            },
            "colorscale": [
             [
              0,
              "#0d0887"
             ],
             [
              0.1111111111111111,
              "#46039f"
             ],
             [
              0.2222222222222222,
              "#7201a8"
             ],
             [
              0.3333333333333333,
              "#9c179e"
             ],
             [
              0.4444444444444444,
              "#bd3786"
             ],
             [
              0.5555555555555556,
              "#d8576b"
             ],
             [
              0.6666666666666666,
              "#ed7953"
             ],
             [
              0.7777777777777778,
              "#fb9f3a"
             ],
             [
              0.8888888888888888,
              "#fdca26"
             ],
             [
              1,
              "#f0f921"
             ]
            ],
            "type": "contour"
           }
          ],
          "contourcarpet": [
           {
            "colorbar": {
             "outlinewidth": 0,
             "ticks": ""
            },
            "type": "contourcarpet"
           }
          ],
          "heatmap": [
           {
            "colorbar": {
             "outlinewidth": 0,
             "ticks": ""
            },
            "colorscale": [
             [
              0,
              "#0d0887"
             ],
             [
              0.1111111111111111,
              "#46039f"
             ],
             [
              0.2222222222222222,
              "#7201a8"
             ],
             [
              0.3333333333333333,
              "#9c179e"
             ],
             [
              0.4444444444444444,
              "#bd3786"
             ],
             [
              0.5555555555555556,
              "#d8576b"
             ],
             [
              0.6666666666666666,
              "#ed7953"
             ],
             [
              0.7777777777777778,
              "#fb9f3a"
             ],
             [
              0.8888888888888888,
              "#fdca26"
             ],
             [
              1,
              "#f0f921"
             ]
            ],
            "type": "heatmap"
           }
          ],
          "heatmapgl": [
           {
            "colorbar": {
             "outlinewidth": 0,
             "ticks": ""
            },
            "colorscale": [
             [
              0,
              "#0d0887"
             ],
             [
              0.1111111111111111,
              "#46039f"
             ],
             [
              0.2222222222222222,
              "#7201a8"
             ],
             [
              0.3333333333333333,
              "#9c179e"
             ],
             [
              0.4444444444444444,
              "#bd3786"
             ],
             [
              0.5555555555555556,
              "#d8576b"
             ],
             [
              0.6666666666666666,
              "#ed7953"
             ],
             [
              0.7777777777777778,
              "#fb9f3a"
             ],
             [
              0.8888888888888888,
              "#fdca26"
             ],
             [
              1,
              "#f0f921"
             ]
            ],
            "type": "heatmapgl"
           }
          ],
          "histogram": [
           {
            "marker": {
             "colorbar": {
              "outlinewidth": 0,
              "ticks": ""
             }
            },
            "type": "histogram"
           }
          ],
          "histogram2d": [
           {
            "colorbar": {
             "outlinewidth": 0,
             "ticks": ""
            },
            "colorscale": [
             [
              0,
              "#0d0887"
             ],
             [
              0.1111111111111111,
              "#46039f"
             ],
             [
              0.2222222222222222,
              "#7201a8"
             ],
             [
              0.3333333333333333,
              "#9c179e"
             ],
             [
              0.4444444444444444,
              "#bd3786"
             ],
             [
              0.5555555555555556,
              "#d8576b"
             ],
             [
              0.6666666666666666,
              "#ed7953"
             ],
             [
              0.7777777777777778,
              "#fb9f3a"
             ],
             [
              0.8888888888888888,
              "#fdca26"
             ],
             [
              1,
              "#f0f921"
             ]
            ],
            "type": "histogram2d"
           }
          ],
          "histogram2dcontour": [
           {
            "colorbar": {
             "outlinewidth": 0,
             "ticks": ""
            },
            "colorscale": [
             [
              0,
              "#0d0887"
             ],
             [
              0.1111111111111111,
              "#46039f"
             ],
             [
              0.2222222222222222,
              "#7201a8"
             ],
             [
              0.3333333333333333,
              "#9c179e"
             ],
             [
              0.4444444444444444,
              "#bd3786"
             ],
             [
              0.5555555555555556,
              "#d8576b"
             ],
             [
              0.6666666666666666,
              "#ed7953"
             ],
             [
              0.7777777777777778,
              "#fb9f3a"
             ],
             [
              0.8888888888888888,
              "#fdca26"
             ],
             [
              1,
              "#f0f921"
             ]
            ],
            "type": "histogram2dcontour"
           }
          ],
          "mesh3d": [
           {
            "colorbar": {
             "outlinewidth": 0,
             "ticks": ""
            },
            "type": "mesh3d"
           }
          ],
          "parcoords": [
           {
            "line": {
             "colorbar": {
              "outlinewidth": 0,
              "ticks": ""
             }
            },
            "type": "parcoords"
           }
          ],
          "pie": [
           {
            "automargin": true,
            "type": "pie"
           }
          ],
          "scatter": [
           {
            "marker": {
             "colorbar": {
              "outlinewidth": 0,
              "ticks": ""
             }
            },
            "type": "scatter"
           }
          ],
          "scatter3d": [
           {
            "line": {
             "colorbar": {
              "outlinewidth": 0,
              "ticks": ""
             }
            },
            "marker": {
             "colorbar": {
              "outlinewidth": 0,
              "ticks": ""
             }
            },
            "type": "scatter3d"
           }
          ],
          "scattercarpet": [
           {
            "marker": {
             "colorbar": {
              "outlinewidth": 0,
              "ticks": ""
             }
            },
            "type": "scattercarpet"
           }
          ],
          "scattergeo": [
           {
            "marker": {
             "colorbar": {
              "outlinewidth": 0,
              "ticks": ""
             }
            },
            "type": "scattergeo"
           }
          ],
          "scattergl": [
           {
            "marker": {
             "colorbar": {
              "outlinewidth": 0,
              "ticks": ""
             }
            },
            "type": "scattergl"
           }
          ],
          "scattermapbox": [
           {
            "marker": {
             "colorbar": {
              "outlinewidth": 0,
              "ticks": ""
             }
            },
            "type": "scattermapbox"
           }
          ],
          "scatterpolar": [
           {
            "marker": {
             "colorbar": {
              "outlinewidth": 0,
              "ticks": ""
             }
            },
            "type": "scatterpolar"
           }
          ],
          "scatterpolargl": [
           {
            "marker": {
             "colorbar": {
              "outlinewidth": 0,
              "ticks": ""
             }
            },
            "type": "scatterpolargl"
           }
          ],
          "scatterternary": [
           {
            "marker": {
             "colorbar": {
              "outlinewidth": 0,
              "ticks": ""
             }
            },
            "type": "scatterternary"
           }
          ],
          "surface": [
           {
            "colorbar": {
             "outlinewidth": 0,
             "ticks": ""
            },
            "colorscale": [
             [
              0,
              "#0d0887"
             ],
             [
              0.1111111111111111,
              "#46039f"
             ],
             [
              0.2222222222222222,
              "#7201a8"
             ],
             [
              0.3333333333333333,
              "#9c179e"
             ],
             [
              0.4444444444444444,
              "#bd3786"
             ],
             [
              0.5555555555555556,
              "#d8576b"
             ],
             [
              0.6666666666666666,
              "#ed7953"
             ],
             [
              0.7777777777777778,
              "#fb9f3a"
             ],
             [
              0.8888888888888888,
              "#fdca26"
             ],
             [
              1,
              "#f0f921"
             ]
            ],
            "type": "surface"
           }
          ],
          "table": [
           {
            "cells": {
             "fill": {
              "color": "#EBF0F8"
             },
             "line": {
              "color": "white"
             }
            },
            "header": {
             "fill": {
              "color": "#C8D4E3"
             },
             "line": {
              "color": "white"
             }
            },
            "type": "table"
           }
          ]
         },
         "layout": {
          "annotationdefaults": {
           "arrowcolor": "#2a3f5f",
           "arrowhead": 0,
           "arrowwidth": 1
          },
          "autotypenumbers": "strict",
          "coloraxis": {
           "colorbar": {
            "outlinewidth": 0,
            "ticks": ""
           }
          },
          "colorscale": {
           "diverging": [
            [
             0,
             "#8e0152"
            ],
            [
             0.1,
             "#c51b7d"
            ],
            [
             0.2,
             "#de77ae"
            ],
            [
             0.3,
             "#f1b6da"
            ],
            [
             0.4,
             "#fde0ef"
            ],
            [
             0.5,
             "#f7f7f7"
            ],
            [
             0.6,
             "#e6f5d0"
            ],
            [
             0.7,
             "#b8e186"
            ],
            [
             0.8,
             "#7fbc41"
            ],
            [
             0.9,
             "#4d9221"
            ],
            [
             1,
             "#276419"
            ]
           ],
           "sequential": [
            [
             0,
             "#0d0887"
            ],
            [
             0.1111111111111111,
             "#46039f"
            ],
            [
             0.2222222222222222,
             "#7201a8"
            ],
            [
             0.3333333333333333,
             "#9c179e"
            ],
            [
             0.4444444444444444,
             "#bd3786"
            ],
            [
             0.5555555555555556,
             "#d8576b"
            ],
            [
             0.6666666666666666,
             "#ed7953"
            ],
            [
             0.7777777777777778,
             "#fb9f3a"
            ],
            [
             0.8888888888888888,
             "#fdca26"
            ],
            [
             1,
             "#f0f921"
            ]
           ],
           "sequentialminus": [
            [
             0,
             "#0d0887"
            ],
            [
             0.1111111111111111,
             "#46039f"
            ],
            [
             0.2222222222222222,
             "#7201a8"
            ],
            [
             0.3333333333333333,
             "#9c179e"
            ],
            [
             0.4444444444444444,
             "#bd3786"
            ],
            [
             0.5555555555555556,
             "#d8576b"
            ],
            [
             0.6666666666666666,
             "#ed7953"
            ],
            [
             0.7777777777777778,
             "#fb9f3a"
            ],
            [
             0.8888888888888888,
             "#fdca26"
            ],
            [
             1,
             "#f0f921"
            ]
           ]
          },
          "colorway": [
           "#636efa",
           "#EF553B",
           "#00cc96",
           "#ab63fa",
           "#FFA15A",
           "#19d3f3",
           "#FF6692",
           "#B6E880",
           "#FF97FF",
           "#FECB52"
          ],
          "font": {
           "color": "#2a3f5f"
          },
          "geo": {
           "bgcolor": "white",
           "lakecolor": "white",
           "landcolor": "#E5ECF6",
           "showlakes": true,
           "showland": true,
           "subunitcolor": "white"
          },
          "hoverlabel": {
           "align": "left"
          },
          "hovermode": "closest",
          "mapbox": {
           "style": "light"
          },
          "paper_bgcolor": "white",
          "plot_bgcolor": "#E5ECF6",
          "polar": {
           "angularaxis": {
            "gridcolor": "white",
            "linecolor": "white",
            "ticks": ""
           },
           "bgcolor": "#E5ECF6",
           "radialaxis": {
            "gridcolor": "white",
            "linecolor": "white",
            "ticks": ""
           }
          },
          "scene": {
           "xaxis": {
            "backgroundcolor": "#E5ECF6",
            "gridcolor": "white",
            "gridwidth": 2,
            "linecolor": "white",
            "showbackground": true,
            "ticks": "",
            "zerolinecolor": "white"
           },
           "yaxis": {
            "backgroundcolor": "#E5ECF6",
            "gridcolor": "white",
            "gridwidth": 2,
            "linecolor": "white",
            "showbackground": true,
            "ticks": "",
            "zerolinecolor": "white"
           },
           "zaxis": {
            "backgroundcolor": "#E5ECF6",
            "gridcolor": "white",
            "gridwidth": 2,
            "linecolor": "white",
            "showbackground": true,
            "ticks": "",
            "zerolinecolor": "white"
           }
          },
          "shapedefaults": {
           "line": {
            "color": "#2a3f5f"
           }
          },
          "ternary": {
           "aaxis": {
            "gridcolor": "white",
            "linecolor": "white",
            "ticks": ""
           },
           "baxis": {
            "gridcolor": "white",
            "linecolor": "white",
            "ticks": ""
           },
           "bgcolor": "#E5ECF6",
           "caxis": {
            "gridcolor": "white",
            "linecolor": "white",
            "ticks": ""
           }
          },
          "title": {
           "x": 0.05
          },
          "xaxis": {
           "automargin": true,
           "gridcolor": "white",
           "linecolor": "white",
           "ticks": "",
           "title": {
            "standoff": 15
           },
           "zerolinecolor": "white",
           "zerolinewidth": 2
          },
          "yaxis": {
           "automargin": true,
           "gridcolor": "white",
           "linecolor": "white",
           "ticks": "",
           "title": {
            "standoff": 15
           },
           "zerolinecolor": "white",
           "zerolinewidth": 2
          }
         }
        },
        "xaxis": {
         "anchor": "y",
         "domain": [
          0,
          1
         ],
         "title": {
          "text": "InvoiceDate"
         }
        },
        "yaxis": {
         "anchor": "x",
         "domain": [
          0,
          1
         ],
         "title": {
          "text": "value"
         }
        }
       }
      },
      "text/html": [
       "<div>                            <div id=\"2e58a87c-3f42-4a56-bdd7-a34bccaed619\" class=\"plotly-graph-div\" style=\"height:525px; width:100%;\"></div>            <script type=\"text/javascript\">                require([\"plotly\"], function(Plotly) {                    window.PLOTLYENV=window.PLOTLYENV || {};                                    if (document.getElementById(\"2e58a87c-3f42-4a56-bdd7-a34bccaed619\")) {                    Plotly.newPlot(                        \"2e58a87c-3f42-4a56-bdd7-a34bccaed619\",                        [{\"hovertemplate\": \"variable=Quantity<br>InvoiceDate=%{x}<br>value=%{y}<extra></extra>\", \"legendgroup\": \"Quantity\", \"line\": {\"color\": \"#636efa\", \"dash\": \"solid\"}, \"mode\": \"lines\", \"name\": \"Quantity\", \"orientation\": \"v\", \"showlegend\": true, \"type\": \"scatter\", \"x\": [\"2011-01-09T00:00:00\", \"2011-01-16T00:00:00\", \"2011-01-23T00:00:00\", \"2011-01-30T00:00:00\", \"2011-02-06T00:00:00\", \"2011-02-13T00:00:00\", \"2011-02-20T00:00:00\", \"2011-02-27T00:00:00\", \"2011-03-06T00:00:00\", \"2011-03-13T00:00:00\", \"2011-03-20T00:00:00\", \"2011-03-27T00:00:00\", \"2011-04-03T00:00:00\", \"2011-04-10T00:00:00\", \"2011-04-17T00:00:00\", \"2011-04-24T00:00:00\", \"2011-05-01T00:00:00\", \"2011-05-08T00:00:00\", \"2011-05-15T00:00:00\", \"2011-05-22T00:00:00\", \"2011-05-29T00:00:00\"], \"xaxis\": \"x\", \"y\": [1835.0, 3339.0, 1468.0, 651.0, 2992.0, 964.0, 1745.0, 763.0, 1684.0, 506.0, 1079.0, 1829.0, 4519.0, 529.0, 684.0, 494.0, 230.0, 1907.0, 3292.0, 2396.0, 1911.0], \"yaxis\": \"y\"}, {\"hovertemplate\": \"variable=Revenue<br>InvoiceDate=%{x}<br>value=%{y}<extra></extra>\", \"legendgroup\": \"Revenue\", \"line\": {\"color\": \"#EF553B\", \"dash\": \"solid\"}, \"mode\": \"lines\", \"name\": \"Revenue\", \"orientation\": \"v\", \"showlegend\": true, \"type\": \"scatter\", \"x\": [\"2011-01-09T00:00:00\", \"2011-01-16T00:00:00\", \"2011-01-23T00:00:00\", \"2011-01-30T00:00:00\", \"2011-02-06T00:00:00\", \"2011-02-13T00:00:00\", \"2011-02-20T00:00:00\", \"2011-02-27T00:00:00\", \"2011-03-06T00:00:00\", \"2011-03-13T00:00:00\", \"2011-03-20T00:00:00\", \"2011-03-27T00:00:00\", \"2011-04-03T00:00:00\", \"2011-04-10T00:00:00\", \"2011-04-17T00:00:00\", \"2011-04-24T00:00:00\", \"2011-05-01T00:00:00\", \"2011-05-08T00:00:00\", \"2011-05-15T00:00:00\", \"2011-05-22T00:00:00\", \"2011-05-29T00:00:00\"], \"xaxis\": \"x\", \"y\": [3063.289999999999, 5272.759999999998, 3156.0699999999997, 1144.0300000000002, 5710.939999999999, 852.4400000000002, 2147.86, 1225.1799999999998, 3110.1800000000003, 984.1400000000002, 1479.7600000000004, 2783.0899999999997, 7012.639999999997, 825.7500000000001, 1209.4199999999996, 1121.75, 351.63999999999993, 2857.77, 5331.170000000001, 4775.390000000003, 2805.709999999999], \"yaxis\": \"y\"}],                        {\"legend\": {\"title\": {\"text\": \"variable\"}, \"tracegroupgap\": 0}, \"margin\": {\"t\": 60}, \"template\": {\"data\": {\"bar\": [{\"error_x\": {\"color\": \"#2a3f5f\"}, \"error_y\": {\"color\": \"#2a3f5f\"}, \"marker\": {\"line\": {\"color\": \"#E5ECF6\", \"width\": 0.5}}, \"type\": \"bar\"}], \"barpolar\": [{\"marker\": {\"line\": {\"color\": \"#E5ECF6\", \"width\": 0.5}}, \"type\": \"barpolar\"}], \"carpet\": [{\"aaxis\": {\"endlinecolor\": \"#2a3f5f\", \"gridcolor\": \"white\", \"linecolor\": \"white\", \"minorgridcolor\": \"white\", \"startlinecolor\": \"#2a3f5f\"}, \"baxis\": {\"endlinecolor\": \"#2a3f5f\", \"gridcolor\": \"white\", \"linecolor\": \"white\", \"minorgridcolor\": \"white\", \"startlinecolor\": \"#2a3f5f\"}, \"type\": \"carpet\"}], \"choropleth\": [{\"colorbar\": {\"outlinewidth\": 0, \"ticks\": \"\"}, \"type\": \"choropleth\"}], \"contour\": [{\"colorbar\": {\"outlinewidth\": 0, \"ticks\": \"\"}, \"colorscale\": [[0.0, \"#0d0887\"], [0.1111111111111111, \"#46039f\"], [0.2222222222222222, \"#7201a8\"], [0.3333333333333333, \"#9c179e\"], [0.4444444444444444, \"#bd3786\"], [0.5555555555555556, \"#d8576b\"], [0.6666666666666666, \"#ed7953\"], [0.7777777777777778, \"#fb9f3a\"], [0.8888888888888888, \"#fdca26\"], [1.0, \"#f0f921\"]], \"type\": \"contour\"}], \"contourcarpet\": [{\"colorbar\": {\"outlinewidth\": 0, \"ticks\": \"\"}, \"type\": \"contourcarpet\"}], \"heatmap\": [{\"colorbar\": {\"outlinewidth\": 0, \"ticks\": \"\"}, \"colorscale\": [[0.0, \"#0d0887\"], [0.1111111111111111, \"#46039f\"], [0.2222222222222222, \"#7201a8\"], [0.3333333333333333, \"#9c179e\"], [0.4444444444444444, \"#bd3786\"], [0.5555555555555556, \"#d8576b\"], [0.6666666666666666, \"#ed7953\"], [0.7777777777777778, \"#fb9f3a\"], [0.8888888888888888, \"#fdca26\"], [1.0, \"#f0f921\"]], \"type\": \"heatmap\"}], \"heatmapgl\": [{\"colorbar\": {\"outlinewidth\": 0, \"ticks\": \"\"}, \"colorscale\": [[0.0, \"#0d0887\"], [0.1111111111111111, \"#46039f\"], [0.2222222222222222, \"#7201a8\"], [0.3333333333333333, \"#9c179e\"], [0.4444444444444444, \"#bd3786\"], [0.5555555555555556, \"#d8576b\"], [0.6666666666666666, \"#ed7953\"], [0.7777777777777778, \"#fb9f3a\"], [0.8888888888888888, \"#fdca26\"], [1.0, \"#f0f921\"]], \"type\": \"heatmapgl\"}], \"histogram\": [{\"marker\": {\"colorbar\": {\"outlinewidth\": 0, \"ticks\": \"\"}}, \"type\": \"histogram\"}], \"histogram2d\": [{\"colorbar\": {\"outlinewidth\": 0, \"ticks\": \"\"}, \"colorscale\": [[0.0, \"#0d0887\"], [0.1111111111111111, \"#46039f\"], [0.2222222222222222, \"#7201a8\"], [0.3333333333333333, \"#9c179e\"], [0.4444444444444444, \"#bd3786\"], [0.5555555555555556, \"#d8576b\"], [0.6666666666666666, \"#ed7953\"], [0.7777777777777778, \"#fb9f3a\"], [0.8888888888888888, \"#fdca26\"], [1.0, \"#f0f921\"]], \"type\": \"histogram2d\"}], \"histogram2dcontour\": [{\"colorbar\": {\"outlinewidth\": 0, \"ticks\": \"\"}, \"colorscale\": [[0.0, \"#0d0887\"], [0.1111111111111111, \"#46039f\"], [0.2222222222222222, \"#7201a8\"], [0.3333333333333333, \"#9c179e\"], [0.4444444444444444, \"#bd3786\"], [0.5555555555555556, \"#d8576b\"], [0.6666666666666666, \"#ed7953\"], [0.7777777777777778, \"#fb9f3a\"], [0.8888888888888888, \"#fdca26\"], [1.0, \"#f0f921\"]], \"type\": \"histogram2dcontour\"}], \"mesh3d\": [{\"colorbar\": {\"outlinewidth\": 0, \"ticks\": \"\"}, \"type\": \"mesh3d\"}], \"parcoords\": [{\"line\": {\"colorbar\": {\"outlinewidth\": 0, \"ticks\": \"\"}}, \"type\": \"parcoords\"}], \"pie\": [{\"automargin\": true, \"type\": \"pie\"}], \"scatter\": [{\"marker\": {\"colorbar\": {\"outlinewidth\": 0, \"ticks\": \"\"}}, \"type\": \"scatter\"}], \"scatter3d\": [{\"line\": {\"colorbar\": {\"outlinewidth\": 0, \"ticks\": \"\"}}, \"marker\": {\"colorbar\": {\"outlinewidth\": 0, \"ticks\": \"\"}}, \"type\": \"scatter3d\"}], \"scattercarpet\": [{\"marker\": {\"colorbar\": {\"outlinewidth\": 0, \"ticks\": \"\"}}, \"type\": \"scattercarpet\"}], \"scattergeo\": [{\"marker\": {\"colorbar\": {\"outlinewidth\": 0, \"ticks\": \"\"}}, \"type\": \"scattergeo\"}], \"scattergl\": [{\"marker\": {\"colorbar\": {\"outlinewidth\": 0, \"ticks\": \"\"}}, \"type\": \"scattergl\"}], \"scattermapbox\": [{\"marker\": {\"colorbar\": {\"outlinewidth\": 0, \"ticks\": \"\"}}, \"type\": \"scattermapbox\"}], \"scatterpolar\": [{\"marker\": {\"colorbar\": {\"outlinewidth\": 0, \"ticks\": \"\"}}, \"type\": \"scatterpolar\"}], \"scatterpolargl\": [{\"marker\": {\"colorbar\": {\"outlinewidth\": 0, \"ticks\": \"\"}}, \"type\": \"scatterpolargl\"}], \"scatterternary\": [{\"marker\": {\"colorbar\": {\"outlinewidth\": 0, \"ticks\": \"\"}}, \"type\": \"scatterternary\"}], \"surface\": [{\"colorbar\": {\"outlinewidth\": 0, \"ticks\": \"\"}, \"colorscale\": [[0.0, \"#0d0887\"], [0.1111111111111111, \"#46039f\"], [0.2222222222222222, \"#7201a8\"], [0.3333333333333333, \"#9c179e\"], [0.4444444444444444, \"#bd3786\"], [0.5555555555555556, \"#d8576b\"], [0.6666666666666666, \"#ed7953\"], [0.7777777777777778, \"#fb9f3a\"], [0.8888888888888888, \"#fdca26\"], [1.0, \"#f0f921\"]], \"type\": \"surface\"}], \"table\": [{\"cells\": {\"fill\": {\"color\": \"#EBF0F8\"}, \"line\": {\"color\": \"white\"}}, \"header\": {\"fill\": {\"color\": \"#C8D4E3\"}, \"line\": {\"color\": \"white\"}}, \"type\": \"table\"}]}, \"layout\": {\"annotationdefaults\": {\"arrowcolor\": \"#2a3f5f\", \"arrowhead\": 0, \"arrowwidth\": 1}, \"autotypenumbers\": \"strict\", \"coloraxis\": {\"colorbar\": {\"outlinewidth\": 0, \"ticks\": \"\"}}, \"colorscale\": {\"diverging\": [[0, \"#8e0152\"], [0.1, \"#c51b7d\"], [0.2, \"#de77ae\"], [0.3, \"#f1b6da\"], [0.4, \"#fde0ef\"], [0.5, \"#f7f7f7\"], [0.6, \"#e6f5d0\"], [0.7, \"#b8e186\"], [0.8, \"#7fbc41\"], [0.9, \"#4d9221\"], [1, \"#276419\"]], \"sequential\": [[0.0, \"#0d0887\"], [0.1111111111111111, \"#46039f\"], [0.2222222222222222, \"#7201a8\"], [0.3333333333333333, \"#9c179e\"], [0.4444444444444444, \"#bd3786\"], [0.5555555555555556, \"#d8576b\"], [0.6666666666666666, \"#ed7953\"], [0.7777777777777778, \"#fb9f3a\"], [0.8888888888888888, \"#fdca26\"], [1.0, \"#f0f921\"]], \"sequentialminus\": [[0.0, \"#0d0887\"], [0.1111111111111111, \"#46039f\"], [0.2222222222222222, \"#7201a8\"], [0.3333333333333333, \"#9c179e\"], [0.4444444444444444, \"#bd3786\"], [0.5555555555555556, \"#d8576b\"], [0.6666666666666666, \"#ed7953\"], [0.7777777777777778, \"#fb9f3a\"], [0.8888888888888888, \"#fdca26\"], [1.0, \"#f0f921\"]]}, \"colorway\": [\"#636efa\", \"#EF553B\", \"#00cc96\", \"#ab63fa\", \"#FFA15A\", \"#19d3f3\", \"#FF6692\", \"#B6E880\", \"#FF97FF\", \"#FECB52\"], \"font\": {\"color\": \"#2a3f5f\"}, \"geo\": {\"bgcolor\": \"white\", \"lakecolor\": \"white\", \"landcolor\": \"#E5ECF6\", \"showlakes\": true, \"showland\": true, \"subunitcolor\": \"white\"}, \"hoverlabel\": {\"align\": \"left\"}, \"hovermode\": \"closest\", \"mapbox\": {\"style\": \"light\"}, \"paper_bgcolor\": \"white\", \"plot_bgcolor\": \"#E5ECF6\", \"polar\": {\"angularaxis\": {\"gridcolor\": \"white\", \"linecolor\": \"white\", \"ticks\": \"\"}, \"bgcolor\": \"#E5ECF6\", \"radialaxis\": {\"gridcolor\": \"white\", \"linecolor\": \"white\", \"ticks\": \"\"}}, \"scene\": {\"xaxis\": {\"backgroundcolor\": \"#E5ECF6\", \"gridcolor\": \"white\", \"gridwidth\": 2, \"linecolor\": \"white\", \"showbackground\": true, \"ticks\": \"\", \"zerolinecolor\": \"white\"}, \"yaxis\": {\"backgroundcolor\": \"#E5ECF6\", \"gridcolor\": \"white\", \"gridwidth\": 2, \"linecolor\": \"white\", \"showbackground\": true, \"ticks\": \"\", \"zerolinecolor\": \"white\"}, \"zaxis\": {\"backgroundcolor\": \"#E5ECF6\", \"gridcolor\": \"white\", \"gridwidth\": 2, \"linecolor\": \"white\", \"showbackground\": true, \"ticks\": \"\", \"zerolinecolor\": \"white\"}}, \"shapedefaults\": {\"line\": {\"color\": \"#2a3f5f\"}}, \"ternary\": {\"aaxis\": {\"gridcolor\": \"white\", \"linecolor\": \"white\", \"ticks\": \"\"}, \"baxis\": {\"gridcolor\": \"white\", \"linecolor\": \"white\", \"ticks\": \"\"}, \"bgcolor\": \"#E5ECF6\", \"caxis\": {\"gridcolor\": \"white\", \"linecolor\": \"white\", \"ticks\": \"\"}}, \"title\": {\"x\": 0.05}, \"xaxis\": {\"automargin\": true, \"gridcolor\": \"white\", \"linecolor\": \"white\", \"ticks\": \"\", \"title\": {\"standoff\": 15}, \"zerolinecolor\": \"white\", \"zerolinewidth\": 2}, \"yaxis\": {\"automargin\": true, \"gridcolor\": \"white\", \"linecolor\": \"white\", \"ticks\": \"\", \"title\": {\"standoff\": 15}, \"zerolinecolor\": \"white\", \"zerolinewidth\": 2}}}, \"xaxis\": {\"anchor\": \"y\", \"domain\": [0.0, 1.0], \"title\": {\"text\": \"InvoiceDate\"}}, \"yaxis\": {\"anchor\": \"x\", \"domain\": [0.0, 1.0], \"title\": {\"text\": \"value\"}}},                        {\"responsive\": true}                    ).then(function(){\n",
       "                            \n",
       "var gd = document.getElementById('2e58a87c-3f42-4a56-bdd7-a34bccaed619');\n",
       "var x = new MutationObserver(function (mutations, observer) {{\n",
       "        var display = window.getComputedStyle(gd).display;\n",
       "        if (!display || display === 'none') {{\n",
       "            console.log([gd, 'removed!']);\n",
       "            Plotly.purge(gd);\n",
       "            observer.disconnect();\n",
       "        }}\n",
       "}});\n",
       "\n",
       "// Listen for the removal of the full notebook cells\n",
       "var notebookContainer = gd.closest('#notebook-container');\n",
       "if (notebookContainer) {{\n",
       "    x.observe(notebookContainer, {childList: true});\n",
       "}}\n",
       "\n",
       "// Listen for the clearing of the current output cell\n",
       "var outputEl = gd.closest('.output');\n",
       "if (outputEl) {{\n",
       "    x.observe(outputEl, {childList: true});\n",
       "}}\n",
       "\n",
       "                        })                };                });            </script>        </div>"
      ]
     },
     "metadata": {},
     "output_type": "display_data"
    }
   ],
   "source": [
    "# Aunque en este caso quizás tenga más sentido hacerlo por semanas\n",
    "\n",
    "px.line(df2.sort_values('InvoiceDate').resample('W', on='InvoiceDate')[['Quantity', 'Revenue']].sum())"
   ]
  },
  {
   "cell_type": "markdown",
   "metadata": {},
   "source": [
    "## 3. Create an interactive scatter plot showing the relationship between average quantity (x-axis) and average unit price (y-axis) for the product PARTY BUNTING with the plot points color-coded by country (categories)."
   ]
  },
  {
   "cell_type": "code",
   "execution_count": 94,
   "metadata": {},
   "outputs": [
    {
     "data": {
      "text/html": [
       "<div>\n",
       "<style scoped>\n",
       "    .dataframe tbody tr th:only-of-type {\n",
       "        vertical-align: middle;\n",
       "    }\n",
       "\n",
       "    .dataframe tbody tr th {\n",
       "        vertical-align: top;\n",
       "    }\n",
       "\n",
       "    .dataframe thead th {\n",
       "        text-align: right;\n",
       "    }\n",
       "</style>\n",
       "<table border=\"1\" class=\"dataframe\">\n",
       "  <thead>\n",
       "    <tr style=\"text-align: right;\">\n",
       "      <th></th>\n",
       "      <th>Quantity</th>\n",
       "      <th>UnitPrice</th>\n",
       "    </tr>\n",
       "    <tr>\n",
       "      <th>Country</th>\n",
       "      <th></th>\n",
       "      <th></th>\n",
       "    </tr>\n",
       "  </thead>\n",
       "  <tbody>\n",
       "    <tr>\n",
       "      <th>Australia</th>\n",
       "      <td>33.125</td>\n",
       "      <td>4.7125</td>\n",
       "    </tr>\n",
       "    <tr>\n",
       "      <th>Austria</th>\n",
       "      <td>8.000</td>\n",
       "      <td>4.9500</td>\n",
       "    </tr>\n",
       "    <tr>\n",
       "      <th>Belgium</th>\n",
       "      <td>4.000</td>\n",
       "      <td>4.9500</td>\n",
       "    </tr>\n",
       "  </tbody>\n",
       "</table>\n",
       "</div>"
      ],
      "text/plain": [
       "           Quantity  UnitPrice\n",
       "Country                       \n",
       "Australia    33.125     4.7125\n",
       "Austria       8.000     4.9500\n",
       "Belgium       4.000     4.9500"
      ]
     },
     "execution_count": 94,
     "metadata": {},
     "output_type": "execute_result"
    }
   ],
   "source": [
    "# Asignamos un nuevo df para facilitar la sintaxis\n",
    "\n",
    "df3 = data[data['Description'] == 'PARTY BUNTING'].groupby('Country')[['Quantity', 'UnitPrice']].mean()\n",
    "df3.head(3)"
   ]
  },
  {
   "cell_type": "code",
   "execution_count": 95,
   "metadata": {},
   "outputs": [
    {
     "data": {
      "application/vnd.plotly.v1+json": {
       "config": {
        "plotlyServerURL": "https://plot.ly"
       },
       "data": [
        {
         "hovertemplate": "Country=Australia<br>Quantity=%{x}<br>UnitPrice=%{y}<extra></extra>",
         "legendgroup": "Australia",
         "marker": {
          "color": "#636efa",
          "symbol": "circle"
         },
         "mode": "markers",
         "name": "Australia",
         "orientation": "v",
         "showlegend": true,
         "type": "scatter",
         "x": [
          33.125
         ],
         "xaxis": "x",
         "y": [
          4.7125
         ],
         "yaxis": "y"
        },
        {
         "hovertemplate": "Country=Austria<br>Quantity=%{x}<br>UnitPrice=%{y}<extra></extra>",
         "legendgroup": "Austria",
         "marker": {
          "color": "#EF553B",
          "symbol": "circle"
         },
         "mode": "markers",
         "name": "Austria",
         "orientation": "v",
         "showlegend": true,
         "type": "scatter",
         "x": [
          8
         ],
         "xaxis": "x",
         "y": [
          4.95
         ],
         "yaxis": "y"
        },
        {
         "hovertemplate": "Country=Belgium<br>Quantity=%{x}<br>UnitPrice=%{y}<extra></extra>",
         "legendgroup": "Belgium",
         "marker": {
          "color": "#00cc96",
          "symbol": "circle"
         },
         "mode": "markers",
         "name": "Belgium",
         "orientation": "v",
         "showlegend": true,
         "type": "scatter",
         "x": [
          4
         ],
         "xaxis": "x",
         "y": [
          4.95
         ],
         "yaxis": "y"
        },
        {
         "hovertemplate": "Country=Channel Islands<br>Quantity=%{x}<br>UnitPrice=%{y}<extra></extra>",
         "legendgroup": "Channel Islands",
         "marker": {
          "color": "#ab63fa",
          "symbol": "circle"
         },
         "mode": "markers",
         "name": "Channel Islands",
         "orientation": "v",
         "showlegend": true,
         "type": "scatter",
         "x": [
          13.333333333333334
         ],
         "xaxis": "x",
         "y": [
          4.95
         ],
         "yaxis": "y"
        },
        {
         "hovertemplate": "Country=Cyprus<br>Quantity=%{x}<br>UnitPrice=%{y}<extra></extra>",
         "legendgroup": "Cyprus",
         "marker": {
          "color": "#FFA15A",
          "symbol": "circle"
         },
         "mode": "markers",
         "name": "Cyprus",
         "orientation": "v",
         "showlegend": true,
         "type": "scatter",
         "x": [
          2.3333333333333335
         ],
         "xaxis": "x",
         "y": [
          4.75
         ],
         "yaxis": "y"
        },
        {
         "hovertemplate": "Country=Denmark<br>Quantity=%{x}<br>UnitPrice=%{y}<extra></extra>",
         "legendgroup": "Denmark",
         "marker": {
          "color": "#19d3f3",
          "symbol": "circle"
         },
         "mode": "markers",
         "name": "Denmark",
         "orientation": "v",
         "showlegend": true,
         "type": "scatter",
         "x": [
          12
         ],
         "xaxis": "x",
         "y": [
          4.95
         ],
         "yaxis": "y"
        },
        {
         "hovertemplate": "Country=EIRE<br>Quantity=%{x}<br>UnitPrice=%{y}<extra></extra>",
         "legendgroup": "EIRE",
         "marker": {
          "color": "#FF6692",
          "symbol": "circle"
         },
         "mode": "markers",
         "name": "EIRE",
         "orientation": "v",
         "showlegend": true,
         "type": "scatter",
         "x": [
          21.210526315789473
         ],
         "xaxis": "x",
         "y": [
          4.739473684210528
         ],
         "yaxis": "y"
        },
        {
         "hovertemplate": "Country=Finland<br>Quantity=%{x}<br>UnitPrice=%{y}<extra></extra>",
         "legendgroup": "Finland",
         "marker": {
          "color": "#B6E880",
          "symbol": "circle"
         },
         "mode": "markers",
         "name": "Finland",
         "orientation": "v",
         "showlegend": true,
         "type": "scatter",
         "x": [
          6
         ],
         "xaxis": "x",
         "y": [
          4.95
         ],
         "yaxis": "y"
        },
        {
         "hovertemplate": "Country=France<br>Quantity=%{x}<br>UnitPrice=%{y}<extra></extra>",
         "legendgroup": "France",
         "marker": {
          "color": "#FF97FF",
          "symbol": "circle"
         },
         "mode": "markers",
         "name": "France",
         "orientation": "v",
         "showlegend": true,
         "type": "scatter",
         "x": [
          5.7272727272727275
         ],
         "xaxis": "x",
         "y": [
          4.922727272727275
         ],
         "yaxis": "y"
        },
        {
         "hovertemplate": "Country=Germany<br>Quantity=%{x}<br>UnitPrice=%{y}<extra></extra>",
         "legendgroup": "Germany",
         "marker": {
          "color": "#FECB52",
          "symbol": "circle"
         },
         "mode": "markers",
         "name": "Germany",
         "orientation": "v",
         "showlegend": true,
         "type": "scatter",
         "x": [
          6.8
         ],
         "xaxis": "x",
         "y": [
          4.89
         ],
         "yaxis": "y"
        },
        {
         "hovertemplate": "Country=Israel<br>Quantity=%{x}<br>UnitPrice=%{y}<extra></extra>",
         "legendgroup": "Israel",
         "marker": {
          "color": "#636efa",
          "symbol": "circle"
         },
         "mode": "markers",
         "name": "Israel",
         "orientation": "v",
         "showlegend": true,
         "type": "scatter",
         "x": [
          1
         ],
         "xaxis": "x",
         "y": [
          4.95
         ],
         "yaxis": "y"
        },
        {
         "hovertemplate": "Country=Japan<br>Quantity=%{x}<br>UnitPrice=%{y}<extra></extra>",
         "legendgroup": "Japan",
         "marker": {
          "color": "#EF553B",
          "symbol": "circle"
         },
         "mode": "markers",
         "name": "Japan",
         "orientation": "v",
         "showlegend": true,
         "type": "scatter",
         "x": [
          56.666666666666664
         ],
         "xaxis": "x",
         "y": [
          4.183333333333334
         ],
         "yaxis": "y"
        },
        {
         "hovertemplate": "Country=Lebanon<br>Quantity=%{x}<br>UnitPrice=%{y}<extra></extra>",
         "legendgroup": "Lebanon",
         "marker": {
          "color": "#00cc96",
          "symbol": "circle"
         },
         "mode": "markers",
         "name": "Lebanon",
         "orientation": "v",
         "showlegend": true,
         "type": "scatter",
         "x": [
          15
         ],
         "xaxis": "x",
         "y": [
          4.65
         ],
         "yaxis": "y"
        },
        {
         "hovertemplate": "Country=Netherlands<br>Quantity=%{x}<br>UnitPrice=%{y}<extra></extra>",
         "legendgroup": "Netherlands",
         "marker": {
          "color": "#ab63fa",
          "symbol": "circle"
         },
         "mode": "markers",
         "name": "Netherlands",
         "orientation": "v",
         "showlegend": true,
         "type": "scatter",
         "x": [
          50
         ],
         "xaxis": "x",
         "y": [
          4.15
         ],
         "yaxis": "y"
        },
        {
         "hovertemplate": "Country=Norway<br>Quantity=%{x}<br>UnitPrice=%{y}<extra></extra>",
         "legendgroup": "Norway",
         "marker": {
          "color": "#FFA15A",
          "symbol": "circle"
         },
         "mode": "markers",
         "name": "Norway",
         "orientation": "v",
         "showlegend": true,
         "type": "scatter",
         "x": [
          6
         ],
         "xaxis": "x",
         "y": [
          4.95
         ],
         "yaxis": "y"
        },
        {
         "hovertemplate": "Country=Singapore<br>Quantity=%{x}<br>UnitPrice=%{y}<extra></extra>",
         "legendgroup": "Singapore",
         "marker": {
          "color": "#19d3f3",
          "symbol": "circle"
         },
         "mode": "markers",
         "name": "Singapore",
         "orientation": "v",
         "showlegend": true,
         "type": "scatter",
         "x": [
          8
         ],
         "xaxis": "x",
         "y": [
          4.95
         ],
         "yaxis": "y"
        },
        {
         "hovertemplate": "Country=South Africa<br>Quantity=%{x}<br>UnitPrice=%{y}<extra></extra>",
         "legendgroup": "South Africa",
         "marker": {
          "color": "#FF6692",
          "symbol": "circle"
         },
         "mode": "markers",
         "name": "South Africa",
         "orientation": "v",
         "showlegend": true,
         "type": "scatter",
         "x": [
          4
         ],
         "xaxis": "x",
         "y": [
          4.95
         ],
         "yaxis": "y"
        },
        {
         "hovertemplate": "Country=Spain<br>Quantity=%{x}<br>UnitPrice=%{y}<extra></extra>",
         "legendgroup": "Spain",
         "marker": {
          "color": "#B6E880",
          "symbol": "circle"
         },
         "mode": "markers",
         "name": "Spain",
         "orientation": "v",
         "showlegend": true,
         "type": "scatter",
         "x": [
          4.75
         ],
         "xaxis": "x",
         "y": [
          4.8375
         ],
         "yaxis": "y"
        },
        {
         "hovertemplate": "Country=Switzerland<br>Quantity=%{x}<br>UnitPrice=%{y}<extra></extra>",
         "legendgroup": "Switzerland",
         "marker": {
          "color": "#FF97FF",
          "symbol": "circle"
         },
         "mode": "markers",
         "name": "Switzerland",
         "orientation": "v",
         "showlegend": true,
         "type": "scatter",
         "x": [
          17.2
         ],
         "xaxis": "x",
         "y": [
          4.79
         ],
         "yaxis": "y"
        },
        {
         "hovertemplate": "Country=United Kingdom<br>Quantity=%{x}<br>UnitPrice=%{y}<extra></extra>",
         "legendgroup": "United Kingdom",
         "marker": {
          "color": "#FECB52",
          "symbol": "circle"
         },
         "mode": "markers",
         "name": "United Kingdom",
         "orientation": "v",
         "showlegend": true,
         "type": "scatter",
         "x": [
          10.705432287681713
         ],
         "xaxis": "x",
         "y": [
          4.880925784238609
         ],
         "yaxis": "y"
        }
       ],
       "layout": {
        "legend": {
         "title": {
          "text": "Country"
         },
         "tracegroupgap": 0
        },
        "margin": {
         "t": 60
        },
        "template": {
         "data": {
          "bar": [
           {
            "error_x": {
             "color": "#2a3f5f"
            },
            "error_y": {
             "color": "#2a3f5f"
            },
            "marker": {
             "line": {
              "color": "#E5ECF6",
              "width": 0.5
             }
            },
            "type": "bar"
           }
          ],
          "barpolar": [
           {
            "marker": {
             "line": {
              "color": "#E5ECF6",
              "width": 0.5
             }
            },
            "type": "barpolar"
           }
          ],
          "carpet": [
           {
            "aaxis": {
             "endlinecolor": "#2a3f5f",
             "gridcolor": "white",
             "linecolor": "white",
             "minorgridcolor": "white",
             "startlinecolor": "#2a3f5f"
            },
            "baxis": {
             "endlinecolor": "#2a3f5f",
             "gridcolor": "white",
             "linecolor": "white",
             "minorgridcolor": "white",
             "startlinecolor": "#2a3f5f"
            },
            "type": "carpet"
           }
          ],
          "choropleth": [
           {
            "colorbar": {
             "outlinewidth": 0,
             "ticks": ""
            },
            "type": "choropleth"
           }
          ],
          "contour": [
           {
            "colorbar": {
             "outlinewidth": 0,
             "ticks": ""
            },
            "colorscale": [
             [
              0,
              "#0d0887"
             ],
             [
              0.1111111111111111,
              "#46039f"
             ],
             [
              0.2222222222222222,
              "#7201a8"
             ],
             [
              0.3333333333333333,
              "#9c179e"
             ],
             [
              0.4444444444444444,
              "#bd3786"
             ],
             [
              0.5555555555555556,
              "#d8576b"
             ],
             [
              0.6666666666666666,
              "#ed7953"
             ],
             [
              0.7777777777777778,
              "#fb9f3a"
             ],
             [
              0.8888888888888888,
              "#fdca26"
             ],
             [
              1,
              "#f0f921"
             ]
            ],
            "type": "contour"
           }
          ],
          "contourcarpet": [
           {
            "colorbar": {
             "outlinewidth": 0,
             "ticks": ""
            },
            "type": "contourcarpet"
           }
          ],
          "heatmap": [
           {
            "colorbar": {
             "outlinewidth": 0,
             "ticks": ""
            },
            "colorscale": [
             [
              0,
              "#0d0887"
             ],
             [
              0.1111111111111111,
              "#46039f"
             ],
             [
              0.2222222222222222,
              "#7201a8"
             ],
             [
              0.3333333333333333,
              "#9c179e"
             ],
             [
              0.4444444444444444,
              "#bd3786"
             ],
             [
              0.5555555555555556,
              "#d8576b"
             ],
             [
              0.6666666666666666,
              "#ed7953"
             ],
             [
              0.7777777777777778,
              "#fb9f3a"
             ],
             [
              0.8888888888888888,
              "#fdca26"
             ],
             [
              1,
              "#f0f921"
             ]
            ],
            "type": "heatmap"
           }
          ],
          "heatmapgl": [
           {
            "colorbar": {
             "outlinewidth": 0,
             "ticks": ""
            },
            "colorscale": [
             [
              0,
              "#0d0887"
             ],
             [
              0.1111111111111111,
              "#46039f"
             ],
             [
              0.2222222222222222,
              "#7201a8"
             ],
             [
              0.3333333333333333,
              "#9c179e"
             ],
             [
              0.4444444444444444,
              "#bd3786"
             ],
             [
              0.5555555555555556,
              "#d8576b"
             ],
             [
              0.6666666666666666,
              "#ed7953"
             ],
             [
              0.7777777777777778,
              "#fb9f3a"
             ],
             [
              0.8888888888888888,
              "#fdca26"
             ],
             [
              1,
              "#f0f921"
             ]
            ],
            "type": "heatmapgl"
           }
          ],
          "histogram": [
           {
            "marker": {
             "colorbar": {
              "outlinewidth": 0,
              "ticks": ""
             }
            },
            "type": "histogram"
           }
          ],
          "histogram2d": [
           {
            "colorbar": {
             "outlinewidth": 0,
             "ticks": ""
            },
            "colorscale": [
             [
              0,
              "#0d0887"
             ],
             [
              0.1111111111111111,
              "#46039f"
             ],
             [
              0.2222222222222222,
              "#7201a8"
             ],
             [
              0.3333333333333333,
              "#9c179e"
             ],
             [
              0.4444444444444444,
              "#bd3786"
             ],
             [
              0.5555555555555556,
              "#d8576b"
             ],
             [
              0.6666666666666666,
              "#ed7953"
             ],
             [
              0.7777777777777778,
              "#fb9f3a"
             ],
             [
              0.8888888888888888,
              "#fdca26"
             ],
             [
              1,
              "#f0f921"
             ]
            ],
            "type": "histogram2d"
           }
          ],
          "histogram2dcontour": [
           {
            "colorbar": {
             "outlinewidth": 0,
             "ticks": ""
            },
            "colorscale": [
             [
              0,
              "#0d0887"
             ],
             [
              0.1111111111111111,
              "#46039f"
             ],
             [
              0.2222222222222222,
              "#7201a8"
             ],
             [
              0.3333333333333333,
              "#9c179e"
             ],
             [
              0.4444444444444444,
              "#bd3786"
             ],
             [
              0.5555555555555556,
              "#d8576b"
             ],
             [
              0.6666666666666666,
              "#ed7953"
             ],
             [
              0.7777777777777778,
              "#fb9f3a"
             ],
             [
              0.8888888888888888,
              "#fdca26"
             ],
             [
              1,
              "#f0f921"
             ]
            ],
            "type": "histogram2dcontour"
           }
          ],
          "mesh3d": [
           {
            "colorbar": {
             "outlinewidth": 0,
             "ticks": ""
            },
            "type": "mesh3d"
           }
          ],
          "parcoords": [
           {
            "line": {
             "colorbar": {
              "outlinewidth": 0,
              "ticks": ""
             }
            },
            "type": "parcoords"
           }
          ],
          "pie": [
           {
            "automargin": true,
            "type": "pie"
           }
          ],
          "scatter": [
           {
            "marker": {
             "colorbar": {
              "outlinewidth": 0,
              "ticks": ""
             }
            },
            "type": "scatter"
           }
          ],
          "scatter3d": [
           {
            "line": {
             "colorbar": {
              "outlinewidth": 0,
              "ticks": ""
             }
            },
            "marker": {
             "colorbar": {
              "outlinewidth": 0,
              "ticks": ""
             }
            },
            "type": "scatter3d"
           }
          ],
          "scattercarpet": [
           {
            "marker": {
             "colorbar": {
              "outlinewidth": 0,
              "ticks": ""
             }
            },
            "type": "scattercarpet"
           }
          ],
          "scattergeo": [
           {
            "marker": {
             "colorbar": {
              "outlinewidth": 0,
              "ticks": ""
             }
            },
            "type": "scattergeo"
           }
          ],
          "scattergl": [
           {
            "marker": {
             "colorbar": {
              "outlinewidth": 0,
              "ticks": ""
             }
            },
            "type": "scattergl"
           }
          ],
          "scattermapbox": [
           {
            "marker": {
             "colorbar": {
              "outlinewidth": 0,
              "ticks": ""
             }
            },
            "type": "scattermapbox"
           }
          ],
          "scatterpolar": [
           {
            "marker": {
             "colorbar": {
              "outlinewidth": 0,
              "ticks": ""
             }
            },
            "type": "scatterpolar"
           }
          ],
          "scatterpolargl": [
           {
            "marker": {
             "colorbar": {
              "outlinewidth": 0,
              "ticks": ""
             }
            },
            "type": "scatterpolargl"
           }
          ],
          "scatterternary": [
           {
            "marker": {
             "colorbar": {
              "outlinewidth": 0,
              "ticks": ""
             }
            },
            "type": "scatterternary"
           }
          ],
          "surface": [
           {
            "colorbar": {
             "outlinewidth": 0,
             "ticks": ""
            },
            "colorscale": [
             [
              0,
              "#0d0887"
             ],
             [
              0.1111111111111111,
              "#46039f"
             ],
             [
              0.2222222222222222,
              "#7201a8"
             ],
             [
              0.3333333333333333,
              "#9c179e"
             ],
             [
              0.4444444444444444,
              "#bd3786"
             ],
             [
              0.5555555555555556,
              "#d8576b"
             ],
             [
              0.6666666666666666,
              "#ed7953"
             ],
             [
              0.7777777777777778,
              "#fb9f3a"
             ],
             [
              0.8888888888888888,
              "#fdca26"
             ],
             [
              1,
              "#f0f921"
             ]
            ],
            "type": "surface"
           }
          ],
          "table": [
           {
            "cells": {
             "fill": {
              "color": "#EBF0F8"
             },
             "line": {
              "color": "white"
             }
            },
            "header": {
             "fill": {
              "color": "#C8D4E3"
             },
             "line": {
              "color": "white"
             }
            },
            "type": "table"
           }
          ]
         },
         "layout": {
          "annotationdefaults": {
           "arrowcolor": "#2a3f5f",
           "arrowhead": 0,
           "arrowwidth": 1
          },
          "autotypenumbers": "strict",
          "coloraxis": {
           "colorbar": {
            "outlinewidth": 0,
            "ticks": ""
           }
          },
          "colorscale": {
           "diverging": [
            [
             0,
             "#8e0152"
            ],
            [
             0.1,
             "#c51b7d"
            ],
            [
             0.2,
             "#de77ae"
            ],
            [
             0.3,
             "#f1b6da"
            ],
            [
             0.4,
             "#fde0ef"
            ],
            [
             0.5,
             "#f7f7f7"
            ],
            [
             0.6,
             "#e6f5d0"
            ],
            [
             0.7,
             "#b8e186"
            ],
            [
             0.8,
             "#7fbc41"
            ],
            [
             0.9,
             "#4d9221"
            ],
            [
             1,
             "#276419"
            ]
           ],
           "sequential": [
            [
             0,
             "#0d0887"
            ],
            [
             0.1111111111111111,
             "#46039f"
            ],
            [
             0.2222222222222222,
             "#7201a8"
            ],
            [
             0.3333333333333333,
             "#9c179e"
            ],
            [
             0.4444444444444444,
             "#bd3786"
            ],
            [
             0.5555555555555556,
             "#d8576b"
            ],
            [
             0.6666666666666666,
             "#ed7953"
            ],
            [
             0.7777777777777778,
             "#fb9f3a"
            ],
            [
             0.8888888888888888,
             "#fdca26"
            ],
            [
             1,
             "#f0f921"
            ]
           ],
           "sequentialminus": [
            [
             0,
             "#0d0887"
            ],
            [
             0.1111111111111111,
             "#46039f"
            ],
            [
             0.2222222222222222,
             "#7201a8"
            ],
            [
             0.3333333333333333,
             "#9c179e"
            ],
            [
             0.4444444444444444,
             "#bd3786"
            ],
            [
             0.5555555555555556,
             "#d8576b"
            ],
            [
             0.6666666666666666,
             "#ed7953"
            ],
            [
             0.7777777777777778,
             "#fb9f3a"
            ],
            [
             0.8888888888888888,
             "#fdca26"
            ],
            [
             1,
             "#f0f921"
            ]
           ]
          },
          "colorway": [
           "#636efa",
           "#EF553B",
           "#00cc96",
           "#ab63fa",
           "#FFA15A",
           "#19d3f3",
           "#FF6692",
           "#B6E880",
           "#FF97FF",
           "#FECB52"
          ],
          "font": {
           "color": "#2a3f5f"
          },
          "geo": {
           "bgcolor": "white",
           "lakecolor": "white",
           "landcolor": "#E5ECF6",
           "showlakes": true,
           "showland": true,
           "subunitcolor": "white"
          },
          "hoverlabel": {
           "align": "left"
          },
          "hovermode": "closest",
          "mapbox": {
           "style": "light"
          },
          "paper_bgcolor": "white",
          "plot_bgcolor": "#E5ECF6",
          "polar": {
           "angularaxis": {
            "gridcolor": "white",
            "linecolor": "white",
            "ticks": ""
           },
           "bgcolor": "#E5ECF6",
           "radialaxis": {
            "gridcolor": "white",
            "linecolor": "white",
            "ticks": ""
           }
          },
          "scene": {
           "xaxis": {
            "backgroundcolor": "#E5ECF6",
            "gridcolor": "white",
            "gridwidth": 2,
            "linecolor": "white",
            "showbackground": true,
            "ticks": "",
            "zerolinecolor": "white"
           },
           "yaxis": {
            "backgroundcolor": "#E5ECF6",
            "gridcolor": "white",
            "gridwidth": 2,
            "linecolor": "white",
            "showbackground": true,
            "ticks": "",
            "zerolinecolor": "white"
           },
           "zaxis": {
            "backgroundcolor": "#E5ECF6",
            "gridcolor": "white",
            "gridwidth": 2,
            "linecolor": "white",
            "showbackground": true,
            "ticks": "",
            "zerolinecolor": "white"
           }
          },
          "shapedefaults": {
           "line": {
            "color": "#2a3f5f"
           }
          },
          "ternary": {
           "aaxis": {
            "gridcolor": "white",
            "linecolor": "white",
            "ticks": ""
           },
           "baxis": {
            "gridcolor": "white",
            "linecolor": "white",
            "ticks": ""
           },
           "bgcolor": "#E5ECF6",
           "caxis": {
            "gridcolor": "white",
            "linecolor": "white",
            "ticks": ""
           }
          },
          "title": {
           "x": 0.05
          },
          "xaxis": {
           "automargin": true,
           "gridcolor": "white",
           "linecolor": "white",
           "ticks": "",
           "title": {
            "standoff": 15
           },
           "zerolinecolor": "white",
           "zerolinewidth": 2
          },
          "yaxis": {
           "automargin": true,
           "gridcolor": "white",
           "linecolor": "white",
           "ticks": "",
           "title": {
            "standoff": 15
           },
           "zerolinecolor": "white",
           "zerolinewidth": 2
          }
         }
        },
        "xaxis": {
         "anchor": "y",
         "domain": [
          0,
          1
         ],
         "title": {
          "text": "Quantity"
         }
        },
        "yaxis": {
         "anchor": "x",
         "domain": [
          0,
          1
         ],
         "title": {
          "text": "UnitPrice"
         }
        }
       }
      },
      "text/html": [
       "<div>                            <div id=\"414b4faf-4a35-491a-89df-55c258683cd6\" class=\"plotly-graph-div\" style=\"height:525px; width:100%;\"></div>            <script type=\"text/javascript\">                require([\"plotly\"], function(Plotly) {                    window.PLOTLYENV=window.PLOTLYENV || {};                                    if (document.getElementById(\"414b4faf-4a35-491a-89df-55c258683cd6\")) {                    Plotly.newPlot(                        \"414b4faf-4a35-491a-89df-55c258683cd6\",                        [{\"hovertemplate\": \"Country=Australia<br>Quantity=%{x}<br>UnitPrice=%{y}<extra></extra>\", \"legendgroup\": \"Australia\", \"marker\": {\"color\": \"#636efa\", \"symbol\": \"circle\"}, \"mode\": \"markers\", \"name\": \"Australia\", \"orientation\": \"v\", \"showlegend\": true, \"type\": \"scatter\", \"x\": [33.125], \"xaxis\": \"x\", \"y\": [4.7125], \"yaxis\": \"y\"}, {\"hovertemplate\": \"Country=Austria<br>Quantity=%{x}<br>UnitPrice=%{y}<extra></extra>\", \"legendgroup\": \"Austria\", \"marker\": {\"color\": \"#EF553B\", \"symbol\": \"circle\"}, \"mode\": \"markers\", \"name\": \"Austria\", \"orientation\": \"v\", \"showlegend\": true, \"type\": \"scatter\", \"x\": [8.0], \"xaxis\": \"x\", \"y\": [4.95], \"yaxis\": \"y\"}, {\"hovertemplate\": \"Country=Belgium<br>Quantity=%{x}<br>UnitPrice=%{y}<extra></extra>\", \"legendgroup\": \"Belgium\", \"marker\": {\"color\": \"#00cc96\", \"symbol\": \"circle\"}, \"mode\": \"markers\", \"name\": \"Belgium\", \"orientation\": \"v\", \"showlegend\": true, \"type\": \"scatter\", \"x\": [4.0], \"xaxis\": \"x\", \"y\": [4.95], \"yaxis\": \"y\"}, {\"hovertemplate\": \"Country=Channel Islands<br>Quantity=%{x}<br>UnitPrice=%{y}<extra></extra>\", \"legendgroup\": \"Channel Islands\", \"marker\": {\"color\": \"#ab63fa\", \"symbol\": \"circle\"}, \"mode\": \"markers\", \"name\": \"Channel Islands\", \"orientation\": \"v\", \"showlegend\": true, \"type\": \"scatter\", \"x\": [13.333333333333334], \"xaxis\": \"x\", \"y\": [4.95], \"yaxis\": \"y\"}, {\"hovertemplate\": \"Country=Cyprus<br>Quantity=%{x}<br>UnitPrice=%{y}<extra></extra>\", \"legendgroup\": \"Cyprus\", \"marker\": {\"color\": \"#FFA15A\", \"symbol\": \"circle\"}, \"mode\": \"markers\", \"name\": \"Cyprus\", \"orientation\": \"v\", \"showlegend\": true, \"type\": \"scatter\", \"x\": [2.3333333333333335], \"xaxis\": \"x\", \"y\": [4.75], \"yaxis\": \"y\"}, {\"hovertemplate\": \"Country=Denmark<br>Quantity=%{x}<br>UnitPrice=%{y}<extra></extra>\", \"legendgroup\": \"Denmark\", \"marker\": {\"color\": \"#19d3f3\", \"symbol\": \"circle\"}, \"mode\": \"markers\", \"name\": \"Denmark\", \"orientation\": \"v\", \"showlegend\": true, \"type\": \"scatter\", \"x\": [12.0], \"xaxis\": \"x\", \"y\": [4.95], \"yaxis\": \"y\"}, {\"hovertemplate\": \"Country=EIRE<br>Quantity=%{x}<br>UnitPrice=%{y}<extra></extra>\", \"legendgroup\": \"EIRE\", \"marker\": {\"color\": \"#FF6692\", \"symbol\": \"circle\"}, \"mode\": \"markers\", \"name\": \"EIRE\", \"orientation\": \"v\", \"showlegend\": true, \"type\": \"scatter\", \"x\": [21.210526315789473], \"xaxis\": \"x\", \"y\": [4.739473684210528], \"yaxis\": \"y\"}, {\"hovertemplate\": \"Country=Finland<br>Quantity=%{x}<br>UnitPrice=%{y}<extra></extra>\", \"legendgroup\": \"Finland\", \"marker\": {\"color\": \"#B6E880\", \"symbol\": \"circle\"}, \"mode\": \"markers\", \"name\": \"Finland\", \"orientation\": \"v\", \"showlegend\": true, \"type\": \"scatter\", \"x\": [6.0], \"xaxis\": \"x\", \"y\": [4.95], \"yaxis\": \"y\"}, {\"hovertemplate\": \"Country=France<br>Quantity=%{x}<br>UnitPrice=%{y}<extra></extra>\", \"legendgroup\": \"France\", \"marker\": {\"color\": \"#FF97FF\", \"symbol\": \"circle\"}, \"mode\": \"markers\", \"name\": \"France\", \"orientation\": \"v\", \"showlegend\": true, \"type\": \"scatter\", \"x\": [5.7272727272727275], \"xaxis\": \"x\", \"y\": [4.922727272727275], \"yaxis\": \"y\"}, {\"hovertemplate\": \"Country=Germany<br>Quantity=%{x}<br>UnitPrice=%{y}<extra></extra>\", \"legendgroup\": \"Germany\", \"marker\": {\"color\": \"#FECB52\", \"symbol\": \"circle\"}, \"mode\": \"markers\", \"name\": \"Germany\", \"orientation\": \"v\", \"showlegend\": true, \"type\": \"scatter\", \"x\": [6.8], \"xaxis\": \"x\", \"y\": [4.89], \"yaxis\": \"y\"}, {\"hovertemplate\": \"Country=Israel<br>Quantity=%{x}<br>UnitPrice=%{y}<extra></extra>\", \"legendgroup\": \"Israel\", \"marker\": {\"color\": \"#636efa\", \"symbol\": \"circle\"}, \"mode\": \"markers\", \"name\": \"Israel\", \"orientation\": \"v\", \"showlegend\": true, \"type\": \"scatter\", \"x\": [1.0], \"xaxis\": \"x\", \"y\": [4.95], \"yaxis\": \"y\"}, {\"hovertemplate\": \"Country=Japan<br>Quantity=%{x}<br>UnitPrice=%{y}<extra></extra>\", \"legendgroup\": \"Japan\", \"marker\": {\"color\": \"#EF553B\", \"symbol\": \"circle\"}, \"mode\": \"markers\", \"name\": \"Japan\", \"orientation\": \"v\", \"showlegend\": true, \"type\": \"scatter\", \"x\": [56.666666666666664], \"xaxis\": \"x\", \"y\": [4.183333333333334], \"yaxis\": \"y\"}, {\"hovertemplate\": \"Country=Lebanon<br>Quantity=%{x}<br>UnitPrice=%{y}<extra></extra>\", \"legendgroup\": \"Lebanon\", \"marker\": {\"color\": \"#00cc96\", \"symbol\": \"circle\"}, \"mode\": \"markers\", \"name\": \"Lebanon\", \"orientation\": \"v\", \"showlegend\": true, \"type\": \"scatter\", \"x\": [15.0], \"xaxis\": \"x\", \"y\": [4.65], \"yaxis\": \"y\"}, {\"hovertemplate\": \"Country=Netherlands<br>Quantity=%{x}<br>UnitPrice=%{y}<extra></extra>\", \"legendgroup\": \"Netherlands\", \"marker\": {\"color\": \"#ab63fa\", \"symbol\": \"circle\"}, \"mode\": \"markers\", \"name\": \"Netherlands\", \"orientation\": \"v\", \"showlegend\": true, \"type\": \"scatter\", \"x\": [50.0], \"xaxis\": \"x\", \"y\": [4.15], \"yaxis\": \"y\"}, {\"hovertemplate\": \"Country=Norway<br>Quantity=%{x}<br>UnitPrice=%{y}<extra></extra>\", \"legendgroup\": \"Norway\", \"marker\": {\"color\": \"#FFA15A\", \"symbol\": \"circle\"}, \"mode\": \"markers\", \"name\": \"Norway\", \"orientation\": \"v\", \"showlegend\": true, \"type\": \"scatter\", \"x\": [6.0], \"xaxis\": \"x\", \"y\": [4.95], \"yaxis\": \"y\"}, {\"hovertemplate\": \"Country=Singapore<br>Quantity=%{x}<br>UnitPrice=%{y}<extra></extra>\", \"legendgroup\": \"Singapore\", \"marker\": {\"color\": \"#19d3f3\", \"symbol\": \"circle\"}, \"mode\": \"markers\", \"name\": \"Singapore\", \"orientation\": \"v\", \"showlegend\": true, \"type\": \"scatter\", \"x\": [8.0], \"xaxis\": \"x\", \"y\": [4.95], \"yaxis\": \"y\"}, {\"hovertemplate\": \"Country=South Africa<br>Quantity=%{x}<br>UnitPrice=%{y}<extra></extra>\", \"legendgroup\": \"South Africa\", \"marker\": {\"color\": \"#FF6692\", \"symbol\": \"circle\"}, \"mode\": \"markers\", \"name\": \"South Africa\", \"orientation\": \"v\", \"showlegend\": true, \"type\": \"scatter\", \"x\": [4.0], \"xaxis\": \"x\", \"y\": [4.95], \"yaxis\": \"y\"}, {\"hovertemplate\": \"Country=Spain<br>Quantity=%{x}<br>UnitPrice=%{y}<extra></extra>\", \"legendgroup\": \"Spain\", \"marker\": {\"color\": \"#B6E880\", \"symbol\": \"circle\"}, \"mode\": \"markers\", \"name\": \"Spain\", \"orientation\": \"v\", \"showlegend\": true, \"type\": \"scatter\", \"x\": [4.75], \"xaxis\": \"x\", \"y\": [4.8375], \"yaxis\": \"y\"}, {\"hovertemplate\": \"Country=Switzerland<br>Quantity=%{x}<br>UnitPrice=%{y}<extra></extra>\", \"legendgroup\": \"Switzerland\", \"marker\": {\"color\": \"#FF97FF\", \"symbol\": \"circle\"}, \"mode\": \"markers\", \"name\": \"Switzerland\", \"orientation\": \"v\", \"showlegend\": true, \"type\": \"scatter\", \"x\": [17.2], \"xaxis\": \"x\", \"y\": [4.79], \"yaxis\": \"y\"}, {\"hovertemplate\": \"Country=United Kingdom<br>Quantity=%{x}<br>UnitPrice=%{y}<extra></extra>\", \"legendgroup\": \"United Kingdom\", \"marker\": {\"color\": \"#FECB52\", \"symbol\": \"circle\"}, \"mode\": \"markers\", \"name\": \"United Kingdom\", \"orientation\": \"v\", \"showlegend\": true, \"type\": \"scatter\", \"x\": [10.705432287681713], \"xaxis\": \"x\", \"y\": [4.880925784238609], \"yaxis\": \"y\"}],                        {\"legend\": {\"title\": {\"text\": \"Country\"}, \"tracegroupgap\": 0}, \"margin\": {\"t\": 60}, \"template\": {\"data\": {\"bar\": [{\"error_x\": {\"color\": \"#2a3f5f\"}, \"error_y\": {\"color\": \"#2a3f5f\"}, \"marker\": {\"line\": {\"color\": \"#E5ECF6\", \"width\": 0.5}}, \"type\": \"bar\"}], \"barpolar\": [{\"marker\": {\"line\": {\"color\": \"#E5ECF6\", \"width\": 0.5}}, \"type\": \"barpolar\"}], \"carpet\": [{\"aaxis\": {\"endlinecolor\": \"#2a3f5f\", \"gridcolor\": \"white\", \"linecolor\": \"white\", \"minorgridcolor\": \"white\", \"startlinecolor\": \"#2a3f5f\"}, \"baxis\": {\"endlinecolor\": \"#2a3f5f\", \"gridcolor\": \"white\", \"linecolor\": \"white\", \"minorgridcolor\": \"white\", \"startlinecolor\": \"#2a3f5f\"}, \"type\": \"carpet\"}], \"choropleth\": [{\"colorbar\": {\"outlinewidth\": 0, \"ticks\": \"\"}, \"type\": \"choropleth\"}], \"contour\": [{\"colorbar\": {\"outlinewidth\": 0, \"ticks\": \"\"}, \"colorscale\": [[0.0, \"#0d0887\"], [0.1111111111111111, \"#46039f\"], [0.2222222222222222, \"#7201a8\"], [0.3333333333333333, \"#9c179e\"], [0.4444444444444444, \"#bd3786\"], [0.5555555555555556, \"#d8576b\"], [0.6666666666666666, \"#ed7953\"], [0.7777777777777778, \"#fb9f3a\"], [0.8888888888888888, \"#fdca26\"], [1.0, \"#f0f921\"]], \"type\": \"contour\"}], \"contourcarpet\": [{\"colorbar\": {\"outlinewidth\": 0, \"ticks\": \"\"}, \"type\": \"contourcarpet\"}], \"heatmap\": [{\"colorbar\": {\"outlinewidth\": 0, \"ticks\": \"\"}, \"colorscale\": [[0.0, \"#0d0887\"], [0.1111111111111111, \"#46039f\"], [0.2222222222222222, \"#7201a8\"], [0.3333333333333333, \"#9c179e\"], [0.4444444444444444, \"#bd3786\"], [0.5555555555555556, \"#d8576b\"], [0.6666666666666666, \"#ed7953\"], [0.7777777777777778, \"#fb9f3a\"], [0.8888888888888888, \"#fdca26\"], [1.0, \"#f0f921\"]], \"type\": \"heatmap\"}], \"heatmapgl\": [{\"colorbar\": {\"outlinewidth\": 0, \"ticks\": \"\"}, \"colorscale\": [[0.0, \"#0d0887\"], [0.1111111111111111, \"#46039f\"], [0.2222222222222222, \"#7201a8\"], [0.3333333333333333, \"#9c179e\"], [0.4444444444444444, \"#bd3786\"], [0.5555555555555556, \"#d8576b\"], [0.6666666666666666, \"#ed7953\"], [0.7777777777777778, \"#fb9f3a\"], [0.8888888888888888, \"#fdca26\"], [1.0, \"#f0f921\"]], \"type\": \"heatmapgl\"}], \"histogram\": [{\"marker\": {\"colorbar\": {\"outlinewidth\": 0, \"ticks\": \"\"}}, \"type\": \"histogram\"}], \"histogram2d\": [{\"colorbar\": {\"outlinewidth\": 0, \"ticks\": \"\"}, \"colorscale\": [[0.0, \"#0d0887\"], [0.1111111111111111, \"#46039f\"], [0.2222222222222222, \"#7201a8\"], [0.3333333333333333, \"#9c179e\"], [0.4444444444444444, \"#bd3786\"], [0.5555555555555556, \"#d8576b\"], [0.6666666666666666, \"#ed7953\"], [0.7777777777777778, \"#fb9f3a\"], [0.8888888888888888, \"#fdca26\"], [1.0, \"#f0f921\"]], \"type\": \"histogram2d\"}], \"histogram2dcontour\": [{\"colorbar\": {\"outlinewidth\": 0, \"ticks\": \"\"}, \"colorscale\": [[0.0, \"#0d0887\"], [0.1111111111111111, \"#46039f\"], [0.2222222222222222, \"#7201a8\"], [0.3333333333333333, \"#9c179e\"], [0.4444444444444444, \"#bd3786\"], [0.5555555555555556, \"#d8576b\"], [0.6666666666666666, \"#ed7953\"], [0.7777777777777778, \"#fb9f3a\"], [0.8888888888888888, \"#fdca26\"], [1.0, \"#f0f921\"]], \"type\": \"histogram2dcontour\"}], \"mesh3d\": [{\"colorbar\": {\"outlinewidth\": 0, \"ticks\": \"\"}, \"type\": \"mesh3d\"}], \"parcoords\": [{\"line\": {\"colorbar\": {\"outlinewidth\": 0, \"ticks\": \"\"}}, \"type\": \"parcoords\"}], \"pie\": [{\"automargin\": true, \"type\": \"pie\"}], \"scatter\": [{\"marker\": {\"colorbar\": {\"outlinewidth\": 0, \"ticks\": \"\"}}, \"type\": \"scatter\"}], \"scatter3d\": [{\"line\": {\"colorbar\": {\"outlinewidth\": 0, \"ticks\": \"\"}}, \"marker\": {\"colorbar\": {\"outlinewidth\": 0, \"ticks\": \"\"}}, \"type\": \"scatter3d\"}], \"scattercarpet\": [{\"marker\": {\"colorbar\": {\"outlinewidth\": 0, \"ticks\": \"\"}}, \"type\": \"scattercarpet\"}], \"scattergeo\": [{\"marker\": {\"colorbar\": {\"outlinewidth\": 0, \"ticks\": \"\"}}, \"type\": \"scattergeo\"}], \"scattergl\": [{\"marker\": {\"colorbar\": {\"outlinewidth\": 0, \"ticks\": \"\"}}, \"type\": \"scattergl\"}], \"scattermapbox\": [{\"marker\": {\"colorbar\": {\"outlinewidth\": 0, \"ticks\": \"\"}}, \"type\": \"scattermapbox\"}], \"scatterpolar\": [{\"marker\": {\"colorbar\": {\"outlinewidth\": 0, \"ticks\": \"\"}}, \"type\": \"scatterpolar\"}], \"scatterpolargl\": [{\"marker\": {\"colorbar\": {\"outlinewidth\": 0, \"ticks\": \"\"}}, \"type\": \"scatterpolargl\"}], \"scatterternary\": [{\"marker\": {\"colorbar\": {\"outlinewidth\": 0, \"ticks\": \"\"}}, \"type\": \"scatterternary\"}], \"surface\": [{\"colorbar\": {\"outlinewidth\": 0, \"ticks\": \"\"}, \"colorscale\": [[0.0, \"#0d0887\"], [0.1111111111111111, \"#46039f\"], [0.2222222222222222, \"#7201a8\"], [0.3333333333333333, \"#9c179e\"], [0.4444444444444444, \"#bd3786\"], [0.5555555555555556, \"#d8576b\"], [0.6666666666666666, \"#ed7953\"], [0.7777777777777778, \"#fb9f3a\"], [0.8888888888888888, \"#fdca26\"], [1.0, \"#f0f921\"]], \"type\": \"surface\"}], \"table\": [{\"cells\": {\"fill\": {\"color\": \"#EBF0F8\"}, \"line\": {\"color\": \"white\"}}, \"header\": {\"fill\": {\"color\": \"#C8D4E3\"}, \"line\": {\"color\": \"white\"}}, \"type\": \"table\"}]}, \"layout\": {\"annotationdefaults\": {\"arrowcolor\": \"#2a3f5f\", \"arrowhead\": 0, \"arrowwidth\": 1}, \"autotypenumbers\": \"strict\", \"coloraxis\": {\"colorbar\": {\"outlinewidth\": 0, \"ticks\": \"\"}}, \"colorscale\": {\"diverging\": [[0, \"#8e0152\"], [0.1, \"#c51b7d\"], [0.2, \"#de77ae\"], [0.3, \"#f1b6da\"], [0.4, \"#fde0ef\"], [0.5, \"#f7f7f7\"], [0.6, \"#e6f5d0\"], [0.7, \"#b8e186\"], [0.8, \"#7fbc41\"], [0.9, \"#4d9221\"], [1, \"#276419\"]], \"sequential\": [[0.0, \"#0d0887\"], [0.1111111111111111, \"#46039f\"], [0.2222222222222222, \"#7201a8\"], [0.3333333333333333, \"#9c179e\"], [0.4444444444444444, \"#bd3786\"], [0.5555555555555556, \"#d8576b\"], [0.6666666666666666, \"#ed7953\"], [0.7777777777777778, \"#fb9f3a\"], [0.8888888888888888, \"#fdca26\"], [1.0, \"#f0f921\"]], \"sequentialminus\": [[0.0, \"#0d0887\"], [0.1111111111111111, \"#46039f\"], [0.2222222222222222, \"#7201a8\"], [0.3333333333333333, \"#9c179e\"], [0.4444444444444444, \"#bd3786\"], [0.5555555555555556, \"#d8576b\"], [0.6666666666666666, \"#ed7953\"], [0.7777777777777778, \"#fb9f3a\"], [0.8888888888888888, \"#fdca26\"], [1.0, \"#f0f921\"]]}, \"colorway\": [\"#636efa\", \"#EF553B\", \"#00cc96\", \"#ab63fa\", \"#FFA15A\", \"#19d3f3\", \"#FF6692\", \"#B6E880\", \"#FF97FF\", \"#FECB52\"], \"font\": {\"color\": \"#2a3f5f\"}, \"geo\": {\"bgcolor\": \"white\", \"lakecolor\": \"white\", \"landcolor\": \"#E5ECF6\", \"showlakes\": true, \"showland\": true, \"subunitcolor\": \"white\"}, \"hoverlabel\": {\"align\": \"left\"}, \"hovermode\": \"closest\", \"mapbox\": {\"style\": \"light\"}, \"paper_bgcolor\": \"white\", \"plot_bgcolor\": \"#E5ECF6\", \"polar\": {\"angularaxis\": {\"gridcolor\": \"white\", \"linecolor\": \"white\", \"ticks\": \"\"}, \"bgcolor\": \"#E5ECF6\", \"radialaxis\": {\"gridcolor\": \"white\", \"linecolor\": \"white\", \"ticks\": \"\"}}, \"scene\": {\"xaxis\": {\"backgroundcolor\": \"#E5ECF6\", \"gridcolor\": \"white\", \"gridwidth\": 2, \"linecolor\": \"white\", \"showbackground\": true, \"ticks\": \"\", \"zerolinecolor\": \"white\"}, \"yaxis\": {\"backgroundcolor\": \"#E5ECF6\", \"gridcolor\": \"white\", \"gridwidth\": 2, \"linecolor\": \"white\", \"showbackground\": true, \"ticks\": \"\", \"zerolinecolor\": \"white\"}, \"zaxis\": {\"backgroundcolor\": \"#E5ECF6\", \"gridcolor\": \"white\", \"gridwidth\": 2, \"linecolor\": \"white\", \"showbackground\": true, \"ticks\": \"\", \"zerolinecolor\": \"white\"}}, \"shapedefaults\": {\"line\": {\"color\": \"#2a3f5f\"}}, \"ternary\": {\"aaxis\": {\"gridcolor\": \"white\", \"linecolor\": \"white\", \"ticks\": \"\"}, \"baxis\": {\"gridcolor\": \"white\", \"linecolor\": \"white\", \"ticks\": \"\"}, \"bgcolor\": \"#E5ECF6\", \"caxis\": {\"gridcolor\": \"white\", \"linecolor\": \"white\", \"ticks\": \"\"}}, \"title\": {\"x\": 0.05}, \"xaxis\": {\"automargin\": true, \"gridcolor\": \"white\", \"linecolor\": \"white\", \"ticks\": \"\", \"title\": {\"standoff\": 15}, \"zerolinecolor\": \"white\", \"zerolinewidth\": 2}, \"yaxis\": {\"automargin\": true, \"gridcolor\": \"white\", \"linecolor\": \"white\", \"ticks\": \"\", \"title\": {\"standoff\": 15}, \"zerolinecolor\": \"white\", \"zerolinewidth\": 2}}}, \"xaxis\": {\"anchor\": \"y\", \"domain\": [0.0, 1.0], \"title\": {\"text\": \"Quantity\"}}, \"yaxis\": {\"anchor\": \"x\", \"domain\": [0.0, 1.0], \"title\": {\"text\": \"UnitPrice\"}}},                        {\"responsive\": true}                    ).then(function(){\n",
       "                            \n",
       "var gd = document.getElementById('414b4faf-4a35-491a-89df-55c258683cd6');\n",
       "var x = new MutationObserver(function (mutations, observer) {{\n",
       "        var display = window.getComputedStyle(gd).display;\n",
       "        if (!display || display === 'none') {{\n",
       "            console.log([gd, 'removed!']);\n",
       "            Plotly.purge(gd);\n",
       "            observer.disconnect();\n",
       "        }}\n",
       "}});\n",
       "\n",
       "// Listen for the removal of the full notebook cells\n",
       "var notebookContainer = gd.closest('#notebook-container');\n",
       "if (notebookContainer) {{\n",
       "    x.observe(notebookContainer, {childList: true});\n",
       "}}\n",
       "\n",
       "// Listen for the clearing of the current output cell\n",
       "var outputEl = gd.closest('.output');\n",
       "if (outputEl) {{\n",
       "    x.observe(outputEl, {childList: true});\n",
       "}}\n",
       "\n",
       "                        })                };                });            </script>        </div>"
      ]
     },
     "metadata": {},
     "output_type": "display_data"
    }
   ],
   "source": [
    "px.scatter(df3, x='Quantity', y='UnitPrice', color=df3.index)"
   ]
  },
  {
   "cell_type": "markdown",
   "metadata": {},
   "source": [
    "## 4. Create a set of interactive histograms showing the distributions of quantity per invoice for the following countries: EIRE, Germany, France, and Netherlands."
   ]
  },
  {
   "cell_type": "code",
   "execution_count": 114,
   "metadata": {
    "scrolled": false
   },
   "outputs": [
    {
     "data": {
      "application/vnd.plotly.v1+json": {
       "config": {
        "linkText": "Export to plot.ly",
        "plotlyServerURL": "https://plot.ly",
        "showLink": true
       },
       "data": [
        {
         "histfunc": "count",
         "histnorm": "",
         "marker": {
          "color": "rgba(255, 153, 51, 1.0)",
          "line": {
           "color": "#4D5663",
           "width": 1.3
          }
         },
         "nbinsx": 20,
         "opacity": 0.8,
         "orientation": "v",
         "type": "histogram",
         "x": [
          1798,
          1013,
          704,
          690,
          672,
          330,
          319,
          286,
          207,
          120,
          112,
          105,
          88,
          86,
          72,
          62,
          60,
          46,
          42,
          31,
          28,
          27,
          25,
          22,
          22,
          20,
          17,
          16,
          16,
          16,
          14,
          11,
          8,
          6,
          6,
          4,
          3,
          3,
          2,
          2,
          2,
          2,
          2,
          2,
          1,
          1,
          1,
          1,
          1,
          1,
          1,
          1,
          1,
          1,
          1,
          1,
          1,
          1,
          1,
          1,
          1
         ]
        }
       ],
       "layout": {
        "barmode": "overlay",
        "legend": {
         "bgcolor": "#F5F6F9",
         "font": {
          "color": "#4D5663"
         }
        },
        "paper_bgcolor": "#F5F6F9",
        "plot_bgcolor": "#F5F6F9",
        "template": {
         "data": {
          "bar": [
           {
            "error_x": {
             "color": "#2a3f5f"
            },
            "error_y": {
             "color": "#2a3f5f"
            },
            "marker": {
             "line": {
              "color": "#E5ECF6",
              "width": 0.5
             }
            },
            "type": "bar"
           }
          ],
          "barpolar": [
           {
            "marker": {
             "line": {
              "color": "#E5ECF6",
              "width": 0.5
             }
            },
            "type": "barpolar"
           }
          ],
          "carpet": [
           {
            "aaxis": {
             "endlinecolor": "#2a3f5f",
             "gridcolor": "white",
             "linecolor": "white",
             "minorgridcolor": "white",
             "startlinecolor": "#2a3f5f"
            },
            "baxis": {
             "endlinecolor": "#2a3f5f",
             "gridcolor": "white",
             "linecolor": "white",
             "minorgridcolor": "white",
             "startlinecolor": "#2a3f5f"
            },
            "type": "carpet"
           }
          ],
          "choropleth": [
           {
            "colorbar": {
             "outlinewidth": 0,
             "ticks": ""
            },
            "type": "choropleth"
           }
          ],
          "contour": [
           {
            "colorbar": {
             "outlinewidth": 0,
             "ticks": ""
            },
            "colorscale": [
             [
              0,
              "#0d0887"
             ],
             [
              0.1111111111111111,
              "#46039f"
             ],
             [
              0.2222222222222222,
              "#7201a8"
             ],
             [
              0.3333333333333333,
              "#9c179e"
             ],
             [
              0.4444444444444444,
              "#bd3786"
             ],
             [
              0.5555555555555556,
              "#d8576b"
             ],
             [
              0.6666666666666666,
              "#ed7953"
             ],
             [
              0.7777777777777778,
              "#fb9f3a"
             ],
             [
              0.8888888888888888,
              "#fdca26"
             ],
             [
              1,
              "#f0f921"
             ]
            ],
            "type": "contour"
           }
          ],
          "contourcarpet": [
           {
            "colorbar": {
             "outlinewidth": 0,
             "ticks": ""
            },
            "type": "contourcarpet"
           }
          ],
          "heatmap": [
           {
            "colorbar": {
             "outlinewidth": 0,
             "ticks": ""
            },
            "colorscale": [
             [
              0,
              "#0d0887"
             ],
             [
              0.1111111111111111,
              "#46039f"
             ],
             [
              0.2222222222222222,
              "#7201a8"
             ],
             [
              0.3333333333333333,
              "#9c179e"
             ],
             [
              0.4444444444444444,
              "#bd3786"
             ],
             [
              0.5555555555555556,
              "#d8576b"
             ],
             [
              0.6666666666666666,
              "#ed7953"
             ],
             [
              0.7777777777777778,
              "#fb9f3a"
             ],
             [
              0.8888888888888888,
              "#fdca26"
             ],
             [
              1,
              "#f0f921"
             ]
            ],
            "type": "heatmap"
           }
          ],
          "heatmapgl": [
           {
            "colorbar": {
             "outlinewidth": 0,
             "ticks": ""
            },
            "colorscale": [
             [
              0,
              "#0d0887"
             ],
             [
              0.1111111111111111,
              "#46039f"
             ],
             [
              0.2222222222222222,
              "#7201a8"
             ],
             [
              0.3333333333333333,
              "#9c179e"
             ],
             [
              0.4444444444444444,
              "#bd3786"
             ],
             [
              0.5555555555555556,
              "#d8576b"
             ],
             [
              0.6666666666666666,
              "#ed7953"
             ],
             [
              0.7777777777777778,
              "#fb9f3a"
             ],
             [
              0.8888888888888888,
              "#fdca26"
             ],
             [
              1,
              "#f0f921"
             ]
            ],
            "type": "heatmapgl"
           }
          ],
          "histogram": [
           {
            "marker": {
             "colorbar": {
              "outlinewidth": 0,
              "ticks": ""
             }
            },
            "type": "histogram"
           }
          ],
          "histogram2d": [
           {
            "colorbar": {
             "outlinewidth": 0,
             "ticks": ""
            },
            "colorscale": [
             [
              0,
              "#0d0887"
             ],
             [
              0.1111111111111111,
              "#46039f"
             ],
             [
              0.2222222222222222,
              "#7201a8"
             ],
             [
              0.3333333333333333,
              "#9c179e"
             ],
             [
              0.4444444444444444,
              "#bd3786"
             ],
             [
              0.5555555555555556,
              "#d8576b"
             ],
             [
              0.6666666666666666,
              "#ed7953"
             ],
             [
              0.7777777777777778,
              "#fb9f3a"
             ],
             [
              0.8888888888888888,
              "#fdca26"
             ],
             [
              1,
              "#f0f921"
             ]
            ],
            "type": "histogram2d"
           }
          ],
          "histogram2dcontour": [
           {
            "colorbar": {
             "outlinewidth": 0,
             "ticks": ""
            },
            "colorscale": [
             [
              0,
              "#0d0887"
             ],
             [
              0.1111111111111111,
              "#46039f"
             ],
             [
              0.2222222222222222,
              "#7201a8"
             ],
             [
              0.3333333333333333,
              "#9c179e"
             ],
             [
              0.4444444444444444,
              "#bd3786"
             ],
             [
              0.5555555555555556,
              "#d8576b"
             ],
             [
              0.6666666666666666,
              "#ed7953"
             ],
             [
              0.7777777777777778,
              "#fb9f3a"
             ],
             [
              0.8888888888888888,
              "#fdca26"
             ],
             [
              1,
              "#f0f921"
             ]
            ],
            "type": "histogram2dcontour"
           }
          ],
          "mesh3d": [
           {
            "colorbar": {
             "outlinewidth": 0,
             "ticks": ""
            },
            "type": "mesh3d"
           }
          ],
          "parcoords": [
           {
            "line": {
             "colorbar": {
              "outlinewidth": 0,
              "ticks": ""
             }
            },
            "type": "parcoords"
           }
          ],
          "pie": [
           {
            "automargin": true,
            "type": "pie"
           }
          ],
          "scatter": [
           {
            "marker": {
             "colorbar": {
              "outlinewidth": 0,
              "ticks": ""
             }
            },
            "type": "scatter"
           }
          ],
          "scatter3d": [
           {
            "line": {
             "colorbar": {
              "outlinewidth": 0,
              "ticks": ""
             }
            },
            "marker": {
             "colorbar": {
              "outlinewidth": 0,
              "ticks": ""
             }
            },
            "type": "scatter3d"
           }
          ],
          "scattercarpet": [
           {
            "marker": {
             "colorbar": {
              "outlinewidth": 0,
              "ticks": ""
             }
            },
            "type": "scattercarpet"
           }
          ],
          "scattergeo": [
           {
            "marker": {
             "colorbar": {
              "outlinewidth": 0,
              "ticks": ""
             }
            },
            "type": "scattergeo"
           }
          ],
          "scattergl": [
           {
            "marker": {
             "colorbar": {
              "outlinewidth": 0,
              "ticks": ""
             }
            },
            "type": "scattergl"
           }
          ],
          "scattermapbox": [
           {
            "marker": {
             "colorbar": {
              "outlinewidth": 0,
              "ticks": ""
             }
            },
            "type": "scattermapbox"
           }
          ],
          "scatterpolar": [
           {
            "marker": {
             "colorbar": {
              "outlinewidth": 0,
              "ticks": ""
             }
            },
            "type": "scatterpolar"
           }
          ],
          "scatterpolargl": [
           {
            "marker": {
             "colorbar": {
              "outlinewidth": 0,
              "ticks": ""
             }
            },
            "type": "scatterpolargl"
           }
          ],
          "scatterternary": [
           {
            "marker": {
             "colorbar": {
              "outlinewidth": 0,
              "ticks": ""
             }
            },
            "type": "scatterternary"
           }
          ],
          "surface": [
           {
            "colorbar": {
             "outlinewidth": 0,
             "ticks": ""
            },
            "colorscale": [
             [
              0,
              "#0d0887"
             ],
             [
              0.1111111111111111,
              "#46039f"
             ],
             [
              0.2222222222222222,
              "#7201a8"
             ],
             [
              0.3333333333333333,
              "#9c179e"
             ],
             [
              0.4444444444444444,
              "#bd3786"
             ],
             [
              0.5555555555555556,
              "#d8576b"
             ],
             [
              0.6666666666666666,
              "#ed7953"
             ],
             [
              0.7777777777777778,
              "#fb9f3a"
             ],
             [
              0.8888888888888888,
              "#fdca26"
             ],
             [
              1,
              "#f0f921"
             ]
            ],
            "type": "surface"
           }
          ],
          "table": [
           {
            "cells": {
             "fill": {
              "color": "#EBF0F8"
             },
             "line": {
              "color": "white"
             }
            },
            "header": {
             "fill": {
              "color": "#C8D4E3"
             },
             "line": {
              "color": "white"
             }
            },
            "type": "table"
           }
          ]
         },
         "layout": {
          "annotationdefaults": {
           "arrowcolor": "#2a3f5f",
           "arrowhead": 0,
           "arrowwidth": 1
          },
          "autotypenumbers": "strict",
          "coloraxis": {
           "colorbar": {
            "outlinewidth": 0,
            "ticks": ""
           }
          },
          "colorscale": {
           "diverging": [
            [
             0,
             "#8e0152"
            ],
            [
             0.1,
             "#c51b7d"
            ],
            [
             0.2,
             "#de77ae"
            ],
            [
             0.3,
             "#f1b6da"
            ],
            [
             0.4,
             "#fde0ef"
            ],
            [
             0.5,
             "#f7f7f7"
            ],
            [
             0.6,
             "#e6f5d0"
            ],
            [
             0.7,
             "#b8e186"
            ],
            [
             0.8,
             "#7fbc41"
            ],
            [
             0.9,
             "#4d9221"
            ],
            [
             1,
             "#276419"
            ]
           ],
           "sequential": [
            [
             0,
             "#0d0887"
            ],
            [
             0.1111111111111111,
             "#46039f"
            ],
            [
             0.2222222222222222,
             "#7201a8"
            ],
            [
             0.3333333333333333,
             "#9c179e"
            ],
            [
             0.4444444444444444,
             "#bd3786"
            ],
            [
             0.5555555555555556,
             "#d8576b"
            ],
            [
             0.6666666666666666,
             "#ed7953"
            ],
            [
             0.7777777777777778,
             "#fb9f3a"
            ],
            [
             0.8888888888888888,
             "#fdca26"
            ],
            [
             1,
             "#f0f921"
            ]
           ],
           "sequentialminus": [
            [
             0,
             "#0d0887"
            ],
            [
             0.1111111111111111,
             "#46039f"
            ],
            [
             0.2222222222222222,
             "#7201a8"
            ],
            [
             0.3333333333333333,
             "#9c179e"
            ],
            [
             0.4444444444444444,
             "#bd3786"
            ],
            [
             0.5555555555555556,
             "#d8576b"
            ],
            [
             0.6666666666666666,
             "#ed7953"
            ],
            [
             0.7777777777777778,
             "#fb9f3a"
            ],
            [
             0.8888888888888888,
             "#fdca26"
            ],
            [
             1,
             "#f0f921"
            ]
           ]
          },
          "colorway": [
           "#636efa",
           "#EF553B",
           "#00cc96",
           "#ab63fa",
           "#FFA15A",
           "#19d3f3",
           "#FF6692",
           "#B6E880",
           "#FF97FF",
           "#FECB52"
          ],
          "font": {
           "color": "#2a3f5f"
          },
          "geo": {
           "bgcolor": "white",
           "lakecolor": "white",
           "landcolor": "#E5ECF6",
           "showlakes": true,
           "showland": true,
           "subunitcolor": "white"
          },
          "hoverlabel": {
           "align": "left"
          },
          "hovermode": "closest",
          "mapbox": {
           "style": "light"
          },
          "paper_bgcolor": "white",
          "plot_bgcolor": "#E5ECF6",
          "polar": {
           "angularaxis": {
            "gridcolor": "white",
            "linecolor": "white",
            "ticks": ""
           },
           "bgcolor": "#E5ECF6",
           "radialaxis": {
            "gridcolor": "white",
            "linecolor": "white",
            "ticks": ""
           }
          },
          "scene": {
           "xaxis": {
            "backgroundcolor": "#E5ECF6",
            "gridcolor": "white",
            "gridwidth": 2,
            "linecolor": "white",
            "showbackground": true,
            "ticks": "",
            "zerolinecolor": "white"
           },
           "yaxis": {
            "backgroundcolor": "#E5ECF6",
            "gridcolor": "white",
            "gridwidth": 2,
            "linecolor": "white",
            "showbackground": true,
            "ticks": "",
            "zerolinecolor": "white"
           },
           "zaxis": {
            "backgroundcolor": "#E5ECF6",
            "gridcolor": "white",
            "gridwidth": 2,
            "linecolor": "white",
            "showbackground": true,
            "ticks": "",
            "zerolinecolor": "white"
           }
          },
          "shapedefaults": {
           "line": {
            "color": "#2a3f5f"
           }
          },
          "ternary": {
           "aaxis": {
            "gridcolor": "white",
            "linecolor": "white",
            "ticks": ""
           },
           "baxis": {
            "gridcolor": "white",
            "linecolor": "white",
            "ticks": ""
           },
           "bgcolor": "#E5ECF6",
           "caxis": {
            "gridcolor": "white",
            "linecolor": "white",
            "ticks": ""
           }
          },
          "title": {
           "x": 0.05
          },
          "xaxis": {
           "automargin": true,
           "gridcolor": "white",
           "linecolor": "white",
           "ticks": "",
           "title": {
            "standoff": 15
           },
           "zerolinecolor": "white",
           "zerolinewidth": 2
          },
          "yaxis": {
           "automargin": true,
           "gridcolor": "white",
           "linecolor": "white",
           "ticks": "",
           "title": {
            "standoff": 15
           },
           "zerolinecolor": "white",
           "zerolinewidth": 2
          }
         }
        },
        "title": {
         "font": {
          "color": "#4D5663"
         },
         "text": "Quantity per invoice in EIRE"
        },
        "xaxis": {
         "gridcolor": "#E1E5ED",
         "showgrid": true,
         "tickfont": {
          "color": "#4D5663"
         },
         "title": {
          "font": {
           "color": "#4D5663"
          },
          "text": ""
         },
         "zerolinecolor": "#E1E5ED"
        },
        "yaxis": {
         "gridcolor": "#E1E5ED",
         "showgrid": true,
         "tickfont": {
          "color": "#4D5663"
         },
         "title": {
          "font": {
           "color": "#4D5663"
          },
          "text": ""
         },
         "zerolinecolor": "#E1E5ED"
        }
       }
      },
      "text/html": [
       "<div>                            <div id=\"3eaaddde-b61b-49a5-b634-ebfbe280f4fc\" class=\"plotly-graph-div\" style=\"height:525px; width:100%;\"></div>            <script type=\"text/javascript\">                require([\"plotly\"], function(Plotly) {                    window.PLOTLYENV=window.PLOTLYENV || {};\n",
       "                    window.PLOTLYENV.BASE_URL='https://plot.ly';                                    if (document.getElementById(\"3eaaddde-b61b-49a5-b634-ebfbe280f4fc\")) {                    Plotly.newPlot(                        \"3eaaddde-b61b-49a5-b634-ebfbe280f4fc\",                        [{\"histfunc\": \"count\", \"histnorm\": \"\", \"marker\": {\"color\": \"rgba(255, 153, 51, 1.0)\", \"line\": {\"color\": \"#4D5663\", \"width\": 1.3}}, \"nbinsx\": 20, \"opacity\": 0.8, \"orientation\": \"v\", \"type\": \"histogram\", \"x\": [1798, 1013, 704, 690, 672, 330, 319, 286, 207, 120, 112, 105, 88, 86, 72, 62, 60, 46, 42, 31, 28, 27, 25, 22, 22, 20, 17, 16, 16, 16, 14, 11, 8, 6, 6, 4, 3, 3, 2, 2, 2, 2, 2, 2, 1, 1, 1, 1, 1, 1, 1, 1, 1, 1, 1, 1, 1, 1, 1, 1, 1]}],                        {\"barmode\": \"overlay\", \"legend\": {\"bgcolor\": \"#F5F6F9\", \"font\": {\"color\": \"#4D5663\"}}, \"paper_bgcolor\": \"#F5F6F9\", \"plot_bgcolor\": \"#F5F6F9\", \"template\": {\"data\": {\"bar\": [{\"error_x\": {\"color\": \"#2a3f5f\"}, \"error_y\": {\"color\": \"#2a3f5f\"}, \"marker\": {\"line\": {\"color\": \"#E5ECF6\", \"width\": 0.5}}, \"type\": \"bar\"}], \"barpolar\": [{\"marker\": {\"line\": {\"color\": \"#E5ECF6\", \"width\": 0.5}}, \"type\": \"barpolar\"}], \"carpet\": [{\"aaxis\": {\"endlinecolor\": \"#2a3f5f\", \"gridcolor\": \"white\", \"linecolor\": \"white\", \"minorgridcolor\": \"white\", \"startlinecolor\": \"#2a3f5f\"}, \"baxis\": {\"endlinecolor\": \"#2a3f5f\", \"gridcolor\": \"white\", \"linecolor\": \"white\", \"minorgridcolor\": \"white\", \"startlinecolor\": \"#2a3f5f\"}, \"type\": \"carpet\"}], \"choropleth\": [{\"colorbar\": {\"outlinewidth\": 0, \"ticks\": \"\"}, \"type\": \"choropleth\"}], \"contour\": [{\"colorbar\": {\"outlinewidth\": 0, \"ticks\": \"\"}, \"colorscale\": [[0.0, \"#0d0887\"], [0.1111111111111111, \"#46039f\"], [0.2222222222222222, \"#7201a8\"], [0.3333333333333333, \"#9c179e\"], [0.4444444444444444, \"#bd3786\"], [0.5555555555555556, \"#d8576b\"], [0.6666666666666666, \"#ed7953\"], [0.7777777777777778, \"#fb9f3a\"], [0.8888888888888888, \"#fdca26\"], [1.0, \"#f0f921\"]], \"type\": \"contour\"}], \"contourcarpet\": [{\"colorbar\": {\"outlinewidth\": 0, \"ticks\": \"\"}, \"type\": \"contourcarpet\"}], \"heatmap\": [{\"colorbar\": {\"outlinewidth\": 0, \"ticks\": \"\"}, \"colorscale\": [[0.0, \"#0d0887\"], [0.1111111111111111, \"#46039f\"], [0.2222222222222222, \"#7201a8\"], [0.3333333333333333, \"#9c179e\"], [0.4444444444444444, \"#bd3786\"], [0.5555555555555556, \"#d8576b\"], [0.6666666666666666, \"#ed7953\"], [0.7777777777777778, \"#fb9f3a\"], [0.8888888888888888, \"#fdca26\"], [1.0, \"#f0f921\"]], \"type\": \"heatmap\"}], \"heatmapgl\": [{\"colorbar\": {\"outlinewidth\": 0, \"ticks\": \"\"}, \"colorscale\": [[0.0, \"#0d0887\"], [0.1111111111111111, \"#46039f\"], [0.2222222222222222, \"#7201a8\"], [0.3333333333333333, \"#9c179e\"], [0.4444444444444444, \"#bd3786\"], [0.5555555555555556, \"#d8576b\"], [0.6666666666666666, \"#ed7953\"], [0.7777777777777778, \"#fb9f3a\"], [0.8888888888888888, \"#fdca26\"], [1.0, \"#f0f921\"]], \"type\": \"heatmapgl\"}], \"histogram\": [{\"marker\": {\"colorbar\": {\"outlinewidth\": 0, \"ticks\": \"\"}}, \"type\": \"histogram\"}], \"histogram2d\": [{\"colorbar\": {\"outlinewidth\": 0, \"ticks\": \"\"}, \"colorscale\": [[0.0, \"#0d0887\"], [0.1111111111111111, \"#46039f\"], [0.2222222222222222, \"#7201a8\"], [0.3333333333333333, \"#9c179e\"], [0.4444444444444444, \"#bd3786\"], [0.5555555555555556, \"#d8576b\"], [0.6666666666666666, \"#ed7953\"], [0.7777777777777778, \"#fb9f3a\"], [0.8888888888888888, \"#fdca26\"], [1.0, \"#f0f921\"]], \"type\": \"histogram2d\"}], \"histogram2dcontour\": [{\"colorbar\": {\"outlinewidth\": 0, \"ticks\": \"\"}, \"colorscale\": [[0.0, \"#0d0887\"], [0.1111111111111111, \"#46039f\"], [0.2222222222222222, \"#7201a8\"], [0.3333333333333333, \"#9c179e\"], [0.4444444444444444, \"#bd3786\"], [0.5555555555555556, \"#d8576b\"], [0.6666666666666666, \"#ed7953\"], [0.7777777777777778, \"#fb9f3a\"], [0.8888888888888888, \"#fdca26\"], [1.0, \"#f0f921\"]], \"type\": \"histogram2dcontour\"}], \"mesh3d\": [{\"colorbar\": {\"outlinewidth\": 0, \"ticks\": \"\"}, \"type\": \"mesh3d\"}], \"parcoords\": [{\"line\": {\"colorbar\": {\"outlinewidth\": 0, \"ticks\": \"\"}}, \"type\": \"parcoords\"}], \"pie\": [{\"automargin\": true, \"type\": \"pie\"}], \"scatter\": [{\"marker\": {\"colorbar\": {\"outlinewidth\": 0, \"ticks\": \"\"}}, \"type\": \"scatter\"}], \"scatter3d\": [{\"line\": {\"colorbar\": {\"outlinewidth\": 0, \"ticks\": \"\"}}, \"marker\": {\"colorbar\": {\"outlinewidth\": 0, \"ticks\": \"\"}}, \"type\": \"scatter3d\"}], \"scattercarpet\": [{\"marker\": {\"colorbar\": {\"outlinewidth\": 0, \"ticks\": \"\"}}, \"type\": \"scattercarpet\"}], \"scattergeo\": [{\"marker\": {\"colorbar\": {\"outlinewidth\": 0, \"ticks\": \"\"}}, \"type\": \"scattergeo\"}], \"scattergl\": [{\"marker\": {\"colorbar\": {\"outlinewidth\": 0, \"ticks\": \"\"}}, \"type\": \"scattergl\"}], \"scattermapbox\": [{\"marker\": {\"colorbar\": {\"outlinewidth\": 0, \"ticks\": \"\"}}, \"type\": \"scattermapbox\"}], \"scatterpolar\": [{\"marker\": {\"colorbar\": {\"outlinewidth\": 0, \"ticks\": \"\"}}, \"type\": \"scatterpolar\"}], \"scatterpolargl\": [{\"marker\": {\"colorbar\": {\"outlinewidth\": 0, \"ticks\": \"\"}}, \"type\": \"scatterpolargl\"}], \"scatterternary\": [{\"marker\": {\"colorbar\": {\"outlinewidth\": 0, \"ticks\": \"\"}}, \"type\": \"scatterternary\"}], \"surface\": [{\"colorbar\": {\"outlinewidth\": 0, \"ticks\": \"\"}, \"colorscale\": [[0.0, \"#0d0887\"], [0.1111111111111111, \"#46039f\"], [0.2222222222222222, \"#7201a8\"], [0.3333333333333333, \"#9c179e\"], [0.4444444444444444, \"#bd3786\"], [0.5555555555555556, \"#d8576b\"], [0.6666666666666666, \"#ed7953\"], [0.7777777777777778, \"#fb9f3a\"], [0.8888888888888888, \"#fdca26\"], [1.0, \"#f0f921\"]], \"type\": \"surface\"}], \"table\": [{\"cells\": {\"fill\": {\"color\": \"#EBF0F8\"}, \"line\": {\"color\": \"white\"}}, \"header\": {\"fill\": {\"color\": \"#C8D4E3\"}, \"line\": {\"color\": \"white\"}}, \"type\": \"table\"}]}, \"layout\": {\"annotationdefaults\": {\"arrowcolor\": \"#2a3f5f\", \"arrowhead\": 0, \"arrowwidth\": 1}, \"autotypenumbers\": \"strict\", \"coloraxis\": {\"colorbar\": {\"outlinewidth\": 0, \"ticks\": \"\"}}, \"colorscale\": {\"diverging\": [[0, \"#8e0152\"], [0.1, \"#c51b7d\"], [0.2, \"#de77ae\"], [0.3, \"#f1b6da\"], [0.4, \"#fde0ef\"], [0.5, \"#f7f7f7\"], [0.6, \"#e6f5d0\"], [0.7, \"#b8e186\"], [0.8, \"#7fbc41\"], [0.9, \"#4d9221\"], [1, \"#276419\"]], \"sequential\": [[0.0, \"#0d0887\"], [0.1111111111111111, \"#46039f\"], [0.2222222222222222, \"#7201a8\"], [0.3333333333333333, \"#9c179e\"], [0.4444444444444444, \"#bd3786\"], [0.5555555555555556, \"#d8576b\"], [0.6666666666666666, \"#ed7953\"], [0.7777777777777778, \"#fb9f3a\"], [0.8888888888888888, \"#fdca26\"], [1.0, \"#f0f921\"]], \"sequentialminus\": [[0.0, \"#0d0887\"], [0.1111111111111111, \"#46039f\"], [0.2222222222222222, \"#7201a8\"], [0.3333333333333333, \"#9c179e\"], [0.4444444444444444, \"#bd3786\"], [0.5555555555555556, \"#d8576b\"], [0.6666666666666666, \"#ed7953\"], [0.7777777777777778, \"#fb9f3a\"], [0.8888888888888888, \"#fdca26\"], [1.0, \"#f0f921\"]]}, \"colorway\": [\"#636efa\", \"#EF553B\", \"#00cc96\", \"#ab63fa\", \"#FFA15A\", \"#19d3f3\", \"#FF6692\", \"#B6E880\", \"#FF97FF\", \"#FECB52\"], \"font\": {\"color\": \"#2a3f5f\"}, \"geo\": {\"bgcolor\": \"white\", \"lakecolor\": \"white\", \"landcolor\": \"#E5ECF6\", \"showlakes\": true, \"showland\": true, \"subunitcolor\": \"white\"}, \"hoverlabel\": {\"align\": \"left\"}, \"hovermode\": \"closest\", \"mapbox\": {\"style\": \"light\"}, \"paper_bgcolor\": \"white\", \"plot_bgcolor\": \"#E5ECF6\", \"polar\": {\"angularaxis\": {\"gridcolor\": \"white\", \"linecolor\": \"white\", \"ticks\": \"\"}, \"bgcolor\": \"#E5ECF6\", \"radialaxis\": {\"gridcolor\": \"white\", \"linecolor\": \"white\", \"ticks\": \"\"}}, \"scene\": {\"xaxis\": {\"backgroundcolor\": \"#E5ECF6\", \"gridcolor\": \"white\", \"gridwidth\": 2, \"linecolor\": \"white\", \"showbackground\": true, \"ticks\": \"\", \"zerolinecolor\": \"white\"}, \"yaxis\": {\"backgroundcolor\": \"#E5ECF6\", \"gridcolor\": \"white\", \"gridwidth\": 2, \"linecolor\": \"white\", \"showbackground\": true, \"ticks\": \"\", \"zerolinecolor\": \"white\"}, \"zaxis\": {\"backgroundcolor\": \"#E5ECF6\", \"gridcolor\": \"white\", \"gridwidth\": 2, \"linecolor\": \"white\", \"showbackground\": true, \"ticks\": \"\", \"zerolinecolor\": \"white\"}}, \"shapedefaults\": {\"line\": {\"color\": \"#2a3f5f\"}}, \"ternary\": {\"aaxis\": {\"gridcolor\": \"white\", \"linecolor\": \"white\", \"ticks\": \"\"}, \"baxis\": {\"gridcolor\": \"white\", \"linecolor\": \"white\", \"ticks\": \"\"}, \"bgcolor\": \"#E5ECF6\", \"caxis\": {\"gridcolor\": \"white\", \"linecolor\": \"white\", \"ticks\": \"\"}}, \"title\": {\"x\": 0.05}, \"xaxis\": {\"automargin\": true, \"gridcolor\": \"white\", \"linecolor\": \"white\", \"ticks\": \"\", \"title\": {\"standoff\": 15}, \"zerolinecolor\": \"white\", \"zerolinewidth\": 2}, \"yaxis\": {\"automargin\": true, \"gridcolor\": \"white\", \"linecolor\": \"white\", \"ticks\": \"\", \"title\": {\"standoff\": 15}, \"zerolinecolor\": \"white\", \"zerolinewidth\": 2}}}, \"title\": {\"font\": {\"color\": \"#4D5663\"}, \"text\": \"Quantity per invoice in EIRE\"}, \"xaxis\": {\"gridcolor\": \"#E1E5ED\", \"showgrid\": true, \"tickfont\": {\"color\": \"#4D5663\"}, \"title\": {\"font\": {\"color\": \"#4D5663\"}, \"text\": \"\"}, \"zerolinecolor\": \"#E1E5ED\"}, \"yaxis\": {\"gridcolor\": \"#E1E5ED\", \"showgrid\": true, \"tickfont\": {\"color\": \"#4D5663\"}, \"title\": {\"font\": {\"color\": \"#4D5663\"}, \"text\": \"\"}, \"zerolinecolor\": \"#E1E5ED\"}},                        {\"showLink\": true, \"linkText\": \"Export to plot.ly\", \"plotlyServerURL\": \"https://plot.ly\", \"responsive\": true}                    ).then(function(){\n",
       "                            \n",
       "var gd = document.getElementById('3eaaddde-b61b-49a5-b634-ebfbe280f4fc');\n",
       "var x = new MutationObserver(function (mutations, observer) {{\n",
       "        var display = window.getComputedStyle(gd).display;\n",
       "        if (!display || display === 'none') {{\n",
       "            console.log([gd, 'removed!']);\n",
       "            Plotly.purge(gd);\n",
       "            observer.disconnect();\n",
       "        }}\n",
       "}});\n",
       "\n",
       "// Listen for the removal of the full notebook cells\n",
       "var notebookContainer = gd.closest('#notebook-container');\n",
       "if (notebookContainer) {{\n",
       "    x.observe(notebookContainer, {childList: true});\n",
       "}}\n",
       "\n",
       "// Listen for the clearing of the current output cell\n",
       "var outputEl = gd.closest('.output');\n",
       "if (outputEl) {{\n",
       "    x.observe(outputEl, {childList: true});\n",
       "}}\n",
       "\n",
       "                        })                };                });            </script>        </div>"
      ]
     },
     "metadata": {},
     "output_type": "display_data"
    },
    {
     "data": {
      "application/vnd.plotly.v1+json": {
       "config": {
        "linkText": "Export to plot.ly",
        "plotlyServerURL": "https://plot.ly",
        "showLink": true
       },
       "data": [
        {
         "histfunc": "count",
         "histnorm": "",
         "marker": {
          "color": "rgba(255, 153, 51, 1.0)",
          "line": {
           "color": "#4D5663",
           "width": 1.3
          }
         },
         "nbinsx": 20,
         "opacity": 0.8,
         "orientation": "v",
         "type": "histogram",
         "x": [
          2490,
          1236,
          827,
          694,
          681,
          566,
          448,
          326,
          198,
          184,
          158,
          150,
          149,
          105,
          78,
          63,
          36,
          32,
          27,
          23,
          22,
          21,
          19,
          19,
          18,
          16,
          9,
          8,
          8,
          6,
          5,
          5,
          4,
          4,
          4,
          4,
          2,
          2,
          2,
          2,
          1,
          1,
          1,
          1,
          1,
          1,
          1
         ]
        }
       ],
       "layout": {
        "barmode": "overlay",
        "legend": {
         "bgcolor": "#F5F6F9",
         "font": {
          "color": "#4D5663"
         }
        },
        "paper_bgcolor": "#F5F6F9",
        "plot_bgcolor": "#F5F6F9",
        "template": {
         "data": {
          "bar": [
           {
            "error_x": {
             "color": "#2a3f5f"
            },
            "error_y": {
             "color": "#2a3f5f"
            },
            "marker": {
             "line": {
              "color": "#E5ECF6",
              "width": 0.5
             }
            },
            "type": "bar"
           }
          ],
          "barpolar": [
           {
            "marker": {
             "line": {
              "color": "#E5ECF6",
              "width": 0.5
             }
            },
            "type": "barpolar"
           }
          ],
          "carpet": [
           {
            "aaxis": {
             "endlinecolor": "#2a3f5f",
             "gridcolor": "white",
             "linecolor": "white",
             "minorgridcolor": "white",
             "startlinecolor": "#2a3f5f"
            },
            "baxis": {
             "endlinecolor": "#2a3f5f",
             "gridcolor": "white",
             "linecolor": "white",
             "minorgridcolor": "white",
             "startlinecolor": "#2a3f5f"
            },
            "type": "carpet"
           }
          ],
          "choropleth": [
           {
            "colorbar": {
             "outlinewidth": 0,
             "ticks": ""
            },
            "type": "choropleth"
           }
          ],
          "contour": [
           {
            "colorbar": {
             "outlinewidth": 0,
             "ticks": ""
            },
            "colorscale": [
             [
              0,
              "#0d0887"
             ],
             [
              0.1111111111111111,
              "#46039f"
             ],
             [
              0.2222222222222222,
              "#7201a8"
             ],
             [
              0.3333333333333333,
              "#9c179e"
             ],
             [
              0.4444444444444444,
              "#bd3786"
             ],
             [
              0.5555555555555556,
              "#d8576b"
             ],
             [
              0.6666666666666666,
              "#ed7953"
             ],
             [
              0.7777777777777778,
              "#fb9f3a"
             ],
             [
              0.8888888888888888,
              "#fdca26"
             ],
             [
              1,
              "#f0f921"
             ]
            ],
            "type": "contour"
           }
          ],
          "contourcarpet": [
           {
            "colorbar": {
             "outlinewidth": 0,
             "ticks": ""
            },
            "type": "contourcarpet"
           }
          ],
          "heatmap": [
           {
            "colorbar": {
             "outlinewidth": 0,
             "ticks": ""
            },
            "colorscale": [
             [
              0,
              "#0d0887"
             ],
             [
              0.1111111111111111,
              "#46039f"
             ],
             [
              0.2222222222222222,
              "#7201a8"
             ],
             [
              0.3333333333333333,
              "#9c179e"
             ],
             [
              0.4444444444444444,
              "#bd3786"
             ],
             [
              0.5555555555555556,
              "#d8576b"
             ],
             [
              0.6666666666666666,
              "#ed7953"
             ],
             [
              0.7777777777777778,
              "#fb9f3a"
             ],
             [
              0.8888888888888888,
              "#fdca26"
             ],
             [
              1,
              "#f0f921"
             ]
            ],
            "type": "heatmap"
           }
          ],
          "heatmapgl": [
           {
            "colorbar": {
             "outlinewidth": 0,
             "ticks": ""
            },
            "colorscale": [
             [
              0,
              "#0d0887"
             ],
             [
              0.1111111111111111,
              "#46039f"
             ],
             [
              0.2222222222222222,
              "#7201a8"
             ],
             [
              0.3333333333333333,
              "#9c179e"
             ],
             [
              0.4444444444444444,
              "#bd3786"
             ],
             [
              0.5555555555555556,
              "#d8576b"
             ],
             [
              0.6666666666666666,
              "#ed7953"
             ],
             [
              0.7777777777777778,
              "#fb9f3a"
             ],
             [
              0.8888888888888888,
              "#fdca26"
             ],
             [
              1,
              "#f0f921"
             ]
            ],
            "type": "heatmapgl"
           }
          ],
          "histogram": [
           {
            "marker": {
             "colorbar": {
              "outlinewidth": 0,
              "ticks": ""
             }
            },
            "type": "histogram"
           }
          ],
          "histogram2d": [
           {
            "colorbar": {
             "outlinewidth": 0,
             "ticks": ""
            },
            "colorscale": [
             [
              0,
              "#0d0887"
             ],
             [
              0.1111111111111111,
              "#46039f"
             ],
             [
              0.2222222222222222,
              "#7201a8"
             ],
             [
              0.3333333333333333,
              "#9c179e"
             ],
             [
              0.4444444444444444,
              "#bd3786"
             ],
             [
              0.5555555555555556,
              "#d8576b"
             ],
             [
              0.6666666666666666,
              "#ed7953"
             ],
             [
              0.7777777777777778,
              "#fb9f3a"
             ],
             [
              0.8888888888888888,
              "#fdca26"
             ],
             [
              1,
              "#f0f921"
             ]
            ],
            "type": "histogram2d"
           }
          ],
          "histogram2dcontour": [
           {
            "colorbar": {
             "outlinewidth": 0,
             "ticks": ""
            },
            "colorscale": [
             [
              0,
              "#0d0887"
             ],
             [
              0.1111111111111111,
              "#46039f"
             ],
             [
              0.2222222222222222,
              "#7201a8"
             ],
             [
              0.3333333333333333,
              "#9c179e"
             ],
             [
              0.4444444444444444,
              "#bd3786"
             ],
             [
              0.5555555555555556,
              "#d8576b"
             ],
             [
              0.6666666666666666,
              "#ed7953"
             ],
             [
              0.7777777777777778,
              "#fb9f3a"
             ],
             [
              0.8888888888888888,
              "#fdca26"
             ],
             [
              1,
              "#f0f921"
             ]
            ],
            "type": "histogram2dcontour"
           }
          ],
          "mesh3d": [
           {
            "colorbar": {
             "outlinewidth": 0,
             "ticks": ""
            },
            "type": "mesh3d"
           }
          ],
          "parcoords": [
           {
            "line": {
             "colorbar": {
              "outlinewidth": 0,
              "ticks": ""
             }
            },
            "type": "parcoords"
           }
          ],
          "pie": [
           {
            "automargin": true,
            "type": "pie"
           }
          ],
          "scatter": [
           {
            "marker": {
             "colorbar": {
              "outlinewidth": 0,
              "ticks": ""
             }
            },
            "type": "scatter"
           }
          ],
          "scatter3d": [
           {
            "line": {
             "colorbar": {
              "outlinewidth": 0,
              "ticks": ""
             }
            },
            "marker": {
             "colorbar": {
              "outlinewidth": 0,
              "ticks": ""
             }
            },
            "type": "scatter3d"
           }
          ],
          "scattercarpet": [
           {
            "marker": {
             "colorbar": {
              "outlinewidth": 0,
              "ticks": ""
             }
            },
            "type": "scattercarpet"
           }
          ],
          "scattergeo": [
           {
            "marker": {
             "colorbar": {
              "outlinewidth": 0,
              "ticks": ""
             }
            },
            "type": "scattergeo"
           }
          ],
          "scattergl": [
           {
            "marker": {
             "colorbar": {
              "outlinewidth": 0,
              "ticks": ""
             }
            },
            "type": "scattergl"
           }
          ],
          "scattermapbox": [
           {
            "marker": {
             "colorbar": {
              "outlinewidth": 0,
              "ticks": ""
             }
            },
            "type": "scattermapbox"
           }
          ],
          "scatterpolar": [
           {
            "marker": {
             "colorbar": {
              "outlinewidth": 0,
              "ticks": ""
             }
            },
            "type": "scatterpolar"
           }
          ],
          "scatterpolargl": [
           {
            "marker": {
             "colorbar": {
              "outlinewidth": 0,
              "ticks": ""
             }
            },
            "type": "scatterpolargl"
           }
          ],
          "scatterternary": [
           {
            "marker": {
             "colorbar": {
              "outlinewidth": 0,
              "ticks": ""
             }
            },
            "type": "scatterternary"
           }
          ],
          "surface": [
           {
            "colorbar": {
             "outlinewidth": 0,
             "ticks": ""
            },
            "colorscale": [
             [
              0,
              "#0d0887"
             ],
             [
              0.1111111111111111,
              "#46039f"
             ],
             [
              0.2222222222222222,
              "#7201a8"
             ],
             [
              0.3333333333333333,
              "#9c179e"
             ],
             [
              0.4444444444444444,
              "#bd3786"
             ],
             [
              0.5555555555555556,
              "#d8576b"
             ],
             [
              0.6666666666666666,
              "#ed7953"
             ],
             [
              0.7777777777777778,
              "#fb9f3a"
             ],
             [
              0.8888888888888888,
              "#fdca26"
             ],
             [
              1,
              "#f0f921"
             ]
            ],
            "type": "surface"
           }
          ],
          "table": [
           {
            "cells": {
             "fill": {
              "color": "#EBF0F8"
             },
             "line": {
              "color": "white"
             }
            },
            "header": {
             "fill": {
              "color": "#C8D4E3"
             },
             "line": {
              "color": "white"
             }
            },
            "type": "table"
           }
          ]
         },
         "layout": {
          "annotationdefaults": {
           "arrowcolor": "#2a3f5f",
           "arrowhead": 0,
           "arrowwidth": 1
          },
          "autotypenumbers": "strict",
          "coloraxis": {
           "colorbar": {
            "outlinewidth": 0,
            "ticks": ""
           }
          },
          "colorscale": {
           "diverging": [
            [
             0,
             "#8e0152"
            ],
            [
             0.1,
             "#c51b7d"
            ],
            [
             0.2,
             "#de77ae"
            ],
            [
             0.3,
             "#f1b6da"
            ],
            [
             0.4,
             "#fde0ef"
            ],
            [
             0.5,
             "#f7f7f7"
            ],
            [
             0.6,
             "#e6f5d0"
            ],
            [
             0.7,
             "#b8e186"
            ],
            [
             0.8,
             "#7fbc41"
            ],
            [
             0.9,
             "#4d9221"
            ],
            [
             1,
             "#276419"
            ]
           ],
           "sequential": [
            [
             0,
             "#0d0887"
            ],
            [
             0.1111111111111111,
             "#46039f"
            ],
            [
             0.2222222222222222,
             "#7201a8"
            ],
            [
             0.3333333333333333,
             "#9c179e"
            ],
            [
             0.4444444444444444,
             "#bd3786"
            ],
            [
             0.5555555555555556,
             "#d8576b"
            ],
            [
             0.6666666666666666,
             "#ed7953"
            ],
            [
             0.7777777777777778,
             "#fb9f3a"
            ],
            [
             0.8888888888888888,
             "#fdca26"
            ],
            [
             1,
             "#f0f921"
            ]
           ],
           "sequentialminus": [
            [
             0,
             "#0d0887"
            ],
            [
             0.1111111111111111,
             "#46039f"
            ],
            [
             0.2222222222222222,
             "#7201a8"
            ],
            [
             0.3333333333333333,
             "#9c179e"
            ],
            [
             0.4444444444444444,
             "#bd3786"
            ],
            [
             0.5555555555555556,
             "#d8576b"
            ],
            [
             0.6666666666666666,
             "#ed7953"
            ],
            [
             0.7777777777777778,
             "#fb9f3a"
            ],
            [
             0.8888888888888888,
             "#fdca26"
            ],
            [
             1,
             "#f0f921"
            ]
           ]
          },
          "colorway": [
           "#636efa",
           "#EF553B",
           "#00cc96",
           "#ab63fa",
           "#FFA15A",
           "#19d3f3",
           "#FF6692",
           "#B6E880",
           "#FF97FF",
           "#FECB52"
          ],
          "font": {
           "color": "#2a3f5f"
          },
          "geo": {
           "bgcolor": "white",
           "lakecolor": "white",
           "landcolor": "#E5ECF6",
           "showlakes": true,
           "showland": true,
           "subunitcolor": "white"
          },
          "hoverlabel": {
           "align": "left"
          },
          "hovermode": "closest",
          "mapbox": {
           "style": "light"
          },
          "paper_bgcolor": "white",
          "plot_bgcolor": "#E5ECF6",
          "polar": {
           "angularaxis": {
            "gridcolor": "white",
            "linecolor": "white",
            "ticks": ""
           },
           "bgcolor": "#E5ECF6",
           "radialaxis": {
            "gridcolor": "white",
            "linecolor": "white",
            "ticks": ""
           }
          },
          "scene": {
           "xaxis": {
            "backgroundcolor": "#E5ECF6",
            "gridcolor": "white",
            "gridwidth": 2,
            "linecolor": "white",
            "showbackground": true,
            "ticks": "",
            "zerolinecolor": "white"
           },
           "yaxis": {
            "backgroundcolor": "#E5ECF6",
            "gridcolor": "white",
            "gridwidth": 2,
            "linecolor": "white",
            "showbackground": true,
            "ticks": "",
            "zerolinecolor": "white"
           },
           "zaxis": {
            "backgroundcolor": "#E5ECF6",
            "gridcolor": "white",
            "gridwidth": 2,
            "linecolor": "white",
            "showbackground": true,
            "ticks": "",
            "zerolinecolor": "white"
           }
          },
          "shapedefaults": {
           "line": {
            "color": "#2a3f5f"
           }
          },
          "ternary": {
           "aaxis": {
            "gridcolor": "white",
            "linecolor": "white",
            "ticks": ""
           },
           "baxis": {
            "gridcolor": "white",
            "linecolor": "white",
            "ticks": ""
           },
           "bgcolor": "#E5ECF6",
           "caxis": {
            "gridcolor": "white",
            "linecolor": "white",
            "ticks": ""
           }
          },
          "title": {
           "x": 0.05
          },
          "xaxis": {
           "automargin": true,
           "gridcolor": "white",
           "linecolor": "white",
           "ticks": "",
           "title": {
            "standoff": 15
           },
           "zerolinecolor": "white",
           "zerolinewidth": 2
          },
          "yaxis": {
           "automargin": true,
           "gridcolor": "white",
           "linecolor": "white",
           "ticks": "",
           "title": {
            "standoff": 15
           },
           "zerolinecolor": "white",
           "zerolinewidth": 2
          }
         }
        },
        "title": {
         "font": {
          "color": "#4D5663"
         },
         "text": "Quantity per invoice in Germany"
        },
        "xaxis": {
         "gridcolor": "#E1E5ED",
         "showgrid": true,
         "tickfont": {
          "color": "#4D5663"
         },
         "title": {
          "font": {
           "color": "#4D5663"
          },
          "text": ""
         },
         "zerolinecolor": "#E1E5ED"
        },
        "yaxis": {
         "gridcolor": "#E1E5ED",
         "showgrid": true,
         "tickfont": {
          "color": "#4D5663"
         },
         "title": {
          "font": {
           "color": "#4D5663"
          },
          "text": ""
         },
         "zerolinecolor": "#E1E5ED"
        }
       }
      },
      "text/html": [
       "<div>                            <div id=\"90189c93-223b-4cd8-920e-576e6150a7ef\" class=\"plotly-graph-div\" style=\"height:525px; width:100%;\"></div>            <script type=\"text/javascript\">                require([\"plotly\"], function(Plotly) {                    window.PLOTLYENV=window.PLOTLYENV || {};\n",
       "                    window.PLOTLYENV.BASE_URL='https://plot.ly';                                    if (document.getElementById(\"90189c93-223b-4cd8-920e-576e6150a7ef\")) {                    Plotly.newPlot(                        \"90189c93-223b-4cd8-920e-576e6150a7ef\",                        [{\"histfunc\": \"count\", \"histnorm\": \"\", \"marker\": {\"color\": \"rgba(255, 153, 51, 1.0)\", \"line\": {\"color\": \"#4D5663\", \"width\": 1.3}}, \"nbinsx\": 20, \"opacity\": 0.8, \"orientation\": \"v\", \"type\": \"histogram\", \"x\": [2490, 1236, 827, 694, 681, 566, 448, 326, 198, 184, 158, 150, 149, 105, 78, 63, 36, 32, 27, 23, 22, 21, 19, 19, 18, 16, 9, 8, 8, 6, 5, 5, 4, 4, 4, 4, 2, 2, 2, 2, 1, 1, 1, 1, 1, 1, 1]}],                        {\"barmode\": \"overlay\", \"legend\": {\"bgcolor\": \"#F5F6F9\", \"font\": {\"color\": \"#4D5663\"}}, \"paper_bgcolor\": \"#F5F6F9\", \"plot_bgcolor\": \"#F5F6F9\", \"template\": {\"data\": {\"bar\": [{\"error_x\": {\"color\": \"#2a3f5f\"}, \"error_y\": {\"color\": \"#2a3f5f\"}, \"marker\": {\"line\": {\"color\": \"#E5ECF6\", \"width\": 0.5}}, \"type\": \"bar\"}], \"barpolar\": [{\"marker\": {\"line\": {\"color\": \"#E5ECF6\", \"width\": 0.5}}, \"type\": \"barpolar\"}], \"carpet\": [{\"aaxis\": {\"endlinecolor\": \"#2a3f5f\", \"gridcolor\": \"white\", \"linecolor\": \"white\", \"minorgridcolor\": \"white\", \"startlinecolor\": \"#2a3f5f\"}, \"baxis\": {\"endlinecolor\": \"#2a3f5f\", \"gridcolor\": \"white\", \"linecolor\": \"white\", \"minorgridcolor\": \"white\", \"startlinecolor\": \"#2a3f5f\"}, \"type\": \"carpet\"}], \"choropleth\": [{\"colorbar\": {\"outlinewidth\": 0, \"ticks\": \"\"}, \"type\": \"choropleth\"}], \"contour\": [{\"colorbar\": {\"outlinewidth\": 0, \"ticks\": \"\"}, \"colorscale\": [[0.0, \"#0d0887\"], [0.1111111111111111, \"#46039f\"], [0.2222222222222222, \"#7201a8\"], [0.3333333333333333, \"#9c179e\"], [0.4444444444444444, \"#bd3786\"], [0.5555555555555556, \"#d8576b\"], [0.6666666666666666, \"#ed7953\"], [0.7777777777777778, \"#fb9f3a\"], [0.8888888888888888, \"#fdca26\"], [1.0, \"#f0f921\"]], \"type\": \"contour\"}], \"contourcarpet\": [{\"colorbar\": {\"outlinewidth\": 0, \"ticks\": \"\"}, \"type\": \"contourcarpet\"}], \"heatmap\": [{\"colorbar\": {\"outlinewidth\": 0, \"ticks\": \"\"}, \"colorscale\": [[0.0, \"#0d0887\"], [0.1111111111111111, \"#46039f\"], [0.2222222222222222, \"#7201a8\"], [0.3333333333333333, \"#9c179e\"], [0.4444444444444444, \"#bd3786\"], [0.5555555555555556, \"#d8576b\"], [0.6666666666666666, \"#ed7953\"], [0.7777777777777778, \"#fb9f3a\"], [0.8888888888888888, \"#fdca26\"], [1.0, \"#f0f921\"]], \"type\": \"heatmap\"}], \"heatmapgl\": [{\"colorbar\": {\"outlinewidth\": 0, \"ticks\": \"\"}, \"colorscale\": [[0.0, \"#0d0887\"], [0.1111111111111111, \"#46039f\"], [0.2222222222222222, \"#7201a8\"], [0.3333333333333333, \"#9c179e\"], [0.4444444444444444, \"#bd3786\"], [0.5555555555555556, \"#d8576b\"], [0.6666666666666666, \"#ed7953\"], [0.7777777777777778, \"#fb9f3a\"], [0.8888888888888888, \"#fdca26\"], [1.0, \"#f0f921\"]], \"type\": \"heatmapgl\"}], \"histogram\": [{\"marker\": {\"colorbar\": {\"outlinewidth\": 0, \"ticks\": \"\"}}, \"type\": \"histogram\"}], \"histogram2d\": [{\"colorbar\": {\"outlinewidth\": 0, \"ticks\": \"\"}, \"colorscale\": [[0.0, \"#0d0887\"], [0.1111111111111111, \"#46039f\"], [0.2222222222222222, \"#7201a8\"], [0.3333333333333333, \"#9c179e\"], [0.4444444444444444, \"#bd3786\"], [0.5555555555555556, \"#d8576b\"], [0.6666666666666666, \"#ed7953\"], [0.7777777777777778, \"#fb9f3a\"], [0.8888888888888888, \"#fdca26\"], [1.0, \"#f0f921\"]], \"type\": \"histogram2d\"}], \"histogram2dcontour\": [{\"colorbar\": {\"outlinewidth\": 0, \"ticks\": \"\"}, \"colorscale\": [[0.0, \"#0d0887\"], [0.1111111111111111, \"#46039f\"], [0.2222222222222222, \"#7201a8\"], [0.3333333333333333, \"#9c179e\"], [0.4444444444444444, \"#bd3786\"], [0.5555555555555556, \"#d8576b\"], [0.6666666666666666, \"#ed7953\"], [0.7777777777777778, \"#fb9f3a\"], [0.8888888888888888, \"#fdca26\"], [1.0, \"#f0f921\"]], \"type\": \"histogram2dcontour\"}], \"mesh3d\": [{\"colorbar\": {\"outlinewidth\": 0, \"ticks\": \"\"}, \"type\": \"mesh3d\"}], \"parcoords\": [{\"line\": {\"colorbar\": {\"outlinewidth\": 0, \"ticks\": \"\"}}, \"type\": \"parcoords\"}], \"pie\": [{\"automargin\": true, \"type\": \"pie\"}], \"scatter\": [{\"marker\": {\"colorbar\": {\"outlinewidth\": 0, \"ticks\": \"\"}}, \"type\": \"scatter\"}], \"scatter3d\": [{\"line\": {\"colorbar\": {\"outlinewidth\": 0, \"ticks\": \"\"}}, \"marker\": {\"colorbar\": {\"outlinewidth\": 0, \"ticks\": \"\"}}, \"type\": \"scatter3d\"}], \"scattercarpet\": [{\"marker\": {\"colorbar\": {\"outlinewidth\": 0, \"ticks\": \"\"}}, \"type\": \"scattercarpet\"}], \"scattergeo\": [{\"marker\": {\"colorbar\": {\"outlinewidth\": 0, \"ticks\": \"\"}}, \"type\": \"scattergeo\"}], \"scattergl\": [{\"marker\": {\"colorbar\": {\"outlinewidth\": 0, \"ticks\": \"\"}}, \"type\": \"scattergl\"}], \"scattermapbox\": [{\"marker\": {\"colorbar\": {\"outlinewidth\": 0, \"ticks\": \"\"}}, \"type\": \"scattermapbox\"}], \"scatterpolar\": [{\"marker\": {\"colorbar\": {\"outlinewidth\": 0, \"ticks\": \"\"}}, \"type\": \"scatterpolar\"}], \"scatterpolargl\": [{\"marker\": {\"colorbar\": {\"outlinewidth\": 0, \"ticks\": \"\"}}, \"type\": \"scatterpolargl\"}], \"scatterternary\": [{\"marker\": {\"colorbar\": {\"outlinewidth\": 0, \"ticks\": \"\"}}, \"type\": \"scatterternary\"}], \"surface\": [{\"colorbar\": {\"outlinewidth\": 0, \"ticks\": \"\"}, \"colorscale\": [[0.0, \"#0d0887\"], [0.1111111111111111, \"#46039f\"], [0.2222222222222222, \"#7201a8\"], [0.3333333333333333, \"#9c179e\"], [0.4444444444444444, \"#bd3786\"], [0.5555555555555556, \"#d8576b\"], [0.6666666666666666, \"#ed7953\"], [0.7777777777777778, \"#fb9f3a\"], [0.8888888888888888, \"#fdca26\"], [1.0, \"#f0f921\"]], \"type\": \"surface\"}], \"table\": [{\"cells\": {\"fill\": {\"color\": \"#EBF0F8\"}, \"line\": {\"color\": \"white\"}}, \"header\": {\"fill\": {\"color\": \"#C8D4E3\"}, \"line\": {\"color\": \"white\"}}, \"type\": \"table\"}]}, \"layout\": {\"annotationdefaults\": {\"arrowcolor\": \"#2a3f5f\", \"arrowhead\": 0, \"arrowwidth\": 1}, \"autotypenumbers\": \"strict\", \"coloraxis\": {\"colorbar\": {\"outlinewidth\": 0, \"ticks\": \"\"}}, \"colorscale\": {\"diverging\": [[0, \"#8e0152\"], [0.1, \"#c51b7d\"], [0.2, \"#de77ae\"], [0.3, \"#f1b6da\"], [0.4, \"#fde0ef\"], [0.5, \"#f7f7f7\"], [0.6, \"#e6f5d0\"], [0.7, \"#b8e186\"], [0.8, \"#7fbc41\"], [0.9, \"#4d9221\"], [1, \"#276419\"]], \"sequential\": [[0.0, \"#0d0887\"], [0.1111111111111111, \"#46039f\"], [0.2222222222222222, \"#7201a8\"], [0.3333333333333333, \"#9c179e\"], [0.4444444444444444, \"#bd3786\"], [0.5555555555555556, \"#d8576b\"], [0.6666666666666666, \"#ed7953\"], [0.7777777777777778, \"#fb9f3a\"], [0.8888888888888888, \"#fdca26\"], [1.0, \"#f0f921\"]], \"sequentialminus\": [[0.0, \"#0d0887\"], [0.1111111111111111, \"#46039f\"], [0.2222222222222222, \"#7201a8\"], [0.3333333333333333, \"#9c179e\"], [0.4444444444444444, \"#bd3786\"], [0.5555555555555556, \"#d8576b\"], [0.6666666666666666, \"#ed7953\"], [0.7777777777777778, \"#fb9f3a\"], [0.8888888888888888, \"#fdca26\"], [1.0, \"#f0f921\"]]}, \"colorway\": [\"#636efa\", \"#EF553B\", \"#00cc96\", \"#ab63fa\", \"#FFA15A\", \"#19d3f3\", \"#FF6692\", \"#B6E880\", \"#FF97FF\", \"#FECB52\"], \"font\": {\"color\": \"#2a3f5f\"}, \"geo\": {\"bgcolor\": \"white\", \"lakecolor\": \"white\", \"landcolor\": \"#E5ECF6\", \"showlakes\": true, \"showland\": true, \"subunitcolor\": \"white\"}, \"hoverlabel\": {\"align\": \"left\"}, \"hovermode\": \"closest\", \"mapbox\": {\"style\": \"light\"}, \"paper_bgcolor\": \"white\", \"plot_bgcolor\": \"#E5ECF6\", \"polar\": {\"angularaxis\": {\"gridcolor\": \"white\", \"linecolor\": \"white\", \"ticks\": \"\"}, \"bgcolor\": \"#E5ECF6\", \"radialaxis\": {\"gridcolor\": \"white\", \"linecolor\": \"white\", \"ticks\": \"\"}}, \"scene\": {\"xaxis\": {\"backgroundcolor\": \"#E5ECF6\", \"gridcolor\": \"white\", \"gridwidth\": 2, \"linecolor\": \"white\", \"showbackground\": true, \"ticks\": \"\", \"zerolinecolor\": \"white\"}, \"yaxis\": {\"backgroundcolor\": \"#E5ECF6\", \"gridcolor\": \"white\", \"gridwidth\": 2, \"linecolor\": \"white\", \"showbackground\": true, \"ticks\": \"\", \"zerolinecolor\": \"white\"}, \"zaxis\": {\"backgroundcolor\": \"#E5ECF6\", \"gridcolor\": \"white\", \"gridwidth\": 2, \"linecolor\": \"white\", \"showbackground\": true, \"ticks\": \"\", \"zerolinecolor\": \"white\"}}, \"shapedefaults\": {\"line\": {\"color\": \"#2a3f5f\"}}, \"ternary\": {\"aaxis\": {\"gridcolor\": \"white\", \"linecolor\": \"white\", \"ticks\": \"\"}, \"baxis\": {\"gridcolor\": \"white\", \"linecolor\": \"white\", \"ticks\": \"\"}, \"bgcolor\": \"#E5ECF6\", \"caxis\": {\"gridcolor\": \"white\", \"linecolor\": \"white\", \"ticks\": \"\"}}, \"title\": {\"x\": 0.05}, \"xaxis\": {\"automargin\": true, \"gridcolor\": \"white\", \"linecolor\": \"white\", \"ticks\": \"\", \"title\": {\"standoff\": 15}, \"zerolinecolor\": \"white\", \"zerolinewidth\": 2}, \"yaxis\": {\"automargin\": true, \"gridcolor\": \"white\", \"linecolor\": \"white\", \"ticks\": \"\", \"title\": {\"standoff\": 15}, \"zerolinecolor\": \"white\", \"zerolinewidth\": 2}}}, \"title\": {\"font\": {\"color\": \"#4D5663\"}, \"text\": \"Quantity per invoice in Germany\"}, \"xaxis\": {\"gridcolor\": \"#E1E5ED\", \"showgrid\": true, \"tickfont\": {\"color\": \"#4D5663\"}, \"title\": {\"font\": {\"color\": \"#4D5663\"}, \"text\": \"\"}, \"zerolinecolor\": \"#E1E5ED\"}, \"yaxis\": {\"gridcolor\": \"#E1E5ED\", \"showgrid\": true, \"tickfont\": {\"color\": \"#4D5663\"}, \"title\": {\"font\": {\"color\": \"#4D5663\"}, \"text\": \"\"}, \"zerolinecolor\": \"#E1E5ED\"}},                        {\"showLink\": true, \"linkText\": \"Export to plot.ly\", \"plotlyServerURL\": \"https://plot.ly\", \"responsive\": true}                    ).then(function(){\n",
       "                            \n",
       "var gd = document.getElementById('90189c93-223b-4cd8-920e-576e6150a7ef');\n",
       "var x = new MutationObserver(function (mutations, observer) {{\n",
       "        var display = window.getComputedStyle(gd).display;\n",
       "        if (!display || display === 'none') {{\n",
       "            console.log([gd, 'removed!']);\n",
       "            Plotly.purge(gd);\n",
       "            observer.disconnect();\n",
       "        }}\n",
       "}});\n",
       "\n",
       "// Listen for the removal of the full notebook cells\n",
       "var notebookContainer = gd.closest('#notebook-container');\n",
       "if (notebookContainer) {{\n",
       "    x.observe(notebookContainer, {childList: true});\n",
       "}}\n",
       "\n",
       "// Listen for the clearing of the current output cell\n",
       "var outputEl = gd.closest('.output');\n",
       "if (outputEl) {{\n",
       "    x.observe(outputEl, {childList: true});\n",
       "}}\n",
       "\n",
       "                        })                };                });            </script>        </div>"
      ]
     },
     "metadata": {},
     "output_type": "display_data"
    },
    {
     "data": {
      "application/vnd.plotly.v1+json": {
       "config": {
        "linkText": "Export to plot.ly",
        "plotlyServerURL": "https://plot.ly",
        "showLink": true
       },
       "data": [
        {
         "histfunc": "count",
         "histnorm": "",
         "marker": {
          "color": "rgba(255, 153, 51, 1.0)",
          "line": {
           "color": "#4D5663",
           "width": 1.3
          }
         },
         "nbinsx": 20,
         "opacity": 0.8,
         "orientation": "v",
         "type": "histogram",
         "x": [
          2092,
          1126,
          820,
          769,
          608,
          495,
          492,
          293,
          255,
          188,
          136,
          127,
          112,
          102,
          92,
          49,
          35,
          33,
          27,
          22,
          16,
          15,
          15,
          11,
          9,
          9,
          9,
          8,
          8,
          7,
          6,
          6,
          6,
          5,
          4,
          4,
          3,
          3,
          2,
          2,
          2,
          1,
          1,
          1,
          1,
          1,
          1,
          1,
          1,
          1,
          1,
          1
         ]
        }
       ],
       "layout": {
        "barmode": "overlay",
        "legend": {
         "bgcolor": "#F5F6F9",
         "font": {
          "color": "#4D5663"
         }
        },
        "paper_bgcolor": "#F5F6F9",
        "plot_bgcolor": "#F5F6F9",
        "template": {
         "data": {
          "bar": [
           {
            "error_x": {
             "color": "#2a3f5f"
            },
            "error_y": {
             "color": "#2a3f5f"
            },
            "marker": {
             "line": {
              "color": "#E5ECF6",
              "width": 0.5
             }
            },
            "type": "bar"
           }
          ],
          "barpolar": [
           {
            "marker": {
             "line": {
              "color": "#E5ECF6",
              "width": 0.5
             }
            },
            "type": "barpolar"
           }
          ],
          "carpet": [
           {
            "aaxis": {
             "endlinecolor": "#2a3f5f",
             "gridcolor": "white",
             "linecolor": "white",
             "minorgridcolor": "white",
             "startlinecolor": "#2a3f5f"
            },
            "baxis": {
             "endlinecolor": "#2a3f5f",
             "gridcolor": "white",
             "linecolor": "white",
             "minorgridcolor": "white",
             "startlinecolor": "#2a3f5f"
            },
            "type": "carpet"
           }
          ],
          "choropleth": [
           {
            "colorbar": {
             "outlinewidth": 0,
             "ticks": ""
            },
            "type": "choropleth"
           }
          ],
          "contour": [
           {
            "colorbar": {
             "outlinewidth": 0,
             "ticks": ""
            },
            "colorscale": [
             [
              0,
              "#0d0887"
             ],
             [
              0.1111111111111111,
              "#46039f"
             ],
             [
              0.2222222222222222,
              "#7201a8"
             ],
             [
              0.3333333333333333,
              "#9c179e"
             ],
             [
              0.4444444444444444,
              "#bd3786"
             ],
             [
              0.5555555555555556,
              "#d8576b"
             ],
             [
              0.6666666666666666,
              "#ed7953"
             ],
             [
              0.7777777777777778,
              "#fb9f3a"
             ],
             [
              0.8888888888888888,
              "#fdca26"
             ],
             [
              1,
              "#f0f921"
             ]
            ],
            "type": "contour"
           }
          ],
          "contourcarpet": [
           {
            "colorbar": {
             "outlinewidth": 0,
             "ticks": ""
            },
            "type": "contourcarpet"
           }
          ],
          "heatmap": [
           {
            "colorbar": {
             "outlinewidth": 0,
             "ticks": ""
            },
            "colorscale": [
             [
              0,
              "#0d0887"
             ],
             [
              0.1111111111111111,
              "#46039f"
             ],
             [
              0.2222222222222222,
              "#7201a8"
             ],
             [
              0.3333333333333333,
              "#9c179e"
             ],
             [
              0.4444444444444444,
              "#bd3786"
             ],
             [
              0.5555555555555556,
              "#d8576b"
             ],
             [
              0.6666666666666666,
              "#ed7953"
             ],
             [
              0.7777777777777778,
              "#fb9f3a"
             ],
             [
              0.8888888888888888,
              "#fdca26"
             ],
             [
              1,
              "#f0f921"
             ]
            ],
            "type": "heatmap"
           }
          ],
          "heatmapgl": [
           {
            "colorbar": {
             "outlinewidth": 0,
             "ticks": ""
            },
            "colorscale": [
             [
              0,
              "#0d0887"
             ],
             [
              0.1111111111111111,
              "#46039f"
             ],
             [
              0.2222222222222222,
              "#7201a8"
             ],
             [
              0.3333333333333333,
              "#9c179e"
             ],
             [
              0.4444444444444444,
              "#bd3786"
             ],
             [
              0.5555555555555556,
              "#d8576b"
             ],
             [
              0.6666666666666666,
              "#ed7953"
             ],
             [
              0.7777777777777778,
              "#fb9f3a"
             ],
             [
              0.8888888888888888,
              "#fdca26"
             ],
             [
              1,
              "#f0f921"
             ]
            ],
            "type": "heatmapgl"
           }
          ],
          "histogram": [
           {
            "marker": {
             "colorbar": {
              "outlinewidth": 0,
              "ticks": ""
             }
            },
            "type": "histogram"
           }
          ],
          "histogram2d": [
           {
            "colorbar": {
             "outlinewidth": 0,
             "ticks": ""
            },
            "colorscale": [
             [
              0,
              "#0d0887"
             ],
             [
              0.1111111111111111,
              "#46039f"
             ],
             [
              0.2222222222222222,
              "#7201a8"
             ],
             [
              0.3333333333333333,
              "#9c179e"
             ],
             [
              0.4444444444444444,
              "#bd3786"
             ],
             [
              0.5555555555555556,
              "#d8576b"
             ],
             [
              0.6666666666666666,
              "#ed7953"
             ],
             [
              0.7777777777777778,
              "#fb9f3a"
             ],
             [
              0.8888888888888888,
              "#fdca26"
             ],
             [
              1,
              "#f0f921"
             ]
            ],
            "type": "histogram2d"
           }
          ],
          "histogram2dcontour": [
           {
            "colorbar": {
             "outlinewidth": 0,
             "ticks": ""
            },
            "colorscale": [
             [
              0,
              "#0d0887"
             ],
             [
              0.1111111111111111,
              "#46039f"
             ],
             [
              0.2222222222222222,
              "#7201a8"
             ],
             [
              0.3333333333333333,
              "#9c179e"
             ],
             [
              0.4444444444444444,
              "#bd3786"
             ],
             [
              0.5555555555555556,
              "#d8576b"
             ],
             [
              0.6666666666666666,
              "#ed7953"
             ],
             [
              0.7777777777777778,
              "#fb9f3a"
             ],
             [
              0.8888888888888888,
              "#fdca26"
             ],
             [
              1,
              "#f0f921"
             ]
            ],
            "type": "histogram2dcontour"
           }
          ],
          "mesh3d": [
           {
            "colorbar": {
             "outlinewidth": 0,
             "ticks": ""
            },
            "type": "mesh3d"
           }
          ],
          "parcoords": [
           {
            "line": {
             "colorbar": {
              "outlinewidth": 0,
              "ticks": ""
             }
            },
            "type": "parcoords"
           }
          ],
          "pie": [
           {
            "automargin": true,
            "type": "pie"
           }
          ],
          "scatter": [
           {
            "marker": {
             "colorbar": {
              "outlinewidth": 0,
              "ticks": ""
             }
            },
            "type": "scatter"
           }
          ],
          "scatter3d": [
           {
            "line": {
             "colorbar": {
              "outlinewidth": 0,
              "ticks": ""
             }
            },
            "marker": {
             "colorbar": {
              "outlinewidth": 0,
              "ticks": ""
             }
            },
            "type": "scatter3d"
           }
          ],
          "scattercarpet": [
           {
            "marker": {
             "colorbar": {
              "outlinewidth": 0,
              "ticks": ""
             }
            },
            "type": "scattercarpet"
           }
          ],
          "scattergeo": [
           {
            "marker": {
             "colorbar": {
              "outlinewidth": 0,
              "ticks": ""
             }
            },
            "type": "scattergeo"
           }
          ],
          "scattergl": [
           {
            "marker": {
             "colorbar": {
              "outlinewidth": 0,
              "ticks": ""
             }
            },
            "type": "scattergl"
           }
          ],
          "scattermapbox": [
           {
            "marker": {
             "colorbar": {
              "outlinewidth": 0,
              "ticks": ""
             }
            },
            "type": "scattermapbox"
           }
          ],
          "scatterpolar": [
           {
            "marker": {
             "colorbar": {
              "outlinewidth": 0,
              "ticks": ""
             }
            },
            "type": "scatterpolar"
           }
          ],
          "scatterpolargl": [
           {
            "marker": {
             "colorbar": {
              "outlinewidth": 0,
              "ticks": ""
             }
            },
            "type": "scatterpolargl"
           }
          ],
          "scatterternary": [
           {
            "marker": {
             "colorbar": {
              "outlinewidth": 0,
              "ticks": ""
             }
            },
            "type": "scatterternary"
           }
          ],
          "surface": [
           {
            "colorbar": {
             "outlinewidth": 0,
             "ticks": ""
            },
            "colorscale": [
             [
              0,
              "#0d0887"
             ],
             [
              0.1111111111111111,
              "#46039f"
             ],
             [
              0.2222222222222222,
              "#7201a8"
             ],
             [
              0.3333333333333333,
              "#9c179e"
             ],
             [
              0.4444444444444444,
              "#bd3786"
             ],
             [
              0.5555555555555556,
              "#d8576b"
             ],
             [
              0.6666666666666666,
              "#ed7953"
             ],
             [
              0.7777777777777778,
              "#fb9f3a"
             ],
             [
              0.8888888888888888,
              "#fdca26"
             ],
             [
              1,
              "#f0f921"
             ]
            ],
            "type": "surface"
           }
          ],
          "table": [
           {
            "cells": {
             "fill": {
              "color": "#EBF0F8"
             },
             "line": {
              "color": "white"
             }
            },
            "header": {
             "fill": {
              "color": "#C8D4E3"
             },
             "line": {
              "color": "white"
             }
            },
            "type": "table"
           }
          ]
         },
         "layout": {
          "annotationdefaults": {
           "arrowcolor": "#2a3f5f",
           "arrowhead": 0,
           "arrowwidth": 1
          },
          "autotypenumbers": "strict",
          "coloraxis": {
           "colorbar": {
            "outlinewidth": 0,
            "ticks": ""
           }
          },
          "colorscale": {
           "diverging": [
            [
             0,
             "#8e0152"
            ],
            [
             0.1,
             "#c51b7d"
            ],
            [
             0.2,
             "#de77ae"
            ],
            [
             0.3,
             "#f1b6da"
            ],
            [
             0.4,
             "#fde0ef"
            ],
            [
             0.5,
             "#f7f7f7"
            ],
            [
             0.6,
             "#e6f5d0"
            ],
            [
             0.7,
             "#b8e186"
            ],
            [
             0.8,
             "#7fbc41"
            ],
            [
             0.9,
             "#4d9221"
            ],
            [
             1,
             "#276419"
            ]
           ],
           "sequential": [
            [
             0,
             "#0d0887"
            ],
            [
             0.1111111111111111,
             "#46039f"
            ],
            [
             0.2222222222222222,
             "#7201a8"
            ],
            [
             0.3333333333333333,
             "#9c179e"
            ],
            [
             0.4444444444444444,
             "#bd3786"
            ],
            [
             0.5555555555555556,
             "#d8576b"
            ],
            [
             0.6666666666666666,
             "#ed7953"
            ],
            [
             0.7777777777777778,
             "#fb9f3a"
            ],
            [
             0.8888888888888888,
             "#fdca26"
            ],
            [
             1,
             "#f0f921"
            ]
           ],
           "sequentialminus": [
            [
             0,
             "#0d0887"
            ],
            [
             0.1111111111111111,
             "#46039f"
            ],
            [
             0.2222222222222222,
             "#7201a8"
            ],
            [
             0.3333333333333333,
             "#9c179e"
            ],
            [
             0.4444444444444444,
             "#bd3786"
            ],
            [
             0.5555555555555556,
             "#d8576b"
            ],
            [
             0.6666666666666666,
             "#ed7953"
            ],
            [
             0.7777777777777778,
             "#fb9f3a"
            ],
            [
             0.8888888888888888,
             "#fdca26"
            ],
            [
             1,
             "#f0f921"
            ]
           ]
          },
          "colorway": [
           "#636efa",
           "#EF553B",
           "#00cc96",
           "#ab63fa",
           "#FFA15A",
           "#19d3f3",
           "#FF6692",
           "#B6E880",
           "#FF97FF",
           "#FECB52"
          ],
          "font": {
           "color": "#2a3f5f"
          },
          "geo": {
           "bgcolor": "white",
           "lakecolor": "white",
           "landcolor": "#E5ECF6",
           "showlakes": true,
           "showland": true,
           "subunitcolor": "white"
          },
          "hoverlabel": {
           "align": "left"
          },
          "hovermode": "closest",
          "mapbox": {
           "style": "light"
          },
          "paper_bgcolor": "white",
          "plot_bgcolor": "#E5ECF6",
          "polar": {
           "angularaxis": {
            "gridcolor": "white",
            "linecolor": "white",
            "ticks": ""
           },
           "bgcolor": "#E5ECF6",
           "radialaxis": {
            "gridcolor": "white",
            "linecolor": "white",
            "ticks": ""
           }
          },
          "scene": {
           "xaxis": {
            "backgroundcolor": "#E5ECF6",
            "gridcolor": "white",
            "gridwidth": 2,
            "linecolor": "white",
            "showbackground": true,
            "ticks": "",
            "zerolinecolor": "white"
           },
           "yaxis": {
            "backgroundcolor": "#E5ECF6",
            "gridcolor": "white",
            "gridwidth": 2,
            "linecolor": "white",
            "showbackground": true,
            "ticks": "",
            "zerolinecolor": "white"
           },
           "zaxis": {
            "backgroundcolor": "#E5ECF6",
            "gridcolor": "white",
            "gridwidth": 2,
            "linecolor": "white",
            "showbackground": true,
            "ticks": "",
            "zerolinecolor": "white"
           }
          },
          "shapedefaults": {
           "line": {
            "color": "#2a3f5f"
           }
          },
          "ternary": {
           "aaxis": {
            "gridcolor": "white",
            "linecolor": "white",
            "ticks": ""
           },
           "baxis": {
            "gridcolor": "white",
            "linecolor": "white",
            "ticks": ""
           },
           "bgcolor": "#E5ECF6",
           "caxis": {
            "gridcolor": "white",
            "linecolor": "white",
            "ticks": ""
           }
          },
          "title": {
           "x": 0.05
          },
          "xaxis": {
           "automargin": true,
           "gridcolor": "white",
           "linecolor": "white",
           "ticks": "",
           "title": {
            "standoff": 15
           },
           "zerolinecolor": "white",
           "zerolinewidth": 2
          },
          "yaxis": {
           "automargin": true,
           "gridcolor": "white",
           "linecolor": "white",
           "ticks": "",
           "title": {
            "standoff": 15
           },
           "zerolinecolor": "white",
           "zerolinewidth": 2
          }
         }
        },
        "title": {
         "font": {
          "color": "#4D5663"
         },
         "text": "Quantity per invoice in France"
        },
        "xaxis": {
         "gridcolor": "#E1E5ED",
         "showgrid": true,
         "tickfont": {
          "color": "#4D5663"
         },
         "title": {
          "font": {
           "color": "#4D5663"
          },
          "text": ""
         },
         "zerolinecolor": "#E1E5ED"
        },
        "yaxis": {
         "gridcolor": "#E1E5ED",
         "showgrid": true,
         "tickfont": {
          "color": "#4D5663"
         },
         "title": {
          "font": {
           "color": "#4D5663"
          },
          "text": ""
         },
         "zerolinecolor": "#E1E5ED"
        }
       }
      },
      "text/html": [
       "<div>                            <div id=\"f21a87ee-cc1c-494f-b2d2-e6a487f3bb69\" class=\"plotly-graph-div\" style=\"height:525px; width:100%;\"></div>            <script type=\"text/javascript\">                require([\"plotly\"], function(Plotly) {                    window.PLOTLYENV=window.PLOTLYENV || {};\n",
       "                    window.PLOTLYENV.BASE_URL='https://plot.ly';                                    if (document.getElementById(\"f21a87ee-cc1c-494f-b2d2-e6a487f3bb69\")) {                    Plotly.newPlot(                        \"f21a87ee-cc1c-494f-b2d2-e6a487f3bb69\",                        [{\"histfunc\": \"count\", \"histnorm\": \"\", \"marker\": {\"color\": \"rgba(255, 153, 51, 1.0)\", \"line\": {\"color\": \"#4D5663\", \"width\": 1.3}}, \"nbinsx\": 20, \"opacity\": 0.8, \"orientation\": \"v\", \"type\": \"histogram\", \"x\": [2092, 1126, 820, 769, 608, 495, 492, 293, 255, 188, 136, 127, 112, 102, 92, 49, 35, 33, 27, 22, 16, 15, 15, 11, 9, 9, 9, 8, 8, 7, 6, 6, 6, 5, 4, 4, 3, 3, 2, 2, 2, 1, 1, 1, 1, 1, 1, 1, 1, 1, 1, 1]}],                        {\"barmode\": \"overlay\", \"legend\": {\"bgcolor\": \"#F5F6F9\", \"font\": {\"color\": \"#4D5663\"}}, \"paper_bgcolor\": \"#F5F6F9\", \"plot_bgcolor\": \"#F5F6F9\", \"template\": {\"data\": {\"bar\": [{\"error_x\": {\"color\": \"#2a3f5f\"}, \"error_y\": {\"color\": \"#2a3f5f\"}, \"marker\": {\"line\": {\"color\": \"#E5ECF6\", \"width\": 0.5}}, \"type\": \"bar\"}], \"barpolar\": [{\"marker\": {\"line\": {\"color\": \"#E5ECF6\", \"width\": 0.5}}, \"type\": \"barpolar\"}], \"carpet\": [{\"aaxis\": {\"endlinecolor\": \"#2a3f5f\", \"gridcolor\": \"white\", \"linecolor\": \"white\", \"minorgridcolor\": \"white\", \"startlinecolor\": \"#2a3f5f\"}, \"baxis\": {\"endlinecolor\": \"#2a3f5f\", \"gridcolor\": \"white\", \"linecolor\": \"white\", \"minorgridcolor\": \"white\", \"startlinecolor\": \"#2a3f5f\"}, \"type\": \"carpet\"}], \"choropleth\": [{\"colorbar\": {\"outlinewidth\": 0, \"ticks\": \"\"}, \"type\": \"choropleth\"}], \"contour\": [{\"colorbar\": {\"outlinewidth\": 0, \"ticks\": \"\"}, \"colorscale\": [[0.0, \"#0d0887\"], [0.1111111111111111, \"#46039f\"], [0.2222222222222222, \"#7201a8\"], [0.3333333333333333, \"#9c179e\"], [0.4444444444444444, \"#bd3786\"], [0.5555555555555556, \"#d8576b\"], [0.6666666666666666, \"#ed7953\"], [0.7777777777777778, \"#fb9f3a\"], [0.8888888888888888, \"#fdca26\"], [1.0, \"#f0f921\"]], \"type\": \"contour\"}], \"contourcarpet\": [{\"colorbar\": {\"outlinewidth\": 0, \"ticks\": \"\"}, \"type\": \"contourcarpet\"}], \"heatmap\": [{\"colorbar\": {\"outlinewidth\": 0, \"ticks\": \"\"}, \"colorscale\": [[0.0, \"#0d0887\"], [0.1111111111111111, \"#46039f\"], [0.2222222222222222, \"#7201a8\"], [0.3333333333333333, \"#9c179e\"], [0.4444444444444444, \"#bd3786\"], [0.5555555555555556, \"#d8576b\"], [0.6666666666666666, \"#ed7953\"], [0.7777777777777778, \"#fb9f3a\"], [0.8888888888888888, \"#fdca26\"], [1.0, \"#f0f921\"]], \"type\": \"heatmap\"}], \"heatmapgl\": [{\"colorbar\": {\"outlinewidth\": 0, \"ticks\": \"\"}, \"colorscale\": [[0.0, \"#0d0887\"], [0.1111111111111111, \"#46039f\"], [0.2222222222222222, \"#7201a8\"], [0.3333333333333333, \"#9c179e\"], [0.4444444444444444, \"#bd3786\"], [0.5555555555555556, \"#d8576b\"], [0.6666666666666666, \"#ed7953\"], [0.7777777777777778, \"#fb9f3a\"], [0.8888888888888888, \"#fdca26\"], [1.0, \"#f0f921\"]], \"type\": \"heatmapgl\"}], \"histogram\": [{\"marker\": {\"colorbar\": {\"outlinewidth\": 0, \"ticks\": \"\"}}, \"type\": \"histogram\"}], \"histogram2d\": [{\"colorbar\": {\"outlinewidth\": 0, \"ticks\": \"\"}, \"colorscale\": [[0.0, \"#0d0887\"], [0.1111111111111111, \"#46039f\"], [0.2222222222222222, \"#7201a8\"], [0.3333333333333333, \"#9c179e\"], [0.4444444444444444, \"#bd3786\"], [0.5555555555555556, \"#d8576b\"], [0.6666666666666666, \"#ed7953\"], [0.7777777777777778, \"#fb9f3a\"], [0.8888888888888888, \"#fdca26\"], [1.0, \"#f0f921\"]], \"type\": \"histogram2d\"}], \"histogram2dcontour\": [{\"colorbar\": {\"outlinewidth\": 0, \"ticks\": \"\"}, \"colorscale\": [[0.0, \"#0d0887\"], [0.1111111111111111, \"#46039f\"], [0.2222222222222222, \"#7201a8\"], [0.3333333333333333, \"#9c179e\"], [0.4444444444444444, \"#bd3786\"], [0.5555555555555556, \"#d8576b\"], [0.6666666666666666, \"#ed7953\"], [0.7777777777777778, \"#fb9f3a\"], [0.8888888888888888, \"#fdca26\"], [1.0, \"#f0f921\"]], \"type\": \"histogram2dcontour\"}], \"mesh3d\": [{\"colorbar\": {\"outlinewidth\": 0, \"ticks\": \"\"}, \"type\": \"mesh3d\"}], \"parcoords\": [{\"line\": {\"colorbar\": {\"outlinewidth\": 0, \"ticks\": \"\"}}, \"type\": \"parcoords\"}], \"pie\": [{\"automargin\": true, \"type\": \"pie\"}], \"scatter\": [{\"marker\": {\"colorbar\": {\"outlinewidth\": 0, \"ticks\": \"\"}}, \"type\": \"scatter\"}], \"scatter3d\": [{\"line\": {\"colorbar\": {\"outlinewidth\": 0, \"ticks\": \"\"}}, \"marker\": {\"colorbar\": {\"outlinewidth\": 0, \"ticks\": \"\"}}, \"type\": \"scatter3d\"}], \"scattercarpet\": [{\"marker\": {\"colorbar\": {\"outlinewidth\": 0, \"ticks\": \"\"}}, \"type\": \"scattercarpet\"}], \"scattergeo\": [{\"marker\": {\"colorbar\": {\"outlinewidth\": 0, \"ticks\": \"\"}}, \"type\": \"scattergeo\"}], \"scattergl\": [{\"marker\": {\"colorbar\": {\"outlinewidth\": 0, \"ticks\": \"\"}}, \"type\": \"scattergl\"}], \"scattermapbox\": [{\"marker\": {\"colorbar\": {\"outlinewidth\": 0, \"ticks\": \"\"}}, \"type\": \"scattermapbox\"}], \"scatterpolar\": [{\"marker\": {\"colorbar\": {\"outlinewidth\": 0, \"ticks\": \"\"}}, \"type\": \"scatterpolar\"}], \"scatterpolargl\": [{\"marker\": {\"colorbar\": {\"outlinewidth\": 0, \"ticks\": \"\"}}, \"type\": \"scatterpolargl\"}], \"scatterternary\": [{\"marker\": {\"colorbar\": {\"outlinewidth\": 0, \"ticks\": \"\"}}, \"type\": \"scatterternary\"}], \"surface\": [{\"colorbar\": {\"outlinewidth\": 0, \"ticks\": \"\"}, \"colorscale\": [[0.0, \"#0d0887\"], [0.1111111111111111, \"#46039f\"], [0.2222222222222222, \"#7201a8\"], [0.3333333333333333, \"#9c179e\"], [0.4444444444444444, \"#bd3786\"], [0.5555555555555556, \"#d8576b\"], [0.6666666666666666, \"#ed7953\"], [0.7777777777777778, \"#fb9f3a\"], [0.8888888888888888, \"#fdca26\"], [1.0, \"#f0f921\"]], \"type\": \"surface\"}], \"table\": [{\"cells\": {\"fill\": {\"color\": \"#EBF0F8\"}, \"line\": {\"color\": \"white\"}}, \"header\": {\"fill\": {\"color\": \"#C8D4E3\"}, \"line\": {\"color\": \"white\"}}, \"type\": \"table\"}]}, \"layout\": {\"annotationdefaults\": {\"arrowcolor\": \"#2a3f5f\", \"arrowhead\": 0, \"arrowwidth\": 1}, \"autotypenumbers\": \"strict\", \"coloraxis\": {\"colorbar\": {\"outlinewidth\": 0, \"ticks\": \"\"}}, \"colorscale\": {\"diverging\": [[0, \"#8e0152\"], [0.1, \"#c51b7d\"], [0.2, \"#de77ae\"], [0.3, \"#f1b6da\"], [0.4, \"#fde0ef\"], [0.5, \"#f7f7f7\"], [0.6, \"#e6f5d0\"], [0.7, \"#b8e186\"], [0.8, \"#7fbc41\"], [0.9, \"#4d9221\"], [1, \"#276419\"]], \"sequential\": [[0.0, \"#0d0887\"], [0.1111111111111111, \"#46039f\"], [0.2222222222222222, \"#7201a8\"], [0.3333333333333333, \"#9c179e\"], [0.4444444444444444, \"#bd3786\"], [0.5555555555555556, \"#d8576b\"], [0.6666666666666666, \"#ed7953\"], [0.7777777777777778, \"#fb9f3a\"], [0.8888888888888888, \"#fdca26\"], [1.0, \"#f0f921\"]], \"sequentialminus\": [[0.0, \"#0d0887\"], [0.1111111111111111, \"#46039f\"], [0.2222222222222222, \"#7201a8\"], [0.3333333333333333, \"#9c179e\"], [0.4444444444444444, \"#bd3786\"], [0.5555555555555556, \"#d8576b\"], [0.6666666666666666, \"#ed7953\"], [0.7777777777777778, \"#fb9f3a\"], [0.8888888888888888, \"#fdca26\"], [1.0, \"#f0f921\"]]}, \"colorway\": [\"#636efa\", \"#EF553B\", \"#00cc96\", \"#ab63fa\", \"#FFA15A\", \"#19d3f3\", \"#FF6692\", \"#B6E880\", \"#FF97FF\", \"#FECB52\"], \"font\": {\"color\": \"#2a3f5f\"}, \"geo\": {\"bgcolor\": \"white\", \"lakecolor\": \"white\", \"landcolor\": \"#E5ECF6\", \"showlakes\": true, \"showland\": true, \"subunitcolor\": \"white\"}, \"hoverlabel\": {\"align\": \"left\"}, \"hovermode\": \"closest\", \"mapbox\": {\"style\": \"light\"}, \"paper_bgcolor\": \"white\", \"plot_bgcolor\": \"#E5ECF6\", \"polar\": {\"angularaxis\": {\"gridcolor\": \"white\", \"linecolor\": \"white\", \"ticks\": \"\"}, \"bgcolor\": \"#E5ECF6\", \"radialaxis\": {\"gridcolor\": \"white\", \"linecolor\": \"white\", \"ticks\": \"\"}}, \"scene\": {\"xaxis\": {\"backgroundcolor\": \"#E5ECF6\", \"gridcolor\": \"white\", \"gridwidth\": 2, \"linecolor\": \"white\", \"showbackground\": true, \"ticks\": \"\", \"zerolinecolor\": \"white\"}, \"yaxis\": {\"backgroundcolor\": \"#E5ECF6\", \"gridcolor\": \"white\", \"gridwidth\": 2, \"linecolor\": \"white\", \"showbackground\": true, \"ticks\": \"\", \"zerolinecolor\": \"white\"}, \"zaxis\": {\"backgroundcolor\": \"#E5ECF6\", \"gridcolor\": \"white\", \"gridwidth\": 2, \"linecolor\": \"white\", \"showbackground\": true, \"ticks\": \"\", \"zerolinecolor\": \"white\"}}, \"shapedefaults\": {\"line\": {\"color\": \"#2a3f5f\"}}, \"ternary\": {\"aaxis\": {\"gridcolor\": \"white\", \"linecolor\": \"white\", \"ticks\": \"\"}, \"baxis\": {\"gridcolor\": \"white\", \"linecolor\": \"white\", \"ticks\": \"\"}, \"bgcolor\": \"#E5ECF6\", \"caxis\": {\"gridcolor\": \"white\", \"linecolor\": \"white\", \"ticks\": \"\"}}, \"title\": {\"x\": 0.05}, \"xaxis\": {\"automargin\": true, \"gridcolor\": \"white\", \"linecolor\": \"white\", \"ticks\": \"\", \"title\": {\"standoff\": 15}, \"zerolinecolor\": \"white\", \"zerolinewidth\": 2}, \"yaxis\": {\"automargin\": true, \"gridcolor\": \"white\", \"linecolor\": \"white\", \"ticks\": \"\", \"title\": {\"standoff\": 15}, \"zerolinecolor\": \"white\", \"zerolinewidth\": 2}}}, \"title\": {\"font\": {\"color\": \"#4D5663\"}, \"text\": \"Quantity per invoice in France\"}, \"xaxis\": {\"gridcolor\": \"#E1E5ED\", \"showgrid\": true, \"tickfont\": {\"color\": \"#4D5663\"}, \"title\": {\"font\": {\"color\": \"#4D5663\"}, \"text\": \"\"}, \"zerolinecolor\": \"#E1E5ED\"}, \"yaxis\": {\"gridcolor\": \"#E1E5ED\", \"showgrid\": true, \"tickfont\": {\"color\": \"#4D5663\"}, \"title\": {\"font\": {\"color\": \"#4D5663\"}, \"text\": \"\"}, \"zerolinecolor\": \"#E1E5ED\"}},                        {\"showLink\": true, \"linkText\": \"Export to plot.ly\", \"plotlyServerURL\": \"https://plot.ly\", \"responsive\": true}                    ).then(function(){\n",
       "                            \n",
       "var gd = document.getElementById('f21a87ee-cc1c-494f-b2d2-e6a487f3bb69');\n",
       "var x = new MutationObserver(function (mutations, observer) {{\n",
       "        var display = window.getComputedStyle(gd).display;\n",
       "        if (!display || display === 'none') {{\n",
       "            console.log([gd, 'removed!']);\n",
       "            Plotly.purge(gd);\n",
       "            observer.disconnect();\n",
       "        }}\n",
       "}});\n",
       "\n",
       "// Listen for the removal of the full notebook cells\n",
       "var notebookContainer = gd.closest('#notebook-container');\n",
       "if (notebookContainer) {{\n",
       "    x.observe(notebookContainer, {childList: true});\n",
       "}}\n",
       "\n",
       "// Listen for the clearing of the current output cell\n",
       "var outputEl = gd.closest('.output');\n",
       "if (outputEl) {{\n",
       "    x.observe(outputEl, {childList: true});\n",
       "}}\n",
       "\n",
       "                        })                };                });            </script>        </div>"
      ]
     },
     "metadata": {},
     "output_type": "display_data"
    },
    {
     "data": {
      "application/vnd.plotly.v1+json": {
       "config": {
        "linkText": "Export to plot.ly",
        "plotlyServerURL": "https://plot.ly",
        "showLink": true
       },
       "data": [
        {
         "histfunc": "count",
         "histnorm": "",
         "marker": {
          "color": "rgba(255, 153, 51, 1.0)",
          "line": {
           "color": "#4D5663",
           "width": 1.3
          }
         },
         "nbinsx": 20,
         "opacity": 0.8,
         "orientation": "v",
         "type": "histogram",
         "x": [
          224,
          215,
          182,
          167,
          162,
          158,
          151,
          150,
          75,
          70,
          56,
          50,
          49,
          48,
          45,
          44,
          41,
          39,
          38,
          37,
          32,
          29,
          28,
          24,
          23,
          19,
          17,
          15,
          14,
          14,
          9,
          9,
          9,
          8,
          8,
          8,
          8,
          7,
          5,
          5,
          3,
          3,
          3,
          2,
          2,
          2,
          2,
          2,
          1,
          1,
          1,
          1,
          1,
          1,
          1,
          1,
          1,
          1,
          1
         ]
        }
       ],
       "layout": {
        "barmode": "overlay",
        "legend": {
         "bgcolor": "#F5F6F9",
         "font": {
          "color": "#4D5663"
         }
        },
        "paper_bgcolor": "#F5F6F9",
        "plot_bgcolor": "#F5F6F9",
        "template": {
         "data": {
          "bar": [
           {
            "error_x": {
             "color": "#2a3f5f"
            },
            "error_y": {
             "color": "#2a3f5f"
            },
            "marker": {
             "line": {
              "color": "#E5ECF6",
              "width": 0.5
             }
            },
            "type": "bar"
           }
          ],
          "barpolar": [
           {
            "marker": {
             "line": {
              "color": "#E5ECF6",
              "width": 0.5
             }
            },
            "type": "barpolar"
           }
          ],
          "carpet": [
           {
            "aaxis": {
             "endlinecolor": "#2a3f5f",
             "gridcolor": "white",
             "linecolor": "white",
             "minorgridcolor": "white",
             "startlinecolor": "#2a3f5f"
            },
            "baxis": {
             "endlinecolor": "#2a3f5f",
             "gridcolor": "white",
             "linecolor": "white",
             "minorgridcolor": "white",
             "startlinecolor": "#2a3f5f"
            },
            "type": "carpet"
           }
          ],
          "choropleth": [
           {
            "colorbar": {
             "outlinewidth": 0,
             "ticks": ""
            },
            "type": "choropleth"
           }
          ],
          "contour": [
           {
            "colorbar": {
             "outlinewidth": 0,
             "ticks": ""
            },
            "colorscale": [
             [
              0,
              "#0d0887"
             ],
             [
              0.1111111111111111,
              "#46039f"
             ],
             [
              0.2222222222222222,
              "#7201a8"
             ],
             [
              0.3333333333333333,
              "#9c179e"
             ],
             [
              0.4444444444444444,
              "#bd3786"
             ],
             [
              0.5555555555555556,
              "#d8576b"
             ],
             [
              0.6666666666666666,
              "#ed7953"
             ],
             [
              0.7777777777777778,
              "#fb9f3a"
             ],
             [
              0.8888888888888888,
              "#fdca26"
             ],
             [
              1,
              "#f0f921"
             ]
            ],
            "type": "contour"
           }
          ],
          "contourcarpet": [
           {
            "colorbar": {
             "outlinewidth": 0,
             "ticks": ""
            },
            "type": "contourcarpet"
           }
          ],
          "heatmap": [
           {
            "colorbar": {
             "outlinewidth": 0,
             "ticks": ""
            },
            "colorscale": [
             [
              0,
              "#0d0887"
             ],
             [
              0.1111111111111111,
              "#46039f"
             ],
             [
              0.2222222222222222,
              "#7201a8"
             ],
             [
              0.3333333333333333,
              "#9c179e"
             ],
             [
              0.4444444444444444,
              "#bd3786"
             ],
             [
              0.5555555555555556,
              "#d8576b"
             ],
             [
              0.6666666666666666,
              "#ed7953"
             ],
             [
              0.7777777777777778,
              "#fb9f3a"
             ],
             [
              0.8888888888888888,
              "#fdca26"
             ],
             [
              1,
              "#f0f921"
             ]
            ],
            "type": "heatmap"
           }
          ],
          "heatmapgl": [
           {
            "colorbar": {
             "outlinewidth": 0,
             "ticks": ""
            },
            "colorscale": [
             [
              0,
              "#0d0887"
             ],
             [
              0.1111111111111111,
              "#46039f"
             ],
             [
              0.2222222222222222,
              "#7201a8"
             ],
             [
              0.3333333333333333,
              "#9c179e"
             ],
             [
              0.4444444444444444,
              "#bd3786"
             ],
             [
              0.5555555555555556,
              "#d8576b"
             ],
             [
              0.6666666666666666,
              "#ed7953"
             ],
             [
              0.7777777777777778,
              "#fb9f3a"
             ],
             [
              0.8888888888888888,
              "#fdca26"
             ],
             [
              1,
              "#f0f921"
             ]
            ],
            "type": "heatmapgl"
           }
          ],
          "histogram": [
           {
            "marker": {
             "colorbar": {
              "outlinewidth": 0,
              "ticks": ""
             }
            },
            "type": "histogram"
           }
          ],
          "histogram2d": [
           {
            "colorbar": {
             "outlinewidth": 0,
             "ticks": ""
            },
            "colorscale": [
             [
              0,
              "#0d0887"
             ],
             [
              0.1111111111111111,
              "#46039f"
             ],
             [
              0.2222222222222222,
              "#7201a8"
             ],
             [
              0.3333333333333333,
              "#9c179e"
             ],
             [
              0.4444444444444444,
              "#bd3786"
             ],
             [
              0.5555555555555556,
              "#d8576b"
             ],
             [
              0.6666666666666666,
              "#ed7953"
             ],
             [
              0.7777777777777778,
              "#fb9f3a"
             ],
             [
              0.8888888888888888,
              "#fdca26"
             ],
             [
              1,
              "#f0f921"
             ]
            ],
            "type": "histogram2d"
           }
          ],
          "histogram2dcontour": [
           {
            "colorbar": {
             "outlinewidth": 0,
             "ticks": ""
            },
            "colorscale": [
             [
              0,
              "#0d0887"
             ],
             [
              0.1111111111111111,
              "#46039f"
             ],
             [
              0.2222222222222222,
              "#7201a8"
             ],
             [
              0.3333333333333333,
              "#9c179e"
             ],
             [
              0.4444444444444444,
              "#bd3786"
             ],
             [
              0.5555555555555556,
              "#d8576b"
             ],
             [
              0.6666666666666666,
              "#ed7953"
             ],
             [
              0.7777777777777778,
              "#fb9f3a"
             ],
             [
              0.8888888888888888,
              "#fdca26"
             ],
             [
              1,
              "#f0f921"
             ]
            ],
            "type": "histogram2dcontour"
           }
          ],
          "mesh3d": [
           {
            "colorbar": {
             "outlinewidth": 0,
             "ticks": ""
            },
            "type": "mesh3d"
           }
          ],
          "parcoords": [
           {
            "line": {
             "colorbar": {
              "outlinewidth": 0,
              "ticks": ""
             }
            },
            "type": "parcoords"
           }
          ],
          "pie": [
           {
            "automargin": true,
            "type": "pie"
           }
          ],
          "scatter": [
           {
            "marker": {
             "colorbar": {
              "outlinewidth": 0,
              "ticks": ""
             }
            },
            "type": "scatter"
           }
          ],
          "scatter3d": [
           {
            "line": {
             "colorbar": {
              "outlinewidth": 0,
              "ticks": ""
             }
            },
            "marker": {
             "colorbar": {
              "outlinewidth": 0,
              "ticks": ""
             }
            },
            "type": "scatter3d"
           }
          ],
          "scattercarpet": [
           {
            "marker": {
             "colorbar": {
              "outlinewidth": 0,
              "ticks": ""
             }
            },
            "type": "scattercarpet"
           }
          ],
          "scattergeo": [
           {
            "marker": {
             "colorbar": {
              "outlinewidth": 0,
              "ticks": ""
             }
            },
            "type": "scattergeo"
           }
          ],
          "scattergl": [
           {
            "marker": {
             "colorbar": {
              "outlinewidth": 0,
              "ticks": ""
             }
            },
            "type": "scattergl"
           }
          ],
          "scattermapbox": [
           {
            "marker": {
             "colorbar": {
              "outlinewidth": 0,
              "ticks": ""
             }
            },
            "type": "scattermapbox"
           }
          ],
          "scatterpolar": [
           {
            "marker": {
             "colorbar": {
              "outlinewidth": 0,
              "ticks": ""
             }
            },
            "type": "scatterpolar"
           }
          ],
          "scatterpolargl": [
           {
            "marker": {
             "colorbar": {
              "outlinewidth": 0,
              "ticks": ""
             }
            },
            "type": "scatterpolargl"
           }
          ],
          "scatterternary": [
           {
            "marker": {
             "colorbar": {
              "outlinewidth": 0,
              "ticks": ""
             }
            },
            "type": "scatterternary"
           }
          ],
          "surface": [
           {
            "colorbar": {
             "outlinewidth": 0,
             "ticks": ""
            },
            "colorscale": [
             [
              0,
              "#0d0887"
             ],
             [
              0.1111111111111111,
              "#46039f"
             ],
             [
              0.2222222222222222,
              "#7201a8"
             ],
             [
              0.3333333333333333,
              "#9c179e"
             ],
             [
              0.4444444444444444,
              "#bd3786"
             ],
             [
              0.5555555555555556,
              "#d8576b"
             ],
             [
              0.6666666666666666,
              "#ed7953"
             ],
             [
              0.7777777777777778,
              "#fb9f3a"
             ],
             [
              0.8888888888888888,
              "#fdca26"
             ],
             [
              1,
              "#f0f921"
             ]
            ],
            "type": "surface"
           }
          ],
          "table": [
           {
            "cells": {
             "fill": {
              "color": "#EBF0F8"
             },
             "line": {
              "color": "white"
             }
            },
            "header": {
             "fill": {
              "color": "#C8D4E3"
             },
             "line": {
              "color": "white"
             }
            },
            "type": "table"
           }
          ]
         },
         "layout": {
          "annotationdefaults": {
           "arrowcolor": "#2a3f5f",
           "arrowhead": 0,
           "arrowwidth": 1
          },
          "autotypenumbers": "strict",
          "coloraxis": {
           "colorbar": {
            "outlinewidth": 0,
            "ticks": ""
           }
          },
          "colorscale": {
           "diverging": [
            [
             0,
             "#8e0152"
            ],
            [
             0.1,
             "#c51b7d"
            ],
            [
             0.2,
             "#de77ae"
            ],
            [
             0.3,
             "#f1b6da"
            ],
            [
             0.4,
             "#fde0ef"
            ],
            [
             0.5,
             "#f7f7f7"
            ],
            [
             0.6,
             "#e6f5d0"
            ],
            [
             0.7,
             "#b8e186"
            ],
            [
             0.8,
             "#7fbc41"
            ],
            [
             0.9,
             "#4d9221"
            ],
            [
             1,
             "#276419"
            ]
           ],
           "sequential": [
            [
             0,
             "#0d0887"
            ],
            [
             0.1111111111111111,
             "#46039f"
            ],
            [
             0.2222222222222222,
             "#7201a8"
            ],
            [
             0.3333333333333333,
             "#9c179e"
            ],
            [
             0.4444444444444444,
             "#bd3786"
            ],
            [
             0.5555555555555556,
             "#d8576b"
            ],
            [
             0.6666666666666666,
             "#ed7953"
            ],
            [
             0.7777777777777778,
             "#fb9f3a"
            ],
            [
             0.8888888888888888,
             "#fdca26"
            ],
            [
             1,
             "#f0f921"
            ]
           ],
           "sequentialminus": [
            [
             0,
             "#0d0887"
            ],
            [
             0.1111111111111111,
             "#46039f"
            ],
            [
             0.2222222222222222,
             "#7201a8"
            ],
            [
             0.3333333333333333,
             "#9c179e"
            ],
            [
             0.4444444444444444,
             "#bd3786"
            ],
            [
             0.5555555555555556,
             "#d8576b"
            ],
            [
             0.6666666666666666,
             "#ed7953"
            ],
            [
             0.7777777777777778,
             "#fb9f3a"
            ],
            [
             0.8888888888888888,
             "#fdca26"
            ],
            [
             1,
             "#f0f921"
            ]
           ]
          },
          "colorway": [
           "#636efa",
           "#EF553B",
           "#00cc96",
           "#ab63fa",
           "#FFA15A",
           "#19d3f3",
           "#FF6692",
           "#B6E880",
           "#FF97FF",
           "#FECB52"
          ],
          "font": {
           "color": "#2a3f5f"
          },
          "geo": {
           "bgcolor": "white",
           "lakecolor": "white",
           "landcolor": "#E5ECF6",
           "showlakes": true,
           "showland": true,
           "subunitcolor": "white"
          },
          "hoverlabel": {
           "align": "left"
          },
          "hovermode": "closest",
          "mapbox": {
           "style": "light"
          },
          "paper_bgcolor": "white",
          "plot_bgcolor": "#E5ECF6",
          "polar": {
           "angularaxis": {
            "gridcolor": "white",
            "linecolor": "white",
            "ticks": ""
           },
           "bgcolor": "#E5ECF6",
           "radialaxis": {
            "gridcolor": "white",
            "linecolor": "white",
            "ticks": ""
           }
          },
          "scene": {
           "xaxis": {
            "backgroundcolor": "#E5ECF6",
            "gridcolor": "white",
            "gridwidth": 2,
            "linecolor": "white",
            "showbackground": true,
            "ticks": "",
            "zerolinecolor": "white"
           },
           "yaxis": {
            "backgroundcolor": "#E5ECF6",
            "gridcolor": "white",
            "gridwidth": 2,
            "linecolor": "white",
            "showbackground": true,
            "ticks": "",
            "zerolinecolor": "white"
           },
           "zaxis": {
            "backgroundcolor": "#E5ECF6",
            "gridcolor": "white",
            "gridwidth": 2,
            "linecolor": "white",
            "showbackground": true,
            "ticks": "",
            "zerolinecolor": "white"
           }
          },
          "shapedefaults": {
           "line": {
            "color": "#2a3f5f"
           }
          },
          "ternary": {
           "aaxis": {
            "gridcolor": "white",
            "linecolor": "white",
            "ticks": ""
           },
           "baxis": {
            "gridcolor": "white",
            "linecolor": "white",
            "ticks": ""
           },
           "bgcolor": "#E5ECF6",
           "caxis": {
            "gridcolor": "white",
            "linecolor": "white",
            "ticks": ""
           }
          },
          "title": {
           "x": 0.05
          },
          "xaxis": {
           "automargin": true,
           "gridcolor": "white",
           "linecolor": "white",
           "ticks": "",
           "title": {
            "standoff": 15
           },
           "zerolinecolor": "white",
           "zerolinewidth": 2
          },
          "yaxis": {
           "automargin": true,
           "gridcolor": "white",
           "linecolor": "white",
           "ticks": "",
           "title": {
            "standoff": 15
           },
           "zerolinecolor": "white",
           "zerolinewidth": 2
          }
         }
        },
        "title": {
         "font": {
          "color": "#4D5663"
         },
         "text": "Quantity per invoice in Netherlands"
        },
        "xaxis": {
         "gridcolor": "#E1E5ED",
         "showgrid": true,
         "tickfont": {
          "color": "#4D5663"
         },
         "title": {
          "font": {
           "color": "#4D5663"
          },
          "text": ""
         },
         "zerolinecolor": "#E1E5ED"
        },
        "yaxis": {
         "gridcolor": "#E1E5ED",
         "showgrid": true,
         "tickfont": {
          "color": "#4D5663"
         },
         "title": {
          "font": {
           "color": "#4D5663"
          },
          "text": ""
         },
         "zerolinecolor": "#E1E5ED"
        }
       }
      },
      "text/html": [
       "<div>                            <div id=\"af8162a3-f37a-4f23-82c7-f23893246cf5\" class=\"plotly-graph-div\" style=\"height:525px; width:100%;\"></div>            <script type=\"text/javascript\">                require([\"plotly\"], function(Plotly) {                    window.PLOTLYENV=window.PLOTLYENV || {};\n",
       "                    window.PLOTLYENV.BASE_URL='https://plot.ly';                                    if (document.getElementById(\"af8162a3-f37a-4f23-82c7-f23893246cf5\")) {                    Plotly.newPlot(                        \"af8162a3-f37a-4f23-82c7-f23893246cf5\",                        [{\"histfunc\": \"count\", \"histnorm\": \"\", \"marker\": {\"color\": \"rgba(255, 153, 51, 1.0)\", \"line\": {\"color\": \"#4D5663\", \"width\": 1.3}}, \"nbinsx\": 20, \"opacity\": 0.8, \"orientation\": \"v\", \"type\": \"histogram\", \"x\": [224, 215, 182, 167, 162, 158, 151, 150, 75, 70, 56, 50, 49, 48, 45, 44, 41, 39, 38, 37, 32, 29, 28, 24, 23, 19, 17, 15, 14, 14, 9, 9, 9, 8, 8, 8, 8, 7, 5, 5, 3, 3, 3, 2, 2, 2, 2, 2, 1, 1, 1, 1, 1, 1, 1, 1, 1, 1, 1]}],                        {\"barmode\": \"overlay\", \"legend\": {\"bgcolor\": \"#F5F6F9\", \"font\": {\"color\": \"#4D5663\"}}, \"paper_bgcolor\": \"#F5F6F9\", \"plot_bgcolor\": \"#F5F6F9\", \"template\": {\"data\": {\"bar\": [{\"error_x\": {\"color\": \"#2a3f5f\"}, \"error_y\": {\"color\": \"#2a3f5f\"}, \"marker\": {\"line\": {\"color\": \"#E5ECF6\", \"width\": 0.5}}, \"type\": \"bar\"}], \"barpolar\": [{\"marker\": {\"line\": {\"color\": \"#E5ECF6\", \"width\": 0.5}}, \"type\": \"barpolar\"}], \"carpet\": [{\"aaxis\": {\"endlinecolor\": \"#2a3f5f\", \"gridcolor\": \"white\", \"linecolor\": \"white\", \"minorgridcolor\": \"white\", \"startlinecolor\": \"#2a3f5f\"}, \"baxis\": {\"endlinecolor\": \"#2a3f5f\", \"gridcolor\": \"white\", \"linecolor\": \"white\", \"minorgridcolor\": \"white\", \"startlinecolor\": \"#2a3f5f\"}, \"type\": \"carpet\"}], \"choropleth\": [{\"colorbar\": {\"outlinewidth\": 0, \"ticks\": \"\"}, \"type\": \"choropleth\"}], \"contour\": [{\"colorbar\": {\"outlinewidth\": 0, \"ticks\": \"\"}, \"colorscale\": [[0.0, \"#0d0887\"], [0.1111111111111111, \"#46039f\"], [0.2222222222222222, \"#7201a8\"], [0.3333333333333333, \"#9c179e\"], [0.4444444444444444, \"#bd3786\"], [0.5555555555555556, \"#d8576b\"], [0.6666666666666666, \"#ed7953\"], [0.7777777777777778, \"#fb9f3a\"], [0.8888888888888888, \"#fdca26\"], [1.0, \"#f0f921\"]], \"type\": \"contour\"}], \"contourcarpet\": [{\"colorbar\": {\"outlinewidth\": 0, \"ticks\": \"\"}, \"type\": \"contourcarpet\"}], \"heatmap\": [{\"colorbar\": {\"outlinewidth\": 0, \"ticks\": \"\"}, \"colorscale\": [[0.0, \"#0d0887\"], [0.1111111111111111, \"#46039f\"], [0.2222222222222222, \"#7201a8\"], [0.3333333333333333, \"#9c179e\"], [0.4444444444444444, \"#bd3786\"], [0.5555555555555556, \"#d8576b\"], [0.6666666666666666, \"#ed7953\"], [0.7777777777777778, \"#fb9f3a\"], [0.8888888888888888, \"#fdca26\"], [1.0, \"#f0f921\"]], \"type\": \"heatmap\"}], \"heatmapgl\": [{\"colorbar\": {\"outlinewidth\": 0, \"ticks\": \"\"}, \"colorscale\": [[0.0, \"#0d0887\"], [0.1111111111111111, \"#46039f\"], [0.2222222222222222, \"#7201a8\"], [0.3333333333333333, \"#9c179e\"], [0.4444444444444444, \"#bd3786\"], [0.5555555555555556, \"#d8576b\"], [0.6666666666666666, \"#ed7953\"], [0.7777777777777778, \"#fb9f3a\"], [0.8888888888888888, \"#fdca26\"], [1.0, \"#f0f921\"]], \"type\": \"heatmapgl\"}], \"histogram\": [{\"marker\": {\"colorbar\": {\"outlinewidth\": 0, \"ticks\": \"\"}}, \"type\": \"histogram\"}], \"histogram2d\": [{\"colorbar\": {\"outlinewidth\": 0, \"ticks\": \"\"}, \"colorscale\": [[0.0, \"#0d0887\"], [0.1111111111111111, \"#46039f\"], [0.2222222222222222, \"#7201a8\"], [0.3333333333333333, \"#9c179e\"], [0.4444444444444444, \"#bd3786\"], [0.5555555555555556, \"#d8576b\"], [0.6666666666666666, \"#ed7953\"], [0.7777777777777778, \"#fb9f3a\"], [0.8888888888888888, \"#fdca26\"], [1.0, \"#f0f921\"]], \"type\": \"histogram2d\"}], \"histogram2dcontour\": [{\"colorbar\": {\"outlinewidth\": 0, \"ticks\": \"\"}, \"colorscale\": [[0.0, \"#0d0887\"], [0.1111111111111111, \"#46039f\"], [0.2222222222222222, \"#7201a8\"], [0.3333333333333333, \"#9c179e\"], [0.4444444444444444, \"#bd3786\"], [0.5555555555555556, \"#d8576b\"], [0.6666666666666666, \"#ed7953\"], [0.7777777777777778, \"#fb9f3a\"], [0.8888888888888888, \"#fdca26\"], [1.0, \"#f0f921\"]], \"type\": \"histogram2dcontour\"}], \"mesh3d\": [{\"colorbar\": {\"outlinewidth\": 0, \"ticks\": \"\"}, \"type\": \"mesh3d\"}], \"parcoords\": [{\"line\": {\"colorbar\": {\"outlinewidth\": 0, \"ticks\": \"\"}}, \"type\": \"parcoords\"}], \"pie\": [{\"automargin\": true, \"type\": \"pie\"}], \"scatter\": [{\"marker\": {\"colorbar\": {\"outlinewidth\": 0, \"ticks\": \"\"}}, \"type\": \"scatter\"}], \"scatter3d\": [{\"line\": {\"colorbar\": {\"outlinewidth\": 0, \"ticks\": \"\"}}, \"marker\": {\"colorbar\": {\"outlinewidth\": 0, \"ticks\": \"\"}}, \"type\": \"scatter3d\"}], \"scattercarpet\": [{\"marker\": {\"colorbar\": {\"outlinewidth\": 0, \"ticks\": \"\"}}, \"type\": \"scattercarpet\"}], \"scattergeo\": [{\"marker\": {\"colorbar\": {\"outlinewidth\": 0, \"ticks\": \"\"}}, \"type\": \"scattergeo\"}], \"scattergl\": [{\"marker\": {\"colorbar\": {\"outlinewidth\": 0, \"ticks\": \"\"}}, \"type\": \"scattergl\"}], \"scattermapbox\": [{\"marker\": {\"colorbar\": {\"outlinewidth\": 0, \"ticks\": \"\"}}, \"type\": \"scattermapbox\"}], \"scatterpolar\": [{\"marker\": {\"colorbar\": {\"outlinewidth\": 0, \"ticks\": \"\"}}, \"type\": \"scatterpolar\"}], \"scatterpolargl\": [{\"marker\": {\"colorbar\": {\"outlinewidth\": 0, \"ticks\": \"\"}}, \"type\": \"scatterpolargl\"}], \"scatterternary\": [{\"marker\": {\"colorbar\": {\"outlinewidth\": 0, \"ticks\": \"\"}}, \"type\": \"scatterternary\"}], \"surface\": [{\"colorbar\": {\"outlinewidth\": 0, \"ticks\": \"\"}, \"colorscale\": [[0.0, \"#0d0887\"], [0.1111111111111111, \"#46039f\"], [0.2222222222222222, \"#7201a8\"], [0.3333333333333333, \"#9c179e\"], [0.4444444444444444, \"#bd3786\"], [0.5555555555555556, \"#d8576b\"], [0.6666666666666666, \"#ed7953\"], [0.7777777777777778, \"#fb9f3a\"], [0.8888888888888888, \"#fdca26\"], [1.0, \"#f0f921\"]], \"type\": \"surface\"}], \"table\": [{\"cells\": {\"fill\": {\"color\": \"#EBF0F8\"}, \"line\": {\"color\": \"white\"}}, \"header\": {\"fill\": {\"color\": \"#C8D4E3\"}, \"line\": {\"color\": \"white\"}}, \"type\": \"table\"}]}, \"layout\": {\"annotationdefaults\": {\"arrowcolor\": \"#2a3f5f\", \"arrowhead\": 0, \"arrowwidth\": 1}, \"autotypenumbers\": \"strict\", \"coloraxis\": {\"colorbar\": {\"outlinewidth\": 0, \"ticks\": \"\"}}, \"colorscale\": {\"diverging\": [[0, \"#8e0152\"], [0.1, \"#c51b7d\"], [0.2, \"#de77ae\"], [0.3, \"#f1b6da\"], [0.4, \"#fde0ef\"], [0.5, \"#f7f7f7\"], [0.6, \"#e6f5d0\"], [0.7, \"#b8e186\"], [0.8, \"#7fbc41\"], [0.9, \"#4d9221\"], [1, \"#276419\"]], \"sequential\": [[0.0, \"#0d0887\"], [0.1111111111111111, \"#46039f\"], [0.2222222222222222, \"#7201a8\"], [0.3333333333333333, \"#9c179e\"], [0.4444444444444444, \"#bd3786\"], [0.5555555555555556, \"#d8576b\"], [0.6666666666666666, \"#ed7953\"], [0.7777777777777778, \"#fb9f3a\"], [0.8888888888888888, \"#fdca26\"], [1.0, \"#f0f921\"]], \"sequentialminus\": [[0.0, \"#0d0887\"], [0.1111111111111111, \"#46039f\"], [0.2222222222222222, \"#7201a8\"], [0.3333333333333333, \"#9c179e\"], [0.4444444444444444, \"#bd3786\"], [0.5555555555555556, \"#d8576b\"], [0.6666666666666666, \"#ed7953\"], [0.7777777777777778, \"#fb9f3a\"], [0.8888888888888888, \"#fdca26\"], [1.0, \"#f0f921\"]]}, \"colorway\": [\"#636efa\", \"#EF553B\", \"#00cc96\", \"#ab63fa\", \"#FFA15A\", \"#19d3f3\", \"#FF6692\", \"#B6E880\", \"#FF97FF\", \"#FECB52\"], \"font\": {\"color\": \"#2a3f5f\"}, \"geo\": {\"bgcolor\": \"white\", \"lakecolor\": \"white\", \"landcolor\": \"#E5ECF6\", \"showlakes\": true, \"showland\": true, \"subunitcolor\": \"white\"}, \"hoverlabel\": {\"align\": \"left\"}, \"hovermode\": \"closest\", \"mapbox\": {\"style\": \"light\"}, \"paper_bgcolor\": \"white\", \"plot_bgcolor\": \"#E5ECF6\", \"polar\": {\"angularaxis\": {\"gridcolor\": \"white\", \"linecolor\": \"white\", \"ticks\": \"\"}, \"bgcolor\": \"#E5ECF6\", \"radialaxis\": {\"gridcolor\": \"white\", \"linecolor\": \"white\", \"ticks\": \"\"}}, \"scene\": {\"xaxis\": {\"backgroundcolor\": \"#E5ECF6\", \"gridcolor\": \"white\", \"gridwidth\": 2, \"linecolor\": \"white\", \"showbackground\": true, \"ticks\": \"\", \"zerolinecolor\": \"white\"}, \"yaxis\": {\"backgroundcolor\": \"#E5ECF6\", \"gridcolor\": \"white\", \"gridwidth\": 2, \"linecolor\": \"white\", \"showbackground\": true, \"ticks\": \"\", \"zerolinecolor\": \"white\"}, \"zaxis\": {\"backgroundcolor\": \"#E5ECF6\", \"gridcolor\": \"white\", \"gridwidth\": 2, \"linecolor\": \"white\", \"showbackground\": true, \"ticks\": \"\", \"zerolinecolor\": \"white\"}}, \"shapedefaults\": {\"line\": {\"color\": \"#2a3f5f\"}}, \"ternary\": {\"aaxis\": {\"gridcolor\": \"white\", \"linecolor\": \"white\", \"ticks\": \"\"}, \"baxis\": {\"gridcolor\": \"white\", \"linecolor\": \"white\", \"ticks\": \"\"}, \"bgcolor\": \"#E5ECF6\", \"caxis\": {\"gridcolor\": \"white\", \"linecolor\": \"white\", \"ticks\": \"\"}}, \"title\": {\"x\": 0.05}, \"xaxis\": {\"automargin\": true, \"gridcolor\": \"white\", \"linecolor\": \"white\", \"ticks\": \"\", \"title\": {\"standoff\": 15}, \"zerolinecolor\": \"white\", \"zerolinewidth\": 2}, \"yaxis\": {\"automargin\": true, \"gridcolor\": \"white\", \"linecolor\": \"white\", \"ticks\": \"\", \"title\": {\"standoff\": 15}, \"zerolinecolor\": \"white\", \"zerolinewidth\": 2}}}, \"title\": {\"font\": {\"color\": \"#4D5663\"}, \"text\": \"Quantity per invoice in Netherlands\"}, \"xaxis\": {\"gridcolor\": \"#E1E5ED\", \"showgrid\": true, \"tickfont\": {\"color\": \"#4D5663\"}, \"title\": {\"font\": {\"color\": \"#4D5663\"}, \"text\": \"\"}, \"zerolinecolor\": \"#E1E5ED\"}, \"yaxis\": {\"gridcolor\": \"#E1E5ED\", \"showgrid\": true, \"tickfont\": {\"color\": \"#4D5663\"}, \"title\": {\"font\": {\"color\": \"#4D5663\"}, \"text\": \"\"}, \"zerolinecolor\": \"#E1E5ED\"}},                        {\"showLink\": true, \"linkText\": \"Export to plot.ly\", \"plotlyServerURL\": \"https://plot.ly\", \"responsive\": true}                    ).then(function(){\n",
       "                            \n",
       "var gd = document.getElementById('af8162a3-f37a-4f23-82c7-f23893246cf5');\n",
       "var x = new MutationObserver(function (mutations, observer) {{\n",
       "        var display = window.getComputedStyle(gd).display;\n",
       "        if (!display || display === 'none') {{\n",
       "            console.log([gd, 'removed!']);\n",
       "            Plotly.purge(gd);\n",
       "            observer.disconnect();\n",
       "        }}\n",
       "}});\n",
       "\n",
       "// Listen for the removal of the full notebook cells\n",
       "var notebookContainer = gd.closest('#notebook-container');\n",
       "if (notebookContainer) {{\n",
       "    x.observe(notebookContainer, {childList: true});\n",
       "}}\n",
       "\n",
       "// Listen for the clearing of the current output cell\n",
       "var outputEl = gd.closest('.output');\n",
       "if (outputEl) {{\n",
       "    x.observe(outputEl, {childList: true});\n",
       "}}\n",
       "\n",
       "                        })                };                });            </script>        </div>"
      ]
     },
     "metadata": {},
     "output_type": "display_data"
    }
   ],
   "source": [
    "cou = ['EIRE', 'Germany', 'France', 'Netherlands']\n",
    "for a in cou:\n",
    "    data[data['Country'] == a].value_counts('Quantity').iplot(kind='hist', bins=20, title=f'Quantity per invoice in {a}')"
   ]
  },
  {
   "cell_type": "markdown",
   "metadata": {},
   "source": [
    "## 5. Create an interactive side-by-side bar chart showing the revenue by country listed below (bars) for each of the products listed below."
   ]
  },
  {
   "cell_type": "code",
   "execution_count": 115,
   "metadata": {},
   "outputs": [],
   "source": [
    "product_list = ['JUMBO BAG RED RETROSPOT', \n",
    "                'CREAM HANGING HEART T-LIGHT HOLDER',\n",
    "                'REGENCY CAKESTAND 3 TIER']\n",
    "\n",
    "country_list = ['EIRE', 'Germany', 'France', 'Netherlands']"
   ]
  },
  {
   "cell_type": "code",
   "execution_count": 161,
   "metadata": {},
   "outputs": [
    {
     "data": {
      "text/html": [
       "<div>\n",
       "<style scoped>\n",
       "    .dataframe tbody tr th:only-of-type {\n",
       "        vertical-align: middle;\n",
       "    }\n",
       "\n",
       "    .dataframe tbody tr th {\n",
       "        vertical-align: top;\n",
       "    }\n",
       "\n",
       "    .dataframe thead th {\n",
       "        text-align: right;\n",
       "    }\n",
       "</style>\n",
       "<table border=\"1\" class=\"dataframe\">\n",
       "  <thead>\n",
       "    <tr style=\"text-align: right;\">\n",
       "      <th></th>\n",
       "      <th>Country</th>\n",
       "      <th>Description</th>\n",
       "      <th>Revenue</th>\n",
       "    </tr>\n",
       "  </thead>\n",
       "  <tbody>\n",
       "    <tr>\n",
       "      <th>0</th>\n",
       "      <td>Australia</td>\n",
       "      <td>DOLLY GIRL BEAKER</td>\n",
       "      <td>216.0</td>\n",
       "    </tr>\n",
       "    <tr>\n",
       "      <th>1</th>\n",
       "      <td>Australia</td>\n",
       "      <td>I LOVE LONDON MINI BACKPACK</td>\n",
       "      <td>16.6</td>\n",
       "    </tr>\n",
       "    <tr>\n",
       "      <th>2</th>\n",
       "      <td>Australia</td>\n",
       "      <td>TOADSTOOL BEDSIDE LIGHT</td>\n",
       "      <td>17.9</td>\n",
       "    </tr>\n",
       "    <tr>\n",
       "      <th>3</th>\n",
       "      <td>Australia</td>\n",
       "      <td>10 COLOUR SPACEBOY PEN</td>\n",
       "      <td>40.8</td>\n",
       "    </tr>\n",
       "    <tr>\n",
       "      <th>4</th>\n",
       "      <td>Australia</td>\n",
       "      <td>12 PENCIL SMALL TUBE WOODLAND</td>\n",
       "      <td>211.2</td>\n",
       "    </tr>\n",
       "  </tbody>\n",
       "</table>\n",
       "</div>"
      ],
      "text/plain": [
       "     Country                    Description  Revenue\n",
       "0  Australia              DOLLY GIRL BEAKER    216.0\n",
       "1  Australia    I LOVE LONDON MINI BACKPACK     16.6\n",
       "2  Australia       TOADSTOOL BEDSIDE LIGHT      17.9\n",
       "3  Australia         10 COLOUR SPACEBOY PEN     40.8\n",
       "4  Australia  12 PENCIL SMALL TUBE WOODLAND    211.2"
      ]
     },
     "execution_count": 161,
     "metadata": {},
     "output_type": "execute_result"
    }
   ],
   "source": [
    "# Primero hacemos el groupby()\n",
    "\n",
    "df5 = data[['Country', 'Description', 'Revenue']].groupby(['Country', 'Description']).sum().reset_index()\n",
    "df5.head()"
   ]
  },
  {
   "cell_type": "code",
   "execution_count": 169,
   "metadata": {},
   "outputs": [
    {
     "data": {
      "text/html": [
       "<div>\n",
       "<style scoped>\n",
       "    .dataframe tbody tr th:only-of-type {\n",
       "        vertical-align: middle;\n",
       "    }\n",
       "\n",
       "    .dataframe tbody tr th {\n",
       "        vertical-align: top;\n",
       "    }\n",
       "\n",
       "    .dataframe thead th {\n",
       "        text-align: right;\n",
       "    }\n",
       "</style>\n",
       "<table border=\"1\" class=\"dataframe\">\n",
       "  <thead>\n",
       "    <tr style=\"text-align: right;\">\n",
       "      <th></th>\n",
       "      <th>Country</th>\n",
       "      <th>Description</th>\n",
       "      <th>Revenue</th>\n",
       "    </tr>\n",
       "  </thead>\n",
       "  <tbody>\n",
       "    <tr>\n",
       "      <th>3511</th>\n",
       "      <td>EIRE</td>\n",
       "      <td>CREAM HANGING HEART T-LIGHT HOLDER</td>\n",
       "      <td>2740.80</td>\n",
       "    </tr>\n",
       "    <tr>\n",
       "      <th>3989</th>\n",
       "      <td>EIRE</td>\n",
       "      <td>JUMBO BAG RED RETROSPOT</td>\n",
       "      <td>278.72</td>\n",
       "    </tr>\n",
       "    <tr>\n",
       "      <th>4461</th>\n",
       "      <td>EIRE</td>\n",
       "      <td>REGENCY CAKESTAND 3 TIER</td>\n",
       "      <td>7388.55</td>\n",
       "    </tr>\n",
       "    <tr>\n",
       "      <th>5803</th>\n",
       "      <td>France</td>\n",
       "      <td>CREAM HANGING HEART T-LIGHT HOLDER</td>\n",
       "      <td>131.75</td>\n",
       "    </tr>\n",
       "    <tr>\n",
       "      <th>6101</th>\n",
       "      <td>France</td>\n",
       "      <td>JUMBO BAG RED RETROSPOT</td>\n",
       "      <td>903.37</td>\n",
       "    </tr>\n",
       "    <tr>\n",
       "      <th>6517</th>\n",
       "      <td>France</td>\n",
       "      <td>REGENCY CAKESTAND 3 TIER</td>\n",
       "      <td>2816.85</td>\n",
       "    </tr>\n",
       "    <tr>\n",
       "      <th>7359</th>\n",
       "      <td>Germany</td>\n",
       "      <td>CREAM HANGING HEART T-LIGHT HOLDER</td>\n",
       "      <td>35.40</td>\n",
       "    </tr>\n",
       "    <tr>\n",
       "      <th>7716</th>\n",
       "      <td>Germany</td>\n",
       "      <td>JUMBO BAG RED RETROSPOT</td>\n",
       "      <td>1072.76</td>\n",
       "    </tr>\n",
       "    <tr>\n",
       "      <th>8151</th>\n",
       "      <td>Germany</td>\n",
       "      <td>REGENCY CAKESTAND 3 TIER</td>\n",
       "      <td>9061.95</td>\n",
       "    </tr>\n",
       "    <tr>\n",
       "      <th>10124</th>\n",
       "      <td>Netherlands</td>\n",
       "      <td>CREAM HANGING HEART T-LIGHT HOLDER</td>\n",
       "      <td>1167.00</td>\n",
       "    </tr>\n",
       "    <tr>\n",
       "      <th>10291</th>\n",
       "      <td>Netherlands</td>\n",
       "      <td>JUMBO BAG RED RETROSPOT</td>\n",
       "      <td>3468.00</td>\n",
       "    </tr>\n",
       "    <tr>\n",
       "      <th>10513</th>\n",
       "      <td>Netherlands</td>\n",
       "      <td>REGENCY CAKESTAND 3 TIER</td>\n",
       "      <td>3166.35</td>\n",
       "    </tr>\n",
       "  </tbody>\n",
       "</table>\n",
       "</div>"
      ],
      "text/plain": [
       "           Country                         Description  Revenue\n",
       "3511          EIRE  CREAM HANGING HEART T-LIGHT HOLDER  2740.80\n",
       "3989          EIRE             JUMBO BAG RED RETROSPOT   278.72\n",
       "4461          EIRE            REGENCY CAKESTAND 3 TIER  7388.55\n",
       "5803        France  CREAM HANGING HEART T-LIGHT HOLDER   131.75\n",
       "6101        France             JUMBO BAG RED RETROSPOT   903.37\n",
       "6517        France            REGENCY CAKESTAND 3 TIER  2816.85\n",
       "7359       Germany  CREAM HANGING HEART T-LIGHT HOLDER    35.40\n",
       "7716       Germany             JUMBO BAG RED RETROSPOT  1072.76\n",
       "8151       Germany            REGENCY CAKESTAND 3 TIER  9061.95\n",
       "10124  Netherlands  CREAM HANGING HEART T-LIGHT HOLDER  1167.00\n",
       "10291  Netherlands             JUMBO BAG RED RETROSPOT  3468.00\n",
       "10513  Netherlands            REGENCY CAKESTAND 3 TIER  3166.35"
      ]
     },
     "execution_count": 169,
     "metadata": {},
     "output_type": "execute_result"
    }
   ],
   "source": [
    "# Ahora sacamos la info que queremos mostrar\n",
    "\n",
    "df51 = df5[df5['Country'].isin(country_list) & df5['Description'].isin(product_list)]\n",
    "df51"
   ]
  },
  {
   "cell_type": "code",
   "execution_count": 187,
   "metadata": {},
   "outputs": [
    {
     "data": {
      "text/html": [
       "<div>\n",
       "<style scoped>\n",
       "    .dataframe tbody tr th:only-of-type {\n",
       "        vertical-align: middle;\n",
       "    }\n",
       "\n",
       "    .dataframe tbody tr th {\n",
       "        vertical-align: top;\n",
       "    }\n",
       "\n",
       "    .dataframe thead th {\n",
       "        text-align: right;\n",
       "    }\n",
       "</style>\n",
       "<table border=\"1\" class=\"dataframe\">\n",
       "  <thead>\n",
       "    <tr style=\"text-align: right;\">\n",
       "      <th>Description</th>\n",
       "      <th>CREAM HANGING HEART T-LIGHT HOLDER</th>\n",
       "      <th>JUMBO BAG RED RETROSPOT</th>\n",
       "      <th>REGENCY CAKESTAND 3 TIER</th>\n",
       "    </tr>\n",
       "    <tr>\n",
       "      <th>Country</th>\n",
       "      <th></th>\n",
       "      <th></th>\n",
       "      <th></th>\n",
       "    </tr>\n",
       "  </thead>\n",
       "  <tbody>\n",
       "    <tr>\n",
       "      <th>EIRE</th>\n",
       "      <td>2740.80</td>\n",
       "      <td>278.72</td>\n",
       "      <td>7388.55</td>\n",
       "    </tr>\n",
       "    <tr>\n",
       "      <th>France</th>\n",
       "      <td>131.75</td>\n",
       "      <td>903.37</td>\n",
       "      <td>2816.85</td>\n",
       "    </tr>\n",
       "    <tr>\n",
       "      <th>Germany</th>\n",
       "      <td>35.40</td>\n",
       "      <td>1072.76</td>\n",
       "      <td>9061.95</td>\n",
       "    </tr>\n",
       "    <tr>\n",
       "      <th>Netherlands</th>\n",
       "      <td>1167.00</td>\n",
       "      <td>3468.00</td>\n",
       "      <td>3166.35</td>\n",
       "    </tr>\n",
       "  </tbody>\n",
       "</table>\n",
       "</div>"
      ],
      "text/plain": [
       "Description  CREAM HANGING HEART T-LIGHT HOLDER  JUMBO BAG RED RETROSPOT  \\\n",
       "Country                                                                    \n",
       "EIRE                                    2740.80                   278.72   \n",
       "France                                   131.75                   903.37   \n",
       "Germany                                   35.40                  1072.76   \n",
       "Netherlands                             1167.00                  3468.00   \n",
       "\n",
       "Description  REGENCY CAKESTAND 3 TIER  \n",
       "Country                                \n",
       "EIRE                          7388.55  \n",
       "France                        2816.85  \n",
       "Germany                       9061.95  \n",
       "Netherlands                   3166.35  "
      ]
     },
     "execution_count": 187,
     "metadata": {},
     "output_type": "execute_result"
    }
   ],
   "source": [
    "# Hacemos pivot_table para que esté en el formato adecuado para un side by side bar plot en iplot\n",
    "\n",
    "df51.pivot_table(index='Country', columns='Description', values='Revenue')"
   ]
  },
  {
   "cell_type": "code",
   "execution_count": 188,
   "metadata": {
    "scrolled": false
   },
   "outputs": [
    {
     "data": {
      "application/vnd.plotly.v1+json": {
       "config": {
        "linkText": "Export to plot.ly",
        "plotlyServerURL": "https://plot.ly",
        "showLink": true
       },
       "data": [
        {
         "marker": {
          "color": "rgba(255, 153, 51, 0.6)",
          "line": {
           "color": "rgba(255, 153, 51, 1.0)",
           "width": 1
          }
         },
         "name": "CREAM HANGING HEART T-LIGHT HOLDER",
         "orientation": "v",
         "text": "",
         "type": "bar",
         "x": [
          "EIRE",
          "France",
          "Germany",
          "Netherlands"
         ],
         "y": [
          2740.8,
          131.75,
          35.40000000000001,
          1167
         ]
        },
        {
         "marker": {
          "color": "rgba(55, 128, 191, 0.6)",
          "line": {
           "color": "rgba(55, 128, 191, 1.0)",
           "width": 1
          }
         },
         "name": "JUMBO BAG RED RETROSPOT",
         "orientation": "v",
         "text": "",
         "type": "bar",
         "x": [
          "EIRE",
          "France",
          "Germany",
          "Netherlands"
         ],
         "y": [
          278.72,
          903.3699999999998,
          1072.7599999999998,
          3468
         ]
        },
        {
         "marker": {
          "color": "rgba(50, 171, 96, 0.6)",
          "line": {
           "color": "rgba(50, 171, 96, 1.0)",
           "width": 1
          }
         },
         "name": "REGENCY CAKESTAND 3 TIER",
         "orientation": "v",
         "text": "",
         "type": "bar",
         "x": [
          "EIRE",
          "France",
          "Germany",
          "Netherlands"
         ],
         "y": [
          7388.5499999999965,
          2816.85,
          9061.949999999997,
          3166.35
         ]
        }
       ],
       "layout": {
        "legend": {
         "bgcolor": "#F5F6F9",
         "font": {
          "color": "#4D5663"
         }
        },
        "paper_bgcolor": "#F5F6F9",
        "plot_bgcolor": "#F5F6F9",
        "template": {
         "data": {
          "bar": [
           {
            "error_x": {
             "color": "#2a3f5f"
            },
            "error_y": {
             "color": "#2a3f5f"
            },
            "marker": {
             "line": {
              "color": "#E5ECF6",
              "width": 0.5
             }
            },
            "type": "bar"
           }
          ],
          "barpolar": [
           {
            "marker": {
             "line": {
              "color": "#E5ECF6",
              "width": 0.5
             }
            },
            "type": "barpolar"
           }
          ],
          "carpet": [
           {
            "aaxis": {
             "endlinecolor": "#2a3f5f",
             "gridcolor": "white",
             "linecolor": "white",
             "minorgridcolor": "white",
             "startlinecolor": "#2a3f5f"
            },
            "baxis": {
             "endlinecolor": "#2a3f5f",
             "gridcolor": "white",
             "linecolor": "white",
             "minorgridcolor": "white",
             "startlinecolor": "#2a3f5f"
            },
            "type": "carpet"
           }
          ],
          "choropleth": [
           {
            "colorbar": {
             "outlinewidth": 0,
             "ticks": ""
            },
            "type": "choropleth"
           }
          ],
          "contour": [
           {
            "colorbar": {
             "outlinewidth": 0,
             "ticks": ""
            },
            "colorscale": [
             [
              0,
              "#0d0887"
             ],
             [
              0.1111111111111111,
              "#46039f"
             ],
             [
              0.2222222222222222,
              "#7201a8"
             ],
             [
              0.3333333333333333,
              "#9c179e"
             ],
             [
              0.4444444444444444,
              "#bd3786"
             ],
             [
              0.5555555555555556,
              "#d8576b"
             ],
             [
              0.6666666666666666,
              "#ed7953"
             ],
             [
              0.7777777777777778,
              "#fb9f3a"
             ],
             [
              0.8888888888888888,
              "#fdca26"
             ],
             [
              1,
              "#f0f921"
             ]
            ],
            "type": "contour"
           }
          ],
          "contourcarpet": [
           {
            "colorbar": {
             "outlinewidth": 0,
             "ticks": ""
            },
            "type": "contourcarpet"
           }
          ],
          "heatmap": [
           {
            "colorbar": {
             "outlinewidth": 0,
             "ticks": ""
            },
            "colorscale": [
             [
              0,
              "#0d0887"
             ],
             [
              0.1111111111111111,
              "#46039f"
             ],
             [
              0.2222222222222222,
              "#7201a8"
             ],
             [
              0.3333333333333333,
              "#9c179e"
             ],
             [
              0.4444444444444444,
              "#bd3786"
             ],
             [
              0.5555555555555556,
              "#d8576b"
             ],
             [
              0.6666666666666666,
              "#ed7953"
             ],
             [
              0.7777777777777778,
              "#fb9f3a"
             ],
             [
              0.8888888888888888,
              "#fdca26"
             ],
             [
              1,
              "#f0f921"
             ]
            ],
            "type": "heatmap"
           }
          ],
          "heatmapgl": [
           {
            "colorbar": {
             "outlinewidth": 0,
             "ticks": ""
            },
            "colorscale": [
             [
              0,
              "#0d0887"
             ],
             [
              0.1111111111111111,
              "#46039f"
             ],
             [
              0.2222222222222222,
              "#7201a8"
             ],
             [
              0.3333333333333333,
              "#9c179e"
             ],
             [
              0.4444444444444444,
              "#bd3786"
             ],
             [
              0.5555555555555556,
              "#d8576b"
             ],
             [
              0.6666666666666666,
              "#ed7953"
             ],
             [
              0.7777777777777778,
              "#fb9f3a"
             ],
             [
              0.8888888888888888,
              "#fdca26"
             ],
             [
              1,
              "#f0f921"
             ]
            ],
            "type": "heatmapgl"
           }
          ],
          "histogram": [
           {
            "marker": {
             "colorbar": {
              "outlinewidth": 0,
              "ticks": ""
             }
            },
            "type": "histogram"
           }
          ],
          "histogram2d": [
           {
            "colorbar": {
             "outlinewidth": 0,
             "ticks": ""
            },
            "colorscale": [
             [
              0,
              "#0d0887"
             ],
             [
              0.1111111111111111,
              "#46039f"
             ],
             [
              0.2222222222222222,
              "#7201a8"
             ],
             [
              0.3333333333333333,
              "#9c179e"
             ],
             [
              0.4444444444444444,
              "#bd3786"
             ],
             [
              0.5555555555555556,
              "#d8576b"
             ],
             [
              0.6666666666666666,
              "#ed7953"
             ],
             [
              0.7777777777777778,
              "#fb9f3a"
             ],
             [
              0.8888888888888888,
              "#fdca26"
             ],
             [
              1,
              "#f0f921"
             ]
            ],
            "type": "histogram2d"
           }
          ],
          "histogram2dcontour": [
           {
            "colorbar": {
             "outlinewidth": 0,
             "ticks": ""
            },
            "colorscale": [
             [
              0,
              "#0d0887"
             ],
             [
              0.1111111111111111,
              "#46039f"
             ],
             [
              0.2222222222222222,
              "#7201a8"
             ],
             [
              0.3333333333333333,
              "#9c179e"
             ],
             [
              0.4444444444444444,
              "#bd3786"
             ],
             [
              0.5555555555555556,
              "#d8576b"
             ],
             [
              0.6666666666666666,
              "#ed7953"
             ],
             [
              0.7777777777777778,
              "#fb9f3a"
             ],
             [
              0.8888888888888888,
              "#fdca26"
             ],
             [
              1,
              "#f0f921"
             ]
            ],
            "type": "histogram2dcontour"
           }
          ],
          "mesh3d": [
           {
            "colorbar": {
             "outlinewidth": 0,
             "ticks": ""
            },
            "type": "mesh3d"
           }
          ],
          "parcoords": [
           {
            "line": {
             "colorbar": {
              "outlinewidth": 0,
              "ticks": ""
             }
            },
            "type": "parcoords"
           }
          ],
          "pie": [
           {
            "automargin": true,
            "type": "pie"
           }
          ],
          "scatter": [
           {
            "marker": {
             "colorbar": {
              "outlinewidth": 0,
              "ticks": ""
             }
            },
            "type": "scatter"
           }
          ],
          "scatter3d": [
           {
            "line": {
             "colorbar": {
              "outlinewidth": 0,
              "ticks": ""
             }
            },
            "marker": {
             "colorbar": {
              "outlinewidth": 0,
              "ticks": ""
             }
            },
            "type": "scatter3d"
           }
          ],
          "scattercarpet": [
           {
            "marker": {
             "colorbar": {
              "outlinewidth": 0,
              "ticks": ""
             }
            },
            "type": "scattercarpet"
           }
          ],
          "scattergeo": [
           {
            "marker": {
             "colorbar": {
              "outlinewidth": 0,
              "ticks": ""
             }
            },
            "type": "scattergeo"
           }
          ],
          "scattergl": [
           {
            "marker": {
             "colorbar": {
              "outlinewidth": 0,
              "ticks": ""
             }
            },
            "type": "scattergl"
           }
          ],
          "scattermapbox": [
           {
            "marker": {
             "colorbar": {
              "outlinewidth": 0,
              "ticks": ""
             }
            },
            "type": "scattermapbox"
           }
          ],
          "scatterpolar": [
           {
            "marker": {
             "colorbar": {
              "outlinewidth": 0,
              "ticks": ""
             }
            },
            "type": "scatterpolar"
           }
          ],
          "scatterpolargl": [
           {
            "marker": {
             "colorbar": {
              "outlinewidth": 0,
              "ticks": ""
             }
            },
            "type": "scatterpolargl"
           }
          ],
          "scatterternary": [
           {
            "marker": {
             "colorbar": {
              "outlinewidth": 0,
              "ticks": ""
             }
            },
            "type": "scatterternary"
           }
          ],
          "surface": [
           {
            "colorbar": {
             "outlinewidth": 0,
             "ticks": ""
            },
            "colorscale": [
             [
              0,
              "#0d0887"
             ],
             [
              0.1111111111111111,
              "#46039f"
             ],
             [
              0.2222222222222222,
              "#7201a8"
             ],
             [
              0.3333333333333333,
              "#9c179e"
             ],
             [
              0.4444444444444444,
              "#bd3786"
             ],
             [
              0.5555555555555556,
              "#d8576b"
             ],
             [
              0.6666666666666666,
              "#ed7953"
             ],
             [
              0.7777777777777778,
              "#fb9f3a"
             ],
             [
              0.8888888888888888,
              "#fdca26"
             ],
             [
              1,
              "#f0f921"
             ]
            ],
            "type": "surface"
           }
          ],
          "table": [
           {
            "cells": {
             "fill": {
              "color": "#EBF0F8"
             },
             "line": {
              "color": "white"
             }
            },
            "header": {
             "fill": {
              "color": "#C8D4E3"
             },
             "line": {
              "color": "white"
             }
            },
            "type": "table"
           }
          ]
         },
         "layout": {
          "annotationdefaults": {
           "arrowcolor": "#2a3f5f",
           "arrowhead": 0,
           "arrowwidth": 1
          },
          "autotypenumbers": "strict",
          "coloraxis": {
           "colorbar": {
            "outlinewidth": 0,
            "ticks": ""
           }
          },
          "colorscale": {
           "diverging": [
            [
             0,
             "#8e0152"
            ],
            [
             0.1,
             "#c51b7d"
            ],
            [
             0.2,
             "#de77ae"
            ],
            [
             0.3,
             "#f1b6da"
            ],
            [
             0.4,
             "#fde0ef"
            ],
            [
             0.5,
             "#f7f7f7"
            ],
            [
             0.6,
             "#e6f5d0"
            ],
            [
             0.7,
             "#b8e186"
            ],
            [
             0.8,
             "#7fbc41"
            ],
            [
             0.9,
             "#4d9221"
            ],
            [
             1,
             "#276419"
            ]
           ],
           "sequential": [
            [
             0,
             "#0d0887"
            ],
            [
             0.1111111111111111,
             "#46039f"
            ],
            [
             0.2222222222222222,
             "#7201a8"
            ],
            [
             0.3333333333333333,
             "#9c179e"
            ],
            [
             0.4444444444444444,
             "#bd3786"
            ],
            [
             0.5555555555555556,
             "#d8576b"
            ],
            [
             0.6666666666666666,
             "#ed7953"
            ],
            [
             0.7777777777777778,
             "#fb9f3a"
            ],
            [
             0.8888888888888888,
             "#fdca26"
            ],
            [
             1,
             "#f0f921"
            ]
           ],
           "sequentialminus": [
            [
             0,
             "#0d0887"
            ],
            [
             0.1111111111111111,
             "#46039f"
            ],
            [
             0.2222222222222222,
             "#7201a8"
            ],
            [
             0.3333333333333333,
             "#9c179e"
            ],
            [
             0.4444444444444444,
             "#bd3786"
            ],
            [
             0.5555555555555556,
             "#d8576b"
            ],
            [
             0.6666666666666666,
             "#ed7953"
            ],
            [
             0.7777777777777778,
             "#fb9f3a"
            ],
            [
             0.8888888888888888,
             "#fdca26"
            ],
            [
             1,
             "#f0f921"
            ]
           ]
          },
          "colorway": [
           "#636efa",
           "#EF553B",
           "#00cc96",
           "#ab63fa",
           "#FFA15A",
           "#19d3f3",
           "#FF6692",
           "#B6E880",
           "#FF97FF",
           "#FECB52"
          ],
          "font": {
           "color": "#2a3f5f"
          },
          "geo": {
           "bgcolor": "white",
           "lakecolor": "white",
           "landcolor": "#E5ECF6",
           "showlakes": true,
           "showland": true,
           "subunitcolor": "white"
          },
          "hoverlabel": {
           "align": "left"
          },
          "hovermode": "closest",
          "mapbox": {
           "style": "light"
          },
          "paper_bgcolor": "white",
          "plot_bgcolor": "#E5ECF6",
          "polar": {
           "angularaxis": {
            "gridcolor": "white",
            "linecolor": "white",
            "ticks": ""
           },
           "bgcolor": "#E5ECF6",
           "radialaxis": {
            "gridcolor": "white",
            "linecolor": "white",
            "ticks": ""
           }
          },
          "scene": {
           "xaxis": {
            "backgroundcolor": "#E5ECF6",
            "gridcolor": "white",
            "gridwidth": 2,
            "linecolor": "white",
            "showbackground": true,
            "ticks": "",
            "zerolinecolor": "white"
           },
           "yaxis": {
            "backgroundcolor": "#E5ECF6",
            "gridcolor": "white",
            "gridwidth": 2,
            "linecolor": "white",
            "showbackground": true,
            "ticks": "",
            "zerolinecolor": "white"
           },
           "zaxis": {
            "backgroundcolor": "#E5ECF6",
            "gridcolor": "white",
            "gridwidth": 2,
            "linecolor": "white",
            "showbackground": true,
            "ticks": "",
            "zerolinecolor": "white"
           }
          },
          "shapedefaults": {
           "line": {
            "color": "#2a3f5f"
           }
          },
          "ternary": {
           "aaxis": {
            "gridcolor": "white",
            "linecolor": "white",
            "ticks": ""
           },
           "baxis": {
            "gridcolor": "white",
            "linecolor": "white",
            "ticks": ""
           },
           "bgcolor": "#E5ECF6",
           "caxis": {
            "gridcolor": "white",
            "linecolor": "white",
            "ticks": ""
           }
          },
          "title": {
           "x": 0.05
          },
          "xaxis": {
           "automargin": true,
           "gridcolor": "white",
           "linecolor": "white",
           "ticks": "",
           "title": {
            "standoff": 15
           },
           "zerolinecolor": "white",
           "zerolinewidth": 2
          },
          "yaxis": {
           "automargin": true,
           "gridcolor": "white",
           "linecolor": "white",
           "ticks": "",
           "title": {
            "standoff": 15
           },
           "zerolinecolor": "white",
           "zerolinewidth": 2
          }
         }
        },
        "title": {
         "font": {
          "color": "#4D5663"
         }
        },
        "xaxis": {
         "gridcolor": "#E1E5ED",
         "showgrid": true,
         "tickfont": {
          "color": "#4D5663"
         },
         "title": {
          "font": {
           "color": "#4D5663"
          },
          "text": ""
         },
         "zerolinecolor": "#E1E5ED"
        },
        "yaxis": {
         "gridcolor": "#E1E5ED",
         "showgrid": true,
         "tickfont": {
          "color": "#4D5663"
         },
         "title": {
          "font": {
           "color": "#4D5663"
          },
          "text": ""
         },
         "zerolinecolor": "#E1E5ED"
        }
       }
      },
      "text/html": [
       "<div>                            <div id=\"684ffcee-eba1-47f9-95cb-1b7f92e55c49\" class=\"plotly-graph-div\" style=\"height:525px; width:100%;\"></div>            <script type=\"text/javascript\">                require([\"plotly\"], function(Plotly) {                    window.PLOTLYENV=window.PLOTLYENV || {};\n",
       "                    window.PLOTLYENV.BASE_URL='https://plot.ly';                                    if (document.getElementById(\"684ffcee-eba1-47f9-95cb-1b7f92e55c49\")) {                    Plotly.newPlot(                        \"684ffcee-eba1-47f9-95cb-1b7f92e55c49\",                        [{\"marker\": {\"color\": \"rgba(255, 153, 51, 0.6)\", \"line\": {\"color\": \"rgba(255, 153, 51, 1.0)\", \"width\": 1}}, \"name\": \"CREAM HANGING HEART T-LIGHT HOLDER\", \"orientation\": \"v\", \"text\": \"\", \"type\": \"bar\", \"x\": [\"EIRE\", \"France\", \"Germany\", \"Netherlands\"], \"y\": [2740.8, 131.75, 35.40000000000001, 1167.0]}, {\"marker\": {\"color\": \"rgba(55, 128, 191, 0.6)\", \"line\": {\"color\": \"rgba(55, 128, 191, 1.0)\", \"width\": 1}}, \"name\": \"JUMBO BAG RED RETROSPOT\", \"orientation\": \"v\", \"text\": \"\", \"type\": \"bar\", \"x\": [\"EIRE\", \"France\", \"Germany\", \"Netherlands\"], \"y\": [278.72, 903.3699999999998, 1072.7599999999998, 3468.0]}, {\"marker\": {\"color\": \"rgba(50, 171, 96, 0.6)\", \"line\": {\"color\": \"rgba(50, 171, 96, 1.0)\", \"width\": 1}}, \"name\": \"REGENCY CAKESTAND 3 TIER\", \"orientation\": \"v\", \"text\": \"\", \"type\": \"bar\", \"x\": [\"EIRE\", \"France\", \"Germany\", \"Netherlands\"], \"y\": [7388.5499999999965, 2816.85, 9061.949999999997, 3166.35]}],                        {\"legend\": {\"bgcolor\": \"#F5F6F9\", \"font\": {\"color\": \"#4D5663\"}}, \"paper_bgcolor\": \"#F5F6F9\", \"plot_bgcolor\": \"#F5F6F9\", \"template\": {\"data\": {\"bar\": [{\"error_x\": {\"color\": \"#2a3f5f\"}, \"error_y\": {\"color\": \"#2a3f5f\"}, \"marker\": {\"line\": {\"color\": \"#E5ECF6\", \"width\": 0.5}}, \"type\": \"bar\"}], \"barpolar\": [{\"marker\": {\"line\": {\"color\": \"#E5ECF6\", \"width\": 0.5}}, \"type\": \"barpolar\"}], \"carpet\": [{\"aaxis\": {\"endlinecolor\": \"#2a3f5f\", \"gridcolor\": \"white\", \"linecolor\": \"white\", \"minorgridcolor\": \"white\", \"startlinecolor\": \"#2a3f5f\"}, \"baxis\": {\"endlinecolor\": \"#2a3f5f\", \"gridcolor\": \"white\", \"linecolor\": \"white\", \"minorgridcolor\": \"white\", \"startlinecolor\": \"#2a3f5f\"}, \"type\": \"carpet\"}], \"choropleth\": [{\"colorbar\": {\"outlinewidth\": 0, \"ticks\": \"\"}, \"type\": \"choropleth\"}], \"contour\": [{\"colorbar\": {\"outlinewidth\": 0, \"ticks\": \"\"}, \"colorscale\": [[0.0, \"#0d0887\"], [0.1111111111111111, \"#46039f\"], [0.2222222222222222, \"#7201a8\"], [0.3333333333333333, \"#9c179e\"], [0.4444444444444444, \"#bd3786\"], [0.5555555555555556, \"#d8576b\"], [0.6666666666666666, \"#ed7953\"], [0.7777777777777778, \"#fb9f3a\"], [0.8888888888888888, \"#fdca26\"], [1.0, \"#f0f921\"]], \"type\": \"contour\"}], \"contourcarpet\": [{\"colorbar\": {\"outlinewidth\": 0, \"ticks\": \"\"}, \"type\": \"contourcarpet\"}], \"heatmap\": [{\"colorbar\": {\"outlinewidth\": 0, \"ticks\": \"\"}, \"colorscale\": [[0.0, \"#0d0887\"], [0.1111111111111111, \"#46039f\"], [0.2222222222222222, \"#7201a8\"], [0.3333333333333333, \"#9c179e\"], [0.4444444444444444, \"#bd3786\"], [0.5555555555555556, \"#d8576b\"], [0.6666666666666666, \"#ed7953\"], [0.7777777777777778, \"#fb9f3a\"], [0.8888888888888888, \"#fdca26\"], [1.0, \"#f0f921\"]], \"type\": \"heatmap\"}], \"heatmapgl\": [{\"colorbar\": {\"outlinewidth\": 0, \"ticks\": \"\"}, \"colorscale\": [[0.0, \"#0d0887\"], [0.1111111111111111, \"#46039f\"], [0.2222222222222222, \"#7201a8\"], [0.3333333333333333, \"#9c179e\"], [0.4444444444444444, \"#bd3786\"], [0.5555555555555556, \"#d8576b\"], [0.6666666666666666, \"#ed7953\"], [0.7777777777777778, \"#fb9f3a\"], [0.8888888888888888, \"#fdca26\"], [1.0, \"#f0f921\"]], \"type\": \"heatmapgl\"}], \"histogram\": [{\"marker\": {\"colorbar\": {\"outlinewidth\": 0, \"ticks\": \"\"}}, \"type\": \"histogram\"}], \"histogram2d\": [{\"colorbar\": {\"outlinewidth\": 0, \"ticks\": \"\"}, \"colorscale\": [[0.0, \"#0d0887\"], [0.1111111111111111, \"#46039f\"], [0.2222222222222222, \"#7201a8\"], [0.3333333333333333, \"#9c179e\"], [0.4444444444444444, \"#bd3786\"], [0.5555555555555556, \"#d8576b\"], [0.6666666666666666, \"#ed7953\"], [0.7777777777777778, \"#fb9f3a\"], [0.8888888888888888, \"#fdca26\"], [1.0, \"#f0f921\"]], \"type\": \"histogram2d\"}], \"histogram2dcontour\": [{\"colorbar\": {\"outlinewidth\": 0, \"ticks\": \"\"}, \"colorscale\": [[0.0, \"#0d0887\"], [0.1111111111111111, \"#46039f\"], [0.2222222222222222, \"#7201a8\"], [0.3333333333333333, \"#9c179e\"], [0.4444444444444444, \"#bd3786\"], [0.5555555555555556, \"#d8576b\"], [0.6666666666666666, \"#ed7953\"], [0.7777777777777778, \"#fb9f3a\"], [0.8888888888888888, \"#fdca26\"], [1.0, \"#f0f921\"]], \"type\": \"histogram2dcontour\"}], \"mesh3d\": [{\"colorbar\": {\"outlinewidth\": 0, \"ticks\": \"\"}, \"type\": \"mesh3d\"}], \"parcoords\": [{\"line\": {\"colorbar\": {\"outlinewidth\": 0, \"ticks\": \"\"}}, \"type\": \"parcoords\"}], \"pie\": [{\"automargin\": true, \"type\": \"pie\"}], \"scatter\": [{\"marker\": {\"colorbar\": {\"outlinewidth\": 0, \"ticks\": \"\"}}, \"type\": \"scatter\"}], \"scatter3d\": [{\"line\": {\"colorbar\": {\"outlinewidth\": 0, \"ticks\": \"\"}}, \"marker\": {\"colorbar\": {\"outlinewidth\": 0, \"ticks\": \"\"}}, \"type\": \"scatter3d\"}], \"scattercarpet\": [{\"marker\": {\"colorbar\": {\"outlinewidth\": 0, \"ticks\": \"\"}}, \"type\": \"scattercarpet\"}], \"scattergeo\": [{\"marker\": {\"colorbar\": {\"outlinewidth\": 0, \"ticks\": \"\"}}, \"type\": \"scattergeo\"}], \"scattergl\": [{\"marker\": {\"colorbar\": {\"outlinewidth\": 0, \"ticks\": \"\"}}, \"type\": \"scattergl\"}], \"scattermapbox\": [{\"marker\": {\"colorbar\": {\"outlinewidth\": 0, \"ticks\": \"\"}}, \"type\": \"scattermapbox\"}], \"scatterpolar\": [{\"marker\": {\"colorbar\": {\"outlinewidth\": 0, \"ticks\": \"\"}}, \"type\": \"scatterpolar\"}], \"scatterpolargl\": [{\"marker\": {\"colorbar\": {\"outlinewidth\": 0, \"ticks\": \"\"}}, \"type\": \"scatterpolargl\"}], \"scatterternary\": [{\"marker\": {\"colorbar\": {\"outlinewidth\": 0, \"ticks\": \"\"}}, \"type\": \"scatterternary\"}], \"surface\": [{\"colorbar\": {\"outlinewidth\": 0, \"ticks\": \"\"}, \"colorscale\": [[0.0, \"#0d0887\"], [0.1111111111111111, \"#46039f\"], [0.2222222222222222, \"#7201a8\"], [0.3333333333333333, \"#9c179e\"], [0.4444444444444444, \"#bd3786\"], [0.5555555555555556, \"#d8576b\"], [0.6666666666666666, \"#ed7953\"], [0.7777777777777778, \"#fb9f3a\"], [0.8888888888888888, \"#fdca26\"], [1.0, \"#f0f921\"]], \"type\": \"surface\"}], \"table\": [{\"cells\": {\"fill\": {\"color\": \"#EBF0F8\"}, \"line\": {\"color\": \"white\"}}, \"header\": {\"fill\": {\"color\": \"#C8D4E3\"}, \"line\": {\"color\": \"white\"}}, \"type\": \"table\"}]}, \"layout\": {\"annotationdefaults\": {\"arrowcolor\": \"#2a3f5f\", \"arrowhead\": 0, \"arrowwidth\": 1}, \"autotypenumbers\": \"strict\", \"coloraxis\": {\"colorbar\": {\"outlinewidth\": 0, \"ticks\": \"\"}}, \"colorscale\": {\"diverging\": [[0, \"#8e0152\"], [0.1, \"#c51b7d\"], [0.2, \"#de77ae\"], [0.3, \"#f1b6da\"], [0.4, \"#fde0ef\"], [0.5, \"#f7f7f7\"], [0.6, \"#e6f5d0\"], [0.7, \"#b8e186\"], [0.8, \"#7fbc41\"], [0.9, \"#4d9221\"], [1, \"#276419\"]], \"sequential\": [[0.0, \"#0d0887\"], [0.1111111111111111, \"#46039f\"], [0.2222222222222222, \"#7201a8\"], [0.3333333333333333, \"#9c179e\"], [0.4444444444444444, \"#bd3786\"], [0.5555555555555556, \"#d8576b\"], [0.6666666666666666, \"#ed7953\"], [0.7777777777777778, \"#fb9f3a\"], [0.8888888888888888, \"#fdca26\"], [1.0, \"#f0f921\"]], \"sequentialminus\": [[0.0, \"#0d0887\"], [0.1111111111111111, \"#46039f\"], [0.2222222222222222, \"#7201a8\"], [0.3333333333333333, \"#9c179e\"], [0.4444444444444444, \"#bd3786\"], [0.5555555555555556, \"#d8576b\"], [0.6666666666666666, \"#ed7953\"], [0.7777777777777778, \"#fb9f3a\"], [0.8888888888888888, \"#fdca26\"], [1.0, \"#f0f921\"]]}, \"colorway\": [\"#636efa\", \"#EF553B\", \"#00cc96\", \"#ab63fa\", \"#FFA15A\", \"#19d3f3\", \"#FF6692\", \"#B6E880\", \"#FF97FF\", \"#FECB52\"], \"font\": {\"color\": \"#2a3f5f\"}, \"geo\": {\"bgcolor\": \"white\", \"lakecolor\": \"white\", \"landcolor\": \"#E5ECF6\", \"showlakes\": true, \"showland\": true, \"subunitcolor\": \"white\"}, \"hoverlabel\": {\"align\": \"left\"}, \"hovermode\": \"closest\", \"mapbox\": {\"style\": \"light\"}, \"paper_bgcolor\": \"white\", \"plot_bgcolor\": \"#E5ECF6\", \"polar\": {\"angularaxis\": {\"gridcolor\": \"white\", \"linecolor\": \"white\", \"ticks\": \"\"}, \"bgcolor\": \"#E5ECF6\", \"radialaxis\": {\"gridcolor\": \"white\", \"linecolor\": \"white\", \"ticks\": \"\"}}, \"scene\": {\"xaxis\": {\"backgroundcolor\": \"#E5ECF6\", \"gridcolor\": \"white\", \"gridwidth\": 2, \"linecolor\": \"white\", \"showbackground\": true, \"ticks\": \"\", \"zerolinecolor\": \"white\"}, \"yaxis\": {\"backgroundcolor\": \"#E5ECF6\", \"gridcolor\": \"white\", \"gridwidth\": 2, \"linecolor\": \"white\", \"showbackground\": true, \"ticks\": \"\", \"zerolinecolor\": \"white\"}, \"zaxis\": {\"backgroundcolor\": \"#E5ECF6\", \"gridcolor\": \"white\", \"gridwidth\": 2, \"linecolor\": \"white\", \"showbackground\": true, \"ticks\": \"\", \"zerolinecolor\": \"white\"}}, \"shapedefaults\": {\"line\": {\"color\": \"#2a3f5f\"}}, \"ternary\": {\"aaxis\": {\"gridcolor\": \"white\", \"linecolor\": \"white\", \"ticks\": \"\"}, \"baxis\": {\"gridcolor\": \"white\", \"linecolor\": \"white\", \"ticks\": \"\"}, \"bgcolor\": \"#E5ECF6\", \"caxis\": {\"gridcolor\": \"white\", \"linecolor\": \"white\", \"ticks\": \"\"}}, \"title\": {\"x\": 0.05}, \"xaxis\": {\"automargin\": true, \"gridcolor\": \"white\", \"linecolor\": \"white\", \"ticks\": \"\", \"title\": {\"standoff\": 15}, \"zerolinecolor\": \"white\", \"zerolinewidth\": 2}, \"yaxis\": {\"automargin\": true, \"gridcolor\": \"white\", \"linecolor\": \"white\", \"ticks\": \"\", \"title\": {\"standoff\": 15}, \"zerolinecolor\": \"white\", \"zerolinewidth\": 2}}}, \"title\": {\"font\": {\"color\": \"#4D5663\"}}, \"xaxis\": {\"gridcolor\": \"#E1E5ED\", \"showgrid\": true, \"tickfont\": {\"color\": \"#4D5663\"}, \"title\": {\"font\": {\"color\": \"#4D5663\"}, \"text\": \"\"}, \"zerolinecolor\": \"#E1E5ED\"}, \"yaxis\": {\"gridcolor\": \"#E1E5ED\", \"showgrid\": true, \"tickfont\": {\"color\": \"#4D5663\"}, \"title\": {\"font\": {\"color\": \"#4D5663\"}, \"text\": \"\"}, \"zerolinecolor\": \"#E1E5ED\"}},                        {\"showLink\": true, \"linkText\": \"Export to plot.ly\", \"plotlyServerURL\": \"https://plot.ly\", \"responsive\": true}                    ).then(function(){\n",
       "                            \n",
       "var gd = document.getElementById('684ffcee-eba1-47f9-95cb-1b7f92e55c49');\n",
       "var x = new MutationObserver(function (mutations, observer) {{\n",
       "        var display = window.getComputedStyle(gd).display;\n",
       "        if (!display || display === 'none') {{\n",
       "            console.log([gd, 'removed!']);\n",
       "            Plotly.purge(gd);\n",
       "            observer.disconnect();\n",
       "        }}\n",
       "}});\n",
       "\n",
       "// Listen for the removal of the full notebook cells\n",
       "var notebookContainer = gd.closest('#notebook-container');\n",
       "if (notebookContainer) {{\n",
       "    x.observe(notebookContainer, {childList: true});\n",
       "}}\n",
       "\n",
       "// Listen for the clearing of the current output cell\n",
       "var outputEl = gd.closest('.output');\n",
       "if (outputEl) {{\n",
       "    x.observe(outputEl, {childList: true});\n",
       "}}\n",
       "\n",
       "                        })                };                });            </script>        </div>"
      ]
     },
     "metadata": {},
     "output_type": "display_data"
    }
   ],
   "source": [
    "# Aplicamos .iplot(kind='bar')\n",
    "\n",
    "df51.pivot_table(index='Country', columns='Description', values='Revenue').iplot(kind='bar')"
   ]
  },
  {
   "cell_type": "markdown",
   "metadata": {},
   "source": [
    "## 6. Create an interactive line chart showing quantity sold by day for the United Kingdom. Add drop-down boxes for Year and Month that allow you to filter the date range that appears in the chart."
   ]
  },
  {
   "cell_type": "code",
   "execution_count": 191,
   "metadata": {},
   "outputs": [],
   "source": [
    "data['Year'] = pd.DatetimeIndex(data['InvoiceDate']).year\n",
    "data['Month'] = pd.DatetimeIndex(data['InvoiceDate']).month\n",
    "data['Day'] = pd.DatetimeIndex(data['InvoiceDate']).day\n",
    "uk = data[data['Country']=='United Kingdom']"
   ]
  },
  {
   "cell_type": "code",
   "execution_count": 253,
   "metadata": {
    "scrolled": false
   },
   "outputs": [
    {
     "data": {
      "application/vnd.jupyter.widget-view+json": {
       "model_id": "30177597e8c746b8839ffe095ae54ef6",
       "version_major": 2,
       "version_minor": 0
      },
      "text/plain": [
       "interactive(children=(Dropdown(description='y', options=(2010, 2011), value=2010), Dropdown(description='m', o…"
      ]
     },
     "metadata": {},
     "output_type": "display_data"
    }
   ],
   "source": [
    "@interact(y = uk['Year'].unique(), m = uk['Month'].unique())\n",
    "\n",
    "def graf(y,m):\n",
    "    dftoshow = uk[(uk['Year'] == y) & (uk['Month'] == m)].sort_values('InvoiceDate').resample('D', on='InvoiceDate')[['Quantity']].sum()\n",
    "    dftoshow.iplot(kind='line')\n"
   ]
  },
  {
   "cell_type": "markdown",
   "metadata": {},
   "source": [
    "## 7. Create an interactive scatter plot that plots number of invoices (x-axis) vs. number of customers (y-axis) and the plot points represent individual products. Add two sliders that control the x and y axis ranges."
   ]
  },
  {
   "cell_type": "code",
   "execution_count": 255,
   "metadata": {},
   "outputs": [],
   "source": [
    "agg_func = {'InvoiceNo':'nunique', # nunique devolverá el nº de valores únicos\n",
    "            'Quantity':'sum',\n",
    "            'UnitPrice':'mean',\n",
    "            'Revenue':'sum',\n",
    "            'CustomerID':'nunique'}\n",
    "\n",
    "products = uk.groupby('Description').agg(agg_func)"
   ]
  },
  {
   "cell_type": "code",
   "execution_count": 310,
   "metadata": {},
   "outputs": [
    {
     "data": {
      "text/html": [
       "<div>\n",
       "<style scoped>\n",
       "    .dataframe tbody tr th:only-of-type {\n",
       "        vertical-align: middle;\n",
       "    }\n",
       "\n",
       "    .dataframe tbody tr th {\n",
       "        vertical-align: top;\n",
       "    }\n",
       "\n",
       "    .dataframe thead th {\n",
       "        text-align: right;\n",
       "    }\n",
       "</style>\n",
       "<table border=\"1\" class=\"dataframe\">\n",
       "  <thead>\n",
       "    <tr style=\"text-align: right;\">\n",
       "      <th></th>\n",
       "      <th>InvoiceNo</th>\n",
       "      <th>Quantity</th>\n",
       "      <th>UnitPrice</th>\n",
       "      <th>Revenue</th>\n",
       "      <th>CustomerID</th>\n",
       "    </tr>\n",
       "    <tr>\n",
       "      <th>Description</th>\n",
       "      <th></th>\n",
       "      <th></th>\n",
       "      <th></th>\n",
       "      <th></th>\n",
       "      <th></th>\n",
       "    </tr>\n",
       "  </thead>\n",
       "  <tbody>\n",
       "    <tr>\n",
       "      <th>4 PURPLE FLOCK DINNER CANDLES</th>\n",
       "      <td>35</td>\n",
       "      <td>134</td>\n",
       "      <td>2.318421</td>\n",
       "      <td>255.46</td>\n",
       "      <td>30</td>\n",
       "    </tr>\n",
       "    <tr>\n",
       "      <th>50'S CHRISTMAS GIFT BAG LARGE</th>\n",
       "      <td>100</td>\n",
       "      <td>1721</td>\n",
       "      <td>1.247900</td>\n",
       "      <td>2067.25</td>\n",
       "      <td>98</td>\n",
       "    </tr>\n",
       "    <tr>\n",
       "      <th>DOLLY GIRL BEAKER</th>\n",
       "      <td>100</td>\n",
       "      <td>661</td>\n",
       "      <td>1.250000</td>\n",
       "      <td>826.25</td>\n",
       "      <td>77</td>\n",
       "    </tr>\n",
       "    <tr>\n",
       "      <th>I LOVE LONDON MINI BACKPACK</th>\n",
       "      <td>55</td>\n",
       "      <td>181</td>\n",
       "      <td>4.150000</td>\n",
       "      <td>751.15</td>\n",
       "      <td>46</td>\n",
       "    </tr>\n",
       "    <tr>\n",
       "      <th>NINE DRAWER OFFICE TIDY</th>\n",
       "      <td>25</td>\n",
       "      <td>44</td>\n",
       "      <td>14.761538</td>\n",
       "      <td>628.40</td>\n",
       "      <td>24</td>\n",
       "    </tr>\n",
       "  </tbody>\n",
       "</table>\n",
       "</div>"
      ],
      "text/plain": [
       "                                InvoiceNo  Quantity  UnitPrice  Revenue  \\\n",
       "Description                                                               \n",
       " 4 PURPLE FLOCK DINNER CANDLES         35       134   2.318421   255.46   \n",
       " 50'S CHRISTMAS GIFT BAG LARGE        100      1721   1.247900  2067.25   \n",
       " DOLLY GIRL BEAKER                    100       661   1.250000   826.25   \n",
       " I LOVE LONDON MINI BACKPACK           55       181   4.150000   751.15   \n",
       " NINE DRAWER OFFICE TIDY               25        44  14.761538   628.40   \n",
       "\n",
       "                                CustomerID  \n",
       "Description                                 \n",
       " 4 PURPLE FLOCK DINNER CANDLES          30  \n",
       " 50'S CHRISTMAS GIFT BAG LARGE          98  \n",
       " DOLLY GIRL BEAKER                      77  \n",
       " I LOVE LONDON MINI BACKPACK            46  \n",
       " NINE DRAWER OFFICE TIDY                24  "
      ]
     },
     "execution_count": 310,
     "metadata": {},
     "output_type": "execute_result"
    }
   ],
   "source": [
    "products.head()"
   ]
  },
  {
   "cell_type": "code",
   "execution_count": 312,
   "metadata": {},
   "outputs": [
    {
     "data": {
      "application/vnd.jupyter.widget-view+json": {
       "model_id": "4b98728978b24decaf3ebbaff7eb90b6",
       "version_major": 2,
       "version_minor": 0
      },
      "text/plain": [
       "interactive(children=(IntSlider(value=945, description='x_ini', max=1891), IntSlider(value=945, description='x…"
      ]
     },
     "metadata": {},
     "output_type": "display_data"
    }
   ],
   "source": [
    "# Añadimos 2 sliders por eje para poder fijar valores inicial y final\n",
    "\n",
    "@interact(x_ini=(0, products['InvoiceNo'].max()), y_ini=(0, products['CustomerID'].max()),\n",
    "          x_fin=(0, products['InvoiceNo'].max()), y_fin=(0, products['CustomerID'].max()))\n",
    "def scatter(x_ini, x_fin, y_ini, y_fin):\n",
    "    products.iplot(kind='scatter', x='InvoiceNo', y='CustomerID', mode='markers', size=5, \n",
    "               xrange=(x_ini, x_fin), yrange=(y_ini, y_fin))"
   ]
  },
  {
   "cell_type": "markdown",
   "metadata": {},
   "source": [
    "## 8. Creat an interactive bar chart that shows revenue by product description. Add a text field widget that filters the results to show the product that contain the text entered in their description."
   ]
  },
  {
   "cell_type": "code",
   "execution_count": 313,
   "metadata": {},
   "outputs": [],
   "source": [
    "agg_func = {'Revenue':'sum'}\n",
    "\n",
    "df8 = uk.groupby('Description').agg(agg_func)"
   ]
  },
  {
   "cell_type": "code",
   "execution_count": 315,
   "metadata": {},
   "outputs": [
    {
     "data": {
      "text/html": [
       "<div>\n",
       "<style scoped>\n",
       "    .dataframe tbody tr th:only-of-type {\n",
       "        vertical-align: middle;\n",
       "    }\n",
       "\n",
       "    .dataframe tbody tr th {\n",
       "        vertical-align: top;\n",
       "    }\n",
       "\n",
       "    .dataframe thead th {\n",
       "        text-align: right;\n",
       "    }\n",
       "</style>\n",
       "<table border=\"1\" class=\"dataframe\">\n",
       "  <thead>\n",
       "    <tr style=\"text-align: right;\">\n",
       "      <th></th>\n",
       "      <th>Revenue</th>\n",
       "    </tr>\n",
       "    <tr>\n",
       "      <th>Description</th>\n",
       "      <th></th>\n",
       "    </tr>\n",
       "  </thead>\n",
       "  <tbody>\n",
       "    <tr>\n",
       "      <th>4 PURPLE FLOCK DINNER CANDLES</th>\n",
       "      <td>255.46</td>\n",
       "    </tr>\n",
       "    <tr>\n",
       "      <th>50'S CHRISTMAS GIFT BAG LARGE</th>\n",
       "      <td>2067.25</td>\n",
       "    </tr>\n",
       "    <tr>\n",
       "      <th>DOLLY GIRL BEAKER</th>\n",
       "      <td>826.25</td>\n",
       "    </tr>\n",
       "    <tr>\n",
       "      <th>I LOVE LONDON MINI BACKPACK</th>\n",
       "      <td>751.15</td>\n",
       "    </tr>\n",
       "    <tr>\n",
       "      <th>NINE DRAWER OFFICE TIDY</th>\n",
       "      <td>628.40</td>\n",
       "    </tr>\n",
       "  </tbody>\n",
       "</table>\n",
       "</div>"
      ],
      "text/plain": [
       "                                Revenue\n",
       "Description                            \n",
       " 4 PURPLE FLOCK DINNER CANDLES   255.46\n",
       " 50'S CHRISTMAS GIFT BAG LARGE  2067.25\n",
       " DOLLY GIRL BEAKER               826.25\n",
       " I LOVE LONDON MINI BACKPACK     751.15\n",
       " NINE DRAWER OFFICE TIDY         628.40"
      ]
     },
     "execution_count": 315,
     "metadata": {},
     "output_type": "execute_result"
    }
   ],
   "source": [
    "df8.head()"
   ]
  },
  {
   "cell_type": "code",
   "execution_count": 342,
   "metadata": {},
   "outputs": [
    {
     "data": {
      "text/plain": [
       "[' 4 PURPLE FLOCK DINNER CANDLES',\n",
       " \" 50'S CHRISTMAS GIFT BAG LARGE\",\n",
       " ' DOLLY GIRL BEAKER',\n",
       " ' I LOVE LONDON MINI BACKPACK',\n",
       " ' NINE DRAWER OFFICE TIDY']"
      ]
     },
     "execution_count": 342,
     "metadata": {},
     "output_type": "execute_result"
    }
   ],
   "source": [
    "df8.index.to_list()[0:5]"
   ]
  },
  {
   "cell_type": "code",
   "execution_count": 333,
   "metadata": {},
   "outputs": [],
   "source": [
    "import ipywidgets as widgets"
   ]
  },
  {
   "cell_type": "code",
   "execution_count": 340,
   "metadata": {},
   "outputs": [
    {
     "data": {
      "application/vnd.jupyter.widget-view+json": {
       "model_id": "b813dc72adac4b8882e122f7d9f7e011",
       "version_major": 2,
       "version_minor": 0
      },
      "text/plain": [
       "interactive(children=(Combobox(value='12 PENCILS TALL TUBE RED RETROSPOT', description='x', options=(' 4 PURPL…"
      ]
     },
     "metadata": {},
     "output_type": "display_data"
    }
   ],
   "source": [
    "@interact(x=widgets.Combobox(options=df8.index.to_list(), value='12 PENCILS TALL TUBE RED RETROSPOT'))\n",
    "def bar(x):\n",
    "    df8.loc[x].iplot(kind='barh')"
   ]
  }
 ],
 "metadata": {
  "kernelspec": {
   "display_name": "Python 3",
   "language": "python",
   "name": "python3"
  },
  "language_info": {
   "codemirror_mode": {
    "name": "ipython",
    "version": 3
   },
   "file_extension": ".py",
   "mimetype": "text/x-python",
   "name": "python",
   "nbconvert_exporter": "python",
   "pygments_lexer": "ipython3",
   "version": "3.8.5"
  },
  "latex_envs": {
   "LaTeX_envs_menu_present": true,
   "autoclose": false,
   "autocomplete": true,
   "bibliofile": "biblio.bib",
   "cite_by": "apalike",
   "current_citInitial": 1,
   "eqLabelWithNumbers": true,
   "eqNumInitial": 1,
   "hotkeys": {
    "equation": "Ctrl-E",
    "itemize": "Ctrl-I"
   },
   "labels_anchors": false,
   "latex_user_defs": false,
   "report_style_numbering": false,
   "user_envs_cfg": false
  },
  "toc": {
   "base_numbering": 1,
   "nav_menu": {},
   "number_sections": true,
   "sideBar": true,
   "skip_h1_title": false,
   "title_cell": "Table of Contents",
   "title_sidebar": "Contents",
   "toc_cell": true,
   "toc_position": {
    "height": "calc(100% - 180px)",
    "left": "10px",
    "top": "150px",
    "width": "175.2px"
   },
   "toc_section_display": true,
   "toc_window_display": true
  },
  "varInspector": {
   "cols": {
    "lenName": 16,
    "lenType": 16,
    "lenVar": 40
   },
   "kernels_config": {
    "python": {
     "delete_cmd_postfix": "",
     "delete_cmd_prefix": "del ",
     "library": "var_list.py",
     "varRefreshCmd": "print(var_dic_list())"
    },
    "r": {
     "delete_cmd_postfix": ") ",
     "delete_cmd_prefix": "rm(",
     "library": "var_list.r",
     "varRefreshCmd": "cat(var_dic_list()) "
    }
   },
   "types_to_exclude": [
    "module",
    "function",
    "builtin_function_or_method",
    "instance",
    "_Feature"
   ],
   "window_display": false
  }
 },
 "nbformat": 4,
 "nbformat_minor": 2
}
