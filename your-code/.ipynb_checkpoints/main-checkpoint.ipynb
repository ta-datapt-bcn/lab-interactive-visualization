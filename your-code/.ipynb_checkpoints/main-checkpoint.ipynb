{
 "cells": [
  {
   "cell_type": "markdown",
   "metadata": {
    "toc": true
   },
   "source": [
    "<h1>Table of Contents<span class=\"tocSkip\"></span></h1>\n",
    "<div class=\"toc\"><ul class=\"toc-item\"><li><span><a href=\"#Interactive-Visualization-Lab\" data-toc-modified-id=\"Interactive-Visualization-Lab-1\"><span class=\"toc-item-num\">1&nbsp;&nbsp;</span>Interactive Visualization Lab</a></span><ul class=\"toc-item\"><li><span><a href=\"#1.-Create-an-interactive-bar-chart-showing-total-quantity-and-revenue-by-country-(excluding-United-Kingdom)-for-the-month-of-April-2011.\" data-toc-modified-id=\"1.-Create-an-interactive-bar-chart-showing-total-quantity-and-revenue-by-country-(excluding-United-Kingdom)-for-the-month-of-April-2011.-1.1\"><span class=\"toc-item-num\">1.1&nbsp;&nbsp;</span>1. Create an interactive bar chart showing total quantity and revenue by country (excluding United Kingdom) for the month of April 2011.</a></span></li><li><span><a href=\"#2.-Create-an-interactive-line-chart-showing-quantity-and-revenue-sold-to-France-between-January-1st-and-May-31st-2011.\" data-toc-modified-id=\"2.-Create-an-interactive-line-chart-showing-quantity-and-revenue-sold-to-France-between-January-1st-and-May-31st-2011.-1.2\"><span class=\"toc-item-num\">1.2&nbsp;&nbsp;</span>2. Create an interactive line chart showing quantity and revenue sold to France between January 1st and May 31st 2011.</a></span></li><li><span><a href=\"#3.-Create-an-interactive-scatter-plot-showing-the-relationship-between-average-quantity-(x-axis)-and-average-unit-price-(y-axis)-for-the-product-PARTY-BUNTING-with-the-plot-points-color-coded-by-country-(categories).\" data-toc-modified-id=\"3.-Create-an-interactive-scatter-plot-showing-the-relationship-between-average-quantity-(x-axis)-and-average-unit-price-(y-axis)-for-the-product-PARTY-BUNTING-with-the-plot-points-color-coded-by-country-(categories).-1.3\"><span class=\"toc-item-num\">1.3&nbsp;&nbsp;</span>3. Create an interactive scatter plot showing the relationship between average quantity (x-axis) and average unit price (y-axis) for the product PARTY BUNTING with the plot points color-coded by country (categories).</a></span></li><li><span><a href=\"#4.-Create-a-set-of-interactive-histograms-showing-the-distributions-of-quantity-per-invoice-for-the-following-countries:-EIRE,-Germany,-France,-and-Netherlands.\" data-toc-modified-id=\"4.-Create-a-set-of-interactive-histograms-showing-the-distributions-of-quantity-per-invoice-for-the-following-countries:-EIRE,-Germany,-France,-and-Netherlands.-1.4\"><span class=\"toc-item-num\">1.4&nbsp;&nbsp;</span>4. Create a set of interactive histograms showing the distributions of quantity per invoice for the following countries: EIRE, Germany, France, and Netherlands.</a></span></li><li><span><a href=\"#5.-Create-an-interactive-side-by-side-bar-chart-showing-the-revenue-by-country-listed-below-(bars)-for-each-of-the-products-listed-below.\" data-toc-modified-id=\"5.-Create-an-interactive-side-by-side-bar-chart-showing-the-revenue-by-country-listed-below-(bars)-for-each-of-the-products-listed-below.-1.5\"><span class=\"toc-item-num\">1.5&nbsp;&nbsp;</span>5. Create an interactive side-by-side bar chart showing the revenue by country listed below (bars) for each of the products listed below.</a></span></li><li><span><a href=\"#6.-Create-an-interactive-line-chart-showing-quantity-sold-by-day-for-the-United-Kingdom.-Add-drop-down-boxes-for-Year-and-Month-that-allow-you-to-filter-the-date-range-that-appears-in-the-chart.\" data-toc-modified-id=\"6.-Create-an-interactive-line-chart-showing-quantity-sold-by-day-for-the-United-Kingdom.-Add-drop-down-boxes-for-Year-and-Month-that-allow-you-to-filter-the-date-range-that-appears-in-the-chart.-1.6\"><span class=\"toc-item-num\">1.6&nbsp;&nbsp;</span>6. Create an interactive line chart showing quantity sold by day for the United Kingdom. Add drop-down boxes for Year and Month that allow you to filter the date range that appears in the chart.</a></span></li><li><span><a href=\"#7.-Create-an-interactive-scatter-plot-that-plots-number-of-invoices-(x-axis)-vs.-number-of-customers-(y-axis)-and-the-plot-points-represent-individual-products.-Add-two-sliders-that-control-the-x-and-y-axis-ranges.\" data-toc-modified-id=\"7.-Create-an-interactive-scatter-plot-that-plots-number-of-invoices-(x-axis)-vs.-number-of-customers-(y-axis)-and-the-plot-points-represent-individual-products.-Add-two-sliders-that-control-the-x-and-y-axis-ranges.-1.7\"><span class=\"toc-item-num\">1.7&nbsp;&nbsp;</span>7. Create an interactive scatter plot that plots number of invoices (x-axis) vs. number of customers (y-axis) and the plot points represent individual products. Add two sliders that control the x and y axis ranges.</a></span></li><li><span><a href=\"#8.-Creat-an-interactive-bar-chart-that-shows-revenue-by-product-description.-Add-a-text-field-widget-that-filters-the-results-to-show-the-product-that-contain-the-text-entered-in-their-description.\" data-toc-modified-id=\"8.-Creat-an-interactive-bar-chart-that-shows-revenue-by-product-description.-Add-a-text-field-widget-that-filters-the-results-to-show-the-product-that-contain-the-text-entered-in-their-description.-1.8\"><span class=\"toc-item-num\">1.8&nbsp;&nbsp;</span>8. Creat an interactive bar chart that shows revenue by product description. Add a text field widget that filters the results to show the product that contain the text entered in their description.</a></span></li></ul></li></ul></div>"
   ]
  },
  {
   "cell_type": "markdown",
   "metadata": {},
   "source": [
    "# Interactive Visualization Lab\n",
    "\n",
    "Complete the following set of exercises to solidify your knowledge of interactive visualization using Plotly, Cufflinks, and IPyWidgets."
   ]
  },
  {
   "cell_type": "code",
   "execution_count": 1,
   "metadata": {
    "ExecuteTime": {
     "end_time": "2019-07-27T20:57:40.523866Z",
     "start_time": "2019-07-27T20:57:39.979646Z"
    }
   },
   "outputs": [
    {
     "ename": "ImportError",
     "evalue": "\nThe plotly.plotly module is deprecated,\nplease install the chart-studio package and use the\nchart_studio.plotly module instead. \n",
     "output_type": "error",
     "traceback": [
      "\u001b[1;31m---------------------------------------------------------------------------\u001b[0m",
      "\u001b[1;31mImportError\u001b[0m                               Traceback (most recent call last)",
      "\u001b[1;32m<ipython-input-1-0351182a0a23>\u001b[0m in \u001b[0;36m<module>\u001b[1;34m\u001b[0m\n\u001b[0;32m      1\u001b[0m \u001b[1;32mimport\u001b[0m \u001b[0mpandas\u001b[0m \u001b[1;32mas\u001b[0m \u001b[0mpd\u001b[0m\u001b[1;33m\u001b[0m\u001b[1;33m\u001b[0m\u001b[0m\n\u001b[1;32m----> 2\u001b[1;33m \u001b[1;32mimport\u001b[0m \u001b[0mplotly\u001b[0m\u001b[1;33m.\u001b[0m\u001b[0mplotly\u001b[0m \u001b[1;32mas\u001b[0m \u001b[0mpy\u001b[0m\u001b[1;33m\u001b[0m\u001b[1;33m\u001b[0m\u001b[0m\n\u001b[0m\u001b[0;32m      3\u001b[0m \u001b[1;32mimport\u001b[0m \u001b[0mcufflinks\u001b[0m \u001b[1;32mas\u001b[0m \u001b[0mcf\u001b[0m\u001b[1;33m\u001b[0m\u001b[1;33m\u001b[0m\u001b[0m\n\u001b[0;32m      4\u001b[0m \u001b[1;32mfrom\u001b[0m \u001b[0mipywidgets\u001b[0m \u001b[1;32mimport\u001b[0m \u001b[0minteract\u001b[0m\u001b[1;33m\u001b[0m\u001b[1;33m\u001b[0m\u001b[0m\n\u001b[0;32m      5\u001b[0m \u001b[1;33m\u001b[0m\u001b[0m\n",
      "\u001b[1;32m~\\anaconda3\\lib\\site-packages\\plotly\\plotly\\__init__.py\u001b[0m in \u001b[0;36m<module>\u001b[1;34m\u001b[0m\n\u001b[0;32m      2\u001b[0m \u001b[1;32mfrom\u001b[0m \u001b[0m_plotly_future_\u001b[0m \u001b[1;32mimport\u001b[0m \u001b[0m_chart_studio_error\u001b[0m\u001b[1;33m\u001b[0m\u001b[1;33m\u001b[0m\u001b[0m\n\u001b[0;32m      3\u001b[0m \u001b[1;33m\u001b[0m\u001b[0m\n\u001b[1;32m----> 4\u001b[1;33m \u001b[0m_chart_studio_error\u001b[0m\u001b[1;33m(\u001b[0m\u001b[1;34m\"plotly\"\u001b[0m\u001b[1;33m)\u001b[0m\u001b[1;33m\u001b[0m\u001b[1;33m\u001b[0m\u001b[0m\n\u001b[0m",
      "\u001b[1;32m~\\anaconda3\\lib\\site-packages\\_plotly_future_\\__init__.py\u001b[0m in \u001b[0;36m_chart_studio_error\u001b[1;34m(submodule)\u001b[0m\n\u001b[0;32m     41\u001b[0m \u001b[1;33m\u001b[0m\u001b[0m\n\u001b[0;32m     42\u001b[0m \u001b[1;32mdef\u001b[0m \u001b[0m_chart_studio_error\u001b[0m\u001b[1;33m(\u001b[0m\u001b[0msubmodule\u001b[0m\u001b[1;33m)\u001b[0m\u001b[1;33m:\u001b[0m\u001b[1;33m\u001b[0m\u001b[1;33m\u001b[0m\u001b[0m\n\u001b[1;32m---> 43\u001b[1;33m     raise ImportError(\n\u001b[0m\u001b[0;32m     44\u001b[0m         \"\"\"\n\u001b[0;32m     45\u001b[0m \u001b[0mThe\u001b[0m \u001b[0mplotly\u001b[0m\u001b[1;33m.\u001b[0m\u001b[1;33m{\u001b[0m\u001b[0msubmodule\u001b[0m\u001b[1;33m}\u001b[0m \u001b[0mmodule\u001b[0m \u001b[1;32mis\u001b[0m \u001b[0mdeprecated\u001b[0m\u001b[1;33m,\u001b[0m\u001b[1;33m\u001b[0m\u001b[1;33m\u001b[0m\u001b[0m\n",
      "\u001b[1;31mImportError\u001b[0m: \nThe plotly.plotly module is deprecated,\nplease install the chart-studio package and use the\nchart_studio.plotly module instead. \n"
     ]
    }
   ],
   "source": [
    "import pandas as pd\n",
    "import plotly.plotly as py\n",
    "import cufflinks as cf\n",
    "from ipywidgets import interact\n",
    "\n",
    "cf.go_offline()"
   ]
  },
  {
   "cell_type": "code",
   "execution_count": null,
   "metadata": {
    "ExecuteTime": {
     "end_time": "2019-07-27T21:02:11.999453Z",
     "start_time": "2019-07-27T21:01:30.667125Z"
    }
   },
   "outputs": [],
   "source": [
    "data = pd.read_excel('../data/Online Retail.xlsx')"
   ]
  },
  {
   "cell_type": "markdown",
   "metadata": {},
   "source": [
    "## 1. Create an interactive bar chart showing total quantity and revenue by country (excluding United Kingdom) for the month of April 2011."
   ]
  },
  {
   "cell_type": "code",
   "execution_count": null,
   "metadata": {},
   "outputs": [],
   "source": []
  },
  {
   "cell_type": "markdown",
   "metadata": {},
   "source": [
    "## 2. Create an interactive line chart showing quantity and revenue sold to France between January 1st and May 31st 2011."
   ]
  },
  {
   "cell_type": "code",
   "execution_count": null,
   "metadata": {},
   "outputs": [],
   "source": []
  },
  {
   "cell_type": "markdown",
   "metadata": {},
   "source": [
    "## 3. Create an interactive scatter plot showing the relationship between average quantity (x-axis) and average unit price (y-axis) for the product PARTY BUNTING with the plot points color-coded by country (categories)."
   ]
  },
  {
   "cell_type": "code",
   "execution_count": null,
   "metadata": {},
   "outputs": [],
   "source": []
  },
  {
   "cell_type": "markdown",
   "metadata": {},
   "source": [
    "## 4. Create a set of interactive histograms showing the distributions of quantity per invoice for the following countries: EIRE, Germany, France, and Netherlands."
   ]
  },
  {
   "cell_type": "code",
   "execution_count": null,
   "metadata": {},
   "outputs": [],
   "source": []
  },
  {
   "cell_type": "markdown",
   "metadata": {},
   "source": [
    "## 5. Create an interactive side-by-side bar chart showing the revenue by country listed below (bars) for each of the products listed below."
   ]
  },
  {
   "cell_type": "code",
   "execution_count": null,
   "metadata": {},
   "outputs": [],
   "source": [
    "product_list = ['JUMBO BAG RED RETROSPOT', \n",
    "                'CREAM HANGING HEART T-LIGHT HOLDER',\n",
    "                'REGENCY CAKESTAND 3 TIER']\n",
    "\n",
    "country_list = ['EIRE', 'Germany', 'France', 'Netherlands']"
   ]
  },
  {
   "cell_type": "code",
   "execution_count": null,
   "metadata": {},
   "outputs": [],
   "source": []
  },
  {
   "cell_type": "markdown",
   "metadata": {},
   "source": [
    "## 6. Create an interactive line chart showing quantity sold by day for the United Kingdom. Add drop-down boxes for Year and Month that allow you to filter the date range that appears in the chart."
   ]
  },
  {
   "cell_type": "code",
   "execution_count": null,
   "metadata": {},
   "outputs": [],
   "source": [
    "data['Year'] = pd.DatetimeIndex(data['InvoiceDate']).year\n",
    "data['Month'] = pd.DatetimeIndex(data['InvoiceDate']).month\n",
    "data['Day'] = pd.DatetimeIndex(data['InvoiceDate']).day\n",
    "uk = data[data['Country']=='United Kingdom']"
   ]
  },
  {
   "cell_type": "code",
   "execution_count": null,
   "metadata": {},
   "outputs": [],
   "source": []
  },
  {
   "cell_type": "markdown",
   "metadata": {},
   "source": [
    "## 7. Create an interactive scatter plot that plots number of invoices (x-axis) vs. number of customers (y-axis) and the plot points represent individual products. Add two sliders that control the x and y axis ranges."
   ]
  },
  {
   "cell_type": "code",
   "execution_count": null,
   "metadata": {},
   "outputs": [],
   "source": [
    "agg_func = {'InvoiceNo':'nunique',\n",
    "            'Quantity':'sum',\n",
    "            'UnitPrice':'mean',\n",
    "            'Revenue':'sum',\n",
    "            'CustomerID':'nunique'}\n",
    "\n",
    "products = uk.groupby('Description').agg(agg_func)"
   ]
  },
  {
   "cell_type": "code",
   "execution_count": null,
   "metadata": {},
   "outputs": [],
   "source": []
  },
  {
   "cell_type": "markdown",
   "metadata": {},
   "source": [
    "## 8. Creat an interactive bar chart that shows revenue by product description. Add a text field widget that filters the results to show the product that contain the text entered in their description."
   ]
  },
  {
   "cell_type": "code",
   "execution_count": null,
   "metadata": {},
   "outputs": [],
   "source": []
  }
 ],
 "metadata": {
  "kernelspec": {
   "display_name": "Python 3",
   "language": "python",
   "name": "python3"
  },
  "language_info": {
   "codemirror_mode": {
    "name": "ipython",
    "version": 3
   },
   "file_extension": ".py",
   "mimetype": "text/x-python",
   "name": "python",
   "nbconvert_exporter": "python",
   "pygments_lexer": "ipython3",
   "version": "3.8.5"
  },
  "latex_envs": {
   "LaTeX_envs_menu_present": true,
   "autoclose": false,
   "autocomplete": true,
   "bibliofile": "biblio.bib",
   "cite_by": "apalike",
   "current_citInitial": 1,
   "eqLabelWithNumbers": true,
   "eqNumInitial": 1,
   "hotkeys": {
    "equation": "Ctrl-E",
    "itemize": "Ctrl-I"
   },
   "labels_anchors": false,
   "latex_user_defs": false,
   "report_style_numbering": false,
   "user_envs_cfg": false
  },
  "toc": {
   "base_numbering": 1,
   "nav_menu": {},
   "number_sections": true,
   "sideBar": true,
   "skip_h1_title": false,
   "title_cell": "Table of Contents",
   "title_sidebar": "Contents",
   "toc_cell": true,
   "toc_position": {},
   "toc_section_display": true,
   "toc_window_display": false
  },
  "varInspector": {
   "cols": {
    "lenName": 16,
    "lenType": 16,
    "lenVar": 40
   },
   "kernels_config": {
    "python": {
     "delete_cmd_postfix": "",
     "delete_cmd_prefix": "del ",
     "library": "var_list.py",
     "varRefreshCmd": "print(var_dic_list())"
    },
    "r": {
     "delete_cmd_postfix": ") ",
     "delete_cmd_prefix": "rm(",
     "library": "var_list.r",
     "varRefreshCmd": "cat(var_dic_list()) "
    }
   },
   "types_to_exclude": [
    "module",
    "function",
    "builtin_function_or_method",
    "instance",
    "_Feature"
   ],
   "window_display": false
  }
 },
 "nbformat": 4,
 "nbformat_minor": 2
}
